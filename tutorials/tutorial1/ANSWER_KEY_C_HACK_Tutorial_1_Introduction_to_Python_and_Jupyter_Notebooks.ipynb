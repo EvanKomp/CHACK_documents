{
 "cells": [
  {
   "cell_type": "markdown",
   "metadata": {
    "id": "vhe1yX4AMckE"
   },
   "source": [
    "# **C-HACK Tutorial 1: Introduction to Python and Jupyter Notebooks**"
   ]
  },
  {
   "cell_type": "markdown",
   "metadata": {
    "id": "i63E5leaNn_v"
   },
   "source": [
    "**Instructor**: redacted\n",
    "\n",
    "**Contact**: redacted\n",
    "\n",
    "Welcome to C-HACK 2022! This first tutorial of the week will have you establish a working knowledge of the tools required for this inaugural Hackathon in Chemical Engineering. This includes computer coding, as a light introduction, as well as navigating the Jupyter Notebook environment (the environment you're currently viewing as you're reading this!). \n",
    "\n",
    "**Acknowledgements**:\n",
    "- Tutorial reviewers:  redacted\n",
    "\n",
    "As a reminder, please visit the official C-HACK website at redacted for general information and help. This site lists our tutorials, projects, and the teams for the Hackathon. Let's start with coding!"
   ]
  },
  {
   "cell_type": "markdown",
   "metadata": {
    "id": "yodoFrKdaB2z"
   },
   "source": [
    "## 1.1 Coding in Python"
   ]
  },
  {
   "cell_type": "markdown",
   "metadata": {
    "id": "iFyz9RzCxvyp"
   },
   "source": [
    "**Goal**: Write a series of commands to perform a set of tasks and instructions that the computer can help us accomplish."
   ]
  },
  {
   "cell_type": "markdown",
   "metadata": {
    "id": "lEJjSUTBY-LX"
   },
   "source": [
    "### 1.1.1 Introduction to Python"
   ]
  },
  {
   "cell_type": "markdown",
   "metadata": {
    "id": "WB9yFRLChGgt"
   },
   "source": [
    "![python_logo.jpg](data:image/jpeg;base64,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)\n",
    "\n",
    "In the next few sections, we'll be executing various lines of code right here in this interactive, Google Colab notebook. \n",
    "\n",
    "**The syntax for Python is understandable to read and easy to learn**, compared to the syntax of other languages that requires more of a background of underlying computer science - languages such as Java, C, and C++. For this Hackathon, you'll discover that Python is especially ideal for working with scientific data. Topics such as data science, machine learning, and data visualization will be covered later on this week - all while continuing to utilize Python.\n",
    "\n",
    "<u>Note</u>: this tutorial is covering syntax for version 3.x of Python. As you continue learning Python elsewhere, please advise that Python version 2 is no longer supported, and older tutorials and books may be outdated as a result.*"
   ]
  },
  {
   "cell_type": "markdown",
   "metadata": {
    "id": "ozKiVGp6CASd"
   },
   "source": [
    "### 1.1.2 A quick primer on Python syntax\n"
   ]
  },
  {
   "cell_type": "markdown",
   "metadata": {
    "id": "8PZQ4xZovRWn"
   },
   "source": [
    "Python's simple, concise syntax allows for faster prototyping of code than other languages such as Java and C++. (However, that does not mean that Python has faster runtime execution than the others!)\n",
    "\n",
    "Printing output to the console is as simple as running Python's built-in print() function. To execute a code cell, you can either click on the Run button next to the cell, or use the keyboard shortcut *SHIFT*+*ENTER*."
   ]
  },
  {
   "cell_type": "code",
   "execution_count": 1,
   "metadata": {
    "colab": {
     "base_uri": "https://localhost:8080/"
    },
    "executionInfo": {
     "elapsed": 48,
     "status": "ok",
     "timestamp": 1641151887230,
     "user": {
      "displayName": "Shachi Mittal",
      "photoUrl": "https://lh3.googleusercontent.com/a/default-user=s64",
      "userId": "12718679233837625329"
     },
     "user_tz": -330
    },
    "id": "StTerRNEC4ZY",
    "outputId": "0d518189-0c81-43e5-e9ea-4d425fb12ecb"
   },
   "outputs": [
    {
     "name": "stdout",
     "output_type": "stream",
     "text": [
      "Hello, C-HACK coders!\n"
     ]
    }
   ],
   "source": [
    "print(\"Hello, C-HACK coders!\")"
   ]
  },
  {
   "cell_type": "markdown",
   "metadata": {
    "id": "VrzDF3_yC-pj"
   },
   "source": [
    "Variables can be created just by typing the name you'd like, followed by the equal sign, and the value you want to assign the variable to. In this case, we'll create a variable called `school` and set it to the value of `\"University of Washington\"`:"
   ]
  },
  {
   "cell_type": "code",
   "execution_count": 2,
   "metadata": {
    "id": "fv9qxGpkDZK8"
   },
   "outputs": [],
   "source": [
    "school = \"University of Washington\""
   ]
  },
  {
   "cell_type": "markdown",
   "metadata": {
    "id": "2iBdttwkwO5R"
   },
   "source": [
    "You may then use created variables elsewhere. For example, we can output the value set for `school` by inputting the variable name into Python's `print()` function:"
   ]
  },
  {
   "cell_type": "code",
   "execution_count": 3,
   "metadata": {
    "colab": {
     "base_uri": "https://localhost:8080/"
    },
    "executionInfo": {
     "elapsed": 47,
     "status": "ok",
     "timestamp": 1641151887232,
     "user": {
      "displayName": "Shachi Mittal",
      "photoUrl": "https://lh3.googleusercontent.com/a/default-user=s64",
      "userId": "12718679233837625329"
     },
     "user_tz": -330
    },
    "id": "lP4ifTgjwdsU",
    "outputId": "e1dd4e13-0410-4edf-91f8-2aded4711c7c"
   },
   "outputs": [
    {
     "name": "stdout",
     "output_type": "stream",
     "text": [
      "University of Washington\n"
     ]
    }
   ],
   "source": [
    "print(school)"
   ]
  },
  {
   "cell_type": "markdown",
   "metadata": {
    "id": "mJBeo8UmWSln"
   },
   "source": [
    "#### Exercise 1 A Very Common Print Statement\n",
    "\n"
   ]
  },
  {
   "cell_type": "markdown",
   "metadata": {
    "id": "ptyRTP2MnOVC"
   },
   "source": [
    "Try printing this statement: Hello World!"
   ]
  },
  {
   "cell_type": "code",
   "execution_count": 4,
   "metadata": {
    "colab": {
     "base_uri": "https://localhost:8080/"
    },
    "executionInfo": {
     "elapsed": 44,
     "status": "ok",
     "timestamp": 1641151887232,
     "user": {
      "displayName": "Shachi Mittal",
      "photoUrl": "https://lh3.googleusercontent.com/a/default-user=s64",
      "userId": "12718679233837625329"
     },
     "user_tz": -330
    },
    "id": "6aP6wVQXX3RI",
    "outputId": "4b0b6ec7-35c7-4088-c714-0473373e1dd6"
   },
   "outputs": [
    {
     "name": "stdout",
     "output_type": "stream",
     "text": [
      "Hello World!\n"
     ]
    }
   ],
   "source": [
    "print(\"Hello World!\")"
   ]
  },
  {
   "cell_type": "markdown",
   "metadata": {
    "id": "DScDhRB09F5N"
   },
   "source": [
    "### 1.1.3 Variables in Python\n",
    "\n"
   ]
  },
  {
   "cell_type": "markdown",
   "metadata": {
    "id": "2cgDQPkJu2y1"
   },
   "source": [
    "**To have values that our computer can store in memory, we use what's called variables**. \n",
    "Here's a basic example of assigning a variable, using '='. Let's call this variable `x` and assign it an integer value  of 25:"
   ]
  },
  {
   "cell_type": "code",
   "execution_count": 5,
   "metadata": {
    "id": "Ff_Eopcz85nk"
   },
   "outputs": [],
   "source": [
    "x = 25"
   ]
  },
  {
   "cell_type": "markdown",
   "metadata": {
    "id": "OqX9ijf887aO"
   },
   "source": [
    "Let's create another variable called `city_name` and assign it the word `\"Seattle\"`:"
   ]
  },
  {
   "cell_type": "code",
   "execution_count": 6,
   "metadata": {
    "id": "yzHBYoxv9NwF"
   },
   "outputs": [],
   "source": [
    "city_name = \"Seattle\""
   ]
  },
  {
   "cell_type": "markdown",
   "metadata": {
    "id": "tCmz0mNnhUdL"
   },
   "source": [
    "And when we need to use this value again, we retrieve that variable by referring to it by the variable name we gave it when first assigned. The `x` variable we created earlier can now be used later, and as many times as we'd like. Existing variables can also be modified. Let's change the value of `x`, after printing its initial value:"
   ]
  },
  {
   "cell_type": "code",
   "execution_count": 7,
   "metadata": {
    "colab": {
     "base_uri": "https://localhost:8080/"
    },
    "executionInfo": {
     "elapsed": 43,
     "status": "ok",
     "timestamp": 1641151887236,
     "user": {
      "displayName": "Shachi Mittal",
      "photoUrl": "https://lh3.googleusercontent.com/a/default-user=s64",
      "userId": "12718679233837625329"
     },
     "user_tz": -330
    },
    "id": "CgYytIIptKFk",
    "outputId": "46808bed-547d-41fc-e041-76cb99aa0917"
   },
   "outputs": [
    {
     "name": "stdout",
     "output_type": "stream",
     "text": [
      "25\n",
      "150\n"
     ]
    }
   ],
   "source": [
    "print(x)\n",
    "x = 150\n",
    "print(x)"
   ]
  },
  {
   "cell_type": "markdown",
   "metadata": {
    "id": "i9NV6jzUuE7z"
   },
   "source": [
    "#### Variable Types"
   ]
  },
  {
   "cell_type": "markdown",
   "metadata": {
    "id": "aGEAiD4-svZ8"
   },
   "source": [
    "Let's explore some common variable data types in Python. The first type to discuss is a **string**, which we've already seen before when we initialized `city_name`. Strings in Python are simply a collection of characters wrapped around quotes, and a string can represent any kind of info depending on how it's used, such as a person's name, a city name (like we just demonstrated), or a complete sentence. Here are some examples of string variables in Python below."
   ]
  },
  {
   "cell_type": "code",
   "execution_count": 8,
   "metadata": {
    "id": "6iNB65U90G-x"
   },
   "outputs": [],
   "source": [
    "another_city_name = \"Portland\"\n",
    "example_sentence = \"This is a sentence\"\n",
    "another_sentence = \"This is another sentence.\""
   ]
  },
  {
   "cell_type": "markdown",
   "metadata": {
    "id": "OmlSbPTf90vp"
   },
   "source": [
    "The other variable types we'll discuss for now are **integers** and **floats**. Consider the integer type as data that can represent any positive whole number or negative whole number. Recall the `x` variable we assigned to 25 and then 150 earlier? That variable would be considered an integer in Python. Here are some other quick examples of Python integer variables.\n"
   ]
  },
  {
   "cell_type": "code",
   "execution_count": 9,
   "metadata": {
    "id": "n1ARG2zqA7e5"
   },
   "outputs": [],
   "source": [
    "integer = 5\n",
    "zip_code = 98195\n",
    "num_trees_seattle = 130000\n"
   ]
  },
  {
   "cell_type": "markdown",
   "metadata": {
    "id": "qzqHsVphB0il"
   },
   "source": [
    "A float in Python is considered any number with decimal point values. This is the main difference between a float and integer. For floats, some examples below show an arbitrary number of decimal places after the decimal point, and ones where a value less than 1 (such as one representing a percentage value) don't require specifying a `0` left of the decimal point."
   ]
  },
  {
   "cell_type": "code",
   "execution_count": 10,
   "metadata": {
    "id": "5ByO4VbFFG0B"
   },
   "outputs": [],
   "source": [
    "y = 21.0\n",
    "half = 0.5\n",
    "pi = 3.141592653589793\n",
    "math_class_percentage = 97.60"
   ]
  },
  {
   "cell_type": "markdown",
   "metadata": {
    "id": "jjD_3pwaImrj"
   },
   "source": [
    "Certain functions in python specifically require integer or float numbers. For instance, accessing the elements of a list is only possible using integer indices. "
   ]
  },
  {
   "cell_type": "code",
   "execution_count": 11,
   "metadata": {
    "colab": {
     "base_uri": "https://localhost:8080/"
    },
    "executionInfo": {
     "elapsed": 40,
     "status": "ok",
     "timestamp": 1641151887239,
     "user": {
      "displayName": "Shachi Mittal",
      "photoUrl": "https://lh3.googleusercontent.com/a/default-user=s64",
      "userId": "12718679233837625329"
     },
     "user_tz": -330
    },
    "id": "vtQLYki2Ih0I",
    "outputId": "53bc27e7-8c3e-4677-9a4e-7c9934a9a109"
   },
   "outputs": [
    {
     "name": "stdout",
     "output_type": "stream",
     "text": [
      "first five numbers are  [1, 2, 3, 4, 5]\n"
     ]
    }
   ],
   "source": [
    "numbers = [1, 2, 3, 4, 5, 6, 7 ]\n",
    "print (\"first five numbers are \", numbers[0:5])\n"
   ]
  },
  {
   "cell_type": "code",
   "execution_count": 12,
   "metadata": {
    "colab": {
     "base_uri": "https://localhost:8080/",
     "height": 184
    },
    "executionInfo": {
     "elapsed": 496,
     "status": "error",
     "timestamp": 1641151887698,
     "user": {
      "displayName": "Shachi Mittal",
      "photoUrl": "https://lh3.googleusercontent.com/a/default-user=s64",
      "userId": "12718679233837625329"
     },
     "user_tz": -330
    },
    "id": "O6qqn-5xJmPp",
    "outputId": "46892e33-3447-4136-eed6-ead04294fc8a"
   },
   "outputs": [
    {
     "ename": "TypeError",
     "evalue": "slice indices must be integers or None or have an __index__ method",
     "output_type": "error",
     "traceback": [
      "\u001b[0;31m---------------------------------------------------------------------------\u001b[0m",
      "\u001b[0;31mTypeError\u001b[0m                                 Traceback (most recent call last)",
      "\u001b[0;32m<ipython-input-12-c9d9f89b0e87>\u001b[0m in \u001b[0;36m<module>\u001b[0;34m\u001b[0m\n\u001b[1;32m      1\u001b[0m \u001b[0;31m#now try and run this\u001b[0m\u001b[0;34m\u001b[0m\u001b[0;34m\u001b[0m\u001b[0;34m\u001b[0m\u001b[0m\n\u001b[0;32m----> 2\u001b[0;31m \u001b[0mprint\u001b[0m \u001b[0;34m(\u001b[0m\u001b[0;34m\"first five numbers are \"\u001b[0m\u001b[0;34m,\u001b[0m \u001b[0mnumbers\u001b[0m\u001b[0;34m[\u001b[0m\u001b[0;36m1.0\u001b[0m\u001b[0;34m:\u001b[0m\u001b[0;36m5.0\u001b[0m\u001b[0;34m]\u001b[0m\u001b[0;34m)\u001b[0m\u001b[0;34m\u001b[0m\u001b[0;34m\u001b[0m\u001b[0m\n\u001b[0m",
      "\u001b[0;31mTypeError\u001b[0m: slice indices must be integers or None or have an __index__ method"
     ]
    }
   ],
   "source": [
    "#now try and run this \n",
    "print (\"first five numbers are \", numbers[1.0:5.0])\n"
   ]
  },
  {
   "cell_type": "code",
   "execution_count": 13,
   "metadata": {
    "colab": {
     "base_uri": "https://localhost:8080/"
    },
    "executionInfo": {
     "elapsed": 5,
     "status": "ok",
     "timestamp": 1641151911209,
     "user": {
      "displayName": "Shachi Mittal",
      "photoUrl": "https://lh3.googleusercontent.com/a/default-user=s64",
      "userId": "12718679233837625329"
     },
     "user_tz": -330
    },
    "id": "JpcxnEkqK0fV",
    "outputId": "885308f7-4488-4400-f1a8-9538c5877b14"
   },
   "outputs": [
    {
     "name": "stdout",
     "output_type": "stream",
     "text": [
      "0 1 2 3 4 5 6 7 8 9 "
     ]
    }
   ],
   "source": [
    "# getting a range of  numbers \n",
    "#range() gives the sequence of numbers and returns a list of numbers. '10' is the stop value in the case below\n",
    "for i in range(10):\n",
    "    print(i, end=\" \")"
   ]
  },
  {
   "cell_type": "code",
   "execution_count": 14,
   "metadata": {
    "colab": {
     "base_uri": "https://localhost:8080/",
     "height": 201
    },
    "executionInfo": {
     "elapsed": 411,
     "status": "error",
     "timestamp": 1641151914374,
     "user": {
      "displayName": "Shachi Mittal",
      "photoUrl": "https://lh3.googleusercontent.com/a/default-user=s64",
      "userId": "12718679233837625329"
     },
     "user_tz": -330
    },
    "id": "RsEFM1NALJ31",
    "outputId": "9e61e0e4-f99b-4bd6-97c3-e0d1ae18773d"
   },
   "outputs": [
    {
     "ename": "TypeError",
     "evalue": "'float' object cannot be interpreted as an integer",
     "output_type": "error",
     "traceback": [
      "\u001b[0;31m---------------------------------------------------------------------------\u001b[0m",
      "\u001b[0;31mTypeError\u001b[0m                                 Traceback (most recent call last)",
      "\u001b[0;32m<ipython-input-14-b63c64bf482f>\u001b[0m in \u001b[0;36m<module>\u001b[0;34m\u001b[0m\n\u001b[1;32m      1\u001b[0m \u001b[0;31m#using range on float numbers\u001b[0m\u001b[0;34m\u001b[0m\u001b[0;34m\u001b[0m\u001b[0;34m\u001b[0m\u001b[0m\n\u001b[0;32m----> 2\u001b[0;31m \u001b[0;32mfor\u001b[0m \u001b[0mi\u001b[0m \u001b[0;32min\u001b[0m \u001b[0mrange\u001b[0m\u001b[0;34m(\u001b[0m\u001b[0;36m10.5\u001b[0m\u001b[0;34m)\u001b[0m\u001b[0;34m:\u001b[0m\u001b[0;34m\u001b[0m\u001b[0;34m\u001b[0m\u001b[0m\n\u001b[0m\u001b[1;32m      3\u001b[0m     \u001b[0mprint\u001b[0m\u001b[0;34m(\u001b[0m\u001b[0mi\u001b[0m\u001b[0;34m,\u001b[0m \u001b[0mend\u001b[0m \u001b[0;34m=\u001b[0m\u001b[0;34m\" \"\u001b[0m\u001b[0;34m)\u001b[0m\u001b[0;34m\u001b[0m\u001b[0;34m\u001b[0m\u001b[0m\n",
      "\u001b[0;31mTypeError\u001b[0m: 'float' object cannot be interpreted as an integer"
     ]
    }
   ],
   "source": [
    "#using range on float numbers \n",
    "for i in range(10.5):\n",
    "    print(i, end =\" \")"
   ]
  },
  {
   "cell_type": "code",
   "execution_count": 15,
   "metadata": {
    "colab": {
     "base_uri": "https://localhost:8080/"
    },
    "executionInfo": {
     "elapsed": 515,
     "status": "ok",
     "timestamp": 1641151918479,
     "user": {
      "displayName": "Shachi Mittal",
      "photoUrl": "https://lh3.googleusercontent.com/a/default-user=s64",
      "userId": "12718679233837625329"
     },
     "user_tz": -330
    },
    "id": "1PZCLODwLUGM",
    "outputId": "663c85c6-c49a-4e31-bae6-053219729f58"
   },
   "outputs": [
    {
     "name": "stdout",
     "output_type": "stream",
     "text": [
      "0.5 1.5 2.5 3.5 4.5 5.5 6.5 7.5 8.5 9.5 "
     ]
    }
   ],
   "source": [
    "#It is not possible to get the floating point sequence using range(), but it is possible using NumPy arange().\n",
    "import numpy as np \n",
    "\n",
    "for  i in np.arange(0.5, 10.5, 1.0):\n",
    "   print(i, end =\" \") "
   ]
  },
  {
   "cell_type": "markdown",
   "metadata": {
    "id": "II5QGAq2_92X"
   },
   "source": [
    "Be aware that ***Python is a programming language in which variables are dynamically typed, meaning we do not need to declare the specific type of the variable when we initialize it***. Because of this feature of Python, executing `x = 25` will automatically turn this variable into an integer by default due to its value of 25. Likewise, executing `x = 25.0` instead will make `x` the float type.\n",
    "\n",
    "You can check the type of any existing variable in Python by using the built-in `type()` function. Remember `city_name` that we created earlier? We can confirm the type by running `type(city_name)`:"
   ]
  },
  {
   "cell_type": "code",
   "execution_count": 16,
   "metadata": {
    "colab": {
     "base_uri": "https://localhost:8080/"
    },
    "executionInfo": {
     "elapsed": 417,
     "status": "ok",
     "timestamp": 1641151921957,
     "user": {
      "displayName": "Shachi Mittal",
      "photoUrl": "https://lh3.googleusercontent.com/a/default-user=s64",
      "userId": "12718679233837625329"
     },
     "user_tz": -330
    },
    "id": "qmyYUMeOssfx",
    "outputId": "e1488096-a1b5-4c62-e279-2bf97351ffbb"
   },
   "outputs": [
    {
     "data": {
      "text/plain": [
       "str"
      ]
     },
     "execution_count": 16,
     "metadata": {},
     "output_type": "execute_result"
    }
   ],
   "source": [
    "type(city_name)"
   ]
  },
  {
   "cell_type": "markdown",
   "metadata": {
    "id": "rsGHQZSzqbSS"
   },
   "source": [
    "#### Exercise 2 Create and change some variables\n",
    "\n",
    "Start by initializing a variable named `hundred` and assign it an integer value of 100 in the code cell below."
   ]
  },
  {
   "cell_type": "code",
   "execution_count": 17,
   "metadata": {
    "id": "H0kN8B7nJKw-"
   },
   "outputs": [],
   "source": [
    "hundred = 100"
   ]
  },
  {
   "cell_type": "markdown",
   "metadata": {
    "id": "-XegPJ7FXVXS"
   },
   "source": [
    "Now create another variable called `my_UG_school` and assign it the string value of your respective school in the code cell below."
   ]
  },
  {
   "cell_type": "code",
   "execution_count": 18,
   "metadata": {
    "id": "kQZ474iMXzfg"
   },
   "outputs": [],
   "source": [
    "my_UG_school = \"Indian Institute of Technology Delhi\""
   ]
  },
  {
   "cell_type": "markdown",
   "metadata": {
    "id": "kykMX4fyaQSD"
   },
   "source": [
    "There are many more variable types to explore in Python, both ones built-in to Python and ones created by open-source libraries. The next tutorials this week will cover more of these types."
   ]
  },
  {
   "cell_type": "markdown",
   "metadata": {
    "id": "UHwvZ0WuxLPd"
   },
   "source": [
    "### 1.1.4 Math with Python"
   ]
  },
  {
   "cell_type": "markdown",
   "metadata": {
    "id": "HYGrEJ-Dp9Fm"
   },
   "source": [
    "#### Basic Operators"
   ]
  },
  {
   "cell_type": "markdown",
   "metadata": {
    "id": "Jb8n2Xl_jQLr"
   },
   "source": [
    "Python allows users to performing mathematical operations fairly easily. As many tutorials will explain, you can use Python just like a calculator! The most basic operation, adding 1 with 1, is as follows, using the plus sign (`+`) for addition:"
   ]
  },
  {
   "cell_type": "code",
   "execution_count": 19,
   "metadata": {
    "colab": {
     "base_uri": "https://localhost:8080/"
    },
    "executionInfo": {
     "elapsed": 473,
     "status": "ok",
     "timestamp": 1641151931276,
     "user": {
      "displayName": "Shachi Mittal",
      "photoUrl": "https://lh3.googleusercontent.com/a/default-user=s64",
      "userId": "12718679233837625329"
     },
     "user_tz": -330
    },
    "id": "4B4-cH_ElHyS",
    "outputId": "40f620fb-bed4-4142-d9c4-e47bdc2cbeb3"
   },
   "outputs": [
    {
     "data": {
      "text/plain": [
       "5"
      ]
     },
     "execution_count": 19,
     "metadata": {},
     "output_type": "execute_result"
    }
   ],
   "source": [
    "2 + 3"
   ]
  },
  {
   "cell_type": "markdown",
   "metadata": {
    "id": "QXmWFmTal4cO"
   },
   "source": [
    "Subtraction is done with the minus sign in Python (`-`) and also works as expected here:"
   ]
  },
  {
   "cell_type": "code",
   "execution_count": 20,
   "metadata": {
    "colab": {
     "base_uri": "https://localhost:8080/"
    },
    "executionInfo": {
     "elapsed": 405,
     "status": "ok",
     "timestamp": 1641151934243,
     "user": {
      "displayName": "Shachi Mittal",
      "photoUrl": "https://lh3.googleusercontent.com/a/default-user=s64",
      "userId": "12718679233837625329"
     },
     "user_tz": -330
    },
    "id": "2SPgHLcgl-td",
    "outputId": "6a925adb-70f6-4204-9aec-83bef827e42e"
   },
   "outputs": [
    {
     "data": {
      "text/plain": [
       "18"
      ]
     },
     "execution_count": 20,
     "metadata": {},
     "output_type": "execute_result"
    }
   ],
   "source": [
    "50 - 32"
   ]
  },
  {
   "cell_type": "markdown",
   "metadata": {
    "id": "QlIaCKzjmk8L"
   },
   "source": [
    "Multiplication is performed by the asterisk sign (`*`) in Python:"
   ]
  },
  {
   "cell_type": "code",
   "execution_count": 21,
   "metadata": {
    "colab": {
     "base_uri": "https://localhost:8080/"
    },
    "executionInfo": {
     "elapsed": 3,
     "status": "ok",
     "timestamp": 1641151936550,
     "user": {
      "displayName": "Shachi Mittal",
      "photoUrl": "https://lh3.googleusercontent.com/a/default-user=s64",
      "userId": "12718679233837625329"
     },
     "user_tz": -330
    },
    "id": "8OVgqvpImusg",
    "outputId": "12f247d5-e713-4e24-bf15-2ea2dd456122"
   },
   "outputs": [
    {
     "data": {
      "text/plain": [
       "675"
      ]
     },
     "execution_count": 21,
     "metadata": {},
     "output_type": "execute_result"
    }
   ],
   "source": [
    "15 * 45"
   ]
  },
  {
   "cell_type": "markdown",
   "metadata": {
    "id": "oZE3zLHwmZiB"
   },
   "source": [
    "You may combine as many arithmetic operators in one line as you need:"
   ]
  },
  {
   "cell_type": "code",
   "execution_count": 22,
   "metadata": {
    "colab": {
     "base_uri": "https://localhost:8080/"
    },
    "executionInfo": {
     "elapsed": 4,
     "status": "ok",
     "timestamp": 1641151938270,
     "user": {
      "displayName": "Shachi Mittal",
      "photoUrl": "https://lh3.googleusercontent.com/a/default-user=s64",
      "userId": "12718679233837625329"
     },
     "user_tz": -330
    },
    "id": "5b1coj7um4H_",
    "outputId": "d4b28061-4e94-48e3-b61a-1e660c377adf"
   },
   "outputs": [
    {
     "data": {
      "text/plain": [
       "123"
      ]
     },
     "execution_count": 22,
     "metadata": {},
     "output_type": "execute_result"
    }
   ],
   "source": [
    "10 + 5 * 14 - 7 + 20 * 3 - 10"
   ]
  },
  {
   "cell_type": "markdown",
   "metadata": {
    "id": "X4pAlKDc_NcB"
   },
   "source": [
    "Please be aware that order or operations apply for programming as well, and Python is no exception. Python follows operator precedence, specifically **PEMDAS** - any operations in parentheses (**P**) take precedence, followed by exponents (**E**), multiplication (**M**) & division (**D**), and then addition (**A**) & subtraction (**S**). Run the following code:"
   ]
  },
  {
   "cell_type": "code",
   "execution_count": 23,
   "metadata": {
    "colab": {
     "base_uri": "https://localhost:8080/"
    },
    "executionInfo": {
     "elapsed": 3,
     "status": "ok",
     "timestamp": 1641151940716,
     "user": {
      "displayName": "Shachi Mittal",
      "photoUrl": "https://lh3.googleusercontent.com/a/default-user=s64",
      "userId": "12718679233837625329"
     },
     "user_tz": -330
    },
    "id": "TAyQ-edf_IF4",
    "outputId": "985f2d8e-a9df-4de1-c9af-105a04778d12"
   },
   "outputs": [
    {
     "data": {
      "text/plain": [
       "19"
      ]
     },
     "execution_count": 23,
     "metadata": {},
     "output_type": "execute_result"
    }
   ],
   "source": [
    "5 * 3 + 4"
   ]
  },
  {
   "cell_type": "code",
   "execution_count": 24,
   "metadata": {
    "colab": {
     "base_uri": "https://localhost:8080/"
    },
    "executionInfo": {
     "elapsed": 5,
     "status": "ok",
     "timestamp": 1641151942516,
     "user": {
      "displayName": "Shachi Mittal",
      "photoUrl": "https://lh3.googleusercontent.com/a/default-user=s64",
      "userId": "12718679233837625329"
     },
     "user_tz": -330
    },
    "id": "_qDt6-wx_bgI",
    "outputId": "9ca62116-156f-4f7d-81e5-429ebe0872c5"
   },
   "outputs": [
    {
     "data": {
      "text/plain": [
       "35"
      ]
     },
     "execution_count": 24,
     "metadata": {},
     "output_type": "execute_result"
    }
   ],
   "source": [
    "5 * (3 + 4)"
   ]
  },
  {
   "cell_type": "markdown",
   "metadata": {
    "id": "tSIC7_mFZOim"
   },
   "source": [
    "And based on the data type, you can peform the same mathematical operations for variables. Suppose `a = 12` and `b = 24` are already defined, we can multiply the two variables together by simply referring to their names and using Python's multiplication operator: `a * b`."
   ]
  },
  {
   "cell_type": "code",
   "execution_count": 25,
   "metadata": {
    "colab": {
     "base_uri": "https://localhost:8080/"
    },
    "executionInfo": {
     "elapsed": 390,
     "status": "ok",
     "timestamp": 1641151945343,
     "user": {
      "displayName": "Shachi Mittal",
      "photoUrl": "https://lh3.googleusercontent.com/a/default-user=s64",
      "userId": "12718679233837625329"
     },
     "user_tz": -330
    },
    "id": "5im2YxY7Zm3i",
    "outputId": "738ac3b3-8065-4097-d755-4510e5728495"
   },
   "outputs": [
    {
     "data": {
      "text/plain": [
       "288"
      ]
     },
     "execution_count": 25,
     "metadata": {},
     "output_type": "execute_result"
    }
   ],
   "source": [
    "a = 12\n",
    "b = 24\n",
    "a * b"
   ]
  },
  {
   "cell_type": "markdown",
   "metadata": {
    "id": "ICnxDrtlqQjI"
   },
   "source": [
    "#### Exercise 3 Discover More Operators On Your Own!\n",
    "\n",
    "Beyond the three arithmetic operators we have just demonstrated for you, there are more in Python to discover. To start, try typing `14 / 4` in the empty code cell below:"
   ]
  },
  {
   "cell_type": "code",
   "execution_count": 26,
   "metadata": {
    "colab": {
     "base_uri": "https://localhost:8080/"
    },
    "executionInfo": {
     "elapsed": 5,
     "status": "ok",
     "timestamp": 1641151947219,
     "user": {
      "displayName": "Shachi Mittal",
      "photoUrl": "https://lh3.googleusercontent.com/a/default-user=s64",
      "userId": "12718679233837625329"
     },
     "user_tz": -330
    },
    "id": "O4gajr4nq9hd",
    "outputId": "2664bbb6-a285-4be2-c2ac-8df10bd0311f"
   },
   "outputs": [
    {
     "data": {
      "text/plain": [
       "3.5"
      ]
     },
     "execution_count": 26,
     "metadata": {},
     "output_type": "execute_result"
    }
   ],
   "source": [
    "14 / 4"
   ]
  },
  {
   "cell_type": "markdown",
   "metadata": {
    "id": "uHG35IFyrCAF"
   },
   "source": [
    "Just by typing the computation and seeing the output on your own, you can quickly recognize that `/` is a division operator. Now try `14 % 4` in the empty code below. From the output, can you guess what the `%` sign in Python accomplishes here?"
   ]
  },
  {
   "cell_type": "code",
   "execution_count": 27,
   "metadata": {
    "colab": {
     "base_uri": "https://localhost:8080/"
    },
    "executionInfo": {
     "elapsed": 497,
     "status": "ok",
     "timestamp": 1641151950531,
     "user": {
      "displayName": "Shachi Mittal",
      "photoUrl": "https://lh3.googleusercontent.com/a/default-user=s64",
      "userId": "12718679233837625329"
     },
     "user_tz": -330
    },
    "id": "kekjRYDXrnlo",
    "outputId": "71d68bea-3996-437b-a58f-249a8b7163e0"
   },
   "outputs": [
    {
     "data": {
      "text/plain": [
       "2"
      ]
     },
     "execution_count": 27,
     "metadata": {},
     "output_type": "execute_result"
    }
   ],
   "source": [
    "14 % 4"
   ]
  },
  {
   "cell_type": "code",
   "execution_count": 28,
   "metadata": {
    "colab": {
     "base_uri": "https://localhost:8080/"
    },
    "executionInfo": {
     "elapsed": 17,
     "status": "ok",
     "timestamp": 1641151952594,
     "user": {
      "displayName": "Shachi Mittal",
      "photoUrl": "https://lh3.googleusercontent.com/a/default-user=s64",
      "userId": "12718679233837625329"
     },
     "user_tz": -330
    },
    "id": "Z9SE4AEmR0E6",
    "outputId": "920145b6-6e49-456d-daf8-ee0c483e07c1"
   },
   "outputs": [
    {
     "name": "stdout",
     "output_type": "stream",
     "text": [
      "2\n"
     ]
    }
   ],
   "source": [
    "y = 14 % 4\n",
    "print(y)"
   ]
  },
  {
   "cell_type": "markdown",
   "metadata": {
    "id": "TSwfSd-JnDFh"
   },
   "source": [
    "#### Exercise 4 Consistent Variable Types\n",
    "\n"
   ]
  },
  {
   "cell_type": "markdown",
   "metadata": {
    "id": "bNrcABwOyErM"
   },
   "source": [
    "#### The difference between 5, 5.0, and \"5\"\n",
    "\n",
    "While more complex computations are possible beyond the basics that we just covered, you should first understand how mixing variable types can lead to errors and unexpected output. Consider two variables, `num1 = 5` and `num2 = 5.0`. From what you learned in section 1.1.3, `num1` represents an integer, while `num2` represents a float."
   ]
  },
  {
   "cell_type": "code",
   "execution_count": 29,
   "metadata": {
    "id": "35Ox6koJbtlN"
   },
   "outputs": [],
   "source": [
    "num1 = 5\n",
    "num2 = 5.0"
   ]
  },
  {
   "cell_type": "markdown",
   "metadata": {
    "id": "UEoNUPotcL6o"
   },
   "source": [
    "For this example, what happens when we add `num1` and `num2` together in Python, as in, run the code `num1 + num2`?"
   ]
  },
  {
   "cell_type": "code",
   "execution_count": 30,
   "metadata": {
    "colab": {
     "base_uri": "https://localhost:8080/"
    },
    "executionInfo": {
     "elapsed": 413,
     "status": "ok",
     "timestamp": 1641151959952,
     "user": {
      "displayName": "Shachi Mittal",
      "photoUrl": "https://lh3.googleusercontent.com/a/default-user=s64",
      "userId": "12718679233837625329"
     },
     "user_tz": -330
    },
    "id": "n9UoBoGHcbKp",
    "outputId": "8840095d-8c53-4a13-a094-be4ce1839722"
   },
   "outputs": [
    {
     "data": {
      "text/plain": [
       "10.0"
      ]
     },
     "execution_count": 30,
     "metadata": {},
     "output_type": "execute_result"
    }
   ],
   "source": [
    "num1 + num2"
   ]
  },
  {
   "cell_type": "markdown",
   "metadata": {
    "id": "EXmqyc8dcobd"
   },
   "source": [
    "As you see from the output of that operation, the result is 10.0, which is a float. **_What this means is that for any operation that uses a float type in Python, the default type of the result will also be a float_**. In this example, mixing an integer (`num1`) and float (`num2`) together by addition resulted in 10.0 and not 10, even if the sum is a whole number. Although mixing the two data types did not cause a runtime error, you should recognize this behavior in the near future, when such computations result in output that you may not expect - and possibly lead you to some functionality that causes an error elsewhere.\n",
    "\n",
    "Finally, let's discuss a third variable, called `num3`, and let's assign it a value of `\"5\"`."
   ]
  },
  {
   "cell_type": "code",
   "execution_count": 31,
   "metadata": {
    "id": "3U1EogFPeC1v"
   },
   "outputs": [],
   "source": [
    "num3 = \"5\""
   ]
  },
  {
   "cell_type": "markdown",
   "metadata": {
    "id": "5mP7TgAzeEgD"
   },
   "source": [
    "If we try adding `num1` with `num3`, or 5 + \"5\", what is our output now from the code `num1 + num3`?"
   ]
  },
  {
   "cell_type": "code",
   "execution_count": 32,
   "metadata": {
    "colab": {
     "base_uri": "https://localhost:8080/",
     "height": 166
    },
    "executionInfo": {
     "elapsed": 478,
     "status": "error",
     "timestamp": 1641151965837,
     "user": {
      "displayName": "Shachi Mittal",
      "photoUrl": "https://lh3.googleusercontent.com/a/default-user=s64",
      "userId": "12718679233837625329"
     },
     "user_tz": -330
    },
    "id": "eHnGROTXefmU",
    "outputId": "5ad14a6b-758a-41d5-b581-4b3feabd79df"
   },
   "outputs": [
    {
     "ename": "TypeError",
     "evalue": "unsupported operand type(s) for +: 'int' and 'str'",
     "output_type": "error",
     "traceback": [
      "\u001b[0;31m---------------------------------------------------------------------------\u001b[0m",
      "\u001b[0;31mTypeError\u001b[0m                                 Traceback (most recent call last)",
      "\u001b[0;32m<ipython-input-32-976865fa96c2>\u001b[0m in \u001b[0;36m<module>\u001b[0;34m\u001b[0m\n\u001b[0;32m----> 1\u001b[0;31m \u001b[0mnum1\u001b[0m \u001b[0;34m+\u001b[0m \u001b[0mnum3\u001b[0m\u001b[0;34m\u001b[0m\u001b[0;34m\u001b[0m\u001b[0m\n\u001b[0m",
      "\u001b[0;31mTypeError\u001b[0m: unsupported operand type(s) for +: 'int' and 'str'"
     ]
    }
   ],
   "source": [
    "num1 + num3"
   ]
  },
  {
   "cell_type": "markdown",
   "metadata": {
    "id": "Vwo1AIKmejfK"
   },
   "source": [
    "The output is neither a 10 or a 10.0 - instead, we receive a TypeError. **_Python does not allow you to perform mathematical operations with an integer and string together_**. Because `num1` is an integer, and `num3` is a string type - given the double quotes around 5 - adding the two together in Python results in this TypeError, even if the string represents a numeric character.\n",
    "\n",
    "The same goes for combining floats with strings: is our output from the code `num2` (float) and `num3` (string) any different?"
   ]
  },
  {
   "cell_type": "code",
   "execution_count": 33,
   "metadata": {
    "colab": {
     "base_uri": "https://localhost:8080/",
     "height": 166
    },
    "executionInfo": {
     "elapsed": 400,
     "status": "error",
     "timestamp": 1641151968990,
     "user": {
      "displayName": "Shachi Mittal",
      "photoUrl": "https://lh3.googleusercontent.com/a/default-user=s64",
      "userId": "12718679233837625329"
     },
     "user_tz": -330
    },
    "id": "e-F4u2-wfez_",
    "outputId": "9f9a5f14-f77a-494f-c9b6-f2293eb3d4dd"
   },
   "outputs": [
    {
     "ename": "TypeError",
     "evalue": "unsupported operand type(s) for +: 'float' and 'str'",
     "output_type": "error",
     "traceback": [
      "\u001b[0;31m---------------------------------------------------------------------------\u001b[0m",
      "\u001b[0;31mTypeError\u001b[0m                                 Traceback (most recent call last)",
      "\u001b[0;32m<ipython-input-33-78b73f907e8d>\u001b[0m in \u001b[0;36m<module>\u001b[0;34m\u001b[0m\n\u001b[0;32m----> 1\u001b[0;31m \u001b[0mnum2\u001b[0m \u001b[0;34m+\u001b[0m \u001b[0mnum3\u001b[0m\u001b[0;34m\u001b[0m\u001b[0;34m\u001b[0m\u001b[0m\n\u001b[0m",
      "\u001b[0;31mTypeError\u001b[0m: unsupported operand type(s) for +: 'float' and 'str'"
     ]
    }
   ],
   "source": [
    "num2 + num3"
   ]
  },
  {
   "cell_type": "markdown",
   "metadata": {
    "id": "RUizK1mwfgov"
   },
   "source": [
    "Nope! Same TypeError results here. One workaround/solution for this is converting the `num3` string variable into either a float or a integer, using Python's built-in `float()` and `int()` functions respectively. Let's try adding `num1` and `num3` again, only this time using `int()` to convert `num3` into an integer type, running the full line of code as `num1 + int(num3)`."
   ]
  },
  {
   "cell_type": "code",
   "execution_count": 34,
   "metadata": {
    "colab": {
     "base_uri": "https://localhost:8080/"
    },
    "executionInfo": {
     "elapsed": 410,
     "status": "ok",
     "timestamp": 1641151972370,
     "user": {
      "displayName": "Shachi Mittal",
      "photoUrl": "https://lh3.googleusercontent.com/a/default-user=s64",
      "userId": "12718679233837625329"
     },
     "user_tz": -330
    },
    "id": "ZqAR-cgIgN6O",
    "outputId": "c29fb598-fe1b-41d9-d630-2fe0bbf2e098"
   },
   "outputs": [
    {
     "data": {
      "text/plain": [
       "10"
      ]
     },
     "execution_count": 34,
     "metadata": {},
     "output_type": "execute_result"
    }
   ],
   "source": [
    "num1 + int(num3)"
   ]
  },
  {
   "cell_type": "markdown",
   "metadata": {
    "id": "kU4U-xytgSiN"
   },
   "source": [
    "This time, we get no TypeError - the output is 10! This example only works because the string represented by `num3` was a valid convertible string (\"5\") to begin with. In other words, if `num3` was \"Five\" instead of \"5\", we would not be able to execute `int(num3)` without getting an error."
   ]
  },
  {
   "cell_type": "code",
   "execution_count": 35,
   "metadata": {
    "colab": {
     "base_uri": "https://localhost:8080/",
     "height": 184
    },
    "executionInfo": {
     "elapsed": 8,
     "status": "error",
     "timestamp": 1641151974437,
     "user": {
      "displayName": "Shachi Mittal",
      "photoUrl": "https://lh3.googleusercontent.com/a/default-user=s64",
      "userId": "12718679233837625329"
     },
     "user_tz": -330
    },
    "id": "HZFMCJuxhjkp",
    "outputId": "90230aa0-11ec-410c-dd2b-095a425854ef"
   },
   "outputs": [
    {
     "ename": "ValueError",
     "evalue": "invalid literal for int() with base 10: 'Five'",
     "output_type": "error",
     "traceback": [
      "\u001b[0;31m---------------------------------------------------------------------------\u001b[0m",
      "\u001b[0;31mValueError\u001b[0m                                Traceback (most recent call last)",
      "\u001b[0;32m<ipython-input-35-8558c48bc25b>\u001b[0m in \u001b[0;36m<module>\u001b[0;34m\u001b[0m\n\u001b[1;32m      1\u001b[0m \u001b[0mnum3\u001b[0m \u001b[0;34m=\u001b[0m \u001b[0;34m\"Five\"\u001b[0m\u001b[0;34m\u001b[0m\u001b[0;34m\u001b[0m\u001b[0m\n\u001b[0;32m----> 2\u001b[0;31m \u001b[0mnum1\u001b[0m \u001b[0;34m+\u001b[0m \u001b[0mint\u001b[0m\u001b[0;34m(\u001b[0m\u001b[0mnum3\u001b[0m\u001b[0;34m)\u001b[0m\u001b[0;34m\u001b[0m\u001b[0;34m\u001b[0m\u001b[0m\n\u001b[0m",
      "\u001b[0;31mValueError\u001b[0m: invalid literal for int() with base 10: 'Five'"
     ]
    }
   ],
   "source": [
    "num3 = \"Five\"\n",
    "num1 + int(num3)"
   ]
  },
  {
   "cell_type": "markdown",
   "metadata": {
    "id": "JJBoSOndHI5B"
   },
   "source": [
    "### 1.1.5 Code comments with '#'"
   ]
  },
  {
   "cell_type": "markdown",
   "metadata": {
    "id": "Dbq4xN9bIrhv"
   },
   "source": [
    "Comments are notes in your code, and can serve many purposes, such as:\n",
    "- Describing the functionality of some code \n",
    "- A reminder to fix an existing issue\n",
    "- Clarify details of some code for yourself and/or others\n",
    "\n",
    "**You can create a comment by using '#', and when the Python interpreter sees this syntax, it doesn't run that as code and recognizes it as a comment instead**. For example, for a mathematical operation, let's add a comment at the end of the line to describe what this performs:"
   ]
  },
  {
   "cell_type": "code",
   "execution_count": 36,
   "metadata": {
    "colab": {
     "base_uri": "https://localhost:8080/"
    },
    "executionInfo": {
     "elapsed": 7,
     "status": "ok",
     "timestamp": 1641151978283,
     "user": {
      "displayName": "Shachi Mittal",
      "photoUrl": "https://lh3.googleusercontent.com/a/default-user=s64",
      "userId": "12718679233837625329"
     },
     "user_tz": -330
    },
    "id": "sh_X96DbJBpe",
    "outputId": "8232c25b-f917-47b8-f3bb-b0516bc78f16"
   },
   "outputs": [
    {
     "data": {
      "text/plain": [
       "15"
      ]
     },
     "execution_count": 36,
     "metadata": {},
     "output_type": "execute_result"
    }
   ],
   "source": [
    "# Comment in the same line \n",
    "10 + 5  # Adds 10 to 5, so we get 15"
   ]
  },
  {
   "cell_type": "code",
   "execution_count": 37,
   "metadata": {
    "colab": {
     "base_uri": "https://localhost:8080/"
    },
    "executionInfo": {
     "elapsed": 5,
     "status": "ok",
     "timestamp": 1641151980121,
     "user": {
      "displayName": "Shachi Mittal",
      "photoUrl": "https://lh3.googleusercontent.com/a/default-user=s64",
      "userId": "12718679233837625329"
     },
     "user_tz": -330
    },
    "id": "fVslRkdVNHc8",
    "outputId": "89a77111-25b8-44ed-fde7-4c048c2218fc"
   },
   "outputs": [
    {
     "data": {
      "text/plain": [
       "15"
      ]
     },
     "execution_count": 37,
     "metadata": {},
     "output_type": "execute_result"
    }
   ],
   "source": [
    "# comment as its own line\n",
    "# Adds 10 to 5, so we get 15\n",
    "10 + 5"
   ]
  },
  {
   "cell_type": "markdown",
   "metadata": {
    "id": "8lLWjpXoK1Tg"
   },
   "source": [
    "You can also use comments to add lines of code that you don't want to run but want to save the syntax for a later time. "
   ]
  },
  {
   "cell_type": "code",
   "execution_count": 38,
   "metadata": {
    "colab": {
     "base_uri": "https://localhost:8080/"
    },
    "executionInfo": {
     "elapsed": 408,
     "status": "ok",
     "timestamp": 1641151983120,
     "user": {
      "displayName": "Shachi Mittal",
      "photoUrl": "https://lh3.googleusercontent.com/a/default-user=s64",
      "userId": "12718679233837625329"
     },
     "user_tz": -330
    },
    "id": "HTCjhO2eLQiX",
    "outputId": "4134ecdf-9578-4d05-85cf-418cb09b3460"
   },
   "outputs": [
    {
     "name": "stdout",
     "output_type": "stream",
     "text": [
      "Only the second line is printed.\n"
     ]
    }
   ],
   "source": [
    "# print(\"This sentence won't get printed as the line of code is commented\")\n",
    "print(\"Only the second line is printed.\")"
   ]
  },
  {
   "cell_type": "markdown",
   "metadata": {
    "id": "v-bNrZ9ZxO8J"
   },
   "source": [
    "#### Exercise 5 Add a comment to a line of code"
   ]
  },
  {
   "cell_type": "markdown",
   "metadata": {
    "id": "ZcJM9ESHe4Fc"
   },
   "source": [
    "Let's write a comment that explains the following line of code, `25 % 7`."
   ]
  },
  {
   "cell_type": "code",
   "execution_count": 39,
   "metadata": {
    "colab": {
     "base_uri": "https://localhost:8080/"
    },
    "executionInfo": {
     "elapsed": 392,
     "status": "ok",
     "timestamp": 1641151986658,
     "user": {
      "displayName": "Shachi Mittal",
      "photoUrl": "https://lh3.googleusercontent.com/a/default-user=s64",
      "userId": "12718679233837625329"
     },
     "user_tz": -330
    },
    "id": "sDHU8setfOot",
    "outputId": "8a6a8f99-4f18-42c4-f2db-6378d715e77b"
   },
   "outputs": [
    {
     "data": {
      "text/plain": [
       "4"
      ]
     },
     "execution_count": 39,
     "metadata": {},
     "output_type": "execute_result"
    }
   ],
   "source": [
    "25 % 7 # the remainder from 25 divided by 7"
   ]
  },
  {
   "cell_type": "markdown",
   "metadata": {
    "id": "p1s8OPWqfYfv"
   },
   "source": [
    "Comments in your code are optional, but are recommended to help better inform readers of your code. Building a habit of writing comments may even help you understand and better explain your own code too!  "
   ]
  },
  {
   "cell_type": "markdown",
   "metadata": {
    "id": "_dWpBFg1TWQi"
   },
   "source": [
    "### 1.1.6 Where can you run Python?\n",
    "\n",
    "\n",
    "\n"
   ]
  },
  {
   "cell_type": "markdown",
   "metadata": {
    "id": "uZiljFyuh0eG"
   },
   "source": [
    "Because of its flexibility as a programming language, Python can be utilized in many different ways. Here are just a few:\n",
    "\n",
    "- Line by line in a Python interpreter in a command line Terminal window\n",
    "- As a script that you execute from the command line\n",
    "- Using Python to create a full GUI (Graphical User Interface) that runs on your desktop computer\n",
    "- Executing Python directly from an IDE (Integrated Development Environment) such as [PyCharm](https://www.jetbrains.com/pycharm/) or [Visual Studio Code](https://code.visualstudio.com)\n",
    "- Executing Python code with an app that has a built-in Python interpreter, such as [Pythonista](http://omz-software.com/pythonista/)\n",
    "- Developing and running Python code in interactive notebooks like Jupyter Notebook\n",
    "- Executing Python on a cloud platform \\- such as here in this Google Colab notebook\n",
    "\n",
    "You don't need to understand every example that was just listed. Instead, the point is for us to recognize how ubiquitous Python has become. We're about to focus on the last two items on this list in the very next section!"
   ]
  },
  {
   "cell_type": "markdown",
   "metadata": {
    "id": "OWiIHY9Z6HCy"
   },
   "source": [
    "There's much more to learn with Python! So far, we've only introduced a small fraction of what's possible with this language. The rest of the C-HACK tutorials will cover many aspects of executing computations/data analysis in Python."
   ]
  },
  {
   "cell_type": "markdown",
   "metadata": {
    "id": "wTy1SsQjaaU0"
   },
   "source": [
    "## 1.2 Interactive Notebooks\n",
    "\n"
   ]
  },
  {
   "cell_type": "markdown",
   "metadata": {
    "id": "TeeWIVytrcO-"
   },
   "source": [
    "### 1.2.1 Using interactive notebooks for code vs any other way\n",
    "\n",
    "After just having discussed the many ways you can deploy and develop Python, we'll focus on the one way that will be used for our Hackathon: interactive Python notebooks. Such notebooks - like the one you're viewing right now - are self-contained collections of interactive cells that can be modified and presented like a scientific notebook. By allowing us to combine code with formattable text, images, and interactive data visualizations, this gives us a great way to share and collaborate with others on our work.\n"
   ]
  },
  {
   "cell_type": "markdown",
   "metadata": {
    "id": "cpv4Oqqv0Gy3"
   },
   "source": [
    "### 1.2.2 Introducing Jupyter Notebooks\n",
    "\n",
    "Jupyter Notebooks is based on IPython, or Interactive Python. In fact, Jupyter notebooks were formerly known as IPython notebooks. Discussing the underlying IPython kernel which powers these notebooks is beyond the scope of this tutorial; however, it's important to, at least, recognize where the *.ipynb* filename extension comes from."
   ]
  },
  {
   "cell_type": "markdown",
   "metadata": {
    "id": "HKXTJHtX1csI"
   },
   "source": [
    "With Jupyter Notebooks, we can utilize the Python language right in a single self-contained environment of code, such as initializing and managing **variables**:"
   ]
  },
  {
   "cell_type": "code",
   "execution_count": 40,
   "metadata": {
    "id": "zcdXbaOz1ajb"
   },
   "outputs": [],
   "source": [
    "var1 = 5\n",
    "var2 = 10\n",
    "var3 = [5, 10, 15]"
   ]
  },
  {
   "cell_type": "markdown",
   "metadata": {
    "id": "-wvmpsFH1-ZJ"
   },
   "source": [
    "We can also write **functions** that can be used later on in a notebook:"
   ]
  },
  {
   "cell_type": "code",
   "execution_count": 41,
   "metadata": {
    "colab": {
     "base_uri": "https://localhost:8080/"
    },
    "executionInfo": {
     "elapsed": 4,
     "status": "ok",
     "timestamp": 1641151994153,
     "user": {
      "displayName": "Shachi Mittal",
      "photoUrl": "https://lh3.googleusercontent.com/a/default-user=s64",
      "userId": "12718679233837625329"
     },
     "user_tz": -330
    },
    "id": "k1T8OfLD2FQi",
    "outputId": "56d5b2af-e9a6-4184-e388-f15cdc3b8a25"
   },
   "outputs": [
    {
     "name": "stdout",
     "output_type": "stream",
     "text": [
      "0.3402777777777778\n"
     ]
    }
   ],
   "source": [
    "def math_function(x, y):\n",
    "    return x**2/y**2\n",
    "\n",
    "print(math_function(7,12))"
   ]
  },
  {
   "cell_type": "markdown",
   "metadata": {
    "id": "aGrQSJxV20Bm"
   },
   "source": [
    "Visualizations - such as scatterplots, heatmaps, and charts - can also be generated directly inside of a Jupyter notebook as a cell output, and can be saved as a separate image file. This also makes notebooks useful to generate both visual representations of data and interactive reports on that same data. We'll be covering visualizations in Tutorial 4."
   ]
  },
  {
   "cell_type": "code",
   "execution_count": 42,
   "metadata": {
    "colab": {
     "base_uri": "https://localhost:8080/",
     "height": 281
    },
    "executionInfo": {
     "elapsed": 991,
     "status": "ok",
     "timestamp": 1641151997708,
     "user": {
      "displayName": "Shachi Mittal",
      "photoUrl": "https://lh3.googleusercontent.com/a/default-user=s64",
      "userId": "12718679233837625329"
     },
     "user_tz": -330
    },
    "id": "gaAMvoAg3vbN",
    "outputId": "b35cbd2d-47ef-448e-968a-0755442e7d78"
   },
   "outputs": [
    {
     "data": {
      "image/png": "[encoded data removed]",
      "text/plain": [
       "<Figure size 432x288 with 1 Axes>"
      ]
     },
     "metadata": {
      "needs_background": "light"
     },
     "output_type": "display_data"
    }
   ],
   "source": [
    "from sklearn.datasets import make_blobs\n",
    "import matplotlib.pyplot as plt\n",
    "\n",
    "x, y = make_blobs(n_samples=500, n_features = 3, centers=3)\n",
    "plt.scatter(x[:,0], x[:, 1], marker='o', c=y, s=10)\n",
    "plt.title(\"Example visualization\")\n",
    "plt.show()"
   ]
  },
  {
   "cell_type": "markdown",
   "metadata": {
    "id": "xViGkiU6-MeK"
   },
   "source": [
    " Here are some examples of how Jupyter Notebooks can be utilized:\n",
    "\n",
    "- Reports on data analyses\n",
    "- Data visualizations\n",
    "- Technical writing\n",
    "- Scientific research with code\n",
    "- Tutorials for students in a Hackathon"
   ]
  },
  {
   "cell_type": "markdown",
   "metadata": {
    "id": "tSqJdGHpbIee"
   },
   "source": [
    "### 1.2.3 Code cells vs text cells"
   ]
  },
  {
   "cell_type": "markdown",
   "metadata": {
    "id": "KthV9_Ghb8A-"
   },
   "source": [
    "There are two main types of generated cells in Jupyter notebooks: code cells and text cells. You've seen both at this point. Right now, you're looking a text cell that's been created already by a different user. This cannot do any computations but will display the text written in the cell . In the code cell below we will be doing addition (36+145). You can add comments to code cells to make any notes or for clarity. \n"
   ]
  },
  {
   "cell_type": "code",
   "execution_count": 43,
   "metadata": {
    "colab": {
     "base_uri": "https://localhost:8080/"
    },
    "executionInfo": {
     "elapsed": 7,
     "status": "ok",
     "timestamp": 1641152001631,
     "user": {
      "displayName": "Shachi Mittal",
      "photoUrl": "https://lh3.googleusercontent.com/a/default-user=s64",
      "userId": "12718679233837625329"
     },
     "user_tz": -330
    },
    "id": "z5BikjiDpxJe",
    "outputId": "b6321328-5ac8-4138-a260-073911a44eec"
   },
   "outputs": [
    {
     "data": {
      "text/plain": [
       "181"
      ]
     },
     "execution_count": 43,
     "metadata": {},
     "output_type": "execute_result"
    }
   ],
   "source": [
    "36 + 145 # addition in a code cell "
   ]
  },
  {
   "cell_type": "markdown",
   "metadata": {
    "id": "8N_N5elcozzb"
   },
   "source": [
    " To add a new code cell, you can either go to the **Insert** menu and selecting **Code cell**:"
   ]
  },
  {
   "cell_type": "markdown",
   "metadata": {
    "id": "XG6ExtnkpqfV"
   },
   "source": [
    "![Screen Shot 2020-11-29 at 5.08.58 PM.png](data:image/png;base64,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)"
   ]
  },
  {
   "cell_type": "markdown",
   "metadata": {
    "id": "N_KLLedfpx0l"
   },
   "source": [
    "Or by hovering your mouse over to the bottom of a cell and select **\\+ Code**:"
   ]
  },
  {
   "cell_type": "markdown",
   "metadata": {
    "id": "Ru9kPs5zp5EP"
   },
   "source": [
    "![Screen Shot 2020-11-29 at 5.08.27 PM.png](data:image/png;base64,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)"
   ]
  },
  {
   "cell_type": "markdown",
   "metadata": {
    "id": "Py-RuqHDqdtF"
   },
   "source": [
    "#### Exercise 6 Edit A Code Cell\n",
    "\n",
    "So far in this tutorial, you've been creating entirely new code cells to write and execute a few exercises. You can just click in the code cell and make any changes to the code. Type Print (\"Hello World!\" and see if that works and update the code cell so that the code works. "
   ]
  },
  {
   "cell_type": "code",
   "execution_count": 44,
   "metadata": {
    "colab": {
     "base_uri": "https://localhost:8080/"
    },
    "executionInfo": {
     "elapsed": 6,
     "status": "ok",
     "timestamp": 1641152005125,
     "user": {
      "displayName": "Shachi Mittal",
      "photoUrl": "https://lh3.googleusercontent.com/a/default-user=s64",
      "userId": "12718679233837625329"
     },
     "user_tz": -330
    },
    "id": "5vMzAjUoq4_x",
    "outputId": "fdde6911-e048-458f-c375-72135710e7f7"
   },
   "outputs": [
    {
     "name": "stdout",
     "output_type": "stream",
     "text": [
      "Hello World!\n"
     ]
    }
   ],
   "source": [
    "print(\"Hello World!\")"
   ]
  },
  {
   "cell_type": "markdown",
   "metadata": {
    "id": "zNVD2oXFqB_i"
   },
   "source": [
    "Code cells exemplify one possible benefit of running your code in a notebook rather than in a single Python script (.py) file; you can create separate code cells and execute each portion your code separately and as needed. That also means being able to troubleshoot certain lines of code without having to rerun your entire work every time. "
   ]
  },
  {
   "cell_type": "markdown",
   "metadata": {
    "id": "ZuXu5WcntREE"
   },
   "source": [
    "#### Text cells"
   ]
  },
  {
   "cell_type": "markdown",
   "metadata": {
    "id": "8_4cK0Y8lpRK"
   },
   "source": [
    "As the name suggests, a text cell is meant for information and instructions, rather than executing code for assigning variables, importing datasets, or generating plots. One benefit of adding text cells is to help explain code or functionality to viewers of a notebook. You can add a text cell either by going to the **Insert** menu and selecting **Text cell**:\n",
    "\n",
    "![Screen Shot 2020-11-29 at 5.08.58 PM.png](data:image/png;base64,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)\n",
    "\n",
    "Or by hovering your mouse over to the bottom of a cell and selecting **+ Text**:\n",
    "\n",
    "![Screen Shot 2020-11-29 at 5.08.27 PM.png](data:image/png;base64,iVBORw0KGgoAAAANSUhEUgAAAPAAAAA4CAYAAADD7nVLAAABRmlDQ1BJQ0MgUHJvZmlsZQAAKJFjYGASSSwoyGFhYGDIzSspCnJ3UoiIjFJgf8LAzSDLIMDAyKCZmFxc4BgQ4ANUwgCjUcG3a0B1QHBZF2SWwsyI6qCIh3/eH26pV0jd8xRTPQrgSkktTgbSf4A4NbmgqISBgTEFyFYuLykAsTuAbJEioKOA7DkgdjqEvQHEToKwj4DVhAQ5A9k3gGyB5IxEoBmML4BsnSQk8XQkNtReEOAOdjUyNzT30PeIIOBaMkBJakUJiHbOL6gsykzPKFFwBIZSqoJnXrKejoKRgZEBAwMozCGqP98AhyWjGAdCrPgEA4MNEDO1IsRi7jAwbJ3OwCD8HiGmZsTAwLuQgWHPzoLEokS4Axi/sRSnGRtB2NzbGRhYp/3//zmcgYFdk4Hh7/X//39v////7zIGBuZbDAwHvgEATJViGJIk7VIAAABiZVhJZk1NACoAAAAIAAIBEgADAAAAAQABAACHaQAEAAAAAQAAACYAAAAAAAOShgAHAAAAEgAAAFCgAgAEAAAAAQAAAPCgAwAEAAAAAQAAADgAAAAAQVNDSUkAAABTY3JlZW5zaG90KsvnFQAAAjxpVFh0WE1MOmNvbS5hZG9iZS54bXAAAAAAADx4OnhtcG1ldGEgeG1sbnM6eD0iYWRvYmU6bnM6bWV0YS8iIHg6eG1wdGs9IlhNUCBDb3JlIDUuNC4wIj4KICAgPHJkZjpSREYgeG1sbnM6cmRmPSJodHRwOi8vd3d3LnczLm9yZy8xOTk5LzAyLzIyLXJkZi1zeW50YXgtbnMjIj4KICAgICAgPHJkZjpEZXNjcmlwdGlvbiByZGY6YWJvdXQ9IiIKICAgICAgICAgICAgeG1sbnM6ZXhpZj0iaHR0cDovL25zLmFkb2JlLmNvbS9leGlmLzEuMC8iCiAgICAgICAgICAgIHhtbG5zOnRpZmY9Imh0dHA6Ly9ucy5hZG9iZS5jb20vdGlmZi8xLjAvIj4KICAgICAgICAgPGV4aWY6VXNlckNvbW1lbnQ+U2NyZWVuc2hvdDwvZXhpZjpVc2VyQ29tbWVudD4KICAgICAgICAgPGV4aWY6UGl4ZWxYRGltZW5zaW9uPjI0MDwvZXhpZjpQaXhlbFhEaW1lbnNpb24+CiAgICAgICAgIDxleGlmOlBpeGVsWURpbWVuc2lvbj41NjwvZXhpZjpQaXhlbFlEaW1lbnNpb24+CiAgICAgICAgIDx0aWZmOk9yaWVudGF0aW9uPjE8L3RpZmY6T3JpZW50YXRpb24+CiAgICAgIDwvcmRmOkRlc2NyaXB0aW9uPgogICA8L3JkZjpSREY+CjwveDp4bXBtZXRhPgp6xkCuAAALY0lEQVR4Ae2dd4gUOxzHf6dnO3s5excVFQV99oqVpyDoHxbEhoqIqE8Uuyh2bCAoqKCnItgRUREbYsGG9Q8Vu4jlrNjrWZ7fvPdbMruzZWbn9ia3v8DeZJNMJvkk38kv2cxcSlZ6+m8SJwSEgJEE8hhZaim0EBACioAIWDqCEDCYgAjY4MaToguBVB3BwYwMSklJ0YPELwSEgA8I/P79m/4eNiykJBYB58+fn/LkyaNELEIOYSUBQiDhBCBcfH79+mV7bYuA09LSCCJOTU2VkdgWlwQKgcQSgHh//PhB379/t72wRcDFihUjFrGMwLa8JFAIJJQABAzxfv782fa6FgFDvBBxwYIFlSlte4YECgEhkDACMJ2/fv0a9noWAcN8hnjxyZs3b9iTJEIICIHEEPj586e6UDgRWwQMsxmLWBCvCDgxDSRXEQLRCPDCsl06+R3YjoqECQFDCIiADWkoKaYQsCMgArajImFCwBACImBDGkqKKQTsCIiA7ahImBAwhIAI2JCGkmIKATsCImA7KhImBAwhIAI2pKGkmELAjoAI2I6KhAkBQwiIgA1pKCmmELAjYNlKaZfAz2F4UkNcKIHsfpJMuJNvHrc1UsB6B9L9oV05+UIgXmbitZA5X1DV/clGOTsZO2VplID1TgM/fw8+OoVgenoWKncsHNmPunG823oyX5yfrNyZIXPFkf3gwvHwJ9IZJWCA4c6E5yS5M/FRB8fp9LDc5A/uMNyh+IgnWOCC07llwDyDuSM/jgv2u72WX87T2bGf+eLoNWM39TZGwCxSPuI5yffv39O7d+/Cvm7EDRCTz8Hz3MWLF1cvZUA9uNMF+53UkcUZzB3sv3375iSrXJG2QIECii9efAHHggYfnXeiKmuMgBkIQEG8r169UsBq1Kghzy7/Dwdcnj9/rtiUKVNGcfGiU+niZe7VqlVT707jdkmWI95P9eLFCwvjnBIvmBvxMxIAwekd6cOHD1SuXDkRryLz3x+8hAFMwAZiZl7MTksakzcc97JlyyaleAENL3xE/b1iHFNDREhkhIBRfu6MmINlZWWp12zKW0NCWxZMdEbMLTRlbCF8vp4nOnEyO9Rf58GMcoKJMQJmOAAHM0ZcZAJgBFZeOeEeStJrxqFXiB5inIBxt4N5KC4yATahI6eKPVa4h7LymnHoFaKHGCVgdCI/unBvDHRa1rt379K2bducnhYxvRfMvMgjYiENj8xJPsk9mYmz42zYsIGOHTtG9+/fp6JFi1Lv3r1pxIgRrhfW7ty5Q9u3b6f+/fvHWbLcefrJkydp7ty5YSs3ZcoU6tq1a9j4SBFfvnyhx48fU+3atSMl812cUSMw04v3jvf69WsaM2YM4ejWrVu3jg4cOECTJk2iQ4cOETrPvn37lKDd5unlefEysitLvHnGy7158+a0efNm9Vm6dClBdIsWLQqEtWvXzq7YMYXduHGDhg4datmUEu3EeHlEyz+WeONGYC+gYUHm5cuXrhd5cC5G39mzZ1OjRo0U544dO9KDBw9o69atllEgMzOTzp8/r1bOW7RoQVWrVrW0y+XLl+natWtUuXLlkPKgrtevX6crV65QhQoVCNdwsvLuBSsurBd5xcsd/3AAHOB4gS49PT0QxmV99uwZnT59Wu0TaN++PeE3cWw8OX78OLVq1YpwDhzaBQtRRYoUoTNnzqiwvXv3UuPGjUPaSUXa/PGCi022MQcZOQLHXLtsSnjz5k3VOZo2bWq5Qr9+/Wjs2LGBVXJ0EITBzMZnyJAhlhF6y5YtKv2lS5fo4MGDtHr1akt+K1asoMmTJyvTbtWqVTR+/HhHI4QlsyT5cvHiRRowYADhxnj48GEaPHgwPXz4UO2eOnHiBC1fvlyRQBisJmx0wcaMJ0+eqHCsQ0DspjjjRmC3YGG+8V2bTWc+Ik/say1dunRM2aORMZKWKlXKkr5w4cLq7o1A/FY9c+ZMGjVqlOpQCIP5t2zZMmrZsqUS+fr165Uo+/Tpg2glYJjjcOfOnaM9e/bQ7t27VbmwcaBnz55qpGjTpo1KY8IfL7lHqy9G0xkzZtC4ceOoV69eKvnEiRNp06ZNNGvWLCXYgQMH0tmzZ5Wl1LlzZ2rdurVKh7Y8deoUTZgwQYk62rX8Ep80Aoa5C9NXdwhjB7MKo1wsDjcC3sgeLj0WpPAf5WD2suvSpQutWbOGcAPATxBYvW7bti1HU/Xq1QOdB2ZzlSpVlJnHCcqXL0+3bt0ikwTsJXfmEO547949+vTpk2KL9Qk47Fm+ffu28mMHFdY+UCaY4wsWLFDhJv+xCHjHjh2EUYT/0bdfKoZ5Bn+440MMTtycOXMsIzAaEWE86kYTpH4tCAkm2MePH9X8iePwbyAx58V8FvMwdBJsbWSHuRjYwkRDPeDX4zkdjjDpsEiD0YIdVkjDpec0fMRqNv+TOt5w73RfNDPH0Q/cuW7hjmCGOl69etWSpGHDhoHvsH5gBTVr1kz9chCIcOHxgnG0y2KwQL/Cjekfm8QWAfft25dKlixJhQoVcrRYYpOvp0HckdCJUBkIRzd/Y7kYC1VPizBe0NDDo/nr16+vbiiYu3bo0CGQHA165MgRZbJVqlRJjbCYLyM9HBarUH4IkZ+iwohar169QB7swWIN4ubNm8dBjo6Ye2NxBjcJLHyxiJ1k4jfu0cpesWJFdZOGmVy3bl3b5IsXL1YLWZgrY6ErHmvGC8a2hdQC0edxI3/z5g3Rn7IHO1nECiYSw3c8AQULAHNYjMSY7164cIF27txJgwYNUmKpU6cONWjQQKV59OiRSoe5WJMmTdQoChHXrFmTMjIy6OnTp+rpFsx3IRq4Hj16qCeLNm7cqG5YEDzEDPNbnD0BMMdn7dq1gXbZtWtXYHPM/v37CT8XTZs2jUaOHElLlixRbJEb38jRFia5pBQwzGU0mBOzObhRp0+fTjDNhg8fTlgMmTp1KnXr1k35kRYj3vz589WIixEB6fLly6d+t+R4bEqAuHEnh/BxY2AHP87HQhYWr7DQhREVojfVecE9Ut2R/8KFCwPMu3fvTkePHqVOnTqpleaVK1fS6NGjqUSJEmrTDaY0WOmHw6IkzGtsosGN1BSXkpWeHtifmPnHJPS7CY3RDiuyMKHZNM1J2JijwLzBKma4OSZMIJixMGft3Nu3b9WD+OHORzwWY2K94WCUwfQAu8Nw0/DChPYbdzuOehiYgyfWAZw4WDrgFo21V4yjlU03oSv89VdIcsscOCTWpwHhOnpOFBcNbTe/1suCNYVIDiNCJBct3u7c7GCUHXnald2LsGjMw10DbzSJ1fmBR1Ka0LE2kKQTAn4nYJSA/XDH83uDBpfPC2Ze5BFcrtz0PSf5GCVgNDpgMTDMD8RZCTATnZM1hbtven7Y8ZTMjuuvM8kpHkYKGPNOLMzgBW7cYXMKoJ+uCxZgAjZgxDc6L8qIvJg79g5zJ/Yib5PyQL1R/+xg7IaDMYtYfLfDEfDwek+s/uJ3u7S0NDd1z3XnYOsmFm+wmw6MdGZuK6vnIdxJbY/1mrHbtsF5RggYnQgbHHDEKICXigEiRhzsb8YeWH5QgTdCxAPFpHPBBA5csM2SfwYEI30U5nRO6haJO14vmyzcmR14Yhutl4ydtIddWiMErBccEPF7Kj9QUKtWLar+5yEAfGfx8lE/Lzf6uWPhCC4YIfG7J6wTMEKYF47zR55gi3yxoQTvhs7t3MMxBmdmzGm8YO00D2MErEPijopRBp0VI3GwaIO/OwXj9/Q6D5QV38EFTPCBH2H8cVsfnA+WnD94I2/mjnx11rrf7TX9ch7qzI79doyRhuM5faKOlp1YibqoXEcICAFvCHhjY3lTFslFCAgBhwREwA6BSXIh4CcCImA/tYaURQg4JPAvUHxw4VOJjJEAAAAASUVORK5CYII=)"
   ]
  },
  {
   "cell_type": "markdown",
   "metadata": {
    "id": "zNN9GudI_8Yt"
   },
   "source": [
    "You may edit an existing text cell by just double-clicking on one and editing the content in the text cell. You can also have as many text cells as you want, cells that comprise technically any word length. "
   ]
  },
  {
   "cell_type": "markdown",
   "metadata": {
    "id": "0HTjUVzCt3MC"
   },
   "source": [
    "#### Exercise 7 Write a very UW Text cell\n",
    "\n",
    "Create a simple text cell that reads the official tagline of UW (hint: https://www.washington.edu/brand/brand-guide/tagline/)"
   ]
  },
  {
   "cell_type": "markdown",
   "metadata": {
    "id": "F8-NMloIXzvI"
   },
   "source": [
    "Be Boundless"
   ]
  },
  {
   "cell_type": "markdown",
   "metadata": {
    "id": "T871RhLjtHPu"
   },
   "source": [
    "#### Markdown for text cells\n"
   ]
  },
  {
   "cell_type": "markdown",
   "metadata": {
    "id": "dR3YaMlY9X5E"
   },
   "source": [
    "Text cells support Markdown syntax, which is a way to render and format plain text, in addition to giving us more control to structure this text beyond just visually. Markdown is optional and enables you to transform and annotate text within a webpage or here in a Jupyter notebook. **For text cells, using Markdown improves readability, as a set of formatting conventions that's easy to learn and write**.\n",
    "\n",
    "Markdown is a superset of HTML. Discussing HTML is beyond the scope of this tutorial, but there are links to read more about this, later in the notebook."
   ]
  },
  {
   "cell_type": "markdown",
   "metadata": {
    "id": "33UpEt-Exv2Y"
   },
   "source": [
    "#### Exercise 8 Discover some Markdown syntax\n",
    "\n",
    "Create a new text cell below with the UW official tagline like before, only this time add `#` at the beginning of the line. From the output, how does this symbol change the formatting of your text compared to earlier?"
   ]
  },
  {
   "cell_type": "markdown",
   "metadata": {
    "id": "1gadlb-OYVS8"
   },
   "source": [
    "# Be Boundless"
   ]
  },
  {
   "cell_type": "markdown",
   "metadata": {
    "id": "c8m1XCoMyeVW"
   },
   "source": [
    "Now, instead of `#`, add two asterisks, `**`, both before and directly after the tagline. Like previously, type this in a new empty text cell directly below. From the output, what do these asterisks change in the formatting?"
   ]
  },
  {
   "cell_type": "markdown",
   "metadata": {
    "id": "oarJMV98YiLX"
   },
   "source": [
    "**Be Boundless**"
   ]
  },
  {
   "cell_type": "markdown",
   "metadata": {
    "id": "NFBmI-y4ualV"
   },
   "source": [
    "Later in the Breakout section, you'll learn more formatting syntax with Markdown. We also recommend trying out Markdown on a blank new Jupyter notebook for you to experiment with the all the different formatting this markup language has to offer. There is much more to discover with Markdown, and the References section of this notebook gives you a list of resources to learn more."
   ]
  },
  {
   "cell_type": "markdown",
   "metadata": {
    "id": "Zm7N-pX_2WM5"
   },
   "source": [
    "#### Exercise 9 Always double check the type of cell you're running"
   ]
  },
  {
   "cell_type": "code",
   "execution_count": 45,
   "metadata": {
    "colab": {
     "base_uri": "https://localhost:8080/",
     "height": 131
    },
    "executionInfo": {
     "elapsed": 408,
     "status": "error",
     "timestamp": 1641152011332,
     "user": {
      "displayName": "Shachi Mittal",
      "photoUrl": "https://lh3.googleusercontent.com/a/default-user=s64",
      "userId": "12718679233837625329"
     },
     "user_tz": -330
    },
    "id": "KbNR7Cbd2UT-",
    "outputId": "3a317fe4-fc05-49ad-85be-803fd124a48e"
   },
   "outputs": [
    {
     "ename": "SyntaxError",
     "evalue": "invalid syntax (<ipython-input-45-a802d9b52534>, line 1)",
     "output_type": "error",
     "traceback": [
      "\u001b[0;36m  File \u001b[0;32m\"<ipython-input-45-a802d9b52534>\"\u001b[0;36m, line \u001b[0;32m1\u001b[0m\n\u001b[0;31m    It can be easy to mistakenly write something in a code cell, when you actually\u001b[0m\n\u001b[0m         ^\u001b[0m\n\u001b[0;31mSyntaxError\u001b[0m\u001b[0;31m:\u001b[0m invalid syntax\n"
     ]
    }
   ],
   "source": [
    "It can be easy to mistakenly write something in a code cell, when you actually\n",
    "wanted a text cell instead. For example... what happens when you hit the Play\n",
    "button on this particular cell?"
   ]
  },
  {
   "cell_type": "markdown",
   "metadata": {
    "id": "yVIfyMep_VZx"
   },
   "source": [
    "### 1.2.4 Other details on Jupyter Notebooks\n",
    "\n",
    "- Jupyter Notebooks (.ipynb) don't just work with web browsers\n",
    "    - There are IDEs such as **[Visual Studio Code](https://code.visualstudio.com)** that have extensions which allow you to create and these .ipynb files right on the editor.\n",
    "- Python isn't the only language supported by Jupyter, as you can also run notebooks with R and Julia as well, by adding specific computing engines for them.\n",
    "- Notebooks - both in Jupyter and Google Colab - can integrate directly with GitHub repositories"
   ]
  },
  {
   "cell_type": "markdown",
   "metadata": {
    "id": "v4q1c1N60M7Z"
   },
   "source": [
    "### 1.2.5 ...So what does this have to do with Google Colab?"
   ]
  },
  {
   "cell_type": "markdown",
   "metadata": {
    "id": "Do_o5N4M88kv"
   },
   "source": [
    "**Google Colab** is based on Jupyter Notebook. Both the notebook platform and the development machine are hosted right on *Google Cloud Platform* running in your web browser - no need to install Python or external libraries locally on your computer! That also means collaborating with others without them needing to install any local Python installation or external libraries that your shared notebook may rely on.\n",
    "\n",
    "We'll be using Google Colab for this C-HACK 2022 event. That includes all tutorials and projects. As a reminder, you may view our information on getting set up with C-HACK at https://www.c-hack.org/setting-up."
   ]
  },
  {
   "cell_type": "markdown",
   "metadata": {
    "id": "GzBaBW8W457D"
   },
   "source": [
    "Google Colab includes many external Python libraries pre-installed. You've seen examples of these used already! Some of the most popular scientific libraries include:\n",
    "- NumPy\n",
    "- SciPy\n",
    "- Pandas\n",
    "- Scikit-Learn\n",
    "- TensorFlow\n",
    "- Matplotlib\n",
    "\n",
    "To view the full list of installed packages, run the following command:"
   ]
  },
  {
   "cell_type": "code",
   "execution_count": null,
   "metadata": {
    "colab": {
     "base_uri": "https://localhost:8080/"
    },
    "executionInfo": {
     "elapsed": 1142,
     "status": "ok",
     "timestamp": 1641152016921,
     "user": {
      "displayName": "Shachi Mittal",
      "photoUrl": "https://lh3.googleusercontent.com/a/default-user=s64",
      "userId": "12718679233837625329"
     },
     "user_tz": -330
    },
    "id": "VGCdLMtb9ivO",
    "outputId": "59634776-8e5a-40b5-a9e3-e77792d92065"
   },
   "outputs": [],
   "source": [
    "!pip freeze"
   ]
  },
  {
   "cell_type": "markdown",
   "metadata": {
    "id": "OsUMuy1ME0SJ"
   },
   "source": [
    "*Note: the exclamation point syntax seen at the beginning of `!pip freeze` is for running Terminal/Shell commands directly within Jupyter notebooks. Terminal commands are outside of the scope of this tutorial.*"
   ]
  },
  {
   "cell_type": "markdown",
   "metadata": {
    "id": "gYkWTZQh-WL-"
   },
   "source": [
    "Google Colab allows you to upload files - either locally or from Google Drive - to use inside of notebook. You will need to create a shortcut to the shared folder in your own google drive.\n"
   ]
  },
  {
   "cell_type": "markdown",
   "metadata": {
    "id": "6lWMWiGiFwbW"
   },
   "source": [
    "Evan Komp has created a short, helpful video on how to load a file directly into Google Colab. You can view the video [here](https://youtu.be/OYwD4kBuZNw)"
   ]
  },
  {
   "cell_type": "code",
   "execution_count": 47,
   "metadata": {
    "id": "g4vLNh9lFwbV"
   },
   "outputs": [],
   "source": [
    "# loading the modules ( you are going to see these modules in the next couple of tutorials)\n",
    "# modules should be imported at the top of a notebook before executing any tasks\n",
    "import pandas as pd\n",
    "import matplotlib as plt\n",
    "import numpy as np"
   ]
  },
  {
   "cell_type": "code",
   "execution_count": null,
   "metadata": {
    "colab": {
     "base_uri": "https://localhost:8080/"
    },
    "executionInfo": {
     "elapsed": 19565,
     "status": "ok",
     "timestamp": 1641152043827,
     "user": {
      "displayName": "Shachi Mittal",
      "photoUrl": "https://lh3.googleusercontent.com/a/default-user=s64",
      "userId": "12718679233837625329"
     },
     "user_tz": -330
    },
    "id": "LtAWcjcxFwbV",
    "outputId": "0e13cf5a-a6de-48b5-ac5b-01d40adf1e0c"
   },
   "outputs": [
    {
     "name": "stdout",
     "output_type": "stream",
     "text": [
      "Mounted at /content/drive\n"
     ]
    }
   ],
   "source": [
    "# Sync your google drive folder\n",
    "from google.colab import drive\n",
    "drive.mount(\"/content/drive\")\n",
    "your_path_to_data_file=\"/content/drive/MyDrive/TUTORIALS/NOAA_storm_data/cleaned_data.csv\""
   ]
  },
  {
   "cell_type": "code",
   "execution_count": null,
   "metadata": {
    "id": "_EuW6VrLFwbV"
   },
   "outputs": [],
   "source": [
    "# loading the dataset\n",
    "df=pd.read_csv(your_path_to_data_file,index_col=0)"
   ]
  },
  {
   "cell_type": "markdown",
   "metadata": {
    "id": "XMrbM-b4W6H7"
   },
   "source": [
    "You are going to learn the different aspects of this data and analysis in the subsequent tutorials. An example plot that will be covered in Tutorial 5 is shown below:\n",
    "\n",
    "![NOAA_clustering_plot.png](data:image/png;base64,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)"
   ]
  },
  {
   "cell_type": "markdown",
   "metadata": {
    "id": "-AnBH4qDxk7W"
   },
   "source": [
    "\n",
    "\n",
    "\n",
    "## 1.3 Breakout Room "
   ]
  },
  {
   "cell_type": "markdown",
   "metadata": {
    "id": "b0HBQbKD5-jx"
   },
   "source": [
    "This first Breakout Room / Session of the tutorial portion of C-HACK will aim to review the concepts we discussed today."
   ]
  },
  {
   "cell_type": "markdown",
   "metadata": {
    "id": "O4pwVw5ZdIqS"
   },
   "source": [
    "#### 1 Python variables\n",
    "\n",
    "In the empty code cell below, create the following four variables:\n",
    "- A string variable named `favorite_national_park` that represents your favorite movie\n",
    "- A string variable named `seattle_restaurant` that represents your favorite restaurant in Seattle\n",
    "- An integer variable named `number_of_steps` that represents the number of steps you walked today\n",
    "- A float variable named `Typical_bike_cost` that represents the typical cost of a bike according to you. \n",
    "\n",
    "Then after they are declared, print each one using the print() function explained in section 1.1.2."
   ]
  },
  {
   "cell_type": "code",
   "execution_count": null,
   "metadata": {
    "id": "1AXZpA-cdXKP"
   },
   "outputs": [],
   "source": [
    "favorite_national_park = \"Yellowstone National Park\"\n",
    "seattle_restaurant = \"Chaat House\"\n",
    "Number_of_steps = 5000 \n",
    "Typical_bike_cost = 150"
   ]
  },
  {
   "cell_type": "code",
   "execution_count": null,
   "metadata": {
    "colab": {
     "base_uri": "https://localhost:8080/"
    },
    "executionInfo": {
     "elapsed": 4,
     "status": "ok",
     "timestamp": 1641152055020,
     "user": {
      "displayName": "Shachi Mittal",
      "photoUrl": "https://lh3.googleusercontent.com/a/default-user=s64",
      "userId": "12718679233837625329"
     },
     "user_tz": -330
    },
    "id": "GGUS4YLkhZD7",
    "outputId": "16d34585-1b2e-41b7-cedc-aed87d5fb444"
   },
   "outputs": [
    {
     "name": "stdout",
     "output_type": "stream",
     "text": [
      "Yellowstone National Park\n",
      "Chaat House\n",
      "5000\n",
      "150\n"
     ]
    }
   ],
   "source": [
    "print(favorite_national_park)\n",
    "print(seattle_restaurant)\n",
    "print(Number_of_steps)\n",
    "print(Typical_bike_cost)"
   ]
  },
  {
   "cell_type": "markdown",
   "metadata": {
    "id": "TlvYLQj7gBat"
   },
   "source": [
    "To check if each variable is the correct data type, use the type() function explained from section 1.1.3, in the empty code cell below. For example, `type(favorite_national_park)` should return the output `<class 'str'>`, which indicates the string type."
   ]
  },
  {
   "cell_type": "code",
   "execution_count": null,
   "metadata": {
    "colab": {
     "base_uri": "https://localhost:8080/"
    },
    "executionInfo": {
     "elapsed": 417,
     "status": "ok",
     "timestamp": 1641152058356,
     "user": {
      "displayName": "Shachi Mittal",
      "photoUrl": "https://lh3.googleusercontent.com/a/default-user=s64",
      "userId": "12718679233837625329"
     },
     "user_tz": -330
    },
    "id": "P8Ekw_XY9Rj2",
    "outputId": "ae7140b7-5899-4140-adce-b89f6a5a62d8"
   },
   "outputs": [
    {
     "data": {
      "text/plain": [
       "str"
      ]
     },
     "execution_count": 52,
     "metadata": {},
     "output_type": "execute_result"
    }
   ],
   "source": [
    "type(favorite_national_park)"
   ]
  },
  {
   "cell_type": "code",
   "execution_count": null,
   "metadata": {
    "colab": {
     "base_uri": "https://localhost:8080/"
    },
    "executionInfo": {
     "elapsed": 3,
     "status": "ok",
     "timestamp": 1641152060394,
     "user": {
      "displayName": "Shachi Mittal",
      "photoUrl": "https://lh3.googleusercontent.com/a/default-user=s64",
      "userId": "12718679233837625329"
     },
     "user_tz": -330
    },
    "id": "Pp0q7I2b9bHu",
    "outputId": "d6fb1043-55c0-4d62-f8dc-bebd3dc65e58"
   },
   "outputs": [
    {
     "data": {
      "text/plain": [
       "str"
      ]
     },
     "execution_count": 53,
     "metadata": {},
     "output_type": "execute_result"
    }
   ],
   "source": [
    "type(seattle_restaurant)"
   ]
  },
  {
   "cell_type": "code",
   "execution_count": null,
   "metadata": {
    "colab": {
     "base_uri": "https://localhost:8080/"
    },
    "executionInfo": {
     "elapsed": 3,
     "status": "ok",
     "timestamp": 1641152062138,
     "user": {
      "displayName": "Shachi Mittal",
      "photoUrl": "https://lh3.googleusercontent.com/a/default-user=s64",
      "userId": "12718679233837625329"
     },
     "user_tz": -330
    },
    "id": "pfj4GTnC9nBn",
    "outputId": "d5bbabcd-82fb-4e5a-a23e-e6b15afee8f6"
   },
   "outputs": [
    {
     "data": {
      "text/plain": [
       "int"
      ]
     },
     "execution_count": 54,
     "metadata": {},
     "output_type": "execute_result"
    }
   ],
   "source": [
    "type(Number_of_steps)"
   ]
  },
  {
   "cell_type": "code",
   "execution_count": null,
   "metadata": {
    "colab": {
     "base_uri": "https://localhost:8080/"
    },
    "executionInfo": {
     "elapsed": 4,
     "status": "ok",
     "timestamp": 1641152063973,
     "user": {
      "displayName": "Shachi Mittal",
      "photoUrl": "https://lh3.googleusercontent.com/a/default-user=s64",
      "userId": "12718679233837625329"
     },
     "user_tz": -330
    },
    "id": "RTAcmKFl9rot",
    "outputId": "ace2ccfc-f953-44fc-8931-df526ab6c948"
   },
   "outputs": [
    {
     "data": {
      "text/plain": [
       "int"
      ]
     },
     "execution_count": 55,
     "metadata": {},
     "output_type": "execute_result"
    }
   ],
   "source": [
    "type(Typical_bike_cost)"
   ]
  },
  {
   "cell_type": "code",
   "execution_count": null,
   "metadata": {
    "colab": {
     "base_uri": "https://localhost:8080/"
    },
    "executionInfo": {
     "elapsed": 5,
     "status": "ok",
     "timestamp": 1641152066081,
     "user": {
      "displayName": "Shachi Mittal",
      "photoUrl": "https://lh3.googleusercontent.com/a/default-user=s64",
      "userId": "12718679233837625329"
     },
     "user_tz": -330
    },
    "id": "bRIVq_3RggLB",
    "outputId": "6d42cf6c-0057-400e-b1c1-37e237aa6175"
   },
   "outputs": [
    {
     "name": "stdout",
     "output_type": "stream",
     "text": [
      "1.240239\n",
      "<class 'float'>\n",
      "<class 'str'>\n"
     ]
    }
   ],
   "source": [
    "\n",
    "a = [1.240239, '2']\n",
    "print(a[0])\n",
    "print(type(a[0]))\n",
    "print(type(a[1]))"
   ]
  },
  {
   "cell_type": "markdown",
   "metadata": {
    "id": "lXoPAgV1htlX"
   },
   "source": [
    "#### 2 Practice with math in Python\n",
    "\n",
    "Let's start with a few basic operators that wer covered in section 1.1.4. Write the expression for multiplying 23 by 31, so that running this function will correctly output the product of these two numbers."
   ]
  },
  {
   "cell_type": "code",
   "execution_count": null,
   "metadata": {
    "colab": {
     "base_uri": "https://localhost:8080/"
    },
    "executionInfo": {
     "elapsed": 499,
     "status": "ok",
     "timestamp": 1641152069840,
     "user": {
      "displayName": "Shachi Mittal",
      "photoUrl": "https://lh3.googleusercontent.com/a/default-user=s64",
      "userId": "12718679233837625329"
     },
     "user_tz": -330
    },
    "id": "Mh2_aoVdiBdo",
    "outputId": "198ee077-2870-4038-d52b-b471de8c75a2"
   },
   "outputs": [
    {
     "data": {
      "text/plain": [
       "713"
      ]
     },
     "execution_count": 57,
     "metadata": {},
     "output_type": "execute_result"
    }
   ],
   "source": [
    "23*31"
   ]
  },
  {
   "cell_type": "markdown",
   "metadata": {
    "id": "IaRbtO6KiCBM"
   },
   "source": [
    "Consider the operation written in Python: `27 / 3 + 6`. Write the same syntax in the empty cell below, and modify it to include parentheses in the right location so that the result/answer of the math is 3.0, rather than 15.0."
   ]
  },
  {
   "cell_type": "code",
   "execution_count": null,
   "metadata": {
    "colab": {
     "base_uri": "https://localhost:8080/"
    },
    "executionInfo": {
     "elapsed": 3,
     "status": "ok",
     "timestamp": 1641152071585,
     "user": {
      "displayName": "Shachi Mittal",
      "photoUrl": "https://lh3.googleusercontent.com/a/default-user=s64",
      "userId": "12718679233837625329"
     },
     "user_tz": -330
    },
    "id": "KYGOO284i2Jq",
    "outputId": "9fa6cefd-c5e7-4e01-f382-6aa19a258386"
   },
   "outputs": [
    {
     "data": {
      "text/plain": [
       "3.0"
      ]
     },
     "execution_count": 58,
     "metadata": {},
     "output_type": "execute_result"
    }
   ],
   "source": [
    "27 / (3 + 6)"
   ]
  },
  {
   "cell_type": "markdown",
   "metadata": {
    "id": "3YNWUvgfi3LV"
   },
   "source": [
    "Time to learn more operators beyond the ones we covered earlier. Write the line of code `3 ** 2` in the cell below. From the output, what do you think the double asterisks (`**`) operator represents in Python?"
   ]
  },
  {
   "cell_type": "code",
   "execution_count": null,
   "metadata": {
    "colab": {
     "base_uri": "https://localhost:8080/"
    },
    "executionInfo": {
     "elapsed": 411,
     "status": "ok",
     "timestamp": 1641152074615,
     "user": {
      "displayName": "Shachi Mittal",
      "photoUrl": "https://lh3.googleusercontent.com/a/default-user=s64",
      "userId": "12718679233837625329"
     },
     "user_tz": -330
    },
    "id": "vJL7ExVMjq6f",
    "outputId": "3536aba2-ad2d-48ae-a4c6-7db857cd8ca2"
   },
   "outputs": [
    {
     "data": {
      "text/plain": [
       "9"
      ]
     },
     "execution_count": 59,
     "metadata": {},
     "output_type": "execute_result"
    }
   ],
   "source": [
    "3 ** 2 #a**b is calculatinng a to the power b "
   ]
  },
  {
   "cell_type": "markdown",
   "metadata": {
    "id": "_zfMqrrtkINb"
   },
   "source": [
    "Write the line of code `28 / 3` below. Then just below the line in the same cell, write the code `28 // 3`. Compare the differences in output between the two. Can you decipher what `//` means in Python?"
   ]
  },
  {
   "cell_type": "code",
   "execution_count": null,
   "metadata": {
    "colab": {
     "base_uri": "https://localhost:8080/"
    },
    "executionInfo": {
     "elapsed": 15,
     "status": "ok",
     "timestamp": 1641152076523,
     "user": {
      "displayName": "Shachi Mittal",
      "photoUrl": "https://lh3.googleusercontent.com/a/default-user=s64",
      "userId": "12718679233837625329"
     },
     "user_tz": -330
    },
    "id": "bLzljZ2nkHnP",
    "outputId": "3e112947-b9c3-4dd0-95e6-f7506a31a430"
   },
   "outputs": [
    {
     "data": {
      "text/plain": [
       "9"
      ]
     },
     "execution_count": 60,
     "metadata": {},
     "output_type": "execute_result"
    }
   ],
   "source": [
    "28 / 3\n",
    "28//3 \n",
    "#// is returning floor division\n"
   ]
  },
  {
   "cell_type": "markdown",
   "metadata": {
    "id": "fTGXdUqvlrJK"
   },
   "source": [
    "Now for more complicated mathematical operations! Try to write the Python equivalent of the following:\n",
    "\n",
    "$\\frac{14 + 28}{28 - 14}$"
   ]
  },
  {
   "cell_type": "code",
   "execution_count": null,
   "metadata": {
    "colab": {
     "base_uri": "https://localhost:8080/"
    },
    "executionInfo": {
     "elapsed": 9,
     "status": "ok",
     "timestamp": 1641152079242,
     "user": {
      "displayName": "Shachi Mittal",
      "photoUrl": "https://lh3.googleusercontent.com/a/default-user=s64",
      "userId": "12718679233837625329"
     },
     "user_tz": -330
    },
    "id": "MMqvz_JXmaGv",
    "outputId": "8722f555-e96d-47be-ad73-2ba140e33bc8"
   },
   "outputs": [
    {
     "data": {
      "text/plain": [
       "3.0"
      ]
     },
     "execution_count": 61,
     "metadata": {},
     "output_type": "execute_result"
    }
   ],
   "source": [
    "(14 + 28) / (28 - 14)"
   ]
  },
  {
   "cell_type": "markdown",
   "metadata": {
    "id": "wmntjBztmatb"
   },
   "source": [
    "Now try this one:\n",
    "\n",
    "$\\frac{15 + 984}{-(217+4)}$"
   ]
  },
  {
   "cell_type": "code",
   "execution_count": null,
   "metadata": {
    "colab": {
     "base_uri": "https://localhost:8080/"
    },
    "executionInfo": {
     "elapsed": 410,
     "status": "ok",
     "timestamp": 1641152081977,
     "user": {
      "displayName": "Shachi Mittal",
      "photoUrl": "https://lh3.googleusercontent.com/a/default-user=s64",
      "userId": "12718679233837625329"
     },
     "user_tz": -330
    },
    "id": "ZrDfdW1bmjUF",
    "outputId": "91f7c0fc-1530-4602-c94b-e28d9b42af8e"
   },
   "outputs": [
    {
     "data": {
      "text/plain": [
       "-4.520361990950226"
      ]
     },
     "execution_count": 62,
     "metadata": {},
     "output_type": "execute_result"
    }
   ],
   "source": [
    "(15 + 984) / -(217 + 4)"
   ]
  },
  {
   "cell_type": "markdown",
   "metadata": {
    "id": "Z9PBEXQKm0W_"
   },
   "source": [
    "And finally, write the Python equivalent for this:\n",
    "\n",
    "$\\frac{-(3655 * 44)}{(8 * 16)^3}$"
   ]
  },
  {
   "cell_type": "code",
   "execution_count": null,
   "metadata": {
    "colab": {
     "base_uri": "https://localhost:8080/"
    },
    "executionInfo": {
     "elapsed": 4,
     "status": "ok",
     "timestamp": 1641152083805,
     "user": {
      "displayName": "Shachi Mittal",
      "photoUrl": "https://lh3.googleusercontent.com/a/default-user=s64",
      "userId": "12718679233837625329"
     },
     "user_tz": -330
    },
    "id": "34Zw1uLhnN3-",
    "outputId": "9cb4d87d-4d05-40ff-ce80-d8bdf4bdb3c5"
   },
   "outputs": [
    {
     "data": {
      "text/plain": [
       "-0.07668495178222656"
      ]
     },
     "execution_count": 63,
     "metadata": {},
     "output_type": "execute_result"
    }
   ],
   "source": [
    "-(3655*44) / (8*16)**3"
   ]
  },
  {
   "cell_type": "markdown",
   "metadata": {
    "id": "UgTm-9K5HX0F"
   },
   "source": [
    "#### 3 Practice writing helpful comments\n",
    "\n",
    "Consider the following code below. No need to decipher and understand every piece but just be aware of the output when you run the code cell. Based on the output, modify the code cell by adding a code comment at the top of the cell briefly explaining what the code does. This comment can be as many lines as you'd like, and may or may not include direct references to the example print statements below."
   ]
  },
  {
   "cell_type": "code",
   "execution_count": null,
   "metadata": {
    "colab": {
     "base_uri": "https://localhost:8080/"
    },
    "executionInfo": {
     "elapsed": 4,
     "status": "ok",
     "timestamp": 1641152086098,
     "user": {
      "displayName": "Shachi Mittal",
      "photoUrl": "https://lh3.googleusercontent.com/a/default-user=s64",
      "userId": "12718679233837625329"
     },
     "user_tz": -330
    },
    "id": "cIBcxtcPHpII",
    "outputId": "298c6ad7-7840-49d2-e470-c1269b81e997"
   },
   "outputs": [
    {
     "name": "stdout",
     "output_type": "stream",
     "text": [
      "n o t g n i h s a W f O y t i s r e v i n U\n",
      "r a e Y w e N\n",
      "r a d a R\n"
     ]
    }
   ],
   "source": [
    "# this function takes a string, puts it in reverse and adds a whitespace in between each character\n",
    "def mystery_function(x):\n",
    "    y = list(x)\n",
    "    return \" \".join(y[::-1])\n",
    "\n",
    "print(mystery_function(\"UniversityOfWashington\"))\n",
    "print(mystery_function(\"NewYear\"))\n",
    "print(mystery_function(\"Radar\"))"
   ]
  },
  {
   "cell_type": "markdown",
   "metadata": {
    "id": "EPQvTgAWoCvB"
   },
   "source": [
    "#### 4 More Markdown\n",
    "\n",
    "Consider the vision statement of Chemical Engineering: \"Knowledge and solutions for a changing world\". Type that same statement in a new text cell below, only add a `_` (underscore) at the beginning and end. What ends up happening to the format of the text as a result?"
   ]
  },
  {
   "cell_type": "markdown",
   "metadata": {
    "id": "GX9YG0OCqRHL"
   },
   "source": [
    "_Knowledge and solutions for a changing world_\n",
    "\n",
    "\n"
   ]
  },
  {
   "cell_type": "markdown",
   "metadata": {
    "id": "f3PKpVzLpfRc"
   },
   "source": [
    "In a new text cell, list all of the expected classes you'll be taking in the Winter Quarter, with each class name on its own separate line. Then add a `- ` at the beginning of each line; include a single space between the hyphen and the first letter in your class name! Based on the output, what can you decipher that this `- ` changes in the formatting?"
   ]
  },
  {
   "cell_type": "markdown",
   "metadata": {
    "id": "dw4P8OqbqtMz"
   },
   "source": [
    "- Intro to Data science\n",
    "- Math and Statistics\n",
    "- _Thermodynamics_"
   ]
  },
  {
   "cell_type": "markdown",
   "metadata": {
    "id": "fQknBYvNjo7A"
   },
   "source": [
    "#### 5 Get familiar with the Python community\n",
    "\n",
    "Python has strong support from a community of avid developers and computer scientists. The Python Software Foundation (PSF) tries to maintain input and activity through their own website, [python.org](https://). Please explore their community section - https://www.python.org/community/ - and answer the following questions in a new text cell just below this one:\n",
    "- What is the name of the mailing list that the PSF manages for those who have questions about Python code?\n",
    "- In your own words, what is the goal of their Community Survey?\n",
    "- According to their most recent annual report, which continent provides the highest proportion of grants to the PSF?\n",
    "- Name at least three ways that the PSF recommends you can get involved with the community."
   ]
  },
  {
   "cell_type": "markdown",
   "metadata": {
    "id": "miOpG431h5Id"
   },
   "source": [
    "#### 6 Advanced - Create your own Google Colab notebook!\n",
    "\n",
    "Create your own separate Google Colab notebook with the following rules and content:\n",
    "- The file name of your notebook should be in the format ***lastname_tutorial1_breakout_custom_notebook.ipynb***.\n",
    "- Include a header (of any size) that lists your first name and last name, followed by \"**C-HACK**\".\n",
    "- Create a short paragraph bio of yourself in a text cell.\n",
    "- Include/embed an image of the Python logo, which can be found here: https://www.python.org/community/logos/.\n",
    "- Create a code cell with just the line of code: `import this`\n",
    "- Copy and paste the output from that code into a new text cell, format the output as follows:\n",
    "    - Convert the first line into a header\n",
    "    - Bold AND italicize every second line in the output's \"principles\"\n",
    "    - In the last line of the output, replace \"Namespaces\" with \"Hackathons\"\n"
   ]
  },
  {
   "cell_type": "markdown",
   "metadata": {
    "id": "Tf69btkkY_st"
   },
   "source": [
    "## 1.4 Resources & Further Reading\n",
    "\n"
   ]
  },
  {
   "cell_type": "markdown",
   "metadata": {
    "id": "tIgdiuwWwaGO"
   },
   "source": [
    "This section serves as a reference for many other resources to learn more about what was introduced here. If you have any questions about these references, or even have suggestions, please email chemehackathon@uw.edu."
   ]
  },
  {
   "cell_type": "markdown",
   "metadata": {
    "id": "6TDxd6BY-t4j"
   },
   "source": [
    "### Python\n",
    "- [Official Python site - Python.org](https://www.python.org)\n",
    "- [Latest Python Language Reference/Documentation](https://docs.python.org/3/)\n",
    "- [Official Python 3 Tutorial from the Python Software Foundation](https://docs.python.org/3/tutorial/index.html)\n",
    "- [*Python Crash Course*, 2nd Edition by Eric Matthes](https://nostarch.com/pythoncrashcourse2e)\n",
    "- [*Python From The Very Beginning* by John Whitington](https://www.pythonfromtheverybeginning.com)\n",
    "- [*Python Data Science Handbook* by Jake VanderPlas (Free!)](https://jakevdp.github.io/PythonDataScienceHandbook/?utm_source=devfreebooks&utm_medium=medium&utm_campaign=DevFreeBooks)\n",
    "- [Simple Math in Python Notebook Excercises from UW DIRECT](https://github.com/UWDIRECT/UWDIRECT.github.io/blob/master/Wi20_content/SEDS/L2.Simple_Breakout.ipynb)"
   ]
  },
  {
   "cell_type": "markdown",
   "metadata": {
    "id": "7QUEexhooyDA"
   },
   "source": [
    "### Arithmetic Operators in Python\n",
    "\n",
    "Below is a reference table for many of the arithmetic operators you can use with Python, some of which we've already went over:\n",
    "\n",
    "| Symbol | Operation      | Example Code | Expected Ouput      |\n",
    "| ------ | ---------      | -------      | ------------------- |\n",
    "| +      | Addition       | `5 + 5`      | 10                  |\n",
    "| \\-     | Subtraction    | `8 - 3`      | 5                   |\n",
    "| \\*     | Multiplication | `9 * 6`      | 54                  |\n",
    "| \\*\\*   | Exponentiation | `3 ** 2`     | 9                   |\n",
    "| \\/     | Floating-point Division | `9 / 2` | 4.5             |\n",
    "| \\/\\/   | Truncating Division | `9 // 2`| 4                   |\n",
    "| \\%     | Remainder (modulus) | `12 % 5`| 2                   |\n"
   ]
  },
  {
   "cell_type": "markdown",
   "metadata": {
    "id": "7VNe46YIngyz"
   },
   "source": [
    "### Jupyter Notebook\n",
    "\n",
    "- [Project Jupyter - Official Jupyter Website](https://jupyter.org)\n",
    "- [*Read The Docs* - Jupyter Notebook User Documentation by the Official Jupyter Team](https://jupyter-notebook.readthedocs.io/en/stable/)\n",
    "- [*Jupyter Book* - Online open source book](https://jupyterbook.org/intro.html)"
   ]
  },
  {
   "cell_type": "markdown",
   "metadata": {
    "id": "OKa2Vm5Ovb8p"
   },
   "source": [
    "### Markdown\n",
    "\n",
    "- [Google Colab Guide on Markdown](https://colab.research.google.com/notebooks/markdown_guide.ipynb)\n",
    "- [Markdown Guide (From Technical Writer Mark Cone)](https://www.markdownguide.org)\n",
    "- [Jupyter Notebook Docs - Markdown Basics](https://jupyter-notebook.readthedocs.io/en/stable/examples/Notebook/Working%20With%20Markdown%20Cells.html)\n",
    "- [Markdown versus HTML (Google Developers Doc)](https://developers.google.com/style/markdown)\n"
   ]
  }
 ],
 "metadata": {
  "colab": {
   "collapsed_sections": [
    "TSwfSd-JnDFh"
   ],
   "name": "Answer_key_ C_HACK_Tutorial_1_Introduction_to_Python_and_Jupyter_Notebooks.ipynb",
   "provenance": [],
   "toc_visible": true
  },
  "kernelspec": {
   "display_name": "Python 3",
   "language": "python",
   "name": "python3"
  },
  "language_info": {
   "codemirror_mode": {
    "name": "ipython",
    "version": 3
   },
   "file_extension": ".py",
   "mimetype": "text/x-python",
   "name": "python",
   "nbconvert_exporter": "python",
   "pygments_lexer": "ipython3",
   "version": "3.6.10"
  }
 },
 "nbformat": 4,
 "nbformat_minor": 4
}
