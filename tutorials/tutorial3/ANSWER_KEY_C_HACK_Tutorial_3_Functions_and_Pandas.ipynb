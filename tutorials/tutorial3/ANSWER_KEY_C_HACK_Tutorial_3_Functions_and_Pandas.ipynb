{
 "cells": [
  {
   "cell_type": "markdown",
   "metadata": {
    "id": "h5jdGYlw7OMN"
   },
   "source": [
    "# **C-HACK Tutorial 3: Functions and Pandas Introduction**\n",
    "\n",
    "**Instructor**: redacted<br>\n",
    "**Contact**: redacted"
   ]
  },
  {
   "cell_type": "markdown",
   "metadata": {
    "id": "QKS45kaP7OMN"
   },
   "source": [
    "Today, we will discuss **_functions_** in more depth.  We've seen them previously and used them, for example the `.append()` **_function_**.  Here, we'll dig into how you can make your own functions to encapsulate code that you will reuse over and over.  \n",
    "\n",
    "Then we'll jump into the **Pandas** package.  Packages are collections of related functions.  These are the things we `import`. Pandas is a two dimensional data structure like a spreadsheet in Excel."
   ]
  },
  {
   "cell_type": "markdown",
   "metadata": {
    "id": "1rDZTJhW7OMN"
   },
   "source": [
    "### 3.1 Review from Tutorial on Data Structures and Flow Control\n",
    "\n",
    "In our last tutorial, we discussed **_lists_**, **_dictionaries_**, and **_flow control_**.\n",
    "\n",
    "**_Lists_** are **_ordered collections_** of data that can be used to hold multiple pieces of information while preserving thier order.  We use `[` and `]` to access elements by their indices which start with `0`.  All things that operate on **_lists_** like slices use the concept of an inclusive lower bound and an exclusive upper bound.  So, the following gets elements from the **_list_** `my_list` with index values of `0`, `1`, and `2`, but **not** `3`!\n",
    "\n",
    "```\n",
    "my_list[0:3]\n",
    "```\n",
    "\n",
    "It is equivalent to what other way of writing the same statement using **_slicing_**?  Hint, think about leaving out one of the numbers in the slice!\n",
    "\n",
    "**_Dictionaries_** are **_named_** **_collections_** of data that can be used to hold multiple pieces of information as **_values_** that are addressed by **_keys_** resulting in a **_key_** to **_value_** data structure.  They are accessed with `[` and `]` but intialized with `{` and `}`.  E.g.\n",
    "\n",
    "```\n",
    "my_dict = { 'cake' : 'Tasty!', 'toenails' : 'Gross!' }\n",
    "my_dict['cake']\n",
    "```\n",
    "\n",
    "Finally, we talked about **_flow control_** and using the concept of **_conditional execution_** to decide which code statements were executed.  Remember this figure?\n",
    "\n",
    "\n",
    "<img src=\"https://docs.oracle.com/cd/B19306_01/appdev.102/b14261/lnpls008.gif\">Flow control figure</img>\n",
    "\n",
    "What are the **_if_** statments?\n",
    "\n",
    "Where do **_for_** loops fit in?\n",
    "\n",
    "What was the overarching concept of a **_function_**?"
   ]
  },
  {
   "cell_type": "markdown",
   "metadata": {
    "id": "2Zw32p1s7OMN"
   },
   "source": [
    "### 3.2 Functions\n",
    "\n",
    "For loops let you repeat some code for every item in a list.  Functions are similar in that they run the same lines of code for new values of some variable.  They are different in that functions are not limited to looping over items.\n",
    "\n",
    "Functions are a critical part of writing easy to read, reusable code.\n",
    "\n",
    "Create a function like:\n",
    "```\n",
    "def function_name (parameters):\n",
    "    \"\"\"\n",
    "    optional docstring\n",
    "    \"\"\"\n",
    "    function expressions\n",
    "    return [variable]\n",
    "```\n",
    "\n",
    "_Note:_ Sometimes I use the word argument in place of parameter.\n",
    "\n",
    "Here is a simple example.  It prints a string that was passed in and returns nothing.\n",
    "\n",
    "```\n",
    "def print_string(str):\n",
    "    \"\"\"This prints out a string passed as the parameter.\"\"\"\n",
    "    print(str)\n",
    "    return\n",
    "```"
   ]
  },
  {
   "cell_type": "code",
   "execution_count": 1,
   "metadata": {
    "id": "OB1Rbs3X7OMN"
   },
   "outputs": [],
   "source": [
    "def print_string(str):\n",
    "    \"\"\"This prints out a string passed as the parameter.\"\"\"\n",
    "    print(str)\n",
    "    return"
   ]
  },
  {
   "cell_type": "markdown",
   "metadata": {
    "id": "qJZp8zrg7OMN"
   },
   "source": [
    "To call the function, use:\n",
    "```\n",
    "print_string(\"Dave is awesome!\")\n",
    "```\n",
    "\n",
    "_Note:_ The function has to be defined before you can call it!"
   ]
  },
  {
   "cell_type": "code",
   "execution_count": 2,
   "metadata": {
    "id": "StenpmR-7OMN"
   },
   "outputs": [
    {
     "ename": "NameError",
     "evalue": "name 'print_string2' is not defined",
     "output_type": "error",
     "traceback": [
      "\u001b[0;31m---------------------------------------------------------------------------\u001b[0m",
      "\u001b[0;31mNameError\u001b[0m                                 Traceback (most recent call last)",
      "\u001b[0;32m<ipython-input-2-2eb1fc6f26d2>\u001b[0m in \u001b[0;36m<module>\u001b[0;34m\u001b[0m\n\u001b[0;32m----> 1\u001b[0;31m \u001b[0mprint_string2\u001b[0m\u001b[0;34m(\u001b[0m\u001b[0;34m\"Dave is OK\"\u001b[0m\u001b[0;34m)\u001b[0m\u001b[0;34m\u001b[0m\u001b[0;34m\u001b[0m\u001b[0m\n\u001b[0m",
      "\u001b[0;31mNameError\u001b[0m: name 'print_string2' is not defined"
     ]
    }
   ],
   "source": [
    "print_string2(\"Dave is OK\")"
   ]
  },
  {
   "cell_type": "markdown",
   "metadata": {
    "id": "W8aoOVhV7OMN"
   },
   "source": [
    "If you don't provide an argument or too many, you get an error."
   ]
  },
  {
   "cell_type": "code",
   "execution_count": 3,
   "metadata": {
    "id": "HcIEADTy7OMO"
   },
   "outputs": [
    {
     "ename": "TypeError",
     "evalue": "print_string() missing 1 required positional argument: 'str'",
     "output_type": "error",
     "traceback": [
      "\u001b[0;31m---------------------------------------------------------------------------\u001b[0m",
      "\u001b[0;31mTypeError\u001b[0m                                 Traceback (most recent call last)",
      "\u001b[0;32m<ipython-input-3-a65433f26387>\u001b[0m in \u001b[0;36m<module>\u001b[0;34m\u001b[0m\n\u001b[0;32m----> 1\u001b[0;31m \u001b[0mprint_string\u001b[0m\u001b[0;34m(\u001b[0m\u001b[0;34m)\u001b[0m\u001b[0;34m\u001b[0m\u001b[0;34m\u001b[0m\u001b[0m\n\u001b[0m",
      "\u001b[0;31mTypeError\u001b[0m: print_string() missing 1 required positional argument: 'str'"
     ]
    }
   ],
   "source": [
    "print_string()"
   ]
  },
  {
   "cell_type": "markdown",
   "metadata": {
    "id": "UT97gfn-7OMO"
   },
   "source": [
    "#### 3.2.1 Function Parameters\n",
    "\n",
    "Parameters (or arguments) in Python are all passed by reference.  This means that if you modify the parameters in the function, they are modified outside of the function.\n",
    "\n",
    "See the following example:\n",
    "\n",
    "```\n",
    "def change_list(my_list):\n",
    "   \"\"\"This changes a passed list into this function\"\"\"\n",
    "   my_list.append('four');\n",
    "   print('list inside the function: ', my_list)\n",
    "   return\n",
    "\n",
    "my_list = [1, 2, 3];\n",
    "print('list before the function: ', my_list)\n",
    "change_list(my_list);\n",
    "print('list after the function: ', my_list)\n",
    "```"
   ]
  },
  {
   "cell_type": "code",
   "execution_count": 4,
   "metadata": {
    "id": "LCEp7aLY7OMO"
   },
   "outputs": [
    {
     "name": "stdout",
     "output_type": "stream",
     "text": [
      "list before the function:  [1, 2, 3]\n",
      "list inside the function:  [1, 2, 3, 'four']\n",
      "list after the function:  [1, 2, 3, 'four']\n"
     ]
    }
   ],
   "source": [
    "def change_list(my_list):\n",
    "   \"\"\"This changes a passed list into this function\"\"\"\n",
    "   my_list.append('four');\n",
    "   print('list inside the function: ', my_list)\n",
    "   return\n",
    "\n",
    "my_list = [1, 2, 3];\n",
    "print('list before the function: ', my_list)\n",
    "change_list(my_list);\n",
    "print('list after the function: ', my_list)"
   ]
  },
  {
   "cell_type": "markdown",
   "metadata": {
    "id": "ofed6scx7OMO"
   },
   "source": [
    "#### 3.2.2 For advanced folks...\n",
    "\n",
    "Variables have scope: **_global_** and **_local_**\n",
    "\n",
    "In a function, new variables that you create are not saved when the function returns - these are **_local_** variables.  Variables defined outside of the function can be accessed but not changed - these are **_global_** variables, _Note_ there is a way to do this with the **_global_** keyword.  Generally, the use of **_global_** variables is not encouraged, instead use parameters.\n",
    "\n",
    "```\n",
    "my_global_1 = 'bad idea'\n",
    "my_global_2 = 'another bad one'\n",
    "my_global_3 = 'better idea'\n",
    "\n",
    "def my_function():\n",
    "    print(my_global)\n",
    "    my_global_2 = 'broke your global, man!'\n",
    "    global my_global_3\n",
    "    my_global_3 = 'still a better idea'\n",
    "    return\n",
    "    \n",
    "my_function()\n",
    "print(my_global_2)\n",
    "print(my_global_3)\n",
    "```"
   ]
  },
  {
   "cell_type": "code",
   "execution_count": null,
   "metadata": {
    "id": "vZhMpuys7OMO"
   },
   "outputs": [],
   "source": []
  },
  {
   "cell_type": "markdown",
   "metadata": {
    "id": "8dJpON387OMO"
   },
   "source": [
    "In general, you want to use parameters to provide data to a function and return a result with the `return`. E.g.\n",
    "\n",
    "```\n",
    "def sum(x, y):\n",
    "    my_sum = x + y\n",
    "    return my_sum\n",
    "```\n",
    "\n",
    "If you are going to return multiple objects, what data structure that we talked about can be used?  Give and example below."
   ]
  },
  {
   "cell_type": "code",
   "execution_count": null,
   "metadata": {
    "id": "qpT1D7A77OMO"
   },
   "outputs": [],
   "source": []
  },
  {
   "cell_type": "markdown",
   "metadata": {
    "id": "GIJRPKZi7OMO"
   },
   "source": [
    "#### 3.2.3 Parameters have  different types:\n",
    "\n",
    "| type | behavior |\n",
    "|------|----------|\n",
    "| required | positional, must be present or error, e.g. `my_func(first_name, last_name)` |\n",
    "| keyword | position independent, e.g. `my_func(first_name, last_name)` can be called `my_func(first_name='Dave', last_name='Beck')` or `my_func(last_name='Beck', first_name='Dave')` |\n",
    "| default | keyword params that default to a value if not provided |\n"
   ]
  },
  {
   "cell_type": "markdown",
   "metadata": {
    "id": "5PLKmR-B7OMO"
   },
   "source": [
    "```\n",
    "def print_name(first, last='the C-Hacker'):\n",
    "    print('Your name is %s %s' % (first, last))\n",
    "    return\n",
    "```"
   ]
  },
  {
   "cell_type": "code",
   "execution_count": 5,
   "metadata": {
    "id": "UxWgNXam7OMO"
   },
   "outputs": [],
   "source": [
    "def print_name(first, last='the C-Hacker'):\n",
    "    print('Your name is %s %s' % (first, last))\n",
    "    return"
   ]
  },
  {
   "cell_type": "markdown",
   "metadata": {
    "id": "VeD3Gt1m7OMO"
   },
   "source": [
    "Play around with the above function."
   ]
  },
  {
   "cell_type": "code",
   "execution_count": 6,
   "metadata": {
    "id": "fcmlUsme7OMO"
   },
   "outputs": [
    {
     "name": "stdout",
     "output_type": "stream",
     "text": [
      "Your name is Dave his Data Science Majesty\n"
     ]
    }
   ],
   "source": [
    "print_name('Dave', last='his Data Science Majesty')"
   ]
  },
  {
   "cell_type": "markdown",
   "metadata": {
    "id": "y32EcPFK7OMO"
   },
   "source": [
    "Functions can contain any code that you put anywhere else including:\n",
    "* if...elif...else\n",
    "* for...else\n",
    "* while\n",
    "* other function calls"
   ]
  },
  {
   "cell_type": "markdown",
   "metadata": {
    "id": "uuAR1MK87OMO"
   },
   "source": [
    "```\n",
    "def print_name_age(first, last, age):\n",
    "    print_name(first, last)\n",
    "    print('Your age is %d' % (age))\n",
    "    if age > 35:\n",
    "        print('You are really old.')\n",
    "    return\n",
    "```\n"
   ]
  },
  {
   "cell_type": "code",
   "execution_count": 7,
   "metadata": {
    "id": "L9Q0iWw77OMO"
   },
   "outputs": [],
   "source": [
    "def print_name_age(first, last, age):\n",
    "    print_name(first, last)\n",
    "    print('Your age is %d' % (age))\n",
    "    if age > 35:\n",
    "        print('You are really old.')\n",
    "    return"
   ]
  },
  {
   "cell_type": "markdown",
   "metadata": {
    "id": "c4Be8TID7OMO"
   },
   "source": [
    "```\n",
    "print_name_age(age=46, last='Beck', first='Dave')\n",
    "```"
   ]
  },
  {
   "cell_type": "code",
   "execution_count": 8,
   "metadata": {
    "id": "uqVbbSZy7OMO"
   },
   "outputs": [
    {
     "name": "stdout",
     "output_type": "stream",
     "text": [
      "Your name is Dave Beck\n",
      "Your age is 46\n",
      "You are really old.\n"
     ]
    }
   ],
   "source": [
    "print_name_age(age=46, last='Beck', first='Dave')"
   ]
  },
  {
   "cell_type": "markdown",
   "metadata": {
    "id": "rNHxbdMW7OMO"
   },
   "source": [
    "## 3.3 Pandas and the Scientific Python Toolkit\n",
    "\n",
    "In addition to Python's built-in modules like the ``math`` module we explored above, there are also many often-used third-party modules that are core tools for doing data science with Python.\n",
    "Some of the most important ones are:\n",
    "\n",
    "#### [``numpy``](http://numpy.org/): Numerical Python\n",
    "\n",
    "Numpy is short for \"Numerical Python\", and contains tools for efficient manipulation of arrays of data.\n",
    "If you have used other computational tools like IDL or MatLab, Numpy should feel very familiar.\n",
    "\n",
    "#### [``scipy``](http://scipy.org/): Scientific Python\n",
    "\n",
    "Scipy is short for \"Scientific Python\", and contains a wide range of functionality for accomplishing common scientific tasks, such as optimization/minimization, numerical integration, interpolation, and much more.\n",
    "We will not look closely at Scipy today, but we will use its functionality later in the course.\n",
    "\n",
    "#### [``pandas``](http://pandas.pydata.org/): Labeled Data Manipulation in Python\n",
    "\n",
    "Pandas is short for \"Panel Data\", and contains tools for doing more advanced manipulation of labeled data in Python, in particular with a columnar data structure called a *Data Frame*.\n",
    "If you've used the [R](http://rstats.org) statistical language (and in particular the so-called \"Hadley Stack\"), much of the functionality in Pandas should feel very familiar.\n",
    "\n",
    "#### [``matplotlib``](http://matplotlib.org): Visualization in Python\n",
    "\n",
    "Matplotlib started out as a Matlab plotting clone in Python, and has grown from there in the 15 years since its creation. It is the most popular data visualization tool currently in the Python data world (though other recent packages are starting to encroach on its monopoly)."
   ]
  },
  {
   "cell_type": "markdown",
   "metadata": {
    "id": "qhLItQLT7OMO"
   },
   "source": [
    "### 3.3.1 Pandas\n",
    "\n",
    "We begin by loading the Panda's package.  Packages are collections of functions that share a common utility.  We've seen `import` before.  Let's use it to import Pandas and all the richness that pandas has."
   ]
  },
  {
   "cell_type": "markdown",
   "metadata": {
    "id": "xZ5bV0a37OMO"
   },
   "source": [
    "```\n",
    "import pandas\n",
    "```"
   ]
  },
  {
   "cell_type": "code",
   "execution_count": 9,
   "metadata": {
    "id": "DGXuInrD7OMO"
   },
   "outputs": [],
   "source": [
    "import pandas"
   ]
  },
  {
   "cell_type": "markdown",
   "metadata": {
    "id": "Ow0AWVxb7OMO"
   },
   "source": [
    "```\n",
    "df = pandas.DataFrame()\n",
    "```"
   ]
  },
  {
   "cell_type": "code",
   "execution_count": 10,
   "metadata": {
    "id": "xgBkUGkw7OMO"
   },
   "outputs": [],
   "source": [
    "df = pandas.DataFrame()"
   ]
  },
  {
   "cell_type": "markdown",
   "metadata": {
    "id": "L9DP6wkH7OMO"
   },
   "source": [
    "Because we'll use it so much, we often import under a shortened name using the ``import ... as ...`` pattern:"
   ]
  },
  {
   "cell_type": "markdown",
   "metadata": {
    "id": "dItG2aJ17OMO"
   },
   "source": [
    "```\n",
    "import pandas as pd\n",
    "import numpy as np\n",
    "```"
   ]
  },
  {
   "cell_type": "code",
   "execution_count": 11,
   "metadata": {
    "id": "bC__k2WX7OMO"
   },
   "outputs": [],
   "source": [
    "import pandas as pd\n",
    "import numpy as np"
   ]
  },
  {
   "cell_type": "markdown",
   "metadata": {
    "id": "wn_mJFzq7OMO"
   },
   "source": [
    "Let's create an empty _data frame_ and put the result into a variable called `df`.  This is a popular choice for a _data frame_ variable name."
   ]
  },
  {
   "cell_type": "markdown",
   "metadata": {
    "id": "tIYJnX8c7OMO"
   },
   "source": [
    "```\n",
    "df = pd.DataFrame()\n",
    "```"
   ]
  },
  {
   "cell_type": "code",
   "execution_count": 12,
   "metadata": {
    "id": "HKMsR_dh7OMO"
   },
   "outputs": [],
   "source": [
    "df = pd.DataFrame()"
   ]
  },
  {
   "cell_type": "markdown",
   "metadata": {
    "id": "SF-sZx-C7OMO"
   },
   "source": [
    "\n",
    "Let's create some random data as a pandas data frame.  Before we get to the dataframe, let's briefly talk about numpy's `random` function.  If we look at the [`random`](https://numpy.org/doc/stable/reference/random/generated/numpy.random.random.html) documentation, you can see it takes a size argument.  This should be a `list` or a `tuple` that says what the \"height\" and \"width\" of the generated data will be.  In our case, we will get 10 rows of data in three columns with the following:\n",
    "\n",
    "```\n",
    "np.random.random((10,3))\n",
    "```\n",
    "\n",
    "\n",
    "Notice we change the value of the `df` variable to point to a new data frame.\n",
    "\n",
    "```\n",
    "df = pd.DataFrame(data=np.random.random((10,3)), columns=['v1', 'v2', 'v3'])\n",
    "```"
   ]
  },
  {
   "cell_type": "code",
   "execution_count": 13,
   "metadata": {
    "id": "0H2yYe7b7OMO"
   },
   "outputs": [],
   "source": [
    "df = pd.DataFrame(data=np.random.random((10,3)), columns=['v1', 'v2', 'v3'])"
   ]
  },
  {
   "cell_type": "markdown",
   "metadata": {
    "id": "R1XWG_A57OMO"
   },
   "source": [
    "*Note: strings in Python can be defined either with double quotes or single quotes*"
   ]
  },
  {
   "cell_type": "markdown",
   "metadata": {
    "id": "9A4TW0Nf7OMO"
   },
   "source": [
    "### 3.3.2 Viewing Pandas Dataframes"
   ]
  },
  {
   "cell_type": "markdown",
   "metadata": {
    "id": "LgpL3ety7OMO"
   },
   "source": [
    "The ``head()`` and ``tail()`` methods show us the first and last rows of the data.\n",
    "\n",
    "```\n",
    "df.head()\n",
    "df.tail()\n",
    "```"
   ]
  },
  {
   "cell_type": "code",
   "execution_count": 14,
   "metadata": {
    "id": "mbgXWqjM7OMO"
   },
   "outputs": [
    {
     "data": {
      "text/html": [
       "<div>\n",
       "<style scoped>\n",
       "    .dataframe tbody tr th:only-of-type {\n",
       "        vertical-align: middle;\n",
       "    }\n",
       "\n",
       "    .dataframe tbody tr th {\n",
       "        vertical-align: top;\n",
       "    }\n",
       "\n",
       "    .dataframe thead th {\n",
       "        text-align: right;\n",
       "    }\n",
       "</style>\n",
       "<table border=\"1\" class=\"dataframe\">\n",
       "  <thead>\n",
       "    <tr style=\"text-align: right;\">\n",
       "      <th></th>\n",
       "      <th>v1</th>\n",
       "      <th>v2</th>\n",
       "      <th>v3</th>\n",
       "    </tr>\n",
       "  </thead>\n",
       "  <tbody>\n",
       "    <tr>\n",
       "      <th>0</th>\n",
       "      <td>0.117109</td>\n",
       "      <td>0.354480</td>\n",
       "      <td>0.019400</td>\n",
       "    </tr>\n",
       "    <tr>\n",
       "      <th>1</th>\n",
       "      <td>0.224408</td>\n",
       "      <td>0.309082</td>\n",
       "      <td>0.111739</td>\n",
       "    </tr>\n",
       "    <tr>\n",
       "      <th>2</th>\n",
       "      <td>0.298274</td>\n",
       "      <td>0.007288</td>\n",
       "      <td>0.560451</td>\n",
       "    </tr>\n",
       "    <tr>\n",
       "      <th>3</th>\n",
       "      <td>0.789350</td>\n",
       "      <td>0.979810</td>\n",
       "      <td>0.998449</td>\n",
       "    </tr>\n",
       "    <tr>\n",
       "      <th>4</th>\n",
       "      <td>0.037988</td>\n",
       "      <td>0.015583</td>\n",
       "      <td>0.626505</td>\n",
       "    </tr>\n",
       "  </tbody>\n",
       "</table>\n",
       "</div>"
      ],
      "text/plain": [
       "         v1        v2        v3\n",
       "0  0.117109  0.354480  0.019400\n",
       "1  0.224408  0.309082  0.111739\n",
       "2  0.298274  0.007288  0.560451\n",
       "3  0.789350  0.979810  0.998449\n",
       "4  0.037988  0.015583  0.626505"
      ]
     },
     "execution_count": 14,
     "metadata": {},
     "output_type": "execute_result"
    }
   ],
   "source": [
    "df.head()"
   ]
  },
  {
   "cell_type": "code",
   "execution_count": 15,
   "metadata": {
    "id": "cz3Yx-GP7OMO"
   },
   "outputs": [
    {
     "data": {
      "text/html": [
       "<div>\n",
       "<style scoped>\n",
       "    .dataframe tbody tr th:only-of-type {\n",
       "        vertical-align: middle;\n",
       "    }\n",
       "\n",
       "    .dataframe tbody tr th {\n",
       "        vertical-align: top;\n",
       "    }\n",
       "\n",
       "    .dataframe thead th {\n",
       "        text-align: right;\n",
       "    }\n",
       "</style>\n",
       "<table border=\"1\" class=\"dataframe\">\n",
       "  <thead>\n",
       "    <tr style=\"text-align: right;\">\n",
       "      <th></th>\n",
       "      <th>v1</th>\n",
       "      <th>v2</th>\n",
       "      <th>v3</th>\n",
       "    </tr>\n",
       "  </thead>\n",
       "  <tbody>\n",
       "    <tr>\n",
       "      <th>5</th>\n",
       "      <td>0.429066</td>\n",
       "      <td>0.389504</td>\n",
       "      <td>0.007721</td>\n",
       "    </tr>\n",
       "    <tr>\n",
       "      <th>6</th>\n",
       "      <td>0.292433</td>\n",
       "      <td>0.117206</td>\n",
       "      <td>0.973603</td>\n",
       "    </tr>\n",
       "    <tr>\n",
       "      <th>7</th>\n",
       "      <td>0.279638</td>\n",
       "      <td>0.326763</td>\n",
       "      <td>0.842746</td>\n",
       "    </tr>\n",
       "    <tr>\n",
       "      <th>8</th>\n",
       "      <td>0.938193</td>\n",
       "      <td>0.865764</td>\n",
       "      <td>0.838070</td>\n",
       "    </tr>\n",
       "    <tr>\n",
       "      <th>9</th>\n",
       "      <td>0.943328</td>\n",
       "      <td>0.383895</td>\n",
       "      <td>0.750600</td>\n",
       "    </tr>\n",
       "  </tbody>\n",
       "</table>\n",
       "</div>"
      ],
      "text/plain": [
       "         v1        v2        v3\n",
       "5  0.429066  0.389504  0.007721\n",
       "6  0.292433  0.117206  0.973603\n",
       "7  0.279638  0.326763  0.842746\n",
       "8  0.938193  0.865764  0.838070\n",
       "9  0.943328  0.383895  0.750600"
      ]
     },
     "execution_count": 15,
     "metadata": {},
     "output_type": "execute_result"
    }
   ],
   "source": [
    "df.tail()"
   ]
  },
  {
   "cell_type": "markdown",
   "metadata": {
    "id": "rcKyzRLTTbVM"
   },
   "source": [
    "### Important!\n",
    "\n",
    "Prior to the start of C-Hack, you received instructions on how to set up your Google Drive & Colab.  The videos are here:\n",
    "\n",
    "* [How to load a file into Colab 1: Basics](https://www.youtube.com/watch?v=5rZn-aVNR0A)\n",
    "* [How to load a file into Colab 2: .csv and Python](https://www.youtube.com/watch?v=_2z3tFPbwjA)\n",
    "\n",
    "Before moving forward, let's load a more interesting set of data as a DataFrame: the NOAA storm dataset. We can load it from a `csv` (comma seperated values) file that we have in google drive.  Before we can do this, however, we need to attach this notebook to our Google drive.\n",
    "\n",
    "*Note:* when you run this, your browser will popup a new window asking you to authenticate to Google drive.  \n",
    "\n",
    "```\n",
    "from google.colab import drive\n",
    "drive.mount('/content/drive')\n",
    "```"
   ]
  },
  {
   "cell_type": "code",
   "execution_count": 16,
   "metadata": {
    "id": "ypNjvgxr8iUj"
   },
   "outputs": [
    {
     "ename": "ModuleNotFoundError",
     "evalue": "No module named 'google.colab'",
     "output_type": "error",
     "traceback": [
      "\u001b[0;31m---------------------------------------------------------------------------\u001b[0m",
      "\u001b[0;31mModuleNotFoundError\u001b[0m                       Traceback (most recent call last)",
      "\u001b[0;32m<ipython-input-16-d5df0069828e>\u001b[0m in \u001b[0;36m<module>\u001b[0;34m\u001b[0m\n\u001b[0;32m----> 1\u001b[0;31m \u001b[0;32mfrom\u001b[0m \u001b[0mgoogle\u001b[0m\u001b[0;34m.\u001b[0m\u001b[0mcolab\u001b[0m \u001b[0;32mimport\u001b[0m \u001b[0mdrive\u001b[0m\u001b[0;34m\u001b[0m\u001b[0;34m\u001b[0m\u001b[0m\n\u001b[0m\u001b[1;32m      2\u001b[0m \u001b[0mdrive\u001b[0m\u001b[0;34m.\u001b[0m\u001b[0mmount\u001b[0m\u001b[0;34m(\u001b[0m\u001b[0;34m'/content/drive'\u001b[0m\u001b[0;34m)\u001b[0m\u001b[0;34m\u001b[0m\u001b[0;34m\u001b[0m\u001b[0m\n",
      "\u001b[0;31mModuleNotFoundError\u001b[0m: No module named 'google.colab'"
     ]
    }
   ],
   "source": [
    "from google.colab import drive\n",
    "drive.mount('/content/drive')"
   ]
  },
  {
   "cell_type": "markdown",
   "metadata": {
    "id": "lQMP25hBNNVc"
   },
   "source": [
    "With our notebook now able to access the files in our Google drive, we can now open the CSV (comma separated value) file that contains the NOAA data we want to use.  To do that, we use the Pandas `read_csv` function and give it a file path that is in our drive.\n",
    "\n",
    "```\n",
    "path_to_file = '/content/drive/MyDrive/C-HACK 2022 EVENT/Tutorials/NOAA_storm_data/cleaned_data.csv'\n",
    "df = pd.read_csv(path_to_file, index_col=0)\n",
    "df.head()\n",
    "```"
   ]
  },
  {
   "cell_type": "code",
   "execution_count": 19,
   "metadata": {
    "id": "lMdFVTTjTvMU"
   },
   "outputs": [
    {
     "data": {
      "text/html": [
       "<div>\n",
       "<style scoped>\n",
       "    .dataframe tbody tr th:only-of-type {\n",
       "        vertical-align: middle;\n",
       "    }\n",
       "\n",
       "    .dataframe tbody tr th {\n",
       "        vertical-align: top;\n",
       "    }\n",
       "\n",
       "    .dataframe thead th {\n",
       "        text-align: right;\n",
       "    }\n",
       "</style>\n",
       "<table border=\"1\" class=\"dataframe\">\n",
       "  <thead>\n",
       "    <tr style=\"text-align: right;\">\n",
       "      <th></th>\n",
       "      <th>BEGIN_DATE_TIME</th>\n",
       "      <th>EVENT_TYPE</th>\n",
       "      <th>INJURIES_DIRECT</th>\n",
       "      <th>INJURIES_INDIRECT</th>\n",
       "      <th>DEATHS_DIRECT</th>\n",
       "      <th>DEATHS_INDIRECT</th>\n",
       "      <th>DAMAGE_PROPERTY</th>\n",
       "      <th>DAMAGE_CROPS</th>\n",
       "      <th>LATITUDE</th>\n",
       "      <th>LONGITUDE</th>\n",
       "    </tr>\n",
       "  </thead>\n",
       "  <tbody>\n",
       "    <tr>\n",
       "      <th>0</th>\n",
       "      <td>13-JAN-05 18:52:00</td>\n",
       "      <td>Tornado</td>\n",
       "      <td>0</td>\n",
       "      <td>0</td>\n",
       "      <td>0</td>\n",
       "      <td>0</td>\n",
       "      <td>0.0</td>\n",
       "      <td>0.0</td>\n",
       "      <td>33.78</td>\n",
       "      <td>-82.20</td>\n",
       "    </tr>\n",
       "    <tr>\n",
       "      <th>1</th>\n",
       "      <td>12-JAN-05 20:56:00</td>\n",
       "      <td>Tornado</td>\n",
       "      <td>0</td>\n",
       "      <td>0</td>\n",
       "      <td>0</td>\n",
       "      <td>0</td>\n",
       "      <td>50000.0</td>\n",
       "      <td>0.0</td>\n",
       "      <td>36.58</td>\n",
       "      <td>-92.28</td>\n",
       "    </tr>\n",
       "    <tr>\n",
       "      <th>2</th>\n",
       "      <td>12-JAN-05 21:30:00</td>\n",
       "      <td>Tornado</td>\n",
       "      <td>0</td>\n",
       "      <td>0</td>\n",
       "      <td>0</td>\n",
       "      <td>0</td>\n",
       "      <td>300000.0</td>\n",
       "      <td>0.0</td>\n",
       "      <td>36.87</td>\n",
       "      <td>-91.90</td>\n",
       "    </tr>\n",
       "    <tr>\n",
       "      <th>3</th>\n",
       "      <td>12-JAN-05 21:50:00</td>\n",
       "      <td>Tornado</td>\n",
       "      <td>0</td>\n",
       "      <td>0</td>\n",
       "      <td>0</td>\n",
       "      <td>0</td>\n",
       "      <td>100000.0</td>\n",
       "      <td>0.0</td>\n",
       "      <td>37.02</td>\n",
       "      <td>-91.68</td>\n",
       "    </tr>\n",
       "    <tr>\n",
       "      <th>4</th>\n",
       "      <td>04-JAN-05 22:35:00</td>\n",
       "      <td>Thunderstorm Wind</td>\n",
       "      <td>0</td>\n",
       "      <td>0</td>\n",
       "      <td>0</td>\n",
       "      <td>0</td>\n",
       "      <td>10000.0</td>\n",
       "      <td>0.0</td>\n",
       "      <td>32.37</td>\n",
       "      <td>-102.90</td>\n",
       "    </tr>\n",
       "  </tbody>\n",
       "</table>\n",
       "</div>"
      ],
      "text/plain": [
       "      BEGIN_DATE_TIME         EVENT_TYPE  INJURIES_DIRECT  INJURIES_INDIRECT  \\\n",
       "0  13-JAN-05 18:52:00            Tornado                0                  0   \n",
       "1  12-JAN-05 20:56:00            Tornado                0                  0   \n",
       "2  12-JAN-05 21:30:00            Tornado                0                  0   \n",
       "3  12-JAN-05 21:50:00            Tornado                0                  0   \n",
       "4  04-JAN-05 22:35:00  Thunderstorm Wind                0                  0   \n",
       "\n",
       "   DEATHS_DIRECT  DEATHS_INDIRECT  DAMAGE_PROPERTY  DAMAGE_CROPS  LATITUDE  \\\n",
       "0              0                0              0.0           0.0     33.78   \n",
       "1              0                0          50000.0           0.0     36.58   \n",
       "2              0                0         300000.0           0.0     36.87   \n",
       "3              0                0         100000.0           0.0     37.02   \n",
       "4              0                0          10000.0           0.0     32.37   \n",
       "\n",
       "   LONGITUDE  \n",
       "0     -82.20  \n",
       "1     -92.28  \n",
       "2     -91.90  \n",
       "3     -91.68  \n",
       "4    -102.90  "
      ]
     },
     "execution_count": 19,
     "metadata": {},
     "output_type": "execute_result"
    }
   ],
   "source": [
    "path_to_file = '../NOAA_storm_data/cleaned_data.csv'\n",
    "df = pd.read_csv(path_to_file, index_col=0)\n",
    "df.head()"
   ]
  },
  {
   "cell_type": "markdown",
   "metadata": {
    "id": "LK0xJF83V_z-"
   },
   "source": [
    "From this `head` of the dataframe, we can see the following columns are present in our dataset and the table belows shows the data types and descriptions from NOAA about the fields.\n",
    "\n",
    "| Column            | Data type   | Description                                                                                                        |\n",
    "|-------------------|-------------|--------------------------------------------------------------------------------------------------------------------|\n",
    "| BEGIN_DATE_TIME   | Date / time | When the adverse weather event start.                                                                               |\n",
    "| EVENT_TYPE        | String      | Human readable name for the type of adverse weather event; E.g. Hail, Thunderstorm, Wind, Snow, Ice (spelled out)  |\n",
    "| INJURIES_DIRECT   | Integer     | The number of injuries directly caused by the weather event.                                                       |\n",
    "| INJURIES_INDIRECT | Integer     | The number of injuries indirectly caused by the weather event.                                                     |\n",
    "| DEATHS_DIRECT     | Integer     | The number of deaths directly caused by the weather event.                                                         |\n",
    "| DEATHS_INDIRECT   | Integer     | The number of deaths indirectly caused by the weather event.                                                       |\n",
    "| DAMAGE_PROPERTY   | Float       | The estimated amount of damage to property incurred by the weather event.                                          |\n",
    "| DAMAGE_CROPS      | Float       | The estimated amount of damage to crops incurred by the weather event.                                             |\n",
    "| LATITUDE          | Float       | The latitude in decimal degrees of the begin point of event or damage path.                                        |\n",
    "| LONGITUDE         | Float       | The longitude in decimal degrees of the begin point of event or damage path.                                       |\n"
   ]
  },
  {
   "cell_type": "markdown",
   "metadata": {
    "id": "IkcJbZ7RYnhN"
   },
   "source": [
    "Cool!  Now we know what data we have, now let's see how much data we have!"
   ]
  },
  {
   "cell_type": "markdown",
   "metadata": {
    "id": "-FUocT6r7OMO"
   },
   "source": [
    "The ``shape`` attribute shows us the number of elements:\n",
    "\n",
    "```\n",
    "df.shape\n",
    "```\n",
    "\n",
    "Note it doesn't have the `()` because it isn't a **_function_** - it is an **_attribute_** or variable attached to the `df` object."
   ]
  },
  {
   "cell_type": "code",
   "execution_count": 20,
   "metadata": {
    "id": "CNDEEXRG7OMO"
   },
   "outputs": [
    {
     "data": {
      "text/plain": [
       "(33633, 10)"
      ]
     },
     "execution_count": 20,
     "metadata": {},
     "output_type": "execute_result"
    }
   ],
   "source": [
    "df.shape"
   ]
  },
  {
   "cell_type": "markdown",
   "metadata": {
    "id": "cbKUn97D7OMO"
   },
   "source": [
    "The ``columns`` attribute gives us the column names\n",
    "\n",
    "```\n",
    "df.columns\n",
    "```\n"
   ]
  },
  {
   "cell_type": "code",
   "execution_count": 21,
   "metadata": {
    "id": "KV_olwsx7OMO"
   },
   "outputs": [
    {
     "data": {
      "text/plain": [
       "Index(['BEGIN_DATE_TIME', 'EVENT_TYPE', 'INJURIES_DIRECT', 'INJURIES_INDIRECT',\n",
       "       'DEATHS_DIRECT', 'DEATHS_INDIRECT', 'DAMAGE_PROPERTY', 'DAMAGE_CROPS',\n",
       "       'LATITUDE', 'LONGITUDE'],\n",
       "      dtype='object')"
      ]
     },
     "execution_count": 21,
     "metadata": {},
     "output_type": "execute_result"
    }
   ],
   "source": [
    "df.columns"
   ]
  },
  {
   "cell_type": "markdown",
   "metadata": {
    "id": "DD59pHa27OMO"
   },
   "source": [
    "The ``index`` attribute gives us the index names.  Note that in this instance, our index column is a unique identifier for each event in the form of an integer from 0 to 33632.\n",
    "\n",
    "```\n",
    "df.index\n",
    "```"
   ]
  },
  {
   "cell_type": "code",
   "execution_count": 22,
   "metadata": {
    "id": "brvdHrKu7OMO"
   },
   "outputs": [
    {
     "data": {
      "text/plain": [
       "Int64Index([    0,     1,     2,     3,     4,     5,     6,     7,     8,\n",
       "                9,\n",
       "            ...\n",
       "            33623, 33624, 33625, 33626, 33627, 33628, 33629, 33630, 33631,\n",
       "            33632],\n",
       "           dtype='int64', length=33633)"
      ]
     },
     "execution_count": 22,
     "metadata": {},
     "output_type": "execute_result"
    }
   ],
   "source": [
    "df.index"
   ]
  },
  {
   "cell_type": "markdown",
   "metadata": {
    "id": "y8dtp8vw7OMO"
   },
   "source": [
    "The ``dtypes`` attribute gives the data types of each column, remember the data type *_floating point_**?:"
   ]
  },
  {
   "cell_type": "markdown",
   "metadata": {
    "id": "2GfiYSik7OMO"
   },
   "source": [
    "```\n",
    "df.dtypes\n",
    "```"
   ]
  },
  {
   "cell_type": "code",
   "execution_count": 23,
   "metadata": {
    "id": "1F4wrfZ87OMO"
   },
   "outputs": [
    {
     "data": {
      "text/plain": [
       "BEGIN_DATE_TIME       object\n",
       "EVENT_TYPE            object\n",
       "INJURIES_DIRECT        int64\n",
       "INJURIES_INDIRECT      int64\n",
       "DEATHS_DIRECT          int64\n",
       "DEATHS_INDIRECT        int64\n",
       "DAMAGE_PROPERTY      float64\n",
       "DAMAGE_CROPS         float64\n",
       "LATITUDE             float64\n",
       "LONGITUDE            float64\n",
       "dtype: object"
      ]
     },
     "execution_count": 23,
     "metadata": {},
     "output_type": "execute_result"
    }
   ],
   "source": [
    "df.dtypes"
   ]
  },
  {
   "cell_type": "markdown",
   "metadata": {
    "id": "lfXUSir37OMO"
   },
   "source": [
    "### 3.3.3. Manipulating data with ``pandas``\n",
    "\n",
    "Here we'll cover some key features of manipulating data with pandas"
   ]
  },
  {
   "cell_type": "markdown",
   "metadata": {
    "id": "R1JndlDp7OMO"
   },
   "source": [
    "Access columns by name using square-bracket indexing:\n",
    "\n",
    "```\n",
    "df['LONGITUDE']\n",
    "```"
   ]
  },
  {
   "cell_type": "code",
   "execution_count": 24,
   "metadata": {
    "id": "6BE_uf9V7OMO"
   },
   "outputs": [
    {
     "data": {
      "text/plain": [
       "0        -82.2000\n",
       "1        -92.2800\n",
       "2        -91.9000\n",
       "3        -91.6800\n",
       "4       -102.9000\n",
       "           ...   \n",
       "33628    -82.6500\n",
       "33629    -82.5900\n",
       "33630    -79.1530\n",
       "33631    -78.8998\n",
       "33632    -78.3316\n",
       "Name: LONGITUDE, Length: 33633, dtype: float64"
      ]
     },
     "execution_count": 24,
     "metadata": {},
     "output_type": "execute_result"
    }
   ],
   "source": [
    "df['LONGITUDE']"
   ]
  },
  {
   "cell_type": "markdown",
   "metadata": {
    "id": "nx9IRGE57OMO"
   },
   "source": [
    "Mathematical operations on columns happen *element-wise*:\n",
    "\n",
    "```\n",
    "df['DAMAGE_PROPERTY'] / 1000.\n",
    "```"
   ]
  },
  {
   "cell_type": "code",
   "execution_count": 25,
   "metadata": {
    "id": "WHXJ4BusZ2-C"
   },
   "outputs": [
    {
     "data": {
      "text/plain": [
       "0          0.0\n",
       "1         50.0\n",
       "2        300.0\n",
       "3        100.0\n",
       "4         10.0\n",
       "         ...  \n",
       "33628      0.0\n",
       "33629      0.0\n",
       "33630     10.0\n",
       "33631     10.0\n",
       "33632     20.0\n",
       "Name: DAMAGE_PROPERTY, Length: 33633, dtype: float64"
      ]
     },
     "execution_count": 25,
     "metadata": {},
     "output_type": "execute_result"
    }
   ],
   "source": [
    "df['DAMAGE_PROPERTY'] / 1000."
   ]
  },
  {
   "cell_type": "markdown",
   "metadata": {
    "id": "NHPvFs-J7OMO"
   },
   "source": [
    "Columns can be created (or overwritten) with the assignment operator.\n",
    "\n",
    "Let's create a `DAMAGE_PROPERTY_THOUSANDS` column which convers the `DAMAGE_PROPERTY` values into unites of 1000s of dollars.\n",
    "\n",
    "```\n",
    "df['DAMAGE_PROPERTY_THOUSANDS'] = df['DAMAGE_PROPERTY'] / 1000\n",
    "```"
   ]
  },
  {
   "cell_type": "code",
   "execution_count": 26,
   "metadata": {
    "id": "IgO1_b1P7OMO"
   },
   "outputs": [],
   "source": [
    "df['DAMAGE_PROPERTY_THOUSANDS'] = df['DAMAGE_PROPERTY'] / 1000"
   ]
  },
  {
   "cell_type": "markdown",
   "metadata": {
    "id": "Sj6GUfvl7OMO"
   },
   "source": [
    "Let's use the `.head()` **_function_** to see our new data!\n",
    "\n",
    "```\n",
    "df.head()\n",
    "```"
   ]
  },
  {
   "cell_type": "code",
   "execution_count": 27,
   "metadata": {
    "id": "A75J6lfn7OMO"
   },
   "outputs": [
    {
     "data": {
      "text/html": [
       "<div>\n",
       "<style scoped>\n",
       "    .dataframe tbody tr th:only-of-type {\n",
       "        vertical-align: middle;\n",
       "    }\n",
       "\n",
       "    .dataframe tbody tr th {\n",
       "        vertical-align: top;\n",
       "    }\n",
       "\n",
       "    .dataframe thead th {\n",
       "        text-align: right;\n",
       "    }\n",
       "</style>\n",
       "<table border=\"1\" class=\"dataframe\">\n",
       "  <thead>\n",
       "    <tr style=\"text-align: right;\">\n",
       "      <th></th>\n",
       "      <th>BEGIN_DATE_TIME</th>\n",
       "      <th>EVENT_TYPE</th>\n",
       "      <th>INJURIES_DIRECT</th>\n",
       "      <th>INJURIES_INDIRECT</th>\n",
       "      <th>DEATHS_DIRECT</th>\n",
       "      <th>DEATHS_INDIRECT</th>\n",
       "      <th>DAMAGE_PROPERTY</th>\n",
       "      <th>DAMAGE_CROPS</th>\n",
       "      <th>LATITUDE</th>\n",
       "      <th>LONGITUDE</th>\n",
       "      <th>DAMAGE_PROPERTY_THOUSANDS</th>\n",
       "    </tr>\n",
       "  </thead>\n",
       "  <tbody>\n",
       "    <tr>\n",
       "      <th>0</th>\n",
       "      <td>13-JAN-05 18:52:00</td>\n",
       "      <td>Tornado</td>\n",
       "      <td>0</td>\n",
       "      <td>0</td>\n",
       "      <td>0</td>\n",
       "      <td>0</td>\n",
       "      <td>0.0</td>\n",
       "      <td>0.0</td>\n",
       "      <td>33.78</td>\n",
       "      <td>-82.20</td>\n",
       "      <td>0.0</td>\n",
       "    </tr>\n",
       "    <tr>\n",
       "      <th>1</th>\n",
       "      <td>12-JAN-05 20:56:00</td>\n",
       "      <td>Tornado</td>\n",
       "      <td>0</td>\n",
       "      <td>0</td>\n",
       "      <td>0</td>\n",
       "      <td>0</td>\n",
       "      <td>50000.0</td>\n",
       "      <td>0.0</td>\n",
       "      <td>36.58</td>\n",
       "      <td>-92.28</td>\n",
       "      <td>50.0</td>\n",
       "    </tr>\n",
       "    <tr>\n",
       "      <th>2</th>\n",
       "      <td>12-JAN-05 21:30:00</td>\n",
       "      <td>Tornado</td>\n",
       "      <td>0</td>\n",
       "      <td>0</td>\n",
       "      <td>0</td>\n",
       "      <td>0</td>\n",
       "      <td>300000.0</td>\n",
       "      <td>0.0</td>\n",
       "      <td>36.87</td>\n",
       "      <td>-91.90</td>\n",
       "      <td>300.0</td>\n",
       "    </tr>\n",
       "    <tr>\n",
       "      <th>3</th>\n",
       "      <td>12-JAN-05 21:50:00</td>\n",
       "      <td>Tornado</td>\n",
       "      <td>0</td>\n",
       "      <td>0</td>\n",
       "      <td>0</td>\n",
       "      <td>0</td>\n",
       "      <td>100000.0</td>\n",
       "      <td>0.0</td>\n",
       "      <td>37.02</td>\n",
       "      <td>-91.68</td>\n",
       "      <td>100.0</td>\n",
       "    </tr>\n",
       "    <tr>\n",
       "      <th>4</th>\n",
       "      <td>04-JAN-05 22:35:00</td>\n",
       "      <td>Thunderstorm Wind</td>\n",
       "      <td>0</td>\n",
       "      <td>0</td>\n",
       "      <td>0</td>\n",
       "      <td>0</td>\n",
       "      <td>10000.0</td>\n",
       "      <td>0.0</td>\n",
       "      <td>32.37</td>\n",
       "      <td>-102.90</td>\n",
       "      <td>10.0</td>\n",
       "    </tr>\n",
       "  </tbody>\n",
       "</table>\n",
       "</div>"
      ],
      "text/plain": [
       "      BEGIN_DATE_TIME         EVENT_TYPE  INJURIES_DIRECT  INJURIES_INDIRECT  \\\n",
       "0  13-JAN-05 18:52:00            Tornado                0                  0   \n",
       "1  12-JAN-05 20:56:00            Tornado                0                  0   \n",
       "2  12-JAN-05 21:30:00            Tornado                0                  0   \n",
       "3  12-JAN-05 21:50:00            Tornado                0                  0   \n",
       "4  04-JAN-05 22:35:00  Thunderstorm Wind                0                  0   \n",
       "\n",
       "   DEATHS_DIRECT  DEATHS_INDIRECT  DAMAGE_PROPERTY  DAMAGE_CROPS  LATITUDE  \\\n",
       "0              0                0              0.0           0.0     33.78   \n",
       "1              0                0          50000.0           0.0     36.58   \n",
       "2              0                0         300000.0           0.0     36.87   \n",
       "3              0                0         100000.0           0.0     37.02   \n",
       "4              0                0          10000.0           0.0     32.37   \n",
       "\n",
       "   LONGITUDE  DAMAGE_PROPERTY_THOUSANDS  \n",
       "0     -82.20                        0.0  \n",
       "1     -92.28                       50.0  \n",
       "2     -91.90                      300.0  \n",
       "3     -91.68                      100.0  \n",
       "4    -102.90                       10.0  "
      ]
     },
     "execution_count": 27,
     "metadata": {},
     "output_type": "execute_result"
    }
   ],
   "source": [
    "df.head()"
   ]
  },
  {
   "cell_type": "markdown",
   "metadata": {
    "id": "s49TiCQi7OMO"
   },
   "source": [
    "In preparation for grouping the data, let's bin the events by their property damage. For that, we'll use ``pd.cut``\n",
    "\n",
    "```\n",
    "df['PROPERTY_DAMAGE_GROUP'] = pd.cut(df['LONGITUDE'], 1000)\n",
    "df.head()\n",
    "df.dtypes\n",
    "```"
   ]
  },
  {
   "cell_type": "code",
   "execution_count": 28,
   "metadata": {
    "id": "wZGuW3-57OMO"
   },
   "outputs": [],
   "source": [
    "df['DAMAGE_PROPERTY_group'] = pd.cut(df['DAMAGE_PROPERTY'], 1000)\n"
   ]
  },
  {
   "cell_type": "code",
   "execution_count": 29,
   "metadata": {
    "id": "E4SNO9Vo7OMO"
   },
   "outputs": [
    {
     "data": {
      "text/html": [
       "<div>\n",
       "<style scoped>\n",
       "    .dataframe tbody tr th:only-of-type {\n",
       "        vertical-align: middle;\n",
       "    }\n",
       "\n",
       "    .dataframe tbody tr th {\n",
       "        vertical-align: top;\n",
       "    }\n",
       "\n",
       "    .dataframe thead th {\n",
       "        text-align: right;\n",
       "    }\n",
       "</style>\n",
       "<table border=\"1\" class=\"dataframe\">\n",
       "  <thead>\n",
       "    <tr style=\"text-align: right;\">\n",
       "      <th></th>\n",
       "      <th>BEGIN_DATE_TIME</th>\n",
       "      <th>EVENT_TYPE</th>\n",
       "      <th>INJURIES_DIRECT</th>\n",
       "      <th>INJURIES_INDIRECT</th>\n",
       "      <th>DEATHS_DIRECT</th>\n",
       "      <th>DEATHS_INDIRECT</th>\n",
       "      <th>DAMAGE_PROPERTY</th>\n",
       "      <th>DAMAGE_CROPS</th>\n",
       "      <th>LATITUDE</th>\n",
       "      <th>LONGITUDE</th>\n",
       "      <th>DAMAGE_PROPERTY_THOUSANDS</th>\n",
       "      <th>DAMAGE_PROPERTY_group</th>\n",
       "    </tr>\n",
       "  </thead>\n",
       "  <tbody>\n",
       "    <tr>\n",
       "      <th>0</th>\n",
       "      <td>13-JAN-05 18:52:00</td>\n",
       "      <td>Tornado</td>\n",
       "      <td>0</td>\n",
       "      <td>0</td>\n",
       "      <td>0</td>\n",
       "      <td>0</td>\n",
       "      <td>0.0</td>\n",
       "      <td>0.0</td>\n",
       "      <td>33.78</td>\n",
       "      <td>-82.20</td>\n",
       "      <td>0.0</td>\n",
       "      <td>(-5500.0, 5500.0]</td>\n",
       "    </tr>\n",
       "    <tr>\n",
       "      <th>1</th>\n",
       "      <td>12-JAN-05 20:56:00</td>\n",
       "      <td>Tornado</td>\n",
       "      <td>0</td>\n",
       "      <td>0</td>\n",
       "      <td>0</td>\n",
       "      <td>0</td>\n",
       "      <td>50000.0</td>\n",
       "      <td>0.0</td>\n",
       "      <td>36.58</td>\n",
       "      <td>-92.28</td>\n",
       "      <td>50.0</td>\n",
       "      <td>(49500.0, 55000.0]</td>\n",
       "    </tr>\n",
       "    <tr>\n",
       "      <th>2</th>\n",
       "      <td>12-JAN-05 21:30:00</td>\n",
       "      <td>Tornado</td>\n",
       "      <td>0</td>\n",
       "      <td>0</td>\n",
       "      <td>0</td>\n",
       "      <td>0</td>\n",
       "      <td>300000.0</td>\n",
       "      <td>0.0</td>\n",
       "      <td>36.87</td>\n",
       "      <td>-91.90</td>\n",
       "      <td>300.0</td>\n",
       "      <td>(297000.0, 302500.0]</td>\n",
       "    </tr>\n",
       "    <tr>\n",
       "      <th>3</th>\n",
       "      <td>12-JAN-05 21:50:00</td>\n",
       "      <td>Tornado</td>\n",
       "      <td>0</td>\n",
       "      <td>0</td>\n",
       "      <td>0</td>\n",
       "      <td>0</td>\n",
       "      <td>100000.0</td>\n",
       "      <td>0.0</td>\n",
       "      <td>37.02</td>\n",
       "      <td>-91.68</td>\n",
       "      <td>100.0</td>\n",
       "      <td>(99000.0, 104500.0]</td>\n",
       "    </tr>\n",
       "    <tr>\n",
       "      <th>4</th>\n",
       "      <td>04-JAN-05 22:35:00</td>\n",
       "      <td>Thunderstorm Wind</td>\n",
       "      <td>0</td>\n",
       "      <td>0</td>\n",
       "      <td>0</td>\n",
       "      <td>0</td>\n",
       "      <td>10000.0</td>\n",
       "      <td>0.0</td>\n",
       "      <td>32.37</td>\n",
       "      <td>-102.90</td>\n",
       "      <td>10.0</td>\n",
       "      <td>(5500.0, 11000.0]</td>\n",
       "    </tr>\n",
       "  </tbody>\n",
       "</table>\n",
       "</div>"
      ],
      "text/plain": [
       "      BEGIN_DATE_TIME         EVENT_TYPE  INJURIES_DIRECT  INJURIES_INDIRECT  \\\n",
       "0  13-JAN-05 18:52:00            Tornado                0                  0   \n",
       "1  12-JAN-05 20:56:00            Tornado                0                  0   \n",
       "2  12-JAN-05 21:30:00            Tornado                0                  0   \n",
       "3  12-JAN-05 21:50:00            Tornado                0                  0   \n",
       "4  04-JAN-05 22:35:00  Thunderstorm Wind                0                  0   \n",
       "\n",
       "   DEATHS_DIRECT  DEATHS_INDIRECT  DAMAGE_PROPERTY  DAMAGE_CROPS  LATITUDE  \\\n",
       "0              0                0              0.0           0.0     33.78   \n",
       "1              0                0          50000.0           0.0     36.58   \n",
       "2              0                0         300000.0           0.0     36.87   \n",
       "3              0                0         100000.0           0.0     37.02   \n",
       "4              0                0          10000.0           0.0     32.37   \n",
       "\n",
       "   LONGITUDE  DAMAGE_PROPERTY_THOUSANDS DAMAGE_PROPERTY_group  \n",
       "0     -82.20                        0.0     (-5500.0, 5500.0]  \n",
       "1     -92.28                       50.0    (49500.0, 55000.0]  \n",
       "2     -91.90                      300.0  (297000.0, 302500.0]  \n",
       "3     -91.68                      100.0   (99000.0, 104500.0]  \n",
       "4    -102.90                       10.0     (5500.0, 11000.0]  "
      ]
     },
     "execution_count": 29,
     "metadata": {},
     "output_type": "execute_result"
    }
   ],
   "source": [
    "df.head()"
   ]
  },
  {
   "cell_type": "code",
   "execution_count": 30,
   "metadata": {
    "id": "I3v7pAC87OMO"
   },
   "outputs": [
    {
     "data": {
      "text/plain": [
       "BEGIN_DATE_TIME                object\n",
       "EVENT_TYPE                     object\n",
       "INJURIES_DIRECT                 int64\n",
       "INJURIES_INDIRECT               int64\n",
       "DEATHS_DIRECT                   int64\n",
       "DEATHS_INDIRECT                 int64\n",
       "DAMAGE_PROPERTY               float64\n",
       "DAMAGE_CROPS                  float64\n",
       "LATITUDE                      float64\n",
       "LONGITUDE                     float64\n",
       "DAMAGE_PROPERTY_THOUSANDS     float64\n",
       "DAMAGE_PROPERTY_group        category\n",
       "dtype: object"
      ]
     },
     "execution_count": 30,
     "metadata": {},
     "output_type": "execute_result"
    }
   ],
   "source": [
    "df.dtypes"
   ]
  },
  {
   "cell_type": "markdown",
   "metadata": {
    "id": "OvuaJtJL7OMO"
   },
   "source": [
    "### 3.3.4 Simple Grouping of Data\n",
    "\n",
    "The real power of Pandas comes in its tools for grouping and aggregating data. Here we'll look at *value counts* and the basics of *group-by* operations."
   ]
  },
  {
   "cell_type": "markdown",
   "metadata": {
    "id": "0jH_36Us7OMO"
   },
   "source": [
    "#### 3.3.4.1 Value Counts"
   ]
  },
  {
   "cell_type": "markdown",
   "metadata": {
    "id": "pxlI3MZT7OMO"
   },
   "source": [
    "Pandas includes an array of useful functionality for manipulating and analyzing tabular data.\n",
    "We'll take a look at two of these here."
   ]
  },
  {
   "cell_type": "markdown",
   "metadata": {
    "id": "ENqD6BpU7OMO"
   },
   "source": [
    "The ``pandas.value_counts`` returns statistics on the unique values within each column.\n",
    "\n",
    "We can use it, for example, to break down the molecules by their mass group that we just created:"
   ]
  },
  {
   "cell_type": "markdown",
   "metadata": {
    "id": "EcbGgpT07OMO"
   },
   "source": [
    "```\n",
    "pd.value_counts(df['DAMAGE_PROPERTY_group'])\n",
    "```"
   ]
  },
  {
   "cell_type": "code",
   "execution_count": 31,
   "metadata": {
    "id": "g_gbjCSE7OMO"
   },
   "outputs": [
    {
     "data": {
      "text/plain": [
       "(-5500.0, 5500.0]         29012\n",
       "(5500.0, 11000.0]          1357\n",
       "(11000.0, 16500.0]          482\n",
       "(49500.0, 55000.0]          442\n",
       "(16500.0, 22000.0]          441\n",
       "                          ...  \n",
       "(3305500.0, 3311000.0]        0\n",
       "(3300000.0, 3305500.0]        0\n",
       "(3294500.0, 3300000.0]        0\n",
       "(3289000.0, 3294500.0]        0\n",
       "(2744500.0, 2750000.0]        0\n",
       "Name: DAMAGE_PROPERTY_group, Length: 1000, dtype: int64"
      ]
     },
     "execution_count": 31,
     "metadata": {},
     "output_type": "execute_result"
    }
   ],
   "source": [
    "pd.value_counts(df['DAMAGE_PROPERTY_group'])"
   ]
  },
  {
   "cell_type": "markdown",
   "metadata": {
    "id": "xFx6NoUI7OMO"
   },
   "source": [
    "What happens if we try this on a continuous valued variable like longitude?"
   ]
  },
  {
   "cell_type": "markdown",
   "metadata": {
    "id": "nJsZMxTX7OMO"
   },
   "source": [
    "```\n",
    "pd.value_counts(df['LONGITUDE'])\n",
    "```"
   ]
  },
  {
   "cell_type": "code",
   "execution_count": 32,
   "metadata": {
    "id": "W0rbOLws7OMO"
   },
   "outputs": [
    {
     "data": {
      "text/plain": [
       "-93.6200     38\n",
       "-93.2000     32\n",
       "-98.0000     28\n",
       "-92.4500     27\n",
       "-97.5800     27\n",
       "             ..\n",
       "-88.0575      1\n",
       "-93.6057      1\n",
       "-94.3405      1\n",
       "-71.0484      1\n",
       "-117.1741     1\n",
       "Name: LONGITUDE, Length: 16537, dtype: int64"
      ]
     },
     "execution_count": 32,
     "metadata": {},
     "output_type": "execute_result"
    }
   ],
   "source": [
    "pd.value_counts(df['LONGITUDE'])"
   ]
  },
  {
   "cell_type": "markdown",
   "metadata": {
    "id": "A-qS0TCo7OMO"
   },
   "source": [
    "We can do a little data exploration with this to look at the distribution of data in a column.  Here, let's look at the number of direct deaths in our dataset."
   ]
  },
  {
   "cell_type": "markdown",
   "metadata": {
    "id": "n_YuXJNi7OMO"
   },
   "source": [
    "```\n",
    "pd.value_counts(df['DEATHS_DIRECT'])\n",
    "```"
   ]
  },
  {
   "cell_type": "code",
   "execution_count": 33,
   "metadata": {
    "id": "RWSztxpk7OMO"
   },
   "outputs": [
    {
     "data": {
      "text/plain": [
       "0     33510\n",
       "1       104\n",
       "2        16\n",
       "21        1\n",
       "17        1\n",
       "4         1\n",
       "Name: DEATHS_DIRECT, dtype: int64"
      ]
     },
     "execution_count": 33,
     "metadata": {},
     "output_type": "execute_result"
    }
   ],
   "source": [
    "pd.value_counts(df['DEATHS_DIRECT'])"
   ]
  },
  {
   "cell_type": "markdown",
   "metadata": {
    "id": "xs5IaTz5bbcW"
   },
   "source": [
    "Thankfully, of our 33633 adverse weather events, 33510 had no deaths!  That is how many percent?\n",
    "\n",
    "```\n",
    "(33510/33633) * 100\n",
    "```"
   ]
  },
  {
   "cell_type": "code",
   "execution_count": 34,
   "metadata": {
    "id": "OBrXGdSVbsMC"
   },
   "outputs": [
    {
     "data": {
      "text/plain": [
       "99.63428775309964"
      ]
     },
     "execution_count": 34,
     "metadata": {},
     "output_type": "execute_result"
    }
   ],
   "source": [
    "(33510/33633) * 100"
   ]
  },
  {
   "cell_type": "markdown",
   "metadata": {
    "id": "VX0vMX2_bvah"
   },
   "source": [
    "### Question:\n",
    "How can we alter the `pd.value_counts` call to show us the percent of events with the specified number of deaths?\n",
    "\n",
    "Hint:  Can you do math on the `pd.value_counts` call?  Can you do it without hard coding the number of rows in the dataframe?"
   ]
  },
  {
   "cell_type": "code",
   "execution_count": null,
   "metadata": {
    "id": "XedL23AAcEJN"
   },
   "outputs": [],
   "source": []
  },
  {
   "cell_type": "markdown",
   "metadata": {
    "id": "wQh2EayH7OMP"
   },
   "source": [
    "#### 3.3.4.2 Group-by Operation\n",
    "\n",
    "One of the killer features of the Pandas dataframe is the ability to do group-by operations.\n",
    "You can visualize the group-by like this (image borrowed from the [Python Data Science Handbook](http://shop.oreilly.com/product/0636920034919.do))\n",
    "\n",
    "![image](https://swcarpentry.github.io/r-novice-gapminder/fig/12-plyr-fig1.png)"
   ]
  },
  {
   "cell_type": "markdown",
   "metadata": {
    "id": "qL69yo0W7OMP"
   },
   "source": [
    ":Let's break take this in smaller steps.\n",
    "Recall our ``DAMAGE_PROPERTY_group`` column."
   ]
  },
  {
   "cell_type": "markdown",
   "metadata": {
    "id": "lFGblhJs7OMP"
   },
   "source": [
    "```\n",
    "pd.value_counts(df['DAMAGE_PROPERTY_group'])\n",
    "```"
   ]
  },
  {
   "cell_type": "code",
   "execution_count": 35,
   "metadata": {
    "id": "zUN0vJN87OMP"
   },
   "outputs": [
    {
     "data": {
      "text/plain": [
       "(-5500.0, 5500.0]         29012\n",
       "(5500.0, 11000.0]          1357\n",
       "(11000.0, 16500.0]          482\n",
       "(49500.0, 55000.0]          442\n",
       "(16500.0, 22000.0]          441\n",
       "                          ...  \n",
       "(3305500.0, 3311000.0]        0\n",
       "(3300000.0, 3305500.0]        0\n",
       "(3294500.0, 3300000.0]        0\n",
       "(3289000.0, 3294500.0]        0\n",
       "(2744500.0, 2750000.0]        0\n",
       "Name: DAMAGE_PROPERTY_group, Length: 1000, dtype: int64"
      ]
     },
     "execution_count": 35,
     "metadata": {},
     "output_type": "execute_result"
    }
   ],
   "source": [
    "pd.value_counts(df['DAMAGE_PROPERTY_group'])"
   ]
  },
  {
   "cell_type": "markdown",
   "metadata": {
    "id": "iDlQIXxP7OMP"
   },
   "source": [
    "`groupby` allows us to look at the number of values for each column and each value."
   ]
  },
  {
   "cell_type": "markdown",
   "metadata": {
    "id": "d2gFeJe27OMP"
   },
   "source": [
    "```\n",
    "df.groupby(['DAMAGE_PROPERTY_group']).count()\n",
    "```"
   ]
  },
  {
   "cell_type": "code",
   "execution_count": 36,
   "metadata": {
    "id": "MmXUcxLA7OMP"
   },
   "outputs": [
    {
     "data": {
      "text/html": [
       "<div>\n",
       "<style scoped>\n",
       "    .dataframe tbody tr th:only-of-type {\n",
       "        vertical-align: middle;\n",
       "    }\n",
       "\n",
       "    .dataframe tbody tr th {\n",
       "        vertical-align: top;\n",
       "    }\n",
       "\n",
       "    .dataframe thead th {\n",
       "        text-align: right;\n",
       "    }\n",
       "</style>\n",
       "<table border=\"1\" class=\"dataframe\">\n",
       "  <thead>\n",
       "    <tr style=\"text-align: right;\">\n",
       "      <th></th>\n",
       "      <th>BEGIN_DATE_TIME</th>\n",
       "      <th>EVENT_TYPE</th>\n",
       "      <th>INJURIES_DIRECT</th>\n",
       "      <th>INJURIES_INDIRECT</th>\n",
       "      <th>DEATHS_DIRECT</th>\n",
       "      <th>DEATHS_INDIRECT</th>\n",
       "      <th>DAMAGE_PROPERTY</th>\n",
       "      <th>DAMAGE_CROPS</th>\n",
       "      <th>LATITUDE</th>\n",
       "      <th>LONGITUDE</th>\n",
       "      <th>DAMAGE_PROPERTY_THOUSANDS</th>\n",
       "    </tr>\n",
       "    <tr>\n",
       "      <th>DAMAGE_PROPERTY_group</th>\n",
       "      <th></th>\n",
       "      <th></th>\n",
       "      <th></th>\n",
       "      <th></th>\n",
       "      <th></th>\n",
       "      <th></th>\n",
       "      <th></th>\n",
       "      <th></th>\n",
       "      <th></th>\n",
       "      <th></th>\n",
       "      <th></th>\n",
       "    </tr>\n",
       "  </thead>\n",
       "  <tbody>\n",
       "    <tr>\n",
       "      <th>(-5500.0, 5500.0]</th>\n",
       "      <td>29012</td>\n",
       "      <td>29012</td>\n",
       "      <td>29012</td>\n",
       "      <td>29012</td>\n",
       "      <td>29012</td>\n",
       "      <td>29012</td>\n",
       "      <td>29012</td>\n",
       "      <td>29012</td>\n",
       "      <td>29012</td>\n",
       "      <td>29012</td>\n",
       "      <td>29012</td>\n",
       "    </tr>\n",
       "    <tr>\n",
       "      <th>(5500.0, 11000.0]</th>\n",
       "      <td>1357</td>\n",
       "      <td>1357</td>\n",
       "      <td>1357</td>\n",
       "      <td>1357</td>\n",
       "      <td>1357</td>\n",
       "      <td>1357</td>\n",
       "      <td>1357</td>\n",
       "      <td>1357</td>\n",
       "      <td>1357</td>\n",
       "      <td>1357</td>\n",
       "      <td>1357</td>\n",
       "    </tr>\n",
       "    <tr>\n",
       "      <th>(11000.0, 16500.0]</th>\n",
       "      <td>482</td>\n",
       "      <td>482</td>\n",
       "      <td>482</td>\n",
       "      <td>482</td>\n",
       "      <td>482</td>\n",
       "      <td>482</td>\n",
       "      <td>482</td>\n",
       "      <td>482</td>\n",
       "      <td>482</td>\n",
       "      <td>482</td>\n",
       "      <td>482</td>\n",
       "    </tr>\n",
       "    <tr>\n",
       "      <th>(16500.0, 22000.0]</th>\n",
       "      <td>441</td>\n",
       "      <td>441</td>\n",
       "      <td>441</td>\n",
       "      <td>441</td>\n",
       "      <td>441</td>\n",
       "      <td>441</td>\n",
       "      <td>441</td>\n",
       "      <td>441</td>\n",
       "      <td>441</td>\n",
       "      <td>441</td>\n",
       "      <td>441</td>\n",
       "    </tr>\n",
       "    <tr>\n",
       "      <th>(22000.0, 27500.0]</th>\n",
       "      <td>407</td>\n",
       "      <td>407</td>\n",
       "      <td>407</td>\n",
       "      <td>407</td>\n",
       "      <td>407</td>\n",
       "      <td>407</td>\n",
       "      <td>407</td>\n",
       "      <td>407</td>\n",
       "      <td>407</td>\n",
       "      <td>407</td>\n",
       "      <td>407</td>\n",
       "    </tr>\n",
       "    <tr>\n",
       "      <th>...</th>\n",
       "      <td>...</td>\n",
       "      <td>...</td>\n",
       "      <td>...</td>\n",
       "      <td>...</td>\n",
       "      <td>...</td>\n",
       "      <td>...</td>\n",
       "      <td>...</td>\n",
       "      <td>...</td>\n",
       "      <td>...</td>\n",
       "      <td>...</td>\n",
       "      <td>...</td>\n",
       "    </tr>\n",
       "    <tr>\n",
       "      <th>(5472500.0, 5478000.0]</th>\n",
       "      <td>0</td>\n",
       "      <td>0</td>\n",
       "      <td>0</td>\n",
       "      <td>0</td>\n",
       "      <td>0</td>\n",
       "      <td>0</td>\n",
       "      <td>0</td>\n",
       "      <td>0</td>\n",
       "      <td>0</td>\n",
       "      <td>0</td>\n",
       "      <td>0</td>\n",
       "    </tr>\n",
       "    <tr>\n",
       "      <th>(5478000.0, 5483500.0]</th>\n",
       "      <td>0</td>\n",
       "      <td>0</td>\n",
       "      <td>0</td>\n",
       "      <td>0</td>\n",
       "      <td>0</td>\n",
       "      <td>0</td>\n",
       "      <td>0</td>\n",
       "      <td>0</td>\n",
       "      <td>0</td>\n",
       "      <td>0</td>\n",
       "      <td>0</td>\n",
       "    </tr>\n",
       "    <tr>\n",
       "      <th>(5483500.0, 5489000.0]</th>\n",
       "      <td>0</td>\n",
       "      <td>0</td>\n",
       "      <td>0</td>\n",
       "      <td>0</td>\n",
       "      <td>0</td>\n",
       "      <td>0</td>\n",
       "      <td>0</td>\n",
       "      <td>0</td>\n",
       "      <td>0</td>\n",
       "      <td>0</td>\n",
       "      <td>0</td>\n",
       "    </tr>\n",
       "    <tr>\n",
       "      <th>(5489000.0, 5494500.0]</th>\n",
       "      <td>0</td>\n",
       "      <td>0</td>\n",
       "      <td>0</td>\n",
       "      <td>0</td>\n",
       "      <td>0</td>\n",
       "      <td>0</td>\n",
       "      <td>0</td>\n",
       "      <td>0</td>\n",
       "      <td>0</td>\n",
       "      <td>0</td>\n",
       "      <td>0</td>\n",
       "    </tr>\n",
       "    <tr>\n",
       "      <th>(5494500.0, 5500000.0]</th>\n",
       "      <td>1</td>\n",
       "      <td>1</td>\n",
       "      <td>1</td>\n",
       "      <td>1</td>\n",
       "      <td>1</td>\n",
       "      <td>1</td>\n",
       "      <td>1</td>\n",
       "      <td>1</td>\n",
       "      <td>1</td>\n",
       "      <td>1</td>\n",
       "      <td>1</td>\n",
       "    </tr>\n",
       "  </tbody>\n",
       "</table>\n",
       "<p>1000 rows × 11 columns</p>\n",
       "</div>"
      ],
      "text/plain": [
       "                        BEGIN_DATE_TIME  EVENT_TYPE  INJURIES_DIRECT  \\\n",
       "DAMAGE_PROPERTY_group                                                  \n",
       "(-5500.0, 5500.0]                 29012       29012            29012   \n",
       "(5500.0, 11000.0]                  1357        1357             1357   \n",
       "(11000.0, 16500.0]                  482         482              482   \n",
       "(16500.0, 22000.0]                  441         441              441   \n",
       "(22000.0, 27500.0]                  407         407              407   \n",
       "...                                 ...         ...              ...   \n",
       "(5472500.0, 5478000.0]                0           0                0   \n",
       "(5478000.0, 5483500.0]                0           0                0   \n",
       "(5483500.0, 5489000.0]                0           0                0   \n",
       "(5489000.0, 5494500.0]                0           0                0   \n",
       "(5494500.0, 5500000.0]                1           1                1   \n",
       "\n",
       "                        INJURIES_INDIRECT  DEATHS_DIRECT  DEATHS_INDIRECT  \\\n",
       "DAMAGE_PROPERTY_group                                                       \n",
       "(-5500.0, 5500.0]                   29012          29012            29012   \n",
       "(5500.0, 11000.0]                    1357           1357             1357   \n",
       "(11000.0, 16500.0]                    482            482              482   \n",
       "(16500.0, 22000.0]                    441            441              441   \n",
       "(22000.0, 27500.0]                    407            407              407   \n",
       "...                                   ...            ...              ...   \n",
       "(5472500.0, 5478000.0]                  0              0                0   \n",
       "(5478000.0, 5483500.0]                  0              0                0   \n",
       "(5483500.0, 5489000.0]                  0              0                0   \n",
       "(5489000.0, 5494500.0]                  0              0                0   \n",
       "(5494500.0, 5500000.0]                  1              1                1   \n",
       "\n",
       "                        DAMAGE_PROPERTY  DAMAGE_CROPS  LATITUDE  LONGITUDE  \\\n",
       "DAMAGE_PROPERTY_group                                                        \n",
       "(-5500.0, 5500.0]                 29012         29012     29012      29012   \n",
       "(5500.0, 11000.0]                  1357          1357      1357       1357   \n",
       "(11000.0, 16500.0]                  482           482       482        482   \n",
       "(16500.0, 22000.0]                  441           441       441        441   \n",
       "(22000.0, 27500.0]                  407           407       407        407   \n",
       "...                                 ...           ...       ...        ...   \n",
       "(5472500.0, 5478000.0]                0             0         0          0   \n",
       "(5478000.0, 5483500.0]                0             0         0          0   \n",
       "(5483500.0, 5489000.0]                0             0         0          0   \n",
       "(5489000.0, 5494500.0]                0             0         0          0   \n",
       "(5494500.0, 5500000.0]                1             1         1          1   \n",
       "\n",
       "                        DAMAGE_PROPERTY_THOUSANDS  \n",
       "DAMAGE_PROPERTY_group                              \n",
       "(-5500.0, 5500.0]                           29012  \n",
       "(5500.0, 11000.0]                            1357  \n",
       "(11000.0, 16500.0]                            482  \n",
       "(16500.0, 22000.0]                            441  \n",
       "(22000.0, 27500.0]                            407  \n",
       "...                                           ...  \n",
       "(5472500.0, 5478000.0]                          0  \n",
       "(5478000.0, 5483500.0]                          0  \n",
       "(5483500.0, 5489000.0]                          0  \n",
       "(5489000.0, 5494500.0]                          0  \n",
       "(5494500.0, 5500000.0]                          1  \n",
       "\n",
       "[1000 rows x 11 columns]"
      ]
     },
     "execution_count": 36,
     "metadata": {},
     "output_type": "execute_result"
    }
   ],
   "source": [
    "df.groupby(['DAMAGE_PROPERTY_group']).count()"
   ]
  },
  {
   "cell_type": "markdown",
   "metadata": {
    "id": "h-BTihEx7OMP"
   },
   "source": [
    "Now, let's find the mean of each of the columns for each ``LONG_group``.  *Notice* what happens to the non-numeric columns."
   ]
  },
  {
   "cell_type": "markdown",
   "metadata": {
    "id": "NjGIPmzt7OMP"
   },
   "source": [
    "```\n",
    "df.groupby(['DAMAGE_PROPERTY_group']).mean()\n",
    "```"
   ]
  },
  {
   "cell_type": "code",
   "execution_count": 37,
   "metadata": {
    "id": "CPigi6Rm7OMP"
   },
   "outputs": [
    {
     "data": {
      "text/html": [
       "<div>\n",
       "<style scoped>\n",
       "    .dataframe tbody tr th:only-of-type {\n",
       "        vertical-align: middle;\n",
       "    }\n",
       "\n",
       "    .dataframe tbody tr th {\n",
       "        vertical-align: top;\n",
       "    }\n",
       "\n",
       "    .dataframe thead th {\n",
       "        text-align: right;\n",
       "    }\n",
       "</style>\n",
       "<table border=\"1\" class=\"dataframe\">\n",
       "  <thead>\n",
       "    <tr style=\"text-align: right;\">\n",
       "      <th></th>\n",
       "      <th>INJURIES_DIRECT</th>\n",
       "      <th>INJURIES_INDIRECT</th>\n",
       "      <th>DEATHS_DIRECT</th>\n",
       "      <th>DEATHS_INDIRECT</th>\n",
       "      <th>DAMAGE_PROPERTY</th>\n",
       "      <th>DAMAGE_CROPS</th>\n",
       "      <th>LATITUDE</th>\n",
       "      <th>LONGITUDE</th>\n",
       "      <th>DAMAGE_PROPERTY_THOUSANDS</th>\n",
       "    </tr>\n",
       "    <tr>\n",
       "      <th>DAMAGE_PROPERTY_group</th>\n",
       "      <th></th>\n",
       "      <th></th>\n",
       "      <th></th>\n",
       "      <th></th>\n",
       "      <th></th>\n",
       "      <th></th>\n",
       "      <th></th>\n",
       "      <th></th>\n",
       "      <th></th>\n",
       "    </tr>\n",
       "  </thead>\n",
       "  <tbody>\n",
       "    <tr>\n",
       "      <th>(-5500.0, 5500.0]</th>\n",
       "      <td>0.008893</td>\n",
       "      <td>0.000551</td>\n",
       "      <td>0.003792</td>\n",
       "      <td>0.000586</td>\n",
       "      <td>4.456201e+02</td>\n",
       "      <td>564.510203</td>\n",
       "      <td>37.821502</td>\n",
       "      <td>-91.109094</td>\n",
       "      <td>0.445620</td>\n",
       "    </tr>\n",
       "    <tr>\n",
       "      <th>(5500.0, 11000.0]</th>\n",
       "      <td>0.023581</td>\n",
       "      <td>0.000000</td>\n",
       "      <td>0.013265</td>\n",
       "      <td>0.000000</td>\n",
       "      <td>9.363272e+03</td>\n",
       "      <td>3520.044215</td>\n",
       "      <td>37.381751</td>\n",
       "      <td>-88.724431</td>\n",
       "      <td>9.363272</td>\n",
       "    </tr>\n",
       "    <tr>\n",
       "      <th>(11000.0, 16500.0]</th>\n",
       "      <td>0.101660</td>\n",
       "      <td>0.008299</td>\n",
       "      <td>0.008299</td>\n",
       "      <td>0.000000</td>\n",
       "      <td>1.468604e+04</td>\n",
       "      <td>2864.107884</td>\n",
       "      <td>37.425276</td>\n",
       "      <td>-88.407303</td>\n",
       "      <td>14.686037</td>\n",
       "    </tr>\n",
       "    <tr>\n",
       "      <th>(16500.0, 22000.0]</th>\n",
       "      <td>0.018141</td>\n",
       "      <td>0.002268</td>\n",
       "      <td>0.011338</td>\n",
       "      <td>0.000000</td>\n",
       "      <td>1.991873e+04</td>\n",
       "      <td>2487.528345</td>\n",
       "      <td>37.586162</td>\n",
       "      <td>-89.786109</td>\n",
       "      <td>19.918730</td>\n",
       "    </tr>\n",
       "    <tr>\n",
       "      <th>(22000.0, 27500.0]</th>\n",
       "      <td>0.014742</td>\n",
       "      <td>0.000000</td>\n",
       "      <td>0.002457</td>\n",
       "      <td>0.000000</td>\n",
       "      <td>2.501280e+04</td>\n",
       "      <td>21445.208845</td>\n",
       "      <td>38.094390</td>\n",
       "      <td>-92.229975</td>\n",
       "      <td>25.012801</td>\n",
       "    </tr>\n",
       "    <tr>\n",
       "      <th>...</th>\n",
       "      <td>...</td>\n",
       "      <td>...</td>\n",
       "      <td>...</td>\n",
       "      <td>...</td>\n",
       "      <td>...</td>\n",
       "      <td>...</td>\n",
       "      <td>...</td>\n",
       "      <td>...</td>\n",
       "      <td>...</td>\n",
       "    </tr>\n",
       "    <tr>\n",
       "      <th>(5472500.0, 5478000.0]</th>\n",
       "      <td>NaN</td>\n",
       "      <td>NaN</td>\n",
       "      <td>NaN</td>\n",
       "      <td>NaN</td>\n",
       "      <td>NaN</td>\n",
       "      <td>NaN</td>\n",
       "      <td>NaN</td>\n",
       "      <td>NaN</td>\n",
       "      <td>NaN</td>\n",
       "    </tr>\n",
       "    <tr>\n",
       "      <th>(5478000.0, 5483500.0]</th>\n",
       "      <td>NaN</td>\n",
       "      <td>NaN</td>\n",
       "      <td>NaN</td>\n",
       "      <td>NaN</td>\n",
       "      <td>NaN</td>\n",
       "      <td>NaN</td>\n",
       "      <td>NaN</td>\n",
       "      <td>NaN</td>\n",
       "      <td>NaN</td>\n",
       "    </tr>\n",
       "    <tr>\n",
       "      <th>(5483500.0, 5489000.0]</th>\n",
       "      <td>NaN</td>\n",
       "      <td>NaN</td>\n",
       "      <td>NaN</td>\n",
       "      <td>NaN</td>\n",
       "      <td>NaN</td>\n",
       "      <td>NaN</td>\n",
       "      <td>NaN</td>\n",
       "      <td>NaN</td>\n",
       "      <td>NaN</td>\n",
       "    </tr>\n",
       "    <tr>\n",
       "      <th>(5489000.0, 5494500.0]</th>\n",
       "      <td>NaN</td>\n",
       "      <td>NaN</td>\n",
       "      <td>NaN</td>\n",
       "      <td>NaN</td>\n",
       "      <td>NaN</td>\n",
       "      <td>NaN</td>\n",
       "      <td>NaN</td>\n",
       "      <td>NaN</td>\n",
       "      <td>NaN</td>\n",
       "    </tr>\n",
       "    <tr>\n",
       "      <th>(5494500.0, 5500000.0]</th>\n",
       "      <td>0.000000</td>\n",
       "      <td>0.000000</td>\n",
       "      <td>0.000000</td>\n",
       "      <td>0.000000</td>\n",
       "      <td>5.500000e+06</td>\n",
       "      <td>0.000000</td>\n",
       "      <td>41.960200</td>\n",
       "      <td>-72.649400</td>\n",
       "      <td>5500.000000</td>\n",
       "    </tr>\n",
       "  </tbody>\n",
       "</table>\n",
       "<p>1000 rows × 9 columns</p>\n",
       "</div>"
      ],
      "text/plain": [
       "                        INJURIES_DIRECT  INJURIES_INDIRECT  DEATHS_DIRECT  \\\n",
       "DAMAGE_PROPERTY_group                                                       \n",
       "(-5500.0, 5500.0]              0.008893           0.000551       0.003792   \n",
       "(5500.0, 11000.0]              0.023581           0.000000       0.013265   \n",
       "(11000.0, 16500.0]             0.101660           0.008299       0.008299   \n",
       "(16500.0, 22000.0]             0.018141           0.002268       0.011338   \n",
       "(22000.0, 27500.0]             0.014742           0.000000       0.002457   \n",
       "...                                 ...                ...            ...   \n",
       "(5472500.0, 5478000.0]              NaN                NaN            NaN   \n",
       "(5478000.0, 5483500.0]              NaN                NaN            NaN   \n",
       "(5483500.0, 5489000.0]              NaN                NaN            NaN   \n",
       "(5489000.0, 5494500.0]              NaN                NaN            NaN   \n",
       "(5494500.0, 5500000.0]         0.000000           0.000000       0.000000   \n",
       "\n",
       "                        DEATHS_INDIRECT  DAMAGE_PROPERTY  DAMAGE_CROPS  \\\n",
       "DAMAGE_PROPERTY_group                                                    \n",
       "(-5500.0, 5500.0]              0.000586     4.456201e+02    564.510203   \n",
       "(5500.0, 11000.0]              0.000000     9.363272e+03   3520.044215   \n",
       "(11000.0, 16500.0]             0.000000     1.468604e+04   2864.107884   \n",
       "(16500.0, 22000.0]             0.000000     1.991873e+04   2487.528345   \n",
       "(22000.0, 27500.0]             0.000000     2.501280e+04  21445.208845   \n",
       "...                                 ...              ...           ...   \n",
       "(5472500.0, 5478000.0]              NaN              NaN           NaN   \n",
       "(5478000.0, 5483500.0]              NaN              NaN           NaN   \n",
       "(5483500.0, 5489000.0]              NaN              NaN           NaN   \n",
       "(5489000.0, 5494500.0]              NaN              NaN           NaN   \n",
       "(5494500.0, 5500000.0]         0.000000     5.500000e+06      0.000000   \n",
       "\n",
       "                         LATITUDE  LONGITUDE  DAMAGE_PROPERTY_THOUSANDS  \n",
       "DAMAGE_PROPERTY_group                                                    \n",
       "(-5500.0, 5500.0]       37.821502 -91.109094                   0.445620  \n",
       "(5500.0, 11000.0]       37.381751 -88.724431                   9.363272  \n",
       "(11000.0, 16500.0]      37.425276 -88.407303                  14.686037  \n",
       "(16500.0, 22000.0]      37.586162 -89.786109                  19.918730  \n",
       "(22000.0, 27500.0]      38.094390 -92.229975                  25.012801  \n",
       "...                           ...        ...                        ...  \n",
       "(5472500.0, 5478000.0]        NaN        NaN                        NaN  \n",
       "(5478000.0, 5483500.0]        NaN        NaN                        NaN  \n",
       "(5483500.0, 5489000.0]        NaN        NaN                        NaN  \n",
       "(5489000.0, 5494500.0]        NaN        NaN                        NaN  \n",
       "(5494500.0, 5500000.0]  41.960200 -72.649400                5500.000000  \n",
       "\n",
       "[1000 rows x 9 columns]"
      ]
     },
     "execution_count": 37,
     "metadata": {},
     "output_type": "execute_result"
    }
   ],
   "source": [
    "df.groupby(['DAMAGE_PROPERTY_group']).mean()"
   ]
  },
  {
   "cell_type": "markdown",
   "metadata": {
    "id": "zmuDb2boc1Ga"
   },
   "source": [
    "*Note* that in some instances, the values returned are `NaN` or [Not a Number](https://en.wikipedia.org/wiki/NaN).  This is used to represent something that cannot be calculated.  Why do you think some of these values cannot be calculated?\n",
    "\n",
    "Hint: What is 0/0?"
   ]
  },
  {
   "cell_type": "markdown",
   "metadata": {
    "id": "Tlqt3lrF7OMP"
   },
   "source": [
    "You can specify a groupby using the names of table columns and compute other functions, such as the ``sum``, ``count``, ``std``, and ``describe``."
   ]
  },
  {
   "cell_type": "markdown",
   "metadata": {
    "id": "5wkCFe4n7OMP"
   },
   "source": [
    "```\n",
    "df.groupby(['DAMAGE_PROPERTY_group'])['DEATHS_DIRECT'].describe()\n",
    "```"
   ]
  },
  {
   "cell_type": "code",
   "execution_count": 38,
   "metadata": {
    "id": "KZ3khGdf7OMP"
   },
   "outputs": [
    {
     "data": {
      "text/html": [
       "<div>\n",
       "<style scoped>\n",
       "    .dataframe tbody tr th:only-of-type {\n",
       "        vertical-align: middle;\n",
       "    }\n",
       "\n",
       "    .dataframe tbody tr th {\n",
       "        vertical-align: top;\n",
       "    }\n",
       "\n",
       "    .dataframe thead th {\n",
       "        text-align: right;\n",
       "    }\n",
       "</style>\n",
       "<table border=\"1\" class=\"dataframe\">\n",
       "  <thead>\n",
       "    <tr style=\"text-align: right;\">\n",
       "      <th></th>\n",
       "      <th>count</th>\n",
       "      <th>mean</th>\n",
       "      <th>std</th>\n",
       "      <th>min</th>\n",
       "      <th>25%</th>\n",
       "      <th>50%</th>\n",
       "      <th>75%</th>\n",
       "      <th>max</th>\n",
       "    </tr>\n",
       "    <tr>\n",
       "      <th>DAMAGE_PROPERTY_group</th>\n",
       "      <th></th>\n",
       "      <th></th>\n",
       "      <th></th>\n",
       "      <th></th>\n",
       "      <th></th>\n",
       "      <th></th>\n",
       "      <th></th>\n",
       "      <th></th>\n",
       "    </tr>\n",
       "  </thead>\n",
       "  <tbody>\n",
       "    <tr>\n",
       "      <th>(-5500.0, 5500.0]</th>\n",
       "      <td>29012.0</td>\n",
       "      <td>0.003792</td>\n",
       "      <td>0.118238</td>\n",
       "      <td>0.0</td>\n",
       "      <td>0.0</td>\n",
       "      <td>0.0</td>\n",
       "      <td>0.0</td>\n",
       "      <td>17.0</td>\n",
       "    </tr>\n",
       "    <tr>\n",
       "      <th>(5500.0, 11000.0]</th>\n",
       "      <td>1357.0</td>\n",
       "      <td>0.013265</td>\n",
       "      <td>0.162396</td>\n",
       "      <td>0.0</td>\n",
       "      <td>0.0</td>\n",
       "      <td>0.0</td>\n",
       "      <td>0.0</td>\n",
       "      <td>4.0</td>\n",
       "    </tr>\n",
       "    <tr>\n",
       "      <th>(11000.0, 16500.0]</th>\n",
       "      <td>482.0</td>\n",
       "      <td>0.008299</td>\n",
       "      <td>0.090813</td>\n",
       "      <td>0.0</td>\n",
       "      <td>0.0</td>\n",
       "      <td>0.0</td>\n",
       "      <td>0.0</td>\n",
       "      <td>1.0</td>\n",
       "    </tr>\n",
       "    <tr>\n",
       "      <th>(16500.0, 22000.0]</th>\n",
       "      <td>441.0</td>\n",
       "      <td>0.011338</td>\n",
       "      <td>0.125619</td>\n",
       "      <td>0.0</td>\n",
       "      <td>0.0</td>\n",
       "      <td>0.0</td>\n",
       "      <td>0.0</td>\n",
       "      <td>2.0</td>\n",
       "    </tr>\n",
       "    <tr>\n",
       "      <th>(22000.0, 27500.0]</th>\n",
       "      <td>407.0</td>\n",
       "      <td>0.002457</td>\n",
       "      <td>0.049568</td>\n",
       "      <td>0.0</td>\n",
       "      <td>0.0</td>\n",
       "      <td>0.0</td>\n",
       "      <td>0.0</td>\n",
       "      <td>1.0</td>\n",
       "    </tr>\n",
       "    <tr>\n",
       "      <th>...</th>\n",
       "      <td>...</td>\n",
       "      <td>...</td>\n",
       "      <td>...</td>\n",
       "      <td>...</td>\n",
       "      <td>...</td>\n",
       "      <td>...</td>\n",
       "      <td>...</td>\n",
       "      <td>...</td>\n",
       "    </tr>\n",
       "    <tr>\n",
       "      <th>(5472500.0, 5478000.0]</th>\n",
       "      <td>0.0</td>\n",
       "      <td>NaN</td>\n",
       "      <td>NaN</td>\n",
       "      <td>NaN</td>\n",
       "      <td>NaN</td>\n",
       "      <td>NaN</td>\n",
       "      <td>NaN</td>\n",
       "      <td>NaN</td>\n",
       "    </tr>\n",
       "    <tr>\n",
       "      <th>(5478000.0, 5483500.0]</th>\n",
       "      <td>0.0</td>\n",
       "      <td>NaN</td>\n",
       "      <td>NaN</td>\n",
       "      <td>NaN</td>\n",
       "      <td>NaN</td>\n",
       "      <td>NaN</td>\n",
       "      <td>NaN</td>\n",
       "      <td>NaN</td>\n",
       "    </tr>\n",
       "    <tr>\n",
       "      <th>(5483500.0, 5489000.0]</th>\n",
       "      <td>0.0</td>\n",
       "      <td>NaN</td>\n",
       "      <td>NaN</td>\n",
       "      <td>NaN</td>\n",
       "      <td>NaN</td>\n",
       "      <td>NaN</td>\n",
       "      <td>NaN</td>\n",
       "      <td>NaN</td>\n",
       "    </tr>\n",
       "    <tr>\n",
       "      <th>(5489000.0, 5494500.0]</th>\n",
       "      <td>0.0</td>\n",
       "      <td>NaN</td>\n",
       "      <td>NaN</td>\n",
       "      <td>NaN</td>\n",
       "      <td>NaN</td>\n",
       "      <td>NaN</td>\n",
       "      <td>NaN</td>\n",
       "      <td>NaN</td>\n",
       "    </tr>\n",
       "    <tr>\n",
       "      <th>(5494500.0, 5500000.0]</th>\n",
       "      <td>1.0</td>\n",
       "      <td>0.000000</td>\n",
       "      <td>NaN</td>\n",
       "      <td>0.0</td>\n",
       "      <td>0.0</td>\n",
       "      <td>0.0</td>\n",
       "      <td>0.0</td>\n",
       "      <td>0.0</td>\n",
       "    </tr>\n",
       "  </tbody>\n",
       "</table>\n",
       "<p>1000 rows × 8 columns</p>\n",
       "</div>"
      ],
      "text/plain": [
       "                          count      mean       std  min  25%  50%  75%   max\n",
       "DAMAGE_PROPERTY_group                                                        \n",
       "(-5500.0, 5500.0]       29012.0  0.003792  0.118238  0.0  0.0  0.0  0.0  17.0\n",
       "(5500.0, 11000.0]        1357.0  0.013265  0.162396  0.0  0.0  0.0  0.0   4.0\n",
       "(11000.0, 16500.0]        482.0  0.008299  0.090813  0.0  0.0  0.0  0.0   1.0\n",
       "(16500.0, 22000.0]        441.0  0.011338  0.125619  0.0  0.0  0.0  0.0   2.0\n",
       "(22000.0, 27500.0]        407.0  0.002457  0.049568  0.0  0.0  0.0  0.0   1.0\n",
       "...                         ...       ...       ...  ...  ...  ...  ...   ...\n",
       "(5472500.0, 5478000.0]      0.0       NaN       NaN  NaN  NaN  NaN  NaN   NaN\n",
       "(5478000.0, 5483500.0]      0.0       NaN       NaN  NaN  NaN  NaN  NaN   NaN\n",
       "(5483500.0, 5489000.0]      0.0       NaN       NaN  NaN  NaN  NaN  NaN   NaN\n",
       "(5489000.0, 5494500.0]      0.0       NaN       NaN  NaN  NaN  NaN  NaN   NaN\n",
       "(5494500.0, 5500000.0]      1.0  0.000000       NaN  0.0  0.0  0.0  0.0   0.0\n",
       "\n",
       "[1000 rows x 8 columns]"
      ]
     },
     "execution_count": 38,
     "metadata": {},
     "output_type": "execute_result"
    }
   ],
   "source": [
    "df.groupby(['DAMAGE_PROPERTY_group'])['DEATHS_DIRECT'].describe()"
   ]
  },
  {
   "cell_type": "markdown",
   "metadata": {
    "id": "xN96QXV97OMP"
   },
   "source": [
    "The simplest version of a groupby looks like this, and you can use almost any aggregation function you wish (mean, median, sum, minimum, maximum, standard deviation, count, etc.)\n",
    "\n",
    "```\n",
    "<data object>.groupby(<grouping values>).<aggregate>()\n",
    "```\n",
    "\n",
    "You can even group by multiple values: for example we can look at the statistics grouped by the `DAMAGE_PROPETY_GROUP` and `DEATHS_DIRECT`."
   ]
  },
  {
   "cell_type": "code",
   "execution_count": 39,
   "metadata": {
    "id": "mLuzWzc67OMP"
   },
   "outputs": [
    {
     "data": {
      "text/html": [
       "<div>\n",
       "<style scoped>\n",
       "    .dataframe tbody tr th:only-of-type {\n",
       "        vertical-align: middle;\n",
       "    }\n",
       "\n",
       "    .dataframe tbody tr th {\n",
       "        vertical-align: top;\n",
       "    }\n",
       "\n",
       "    .dataframe thead tr th {\n",
       "        text-align: left;\n",
       "    }\n",
       "\n",
       "    .dataframe thead tr:last-of-type th {\n",
       "        text-align: right;\n",
       "    }\n",
       "</style>\n",
       "<table border=\"1\" class=\"dataframe\">\n",
       "  <thead>\n",
       "    <tr>\n",
       "      <th></th>\n",
       "      <th></th>\n",
       "      <th colspan=\"8\" halign=\"left\">INJURIES_DIRECT</th>\n",
       "      <th colspan=\"2\" halign=\"left\">INJURIES_INDIRECT</th>\n",
       "      <th>...</th>\n",
       "      <th colspan=\"2\" halign=\"left\">LONGITUDE</th>\n",
       "      <th colspan=\"8\" halign=\"left\">DAMAGE_PROPERTY_THOUSANDS</th>\n",
       "    </tr>\n",
       "    <tr>\n",
       "      <th></th>\n",
       "      <th></th>\n",
       "      <th>count</th>\n",
       "      <th>mean</th>\n",
       "      <th>std</th>\n",
       "      <th>min</th>\n",
       "      <th>25%</th>\n",
       "      <th>50%</th>\n",
       "      <th>75%</th>\n",
       "      <th>max</th>\n",
       "      <th>count</th>\n",
       "      <th>mean</th>\n",
       "      <th>...</th>\n",
       "      <th>75%</th>\n",
       "      <th>max</th>\n",
       "      <th>count</th>\n",
       "      <th>mean</th>\n",
       "      <th>std</th>\n",
       "      <th>min</th>\n",
       "      <th>25%</th>\n",
       "      <th>50%</th>\n",
       "      <th>75%</th>\n",
       "      <th>max</th>\n",
       "    </tr>\n",
       "    <tr>\n",
       "      <th>DAMAGE_PROPERTY_group</th>\n",
       "      <th>DEATHS_DIRECT</th>\n",
       "      <th></th>\n",
       "      <th></th>\n",
       "      <th></th>\n",
       "      <th></th>\n",
       "      <th></th>\n",
       "      <th></th>\n",
       "      <th></th>\n",
       "      <th></th>\n",
       "      <th></th>\n",
       "      <th></th>\n",
       "      <th></th>\n",
       "      <th></th>\n",
       "      <th></th>\n",
       "      <th></th>\n",
       "      <th></th>\n",
       "      <th></th>\n",
       "      <th></th>\n",
       "      <th></th>\n",
       "      <th></th>\n",
       "      <th></th>\n",
       "      <th></th>\n",
       "    </tr>\n",
       "  </thead>\n",
       "  <tbody>\n",
       "    <tr>\n",
       "      <th rowspan=\"4\" valign=\"top\">(-5500.0, 5500.0]</th>\n",
       "      <th>0</th>\n",
       "      <td>28930.0</td>\n",
       "      <td>0.006360</td>\n",
       "      <td>0.163023</td>\n",
       "      <td>0.0</td>\n",
       "      <td>0.0</td>\n",
       "      <td>0.0</td>\n",
       "      <td>0.0</td>\n",
       "      <td>14.0</td>\n",
       "      <td>28930.0</td>\n",
       "      <td>0.000518</td>\n",
       "      <td>...</td>\n",
       "      <td>-81.8400</td>\n",
       "      <td>144.8000</td>\n",
       "      <td>28930.0</td>\n",
       "      <td>0.444391</td>\n",
       "      <td>1.179367</td>\n",
       "      <td>0.00</td>\n",
       "      <td>0.0</td>\n",
       "      <td>0.0</td>\n",
       "      <td>0.00</td>\n",
       "      <td>5.5</td>\n",
       "    </tr>\n",
       "    <tr>\n",
       "      <th>1</th>\n",
       "      <td>69.0</td>\n",
       "      <td>0.826087</td>\n",
       "      <td>3.459669</td>\n",
       "      <td>0.0</td>\n",
       "      <td>0.0</td>\n",
       "      <td>0.0</td>\n",
       "      <td>0.0</td>\n",
       "      <td>28.0</td>\n",
       "      <td>69.0</td>\n",
       "      <td>0.014493</td>\n",
       "      <td>...</td>\n",
       "      <td>-79.6078</td>\n",
       "      <td>-66.6450</td>\n",
       "      <td>69.0</td>\n",
       "      <td>0.811884</td>\n",
       "      <td>1.616369</td>\n",
       "      <td>0.00</td>\n",
       "      <td>0.0</td>\n",
       "      <td>0.0</td>\n",
       "      <td>1.00</td>\n",
       "      <td>5.0</td>\n",
       "    </tr>\n",
       "    <tr>\n",
       "      <th>2</th>\n",
       "      <td>12.0</td>\n",
       "      <td>1.416667</td>\n",
       "      <td>3.824760</td>\n",
       "      <td>0.0</td>\n",
       "      <td>0.0</td>\n",
       "      <td>0.0</td>\n",
       "      <td>0.0</td>\n",
       "      <td>13.0</td>\n",
       "      <td>12.0</td>\n",
       "      <td>0.000000</td>\n",
       "      <td>...</td>\n",
       "      <td>-79.1444</td>\n",
       "      <td>-71.3800</td>\n",
       "      <td>12.0</td>\n",
       "      <td>1.340000</td>\n",
       "      <td>1.968368</td>\n",
       "      <td>0.00</td>\n",
       "      <td>0.0</td>\n",
       "      <td>0.0</td>\n",
       "      <td>2.25</td>\n",
       "      <td>5.0</td>\n",
       "    </tr>\n",
       "    <tr>\n",
       "      <th>17</th>\n",
       "      <td>1.0</td>\n",
       "      <td>0.000000</td>\n",
       "      <td>NaN</td>\n",
       "      <td>0.0</td>\n",
       "      <td>0.0</td>\n",
       "      <td>0.0</td>\n",
       "      <td>0.0</td>\n",
       "      <td>0.0</td>\n",
       "      <td>1.0</td>\n",
       "      <td>0.000000</td>\n",
       "      <td>...</td>\n",
       "      <td>-93.3458</td>\n",
       "      <td>-93.3458</td>\n",
       "      <td>1.0</td>\n",
       "      <td>0.000000</td>\n",
       "      <td>NaN</td>\n",
       "      <td>0.00</td>\n",
       "      <td>0.0</td>\n",
       "      <td>0.0</td>\n",
       "      <td>0.00</td>\n",
       "      <td>0.0</td>\n",
       "    </tr>\n",
       "    <tr>\n",
       "      <th>(5500.0, 11000.0]</th>\n",
       "      <th>0</th>\n",
       "      <td>1345.0</td>\n",
       "      <td>0.017844</td>\n",
       "      <td>0.308090</td>\n",
       "      <td>0.0</td>\n",
       "      <td>0.0</td>\n",
       "      <td>0.0</td>\n",
       "      <td>0.0</td>\n",
       "      <td>9.0</td>\n",
       "      <td>1345.0</td>\n",
       "      <td>0.000000</td>\n",
       "      <td>...</td>\n",
       "      <td>-80.7500</td>\n",
       "      <td>-69.2500</td>\n",
       "      <td>1345.0</td>\n",
       "      <td>9.359450</td>\n",
       "      <td>1.269434</td>\n",
       "      <td>5.63</td>\n",
       "      <td>10.0</td>\n",
       "      <td>10.0</td>\n",
       "      <td>10.00</td>\n",
       "      <td>11.0</td>\n",
       "    </tr>\n",
       "    <tr>\n",
       "      <th>...</th>\n",
       "      <th>...</th>\n",
       "      <td>...</td>\n",
       "      <td>...</td>\n",
       "      <td>...</td>\n",
       "      <td>...</td>\n",
       "      <td>...</td>\n",
       "      <td>...</td>\n",
       "      <td>...</td>\n",
       "      <td>...</td>\n",
       "      <td>...</td>\n",
       "      <td>...</td>\n",
       "      <td>...</td>\n",
       "      <td>...</td>\n",
       "      <td>...</td>\n",
       "      <td>...</td>\n",
       "      <td>...</td>\n",
       "      <td>...</td>\n",
       "      <td>...</td>\n",
       "      <td>...</td>\n",
       "      <td>...</td>\n",
       "      <td>...</td>\n",
       "      <td>...</td>\n",
       "    </tr>\n",
       "    <tr>\n",
       "      <th>(1496000.0, 1501500.0]</th>\n",
       "      <th>0</th>\n",
       "      <td>1.0</td>\n",
       "      <td>0.000000</td>\n",
       "      <td>NaN</td>\n",
       "      <td>0.0</td>\n",
       "      <td>0.0</td>\n",
       "      <td>0.0</td>\n",
       "      <td>0.0</td>\n",
       "      <td>0.0</td>\n",
       "      <td>1.0</td>\n",
       "      <td>1.000000</td>\n",
       "      <td>...</td>\n",
       "      <td>-116.1816</td>\n",
       "      <td>-116.1816</td>\n",
       "      <td>1.0</td>\n",
       "      <td>1500.000000</td>\n",
       "      <td>NaN</td>\n",
       "      <td>1500.00</td>\n",
       "      <td>1500.0</td>\n",
       "      <td>1500.0</td>\n",
       "      <td>1500.00</td>\n",
       "      <td>1500.0</td>\n",
       "    </tr>\n",
       "    <tr>\n",
       "      <th>(1996500.0, 2002000.0]</th>\n",
       "      <th>0</th>\n",
       "      <td>1.0</td>\n",
       "      <td>0.000000</td>\n",
       "      <td>NaN</td>\n",
       "      <td>0.0</td>\n",
       "      <td>0.0</td>\n",
       "      <td>0.0</td>\n",
       "      <td>0.0</td>\n",
       "      <td>0.0</td>\n",
       "      <td>1.0</td>\n",
       "      <td>0.000000</td>\n",
       "      <td>...</td>\n",
       "      <td>-84.4800</td>\n",
       "      <td>-84.4800</td>\n",
       "      <td>1.0</td>\n",
       "      <td>2000.000000</td>\n",
       "      <td>NaN</td>\n",
       "      <td>2000.00</td>\n",
       "      <td>2000.0</td>\n",
       "      <td>2000.0</td>\n",
       "      <td>2000.00</td>\n",
       "      <td>2000.0</td>\n",
       "    </tr>\n",
       "    <tr>\n",
       "      <th>(2997500.0, 3003000.0]</th>\n",
       "      <th>0</th>\n",
       "      <td>1.0</td>\n",
       "      <td>0.000000</td>\n",
       "      <td>NaN</td>\n",
       "      <td>0.0</td>\n",
       "      <td>0.0</td>\n",
       "      <td>0.0</td>\n",
       "      <td>0.0</td>\n",
       "      <td>0.0</td>\n",
       "      <td>1.0</td>\n",
       "      <td>0.000000</td>\n",
       "      <td>...</td>\n",
       "      <td>-115.7600</td>\n",
       "      <td>-115.7600</td>\n",
       "      <td>1.0</td>\n",
       "      <td>3000.000000</td>\n",
       "      <td>NaN</td>\n",
       "      <td>3000.00</td>\n",
       "      <td>3000.0</td>\n",
       "      <td>3000.0</td>\n",
       "      <td>3000.00</td>\n",
       "      <td>3000.0</td>\n",
       "    </tr>\n",
       "    <tr>\n",
       "      <th>(3498000.0, 3503500.0]</th>\n",
       "      <th>0</th>\n",
       "      <td>1.0</td>\n",
       "      <td>0.000000</td>\n",
       "      <td>NaN</td>\n",
       "      <td>0.0</td>\n",
       "      <td>0.0</td>\n",
       "      <td>0.0</td>\n",
       "      <td>0.0</td>\n",
       "      <td>0.0</td>\n",
       "      <td>1.0</td>\n",
       "      <td>0.000000</td>\n",
       "      <td>...</td>\n",
       "      <td>-102.3400</td>\n",
       "      <td>-102.3400</td>\n",
       "      <td>1.0</td>\n",
       "      <td>3500.000000</td>\n",
       "      <td>NaN</td>\n",
       "      <td>3500.00</td>\n",
       "      <td>3500.0</td>\n",
       "      <td>3500.0</td>\n",
       "      <td>3500.00</td>\n",
       "      <td>3500.0</td>\n",
       "    </tr>\n",
       "    <tr>\n",
       "      <th>(5494500.0, 5500000.0]</th>\n",
       "      <th>0</th>\n",
       "      <td>1.0</td>\n",
       "      <td>0.000000</td>\n",
       "      <td>NaN</td>\n",
       "      <td>0.0</td>\n",
       "      <td>0.0</td>\n",
       "      <td>0.0</td>\n",
       "      <td>0.0</td>\n",
       "      <td>0.0</td>\n",
       "      <td>1.0</td>\n",
       "      <td>0.000000</td>\n",
       "      <td>...</td>\n",
       "      <td>-72.6494</td>\n",
       "      <td>-72.6494</td>\n",
       "      <td>1.0</td>\n",
       "      <td>5500.000000</td>\n",
       "      <td>NaN</td>\n",
       "      <td>5500.00</td>\n",
       "      <td>5500.0</td>\n",
       "      <td>5500.0</td>\n",
       "      <td>5500.00</td>\n",
       "      <td>5500.0</td>\n",
       "    </tr>\n",
       "  </tbody>\n",
       "</table>\n",
       "<p>114 rows × 64 columns</p>\n",
       "</div>"
      ],
      "text/plain": [
       "                                     INJURIES_DIRECT                           \\\n",
       "                                               count      mean       std  min   \n",
       "DAMAGE_PROPERTY_group  DEATHS_DIRECT                                            \n",
       "(-5500.0, 5500.0]      0                     28930.0  0.006360  0.163023  0.0   \n",
       "                       1                        69.0  0.826087  3.459669  0.0   \n",
       "                       2                        12.0  1.416667  3.824760  0.0   \n",
       "                       17                        1.0  0.000000       NaN  0.0   \n",
       "(5500.0, 11000.0]      0                      1345.0  0.017844  0.308090  0.0   \n",
       "...                                              ...       ...       ...  ...   \n",
       "(1496000.0, 1501500.0] 0                         1.0  0.000000       NaN  0.0   \n",
       "(1996500.0, 2002000.0] 0                         1.0  0.000000       NaN  0.0   \n",
       "(2997500.0, 3003000.0] 0                         1.0  0.000000       NaN  0.0   \n",
       "(3498000.0, 3503500.0] 0                         1.0  0.000000       NaN  0.0   \n",
       "(5494500.0, 5500000.0] 0                         1.0  0.000000       NaN  0.0   \n",
       "\n",
       "                                                          INJURIES_INDIRECT  \\\n",
       "                                      25%  50%  75%   max             count   \n",
       "DAMAGE_PROPERTY_group  DEATHS_DIRECT                                          \n",
       "(-5500.0, 5500.0]      0              0.0  0.0  0.0  14.0           28930.0   \n",
       "                       1              0.0  0.0  0.0  28.0              69.0   \n",
       "                       2              0.0  0.0  0.0  13.0              12.0   \n",
       "                       17             0.0  0.0  0.0   0.0               1.0   \n",
       "(5500.0, 11000.0]      0              0.0  0.0  0.0   9.0            1345.0   \n",
       "...                                   ...  ...  ...   ...               ...   \n",
       "(1496000.0, 1501500.0] 0              0.0  0.0  0.0   0.0               1.0   \n",
       "(1996500.0, 2002000.0] 0              0.0  0.0  0.0   0.0               1.0   \n",
       "(2997500.0, 3003000.0] 0              0.0  0.0  0.0   0.0               1.0   \n",
       "(3498000.0, 3503500.0] 0              0.0  0.0  0.0   0.0               1.0   \n",
       "(5494500.0, 5500000.0] 0              0.0  0.0  0.0   0.0               1.0   \n",
       "\n",
       "                                                ... LONGITUDE            \\\n",
       "                                          mean  ...       75%       max   \n",
       "DAMAGE_PROPERTY_group  DEATHS_DIRECT            ...                       \n",
       "(-5500.0, 5500.0]      0              0.000518  ...  -81.8400  144.8000   \n",
       "                       1              0.014493  ...  -79.6078  -66.6450   \n",
       "                       2              0.000000  ...  -79.1444  -71.3800   \n",
       "                       17             0.000000  ...  -93.3458  -93.3458   \n",
       "(5500.0, 11000.0]      0              0.000000  ...  -80.7500  -69.2500   \n",
       "...                                        ...  ...       ...       ...   \n",
       "(1496000.0, 1501500.0] 0              1.000000  ... -116.1816 -116.1816   \n",
       "(1996500.0, 2002000.0] 0              0.000000  ...  -84.4800  -84.4800   \n",
       "(2997500.0, 3003000.0] 0              0.000000  ... -115.7600 -115.7600   \n",
       "(3498000.0, 3503500.0] 0              0.000000  ... -102.3400 -102.3400   \n",
       "(5494500.0, 5500000.0] 0              0.000000  ...  -72.6494  -72.6494   \n",
       "\n",
       "                                     DAMAGE_PROPERTY_THOUSANDS               \\\n",
       "                                                         count         mean   \n",
       "DAMAGE_PROPERTY_group  DEATHS_DIRECT                                          \n",
       "(-5500.0, 5500.0]      0                               28930.0     0.444391   \n",
       "                       1                                  69.0     0.811884   \n",
       "                       2                                  12.0     1.340000   \n",
       "                       17                                  1.0     0.000000   \n",
       "(5500.0, 11000.0]      0                                1345.0     9.359450   \n",
       "...                                                        ...          ...   \n",
       "(1496000.0, 1501500.0] 0                                   1.0  1500.000000   \n",
       "(1996500.0, 2002000.0] 0                                   1.0  2000.000000   \n",
       "(2997500.0, 3003000.0] 0                                   1.0  3000.000000   \n",
       "(3498000.0, 3503500.0] 0                                   1.0  3500.000000   \n",
       "(5494500.0, 5500000.0] 0                                   1.0  5500.000000   \n",
       "\n",
       "                                                                         \\\n",
       "                                           std      min     25%     50%   \n",
       "DAMAGE_PROPERTY_group  DEATHS_DIRECT                                      \n",
       "(-5500.0, 5500.0]      0              1.179367     0.00     0.0     0.0   \n",
       "                       1              1.616369     0.00     0.0     0.0   \n",
       "                       2              1.968368     0.00     0.0     0.0   \n",
       "                       17                  NaN     0.00     0.0     0.0   \n",
       "(5500.0, 11000.0]      0              1.269434     5.63    10.0    10.0   \n",
       "...                                        ...      ...     ...     ...   \n",
       "(1496000.0, 1501500.0] 0                   NaN  1500.00  1500.0  1500.0   \n",
       "(1996500.0, 2002000.0] 0                   NaN  2000.00  2000.0  2000.0   \n",
       "(2997500.0, 3003000.0] 0                   NaN  3000.00  3000.0  3000.0   \n",
       "(3498000.0, 3503500.0] 0                   NaN  3500.00  3500.0  3500.0   \n",
       "(5494500.0, 5500000.0] 0                   NaN  5500.00  5500.0  5500.0   \n",
       "\n",
       "                                                       \n",
       "                                          75%     max  \n",
       "DAMAGE_PROPERTY_group  DEATHS_DIRECT                   \n",
       "(-5500.0, 5500.0]      0                 0.00     5.5  \n",
       "                       1                 1.00     5.0  \n",
       "                       2                 2.25     5.0  \n",
       "                       17                0.00     0.0  \n",
       "(5500.0, 11000.0]      0                10.00    11.0  \n",
       "...                                       ...     ...  \n",
       "(1496000.0, 1501500.0] 0              1500.00  1500.0  \n",
       "(1996500.0, 2002000.0] 0              2000.00  2000.0  \n",
       "(2997500.0, 3003000.0] 0              3000.00  3000.0  \n",
       "(3498000.0, 3503500.0] 0              3500.00  3500.0  \n",
       "(5494500.0, 5500000.0] 0              5500.00  5500.0  \n",
       "\n",
       "[114 rows x 64 columns]"
      ]
     },
     "execution_count": 39,
     "metadata": {},
     "output_type": "execute_result"
    }
   ],
   "source": [
    "df.groupby(['DAMAGE_PROPERTY_group', 'DEATHS_DIRECT']).describe()"
   ]
  },
  {
   "cell_type": "code",
   "execution_count": null,
   "metadata": {
    "id": "bB2zF5KT7OMP"
   },
   "outputs": [],
   "source": []
  },
  {
   "cell_type": "code",
   "execution_count": null,
   "metadata": {
    "id": "DqJuKgC17OMP"
   },
   "outputs": [],
   "source": []
  },
  {
   "cell_type": "markdown",
   "metadata": {
    "id": "yn8YPlHG7OMP"
   },
   "source": [
    "## 3.5 Breakout for Functions and Pandas\n",
    "\n",
    "Write a function that takes a column in Pandas and computes the [arithmetic mean](https://en.wikipedia.org/wiki/Arithmetic_mean) value of the data in it without using Pandas **_aggregate_** functions.\n",
    "\n",
    "Compare that result to the one from Pandas **_aggregate_** function `.mean()`.  How did your values compare?  Were they exactly equal?  Did you expect them to be given what you know about **_floating point_** numbers?"
   ]
  },
  {
   "cell_type": "code",
   "execution_count": null,
   "metadata": {
    "id": "qVVPpOZ6iqdj"
   },
   "outputs": [],
   "source": []
  },
  {
   "cell_type": "markdown",
   "metadata": {
    "id": "ONR9DcGziljm"
   },
   "source": [
    "*ANSWER KEY:* There are a lot of ways to do this.  One possible solution is shown below.\n"
   ]
  },
  {
   "cell_type": "code",
   "execution_count": 40,
   "metadata": {
    "id": "jZwcmO_V7OMP"
   },
   "outputs": [],
   "source": [
    "def column_mean(df, column_name):\n",
    "  sum = 0\n",
    "  for value in df[column_name]:\n",
    "    sum += value\n",
    "  mean = sum / len(df[column_name])\n",
    "  print(mean)"
   ]
  },
  {
   "cell_type": "code",
   "execution_count": 41,
   "metadata": {
    "id": "XEJm7RhSj3zd"
   },
   "outputs": [],
   "source": [
    "my_column = \"INJURIES_INDIRECT\""
   ]
  },
  {
   "cell_type": "code",
   "execution_count": 42,
   "metadata": {
    "id": "FZkGRyVFjpyJ"
   },
   "outputs": [
    {
     "name": "stdout",
     "output_type": "stream",
     "text": [
      "0.0008325156840008325\n"
     ]
    }
   ],
   "source": [
    "column_mean(df, my_column)"
   ]
  },
  {
   "cell_type": "code",
   "execution_count": 43,
   "metadata": {
    "id": "F4RzC51jju3D"
   },
   "outputs": [
    {
     "data": {
      "text/plain": [
       "0.0008325156840008325"
      ]
     },
     "execution_count": 43,
     "metadata": {},
     "output_type": "execute_result"
    }
   ],
   "source": [
    "df[my_column].mean()"
   ]
  },
  {
   "cell_type": "code",
   "execution_count": null,
   "metadata": {
    "id": "MLulgsSLj0oj"
   },
   "outputs": [],
   "source": []
  }
 ],
 "metadata": {
  "colab": {
   "collapsed_sections": [
    "lfXUSir37OMO",
    "OvuaJtJL7OMO",
    "0jH_36Us7OMO",
    "wQh2EayH7OMP"
   ],
   "name": "C-HACK_Tutorial_3_ANSWER_KEY.ipynb",
   "provenance": [
    {
     "file_id": "1Sj0OEykylMTD4gDgQKpowN7l6HsbKRuZ",
     "timestamp": 1641425185498
    }
   ]
  },
  "kernelspec": {
   "display_name": "Python 3",
   "language": "python",
   "name": "python3"
  },
  "language_info": {
   "codemirror_mode": {
    "name": "ipython",
    "version": 3
   },
   "file_extension": ".py",
   "mimetype": "text/x-python",
   "name": "python",
   "nbconvert_exporter": "python",
   "pygments_lexer": "ipython3",
   "version": "3.6.10"
  }
 },
 "nbformat": 4,
 "nbformat_minor": 4
}
