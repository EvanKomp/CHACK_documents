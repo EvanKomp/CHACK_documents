{
 "cells": [
  {
   "cell_type": "markdown",
   "metadata": {
    "id": "h5jdGYlw7OMN"
   },
   "source": [
    "# **C-HACK Tutorial 3: Functions and Pandas Introduction**\n",
    "\n",
    "**Instructor**: redacted<br>\n",
    "**Contact**: redacted"
   ]
  },
  {
   "cell_type": "markdown",
   "metadata": {
    "id": "QKS45kaP7OMN"
   },
   "source": [
    "Today, we will discuss **_functions_** in more depth.  We've seen them previously and used them, for example the `.append()` **_function_**.  Here, we'll dig into how you can make your own functions to encapsulate code that you will reuse over and over.  \n",
    "\n",
    "Then we'll jump into the **Pandas** package.  Packages are collections of related functions.  These are the things we `import`. Pandas is a two dimensional data structure like a spreadsheet in Excel."
   ]
  },
  {
   "cell_type": "markdown",
   "metadata": {
    "id": "1rDZTJhW7OMN"
   },
   "source": [
    "### 3.1 Review from Tutorial on Data Structures and Flow Control\n",
    "\n",
    "In our last tutorial, we discussed **_lists_**, **_dictionaries_**, and **_flow control_**.\n",
    "\n",
    "**_Lists_** are **_ordered collections_** of data that can be used to hold multiple pieces of information while preserving thier order.  We use `[` and `]` to access elements by their indices which start with `0`.  All things that operate on **_lists_** like slices use the concept of an inclusive lower bound and an exclusive upper bound.  So, the following gets elements from the **_list_** `my_list` with index values of `0`, `1`, and `2`, but **not** `3`!\n",
    "\n",
    "```\n",
    "my_list[0:3]\n",
    "```\n",
    "\n",
    "It is equivalent to what other way of writing the same statement using **_slicing_**?  Hint, think about leaving out one of the numbers in the slice!\n",
    "\n",
    "**_Dictionaries_** are **_named_** **_collections_** of data that can be used to hold multiple pieces of information as **_values_** that are addressed by **_keys_** resulting in a **_key_** to **_value_** data structure.  They are accessed with `[` and `]` but intialized with `{` and `}`.  E.g.\n",
    "\n",
    "```\n",
    "my_dict = { 'cake' : 'Tasty!', 'toenails' : 'Gross!' }\n",
    "my_dict['cake']\n",
    "```\n",
    "\n",
    "Finally, we talked about **_flow control_** and using the concept of **_conditional execution_** to decide which code statements were executed.  Remember this figure?\n",
    "\n",
    "\n",
    "<img src=\"https://docs.oracle.com/cd/B19306_01/appdev.102/b14261/lnpls008.gif\">Flow control figure</img>\n",
    "\n",
    "What are the **_if_** statments?\n",
    "\n",
    "Where do **_for_** loops fit in?\n",
    "\n",
    "What was the overarching concept of a **_function_**?"
   ]
  },
  {
   "cell_type": "markdown",
   "metadata": {
    "id": "2Zw32p1s7OMN"
   },
   "source": [
    "### 3.2 Functions\n",
    "\n",
    "For loops let you repeat some code for every item in a list.  Functions are similar in that they run the same lines of code for new values of some variable.  They are different in that functions are not limited to looping over items.\n",
    "\n",
    "Functions are a critical part of writing easy to read, reusable code.\n",
    "\n",
    "Create a function like:\n",
    "```\n",
    "def function_name (parameters):\n",
    "    \"\"\"\n",
    "    optional docstring\n",
    "    \"\"\"\n",
    "    function expressions\n",
    "    return [variable]\n",
    "```\n",
    "\n",
    "_Note:_ Sometimes I use the word argument in place of parameter.\n",
    "\n",
    "Here is a simple example.  It prints a string that was passed in and returns nothing.\n",
    "\n",
    "```\n",
    "def print_string(str):\n",
    "    \"\"\"This prints out a string passed as the parameter.\"\"\"\n",
    "    print(str)\n",
    "    return\n",
    "```"
   ]
  },
  {
   "cell_type": "code",
   "execution_count": null,
   "metadata": {
    "id": "OB1Rbs3X7OMN"
   },
   "outputs": [],
   "source": [
    "def print_string(str):\n",
    "    \"\"\"This prints out a string passed as the parameter.\"\"\"\n",
    "    print(str)\n",
    "    return"
   ]
  },
  {
   "cell_type": "markdown",
   "metadata": {
    "id": "qJZp8zrg7OMN"
   },
   "source": [
    "To call the function, use:\n",
    "```\n",
    "print_string(\"Dave is awesome!\")\n",
    "```\n",
    "\n",
    "_Note:_ The function has to be defined before you can call it!"
   ]
  },
  {
   "cell_type": "code",
   "execution_count": null,
   "metadata": {
    "id": "StenpmR-7OMN"
   },
   "outputs": [],
   "source": [
    "print_string2(\"Dave is OK\")"
   ]
  },
  {
   "cell_type": "markdown",
   "metadata": {
    "id": "W8aoOVhV7OMN"
   },
   "source": [
    "If you don't provide an argument or too many, you get an error."
   ]
  },
  {
   "cell_type": "code",
   "execution_count": null,
   "metadata": {
    "id": "HcIEADTy7OMO"
   },
   "outputs": [],
   "source": [
    "print_string()"
   ]
  },
  {
   "cell_type": "markdown",
   "metadata": {
    "id": "UT97gfn-7OMO"
   },
   "source": [
    "#### 3.2.1 Function Parameters\n",
    "\n",
    "Parameters (or arguments) in Python are all passed by reference.  This means that if you modify the parameters in the function, they are modified outside of the function.\n",
    "\n",
    "See the following example:\n",
    "\n",
    "```\n",
    "def change_list(my_list):\n",
    "   \"\"\"This changes a passed list into this function\"\"\"\n",
    "   my_list.append('four');\n",
    "   print('list inside the function: ', my_list)\n",
    "   return\n",
    "\n",
    "my_list = [1, 2, 3];\n",
    "print('list before the function: ', my_list)\n",
    "change_list(my_list);\n",
    "print('list after the function: ', my_list)\n",
    "```"
   ]
  },
  {
   "cell_type": "code",
   "execution_count": null,
   "metadata": {
    "id": "LCEp7aLY7OMO"
   },
   "outputs": [],
   "source": [
    "def change_list(my_list):\n",
    "   \"\"\"This changes a passed list into this function\"\"\"\n",
    "   my_list.append('four');\n",
    "   print('list inside the function: ', my_list)\n",
    "   return\n",
    "\n",
    "my_list = [1, 2, 3];\n",
    "print('list before the function: ', my_list)\n",
    "change_list(my_list);\n",
    "print('list after the function: ', my_list)"
   ]
  },
  {
   "cell_type": "markdown",
   "metadata": {
    "id": "ofed6scx7OMO"
   },
   "source": [
    "#### 3.2.2 For advanced folks...\n",
    "\n",
    "Variables have scope: **_global_** and **_local_**\n",
    "\n",
    "In a function, new variables that you create are not saved when the function returns - these are **_local_** variables.  Variables defined outside of the function can be accessed but not changed - these are **_global_** variables, _Note_ there is a way to do this with the **_global_** keyword.  Generally, the use of **_global_** variables is not encouraged, instead use parameters.\n",
    "\n",
    "```\n",
    "my_global_1 = 'bad idea'\n",
    "my_global_2 = 'another bad one'\n",
    "my_global_3 = 'better idea'\n",
    "\n",
    "def my_function():\n",
    "    print(my_global)\n",
    "    my_global_2 = 'broke your global, man!'\n",
    "    global my_global_3\n",
    "    my_global_3 = 'still a better idea'\n",
    "    return\n",
    "    \n",
    "my_function()\n",
    "print(my_global_2)\n",
    "print(my_global_3)\n",
    "```"
   ]
  },
  {
   "cell_type": "code",
   "execution_count": null,
   "metadata": {
    "id": "vZhMpuys7OMO"
   },
   "outputs": [],
   "source": []
  },
  {
   "cell_type": "markdown",
   "metadata": {
    "id": "8dJpON387OMO"
   },
   "source": [
    "In general, you want to use parameters to provide data to a function and return a result with the `return`. E.g.\n",
    "\n",
    "```\n",
    "def sum(x, y):\n",
    "    my_sum = x + y\n",
    "    return my_sum\n",
    "```\n",
    "\n",
    "If you are going to return multiple objects, what data structure that we talked about can be used?  Give and example below."
   ]
  },
  {
   "cell_type": "code",
   "execution_count": null,
   "metadata": {
    "id": "qpT1D7A77OMO"
   },
   "outputs": [],
   "source": []
  },
  {
   "cell_type": "markdown",
   "metadata": {
    "id": "GIJRPKZi7OMO"
   },
   "source": [
    "#### 3.2.3 Parameters have  different types:\n",
    "\n",
    "| type | behavior |\n",
    "|------|----------|\n",
    "| required | positional, must be present or error, e.g. `my_func(first_name, last_name)` |\n",
    "| keyword | position independent, e.g. `my_func(first_name, last_name)` can be called `my_func(first_name='Dave', last_name='Beck')` or `my_func(last_name='Beck', first_name='Dave')` |\n",
    "| default | keyword params that default to a value if not provided |\n"
   ]
  },
  {
   "cell_type": "markdown",
   "metadata": {
    "id": "5PLKmR-B7OMO"
   },
   "source": [
    "```\n",
    "def print_name(first, last='the C-Hacker'):\n",
    "    print('Your name is %s %s' % (first, last))\n",
    "    return\n",
    "```"
   ]
  },
  {
   "cell_type": "code",
   "execution_count": null,
   "metadata": {
    "id": "UxWgNXam7OMO"
   },
   "outputs": [],
   "source": [
    "def print_name(first, last='the C-Hacker'):\n",
    "    print('Your name is %s %s' % (first, last))\n",
    "    return"
   ]
  },
  {
   "cell_type": "markdown",
   "metadata": {
    "id": "VeD3Gt1m7OMO"
   },
   "source": [
    "Play around with the above function."
   ]
  },
  {
   "cell_type": "code",
   "execution_count": null,
   "metadata": {
    "id": "fcmlUsme7OMO"
   },
   "outputs": [],
   "source": [
    "print_name('Dave', last='his Data Science Majesty')"
   ]
  },
  {
   "cell_type": "markdown",
   "metadata": {
    "id": "y32EcPFK7OMO"
   },
   "source": [
    "Functions can contain any code that you put anywhere else including:\n",
    "* if...elif...else\n",
    "* for...else\n",
    "* while\n",
    "* other function calls"
   ]
  },
  {
   "cell_type": "markdown",
   "metadata": {
    "id": "uuAR1MK87OMO"
   },
   "source": [
    "```\n",
    "def print_name_age(first, last, age):\n",
    "    print_name(first, last)\n",
    "    print('Your age is %d' % (age))\n",
    "    if age > 35:\n",
    "        print('You are really old.')\n",
    "    return\n",
    "```\n"
   ]
  },
  {
   "cell_type": "code",
   "execution_count": null,
   "metadata": {
    "id": "L9Q0iWw77OMO"
   },
   "outputs": [],
   "source": [
    "def print_name_age(first, last, age):\n",
    "    print_name(first, last)\n",
    "    print('Your age is %d' % (age))\n",
    "    if age > 35:\n",
    "        print('You are really old.')\n",
    "    return"
   ]
  },
  {
   "cell_type": "markdown",
   "metadata": {
    "id": "c4Be8TID7OMO"
   },
   "source": [
    "```\n",
    "print_name_age(age=46, last='Beck', first='Dave')\n",
    "```"
   ]
  },
  {
   "cell_type": "code",
   "execution_count": null,
   "metadata": {
    "id": "uqVbbSZy7OMO"
   },
   "outputs": [],
   "source": [
    "print_name_age(age=46, last='Beck', first='Dave')"
   ]
  },
  {
   "cell_type": "markdown",
   "metadata": {
    "id": "rNHxbdMW7OMO"
   },
   "source": [
    "## 3.3 Pandas and the Scientific Python Toolkit\n",
    "\n",
    "In addition to Python's built-in modules like the ``math`` module we explored above, there are also many often-used third-party modules that are core tools for doing data science with Python.\n",
    "Some of the most important ones are:\n",
    "\n",
    "#### [``numpy``](http://numpy.org/): Numerical Python\n",
    "\n",
    "Numpy is short for \"Numerical Python\", and contains tools for efficient manipulation of arrays of data.\n",
    "If you have used other computational tools like IDL or MatLab, Numpy should feel very familiar.\n",
    "\n",
    "#### [``scipy``](http://scipy.org/): Scientific Python\n",
    "\n",
    "Scipy is short for \"Scientific Python\", and contains a wide range of functionality for accomplishing common scientific tasks, such as optimization/minimization, numerical integration, interpolation, and much more.\n",
    "We will not look closely at Scipy today, but we will use its functionality later in the course.\n",
    "\n",
    "#### [``pandas``](http://pandas.pydata.org/): Labeled Data Manipulation in Python\n",
    "\n",
    "Pandas is short for \"Panel Data\", and contains tools for doing more advanced manipulation of labeled data in Python, in particular with a columnar data structure called a *Data Frame*.\n",
    "If you've used the [R](http://rstats.org) statistical language (and in particular the so-called \"Hadley Stack\"), much of the functionality in Pandas should feel very familiar.\n",
    "\n",
    "#### [``matplotlib``](http://matplotlib.org): Visualization in Python\n",
    "\n",
    "Matplotlib started out as a Matlab plotting clone in Python, and has grown from there in the 15 years since its creation. It is the most popular data visualization tool currently in the Python data world (though other recent packages are starting to encroach on its monopoly)."
   ]
  },
  {
   "cell_type": "markdown",
   "metadata": {
    "id": "qhLItQLT7OMO"
   },
   "source": [
    "### 3.3.1 Pandas\n",
    "\n",
    "We begin by loading the Panda's package.  Packages are collections of functions that share a common utility.  We've seen `import` before.  Let's use it to import Pandas and all the richness that pandas has."
   ]
  },
  {
   "cell_type": "markdown",
   "metadata": {
    "id": "xZ5bV0a37OMO"
   },
   "source": [
    "```\n",
    "import pandas\n",
    "```"
   ]
  },
  {
   "cell_type": "code",
   "execution_count": null,
   "metadata": {
    "id": "DGXuInrD7OMO"
   },
   "outputs": [],
   "source": [
    "import pandas"
   ]
  },
  {
   "cell_type": "markdown",
   "metadata": {
    "id": "Ow0AWVxb7OMO"
   },
   "source": [
    "```\n",
    "df = pandas.DataFrame()\n",
    "```"
   ]
  },
  {
   "cell_type": "code",
   "execution_count": null,
   "metadata": {
    "id": "xgBkUGkw7OMO"
   },
   "outputs": [],
   "source": [
    "df = pandas.DataFrame()"
   ]
  },
  {
   "cell_type": "markdown",
   "metadata": {
    "id": "L9DP6wkH7OMO"
   },
   "source": [
    "Because we'll use it so much, we often import under a shortened name using the ``import ... as ...`` pattern:"
   ]
  },
  {
   "cell_type": "markdown",
   "metadata": {
    "id": "dItG2aJ17OMO"
   },
   "source": [
    "```\n",
    "import pandas as pd\n",
    "import numpy as np\n",
    "```"
   ]
  },
  {
   "cell_type": "code",
   "execution_count": null,
   "metadata": {
    "id": "bC__k2WX7OMO"
   },
   "outputs": [],
   "source": [
    "import pandas as pd\n",
    "import numpy as np"
   ]
  },
  {
   "cell_type": "markdown",
   "metadata": {
    "id": "wn_mJFzq7OMO"
   },
   "source": [
    "Let's create an empty _data frame_ and put the result into a variable called `df`.  This is a popular choice for a _data frame_ variable name."
   ]
  },
  {
   "cell_type": "markdown",
   "metadata": {
    "id": "tIYJnX8c7OMO"
   },
   "source": [
    "```\n",
    "df = pd.DataFrame()\n",
    "```"
   ]
  },
  {
   "cell_type": "code",
   "execution_count": null,
   "metadata": {
    "id": "HKMsR_dh7OMO"
   },
   "outputs": [],
   "source": [
    "df = pd.DataFrame()"
   ]
  },
  {
   "cell_type": "markdown",
   "metadata": {
    "id": "SF-sZx-C7OMO"
   },
   "source": [
    "\n",
    "Let's create some random data as a pandas data frame.  Before we get to the dataframe, let's briefly talk about numpy's `random` function.  If we look at the [`random`](https://numpy.org/doc/stable/reference/random/generated/numpy.random.random.html) documentation, you can see it takes a size argument.  This should be a `list` or a `tuple` that says what the \"height\" and \"width\" of the generated data will be.  In our case, we will get 10 rows of data in three columns with the following:\n",
    "\n",
    "```\n",
    "np.random.random((10,3))\n",
    "```\n",
    "\n",
    "\n",
    "Notice we change the value of the `df` variable to point to a new data frame.\n",
    "\n",
    "```\n",
    "df = pd.DataFrame(data=np.random.random((10,3)), columns=['v1', 'v2', 'v3'])\n",
    "```"
   ]
  },
  {
   "cell_type": "code",
   "execution_count": null,
   "metadata": {
    "id": "0H2yYe7b7OMO"
   },
   "outputs": [],
   "source": [
    "df = pd.DataFrame(data=np.random.random((10,3)), columns=['v1', 'v2', 'v3'])"
   ]
  },
  {
   "cell_type": "markdown",
   "metadata": {
    "id": "R1XWG_A57OMO"
   },
   "source": [
    "*Note: strings in Python can be defined either with double quotes or single quotes*"
   ]
  },
  {
   "cell_type": "markdown",
   "metadata": {
    "id": "9A4TW0Nf7OMO"
   },
   "source": [
    "### 3.3.2 Viewing Pandas Dataframes"
   ]
  },
  {
   "cell_type": "markdown",
   "metadata": {
    "id": "LgpL3ety7OMO"
   },
   "source": [
    "The ``head()`` and ``tail()`` methods show us the first and last rows of the data.\n",
    "\n",
    "```\n",
    "df.head()\n",
    "df.tail()\n",
    "```"
   ]
  },
  {
   "cell_type": "code",
   "execution_count": null,
   "metadata": {
    "id": "mbgXWqjM7OMO"
   },
   "outputs": [],
   "source": [
    "df.head()"
   ]
  },
  {
   "cell_type": "code",
   "execution_count": null,
   "metadata": {
    "id": "cz3Yx-GP7OMO"
   },
   "outputs": [],
   "source": [
    "df.tail()"
   ]
  },
  {
   "cell_type": "markdown",
   "metadata": {
    "id": "rcKyzRLTTbVM"
   },
   "source": [
    "### Important!\n",
    "\n",
    "Prior to the start of C-Hack, you received instructions on how to set up your Google Drive & Colab.  The videos are here:\n",
    "\n",
    "* [How to load a file into Colab 1: Basics](https://www.youtube.com/watch?v=5rZn-aVNR0A)\n",
    "* [How to load a file into Colab 2: .csv and Python](https://www.youtube.com/watch?v=_2z3tFPbwjA)\n",
    "\n",
    "Before moving forward, let's load a more interesting set of data as a DataFrame: the NOAA storm dataset. We can load it from a `csv` (comma seperated values) file that we have in google drive.  Before we can do this, however, we need to attach this notebook to our Google drive.\n",
    "\n",
    "*Note:* when you run this, your browser will popup a new window asking you to authenticate to Google drive.  \n",
    "\n",
    "```\n",
    "from google.colab import drive\n",
    "drive.mount('/content/drive')\n",
    "```"
   ]
  },
  {
   "cell_type": "code",
   "execution_count": null,
   "metadata": {
    "id": "ypNjvgxr8iUj"
   },
   "outputs": [],
   "source": [
    "from google.colab import drive\n",
    "drive.mount('/content/drive')"
   ]
  },
  {
   "cell_type": "markdown",
   "metadata": {
    "id": "lQMP25hBNNVc"
   },
   "source": [
    "With our notebook now able to access the files in our Google drive, we can now open the CSV (comma separated value) file that contains the NOAA data we want to use.  To do that, we use the Pandas `read_csv` function and give it a file path that is in our drive.\n",
    "\n",
    "```\n",
    "path_to_file = '/content/drive/MyDrive/C-HACK 2022 EVENT/Tutorials/NOAA_storm_data/cleaned_data.csv'\n",
    "df = pd.read_csv(path_to_file, index_col=0)\n",
    "df.head()\n",
    "```"
   ]
  },
  {
   "cell_type": "code",
   "execution_count": null,
   "metadata": {
    "id": "lMdFVTTjTvMU"
   },
   "outputs": [],
   "source": [
    "path_to_file = '/content/drive/MyDrive/C-HACK 2022 EVENT/Tutorials/NOAA_storm_data/cleaned_data.csv'\n",
    "df = pd.read_csv(path_to_file, index_col=0)\n",
    "df.head()"
   ]
  },
  {
   "cell_type": "markdown",
   "metadata": {
    "id": "LK0xJF83V_z-"
   },
   "source": [
    "From this `head` of the dataframe, we can see the following columns are present in our dataset and the table belows shows the data types and descriptions from NOAA about the fields.\n",
    "\n",
    "| Column            | Data type   | Description                                                                                                        |\n",
    "|-------------------|-------------|--------------------------------------------------------------------------------------------------------------------|\n",
    "| BEGIN_DATE_TIME   | Date / time | When the adverse weather event start.                                                                               |\n",
    "| EVENT_TYPE        | String      | Human readable name for the type of adverse weather event; E.g. Hail, Thunderstorm, Wind, Snow, Ice (spelled out)  |\n",
    "| INJURIES_DIRECT   | Integer     | The number of injuries directly caused by the weather event.                                                       |\n",
    "| INJURIES_INDIRECT | Integer     | The number of injuries indirectly caused by the weather event.                                                     |\n",
    "| DEATHS_DIRECT     | Integer     | The number of deaths directly caused by the weather event.                                                         |\n",
    "| DEATHS_INDIRECT   | Integer     | The number of deaths indirectly caused by the weather event.                                                       |\n",
    "| DAMAGE_PROPERTY   | Float       | The estimated amount of damage to property incurred by the weather event.                                          |\n",
    "| DAMAGE_CROPS      | Float       | The estimated amount of damage to crops incurred by the weather event.                                             |\n",
    "| LATITUDE          | Float       | The latitude in decimal degrees of the begin point of event or damage path.                                        |\n",
    "| LONGITUDE         | Float       | The longitude in decimal degrees of the begin point of event or damage path.                                       |\n"
   ]
  },
  {
   "cell_type": "markdown",
   "metadata": {
    "id": "IkcJbZ7RYnhN"
   },
   "source": [
    "Cool!  Now we know what data we have, now let's see how much data we have!"
   ]
  },
  {
   "cell_type": "markdown",
   "metadata": {
    "id": "-FUocT6r7OMO"
   },
   "source": [
    "The ``shape`` attribute shows us the number of elements:\n",
    "\n",
    "```\n",
    "df.shape\n",
    "```\n",
    "\n",
    "Note it doesn't have the `()` because it isn't a **_function_** - it is an **_attribute_** or variable attached to the `df` object."
   ]
  },
  {
   "cell_type": "code",
   "execution_count": null,
   "metadata": {
    "id": "CNDEEXRG7OMO"
   },
   "outputs": [],
   "source": [
    "df.shape"
   ]
  },
  {
   "cell_type": "markdown",
   "metadata": {
    "id": "cbKUn97D7OMO"
   },
   "source": [
    "The ``columns`` attribute gives us the column names\n",
    "\n",
    "```\n",
    "df.columns\n",
    "```\n"
   ]
  },
  {
   "cell_type": "code",
   "execution_count": null,
   "metadata": {
    "id": "KV_olwsx7OMO"
   },
   "outputs": [],
   "source": [
    "df.columns"
   ]
  },
  {
   "cell_type": "markdown",
   "metadata": {
    "id": "DD59pHa27OMO"
   },
   "source": [
    "The ``index`` attribute gives us the index names.  Note that in this instance, our index column is a unique identifier for each event in the form of an integer from 0 to 33632.\n",
    "\n",
    "```\n",
    "df.index\n",
    "```"
   ]
  },
  {
   "cell_type": "code",
   "execution_count": null,
   "metadata": {
    "id": "brvdHrKu7OMO"
   },
   "outputs": [],
   "source": [
    "df.index"
   ]
  },
  {
   "cell_type": "markdown",
   "metadata": {
    "id": "y8dtp8vw7OMO"
   },
   "source": [
    "The ``dtypes`` attribute gives the data types of each column, remember the data type *_floating point_**?:"
   ]
  },
  {
   "cell_type": "markdown",
   "metadata": {
    "id": "2GfiYSik7OMO"
   },
   "source": [
    "```\n",
    "df.dtypes\n",
    "```"
   ]
  },
  {
   "cell_type": "code",
   "execution_count": null,
   "metadata": {
    "id": "1F4wrfZ87OMO"
   },
   "outputs": [],
   "source": [
    "df.dtypes"
   ]
  },
  {
   "cell_type": "markdown",
   "metadata": {
    "id": "lfXUSir37OMO"
   },
   "source": [
    "### 3.3.3. Manipulating data with ``pandas``\n",
    "\n",
    "Here we'll cover some key features of manipulating data with pandas"
   ]
  },
  {
   "cell_type": "markdown",
   "metadata": {
    "id": "R1JndlDp7OMO"
   },
   "source": [
    "Access columns by name using square-bracket indexing:\n",
    "\n",
    "```\n",
    "df['LONGITUDE']\n",
    "```"
   ]
  },
  {
   "cell_type": "code",
   "execution_count": null,
   "metadata": {
    "id": "6BE_uf9V7OMO"
   },
   "outputs": [],
   "source": [
    "df['LONGITUDE']"
   ]
  },
  {
   "cell_type": "markdown",
   "metadata": {
    "id": "nx9IRGE57OMO"
   },
   "source": [
    "Mathematical operations on columns happen *element-wise*:\n",
    "\n",
    "```\n",
    "df['DAMAGE_PROPERTY'] / 1000.\n",
    "```"
   ]
  },
  {
   "cell_type": "code",
   "execution_count": null,
   "metadata": {
    "id": "WHXJ4BusZ2-C"
   },
   "outputs": [],
   "source": [
    "df['DAMAGE_PROPERTY'] / 1000."
   ]
  },
  {
   "cell_type": "markdown",
   "metadata": {
    "id": "NHPvFs-J7OMO"
   },
   "source": [
    "Columns can be created (or overwritten) with the assignment operator.\n",
    "\n",
    "Let's create a `DAMAGE_PROPERTY_THOUSANDS` column which convers the `DAMAGE_PROPERTY` values into unites of 1000s of dollars.\n",
    "\n",
    "```\n",
    "df['DAMAGE_PROPERTY_THOUSANDS'] = df['DAMAGE_PROPERTY'] / 1000\n",
    "```"
   ]
  },
  {
   "cell_type": "code",
   "execution_count": null,
   "metadata": {
    "id": "IgO1_b1P7OMO"
   },
   "outputs": [],
   "source": [
    "df['DAMAGE_PROPERTY_THOUSANDS'] = df['DAMAGE_PROPERTY'] / 1000"
   ]
  },
  {
   "cell_type": "markdown",
   "metadata": {
    "id": "Sj6GUfvl7OMO"
   },
   "source": [
    "Let's use the `.head()` **_function_** to see our new data!\n",
    "\n",
    "```\n",
    "df.head()\n",
    "```"
   ]
  },
  {
   "cell_type": "code",
   "execution_count": null,
   "metadata": {
    "id": "A75J6lfn7OMO"
   },
   "outputs": [],
   "source": [
    "df.head()"
   ]
  },
  {
   "cell_type": "markdown",
   "metadata": {
    "id": "s49TiCQi7OMO"
   },
   "source": [
    "In preparation for grouping the data, let's bin the events by their property damage. For that, we'll use ``pd.cut``\n",
    "\n",
    "```\n",
    "df['PROPERTY_DAMAGE_GROUP'] = pd.cut(df['LONGITUDE'], 1000)\n",
    "df.head()\n",
    "df.dtypes\n",
    "```"
   ]
  },
  {
   "cell_type": "code",
   "execution_count": null,
   "metadata": {
    "id": "wZGuW3-57OMO"
   },
   "outputs": [],
   "source": [
    "df['DAMAGE_PROPERTY_group'] = pd.cut(df['DAMAGE_PROPERTY'], 1000)\n"
   ]
  },
  {
   "cell_type": "code",
   "execution_count": null,
   "metadata": {
    "id": "E4SNO9Vo7OMO"
   },
   "outputs": [],
   "source": [
    "df.head()"
   ]
  },
  {
   "cell_type": "code",
   "execution_count": null,
   "metadata": {
    "id": "I3v7pAC87OMO"
   },
   "outputs": [],
   "source": [
    "df.dtypes"
   ]
  },
  {
   "cell_type": "markdown",
   "metadata": {
    "id": "OvuaJtJL7OMO"
   },
   "source": [
    "### 3.3.4 Simple Grouping of Data\n",
    "\n",
    "The real power of Pandas comes in its tools for grouping and aggregating data. Here we'll look at *value counts* and the basics of *group-by* operations."
   ]
  },
  {
   "cell_type": "markdown",
   "metadata": {
    "id": "0jH_36Us7OMO"
   },
   "source": [
    "#### 3.3.4.1 Value Counts"
   ]
  },
  {
   "cell_type": "markdown",
   "metadata": {
    "id": "pxlI3MZT7OMO"
   },
   "source": [
    "Pandas includes an array of useful functionality for manipulating and analyzing tabular data.\n",
    "We'll take a look at two of these here."
   ]
  },
  {
   "cell_type": "markdown",
   "metadata": {
    "id": "ENqD6BpU7OMO"
   },
   "source": [
    "The ``pandas.value_counts`` returns statistics on the unique values within each column.\n",
    "\n",
    "We can use it, for example, to break down the molecules by their mass group that we just created:"
   ]
  },
  {
   "cell_type": "markdown",
   "metadata": {
    "id": "EcbGgpT07OMO"
   },
   "source": [
    "```\n",
    "pd.value_counts(df['DAMAGE_PROPERTY_group'])\n",
    "```"
   ]
  },
  {
   "cell_type": "code",
   "execution_count": null,
   "metadata": {
    "id": "g_gbjCSE7OMO"
   },
   "outputs": [],
   "source": [
    "pd.value_counts(df['DAMAGE_PROPERTY_group'])"
   ]
  },
  {
   "cell_type": "markdown",
   "metadata": {
    "id": "xFx6NoUI7OMO"
   },
   "source": [
    "What happens if we try this on a continuous valued variable like longitude?"
   ]
  },
  {
   "cell_type": "markdown",
   "metadata": {
    "id": "nJsZMxTX7OMO"
   },
   "source": [
    "```\n",
    "pd.value_counts(df['LONGITUDE'])\n",
    "```"
   ]
  },
  {
   "cell_type": "code",
   "execution_count": null,
   "metadata": {
    "id": "W0rbOLws7OMO"
   },
   "outputs": [],
   "source": [
    "pd.value_counts(df['LONGITUDE'])"
   ]
  },
  {
   "cell_type": "markdown",
   "metadata": {
    "id": "A-qS0TCo7OMO"
   },
   "source": [
    "We can do a little data exploration with this to look at the distribution of data in a column.  Here, let's look at the number of direct deaths in our dataset."
   ]
  },
  {
   "cell_type": "markdown",
   "metadata": {
    "id": "n_YuXJNi7OMO"
   },
   "source": [
    "```\n",
    "pd.value_counts(df['DEATHS_DIRECT'])\n",
    "```"
   ]
  },
  {
   "cell_type": "code",
   "execution_count": null,
   "metadata": {
    "id": "RWSztxpk7OMO"
   },
   "outputs": [],
   "source": [
    "pd.value_counts(df['DEATHS_DIRECT'])"
   ]
  },
  {
   "cell_type": "markdown",
   "metadata": {
    "id": "xs5IaTz5bbcW"
   },
   "source": [
    "Thankfully, of our 33633 adverse weather events, 33510 had no deaths!  That is how many percent?\n",
    "\n",
    "```\n",
    "(33510/33633) * 100\n",
    "```"
   ]
  },
  {
   "cell_type": "code",
   "execution_count": null,
   "metadata": {
    "id": "OBrXGdSVbsMC"
   },
   "outputs": [],
   "source": [
    "(33510/33633) * 100"
   ]
  },
  {
   "cell_type": "markdown",
   "metadata": {
    "id": "VX0vMX2_bvah"
   },
   "source": [
    "### Question:\n",
    "How can we alter the `pd.value_counts` call to show us the percent of events with the specified number of deaths?\n",
    "\n",
    "Hint:  Can you do math on the `pd.value_counts` call?  Can you do it without hard coding the number of rows in the dataframe?"
   ]
  },
  {
   "cell_type": "code",
   "execution_count": null,
   "metadata": {
    "id": "XedL23AAcEJN"
   },
   "outputs": [],
   "source": []
  },
  {
   "cell_type": "markdown",
   "metadata": {
    "id": "wQh2EayH7OMP"
   },
   "source": [
    "#### 3.3.4.2 Group-by Operation\n",
    "\n",
    "One of the killer features of the Pandas dataframe is the ability to do group-by operations.\n",
    "You can visualize the group-by like this (image borrowed from the [Python Data Science Handbook](http://shop.oreilly.com/product/0636920034919.do))\n",
    "\n",
    "![image](https://swcarpentry.github.io/r-novice-gapminder/fig/12-plyr-fig1.png)"
   ]
  },
  {
   "cell_type": "markdown",
   "metadata": {
    "id": "qL69yo0W7OMP"
   },
   "source": [
    ":Let's break take this in smaller steps.\n",
    "Recall our ``DAMAGE_PROPERTY_group`` column."
   ]
  },
  {
   "cell_type": "markdown",
   "metadata": {
    "id": "lFGblhJs7OMP"
   },
   "source": [
    "```\n",
    "pd.value_counts(df['DAMAGE_PROPERTY_group'])\n",
    "```"
   ]
  },
  {
   "cell_type": "code",
   "execution_count": null,
   "metadata": {
    "id": "zUN0vJN87OMP"
   },
   "outputs": [],
   "source": [
    "pd.value_counts(df['DAMAGE_PROPERTY_group'])"
   ]
  },
  {
   "cell_type": "markdown",
   "metadata": {
    "id": "iDlQIXxP7OMP"
   },
   "source": [
    "`groupby` allows us to look at the number of values for each column and each value."
   ]
  },
  {
   "cell_type": "markdown",
   "metadata": {
    "id": "d2gFeJe27OMP"
   },
   "source": [
    "```\n",
    "df.groupby(['DAMAGE_PROPERTY_group']).count()\n",
    "```"
   ]
  },
  {
   "cell_type": "code",
   "execution_count": null,
   "metadata": {
    "id": "MmXUcxLA7OMP"
   },
   "outputs": [],
   "source": [
    "df.groupby(['DAMAGE_PROPERTY_group']).count()"
   ]
  },
  {
   "cell_type": "markdown",
   "metadata": {
    "id": "h-BTihEx7OMP"
   },
   "source": [
    "Now, let's find the mean of each of the columns for each ``LONG_group``.  *Notice* what happens to the non-numeric columns."
   ]
  },
  {
   "cell_type": "markdown",
   "metadata": {
    "id": "NjGIPmzt7OMP"
   },
   "source": [
    "```\n",
    "df.groupby(['DAMAGE_PROPERTY_group']).mean()\n",
    "```"
   ]
  },
  {
   "cell_type": "code",
   "execution_count": null,
   "metadata": {
    "id": "CPigi6Rm7OMP"
   },
   "outputs": [],
   "source": [
    "df.groupby(['DAMAGE_PROPERTY_group']).mean()"
   ]
  },
  {
   "cell_type": "markdown",
   "metadata": {
    "id": "zmuDb2boc1Ga"
   },
   "source": [
    "*Note* that in some instances, the values returned are `NaN` or [Not a Number](https://en.wikipedia.org/wiki/NaN).  This is used to represent something that cannot be calculated.  Why do you think some of these values cannot be calculated?\n",
    "\n",
    "Hint: What is 0/0?"
   ]
  },
  {
   "cell_type": "markdown",
   "metadata": {
    "id": "Tlqt3lrF7OMP"
   },
   "source": [
    "You can specify a groupby using the names of table columns and compute other functions, such as the ``sum``, ``count``, ``std``, and ``describe``."
   ]
  },
  {
   "cell_type": "markdown",
   "metadata": {
    "id": "5wkCFe4n7OMP"
   },
   "source": [
    "```\n",
    "df.groupby(['DAMAGE_PROPERTY_group'])['DEATHS_DIRECT'].describe()\n",
    "```"
   ]
  },
  {
   "cell_type": "code",
   "execution_count": null,
   "metadata": {
    "id": "KZ3khGdf7OMP"
   },
   "outputs": [],
   "source": [
    "df.groupby(['DAMAGE_PROPERTY_group'])['DEATHS_DIRECT'].describe()"
   ]
  },
  {
   "cell_type": "markdown",
   "metadata": {
    "id": "xN96QXV97OMP"
   },
   "source": [
    "The simplest version of a groupby looks like this, and you can use almost any aggregation function you wish (mean, median, sum, minimum, maximum, standard deviation, count, etc.)\n",
    "\n",
    "```\n",
    "<data object>.groupby(<grouping values>).<aggregate>()\n",
    "```\n",
    "\n",
    "You can even group by multiple values: for example we can look at the statistics grouped by the `DAMAGE_PROPETY_GROUP` and `DEATHS_DIRECT`."
   ]
  },
  {
   "cell_type": "code",
   "execution_count": null,
   "metadata": {
    "id": "mLuzWzc67OMP"
   },
   "outputs": [],
   "source": [
    "df.groupby(['DAMAGE_PROPERTY_group', 'DEATHS_DIRECT']).describe()"
   ]
  },
  {
   "cell_type": "code",
   "execution_count": null,
   "metadata": {
    "id": "bB2zF5KT7OMP"
   },
   "outputs": [],
   "source": []
  },
  {
   "cell_type": "code",
   "execution_count": null,
   "metadata": {
    "id": "DqJuKgC17OMP"
   },
   "outputs": [],
   "source": []
  },
  {
   "cell_type": "markdown",
   "metadata": {
    "id": "yn8YPlHG7OMP"
   },
   "source": [
    "## 3.5 Breakout for Functions and Pandas\n",
    "\n",
    "Write a function that takes a column in Pandas and computes the [arithmetic mean](https://en.wikipedia.org/wiki/Arithmetic_mean) value of the data in it without using Pandas **_aggregate_** functions.\n",
    "\n",
    "Compare that result to the one from Pandas **_aggregate_** function `.mean()`.  How did your values compare?  Were they exactly equal?  Did you expect them to be given what you know about **_floating point_** numbers?"
   ]
  },
  {
   "cell_type": "code",
   "execution_count": null,
   "metadata": {
    "id": "qVVPpOZ6iqdj"
   },
   "outputs": [],
   "source": []
  },
  {
   "cell_type": "code",
   "execution_count": null,
   "metadata": {
    "id": "hlDkF_xAkcDY"
   },
   "outputs": [],
   "source": []
  },
  {
   "cell_type": "code",
   "execution_count": null,
   "metadata": {
    "id": "1KhpXX4Ckcby"
   },
   "outputs": [],
   "source": []
  }
 ],
 "metadata": {
  "colab": {
   "collapsed_sections": [],
   "name": "C_HACK_Tutorial_3_Functions_and_Pandas.ipynb",
   "provenance": []
  },
  "kernelspec": {
   "display_name": "Python 3",
   "language": "python",
   "name": "python3"
  },
  "language_info": {
   "codemirror_mode": {
    "name": "ipython",
    "version": 3
   },
   "file_extension": ".py",
   "mimetype": "text/x-python",
   "name": "python",
   "nbconvert_exporter": "python",
   "pygments_lexer": "ipython3",
   "version": "3.6.10"
  }
 },
 "nbformat": 4,
 "nbformat_minor": 4
}
