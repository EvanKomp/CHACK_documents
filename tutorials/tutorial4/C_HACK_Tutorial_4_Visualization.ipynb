{
 "cells": [
  {
   "cell_type": "markdown",
   "metadata": {
    "id": "E5cwBluhFWw4"
   },
   "source": [
    "# C-HACK Tutorial 4: Visualization\n",
    "\n",
    "**Instructor**: redacted\n",
    "\n",
    "**Contact**: redacted\n",
    "\n",
    "Throughout this tutorial we'll be discussing ways to visualize data in plots using python. Specifically, we will look at how we can manipulate our `pandas dataframes` to give us the visualizations we desire. Before we get there, however, we're going to start by introducing a python module called Matplotlib.\n",
    "\n",
    "**Acknowledgements**:\n",
    "- redacted\n",
    "- redacted"
   ]
  },
  {
   "cell_type": "markdown",
   "metadata": {
    "id": "wQjpU7rcmZuG"
   },
   "source": [
    "## 4.1 Visualization with Matplotlib\n",
    "\n",
    "Lets start by importing our `matplotlib` and `numpy` modules. \n",
    "\n",
    "Pyplot is a module of Matplotlib that provides functions to add plot elements like text, lines, and images. typically we import these module like so\n",
    "\n",
    "```\n",
    "import matplotlib.pyplot as plt\n",
    "import numpy as np\n",
    "```"
   ]
  },
  {
   "cell_type": "code",
   "execution_count": null,
   "metadata": {
    "id": "S8oo4k25mmNt"
   },
   "outputs": [],
   "source": [
    "import matplotlib.pyplot as plt\n",
    "import numpy as np"
   ]
  },
  {
   "cell_type": "markdown",
   "metadata": {
    "id": "W6k-7tcOmqCg"
   },
   "source": [
    "### 4.1.1 The Basics\n",
    "\n",
    "Before we get started with anything fancy lets explore the basics of plt. The simplest function is the `pyplot.plot()` function (more info [here](https://matplotlib.org/stable/api/_as_gen/matplotlib.pyplot.plot.html))\n",
    "\n",
    "```\n",
    "x = [1,2,3,4,5,6,7]\n",
    "y = [1,1,2,3,5,8,13]\n",
    "plt.plot(x,y)\n",
    "```"
   ]
  },
  {
   "cell_type": "code",
   "execution_count": null,
   "metadata": {
    "id": "h5okXIMimtZn"
   },
   "outputs": [],
   "source": [
    "x = [1,2,3,4,5,6,7]\n",
    "y = [1,1,2,3,5,8,13]\n",
    "plt.plot(x,y)"
   ]
  },
  {
   "cell_type": "markdown",
   "metadata": {
    "id": "CSjIkNanDAaG"
   },
   "source": [
    "Be careful, x and y must be of the same length!"
   ]
  },
  {
   "cell_type": "markdown",
   "metadata": {
    "id": "Puxsccw-m0Ae"
   },
   "source": [
    "We can label the axes of our figure using the `xlabel` and `ylabel` attributes, and label our title using the `title` attribute.\n",
    "\n",
    "```\n",
    "plt.plot([1,2,3,4,5,6,7],[1,1,2,3,5,8,13])\n",
    "plt.title('The Fibonacci Sequence')\n",
    "plt.xlabel('Order in Sequence')\n",
    "plt.ylabel('Value')\n",
    "```"
   ]
  },
  {
   "cell_type": "code",
   "execution_count": null,
   "metadata": {
    "id": "aMsxsP5wm5Lt"
   },
   "outputs": [],
   "source": [
    "plt.plot([1,2,3,4,5,6,7],[1,1,2,3,5,8,13])\n",
    "plt.title('The Fibonacci Sequence')\n",
    "plt.xlabel('Order in Sequence')\n",
    "plt.ylabel('Value')"
   ]
  },
  {
   "cell_type": "markdown",
   "metadata": {
    "id": "JBi_0qecqkQz"
   },
   "source": [
    "OK so we've obtained a line plot of our data. The line is actually an interpolation. The true data points are the kinks. As of now it doesn't look too fantastic ... what are some things we can do to make it better?\n",
    "\n",
    "We might want to start by making the plot area bigger. To do that, we need to get familar with the concepts of `figure` and `axes` objects\n",
    "\n",
    "The `plt.subplots()` function returns a `figure` and `axes` object(s) together. We can adjust the figure size with the parameter `figsize` and set it equal to a tuple containing the width and height of the figure in inches. More info [here](https://matplotlib.org/stable/api/_as_gen/matplotlib.pyplot.subplots.html).\n",
    "\n",
    "```\n",
    "### We create a figure, and an axes object and set the figure size to be 8 inches x 8 inches\n",
    "fig, ax = plt.subplots(1, 1, figsize=(8,8))\n",
    "```"
   ]
  },
  {
   "cell_type": "code",
   "execution_count": null,
   "metadata": {
    "id": "QuY1HNzjqsmL"
   },
   "outputs": [],
   "source": [
    "### We create a figure, and an axes object and set the figure size to be 8 inches x 8 inches\n",
    "fig, ax = plt.subplots(1, 1, figsize=(8,8))"
   ]
  },
  {
   "cell_type": "markdown",
   "metadata": {
    "id": "eOuHVXB2lL5D"
   },
   "source": [
    "So what is happening here? We've already used matplotlib to create our figure object by simply using `plt.plot()`.\n",
    "\n",
    "However, by convention we typically separate our plots into three components: a *Figure*, its' *Axes*, and their  *Axis*:\n",
    "\n",
    "* *Figure*: It is a whole figure which may contain one or more than one axes (plots). You can think of a Figure as a canvas which contains plots.\n",
    "* *Axes*: It is what we generally think of as a plot. A Figure can contain many Axes. It contains two or three (in the case of 3D plots) Axis objects. Each Axes has a title, an x-label and a y-label.\n",
    "* *Axis*: They are the number line like objects and take care of generating the graph limits.\n",
    "\n",
    "`fig, ax = plt.subplots(1, 1, figsize=(8,8))` creates the figure (`fig`) and axes (`ax`) explicitly, and depending on whether we generate 2D or 3D plots, the axes will contain 2-3 `axis`."
   ]
  },
  {
   "cell_type": "markdown",
   "metadata": {
    "id": "lRDAkV71m_bD"
   },
   "source": [
    "#### Exercise 1: Adjust Figure Size\n",
    "\n",
    "Recreate the above plot but adjust the figure size to be 6 inches (width) by 3 inches (height). Then plot the values of the fibonacci sequence we defined earlier.\n",
    "\n",
    "```\n",
    "x = [1,2,3,4,5,6,7]\n",
    "y = [1,1,2,3,5,8,13]\n",
    "```"
   ]
  },
  {
   "cell_type": "code",
   "execution_count": null,
   "metadata": {
    "id": "51xKEsjM9oal"
   },
   "outputs": [],
   "source": [
    "# Create plot here\n"
   ]
  },
  {
   "cell_type": "markdown",
   "metadata": {
    "id": "DMhYXDfBnDUi"
   },
   "source": [
    "### 4.1.2 Manipulating Plot Attributes\n",
    "\n",
    "We can manipulate many parameters of a figure's axes: `marker`, `linestyle`, and `color`, to name a few. Each of these parameters takes string values.\n",
    "\n",
    "List of marker styles\n",
    "\n",
    "```\n",
    "{'': 'nothing',\n",
    " ' ': 'nothing',\n",
    " '*': 'star',\n",
    " '+': 'plus',\n",
    " ',': 'pixel',\n",
    " '.': 'point',\n",
    " 0: 'tickleft',\n",
    " '1': 'tri_down',\n",
    " 1: 'tickright',\n",
    " 10: 'caretupbase',\n",
    " 11: 'caretdownbase',\n",
    " '2': 'tri_up',\n",
    " 2: 'tickup',\n",
    " '3': 'tri_left',\n",
    " 3: 'tickdown',\n",
    " '4': 'tri_right',\n",
    " 4: 'caretleft',\n",
    " 5: 'caretright',\n",
    " 6: 'caretup',\n",
    " 7: 'caretdown',\n",
    " '8': 'octagon',\n",
    " 8: 'caretleftbase',\n",
    " 9: 'caretrightbase',\n",
    " '<': 'triangle_left',\n",
    " '>': 'triangle_right',\n",
    " 'D': 'diamond',\n",
    " 'H': 'hexagon2',\n",
    " 'None': 'nothing',\n",
    " None: 'nothing',\n",
    " 'P': 'plus_filled',\n",
    " 'X': 'x_filled',\n",
    " '^': 'triangle_up',\n",
    " '_': 'hline',\n",
    " 'd': 'thin_diamond',\n",
    " 'h': 'hexagon1',\n",
    " 'o': 'circle',\n",
    " 'p': 'pentagon',\n",
    " 's': 'square',\n",
    " 'v': 'triangle_down',\n",
    " 'x': 'x',\n",
    " '|': 'vline'}\n",
    " ```\n",
    "\n",
    "List of line styles\n",
    "\n",
    "```\n",
    "{'': '_draw_nothing',\n",
    " ' ': '_draw_nothing',\n",
    " '-': '_draw_solid',\n",
    " '--': '_draw_dashed',\n",
    " '-.': '_draw_dash_dot',\n",
    " ':': '_draw_dotted',\n",
    " 'None': '_draw_nothing'}\n",
    " ```\n",
    "\n",
    " List of base colors\n",
    "\n",
    " ```\n",
    " {'b': (0, 0, 1),\n",
    " 'c': (0, 0.75, 0.75),\n",
    " 'g': (0, 0.5, 0),\n",
    " 'k': (0, 0, 0),\n",
    " 'm': (0.75, 0, 0.75),\n",
    " 'r': (1, 0, 0),\n",
    " 'w': (1, 1, 1),\n",
    " 'y': (0.75, 0.75, 0)}\n",
    " ```\n",
    "\n",
    "Colors in plots can be passed in a number of ways. Here we sing some single letter strings that we can pass, the tuple of Red-Green-Blue colors that they correspond to (we can pass those tuples directly!), but there are other ways to describe colors for example with [hexcodes](https://marketing.istockphoto.com/blog/hex-colors-guide/#:~:text=What%20Are%20Hex%20Color%20Codes%3F&text=Hex%20color%20codes%20are%20values,expressed%20is%20the%20color%20black.). Below I use a hexcode, and a base color string to define my plot colors.\n",
    "\n",
    "List access\n",
    "\n",
    "```\n",
    "import matplotlib as mp\n",
    "mp.markers.MarkerStyle.markers\n",
    "mp.lines.lineStyles\n",
    "mp.colors.BASE_COLORS\n",
    "```\n",
    "\n",
    "```\n",
    "fig, ax = plt.subplots(1,1, figsize=(5,5))\n",
    "ax.plot([1,2,3,4,5,6,7],[1,1,2,3,5,8,13], marker='^', linestyle='--', \n",
    "         color='r')\n",
    "ax.plot([1,2,3,4,5,6,7],[0,3,8,6,5,4,1], marker='.', linestyle='-.', \n",
    "         color='#59A41F')\n",
    "ax.set_title('My Random Values')\n",
    "ax.set_xlabel('Order in Sequence')\n",
    "ax.set_ylabel('Value')\n",
    "```"
   ]
  },
  {
   "cell_type": "code",
   "execution_count": null,
   "metadata": {
    "id": "lASbls4Gbu4G"
   },
   "outputs": [],
   "source": [
    "fig, ax = plt.subplots(1,1, figsize=(5,5))\n",
    "ax.plot([1,2,3,4,5,6,7],[1,1,2,3,5,8,13], marker='^', linestyle='--', \n",
    "         color='r')\n",
    "ax.plot([1,2,3,4,5,6,7],[0,3,8,6,5,4,1], marker='.', linestyle='-.', \n",
    "         color='#59A41F')\n",
    "ax.set_title('My Random Values')\n",
    "ax.set_xlabel('Order in Sequence')\n",
    "ax.set_ylabel('Value')"
   ]
  },
  {
   "cell_type": "markdown",
   "metadata": {
    "id": "iRFAcXchcVLZ"
   },
   "source": [
    "If we want to make a *scatter plot* without any lines at all, we can use the `scatter` function ([more info](https://matplotlib.org/stable/api/_as_gen/matplotlib.pyplot.scatter.html)).\n",
    "\n",
    "```\n",
    "fig, ax = plt.subplots(1,1, figsize=(5,5))\n",
    "ax.scatter([1,2,3,4,5,6,7],[1,1,2,3,5,8,13], marker='*', color='g')\n",
    "ax.set_title('The Fibonacci Sequence')\n",
    "ax.set_xlabel('Order in Sequence')\n",
    "ax.set_ylabel('Value')\n",
    "```"
   ]
  },
  {
   "cell_type": "code",
   "execution_count": null,
   "metadata": {
    "id": "zrq4gbp4nNk0"
   },
   "outputs": [],
   "source": [
    "fig, ax = plt.subplots(1,1, figsize=(5,5))\n",
    "ax.scatter([1,2,3,4,5,6,7],[1,1,2,3,5,8,13], marker='*', color='g')\n",
    "ax.set_title('The Fibonacci Sequence')\n",
    "ax.set_xlabel('Order in Sequence')\n",
    "ax.set_ylabel('Value')"
   ]
  },
  {
   "cell_type": "markdown",
   "metadata": {
    "id": "x_fDFc81nUeF"
   },
   "source": [
    "#### Exercise 2: Choose Lines, Colors, and Markers\n",
    "\n",
    "Recreate the above plot with a variety of markers, and colors.\n",
    "\n",
    "Can you create the plot by using one of the Tableau 20 colors? \n",
    "\n",
    "[Tableau 20](https://www.tableau.com/about/blog/2016/7/colors-upgrade-tableau-10-56782) is a set of colors specifically designed o be distinguishable from one another, and is a very colorblind-friendly color scheme. Their hex codes are shown below.\n",
    "\n",
    "![](https://jrnold.github.io/ggthemes/reference/tableau_color_pal-2.png)"
   ]
  },
  {
   "cell_type": "code",
   "execution_count": null,
   "metadata": {
    "id": "SeH9ks6R-wne"
   },
   "outputs": [],
   "source": [
    "# create plot here\n"
   ]
  },
  {
   "cell_type": "markdown",
   "metadata": {
    "id": "Mg-rgQpknYXm"
   },
   "source": [
    "### 4.1.3 Subplots\n",
    "\n",
    "We can specify multiple plots to `plt.subplots`. This time, the second variable that is returned (that we call `ax`) is no longer an `axes` object! Instead, it is an `array` of `axes` objects.\n",
    "\n",
    "__NOTE__: \"object\" is a term used in programming to refer to a something with defined attributes. This is a fairly abstract concept to describe for this level, if you want to learn more please follow this [link](https://techterms.com/definition/object). For this context, you can think of an object sort of as the type of your variable. If your variable is `3.4` it is a `float` object. In the case of the `plt.subplots` function, your second variable is an array of `axes` objects, where an `axes` is a specific type of variable defined by the programmers of `matplotlib`.\n",
    "\n",
    "```\n",
    "import random\n",
    "fig, ax = plt.subplots(2, 2, figsize=(10,10))\n",
    "ax[0,1].plot(np.arange(10), [random.random() for i in np.arange(10)], \n",
    "             c='tab:orange')\n",
    "ax[1,0].plot(np.arange(10), [random.random() for i in np.arange(10)], \n",
    "             c='tab:green')\n",
    "ax[1,1].plot(np.arange(10), [random.random() for i in np.arange(10)], \n",
    "             c='tab:red')\n",
    "ax[0,0].plot(np.arange(10), [random.random() for i in np.arange(10)],\n",
    "             c='tab:blue')\n",
    "```"
   ]
  },
  {
   "cell_type": "code",
   "execution_count": null,
   "metadata": {
    "id": "HWug_OT6wpkL"
   },
   "outputs": [],
   "source": [
    "import random\n",
    "fig, ax = plt.subplots(2, 2, figsize=(10,10))\n",
    "\n",
    "ax[0,1].plot(np.arange(10), [random.random() for i in np.arange(10)], \n",
    "             c='tab:orange')\n",
    "ax[1,0].plot(np.arange(10), [random.random() for i in np.arange(10)], \n",
    "             c='tab:green')\n",
    "ax[1,1].plot(np.arange(10), [random.random() for i in np.arange(10)], \n",
    "             c='tab:red')\n",
    "ax[0,0].plot(np.arange(10), [random.random() for i in np.arange(10)],\n",
    "             c='tab:blue')"
   ]
  },
  {
   "cell_type": "markdown",
   "metadata": {
    "id": "etTjy5L12NaI"
   },
   "source": [
    "**_Quick Note:_** In the above cell we use something called *_list comprehension_* to define a list of objects quickly (in this case those objects are float numbers). We won't dive too deeply into that now, but you can think of list comprehension as a more concise way of writing a `for` loop. The cell below shows an example of list comprehension and its corresponding `for` loop.\n",
    "\n",
    "```\n",
    "import random\n",
    "\n",
    "# this list comprehension\n",
    "print([random.random() for i in range(10)])\n",
    "\n",
    "# produces the same output as this for loop\n",
    "ls = []\n",
    "for i in range(10):\n",
    "  ls.append(random.random())\n",
    "print(ls)\n",
    "```"
   ]
  },
  {
   "cell_type": "code",
   "execution_count": null,
   "metadata": {
    "id": "ZINGprRd2H1q"
   },
   "outputs": [],
   "source": [
    "import random\n",
    "\n",
    "# this list comprehension\n",
    "print([random.random() for i in range(10)])\n",
    "\n",
    "# produces the same output as this for loop\n",
    "ls = []\n",
    "for i in range(10):\n",
    "  ls.append(random.random())\n",
    "print(ls)"
   ]
  },
  {
   "cell_type": "markdown",
   "metadata": {
    "id": "5axobczEnmKl"
   },
   "source": [
    "#### Exercise 3: Subplots\n",
    "\n",
    "Create a 2x1 figure where the first subplot is of the first 7 numbers in fibonacci sequence and the second subplot is a plot of 7 random integers with values between 10 and 20. For your x values you can use the same `x` list we defined right at the start. The notebook still remembers it here. Use different markers, colors, and lines for each subplot."
   ]
  },
  {
   "cell_type": "code",
   "execution_count": null,
   "metadata": {
    "id": "Yt9wT1KxASMj"
   },
   "outputs": [],
   "source": [
    "# create plot here\n"
   ]
  },
  {
   "cell_type": "markdown",
   "metadata": {
    "id": "iI0ybNwcOfFJ"
   },
   "source": [
    "## 4.2 Visualization with Pandas\n",
    "\n",
    "Now lets discover the power of `pandas` plots! `pandas` is extremely useful as it contains many ways to manipulate data in dataframes. You saw some of this in Tutorial 3. Here we will show you how to use `pandas` to select and slice data and then visualize it.\n",
    "\n",
    "```\n",
    "import pandas as pd\n",
    "import numpy as np\n",
    "import matplotlib.pyplot as plt\n",
    "```"
   ]
  },
  {
   "cell_type": "code",
   "execution_count": null,
   "metadata": {
    "id": "lCeKqN3eFaM8"
   },
   "outputs": [],
   "source": [
    "import pandas as pd\n",
    "import numpy as np\n",
    "import matplotlib.pyplot as plt"
   ]
  },
  {
   "cell_type": "markdown",
   "metadata": {
    "id": "X9FOfoX5loau"
   },
   "source": [
    "The following few cells should look familiar from tutorial 3. Here we will use some `pandas` functions to load our data and get a general sense of what our dataset looks like. \n",
    "\n",
    "First mount your google drive\n",
    "\n",
    "```\n",
    "from google.colab import drive\n",
    "drive.mount('/content/drive')\n",
    "```"
   ]
  },
  {
   "cell_type": "code",
   "execution_count": null,
   "metadata": {
    "id": "dlQ755FvD-Tq"
   },
   "outputs": [],
   "source": [
    "from google.colab import drive\n",
    "drive.mount('/content/drive')"
   ]
  },
  {
   "cell_type": "markdown",
   "metadata": {
    "id": "rslX0moLpx4b"
   },
   "source": [
    "Now we can load the `csv` file containing our data.\n",
    "\n",
    "```\n",
    "df = pd.read_csv('path/to/my/file')\n",
    "```"
   ]
  },
  {
   "cell_type": "code",
   "execution_count": null,
   "metadata": {
    "id": "WaXEV9_TOFw1"
   },
   "outputs": [],
   "source": [
    "df = pd.read_csv('/content/drive/MyDrive/C-HACK 2022 EVENT/Tutorials/NOAA_storm_data/cleaned_data.csv', index_col=0)"
   ]
  },
  {
   "cell_type": "code",
   "execution_count": null,
   "metadata": {
    "id": "CURXXRmBMx-x"
   },
   "outputs": [],
   "source": [
    "# we check the shape of our data to see if its as we expect \n",
    "df.shape"
   ]
  },
  {
   "cell_type": "code",
   "execution_count": null,
   "metadata": {
    "id": "9KECWcHqRISs"
   },
   "outputs": [],
   "source": [
    "# we check the column names\n",
    "df.columns"
   ]
  },
  {
   "cell_type": "markdown",
   "metadata": {
    "id": "A-vALMyPQVFP"
   },
   "source": [
    "Lets start by looking at basic description of our data. This gives us a sense of what visualizations we can employ to begin understanding our dataset. In Tutorial 5 we will cover the concept of mean and standard deviation."
   ]
  },
  {
   "cell_type": "code",
   "execution_count": null,
   "metadata": {
    "id": "kxUQ2OZuPyf7"
   },
   "outputs": [],
   "source": [
    "df.describe()"
   ]
  },
  {
   "cell_type": "code",
   "execution_count": null,
   "metadata": {
    "id": "xTuSkCctKMdO"
   },
   "outputs": [],
   "source": [
    "df['EVENT_TYPE'].unique()"
   ]
  },
  {
   "cell_type": "markdown",
   "metadata": {
    "id": "bi9_Xx4pwIol"
   },
   "source": [
    "The first thing we notice is that some of the columns in the data contain numerical values. For that data we can compute an average or \"mean\". Other columns are not, such as event type, those can be thought of a categories or categorical data.\n",
    "\n",
    "How can we visualize that type of data?\n",
    "\n",
    "I tend to think of scatter, box, and histogram plots for numerical data and bar or pie charts for categorical data."
   ]
  },
  {
   "cell_type": "markdown",
   "metadata": {
    "id": "DeA0KL-qVAyk"
   },
   "source": [
    "### 4.2.1 Line Plots\n",
    "\n",
    "The way to generate a plot in the fewest keystrokes is to simply call the `plot()` function defined in the `dataframe` object. You can see the documentation for this function [here](https://pandas.pydata.org/pandas-docs/stable/reference/api/pandas.DataFrame.plot.html).\n",
    "\n",
    "```\n",
    "df.plot()\n",
    "```"
   ]
  },
  {
   "cell_type": "code",
   "execution_count": null,
   "metadata": {
    "id": "o_FCRyz65IF2"
   },
   "outputs": [],
   "source": [
    "# the simplest plot we can make is the following so let's start here. \n",
    "# We can generate a figure simply by using the plot() method of our dataframe\n",
    "\n",
    "df.plot()"
   ]
  },
  {
   "cell_type": "markdown",
   "metadata": {
    "id": "7ooLi-JgqH7A"
   },
   "source": [
    "This gives us a raw view of the data, but here I'd like to recall the `fig`, `ax` format we used previously.\n",
    "\n",
    "```\n",
    "fig, ax = plt.subplots(1, 1, figsize = (10, 5))\n",
    "df.plot(ax=ax)\n",
    "```"
   ]
  },
  {
   "cell_type": "code",
   "execution_count": null,
   "metadata": {
    "id": "m6nI_7xzVNhj"
   },
   "outputs": [],
   "source": [
    "fig, ax = plt.subplots(1, 1, figsize = (10, 5))\n",
    "df.plot(ax=ax)"
   ]
  },
  {
   "cell_type": "markdown",
   "metadata": {
    "id": "P0afvJwQF6v8"
   },
   "source": [
    "What is the x axis here? Matplotlib basically just plotted each row in the dataframe, one after another. Does this actually correspond to some continuous variable? Let's look at the column `BEGIN_DATE_TIME`\n",
    "\n",
    "```\n",
    "df['BEGIN_DATE_TIME']\n",
    "```"
   ]
  },
  {
   "cell_type": "code",
   "execution_count": null,
   "metadata": {
    "id": "EZwq7rlwF4Yv"
   },
   "outputs": [],
   "source": [
    "df['BEGIN_DATE_TIME']"
   ]
  },
  {
   "cell_type": "markdown",
   "metadata": {
    "id": "q_nD3l3EJ20Y"
   },
   "source": [
    "So we have the date of these events. We can actually represent these dates as numbers in python so that we can treat time like the continuous variable it is! Pandas has a built-in function that helps us with this, `pd.to_datetime()`. We use this function to transform the values of the datetime column to numbers. (More info [here](https://pandas.pydata.org/pandas-docs/stable/reference/api/pandas.to_datetime.html))\n",
    "\n",
    "```\n",
    "df['BEGIN_DATE_TIME'] = pd.to_datetime(df['BEGIN_DATE_TIME'])\n",
    "fig, ax = plt.subplots(1, 1, figsize = (10, 5))\n",
    "df.plot(x='BEGIN_DATE_TIME', ax=ax)\n",
    "```"
   ]
  },
  {
   "cell_type": "code",
   "execution_count": null,
   "metadata": {
    "id": "Bi7ViDaKJlQ1"
   },
   "outputs": [],
   "source": [
    "df['BEGIN_DATE_TIME'] = pd.to_datetime(df['BEGIN_DATE_TIME'])\n",
    "fig, ax = plt.subplots(1, 1, figsize = (10, 5))\n",
    "df.plot(x='BEGIN_DATE_TIME', ax=ax)"
   ]
  },
  {
   "cell_type": "markdown",
   "metadata": {
    "id": "q7IAYUPs6M-l"
   },
   "source": [
    "It looks like we have data from two years: 2005 and 2018. We could look at each year seperately:\n",
    "\n",
    "```\n",
    "df[df['BEGIN_DATE_TIME'] < '2006']\n",
    "```"
   ]
  },
  {
   "cell_type": "code",
   "execution_count": null,
   "metadata": {
    "id": "dA78X5yV6bVG"
   },
   "outputs": [],
   "source": [
    "df[df['BEGIN_DATE_TIME'] < '2006']"
   ]
  },
  {
   "cell_type": "markdown",
   "metadata": {
    "id": "nOZELRyJ6fN4"
   },
   "source": []
  },
  {
   "cell_type": "markdown",
   "metadata": {
    "id": "ZxXgoacQ6fW_"
   },
   "source": [
    "However it is clear that a line plot of all of the data in this data frame is not a ver good visualization"
   ]
  },
  {
   "cell_type": "markdown",
   "metadata": {
    "id": "d1ctyWERLt1n"
   },
   "source": [
    "### 4.2.2 Scatter Plots\n",
    "\n",
    "Can we glean more information by plotting points? We could try to visualize the locations of these events by latitude and longitude.\n",
    "\n",
    "```\n",
    "fig, ax = plt.subplots(1, 1, figsize = (15, 5))\n",
    "df.plot.scatter(x='LONGITUDE', y='LATITUDE', ax=ax, marker='.')\n",
    "```"
   ]
  },
  {
   "cell_type": "code",
   "execution_count": null,
   "metadata": {
    "id": "U1fPe_49VqmY"
   },
   "outputs": [],
   "source": [
    "fig, ax = plt.subplots(1, 1, figsize = (15, 5))\n",
    "df.plot.scatter(x='LONGITUDE', y='LATITUDE', ax=ax, marker='.')"
   ]
  },
  {
   "cell_type": "markdown",
   "metadata": {
    "id": "O7y09-PBVh4j"
   },
   "source": [
    "We could also try to observe relationships between variables.\n",
    "\n",
    "```\n",
    "fig, ax = plt.subplots(1, 2, figsize = (10, 5), sharey=True)\n",
    "df.plot.scatter(x='DEATHS_DIRECT', y='DAMAGE_PROPERTY', ax=ax[0], marker='.')\n",
    "df.plot.scatter(x='DAMAGE_CROPS', y='DAMAGE_PROPERTY', ax=ax[1], marker='.')\n",
    "```"
   ]
  },
  {
   "cell_type": "code",
   "execution_count": null,
   "metadata": {
    "id": "p05FugsdVzzs"
   },
   "outputs": [],
   "source": [
    "fig, ax = plt.subplots(1, 2, figsize = (10, 5), sharey=True)\n",
    "df.plot.scatter(x='DEATHS_DIRECT', y='DAMAGE_PROPERTY', ax=ax[0], marker='.')\n",
    "df.plot.scatter(x='DAMAGE_CROPS', y='DAMAGE_PROPERTY', ax=ax[1], marker='.')"
   ]
  },
  {
   "cell_type": "markdown",
   "metadata": {
    "id": "lukRlz0IlLlM"
   },
   "source": [
    "#### Exercise 4: Scatter Plots with Pandas\n",
    "\n",
    "We have data from 2015-2020. Create two subplots. In each subplot create a scatter plot of the latitude and longitude location of events for one of two years. Use different colors in each subplot."
   ]
  },
  {
   "cell_type": "code",
   "execution_count": null,
   "metadata": {
    "id": "OrNRBaZkTKuw"
   },
   "outputs": [],
   "source": [
    "# create plot here\n"
   ]
  },
  {
   "cell_type": "markdown",
   "metadata": {
    "id": "2v4EtxNXdA02"
   },
   "source": [
    "### 4.2.3 Box Plots\n",
    "\n",
    "A box plot or box and whisker plot is a method to graphically depict the distribution of a set of datathrough its quartiles. Quartiles are the values of a variable where 25%, 50% and 75% of the data are less than that value. It can also contain information such as any outliers, and the mean of the data. It will be useful to inspect the [boxplot API](https://pandas.pydata.org/pandas-docs/stable/reference/api/pandas.DataFrame.boxplot.html) to see the default behavior for representing the quartiles and outliers. \n",
    "\n",
    "__NOTE__: \"API\" stands for __A__pplication __P__rogramming __I__nterface, which basically means the way you interact with the program. When I say to have a look at the boxplot API above, I simply mean to follow the link and check out how we use the function: what are the inputs, outputs, etc.\n",
    "\n",
    "\n",
    "```\n",
    "fig, ax = plt.subplots(1, 1, figsize = (10, 5))\n",
    "df.boxplot(column=['LATITUDE', 'LONGITUDE'], ax=ax)\n",
    "```"
   ]
  },
  {
   "cell_type": "code",
   "execution_count": null,
   "metadata": {
    "id": "nrEwHDGCV7y_"
   },
   "outputs": [],
   "source": [
    "fig, ax = plt.subplots(1, 1, figsize = (10, 5))\n",
    "df.boxplot(column=['LATITUDE', 'LONGITUDE'], ax=ax)"
   ]
  },
  {
   "cell_type": "markdown",
   "metadata": {
    "id": "5RW9KyS6QjkV"
   },
   "source": [
    "### 4.2.4 Bar Plots\n",
    "\n",
    "One of the more common methods used to depict aggregate data is a [bar plot](https://matplotlib.org/stable/api/_as_gen/matplotlib.pyplot.bar.html). \n",
    "\n",
    "Here, we show the magnitude of data points by depicting them as bars rising up from the axis. A larger value will have a taller bar.\n",
    "\n",
    "Here we will count each storm `EVENT_TYPE` and use these counts to create a bar plot. See Tutorial 3 for more information on aggregation operations.\n",
    "\n",
    "```\n",
    "fig, ax = plt.subplots(1, 1, figsize = (10, 5))\n",
    "counts_df = df.groupby('EVENT_TYPE').count()\n",
    "counts_df.plot.bar(y=\"BEGIN_DATE_TIME\", legend=False, ax=ax)\n",
    "```"
   ]
  },
  {
   "cell_type": "code",
   "execution_count": null,
   "metadata": {
    "id": "x68wlGkrtKzJ"
   },
   "outputs": [],
   "source": [
    "fig, ax = plt.subplots(1, 1, figsize = (10, 5))\n",
    "counts_df = df.groupby('EVENT_TYPE').count()\n",
    "counts_df.plot.bar(y=\"BEGIN_DATE_TIME\", legend=False, ax=ax)"
   ]
  },
  {
   "cell_type": "markdown",
   "metadata": {
    "id": "GgnT5m5UvkMk"
   },
   "source": [
    "The bar plot we created is similar to another type of plots called histograms. Bar plots are used for a categorical data. Histograms are used for numerical data. You will see a histogram later in this tutorial, and it will be better explained in the next tutorial."
   ]
  },
  {
   "cell_type": "markdown",
   "metadata": {
    "id": "Mm6TC37Jv1Xh"
   },
   "source": [
    "#### Exercise 5: Bar plot with pandas\n",
    "\n",
    "Create a bar plot depicting the maximum damage in dollars done to property, `DAMAGE_PROPERTY`, as well as the damage to crops, `DAMAGE_CROPS` as a function of the `EVENT_TYPES` (x-axis).  Use a different colored bar for each bar plot."
   ]
  },
  {
   "cell_type": "code",
   "execution_count": null,
   "metadata": {
    "id": "3dO78hCvvjPm"
   },
   "outputs": [],
   "source": [
    "# create plot here\n"
   ]
  },
  {
   "cell_type": "markdown",
   "metadata": {
    "id": "6vCPAEmg34j5"
   },
   "source": [
    "### 4.2.5 A world of plots\n",
    "What we have seen that we can plot data from a pandas dataframe `df` as:\n",
    "- **Line**: plot numerical data in a continuous series `df.plot()`\n",
    "- **Scatter**: plot numerical data points, can help to spot trends `df.plot.scatter()`\n",
    "- **Bar**: plot numerical data, particularly useful when one variable is categorical and/or when you have to aggregate data `df.plot.bar()`\n",
    "- **Box**: plot a summary of the distribution of a numerical variable `df.boxplot()`\n",
    "\n",
    "... and some new ones which we did not have time to cover include (all are available in matplotlib, only some can be made directly from a pandas dataframe):\n",
    "\n",
    "- **[Histogram](https://matplotlib.org/stable/api/_as_gen/matplotlib.pyplot.hist.html)**: plot distributions of a numerical variable.\n",
    "- **[Pie](https://pandas.pydata.org/docs/reference/api/pandas.DataFrame.plot.pie.html)**: plot distributions of a categorical variable\n",
    "- **[Density](https://pandas.pydata.org/docs/reference/api/pandas.DataFrame.plot.density.html)**: plot estimate of true distribution of a numerical variable from its observations (similar to histogram)\n",
    "- **[Area](https://pandas.pydata.org/docs/reference/api/pandas.DataFrame.plot.area.html)**: plot numerical data in a continuous series. Like a line plot, but more useful when you have multiple categories are part of a whole\n",
    "- **[Contour](https://matplotlib.org/stable/api/_as_gen/matplotlib.pyplot.contour.html)**: plot three dimensional numerical data\n",
    "- **MANY MORE!**\n",
    "\n"
   ]
  },
  {
   "cell_type": "markdown",
   "metadata": {
    "id": "adqwZ8LcbT-N"
   },
   "source": [
    "## 4.4 3D plots\n",
    "\n",
    "The key to good visualization is maximizing the information to complexity ratio. We want to present the data in a way that clearly leads to a conclusion. Tools to help us with this, among the different plot types we have shown, include subplots, color coding, dual axes, etc.\n",
    "\n",
    "Sometimes, an x axis and a y axis are just not enough to convey the information we care about. This happens e.g. when we have data in three dimensions such as a structure or a surface.\n",
    "\n",
    "Let's plot some points in 3d space.\n",
    "\n",
    "```\n",
    "fig = plt.figure(figsize=(10,10))\n",
    "ax = plt.axes(projection='3d')\n",
    "\n",
    "x = np.random.random(20)\n",
    "y = np.random.random(20)\n",
    "z = np.random.random(20)\n",
    "\n",
    "ax.scatter(x,y,z, marker='x', s=100, c='r')\n",
    "```"
   ]
  },
  {
   "cell_type": "code",
   "execution_count": null,
   "metadata": {
    "id": "kXjtZBGolU56"
   },
   "outputs": [],
   "source": [
    "fig = plt.figure(figsize=(10,10))\n",
    "ax = plt.axes(projection='3d')\n",
    "\n",
    "x = np.random.random(20)\n",
    "y = np.random.random(20)\n",
    "z = np.random.random(20)\n",
    "\n",
    "ax.scatter(x,y,z, marker='o', s=200, c='r')"
   ]
  },
  {
   "cell_type": "markdown",
   "metadata": {
    "id": "2RJ8qX8C8Ol_"
   },
   "source": [
    "Another way to visualize 3D data is as a surface. Here I plot the two dimensional sine function as a surface.\n",
    "\n",
    "Here we use the `np.meshgrid()` function. This function creates a two dimensional matrix defining a grid on the X, Y plane, and we compute the Z value of our function at each of those grid points. More info [here](https://numpy.org/doc/stable/reference/generated/numpy.meshgrid.html).\n",
    "\n",
    "```\n",
    "def sin(x,y):\n",
    "  return np.sin(x) + np.sin(y)\n",
    "\n",
    "x = np.linspace(-2,2)\n",
    "y = np.linspace(-2,2)\n",
    "X, Y = np.meshgrid(x, y)\n",
    "# compute our function n the grid\n",
    "Z = sin(X, Y)\n",
    "\n",
    "fig = plt.figure(figsize=(10,10))\n",
    "ax = plt.axes(projection='3d')\n",
    "\n",
    "ax.plot_wireframe(X,Y,Z)\n",
    "```"
   ]
  },
  {
   "cell_type": "code",
   "execution_count": null,
   "metadata": {
    "id": "crLm4H5b8N-f"
   },
   "outputs": [],
   "source": [
    "def sin(x,y):\n",
    "  return np.sin(x) + np.sin(y)\n",
    "\n",
    "x = np.linspace(-2,2)\n",
    "y = np.linspace(-2,2)\n",
    "X, Y = np.meshgrid(x, y)\n",
    "# compute our function n the grid\n",
    "Z = sin(X, Y)\n",
    "\n",
    "fig = plt.figure(figsize=(10,10))\n",
    "ax = plt.axes(projection='3d')\n",
    "\n",
    "ax.plot_wireframe(X,Y,Z)\n",
    "ax.set_xlabel('x', size=20)\n",
    "ax.set_ylabel('y', size=20)\n",
    "ax.set_zlabel('sin(x) + sin(y)', size=20)"
   ]
  },
  {
   "cell_type": "markdown",
   "metadata": {
    "id": "0jNVLI9i92im"
   },
   "source": [
    "In the example above I used a wire frame, which shows the points connected by lines, all one color. We can create a surface where the color is defined by the value of `Z`. This represents the depth of our surface more clearly. I also added a colorbar to associate colors with the value of `Z`.\n",
    "\n",
    "```\n",
    "def sin(x,y):\n",
    "  return np.sin(x) + np.sin(y)\n",
    "\n",
    "x = np.linspace(-2,2)\n",
    "y = np.linspace(-2,2)\n",
    "X, Y = np.meshgrid(x, y)\n",
    "# compute our function n the grid\n",
    "Z = sin(X, Y)\n",
    "\n",
    "fig = plt.figure(figsize=(14,10))\n",
    "ax = plt.axes(projection='3d')\n",
    "\n",
    "surf = ax.plot_surface(X,Y,Z, cmap='viridis')\n",
    "plt.colorbar(surf, shrink=.5)\n",
    "```"
   ]
  },
  {
   "cell_type": "code",
   "execution_count": null,
   "metadata": {
    "id": "ELvgcWJN-Lnf"
   },
   "outputs": [],
   "source": [
    "def sin(x,y):\n",
    "  return np.sin(x) + np.sin(y)\n",
    "\n",
    "x = np.linspace(-2,2)\n",
    "y = np.linspace(-2,2)\n",
    "X, Y = np.meshgrid(x, y)\n",
    "# compute our function n the grid\n",
    "Z = sin(X, Y)\n",
    "\n",
    "fig = plt.figure(figsize=(14,10))\n",
    "ax = plt.axes(projection='3d')\n",
    "\n",
    "surf = ax.plot_surface(X,Y,Z, cmap='viridis')\n",
    "plt.colorbar(surf, shrink=.5)\n",
    "ax.set_xlabel('x', size=20)\n",
    "ax.set_ylabel('y', size=20)\n",
    "ax.set_zlabel('sin(x) + sin(y)', size=20)"
   ]
  },
  {
   "cell_type": "markdown",
   "metadata": {
    "id": "mjckYCs7_DaL"
   },
   "source": [
    "Unfortunately, most 3D plots do not accept unstructured (x, y, z) pairs, data must be in grid format as we did above. In order to plot 3D unstructured data, we have to either interpolate between the data that we have to get points defined on a grid, or to aggregate the data into bins and use the center of each bin as our grid point.\n",
    "\n",
    "Here I aggregate the location data in our storm dataset into bins and count how many are in each bin (using `np.histogram2d` [here](https://numpy.org/doc/stable/reference/generated/numpy.histogram2d.html)). I then use this count to plot a three dimensional histogram.\n",
    "\n",
    "```\n",
    "# get the latitude and longitude data as vectors\n",
    "number_bins = (60,20)\n",
    "\n",
    "# get the bins and counts\n",
    "latitude = df['LATITUDE'].values\n",
    "longitude = df['LONGITUDE'].values\n",
    "lat_min, lat_max = latitude.min(), latitude.max()\n",
    "lon_min, lon_max = longitude.min(), longitude.max()\n",
    "\n",
    "hist, lon_edges, lat_edges = np.histogram2d(longitude, latitude, bins=number_bins, range=[[lon_min, lon_max], [lat_min, lat_max]])\n",
    "\n",
    "# reformat the data for plotting\n",
    "LAT, LON = np.meshgrid(lat_edges[:-1], lon_edges[:-1])\n",
    "LON = LON.flatten(); LAT = LAT.flatten(); hist = hist.flatten()\n",
    "bottom = 0\n",
    "\n",
    "# determine the bar widths\n",
    "dlat = (lat_max - lat_min)/number_bins[1] * .5\n",
    "dlon = (lon_max - lon_min)/number_bins[0] * .5\n",
    "\n",
    "# mask out only where we have non zero values\n",
    "mask = hist > 0.0\n",
    "\n",
    "# plot\n",
    "fig = plt.figure(figsize=(18,12))\n",
    "ax = plt.axes(projection='3d')\n",
    "ax.bar3d(\n",
    "  LON[mask],\n",
    "  LAT[mask],\n",
    "  bottom,\n",
    "  dlon,\n",
    "  dlat,\n",
    "  hist[mask]\n",
    ")\n",
    "\n",
    "# remove guam, makes the plot hard to read\n",
    "ax.set_xlim(lon_min,-50)\n",
    "```"
   ]
  },
  {
   "cell_type": "code",
   "execution_count": null,
   "metadata": {
    "id": "medeTfQ7BYkL"
   },
   "outputs": [],
   "source": [
    "# define how many evenly spacedbins in longittude, latitude we should seperate\n",
    "# our data into\n",
    "number_bins = (60,20)\n",
    "\n",
    "# get the lat and long data from the dataframe\n",
    "latitude = df['LATITUDE'].values\n",
    "longitude = df['LONGITUDE'].values\n",
    "lat_min, lat_max = latitude.min(), latitude.max()\n",
    "lon_min, lon_max = longitude.min(), longitude.max()\n",
    "# get the bins and counts\n",
    "hist, lon_edges, lat_edges = np.histogram2d(longitude, latitude, bins=number_bins, range=[[lon_min, lon_max], [lat_min, lat_max]])\n",
    "\n",
    "# reformat the data into a grid so that we can plot it\n",
    "LAT, LON = np.meshgrid(lat_edges[:-1], lon_edges[:-1])\n",
    "LON = LON.flatten(); LAT = LAT.flatten(); hist = hist.flatten()\n",
    "\n",
    "# determine the bar widths and where to start the bar (we want them to start from 0)\n",
    "dlat = (lat_max - lat_min)/number_bins[1] * .5\n",
    "dlon = (lon_max - lon_min)/number_bins[0] * .5\n",
    "bottom = 0\n",
    "\n",
    "# create a \"mask\" of locations in the data where the value is greater than 0\n",
    "# masking is useful when you want only data that meets some condition\n",
    "mask = hist > 0.0\n",
    "\n",
    "# plot\n",
    "fig = plt.figure(figsize=(18,12))\n",
    "ax = plt.axes(projection='3d')\n",
    "ax.bar3d(\n",
    "  LON[mask],\n",
    "  LAT[mask],\n",
    "  bottom,\n",
    "  dlon,\n",
    "  dlat,\n",
    "  hist[mask],\n",
    "  alpha=.5\n",
    ")\n",
    "\n",
    "# set the x limits, the island of guam distors the map because it is so far away.\n",
    "ax.set_xlim(lon_min,-50)\n",
    "ax.set_xlabel('longitude', size=15)\n",
    "ax.set_ylabel('latitude', size=15)\n",
    "ax.set_zlabel('number of events', size=15)"
   ]
  },
  {
   "cell_type": "markdown",
   "metadata": {
    "id": "xAdeUNi8UE6F"
   },
   "source": [
    "We see that the middle of the country and the east coast has the largest concentration of events in this database."
   ]
  },
  {
   "cell_type": "markdown",
   "metadata": {
    "id": "IvSodjw67adu"
   },
   "source": [
    "# A quick note...\n",
    "\n",
    "Visualization is a **science**, an **artform**, and a **means of communication** all at once! When trying to visualize a set of information think about how to be *informative* and *concise*. You have many tools at your disposal: styles, colors, dimensions, aggregation, data transformation, shapes, etc. to make your plot have a clear message to the viewer. For a specific visualization goal there is never one \"right\" answer, but it is absolutely possible to create a plot that does not do a good job of communicating the information.\n",
    "\n",
    "Spend some time to look online at visualizations people have created of the above types and others! Focus on what data they had, what their message was, how they conveyed that method visually, and aspects about the plot that make it clear easy to understand for the viewer."
   ]
  },
  {
   "cell_type": "markdown",
   "metadata": {
    "id": "98wO0ogQ5KLt"
   },
   "source": [
    "# Breakout room"
   ]
  },
  {
   "cell_type": "markdown",
   "metadata": {
    "id": "KTCRlF2UIHrN"
   },
   "source": [
    "## Question 1\n",
    "\n",
    "In a column of four subplots, plot the **sine(x)** function, the **cosine(x)** function, the **tangent(x)** function, and the **cotangent(x)** function. Have a look at the numpy library for the definition of these functions (more info [here](https://numpy.org/doc/stable/reference/routines.math.html)). \n",
    "\n",
    "*   Each plot should have a different color solid line, and a different marker.\n",
    "*   Plot each from `x=1.0` to `x=2.0`\n",
    "*   Make each of the four subplots share an x axis (**not** axes) \n",
    "\n"
   ]
  },
  {
   "cell_type": "code",
   "execution_count": null,
   "metadata": {
    "id": "JG3kkq7Ql3ZK"
   },
   "outputs": [],
   "source": []
  },
  {
   "cell_type": "markdown",
   "metadata": {
    "id": "_PBP289_UTi9"
   },
   "source": [
    "## Question 2\n",
    "\n",
    "Error bars are often used on plots to visualize uncertainty or error for a point on your plot. Error bars can be used for many types of plots: bar plots, scatter plots, line plots, etc. \n",
    "\n",
    "On a single plot:\n",
    "1.   Create a bar plot of the average property damage caused by each event type\n",
    "2.   Plot the standard deviation of property damage for each event type as error bars\n",
    "\n",
    "Hint: the pandas bar plot function has arguments \"xerr\" and \"yerr\" to define error bars."
   ]
  },
  {
   "cell_type": "code",
   "execution_count": null,
   "metadata": {
    "id": "bG5-EGyvUSvB"
   },
   "outputs": [],
   "source": []
  },
  {
   "cell_type": "markdown",
   "metadata": {
    "id": "xh72gwmZOiiu"
   },
   "source": [
    "## Question 3\n",
    "\n",
    "Create two 3D plots of weather events as above, where x and y longitude and latitude, but instead of creating a bar plot where the heights are the histogram of events:\n",
    "\n",
    "1.   a scatter plot of events where the z value is the property damage done\n",
    "2.   a color coded surface where the z values are the average property damage.\n",
    "\n",
    "Is the first plot visually appealing or very useful to the viewer? The second plot is a way to show the same information but in a more understandable way -  it requires you to aggregate by bins and average so that the data across latitude and longitude is summarized\n",
    "\n",
    "__Hint:__ for part 2, you no longer want to use `np.histogram2d`, consider creating bins by using `pd.cut` and `df.groupby`. You may also have to deal with bins for which you have no data."
   ]
  },
  {
   "cell_type": "code",
   "execution_count": null,
   "metadata": {
    "id": "zjo9AdFnR4nD"
   },
   "outputs": [],
   "source": []
  },
  {
   "cell_type": "code",
   "execution_count": null,
   "metadata": {
    "id": "VYPQATPhPy0p"
   },
   "outputs": [],
   "source": []
  },
  {
   "cell_type": "markdown",
   "metadata": {
    "id": "lTj8U8tVVDvR"
   },
   "source": [
    "# Additional References\n",
    "\n",
    "* [`seaborn`](https://seaborn.pydata.org/) - very useful plotting library built on matplotlib\n",
    "* [hexcodes](https://marketing.istockphoto.com/blog/hex-colors-guide/#:~:text=What%20Are%20Hex%20Color%20Codes%3F&text=Hex%20color%20codes%20are%20values,expressed%20is%20the%20color%20black.) - a way to define colors\n",
    "* [`objects`](https://techterms.com/definition/object) - a term used in programming\n",
    "* [3d plotting guide](https://likegeeks.com/3d-plotting-in-python/)\n"
   ]
  },
  {
   "cell_type": "code",
   "execution_count": null,
   "metadata": {
    "id": "Glw_Xnozvg8Y"
   },
   "outputs": [],
   "source": []
  }
 ],
 "metadata": {
  "colab": {
   "collapsed_sections": [],
   "name": "C_HACK_Tutorial_4_Visualization.ipynb",
   "provenance": [],
   "toc_visible": true
  },
  "kernelspec": {
   "display_name": "Python 3",
   "language": "python",
   "name": "python3"
  },
  "language_info": {
   "codemirror_mode": {
    "name": "ipython",
    "version": 3
   },
   "file_extension": ".py",
   "mimetype": "text/x-python",
   "name": "python",
   "nbconvert_exporter": "python",
   "pygments_lexer": "ipython3",
   "version": "3.6.10"
  }
 },
 "nbformat": 4,
 "nbformat_minor": 4
}
