{
 "cells": [
  {
   "cell_type": "markdown",
   "metadata": {
    "id": "ZhMpsTQGPQIm"
   },
   "source": [
    "# **C-HACK Tutorial 5: Data analysis and Clustering**"
   ]
  },
  {
   "cell_type": "markdown",
   "metadata": {
    "id": "M-4Y8PRWQBwW"
   },
   "source": [
    "**Instructor**: redacted <br>\n",
    "**Contact**: redacted"
   ]
  },
  {
   "cell_type": "markdown",
   "metadata": {
    "id": "5jFqEBrlgoa1"
   },
   "source": [
    "**Acknowlegments:** redacted would like to acknowledge the entire C-HACK hackmaster team for review and comments on the tutorial. In particular, this tutorial was reviewed by:\n",
    "\n",
    "* redacted\n",
    "* redacted\n",
    "\n"
   ]
  },
  {
   "cell_type": "markdown",
   "metadata": {
    "id": "LXXn9xy52KPj"
   },
   "source": [
    "In this tutorial we will look at ways to analyze data and search for unknown groups or \"clusters\" in data with **clustering** methods."
   ]
  },
  {
   "cell_type": "markdown",
   "metadata": {
    "id": "F2fOL1IBhB-o"
   },
   "source": [
    "\n",
    "\n",
    "---\n",
    "\n",
    "\n",
    "\n",
    "\n",
    "\n"
   ]
  },
  {
   "cell_type": "markdown",
   "metadata": {
    "id": "jc0SbuFeQBwW"
   },
   "source": [
    "## 5.0 Loading python packages\n",
    "\n",
    "Lets load the packages (aka libraries) which we will need. The  [scikit-learn](https://scikit-learn.org/stable/) library contains many functions related to machine learning.\n"
   ]
  },
  {
   "cell_type": "code",
   "execution_count": 1,
   "metadata": {
    "id": "XA8E1GTQQBwW"
   },
   "outputs": [],
   "source": [
    "# Pandas library for the pandas dataframes\n",
    "import pandas as pd    \n",
    "\n",
    "# Import scipy for some fitting functions\n",
    "import scipy\n",
    "\n",
    "# Import Scikit-Learn library for the input feature and clustering models\n",
    "import sklearn         \n",
    "from sklearn.metrics import silhouette_score\n",
    "from sklearn.preprocessing import OneHotEncoder, MinMaxScaler\n",
    "from sklearn import linear_model, datasets, decomposition\n",
    "from sklearn.cluster import KMeans, DBSCAN\n",
    "\n",
    "# Import datetime to convert time to a number\n",
    "from datetime import datetime\n",
    "\n",
    "# Import numpy \n",
    "import numpy as np\n",
    "\n",
    "# Import plotting libraries\n",
    "import seaborn as sns\n",
    "import matplotlib \n",
    "from matplotlib import pyplot as plt\n",
    "from matplotlib.pyplot import cm\n",
    "\n",
    "# Set larger fontsize for all plots\n",
    "matplotlib.rcParams.update({'font.size': 20})\n"
   ]
  },
  {
   "cell_type": "markdown",
   "metadata": {
    "id": "RqDKSAAEQ9qv"
   },
   "source": [
    "## 5.1 Loading the NOAA dataset"
   ]
  },
  {
   "cell_type": "markdown",
   "metadata": {
    "id": "rDyhsVetrbhX"
   },
   "source": [
    "Today we will work using the NOAA dataset. We need to load the file for it. Lets start by loading our google drive folder."
   ]
  },
  {
   "cell_type": "markdown",
   "metadata": {
    "id": "f-Y1TU5froPq"
   },
   "source": [
    "When you execute the cell below you will be asked to give authorization to colab to access your drive. "
   ]
  },
  {
   "cell_type": "code",
   "execution_count": 2,
   "metadata": {
    "id": "sdr7-pi9rYrV"
   },
   "outputs": [
    {
     "ename": "ModuleNotFoundError",
     "evalue": "No module named 'google.colab'",
     "output_type": "error",
     "traceback": [
      "\u001b[0;31m---------------------------------------------------------------------------\u001b[0m",
      "\u001b[0;31mModuleNotFoundError\u001b[0m                       Traceback (most recent call last)",
      "\u001b[0;32m<ipython-input-2-38f87d689145>\u001b[0m in \u001b[0;36m<module>\u001b[0;34m\u001b[0m\n\u001b[1;32m      1\u001b[0m \u001b[0;31m# Sync your google drive folder\u001b[0m\u001b[0;34m\u001b[0m\u001b[0;34m\u001b[0m\u001b[0;34m\u001b[0m\u001b[0m\n\u001b[0;32m----> 2\u001b[0;31m \u001b[0;32mfrom\u001b[0m \u001b[0mgoogle\u001b[0m\u001b[0;34m.\u001b[0m\u001b[0mcolab\u001b[0m \u001b[0;32mimport\u001b[0m \u001b[0mdrive\u001b[0m\u001b[0;34m\u001b[0m\u001b[0;34m\u001b[0m\u001b[0m\n\u001b[0m\u001b[1;32m      3\u001b[0m \u001b[0mdrive\u001b[0m\u001b[0;34m.\u001b[0m\u001b[0mmount\u001b[0m\u001b[0;34m(\u001b[0m\u001b[0;34m\"/content/drive\"\u001b[0m\u001b[0;34m)\u001b[0m\u001b[0;34m\u001b[0m\u001b[0;34m\u001b[0m\u001b[0m\n",
      "\u001b[0;31mModuleNotFoundError\u001b[0m: No module named 'google.colab'"
     ]
    }
   ],
   "source": [
    "# Sync your google drive folder\n",
    "from google.colab import drive\n",
    "drive.mount(\"/content/drive\")"
   ]
  },
  {
   "cell_type": "markdown",
   "metadata": {
    "id": "wS-VSJYQr_7a"
   },
   "source": [
    "Now we can follow the instructions shown in *Evan Komp's* [video](https://youtu.be/OYwD4kBuZNw) to locate our file (here called - `cleaned_data.csv`) in google drive from google colab and save its path in a variable. "
   ]
  },
  {
   "cell_type": "code",
   "execution_count": 3,
   "metadata": {
    "id": "WkGCOHHlsEoo"
   },
   "outputs": [],
   "source": [
    "your_path_to_NOAA_file=\"../NOAA_storm_data/cleaned_data.csv\""
   ]
  },
  {
   "cell_type": "markdown",
   "metadata": {
    "id": "z0r6rBAhQBwX"
   },
   "source": [
    "The dataset is in csv format, lets load it by using the  `pd.read_csv()` function in the `pandas` module\n",
    "\n",
    "\n",
    "\n",
    "```\n",
    "# Load the dataset using the read_csv() pandas function - we have to indicate that\n",
    "# the index of each row is in the first column\n",
    "storm_df=pd.read_csv(\"clean_data.csv\",index_col=0)\n",
    "```\n",
    "\n"
   ]
  },
  {
   "cell_type": "code",
   "execution_count": 4,
   "metadata": {
    "id": "llseELesQBwY"
   },
   "outputs": [],
   "source": [
    "# Load the dataset using the read_csv() pandas function - we have to indicate that\n",
    "# the index of each row is in the first column\n",
    "storm_df=pd.read_csv(your_path_to_NOAA_file, index_col=0)"
   ]
  },
  {
   "cell_type": "code",
   "execution_count": 5,
   "metadata": {
    "id": "uRTnabOUQFu-"
   },
   "outputs": [
    {
     "data": {
      "text/html": [
       "<div>\n",
       "<style scoped>\n",
       "    .dataframe tbody tr th:only-of-type {\n",
       "        vertical-align: middle;\n",
       "    }\n",
       "\n",
       "    .dataframe tbody tr th {\n",
       "        vertical-align: top;\n",
       "    }\n",
       "\n",
       "    .dataframe thead th {\n",
       "        text-align: right;\n",
       "    }\n",
       "</style>\n",
       "<table border=\"1\" class=\"dataframe\">\n",
       "  <thead>\n",
       "    <tr style=\"text-align: right;\">\n",
       "      <th></th>\n",
       "      <th>BEGIN_DATE_TIME</th>\n",
       "      <th>EVENT_TYPE</th>\n",
       "      <th>INJURIES_DIRECT</th>\n",
       "      <th>INJURIES_INDIRECT</th>\n",
       "      <th>DEATHS_DIRECT</th>\n",
       "      <th>DEATHS_INDIRECT</th>\n",
       "      <th>DAMAGE_PROPERTY</th>\n",
       "      <th>DAMAGE_CROPS</th>\n",
       "      <th>LATITUDE</th>\n",
       "      <th>LONGITUDE</th>\n",
       "    </tr>\n",
       "  </thead>\n",
       "  <tbody>\n",
       "    <tr>\n",
       "      <th>0</th>\n",
       "      <td>13-JAN-05 18:52:00</td>\n",
       "      <td>Tornado</td>\n",
       "      <td>0</td>\n",
       "      <td>0</td>\n",
       "      <td>0</td>\n",
       "      <td>0</td>\n",
       "      <td>0.0</td>\n",
       "      <td>0.0</td>\n",
       "      <td>33.7800</td>\n",
       "      <td>-82.2000</td>\n",
       "    </tr>\n",
       "    <tr>\n",
       "      <th>1</th>\n",
       "      <td>12-JAN-05 20:56:00</td>\n",
       "      <td>Tornado</td>\n",
       "      <td>0</td>\n",
       "      <td>0</td>\n",
       "      <td>0</td>\n",
       "      <td>0</td>\n",
       "      <td>50000.0</td>\n",
       "      <td>0.0</td>\n",
       "      <td>36.5800</td>\n",
       "      <td>-92.2800</td>\n",
       "    </tr>\n",
       "    <tr>\n",
       "      <th>2</th>\n",
       "      <td>12-JAN-05 21:30:00</td>\n",
       "      <td>Tornado</td>\n",
       "      <td>0</td>\n",
       "      <td>0</td>\n",
       "      <td>0</td>\n",
       "      <td>0</td>\n",
       "      <td>300000.0</td>\n",
       "      <td>0.0</td>\n",
       "      <td>36.8700</td>\n",
       "      <td>-91.9000</td>\n",
       "    </tr>\n",
       "    <tr>\n",
       "      <th>3</th>\n",
       "      <td>12-JAN-05 21:50:00</td>\n",
       "      <td>Tornado</td>\n",
       "      <td>0</td>\n",
       "      <td>0</td>\n",
       "      <td>0</td>\n",
       "      <td>0</td>\n",
       "      <td>100000.0</td>\n",
       "      <td>0.0</td>\n",
       "      <td>37.0200</td>\n",
       "      <td>-91.6800</td>\n",
       "    </tr>\n",
       "    <tr>\n",
       "      <th>4</th>\n",
       "      <td>04-JAN-05 22:35:00</td>\n",
       "      <td>Thunderstorm Wind</td>\n",
       "      <td>0</td>\n",
       "      <td>0</td>\n",
       "      <td>0</td>\n",
       "      <td>0</td>\n",
       "      <td>10000.0</td>\n",
       "      <td>0.0</td>\n",
       "      <td>32.3700</td>\n",
       "      <td>-102.9000</td>\n",
       "    </tr>\n",
       "    <tr>\n",
       "      <th>...</th>\n",
       "      <td>...</td>\n",
       "      <td>...</td>\n",
       "      <td>...</td>\n",
       "      <td>...</td>\n",
       "      <td>...</td>\n",
       "      <td>...</td>\n",
       "      <td>...</td>\n",
       "      <td>...</td>\n",
       "      <td>...</td>\n",
       "      <td>...</td>\n",
       "    </tr>\n",
       "    <tr>\n",
       "      <th>33628</th>\n",
       "      <td>10-OCT-18 17:45:00</td>\n",
       "      <td>Waterspout</td>\n",
       "      <td>0</td>\n",
       "      <td>0</td>\n",
       "      <td>0</td>\n",
       "      <td>0</td>\n",
       "      <td>0.0</td>\n",
       "      <td>0.0</td>\n",
       "      <td>27.6300</td>\n",
       "      <td>-82.6500</td>\n",
       "    </tr>\n",
       "    <tr>\n",
       "      <th>33629</th>\n",
       "      <td>10-OCT-18 17:30:00</td>\n",
       "      <td>Waterspout</td>\n",
       "      <td>0</td>\n",
       "      <td>0</td>\n",
       "      <td>0</td>\n",
       "      <td>0</td>\n",
       "      <td>0.0</td>\n",
       "      <td>0.0</td>\n",
       "      <td>27.3100</td>\n",
       "      <td>-82.5900</td>\n",
       "    </tr>\n",
       "    <tr>\n",
       "      <th>33630</th>\n",
       "      <td>15-SEP-18 14:16:00</td>\n",
       "      <td>Flash Flood</td>\n",
       "      <td>0</td>\n",
       "      <td>0</td>\n",
       "      <td>0</td>\n",
       "      <td>0</td>\n",
       "      <td>10000.0</td>\n",
       "      <td>0.0</td>\n",
       "      <td>34.7665</td>\n",
       "      <td>-79.1530</td>\n",
       "    </tr>\n",
       "    <tr>\n",
       "      <th>33631</th>\n",
       "      <td>15-SEP-18 14:42:00</td>\n",
       "      <td>Flash Flood</td>\n",
       "      <td>0</td>\n",
       "      <td>0</td>\n",
       "      <td>0</td>\n",
       "      <td>0</td>\n",
       "      <td>10000.0</td>\n",
       "      <td>0.0</td>\n",
       "      <td>34.6909</td>\n",
       "      <td>-78.8998</td>\n",
       "    </tr>\n",
       "    <tr>\n",
       "      <th>33632</th>\n",
       "      <td>15-SEP-18 13:40:00</td>\n",
       "      <td>Flash Flood</td>\n",
       "      <td>0</td>\n",
       "      <td>0</td>\n",
       "      <td>0</td>\n",
       "      <td>0</td>\n",
       "      <td>20000.0</td>\n",
       "      <td>0.0</td>\n",
       "      <td>34.3713</td>\n",
       "      <td>-78.3316</td>\n",
       "    </tr>\n",
       "  </tbody>\n",
       "</table>\n",
       "<p>33633 rows × 10 columns</p>\n",
       "</div>"
      ],
      "text/plain": [
       "          BEGIN_DATE_TIME         EVENT_TYPE  INJURIES_DIRECT  \\\n",
       "0      13-JAN-05 18:52:00            Tornado                0   \n",
       "1      12-JAN-05 20:56:00            Tornado                0   \n",
       "2      12-JAN-05 21:30:00            Tornado                0   \n",
       "3      12-JAN-05 21:50:00            Tornado                0   \n",
       "4      04-JAN-05 22:35:00  Thunderstorm Wind                0   \n",
       "...                   ...                ...              ...   \n",
       "33628  10-OCT-18 17:45:00         Waterspout                0   \n",
       "33629  10-OCT-18 17:30:00         Waterspout                0   \n",
       "33630  15-SEP-18 14:16:00        Flash Flood                0   \n",
       "33631  15-SEP-18 14:42:00        Flash Flood                0   \n",
       "33632  15-SEP-18 13:40:00        Flash Flood                0   \n",
       "\n",
       "       INJURIES_INDIRECT  DEATHS_DIRECT  DEATHS_INDIRECT  DAMAGE_PROPERTY  \\\n",
       "0                      0              0                0              0.0   \n",
       "1                      0              0                0          50000.0   \n",
       "2                      0              0                0         300000.0   \n",
       "3                      0              0                0         100000.0   \n",
       "4                      0              0                0          10000.0   \n",
       "...                  ...            ...              ...              ...   \n",
       "33628                  0              0                0              0.0   \n",
       "33629                  0              0                0              0.0   \n",
       "33630                  0              0                0          10000.0   \n",
       "33631                  0              0                0          10000.0   \n",
       "33632                  0              0                0          20000.0   \n",
       "\n",
       "       DAMAGE_CROPS  LATITUDE  LONGITUDE  \n",
       "0               0.0   33.7800   -82.2000  \n",
       "1               0.0   36.5800   -92.2800  \n",
       "2               0.0   36.8700   -91.9000  \n",
       "3               0.0   37.0200   -91.6800  \n",
       "4               0.0   32.3700  -102.9000  \n",
       "...             ...       ...        ...  \n",
       "33628           0.0   27.6300   -82.6500  \n",
       "33629           0.0   27.3100   -82.5900  \n",
       "33630           0.0   34.7665   -79.1530  \n",
       "33631           0.0   34.6909   -78.8998  \n",
       "33632           0.0   34.3713   -78.3316  \n",
       "\n",
       "[33633 rows x 10 columns]"
      ]
     },
     "execution_count": 5,
     "metadata": {},
     "output_type": "execute_result"
    }
   ],
   "source": [
    "storm_df"
   ]
  },
  {
   "cell_type": "markdown",
   "metadata": {
    "id": "cm6isl1eQBwX"
   },
   "source": [
    "## 5.2 Data analysis"
   ]
  },
  {
   "cell_type": "markdown",
   "metadata": {
    "id": "crBj3b4FHemQ"
   },
   "source": [
    "Data analysis is a broad term which covers methods to inspect data and understand its properties. Here we will cover the concepts of distribution, mean, standard deviation and variance.\n"
   ]
  },
  {
   "cell_type": "markdown",
   "metadata": {
    "id": "q_p2pn4aV1b8"
   },
   "source": [
    "### 5.2.1 Cleaning the data\n",
    "\n",
    "It is good practice to check the numbers in your data. For examples sometimes you might see 'NaN' entries, this means \"this is not a number\". We want to remove these. If there are any in our dataset the `df.dropna()` function will enable use to remove them (more info [here](https://pandas.pydata.org/docs/reference/api/pandas.DataFrame.dropna.html)).\n",
    "\n",
    "```\n",
    "storm_df.dropna(inplace=True) # This function acts on the dataframe called storm_df\n",
    "```\n"
   ]
  },
  {
   "cell_type": "code",
   "execution_count": 6,
   "metadata": {
    "id": "OxVzdZPiP2rf"
   },
   "outputs": [],
   "source": [
    "storm_df.dropna(inplace=True) # This function acts on the dataframe called storm_df"
   ]
  },
  {
   "cell_type": "markdown",
   "metadata": {
    "id": "4vnGyZZvPtt8"
   },
   "source": [
    "`dropna` acts directly on the `storm_df` dataframe thanks to the `inplace=True` option. It removes the `NaN` entries as we call it. Let's check that is true ..."
   ]
  },
  {
   "cell_type": "code",
   "execution_count": 7,
   "metadata": {
    "id": "mSFkUijZQOlH"
   },
   "outputs": [
    {
     "data": {
      "text/html": [
       "<div>\n",
       "<style scoped>\n",
       "    .dataframe tbody tr th:only-of-type {\n",
       "        vertical-align: middle;\n",
       "    }\n",
       "\n",
       "    .dataframe tbody tr th {\n",
       "        vertical-align: top;\n",
       "    }\n",
       "\n",
       "    .dataframe thead th {\n",
       "        text-align: right;\n",
       "    }\n",
       "</style>\n",
       "<table border=\"1\" class=\"dataframe\">\n",
       "  <thead>\n",
       "    <tr style=\"text-align: right;\">\n",
       "      <th></th>\n",
       "      <th>BEGIN_DATE_TIME</th>\n",
       "      <th>EVENT_TYPE</th>\n",
       "      <th>INJURIES_DIRECT</th>\n",
       "      <th>INJURIES_INDIRECT</th>\n",
       "      <th>DEATHS_DIRECT</th>\n",
       "      <th>DEATHS_INDIRECT</th>\n",
       "      <th>DAMAGE_PROPERTY</th>\n",
       "      <th>DAMAGE_CROPS</th>\n",
       "      <th>LATITUDE</th>\n",
       "      <th>LONGITUDE</th>\n",
       "    </tr>\n",
       "  </thead>\n",
       "  <tbody>\n",
       "    <tr>\n",
       "      <th>0</th>\n",
       "      <td>13-JAN-05 18:52:00</td>\n",
       "      <td>Tornado</td>\n",
       "      <td>0</td>\n",
       "      <td>0</td>\n",
       "      <td>0</td>\n",
       "      <td>0</td>\n",
       "      <td>0.0</td>\n",
       "      <td>0.0</td>\n",
       "      <td>33.7800</td>\n",
       "      <td>-82.2000</td>\n",
       "    </tr>\n",
       "    <tr>\n",
       "      <th>1</th>\n",
       "      <td>12-JAN-05 20:56:00</td>\n",
       "      <td>Tornado</td>\n",
       "      <td>0</td>\n",
       "      <td>0</td>\n",
       "      <td>0</td>\n",
       "      <td>0</td>\n",
       "      <td>50000.0</td>\n",
       "      <td>0.0</td>\n",
       "      <td>36.5800</td>\n",
       "      <td>-92.2800</td>\n",
       "    </tr>\n",
       "    <tr>\n",
       "      <th>2</th>\n",
       "      <td>12-JAN-05 21:30:00</td>\n",
       "      <td>Tornado</td>\n",
       "      <td>0</td>\n",
       "      <td>0</td>\n",
       "      <td>0</td>\n",
       "      <td>0</td>\n",
       "      <td>300000.0</td>\n",
       "      <td>0.0</td>\n",
       "      <td>36.8700</td>\n",
       "      <td>-91.9000</td>\n",
       "    </tr>\n",
       "    <tr>\n",
       "      <th>3</th>\n",
       "      <td>12-JAN-05 21:50:00</td>\n",
       "      <td>Tornado</td>\n",
       "      <td>0</td>\n",
       "      <td>0</td>\n",
       "      <td>0</td>\n",
       "      <td>0</td>\n",
       "      <td>100000.0</td>\n",
       "      <td>0.0</td>\n",
       "      <td>37.0200</td>\n",
       "      <td>-91.6800</td>\n",
       "    </tr>\n",
       "    <tr>\n",
       "      <th>4</th>\n",
       "      <td>04-JAN-05 22:35:00</td>\n",
       "      <td>Thunderstorm Wind</td>\n",
       "      <td>0</td>\n",
       "      <td>0</td>\n",
       "      <td>0</td>\n",
       "      <td>0</td>\n",
       "      <td>10000.0</td>\n",
       "      <td>0.0</td>\n",
       "      <td>32.3700</td>\n",
       "      <td>-102.9000</td>\n",
       "    </tr>\n",
       "    <tr>\n",
       "      <th>...</th>\n",
       "      <td>...</td>\n",
       "      <td>...</td>\n",
       "      <td>...</td>\n",
       "      <td>...</td>\n",
       "      <td>...</td>\n",
       "      <td>...</td>\n",
       "      <td>...</td>\n",
       "      <td>...</td>\n",
       "      <td>...</td>\n",
       "      <td>...</td>\n",
       "    </tr>\n",
       "    <tr>\n",
       "      <th>33628</th>\n",
       "      <td>10-OCT-18 17:45:00</td>\n",
       "      <td>Waterspout</td>\n",
       "      <td>0</td>\n",
       "      <td>0</td>\n",
       "      <td>0</td>\n",
       "      <td>0</td>\n",
       "      <td>0.0</td>\n",
       "      <td>0.0</td>\n",
       "      <td>27.6300</td>\n",
       "      <td>-82.6500</td>\n",
       "    </tr>\n",
       "    <tr>\n",
       "      <th>33629</th>\n",
       "      <td>10-OCT-18 17:30:00</td>\n",
       "      <td>Waterspout</td>\n",
       "      <td>0</td>\n",
       "      <td>0</td>\n",
       "      <td>0</td>\n",
       "      <td>0</td>\n",
       "      <td>0.0</td>\n",
       "      <td>0.0</td>\n",
       "      <td>27.3100</td>\n",
       "      <td>-82.5900</td>\n",
       "    </tr>\n",
       "    <tr>\n",
       "      <th>33630</th>\n",
       "      <td>15-SEP-18 14:16:00</td>\n",
       "      <td>Flash Flood</td>\n",
       "      <td>0</td>\n",
       "      <td>0</td>\n",
       "      <td>0</td>\n",
       "      <td>0</td>\n",
       "      <td>10000.0</td>\n",
       "      <td>0.0</td>\n",
       "      <td>34.7665</td>\n",
       "      <td>-79.1530</td>\n",
       "    </tr>\n",
       "    <tr>\n",
       "      <th>33631</th>\n",
       "      <td>15-SEP-18 14:42:00</td>\n",
       "      <td>Flash Flood</td>\n",
       "      <td>0</td>\n",
       "      <td>0</td>\n",
       "      <td>0</td>\n",
       "      <td>0</td>\n",
       "      <td>10000.0</td>\n",
       "      <td>0.0</td>\n",
       "      <td>34.6909</td>\n",
       "      <td>-78.8998</td>\n",
       "    </tr>\n",
       "    <tr>\n",
       "      <th>33632</th>\n",
       "      <td>15-SEP-18 13:40:00</td>\n",
       "      <td>Flash Flood</td>\n",
       "      <td>0</td>\n",
       "      <td>0</td>\n",
       "      <td>0</td>\n",
       "      <td>0</td>\n",
       "      <td>20000.0</td>\n",
       "      <td>0.0</td>\n",
       "      <td>34.3713</td>\n",
       "      <td>-78.3316</td>\n",
       "    </tr>\n",
       "  </tbody>\n",
       "</table>\n",
       "<p>33633 rows × 10 columns</p>\n",
       "</div>"
      ],
      "text/plain": [
       "          BEGIN_DATE_TIME         EVENT_TYPE  INJURIES_DIRECT  \\\n",
       "0      13-JAN-05 18:52:00            Tornado                0   \n",
       "1      12-JAN-05 20:56:00            Tornado                0   \n",
       "2      12-JAN-05 21:30:00            Tornado                0   \n",
       "3      12-JAN-05 21:50:00            Tornado                0   \n",
       "4      04-JAN-05 22:35:00  Thunderstorm Wind                0   \n",
       "...                   ...                ...              ...   \n",
       "33628  10-OCT-18 17:45:00         Waterspout                0   \n",
       "33629  10-OCT-18 17:30:00         Waterspout                0   \n",
       "33630  15-SEP-18 14:16:00        Flash Flood                0   \n",
       "33631  15-SEP-18 14:42:00        Flash Flood                0   \n",
       "33632  15-SEP-18 13:40:00        Flash Flood                0   \n",
       "\n",
       "       INJURIES_INDIRECT  DEATHS_DIRECT  DEATHS_INDIRECT  DAMAGE_PROPERTY  \\\n",
       "0                      0              0                0              0.0   \n",
       "1                      0              0                0          50000.0   \n",
       "2                      0              0                0         300000.0   \n",
       "3                      0              0                0         100000.0   \n",
       "4                      0              0                0          10000.0   \n",
       "...                  ...            ...              ...              ...   \n",
       "33628                  0              0                0              0.0   \n",
       "33629                  0              0                0              0.0   \n",
       "33630                  0              0                0          10000.0   \n",
       "33631                  0              0                0          10000.0   \n",
       "33632                  0              0                0          20000.0   \n",
       "\n",
       "       DAMAGE_CROPS  LATITUDE  LONGITUDE  \n",
       "0               0.0   33.7800   -82.2000  \n",
       "1               0.0   36.5800   -92.2800  \n",
       "2               0.0   36.8700   -91.9000  \n",
       "3               0.0   37.0200   -91.6800  \n",
       "4               0.0   32.3700  -102.9000  \n",
       "...             ...       ...        ...  \n",
       "33628           0.0   27.6300   -82.6500  \n",
       "33629           0.0   27.3100   -82.5900  \n",
       "33630           0.0   34.7665   -79.1530  \n",
       "33631           0.0   34.6909   -78.8998  \n",
       "33632           0.0   34.3713   -78.3316  \n",
       "\n",
       "[33633 rows x 10 columns]"
      ]
     },
     "execution_count": 7,
     "metadata": {},
     "output_type": "execute_result"
    }
   ],
   "source": [
    "storm_df"
   ]
  },
  {
   "cell_type": "markdown",
   "metadata": {
    "id": "2eJAHZvgP4Gh"
   },
   "source": [
    "It looks like there were no `NaN` entries. All our entries are still there. "
   ]
  },
  {
   "cell_type": "markdown",
   "metadata": {
    "id": "ruycJkwUPaes"
   },
   "source": [
    "```\n",
    "my_random = {'day':['Monday','Tuesday','Friday', 'Monday'], \\\n",
    "            'caffeine':[100, 90, 70, 88], 'donuts':[25, None, None , 9]}\n",
    "my_random_df = pd.DataFrame(my_random)  # Create dataframe from dictionary \n",
    "\n",
    "my_random_df\n",
    "```"
   ]
  },
  {
   "cell_type": "code",
   "execution_count": 8,
   "metadata": {
    "id": "oIaFH3WYS6s4"
   },
   "outputs": [
    {
     "data": {
      "text/html": [
       "<div>\n",
       "<style scoped>\n",
       "    .dataframe tbody tr th:only-of-type {\n",
       "        vertical-align: middle;\n",
       "    }\n",
       "\n",
       "    .dataframe tbody tr th {\n",
       "        vertical-align: top;\n",
       "    }\n",
       "\n",
       "    .dataframe thead th {\n",
       "        text-align: right;\n",
       "    }\n",
       "</style>\n",
       "<table border=\"1\" class=\"dataframe\">\n",
       "  <thead>\n",
       "    <tr style=\"text-align: right;\">\n",
       "      <th></th>\n",
       "      <th>day</th>\n",
       "      <th>caffeine</th>\n",
       "      <th>donuts</th>\n",
       "    </tr>\n",
       "  </thead>\n",
       "  <tbody>\n",
       "    <tr>\n",
       "      <th>0</th>\n",
       "      <td>Monday</td>\n",
       "      <td>100</td>\n",
       "      <td>25.0</td>\n",
       "    </tr>\n",
       "    <tr>\n",
       "      <th>1</th>\n",
       "      <td>Tuesday</td>\n",
       "      <td>90</td>\n",
       "      <td>NaN</td>\n",
       "    </tr>\n",
       "    <tr>\n",
       "      <th>2</th>\n",
       "      <td>Friday</td>\n",
       "      <td>70</td>\n",
       "      <td>NaN</td>\n",
       "    </tr>\n",
       "    <tr>\n",
       "      <th>3</th>\n",
       "      <td>Monday</td>\n",
       "      <td>88</td>\n",
       "      <td>9.0</td>\n",
       "    </tr>\n",
       "  </tbody>\n",
       "</table>\n",
       "</div>"
      ],
      "text/plain": [
       "       day  caffeine  donuts\n",
       "0   Monday       100    25.0\n",
       "1  Tuesday        90     NaN\n",
       "2   Friday        70     NaN\n",
       "3   Monday        88     9.0"
      ]
     },
     "execution_count": 8,
     "metadata": {},
     "output_type": "execute_result"
    }
   ],
   "source": [
    "my_random = {'day':['Monday','Tuesday','Friday', 'Monday'], \\\n",
    "            'caffeine':[100, 90, 70, 88], 'donuts':[25, None, None , 9]}\n",
    "my_random_df = pd.DataFrame(my_random)  # Create dataframe from dictionary \n",
    "\n",
    "my_random_df"
   ]
  },
  {
   "cell_type": "code",
   "execution_count": 9,
   "metadata": {
    "id": "pUwkKU98TtpE"
   },
   "outputs": [],
   "source": [
    "my_random_df.dropna(inplace=True)"
   ]
  },
  {
   "cell_type": "code",
   "execution_count": 10,
   "metadata": {
    "id": "q0BHuap3T2N5"
   },
   "outputs": [
    {
     "data": {
      "text/html": [
       "<div>\n",
       "<style scoped>\n",
       "    .dataframe tbody tr th:only-of-type {\n",
       "        vertical-align: middle;\n",
       "    }\n",
       "\n",
       "    .dataframe tbody tr th {\n",
       "        vertical-align: top;\n",
       "    }\n",
       "\n",
       "    .dataframe thead th {\n",
       "        text-align: right;\n",
       "    }\n",
       "</style>\n",
       "<table border=\"1\" class=\"dataframe\">\n",
       "  <thead>\n",
       "    <tr style=\"text-align: right;\">\n",
       "      <th></th>\n",
       "      <th>day</th>\n",
       "      <th>caffeine</th>\n",
       "      <th>donuts</th>\n",
       "    </tr>\n",
       "  </thead>\n",
       "  <tbody>\n",
       "    <tr>\n",
       "      <th>0</th>\n",
       "      <td>Monday</td>\n",
       "      <td>100</td>\n",
       "      <td>25.0</td>\n",
       "    </tr>\n",
       "    <tr>\n",
       "      <th>3</th>\n",
       "      <td>Monday</td>\n",
       "      <td>88</td>\n",
       "      <td>9.0</td>\n",
       "    </tr>\n",
       "  </tbody>\n",
       "</table>\n",
       "</div>"
      ],
      "text/plain": [
       "      day  caffeine  donuts\n",
       "0  Monday       100    25.0\n",
       "3  Monday        88     9.0"
      ]
     },
     "execution_count": 10,
     "metadata": {},
     "output_type": "execute_result"
    }
   ],
   "source": [
    "my_random_df"
   ]
  },
  {
   "cell_type": "markdown",
   "metadata": {
    "id": "Gw2XYv-tUBni"
   },
   "source": [
    "Another thing to check for is **missing data**. For example, say we have the first four column values for one entry but the longitude and the latitude are missing, is it still worthwhile to keep that point? Or would it lead to our algorithms interpreting the missing information as something to learn from. If that is the case, those entries should be removed."
   ]
  },
  {
   "cell_type": "markdown",
   "metadata": {
    "id": "PpEYw33qgO1l"
   },
   "source": [
    "\n",
    "Also, sometimes there are **outliers**, i.e. points which are really far from the rest and don't really represent the dataset. You can read more about outliers [here](https://towardsdatascience.com/ways-to-detect-and-remove-the-outliers-404d16608dba). We'll get back to this idea when we have gone through the concept of distributions."
   ]
  },
  {
   "cell_type": "markdown",
   "metadata": {
    "id": "821Y6ygKkSgm"
   },
   "source": [
    "### 5.2.2 Probability distribution\n",
    "\n",
    "When we have a large set of data, such as the NOAA data we might wonder, how likely is it that a specific storm occurs? I.e. what is the *probability* that that event takes place?\n",
    "\n",
    "We can find that probability from a so called **Probability distribution**. This type of distribution describe the likelihood of any event occuring. It can be discrete or continuous.\n",
    "\n",
    "Let's see an example with our dataset. \n",
    "\n",
    "We can visualize the probability of storms at each longitude by making a histogram with the `hist()` function from `matplotlib`. It will give us a count of the number of storms per longitude. We can then divide (also known as *normalize*) by the total number of storms to get the probability."
   ]
  },
  {
   "cell_type": "markdown",
   "metadata": {
    "id": "rj9qjYW0QNEq"
   },
   "source": [
    "```\n",
    "fig, ax = plt.subplots(1,1, figsize=(5,5))\n",
    "ax.hist(storm_df['LONGITUDE'],bins=100, color=\"mediumvioletred\", edgecolor=\"white\") \n",
    "ax.set_xlim([-150,0])\n",
    "ax.set_xlabel(\"Longitude\")\n",
    "ax.set_ylabel(\"Count\")\n",
    "fig.show()\n",
    "```"
   ]
  },
  {
   "cell_type": "code",
   "execution_count": 11,
   "metadata": {
    "id": "kPmnuvUupuBZ"
   },
   "outputs": [
    {
     "name": "stderr",
     "output_type": "stream",
     "text": [
      "/opt/anaconda3/envs/plotting/lib/python3.6/site-packages/ipykernel_launcher.py:6: UserWarning: Matplotlib is currently using module://ipykernel.pylab.backend_inline, which is a non-GUI backend, so cannot show the figure.\n",
      "  \n"
     ]
    },
    {
     "data": {
      "image/png": "[encoded data removed]",
      "text/plain": [
       "<Figure size 360x360 with 1 Axes>"
      ]
     },
     "metadata": {
      "needs_background": "light"
     },
     "output_type": "display_data"
    }
   ],
   "source": [
    "fig, ax = plt.subplots(1,1, figsize=(5,5))\n",
    "ax.hist(storm_df['LONGITUDE'],bins=100, color=\"mediumvioletred\", edgecolor=\"white\") \n",
    "ax.set_xlim([-150,0])\n",
    "ax.set_xlabel(\"Longitude\")\n",
    "ax.set_ylabel(\"Count\")\n",
    "fig.show()"
   ]
  },
  {
   "cell_type": "markdown",
   "metadata": {
    "id": "5gOu9_TDrhfn"
   },
   "source": [
    "Let's see what the probability distribution looks like. Here is we use the option \n",
    "\n",
    "```\n",
    "density=True\n",
    "```\n",
    "\n",
    "in `hist()`. This corresponds to dividing by the total number of entries. \n",
    "\n",
    "```\n",
    "Num_storms = storm_df.shape[0]\n",
    "\n",
    "fig, ax = plt.subplots(1,1, figsize=(5,5))\n",
    "_, bins, _ = ax.hist(storm_df['LONGITUDE'],bins=100, density=True, color=\"cornflowerblue\", edgecolor=\"white\") \n",
    "ax.set_xlim([-150,0])\n",
    "ax.set_xlabel(\"Longitude\")\n",
    "ax.set_ylabel(\"Probability\")\n",
    "```\n"
   ]
  },
  {
   "cell_type": "code",
   "execution_count": 12,
   "metadata": {
    "id": "8GeFzGpMU08n"
   },
   "outputs": [
    {
     "data": {
      "text/plain": [
       "Text(0, 0.5, 'Probability')"
      ]
     },
     "execution_count": 12,
     "metadata": {},
     "output_type": "execute_result"
    },
    {
     "data": {
      "image/png": "[encoded data removed]",
      "text/plain": [
       "<Figure size 360x360 with 1 Axes>"
      ]
     },
     "metadata": {
      "needs_background": "light"
     },
     "output_type": "display_data"
    }
   ],
   "source": [
    "Num_storms = storm_df.shape[0]\n",
    "\n",
    "fig, ax = plt.subplots(1,1, figsize=(5,5))\n",
    "_, bins, _ = ax.hist(storm_df['LONGITUDE'], bins=100, density=True, color=\"cornflowerblue\", edgecolor=\"white\") \n",
    "ax.set_xlim([-150,0])\n",
    "ax.set_xlabel(\"Longitude\")\n",
    "ax.set_ylabel(\"Probability\")"
   ]
  },
  {
   "cell_type": "markdown",
   "metadata": {
    "id": "H0CLieFCU5CL"
   },
   "source": [
    "We can also fit a curve to this histogram by using the `scipy.stats.norm.fit()` [function](https://docs.scipy.org/doc/scipy-0.13.0/reference/generated/scipy.stats.norm.html).  This function takes an array of values in input and returns the parameters of the so called \"normal\" distribution function which best fit the input values. We will see more about the normal distribution in a few cells. The values which are returned are the mean (mu) and standard deviation (sigma) ... again terms we will return to soon. \n",
    "\n",
    "If we want to plot our fitting normal distribution function we can use another function `norm.pdf()`. This function returns the `Y` axis values of the normal distribution based on its mean and standard deviation at each point in `X`:\n",
    "\n",
    "`Y = scipy.stats.norm.pdf(X, mu, sigma)`\n",
    "\n"
   ]
  },
  {
   "cell_type": "markdown",
   "metadata": {
    "id": "aY-gcUttQXen"
   },
   "source": [
    "```\n",
    "fig, ax = plt.subplots(1,1, figsize=(5,5))\n",
    "_, bins, _ = ax.hist(storm_df['LONGITUDE'],bins=100, density=True, color=\"cornflowerblue\", edgecolor=\"white\") \n",
    "ax.set_xlim([-150,0])\n",
    "ax.set_xlabel(\"Longitude\")\n",
    "ax.set_ylabel(\"Probability\")\n",
    "\n",
    "print(bins)\n",
    "\n",
    "mu, sigma = scipy.stats.norm.fit(storm_df['LONGITUDE']) # Get the values of mu and sigma by fitting our data to a normal distribution\n",
    "best_fit_line = scipy.stats.norm.pdf(bins, mu, sigma)   # Get the y-values of the normal distribution for each x-value in our histogram - i.e the bins\n",
    "ax.plot(bins, best_fit_line, lw=3, color='navy')\n",
    "\n",
    "fig.show()\n",
    "```"
   ]
  },
  {
   "cell_type": "code",
   "execution_count": 13,
   "metadata": {
    "id": "ollmkPyJqNyp"
   },
   "outputs": [
    {
     "name": "stdout",
     "output_type": "stream",
     "text": [
      "[-170.8164   -167.660236 -164.504072 -161.347908 -158.191744 -155.03558\n",
      " -151.879416 -148.723252 -145.567088 -142.410924 -139.25476  -136.098596\n",
      " -132.942432 -129.786268 -126.630104 -123.47394  -120.317776 -117.161612\n",
      " -114.005448 -110.849284 -107.69312  -104.536956 -101.380792  -98.224628\n",
      "  -95.068464  -91.9123    -88.756136  -85.599972  -82.443808  -79.287644\n",
      "  -76.13148   -72.975316  -69.819152  -66.662988  -63.506824  -60.35066\n",
      "  -57.194496  -54.038332  -50.882168  -47.726004  -44.56984   -41.413676\n",
      "  -38.257512  -35.101348  -31.945184  -28.78902   -25.632856  -22.476692\n",
      "  -19.320528  -16.164364  -13.0082     -9.852036   -6.695872   -3.539708\n",
      "   -0.383544    2.77262     5.928784    9.084948   12.241112   15.397276\n",
      "   18.55344    21.709604   24.865768   28.021932   31.178096   34.33426\n",
      "   37.490424   40.646588   43.802752   46.958916   50.11508    53.271244\n",
      "   56.427408   59.583572   62.739736   65.8959     69.052064   72.208228\n",
      "   75.364392   78.520556   81.67672    84.832884   87.989048   91.145212\n",
      "   94.301376   97.45754   100.613704  103.769868  106.926032  110.082196\n",
      "  113.23836   116.394524  119.550688  122.706852  125.863016  129.01918\n",
      "  132.175344  135.331508  138.487672  141.643836  144.8     ]\n"
     ]
    },
    {
     "name": "stderr",
     "output_type": "stream",
     "text": [
      "/opt/anaconda3/envs/plotting/lib/python3.6/site-packages/ipykernel_launcher.py:13: UserWarning: Matplotlib is currently using module://ipykernel.pylab.backend_inline, which is a non-GUI backend, so cannot show the figure.\n",
      "  del sys.path[0]\n"
     ]
    },
    {
     "data": {
      "image/png": "[encoded data removed]",
      "text/plain": [
       "<Figure size 360x360 with 1 Axes>"
      ]
     },
     "metadata": {
      "needs_background": "light"
     },
     "output_type": "display_data"
    }
   ],
   "source": [
    "fig, ax = plt.subplots(1,1, figsize=(5,5))\n",
    "_, bins, _ = ax.hist(storm_df['LONGITUDE'], bins=100, density=True, color=\"cornflowerblue\", edgecolor=\"white\") \n",
    "ax.set_xlim([-150,0])\n",
    "ax.set_xlabel(\"Longitude\")\n",
    "ax.set_ylabel(\"Probability\")\n",
    "\n",
    "print(bins)\n",
    "\n",
    "mu, sigma = scipy.stats.norm.fit(storm_df['LONGITUDE']) # Get the values of mu and sigma by fitting our data to a normal distribution\n",
    "best_fit_line = scipy.stats.norm.pdf(bins, mu, sigma)   # Get the y-values of the normal distribution for each x-value in our histogram - i.e the bins\n",
    "ax.plot(bins, best_fit_line, lw=3, color='navy')\n",
    "\n",
    "fig.show()"
   ]
  },
  {
   "cell_type": "markdown",
   "metadata": {
    "id": "qanjt0_Drzw1"
   },
   "source": [
    "\n",
    "A few things worth noting:\n",
    "\n",
    "\n",
    "*   The area under the probability distribution curve will always be 1. Each longitude point will have a probability. When I sum all these probabilities I will get 100% i.e. 1. A point must have a longitude, no matter how likely or unlikely it is.\n",
    "*   It looks like some values are more likely than others - for example it seems like very few storms occur at longitude 0 when compare to longitude -100. \n",
    "*   The distribution is not **homogeneous** some values are more likely than others. An example of a **homogeneous** distribution is the so called *uniform* distribution ... it looks like this:\n",
    "\n"
   ]
  },
  {
   "cell_type": "markdown",
   "metadata": {
    "id": "atNM_Aji2DXj"
   },
   "source": [
    "#### 5.2.2.1 Uniform distribution"
   ]
  },
  {
   "cell_type": "markdown",
   "metadata": {
    "id": "4U5m6f8MQfeG"
   },
   "source": [
    "```\n",
    "fig, ax = plt.subplots(figsize=(5,5))\n",
    "ax.hist(np.random.uniform(-5,5,10000000), density=1, color='bisque', edgecolor='orange')\n",
    "ax.set_xlabel('x Value')\n",
    "ax.set_ylabel('p(x) Probability')\n",
    "ax.set_title('Uniform distribution')\n",
    "fig.show()\n",
    "```"
   ]
  },
  {
   "cell_type": "code",
   "execution_count": null,
   "metadata": {
    "id": "imbIiIDaqmgX"
   },
   "outputs": [],
   "source": [
    "fig, ax = plt.subplots(figsize=(5,5))\n",
    "ax.hist(np.random.uniform(-5,5,10000000), bins=50, density=1, color='bisque', edgecolor='orange')\n",
    "ax.set_xlabel('x Value')\n",
    "ax.set_ylabel('p(x) Probability')\n",
    "ax.set_title('Uniform distribution')\n",
    "fig.show()"
   ]
  },
  {
   "cell_type": "markdown",
   "metadata": {
    "id": "S_jdEhENW6UZ"
   },
   "source": [
    "Here we used the numpy `random.uniform()` function. It takes in input the min and max of the X range and the number of X values we want to extract from a uniform distribution. It then returns the position of each of these points based on how likely they are. They are all equally likely! In the limit of infinite points our histogram becomes flat."
   ]
  },
  {
   "cell_type": "markdown",
   "metadata": {
    "id": "YHo718Pv2Ipn"
   },
   "source": [
    "#### 5.2.2.2 Normal distribution"
   ]
  },
  {
   "cell_type": "markdown",
   "metadata": {
    "id": "SfxW6Bvpt7px"
   },
   "source": [
    "We previously introduced a well known type of distribution the *Normal* or *Gaussian* distribution also known as the Bell curve. We used this curve to fit the data in the blue histogram a few cells above. \n",
    "\n"
   ]
  },
  {
   "cell_type": "code",
   "execution_count": 14,
   "metadata": {
    "id": "n7KiRT-i2rj7"
   },
   "outputs": [
    {
     "name": "stderr",
     "output_type": "stream",
     "text": [
      "/opt/anaconda3/envs/plotting/lib/python3.6/site-packages/ipykernel_launcher.py:6: UserWarning: Matplotlib is currently using module://ipykernel.pylab.backend_inline, which is a non-GUI backend, so cannot show the figure.\n",
      "  \n"
     ]
    },
    {
     "data": {
      "image/png": "[encoded data removed]",
      "text/plain": [
       "<Figure size 360x360 with 1 Axes>"
      ]
     },
     "metadata": {
      "needs_background": "light"
     },
     "output_type": "display_data"
    }
   ],
   "source": [
    "fig, ax = plt.subplots(figsize=(5,5))\n",
    "ax.hist(np.random.normal(-5,5,10000000), bins=50, density=1, color='lemonchiffon', edgecolor='orange')\n",
    "ax.set_xlabel('x Value')\n",
    "ax.set_ylabel('p(x) Probability')\n",
    "ax.set_title('Normal distribution')\n",
    "fig.show()"
   ]
  },
  {
   "cell_type": "markdown",
   "metadata": {
    "id": "aHJt5uFh2z6P"
   },
   "source": [
    "5.2.2.3 The NOAA distrubtions"
   ]
  },
  {
   "cell_type": "markdown",
   "metadata": {
    "id": "718gvejYQ84I"
   },
   "source": [
    "```\n",
    "storm_df.hist(figsize=(20,20), bins=50)\n",
    "plt.show()\n",
    "```"
   ]
  },
  {
   "cell_type": "code",
   "execution_count": 15,
   "metadata": {
    "id": "lgSjjx2qkZqp"
   },
   "outputs": [
    {
     "data": {
      "image/png": "[encoded data removed]",
      "text/plain": [
       "<Figure size 1440x1440 with 9 Axes>"
      ]
     },
     "metadata": {
      "needs_background": "light"
     },
     "output_type": "display_data"
    }
   ],
   "source": [
    "# Let's plot a histogram of all variables each in a separate plot\n",
    "storm_df.hist(figsize=(20,20), bins=50)\n",
    "plt.show()"
   ]
  },
  {
   "cell_type": "markdown",
   "metadata": {
    "id": "eAcHDd1vQBwY"
   },
   "source": [
    "### 5.2.3 Mean and standard deviation\n",
    "We just introduced the concept of distributions. Here we will look at how to quantify the most likely value of the distribution as well as how spreadout the distribution is. Let's recall what is in our dataset \n"
   ]
  },
  {
   "cell_type": "code",
   "execution_count": 16,
   "metadata": {
    "id": "gVIbouXA60Cy"
   },
   "outputs": [
    {
     "data": {
      "text/plain": [
       "Index(['BEGIN_DATE_TIME', 'EVENT_TYPE', 'INJURIES_DIRECT', 'INJURIES_INDIRECT',\n",
       "       'DEATHS_DIRECT', 'DEATHS_INDIRECT', 'DAMAGE_PROPERTY', 'DAMAGE_CROPS',\n",
       "       'LATITUDE', 'LONGITUDE'],\n",
       "      dtype='object')"
      ]
     },
     "execution_count": 16,
     "metadata": {},
     "output_type": "execute_result"
    }
   ],
   "source": [
    "storm_df.columns"
   ]
  },
  {
   "cell_type": "markdown",
   "metadata": {
    "id": "Fd581tNav4IA"
   },
   "source": [
    "On average what is the longitude location, X, of the storms?"
   ]
  },
  {
   "cell_type": "markdown",
   "metadata": {
    "id": "5ZlqE37qqrMC"
   },
   "source": [
    "\n",
    "\n",
    "We can compute the average longitude by summing over the values of longitude from each storm $X=\\left\\{X_0, X_1, ..., X_N\\right\\}$ and normalizing by the total number of events $N$:\n",
    "\n",
    "$$\\mu_{X} = \\left(X_0 + X_1 + X_2 + ... + X_N \\right)/N =\\sum_{i=0}^{N}\\frac{X_i}{N}$$\n",
    "\n",
    "This quantity is also known as the **mean**. We can use the `pandas` dataframe [`mean`](https://pandas.pydata.org/docs/reference/api/pandas.DataFrame.mean.html) function to obtain it:\n",
    "\n",
    "```\n",
    "mean_longitude = storm_df['LONGITUDE'].mean()  # mean() acts on the dataframe column `storm_df['LONGITUDE']` and return the float value of the mean longitude\n",
    "\n",
    "mean_longitude\n",
    "```"
   ]
  },
  {
   "cell_type": "code",
   "execution_count": 17,
   "metadata": {
    "id": "l6ivXmVdr1g0"
   },
   "outputs": [
    {
     "data": {
      "text/plain": [
       "-90.97366982249576"
      ]
     },
     "execution_count": 17,
     "metadata": {},
     "output_type": "execute_result"
    }
   ],
   "source": [
    "mean_longitude = storm_df['LONGITUDE'].mean()  # mean() acts on the dataframe column `storm_df['LONGITUDE']` and return the float value of the mean longitude\n",
    "\n",
    "mean_longitude"
   ]
  },
  {
   "cell_type": "markdown",
   "metadata": {
    "id": "KgObKVDLfv2S"
   },
   "source": [
    "Let's plot the mean as a line at the position of the mean\n",
    "\n",
    "```\n",
    "fig, ax = plt.subplots(1,1, figsize=(5,5))\n",
    "ax.hist(storm_df['LONGITUDE'],bins=100, density=True, color=\"cornflowerblue\", edgecolor=\"white\") # SV: SWITCH TO FIG, AX\n",
    "ax.plot([mean_longitude,mean_longitude],[0,0.05],'k',lw=3, label=\"mean\") # two identical x values and two different y values to plot a line for the mean\n",
    "ax.set_xlim([-150,0])\n",
    "ax.set_ylim([0,0.045])\n",
    "ax.set_xlabel(\"Longitude\")\n",
    "ax.set_ylabel(\"Probability\")\n",
    "ax.legend()\n",
    "```"
   ]
  },
  {
   "cell_type": "code",
   "execution_count": 18,
   "metadata": {
    "id": "EWDaBCmCwlXc"
   },
   "outputs": [
    {
     "data": {
      "text/plain": [
       "<matplotlib.legend.Legend at 0x7faa5c4f7470>"
      ]
     },
     "execution_count": 18,
     "metadata": {},
     "output_type": "execute_result"
    },
    {
     "data": {
      "image/png": "[encoded data removed]",
      "text/plain": [
       "<Figure size 360x360 with 1 Axes>"
      ]
     },
     "metadata": {
      "needs_background": "light"
     },
     "output_type": "display_data"
    }
   ],
   "source": [
    "fig, ax = plt.subplots(1,1, figsize=(5,5))\n",
    "ax.hist(storm_df['LONGITUDE'],bins=100, density=True, color=\"cornflowerblue\", edgecolor=\"white\") # SV: SWITCH TO FIG, AX\n",
    "ax.plot([mean_longitude,mean_longitude],[0,0.05],'k',lw=3, label=\"mean\") # two identical x values and two different y values to plot a line for the mean\n",
    "ax.set_xlim([-150,0])\n",
    "ax.set_ylim([0,0.045])\n",
    "ax.set_xlabel(\"Longitude\")\n",
    "ax.set_ylabel(\"Probability\")\n",
    "ax.legend()"
   ]
  },
  {
   "cell_type": "markdown",
   "metadata": {
    "id": "cxA0gPY5sYMs"
   },
   "source": [
    "##### Now what is std - the **standard deviation** ?\n",
    "\n",
    "The standard deviation quantifies the average distance of points $X=\\left\\{X_0, X_1, ..., X_N\\right\\}$ from the mean $\\mu_X$:\n",
    "\n",
    "$$\\sigma_{X}=\\sqrt{\\frac{\\sum_{i=0}^{N}(X_i-\\mu_X)^2}{N-1}}$$\n",
    "\n",
    "The square of the standard deviation is known as the **variance**.\n",
    "\n",
    "One question we might have is: are all points close to -90.9736698224961?\n",
    "\n"
   ]
  },
  {
   "cell_type": "markdown",
   "metadata": {
    "id": "2lf_loItt-72"
   },
   "source": [
    "From our intial histogram we might expect the standard deviation to be around the order of maybe ~15. We can think of it as some measure of the width of the histogram (distribution) ... let's compute it using the pandas dataframe [`std()`](https://pandas.pydata.org/docs/reference/api/pandas.DataFrame.std.html) function\n",
    "\n",
    "```\n",
    "std_longitude = storm_df['LONGITUDE'].std() # std() acts on the 'LONGITUDE' colum of storm_df and returns the standard deviation\n",
    "std_longitude\n",
    "```"
   ]
  },
  {
   "cell_type": "code",
   "execution_count": 19,
   "metadata": {
    "id": "qfGVErI1ogxv"
   },
   "outputs": [
    {
     "data": {
      "text/plain": [
       "12.140571185332998"
      ]
     },
     "execution_count": 19,
     "metadata": {},
     "output_type": "execute_result"
    }
   ],
   "source": [
    "std_longitude = storm_df['LONGITUDE'].std() # std() acts on the 'LONGITUDE' colum of storm_df and returns the standard deviation\n",
    "std_longitude"
   ]
  },
  {
   "cell_type": "markdown",
   "metadata": {
    "id": "q5mUkLS0gw35"
   },
   "source": [
    "Let's plot the standard deviation using an *arrow* plot ([more info on arrow plots here](https://matplotlib.org/stable/api/_as_gen/matplotlib.pyplot.arrow.html))\n",
    "\n",
    "```\n",
    "fig, ax = plt.subplots(1,1, figsize=(5,5))\n",
    "ax.hist(storm_df['LONGITUDE'],bins=100, density=True, color=\"cornflowerblue\", edgecolor=\"white\") # SV: SWITCH TO FIG, AX\n",
    "ax.plot([mean_longitude,mean_longitude],[0,0.05],'k',lw=3, label=\"mean\")\n",
    "ax.arrow(mean_longitude, 0.02, std_longitude, 0, color=\"tomato\")\n",
    "ax.arrow(mean_longitude, 0.02, -std_longitude, 0, color=\"tomato\")\n",
    "ax.set_xlim([-150,0])\n",
    "ax.set_ylim([0,0.045])\n",
    "ax.set_xlabel(\"Longitude\")\n",
    "ax.set_ylabel(\"Probability\")\n",
    "ax.legend()\n",
    "fig.show()\n",
    "```"
   ]
  },
  {
   "cell_type": "code",
   "execution_count": 20,
   "metadata": {
    "id": "bEAbY27JxXwZ"
   },
   "outputs": [
    {
     "name": "stderr",
     "output_type": "stream",
     "text": [
      "/opt/anaconda3/envs/plotting/lib/python3.6/site-packages/ipykernel_launcher.py:11: UserWarning: Matplotlib is currently using module://ipykernel.pylab.backend_inline, which is a non-GUI backend, so cannot show the figure.\n",
      "  # This is added back by InteractiveShellApp.init_path()\n"
     ]
    },
    {
     "data": {
      "image/png": "[encoded data removed]",
      "text/plain": [
       "<Figure size 360x360 with 1 Axes>"
      ]
     },
     "metadata": {
      "needs_background": "light"
     },
     "output_type": "display_data"
    }
   ],
   "source": [
    "fig, ax = plt.subplots(1,1, figsize=(5,5))\n",
    "ax.hist(storm_df['LONGITUDE'],bins=100, density=True, color=\"cornflowerblue\", edgecolor=\"white\") # SV: SWITCH TO FIG, AX\n",
    "ax.plot([mean_longitude,mean_longitude],[0,0.05],'k',lw=3, label=\"mean\")\n",
    "ax.arrow(mean_longitude, 0.02, std_longitude, 0, color=\"tomato\")\n",
    "ax.arrow(mean_longitude, 0.02, -std_longitude, 0, color=\"tomato\")\n",
    "ax.set_xlim([-150,0])\n",
    "ax.set_ylim([0,0.045])\n",
    "ax.set_xlabel(\"Longitude\")\n",
    "ax.set_ylabel(\"Probability\")\n",
    "ax.legend()\n",
    "fig.show()"
   ]
  },
  {
   "cell_type": "markdown",
   "metadata": {
    "id": "6KmZsIXSsQXn"
   },
   "source": [
    "We could compute the mean and standard deviation for all columns! Luckily pandas does that for us with the describe function:\n",
    "\n",
    "```\n",
    "storm_df.describe()\n",
    "```\n",
    "\n"
   ]
  },
  {
   "cell_type": "code",
   "execution_count": 21,
   "metadata": {
    "id": "edp72GncsPti"
   },
   "outputs": [
    {
     "data": {
      "text/html": [
       "<div>\n",
       "<style scoped>\n",
       "    .dataframe tbody tr th:only-of-type {\n",
       "        vertical-align: middle;\n",
       "    }\n",
       "\n",
       "    .dataframe tbody tr th {\n",
       "        vertical-align: top;\n",
       "    }\n",
       "\n",
       "    .dataframe thead th {\n",
       "        text-align: right;\n",
       "    }\n",
       "</style>\n",
       "<table border=\"1\" class=\"dataframe\">\n",
       "  <thead>\n",
       "    <tr style=\"text-align: right;\">\n",
       "      <th></th>\n",
       "      <th>INJURIES_DIRECT</th>\n",
       "      <th>INJURIES_INDIRECT</th>\n",
       "      <th>DEATHS_DIRECT</th>\n",
       "      <th>DEATHS_INDIRECT</th>\n",
       "      <th>DAMAGE_PROPERTY</th>\n",
       "      <th>DAMAGE_CROPS</th>\n",
       "      <th>LATITUDE</th>\n",
       "      <th>LONGITUDE</th>\n",
       "    </tr>\n",
       "  </thead>\n",
       "  <tbody>\n",
       "    <tr>\n",
       "      <th>count</th>\n",
       "      <td>33633.000000</td>\n",
       "      <td>33633.000000</td>\n",
       "      <td>33633.000000</td>\n",
       "      <td>33633.000000</td>\n",
       "      <td>3.363300e+04</td>\n",
       "      <td>33633.000000</td>\n",
       "      <td>33633.000000</td>\n",
       "      <td>33633.000000</td>\n",
       "    </tr>\n",
       "    <tr>\n",
       "      <th>mean</th>\n",
       "      <td>0.020843</td>\n",
       "      <td>0.000833</td>\n",
       "      <td>0.005292</td>\n",
       "      <td>0.000654</td>\n",
       "      <td>9.669847e+03</td>\n",
       "      <td>2022.798145</td>\n",
       "      <td>37.805027</td>\n",
       "      <td>-90.973670</td>\n",
       "    </tr>\n",
       "    <tr>\n",
       "      <th>std</th>\n",
       "      <td>0.994340</td>\n",
       "      <td>0.037769</td>\n",
       "      <td>0.164768</td>\n",
       "      <td>0.034481</td>\n",
       "      <td>6.330757e+04</td>\n",
       "      <td>24187.988405</td>\n",
       "      <td>5.172795</td>\n",
       "      <td>12.140571</td>\n",
       "    </tr>\n",
       "    <tr>\n",
       "      <th>min</th>\n",
       "      <td>0.000000</td>\n",
       "      <td>0.000000</td>\n",
       "      <td>0.000000</td>\n",
       "      <td>0.000000</td>\n",
       "      <td>0.000000e+00</td>\n",
       "      <td>0.000000</td>\n",
       "      <td>-14.345900</td>\n",
       "      <td>-170.816400</td>\n",
       "    </tr>\n",
       "    <tr>\n",
       "      <th>25%</th>\n",
       "      <td>0.000000</td>\n",
       "      <td>0.000000</td>\n",
       "      <td>0.000000</td>\n",
       "      <td>0.000000</td>\n",
       "      <td>0.000000e+00</td>\n",
       "      <td>0.000000</td>\n",
       "      <td>34.651700</td>\n",
       "      <td>-97.410000</td>\n",
       "    </tr>\n",
       "    <tr>\n",
       "      <th>50%</th>\n",
       "      <td>0.000000</td>\n",
       "      <td>0.000000</td>\n",
       "      <td>0.000000</td>\n",
       "      <td>0.000000</td>\n",
       "      <td>0.000000e+00</td>\n",
       "      <td>0.000000</td>\n",
       "      <td>38.260000</td>\n",
       "      <td>-90.328400</td>\n",
       "    </tr>\n",
       "    <tr>\n",
       "      <th>75%</th>\n",
       "      <td>0.000000</td>\n",
       "      <td>0.000000</td>\n",
       "      <td>0.000000</td>\n",
       "      <td>0.000000</td>\n",
       "      <td>1.000000e+03</td>\n",
       "      <td>0.000000</td>\n",
       "      <td>41.460200</td>\n",
       "      <td>-82.060000</td>\n",
       "    </tr>\n",
       "    <tr>\n",
       "      <th>max</th>\n",
       "      <td>168.000000</td>\n",
       "      <td>3.000000</td>\n",
       "      <td>21.000000</td>\n",
       "      <td>4.000000</td>\n",
       "      <td>5.500000e+06</td>\n",
       "      <td>800000.000000</td>\n",
       "      <td>62.563400</td>\n",
       "      <td>144.800000</td>\n",
       "    </tr>\n",
       "  </tbody>\n",
       "</table>\n",
       "</div>"
      ],
      "text/plain": [
       "       INJURIES_DIRECT  INJURIES_INDIRECT  DEATHS_DIRECT  DEATHS_INDIRECT  \\\n",
       "count     33633.000000       33633.000000   33633.000000     33633.000000   \n",
       "mean          0.020843           0.000833       0.005292         0.000654   \n",
       "std           0.994340           0.037769       0.164768         0.034481   \n",
       "min           0.000000           0.000000       0.000000         0.000000   \n",
       "25%           0.000000           0.000000       0.000000         0.000000   \n",
       "50%           0.000000           0.000000       0.000000         0.000000   \n",
       "75%           0.000000           0.000000       0.000000         0.000000   \n",
       "max         168.000000           3.000000      21.000000         4.000000   \n",
       "\n",
       "       DAMAGE_PROPERTY   DAMAGE_CROPS      LATITUDE     LONGITUDE  \n",
       "count     3.363300e+04   33633.000000  33633.000000  33633.000000  \n",
       "mean      9.669847e+03    2022.798145     37.805027    -90.973670  \n",
       "std       6.330757e+04   24187.988405      5.172795     12.140571  \n",
       "min       0.000000e+00       0.000000    -14.345900   -170.816400  \n",
       "25%       0.000000e+00       0.000000     34.651700    -97.410000  \n",
       "50%       0.000000e+00       0.000000     38.260000    -90.328400  \n",
       "75%       1.000000e+03       0.000000     41.460200    -82.060000  \n",
       "max       5.500000e+06  800000.000000     62.563400    144.800000  "
      ]
     },
     "execution_count": 21,
     "metadata": {},
     "output_type": "execute_result"
    }
   ],
   "source": [
    "storm_df.describe()"
   ]
  },
  {
   "cell_type": "markdown",
   "metadata": {
    "id": "a2ByCL9UujIL"
   },
   "source": [
    "Here we see that every column has a different mean and standard deviation! This is important because it gives us information on the data we have. "
   ]
  },
  {
   "cell_type": "markdown",
   "metadata": {
    "id": "YOt8kjELU6uB"
   },
   "source": [
    "Now we can go back to the idea of **outliers**. Generally speaking if a point is more than +3 or -3 standard deviations from the mean it is very unlikely and can be considered as an outlier. There are better ways to identify outliers but it is definetly something you want to keep in mind.  "
   ]
  },
  {
   "cell_type": "markdown",
   "metadata": {
    "id": "o2mg4z4Qy-at"
   },
   "source": [
    "### 5.2.4 Scaling the data"
   ]
  },
  {
   "cell_type": "markdown",
   "metadata": {
    "id": "8bmx7R1AQ6oV"
   },
   "source": [
    "Lastly it is often good to consider **scaling** or **normalizing** the data which will be passed to functions for machine learning. You don't need this in all cases, but say you have one column that is the amount of coffee your drink in units of molecules, so the numbers are on the order of millions. Then you also have a column that gives you the total hours you work each day. Here the numbers are on the order of 10. You don't want the algorithm to give more importance to the number of molecules with respect to the number of hours. Here are two solutions:\n",
    "* You can **scale** the data from whatever the current min and max values are down to the range of [0, 1] or [-1, 1]. This means changing the x-range of values over which the data is defined. \n",
    "\n",
    "* You can **normalize** the data. Here the x-range of values would not change, but the y values would be normalized by the area under the curve which best fits the data.\n",
    "\n",
    "For more information see [here](https://towardsdatascience.com/understand-data-normalization-in-machine-learning-8ff3062101f0). \n",
    "\n",
    "Let's do this for our dataset. Note that we can only do this for numerical values. We will soon see how to manage string or categorical entries."
   ]
  },
  {
   "cell_type": "code",
   "execution_count": 22,
   "metadata": {
    "id": "oQTwY8Wqxfse"
   },
   "outputs": [
    {
     "data": {
      "text/html": [
       "<div>\n",
       "<style scoped>\n",
       "    .dataframe tbody tr th:only-of-type {\n",
       "        vertical-align: middle;\n",
       "    }\n",
       "\n",
       "    .dataframe tbody tr th {\n",
       "        vertical-align: top;\n",
       "    }\n",
       "\n",
       "    .dataframe thead th {\n",
       "        text-align: right;\n",
       "    }\n",
       "</style>\n",
       "<table border=\"1\" class=\"dataframe\">\n",
       "  <thead>\n",
       "    <tr style=\"text-align: right;\">\n",
       "      <th></th>\n",
       "      <th>INJURIES_DIRECT</th>\n",
       "      <th>INJURIES_INDIRECT</th>\n",
       "      <th>DEATHS_DIRECT</th>\n",
       "      <th>DEATHS_INDIRECT</th>\n",
       "      <th>DAMAGE_PROPERTY</th>\n",
       "      <th>DAMAGE_CROPS</th>\n",
       "      <th>LATITUDE</th>\n",
       "      <th>LONGITUDE</th>\n",
       "    </tr>\n",
       "  </thead>\n",
       "  <tbody>\n",
       "    <tr>\n",
       "      <th>count</th>\n",
       "      <td>33633.000000</td>\n",
       "      <td>33633.000000</td>\n",
       "      <td>33633.000000</td>\n",
       "      <td>33633.000000</td>\n",
       "      <td>3.363300e+04</td>\n",
       "      <td>33633.000000</td>\n",
       "      <td>33633.000000</td>\n",
       "      <td>33633.000000</td>\n",
       "    </tr>\n",
       "    <tr>\n",
       "      <th>mean</th>\n",
       "      <td>0.020843</td>\n",
       "      <td>0.000833</td>\n",
       "      <td>0.005292</td>\n",
       "      <td>0.000654</td>\n",
       "      <td>9.669847e+03</td>\n",
       "      <td>2022.798145</td>\n",
       "      <td>37.805027</td>\n",
       "      <td>-90.973670</td>\n",
       "    </tr>\n",
       "    <tr>\n",
       "      <th>std</th>\n",
       "      <td>0.994340</td>\n",
       "      <td>0.037769</td>\n",
       "      <td>0.164768</td>\n",
       "      <td>0.034481</td>\n",
       "      <td>6.330757e+04</td>\n",
       "      <td>24187.988405</td>\n",
       "      <td>5.172795</td>\n",
       "      <td>12.140571</td>\n",
       "    </tr>\n",
       "    <tr>\n",
       "      <th>min</th>\n",
       "      <td>0.000000</td>\n",
       "      <td>0.000000</td>\n",
       "      <td>0.000000</td>\n",
       "      <td>0.000000</td>\n",
       "      <td>0.000000e+00</td>\n",
       "      <td>0.000000</td>\n",
       "      <td>-14.345900</td>\n",
       "      <td>-170.816400</td>\n",
       "    </tr>\n",
       "    <tr>\n",
       "      <th>25%</th>\n",
       "      <td>0.000000</td>\n",
       "      <td>0.000000</td>\n",
       "      <td>0.000000</td>\n",
       "      <td>0.000000</td>\n",
       "      <td>0.000000e+00</td>\n",
       "      <td>0.000000</td>\n",
       "      <td>34.651700</td>\n",
       "      <td>-97.410000</td>\n",
       "    </tr>\n",
       "    <tr>\n",
       "      <th>50%</th>\n",
       "      <td>0.000000</td>\n",
       "      <td>0.000000</td>\n",
       "      <td>0.000000</td>\n",
       "      <td>0.000000</td>\n",
       "      <td>0.000000e+00</td>\n",
       "      <td>0.000000</td>\n",
       "      <td>38.260000</td>\n",
       "      <td>-90.328400</td>\n",
       "    </tr>\n",
       "    <tr>\n",
       "      <th>75%</th>\n",
       "      <td>0.000000</td>\n",
       "      <td>0.000000</td>\n",
       "      <td>0.000000</td>\n",
       "      <td>0.000000</td>\n",
       "      <td>1.000000e+03</td>\n",
       "      <td>0.000000</td>\n",
       "      <td>41.460200</td>\n",
       "      <td>-82.060000</td>\n",
       "    </tr>\n",
       "    <tr>\n",
       "      <th>max</th>\n",
       "      <td>168.000000</td>\n",
       "      <td>3.000000</td>\n",
       "      <td>21.000000</td>\n",
       "      <td>4.000000</td>\n",
       "      <td>5.500000e+06</td>\n",
       "      <td>800000.000000</td>\n",
       "      <td>62.563400</td>\n",
       "      <td>144.800000</td>\n",
       "    </tr>\n",
       "  </tbody>\n",
       "</table>\n",
       "</div>"
      ],
      "text/plain": [
       "       INJURIES_DIRECT  INJURIES_INDIRECT  DEATHS_DIRECT  DEATHS_INDIRECT  \\\n",
       "count     33633.000000       33633.000000   33633.000000     33633.000000   \n",
       "mean          0.020843           0.000833       0.005292         0.000654   \n",
       "std           0.994340           0.037769       0.164768         0.034481   \n",
       "min           0.000000           0.000000       0.000000         0.000000   \n",
       "25%           0.000000           0.000000       0.000000         0.000000   \n",
       "50%           0.000000           0.000000       0.000000         0.000000   \n",
       "75%           0.000000           0.000000       0.000000         0.000000   \n",
       "max         168.000000           3.000000      21.000000         4.000000   \n",
       "\n",
       "       DAMAGE_PROPERTY   DAMAGE_CROPS      LATITUDE     LONGITUDE  \n",
       "count     3.363300e+04   33633.000000  33633.000000  33633.000000  \n",
       "mean      9.669847e+03    2022.798145     37.805027    -90.973670  \n",
       "std       6.330757e+04   24187.988405      5.172795     12.140571  \n",
       "min       0.000000e+00       0.000000    -14.345900   -170.816400  \n",
       "25%       0.000000e+00       0.000000     34.651700    -97.410000  \n",
       "50%       0.000000e+00       0.000000     38.260000    -90.328400  \n",
       "75%       1.000000e+03       0.000000     41.460200    -82.060000  \n",
       "max       5.500000e+06  800000.000000     62.563400    144.800000  "
      ]
     },
     "execution_count": 22,
     "metadata": {},
     "output_type": "execute_result"
    }
   ],
   "source": [
    "storm_df.describe()"
   ]
  },
  {
   "cell_type": "markdown",
   "metadata": {
    "id": "UFNOwzBrPt1Z"
   },
   "source": [
    "```\n",
    "# Select the X_data as all columns except the `'EVENT_TYPE'` from storm_df\n",
    "X_data = storm_df[['INJURIES_DIRECT', 'INJURIES_INDIRECT', \\\n",
    "                   'DEATHS_DIRECT', 'DEATHS_INDIRECT', 'DAMAGE_PROPERTY', 'DAMAGE_CROPS', \\\n",
    "                   'LATITUDE','LONGITUDE']] \n",
    "```"
   ]
  },
  {
   "cell_type": "code",
   "execution_count": 23,
   "metadata": {
    "id": "pTcDiO78QP0Z"
   },
   "outputs": [
    {
     "data": {
      "text/plain": [
       "pandas.core.frame.DataFrame"
      ]
     },
     "execution_count": 23,
     "metadata": {},
     "output_type": "execute_result"
    }
   ],
   "source": [
    "# Select the X_data as all columns except the `'EVENT_TYPE'` from storm_df\n",
    "X_data = storm_df[['INJURIES_DIRECT', 'INJURIES_INDIRECT', \\\n",
    "                   'DEATHS_DIRECT', 'DEATHS_INDIRECT', 'DAMAGE_PROPERTY', 'DAMAGE_CROPS', \\\n",
    "                   'LATITUDE','LONGITUDE']] \n",
    "\n",
    "type(X_data)"
   ]
  },
  {
   "cell_type": "markdown",
   "metadata": {
    "id": "ncI_uEUXRrVM"
   },
   "source": [
    "We can scale the columns in `X_data` by using the `MinMaxScaler()` function implemented in scikit-learn ([more info here](https://scikit-learn.org/stable/modules/generated/sklearn.preprocessing.MinMaxScaler.html)) and it's method the `fit_transform()` function which takes a tuple in input and returns the updated dataframe ([info on fit_transform](https://scikit-learn.org/stable/modules/generated/sklearn.preprocessing.MinMaxScaler.html#sklearn.preprocessing.MinMaxScaler.fit_transform)). Here after applying `fit_transform()` to our data we expect it to return our data in its scaled form. Let's check. \n",
    "\n",
    "```\n",
    "min_max_scaler = MinMaxScaler()                 # Create a MinMaxScaler() object\n",
    "X_scaled = min_max_scaler.fit_transform(X_data) # Use the fit_transform() function of the MinMaxScaler() on the X_data\n",
    "```\n"
   ]
  },
  {
   "cell_type": "code",
   "execution_count": 24,
   "metadata": {
    "id": "UmLsCdGyRqnt"
   },
   "outputs": [
    {
     "data": {
      "text/plain": [
       "numpy.ndarray"
      ]
     },
     "execution_count": 24,
     "metadata": {},
     "output_type": "execute_result"
    }
   ],
   "source": [
    "min_max_scaler = MinMaxScaler()                 # Create a MinMaxScaler() object\n",
    "X_scaled = min_max_scaler.fit_transform(X_data) # Use the fit_transform() function of the MinMaxScaler() on the X_data\n",
    "type(X_scaled)"
   ]
  },
  {
   "cell_type": "markdown",
   "metadata": {
    "id": "3O34nqRSTHdh"
   },
   "source": [
    "Let's store it back in a dataframe"
   ]
  },
  {
   "cell_type": "markdown",
   "metadata": {
    "id": "Ebsf9apWQFnA"
   },
   "source": [
    "```\n",
    "scaled_storm_df = pd.DataFrame(X_scaled, columns= ['INJURIES_DIRECT', 'INJURIES_INDIRECT',\n",
    "       'DEATHS_DIRECT', 'DEATHS_INDIRECT', 'DAMAGE_PROPERTY', 'DAMAGE_CROPS',\n",
    "       'LATITUDE', 'LONGITUDE'])\n",
    "scaled_storm_df['BEGIN_DATE_TIME'] = storm_df['BEGIN_DATE_TIME'].values\n",
    "scaled_storm_df['EVENT_TYPE' ] = storm_df['EVENT_TYPE'].values\n",
    "```"
   ]
  },
  {
   "cell_type": "code",
   "execution_count": 25,
   "metadata": {
    "id": "dqdKI2E5TEIE"
   },
   "outputs": [],
   "source": [
    "# Copy scaled values\n",
    "scaled_storm_df = pd.DataFrame(X_scaled, columns= ['INJURIES_DIRECT', 'INJURIES_INDIRECT',\n",
    "       'DEATHS_DIRECT', 'DEATHS_INDIRECT', 'DAMAGE_PROPERTY', 'DAMAGE_CROPS',\n",
    "       'LATITUDE', 'LONGITUDE'])\n",
    "\n",
    "# Add categorical values\n",
    "scaled_storm_df['BEGIN_DATE_TIME'] = storm_df['BEGIN_DATE_TIME'].values\n",
    "scaled_storm_df['EVENT_TYPE' ] = storm_df['EVENT_TYPE'].values\n"
   ]
  },
  {
   "cell_type": "code",
   "execution_count": 26,
   "metadata": {
    "id": "0jUEMiw84S6Q"
   },
   "outputs": [
    {
     "data": {
      "text/html": [
       "<div>\n",
       "<style scoped>\n",
       "    .dataframe tbody tr th:only-of-type {\n",
       "        vertical-align: middle;\n",
       "    }\n",
       "\n",
       "    .dataframe tbody tr th {\n",
       "        vertical-align: top;\n",
       "    }\n",
       "\n",
       "    .dataframe thead th {\n",
       "        text-align: right;\n",
       "    }\n",
       "</style>\n",
       "<table border=\"1\" class=\"dataframe\">\n",
       "  <thead>\n",
       "    <tr style=\"text-align: right;\">\n",
       "      <th></th>\n",
       "      <th>INJURIES_DIRECT</th>\n",
       "      <th>INJURIES_INDIRECT</th>\n",
       "      <th>DEATHS_DIRECT</th>\n",
       "      <th>DEATHS_INDIRECT</th>\n",
       "      <th>DAMAGE_PROPERTY</th>\n",
       "      <th>DAMAGE_CROPS</th>\n",
       "      <th>LATITUDE</th>\n",
       "      <th>LONGITUDE</th>\n",
       "    </tr>\n",
       "  </thead>\n",
       "  <tbody>\n",
       "    <tr>\n",
       "      <th>count</th>\n",
       "      <td>33633.000000</td>\n",
       "      <td>33633.000000</td>\n",
       "      <td>33633.000000</td>\n",
       "      <td>33633.000000</td>\n",
       "      <td>33633.000000</td>\n",
       "      <td>33633.000000</td>\n",
       "      <td>33633.000000</td>\n",
       "      <td>33633.000000</td>\n",
       "    </tr>\n",
       "    <tr>\n",
       "      <th>mean</th>\n",
       "      <td>0.000124</td>\n",
       "      <td>0.000278</td>\n",
       "      <td>0.000252</td>\n",
       "      <td>0.000164</td>\n",
       "      <td>0.001758</td>\n",
       "      <td>0.002528</td>\n",
       "      <td>0.678084</td>\n",
       "      <td>0.252974</td>\n",
       "    </tr>\n",
       "    <tr>\n",
       "      <th>std</th>\n",
       "      <td>0.005919</td>\n",
       "      <td>0.012590</td>\n",
       "      <td>0.007846</td>\n",
       "      <td>0.008620</td>\n",
       "      <td>0.011510</td>\n",
       "      <td>0.030235</td>\n",
       "      <td>0.067258</td>\n",
       "      <td>0.038466</td>\n",
       "    </tr>\n",
       "    <tr>\n",
       "      <th>min</th>\n",
       "      <td>0.000000</td>\n",
       "      <td>0.000000</td>\n",
       "      <td>0.000000</td>\n",
       "      <td>0.000000</td>\n",
       "      <td>0.000000</td>\n",
       "      <td>0.000000</td>\n",
       "      <td>0.000000</td>\n",
       "      <td>0.000000</td>\n",
       "    </tr>\n",
       "    <tr>\n",
       "      <th>25%</th>\n",
       "      <td>0.000000</td>\n",
       "      <td>0.000000</td>\n",
       "      <td>0.000000</td>\n",
       "      <td>0.000000</td>\n",
       "      <td>0.000000</td>\n",
       "      <td>0.000000</td>\n",
       "      <td>0.637083</td>\n",
       "      <td>0.232581</td>\n",
       "    </tr>\n",
       "    <tr>\n",
       "      <th>50%</th>\n",
       "      <td>0.000000</td>\n",
       "      <td>0.000000</td>\n",
       "      <td>0.000000</td>\n",
       "      <td>0.000000</td>\n",
       "      <td>0.000000</td>\n",
       "      <td>0.000000</td>\n",
       "      <td>0.683999</td>\n",
       "      <td>0.255018</td>\n",
       "    </tr>\n",
       "    <tr>\n",
       "      <th>75%</th>\n",
       "      <td>0.000000</td>\n",
       "      <td>0.000000</td>\n",
       "      <td>0.000000</td>\n",
       "      <td>0.000000</td>\n",
       "      <td>0.000182</td>\n",
       "      <td>0.000000</td>\n",
       "      <td>0.725609</td>\n",
       "      <td>0.281216</td>\n",
       "    </tr>\n",
       "    <tr>\n",
       "      <th>max</th>\n",
       "      <td>1.000000</td>\n",
       "      <td>1.000000</td>\n",
       "      <td>1.000000</td>\n",
       "      <td>1.000000</td>\n",
       "      <td>1.000000</td>\n",
       "      <td>1.000000</td>\n",
       "      <td>1.000000</td>\n",
       "      <td>1.000000</td>\n",
       "    </tr>\n",
       "  </tbody>\n",
       "</table>\n",
       "</div>"
      ],
      "text/plain": [
       "       INJURIES_DIRECT  INJURIES_INDIRECT  DEATHS_DIRECT  DEATHS_INDIRECT  \\\n",
       "count     33633.000000       33633.000000   33633.000000     33633.000000   \n",
       "mean          0.000124           0.000278       0.000252         0.000164   \n",
       "std           0.005919           0.012590       0.007846         0.008620   \n",
       "min           0.000000           0.000000       0.000000         0.000000   \n",
       "25%           0.000000           0.000000       0.000000         0.000000   \n",
       "50%           0.000000           0.000000       0.000000         0.000000   \n",
       "75%           0.000000           0.000000       0.000000         0.000000   \n",
       "max           1.000000           1.000000       1.000000         1.000000   \n",
       "\n",
       "       DAMAGE_PROPERTY  DAMAGE_CROPS      LATITUDE     LONGITUDE  \n",
       "count     33633.000000  33633.000000  33633.000000  33633.000000  \n",
       "mean          0.001758      0.002528      0.678084      0.252974  \n",
       "std           0.011510      0.030235      0.067258      0.038466  \n",
       "min           0.000000      0.000000      0.000000      0.000000  \n",
       "25%           0.000000      0.000000      0.637083      0.232581  \n",
       "50%           0.000000      0.000000      0.683999      0.255018  \n",
       "75%           0.000182      0.000000      0.725609      0.281216  \n",
       "max           1.000000      1.000000      1.000000      1.000000  "
      ]
     },
     "execution_count": 26,
     "metadata": {},
     "output_type": "execute_result"
    }
   ],
   "source": [
    "scaled_storm_df.describe()\n"
   ]
  },
  {
   "cell_type": "markdown",
   "metadata": {
    "id": "IZPc2U0zVIgN"
   },
   "source": [
    "### 5.2.5 One hot encoding: from categories \"strings\" to numbers\n",
    "\n",
    "As humans it is easy to understand both text and numbers. However for computers, we need to transform our categories (for example the storm type) to numbers so that it can understand how to process that information.\n",
    "\n",
    "In machine learning, one way to do this is with One Hot Encoding. \n"
   ]
  },
  {
   "cell_type": "markdown",
   "metadata": {
    "id": "mFchKkxLXDcE"
   },
   "source": [
    "Let's see how One Hot Encoding works on a test dataframe\n",
    "\n",
    "```\n",
    "my_cakes = {'type':['red_velvet','tiramisu','key_lime_pie', 'brownies'], \\\n",
    "            'sweetness':[100, 90.5, 70.4, 25.0], 'slices per day':[25, 33, 11, 9]}\n",
    "cakes_df = pd.DataFrame(my_cakes)  # Create dataframe from dictionary \n",
    "```"
   ]
  },
  {
   "cell_type": "code",
   "execution_count": 27,
   "metadata": {
    "id": "GpexvPSUb3WA"
   },
   "outputs": [],
   "source": [
    "my_cakes = {'type':['red_velvet','tiramisu','key_lime_pie', 'brownies'], \\\n",
    "            'sweetness':[100, 90.5, 70.4, 25.0], 'slices per day':[25, 33, 11, 9]}\n",
    "cakes_df = pd.DataFrame(my_cakes)  # Create dataframe from dictionary "
   ]
  },
  {
   "cell_type": "code",
   "execution_count": 28,
   "metadata": {
    "id": "lSYVmaPGc49f"
   },
   "outputs": [
    {
     "data": {
      "text/html": [
       "<div>\n",
       "<style scoped>\n",
       "    .dataframe tbody tr th:only-of-type {\n",
       "        vertical-align: middle;\n",
       "    }\n",
       "\n",
       "    .dataframe tbody tr th {\n",
       "        vertical-align: top;\n",
       "    }\n",
       "\n",
       "    .dataframe thead th {\n",
       "        text-align: right;\n",
       "    }\n",
       "</style>\n",
       "<table border=\"1\" class=\"dataframe\">\n",
       "  <thead>\n",
       "    <tr style=\"text-align: right;\">\n",
       "      <th></th>\n",
       "      <th>type</th>\n",
       "      <th>sweetness</th>\n",
       "      <th>slices per day</th>\n",
       "    </tr>\n",
       "  </thead>\n",
       "  <tbody>\n",
       "    <tr>\n",
       "      <th>0</th>\n",
       "      <td>red_velvet</td>\n",
       "      <td>100.0</td>\n",
       "      <td>25</td>\n",
       "    </tr>\n",
       "    <tr>\n",
       "      <th>1</th>\n",
       "      <td>tiramisu</td>\n",
       "      <td>90.5</td>\n",
       "      <td>33</td>\n",
       "    </tr>\n",
       "    <tr>\n",
       "      <th>2</th>\n",
       "      <td>key_lime_pie</td>\n",
       "      <td>70.4</td>\n",
       "      <td>11</td>\n",
       "    </tr>\n",
       "    <tr>\n",
       "      <th>3</th>\n",
       "      <td>brownies</td>\n",
       "      <td>25.0</td>\n",
       "      <td>9</td>\n",
       "    </tr>\n",
       "  </tbody>\n",
       "</table>\n",
       "</div>"
      ],
      "text/plain": [
       "           type  sweetness  slices per day\n",
       "0    red_velvet      100.0              25\n",
       "1      tiramisu       90.5              33\n",
       "2  key_lime_pie       70.4              11\n",
       "3      brownies       25.0               9"
      ]
     },
     "execution_count": 28,
     "metadata": {},
     "output_type": "execute_result"
    }
   ],
   "source": [
    "cakes_df"
   ]
  },
  {
   "cell_type": "markdown",
   "metadata": {
    "id": "RlKGXC3CjUsx"
   },
   "source": [
    "We can use the scikit-learn `OneHotEncoder()` function (more info [here](https://scikit-learn.org/stable/modules/generated/sklearn.preprocessing.OneHotEncoder.html)). \n",
    "\n",
    "First we create a `OneHotEncoder()` object\n",
    "\n",
    "```\n",
    "cake_encoder = OneHotEncoder()\n",
    "```\n"
   ]
  },
  {
   "cell_type": "code",
   "execution_count": 29,
   "metadata": {
    "id": "MNt7wHIkXRZM"
   },
   "outputs": [],
   "source": [
    "cake_encoder = OneHotEncoder()"
   ]
  },
  {
   "cell_type": "markdown",
   "metadata": {
    "id": "-HQvL7UOjwXp"
   },
   "source": [
    "Next we reshape the X values which we want to transform using one hot encoding. Here out only categorical values are in the `type` column. We select those and reshape the array (otherwise the one hot encoding functions will complain). \n",
    "\n",
    "```\n",
    "X = cakes_df['type'].values.reshape(-1,1)\n",
    "```"
   ]
  },
  {
   "cell_type": "code",
   "execution_count": 30,
   "metadata": {
    "id": "LllDTdJ_bzLG"
   },
   "outputs": [],
   "source": [
    "X = cakes_df['type'].values.reshape(-1,1)"
   ]
  },
  {
   "cell_type": "markdown",
   "metadata": {
    "id": "9OLhxaprkGca"
   },
   "source": [
    "Now we call the  `cake_encoder.fit_transform()` function which transforms our `X` categorical values to one hot encoded values based on the fact that there are 4 unique values: `red_velvet`, `tiramisu`, `key_lime_pie` and `brownies`. Our one hot encoded values will be of size 4 rows x 4 columns.\n",
    "\n",
    "```\n",
    "cake_encoder.fit_transform(X)\n",
    "```"
   ]
  },
  {
   "cell_type": "code",
   "execution_count": 31,
   "metadata": {
    "id": "Dkwe0CwTkdcX"
   },
   "outputs": [
    {
     "data": {
      "text/plain": [
       "<4x4 sparse matrix of type '<class 'numpy.float64'>'\n",
       "\twith 4 stored elements in Compressed Sparse Row format>"
      ]
     },
     "execution_count": 31,
     "metadata": {},
     "output_type": "execute_result"
    }
   ],
   "source": [
    "cake_encoder.fit_transform(X)"
   ]
  },
  {
   "cell_type": "markdown",
   "metadata": {
    "id": "pt-3PXC9kih1"
   },
   "source": [
    "This output has to be transformed back to an array and stored in out dataframe while using our new one hot encoded labels which can be obtained using the command\n",
    "\n",
    "```\n",
    "cake_encoder.get_feature_names_out()\n",
    "```"
   ]
  },
  {
   "cell_type": "code",
   "execution_count": 38,
   "metadata": {
    "id": "RC1-l811lTZu"
   },
   "outputs": [
    {
     "data": {
      "text/plain": [
       "array(['x0_brownies', 'x0_key_lime_pie', 'x0_red_velvet', 'x0_tiramisu'],\n",
       "      dtype=object)"
      ]
     },
     "execution_count": 38,
     "metadata": {},
     "output_type": "execute_result"
    }
   ],
   "source": [
    "cake_encoder.get_feature_names()"
   ]
  },
  {
   "cell_type": "markdown",
   "metadata": {
    "id": "0akvBlIsVZ6s"
   },
   "source": [
    "```\n",
    "# set new columns with cake type and binary one hot encoding\n",
    "cakes_df[cake_encoder.get_feature_names_out()] = cake_encoder.fit_transform(X).toarray()\n",
    "cakes_df.drop('type', axis=1, inplace=True)\n",
    "```"
   ]
  },
  {
   "cell_type": "code",
   "execution_count": 39,
   "metadata": {
    "id": "TUYFgTn7kEy4"
   },
   "outputs": [],
   "source": [
    "# set new columns with cake type and binary one hot encoding\n",
    "cakes_df[cake_encoder.get_feature_names()] = cake_encoder.fit_transform(X).toarray()\n",
    "cakes_df.drop('type', axis=1, inplace=True)"
   ]
  },
  {
   "cell_type": "code",
   "execution_count": 40,
   "metadata": {
    "id": "r-9zV-8-1b7i"
   },
   "outputs": [
    {
     "data": {
      "text/html": [
       "<div>\n",
       "<style scoped>\n",
       "    .dataframe tbody tr th:only-of-type {\n",
       "        vertical-align: middle;\n",
       "    }\n",
       "\n",
       "    .dataframe tbody tr th {\n",
       "        vertical-align: top;\n",
       "    }\n",
       "\n",
       "    .dataframe thead th {\n",
       "        text-align: right;\n",
       "    }\n",
       "</style>\n",
       "<table border=\"1\" class=\"dataframe\">\n",
       "  <thead>\n",
       "    <tr style=\"text-align: right;\">\n",
       "      <th></th>\n",
       "      <th>sweetness</th>\n",
       "      <th>slices per day</th>\n",
       "      <th>x0_brownies</th>\n",
       "      <th>x0_key_lime_pie</th>\n",
       "      <th>x0_red_velvet</th>\n",
       "      <th>x0_tiramisu</th>\n",
       "    </tr>\n",
       "  </thead>\n",
       "  <tbody>\n",
       "    <tr>\n",
       "      <th>0</th>\n",
       "      <td>100.0</td>\n",
       "      <td>25</td>\n",
       "      <td>0.0</td>\n",
       "      <td>0.0</td>\n",
       "      <td>1.0</td>\n",
       "      <td>0.0</td>\n",
       "    </tr>\n",
       "    <tr>\n",
       "      <th>1</th>\n",
       "      <td>90.5</td>\n",
       "      <td>33</td>\n",
       "      <td>0.0</td>\n",
       "      <td>0.0</td>\n",
       "      <td>0.0</td>\n",
       "      <td>1.0</td>\n",
       "    </tr>\n",
       "    <tr>\n",
       "      <th>2</th>\n",
       "      <td>70.4</td>\n",
       "      <td>11</td>\n",
       "      <td>0.0</td>\n",
       "      <td>1.0</td>\n",
       "      <td>0.0</td>\n",
       "      <td>0.0</td>\n",
       "    </tr>\n",
       "    <tr>\n",
       "      <th>3</th>\n",
       "      <td>25.0</td>\n",
       "      <td>9</td>\n",
       "      <td>1.0</td>\n",
       "      <td>0.0</td>\n",
       "      <td>0.0</td>\n",
       "      <td>0.0</td>\n",
       "    </tr>\n",
       "  </tbody>\n",
       "</table>\n",
       "</div>"
      ],
      "text/plain": [
       "   sweetness  slices per day  x0_brownies  x0_key_lime_pie  x0_red_velvet  \\\n",
       "0      100.0              25          0.0              0.0            1.0   \n",
       "1       90.5              33          0.0              0.0            0.0   \n",
       "2       70.4              11          0.0              1.0            0.0   \n",
       "3       25.0               9          1.0              0.0            0.0   \n",
       "\n",
       "   x0_tiramisu  \n",
       "0          0.0  \n",
       "1          1.0  \n",
       "2          0.0  \n",
       "3          0.0  "
      ]
     },
     "execution_count": 40,
     "metadata": {},
     "output_type": "execute_result"
    }
   ],
   "source": [
    "cakes_df"
   ]
  },
  {
   "cell_type": "markdown",
   "metadata": {
    "id": "bwDCW5SFlhkn"
   },
   "source": [
    "If we need to recall the original unique categories, we can get them using the command\n",
    "\n",
    "```\n",
    "cake_encoder.categories_\n",
    "```"
   ]
  },
  {
   "cell_type": "code",
   "execution_count": 41,
   "metadata": {
    "id": "Ww8JhfGRX5QK"
   },
   "outputs": [
    {
     "data": {
      "text/plain": [
       "[array(['brownies', 'key_lime_pie', 'red_velvet', 'tiramisu'], dtype=object)]"
      ]
     },
     "execution_count": 41,
     "metadata": {},
     "output_type": "execute_result"
    }
   ],
   "source": [
    "cake_encoder.categories_"
   ]
  },
  {
   "cell_type": "markdown",
   "metadata": {
    "id": "GYMS1rhQK6DV"
   },
   "source": [
    "### 5.2.6 Dimensionality reduction - Principle component analysis (PCA)\n",
    "\n",
    "Now that's a lot of fancy words combined. What are we talking about? Let's think of our data, do we really need all 9 columns to define a storm? Do we need the longitude, the latitude, the number of direct and indirect injuries and so on to describe it? Or ... is it possible that these values are correlated, i.e. contain similar information. If that is the case, perhaps there are some \"hidden variables\" i.e. a smaller subset of *principle components* that represent what is in those columns.\n",
    "\n",
    "For example, let's say I had a table with X columns that contained: cheesecake, apple pie, red velvet cake, iceberg lettuce and romaine lettuce as foods that I eat and was trying to figure out how these foods connect to the amount of energy I have. I might not need to know about all 5 columns and might be able to define two principal components: cake and lettuce, which actually somehow contain the information of the 5 columns. All of the desserts provide me with a high amount of calories and low fiber. On the other hand, lettuce is low calorie and high fiber, so we may be able to define two uncorrelated variables that capture all 5 of the original variables.\n",
    "\n",
    "Advantages of this smaller \"lower dimensional\" description include:\n",
    "\n",
    "- reducing the computational power and time needed when looking at clustering data; avoiding the so called \"curse of dimensionality\"\n",
    "- avoiding using redundant information. If it is enough for us to know that red velvet is a dessert why specify that it is red velvet cake?\n",
    "- visualizing our data (its hard to understand a plot as a function of 5 variables - 5 dimensions)\n",
    "\n",
    "One method that reduces dimensionality is called Principal Component Analysis (PCA). We will not go into the math of it, have a look at the wikipedia reference at the bottom of the notebook if you are curious. We will only look at how to use it on our dataset."
   ]
  },
  {
   "cell_type": "code",
   "execution_count": 42,
   "metadata": {
    "id": "GfnfZdqkRH3i"
   },
   "outputs": [
    {
     "data": {
      "text/plain": [
       "Index(['BEGIN_DATE_TIME', 'EVENT_TYPE', 'INJURIES_DIRECT', 'INJURIES_INDIRECT',\n",
       "       'DEATHS_DIRECT', 'DEATHS_INDIRECT', 'DAMAGE_PROPERTY', 'DAMAGE_CROPS',\n",
       "       'LATITUDE', 'LONGITUDE'],\n",
       "      dtype='object')"
      ]
     },
     "execution_count": 42,
     "metadata": {},
     "output_type": "execute_result"
    }
   ],
   "source": [
    "storm_df.columns\n"
   ]
  },
  {
   "cell_type": "code",
   "execution_count": 43,
   "metadata": {
    "id": "jtilL_yRmsL_"
   },
   "outputs": [
    {
     "data": {
      "text/plain": [
       "(33633, 10)"
      ]
     },
     "execution_count": 43,
     "metadata": {},
     "output_type": "execute_result"
    }
   ],
   "source": [
    "storm_df.shape"
   ]
  },
  {
   "cell_type": "markdown",
   "metadata": {
    "id": "TXfSN_I3PiEk"
   },
   "source": [
    "Let's say we want to visualize all our storm dataset as a function of 2 or maybe 3 variables instead of 10, i.e. with a 2D or 3D plot."
   ]
  },
  {
   "cell_type": "markdown",
   "metadata": {
    "id": "eoeRUHcaRcqQ"
   },
   "source": [
    "We need to convert our 'BEGIN_DATE_TIME' to a number. Here it is hard to think of time as a category, and it makes much more sense to think of it as a continuous number. As you saw yesterday, Pandas has a function [`pd.to_datetime`](https://pandas.pydata.org/docs/reference/api/pandas.to_datetime.html) that will convert the string dates to numbers. Here I will save the month. Let's also drop the 'EVENT_TYPE' from the dataset, we will use it to see how we can represent our data using our principal components.\n",
    "\n",
    "To make things faster we will start by selecting a subset of points from our total dataset using the [`sample()`](https://pandas.pydata.org/docs/reference/api/pandas.DataFrame.sample.html) function which randomly samples a number of rows from the dataframe and returns them in a dataframe format. Here we sample 5000. \n",
    "\n",
    "```\n",
    "# sample a smaller set of data\n",
    "storm_df_small = storm_df.sample(5000)\n",
    "```"
   ]
  },
  {
   "cell_type": "code",
   "execution_count": 44,
   "metadata": {
    "id": "R4J-nx9enUxn"
   },
   "outputs": [],
   "source": [
    "# sample a smaller set of data\n",
    "storm_df_small = storm_df.sample(5000)"
   ]
  },
  {
   "cell_type": "markdown",
   "metadata": {
    "id": "KdatqY5DnufB"
   },
   "source": [
    "Now we will remove the 'EVENT_TYPE' column from the dataframe using the `drop()` function (more info on `drop()` [here](https://pandas.pydata.org/docs/reference/api/pandas.DataFrame.drop.html)) \n",
    "\n",
    "```\n",
    "# remove the EVENT_TYPE column from the dataframe\n",
    "y = storm_df_small['EVENT_TYPE']\n",
    "storm_df_small.drop('EVENT_TYPE', axis=1, inplace=True) # inplace=True guarantees the column is actually removed\n",
    "\n",
    "```"
   ]
  },
  {
   "cell_type": "code",
   "execution_count": 45,
   "metadata": {
    "id": "vkjLFoIrNMpH"
   },
   "outputs": [],
   "source": [
    "# remove the EVENT_TYPE column from the dataframe\n",
    "y = storm_df_small['EVENT_TYPE']\n",
    "storm_df_small.drop('EVENT_TYPE', axis=1, inplace=True) # inplace=True guarantees the column is actually removed\n"
   ]
  },
  {
   "cell_type": "markdown",
   "metadata": {
    "id": "IS22gCxCoGaw"
   },
   "source": [
    "Now we will transform the dates to numbers with the `to_datetime()` function and save the years in a variable called `year`\n",
    "\n",
    "```\n",
    "# convert the date strings to numbers\n",
    "datetimes = pd.to_datetime(storm_df_small['BEGIN_DATE_TIME'])\n",
    "```"
   ]
  },
  {
   "cell_type": "code",
   "execution_count": 46,
   "metadata": {
    "id": "ibejcTUEoFWu"
   },
   "outputs": [],
   "source": [
    "# convert the date strings to numbers\n",
    "datetimes = pd.to_datetime(storm_df_small['BEGIN_DATE_TIME'])\n"
   ]
  },
  {
   "cell_type": "markdown",
   "metadata": {
    "id": "9Ncco-9EWLHt"
   },
   "source": [
    "```\n",
    "# store the new date values in storm_df_small\n",
    "new_times = []                    #  Create an empty list\n",
    "for d in datetimes:\n",
    "  new_times.append(d.timestamp()) # Get the timestamp() and append it to our list\n",
    "  \n",
    "storm_df_small['BEGIN_DATE_TIME'] = new_times  # Replace the values in our pandas dataframe with these numbers\n",
    "\n",
    "# save the years in a separate list \n",
    "years = []\n",
    "for d in datetimes:\n",
    "  years.append(d.year)\n",
    "```"
   ]
  },
  {
   "cell_type": "code",
   "execution_count": 47,
   "metadata": {
    "id": "TMvKu3fYo_eH"
   },
   "outputs": [],
   "source": [
    "# store the new date values in storm_df_small\n",
    "new_times = []                    #  Create an empty list\n",
    "for d in datetimes:\n",
    "  new_times.append(d.timestamp()) # Get the timestamp() and append it to our list\n",
    "  \n",
    "storm_df_small['BEGIN_DATE_TIME'] = new_times  # Replace the values in our pandas dataframe with these numbers\n",
    "\n",
    "# save the years in a separate list \n",
    "years = []\n",
    "for d in datetimes:\n",
    "  years.append(d.year)\n"
   ]
  },
  {
   "cell_type": "markdown",
   "metadata": {
    "id": "KkvjtgAToR15"
   },
   "source": [
    "In our dataframe we only have numbers now! Let's check"
   ]
  },
  {
   "cell_type": "code",
   "execution_count": 48,
   "metadata": {
    "id": "AOzhy-6gq_r-"
   },
   "outputs": [
    {
     "data": {
      "text/html": [
       "<div>\n",
       "<style scoped>\n",
       "    .dataframe tbody tr th:only-of-type {\n",
       "        vertical-align: middle;\n",
       "    }\n",
       "\n",
       "    .dataframe tbody tr th {\n",
       "        vertical-align: top;\n",
       "    }\n",
       "\n",
       "    .dataframe thead th {\n",
       "        text-align: right;\n",
       "    }\n",
       "</style>\n",
       "<table border=\"1\" class=\"dataframe\">\n",
       "  <thead>\n",
       "    <tr style=\"text-align: right;\">\n",
       "      <th></th>\n",
       "      <th>BEGIN_DATE_TIME</th>\n",
       "      <th>INJURIES_DIRECT</th>\n",
       "      <th>INJURIES_INDIRECT</th>\n",
       "      <th>DEATHS_DIRECT</th>\n",
       "      <th>DEATHS_INDIRECT</th>\n",
       "      <th>DAMAGE_PROPERTY</th>\n",
       "      <th>DAMAGE_CROPS</th>\n",
       "      <th>LATITUDE</th>\n",
       "      <th>LONGITUDE</th>\n",
       "    </tr>\n",
       "  </thead>\n",
       "  <tbody>\n",
       "    <tr>\n",
       "      <th>23039</th>\n",
       "      <td>1.528566e+09</td>\n",
       "      <td>0</td>\n",
       "      <td>0</td>\n",
       "      <td>0</td>\n",
       "      <td>0</td>\n",
       "      <td>1000.0</td>\n",
       "      <td>0.0</td>\n",
       "      <td>39.4400</td>\n",
       "      <td>-83.8300</td>\n",
       "    </tr>\n",
       "    <tr>\n",
       "      <th>17497</th>\n",
       "      <td>1.537439e+09</td>\n",
       "      <td>0</td>\n",
       "      <td>0</td>\n",
       "      <td>0</td>\n",
       "      <td>0</td>\n",
       "      <td>0.0</td>\n",
       "      <td>0.0</td>\n",
       "      <td>43.5710</td>\n",
       "      <td>-96.8727</td>\n",
       "    </tr>\n",
       "    <tr>\n",
       "      <th>31652</th>\n",
       "      <td>1.539294e+09</td>\n",
       "      <td>0</td>\n",
       "      <td>0</td>\n",
       "      <td>0</td>\n",
       "      <td>0</td>\n",
       "      <td>0.0</td>\n",
       "      <td>0.0</td>\n",
       "      <td>36.9107</td>\n",
       "      <td>-78.5242</td>\n",
       "    </tr>\n",
       "    <tr>\n",
       "      <th>10552</th>\n",
       "      <td>1.529442e+09</td>\n",
       "      <td>0</td>\n",
       "      <td>0</td>\n",
       "      <td>0</td>\n",
       "      <td>0</td>\n",
       "      <td>0.0</td>\n",
       "      <td>0.0</td>\n",
       "      <td>38.4800</td>\n",
       "      <td>-100.9000</td>\n",
       "    </tr>\n",
       "    <tr>\n",
       "      <th>22932</th>\n",
       "      <td>1.530028e+09</td>\n",
       "      <td>0</td>\n",
       "      <td>0</td>\n",
       "      <td>0</td>\n",
       "      <td>0</td>\n",
       "      <td>0.0</td>\n",
       "      <td>0.0</td>\n",
       "      <td>37.3800</td>\n",
       "      <td>-89.6700</td>\n",
       "    </tr>\n",
       "    <tr>\n",
       "      <th>...</th>\n",
       "      <td>...</td>\n",
       "      <td>...</td>\n",
       "      <td>...</td>\n",
       "      <td>...</td>\n",
       "      <td>...</td>\n",
       "      <td>...</td>\n",
       "      <td>...</td>\n",
       "      <td>...</td>\n",
       "      <td>...</td>\n",
       "    </tr>\n",
       "    <tr>\n",
       "      <th>22330</th>\n",
       "      <td>1.533950e+09</td>\n",
       "      <td>0</td>\n",
       "      <td>0</td>\n",
       "      <td>0</td>\n",
       "      <td>0</td>\n",
       "      <td>0.0</td>\n",
       "      <td>0.0</td>\n",
       "      <td>35.3306</td>\n",
       "      <td>-79.4031</td>\n",
       "    </tr>\n",
       "    <tr>\n",
       "      <th>19574</th>\n",
       "      <td>1.532123e+09</td>\n",
       "      <td>0</td>\n",
       "      <td>0</td>\n",
       "      <td>0</td>\n",
       "      <td>0</td>\n",
       "      <td>0.0</td>\n",
       "      <td>0.0</td>\n",
       "      <td>37.2300</td>\n",
       "      <td>-85.5300</td>\n",
       "    </tr>\n",
       "    <tr>\n",
       "      <th>23220</th>\n",
       "      <td>1.529844e+09</td>\n",
       "      <td>0</td>\n",
       "      <td>0</td>\n",
       "      <td>0</td>\n",
       "      <td>0</td>\n",
       "      <td>2000.0</td>\n",
       "      <td>0.0</td>\n",
       "      <td>41.2100</td>\n",
       "      <td>-101.6600</td>\n",
       "    </tr>\n",
       "    <tr>\n",
       "      <th>24898</th>\n",
       "      <td>1.529005e+09</td>\n",
       "      <td>0</td>\n",
       "      <td>0</td>\n",
       "      <td>0</td>\n",
       "      <td>0</td>\n",
       "      <td>4000.0</td>\n",
       "      <td>0.0</td>\n",
       "      <td>37.8800</td>\n",
       "      <td>-89.5000</td>\n",
       "    </tr>\n",
       "    <tr>\n",
       "      <th>4090</th>\n",
       "      <td>1.515830e+09</td>\n",
       "      <td>0</td>\n",
       "      <td>0</td>\n",
       "      <td>0</td>\n",
       "      <td>0</td>\n",
       "      <td>0.0</td>\n",
       "      <td>0.0</td>\n",
       "      <td>44.7108</td>\n",
       "      <td>-68.3636</td>\n",
       "    </tr>\n",
       "  </tbody>\n",
       "</table>\n",
       "<p>5000 rows × 9 columns</p>\n",
       "</div>"
      ],
      "text/plain": [
       "       BEGIN_DATE_TIME  INJURIES_DIRECT  INJURIES_INDIRECT  DEATHS_DIRECT  \\\n",
       "23039     1.528566e+09                0                  0              0   \n",
       "17497     1.537439e+09                0                  0              0   \n",
       "31652     1.539294e+09                0                  0              0   \n",
       "10552     1.529442e+09                0                  0              0   \n",
       "22932     1.530028e+09                0                  0              0   \n",
       "...                ...              ...                ...            ...   \n",
       "22330     1.533950e+09                0                  0              0   \n",
       "19574     1.532123e+09                0                  0              0   \n",
       "23220     1.529844e+09                0                  0              0   \n",
       "24898     1.529005e+09                0                  0              0   \n",
       "4090      1.515830e+09                0                  0              0   \n",
       "\n",
       "       DEATHS_INDIRECT  DAMAGE_PROPERTY  DAMAGE_CROPS  LATITUDE  LONGITUDE  \n",
       "23039                0           1000.0           0.0   39.4400   -83.8300  \n",
       "17497                0              0.0           0.0   43.5710   -96.8727  \n",
       "31652                0              0.0           0.0   36.9107   -78.5242  \n",
       "10552                0              0.0           0.0   38.4800  -100.9000  \n",
       "22932                0              0.0           0.0   37.3800   -89.6700  \n",
       "...                ...              ...           ...       ...        ...  \n",
       "22330                0              0.0           0.0   35.3306   -79.4031  \n",
       "19574                0              0.0           0.0   37.2300   -85.5300  \n",
       "23220                0           2000.0           0.0   41.2100  -101.6600  \n",
       "24898                0           4000.0           0.0   37.8800   -89.5000  \n",
       "4090                 0              0.0           0.0   44.7108   -68.3636  \n",
       "\n",
       "[5000 rows x 9 columns]"
      ]
     },
     "execution_count": 48,
     "metadata": {},
     "output_type": "execute_result"
    }
   ],
   "source": [
    "storm_df_small"
   ]
  },
  {
   "cell_type": "markdown",
   "metadata": {
    "id": "38hMgB6erCr9"
   },
   "source": [
    "Now we can scale the data just like we did before with the `MinMaxScaler()` function\n",
    "\n",
    "```\n",
    "# scale the data\n",
    "min_max_scaler = MinMaxScaler()\n",
    "X_scaled = min_max_scaler.fit_transform(storm_df_small.values)\n",
    "storm_df_small = pd.DataFrame(data=X_scaled, columns=storm_df_small.columns)\n",
    "```"
   ]
  },
  {
   "cell_type": "code",
   "execution_count": 49,
   "metadata": {
    "id": "Ibm-pWStoRQt"
   },
   "outputs": [],
   "source": [
    "# scale the data\n",
    "min_max_scaler = MinMaxScaler()\n",
    "X_scaled = min_max_scaler.fit_transform(storm_df_small.values)\n",
    "storm_df_small = pd.DataFrame(data=X_scaled, columns=storm_df_small.columns)"
   ]
  },
  {
   "cell_type": "code",
   "execution_count": 50,
   "metadata": {
    "id": "J5uuxxWprNEx"
   },
   "outputs": [
    {
     "data": {
      "text/html": [
       "<div>\n",
       "<style scoped>\n",
       "    .dataframe tbody tr th:only-of-type {\n",
       "        vertical-align: middle;\n",
       "    }\n",
       "\n",
       "    .dataframe tbody tr th {\n",
       "        vertical-align: top;\n",
       "    }\n",
       "\n",
       "    .dataframe thead th {\n",
       "        text-align: right;\n",
       "    }\n",
       "</style>\n",
       "<table border=\"1\" class=\"dataframe\">\n",
       "  <thead>\n",
       "    <tr style=\"text-align: right;\">\n",
       "      <th></th>\n",
       "      <th>BEGIN_DATE_TIME</th>\n",
       "      <th>INJURIES_DIRECT</th>\n",
       "      <th>INJURIES_INDIRECT</th>\n",
       "      <th>DEATHS_DIRECT</th>\n",
       "      <th>DEATHS_INDIRECT</th>\n",
       "      <th>DAMAGE_PROPERTY</th>\n",
       "      <th>DAMAGE_CROPS</th>\n",
       "      <th>LATITUDE</th>\n",
       "      <th>LONGITUDE</th>\n",
       "    </tr>\n",
       "  </thead>\n",
       "  <tbody>\n",
       "    <tr>\n",
       "      <th>count</th>\n",
       "      <td>5000.000000</td>\n",
       "      <td>5000.000000</td>\n",
       "      <td>5000.00000</td>\n",
       "      <td>5000.000000</td>\n",
       "      <td>5000.00000</td>\n",
       "      <td>5000.000000</td>\n",
       "      <td>5000.000000</td>\n",
       "      <td>5000.000000</td>\n",
       "      <td>5000.000000</td>\n",
       "    </tr>\n",
       "    <tr>\n",
       "      <th>mean</th>\n",
       "      <td>0.881685</td>\n",
       "      <td>0.000507</td>\n",
       "      <td>0.00060</td>\n",
       "      <td>0.002000</td>\n",
       "      <td>0.00060</td>\n",
       "      <td>0.001774</td>\n",
       "      <td>0.004720</td>\n",
       "      <td>0.684637</td>\n",
       "      <td>0.757887</td>\n",
       "    </tr>\n",
       "    <tr>\n",
       "      <th>std</th>\n",
       "      <td>0.264929</td>\n",
       "      <td>0.015171</td>\n",
       "      <td>0.02449</td>\n",
       "      <td>0.034587</td>\n",
       "      <td>0.02449</td>\n",
       "      <td>0.016238</td>\n",
       "      <td>0.049077</td>\n",
       "      <td>0.068007</td>\n",
       "      <td>0.118060</td>\n",
       "    </tr>\n",
       "    <tr>\n",
       "      <th>min</th>\n",
       "      <td>0.000000</td>\n",
       "      <td>0.000000</td>\n",
       "      <td>0.00000</td>\n",
       "      <td>0.000000</td>\n",
       "      <td>0.00000</td>\n",
       "      <td>0.000000</td>\n",
       "      <td>0.000000</td>\n",
       "      <td>0.000000</td>\n",
       "      <td>0.000000</td>\n",
       "    </tr>\n",
       "    <tr>\n",
       "      <th>25%</th>\n",
       "      <td>0.952636</td>\n",
       "      <td>0.000000</td>\n",
       "      <td>0.00000</td>\n",
       "      <td>0.000000</td>\n",
       "      <td>0.00000</td>\n",
       "      <td>0.000000</td>\n",
       "      <td>0.000000</td>\n",
       "      <td>0.644532</td>\n",
       "      <td>0.698002</td>\n",
       "    </tr>\n",
       "    <tr>\n",
       "      <th>50%</th>\n",
       "      <td>0.962374</td>\n",
       "      <td>0.000000</td>\n",
       "      <td>0.00000</td>\n",
       "      <td>0.000000</td>\n",
       "      <td>0.00000</td>\n",
       "      <td>0.000000</td>\n",
       "      <td>0.000000</td>\n",
       "      <td>0.690820</td>\n",
       "      <td>0.763585</td>\n",
       "    </tr>\n",
       "    <tr>\n",
       "      <th>75%</th>\n",
       "      <td>0.972174</td>\n",
       "      <td>0.000000</td>\n",
       "      <td>0.00000</td>\n",
       "      <td>0.000000</td>\n",
       "      <td>0.00000</td>\n",
       "      <td>0.000182</td>\n",
       "      <td>0.000000</td>\n",
       "      <td>0.732213</td>\n",
       "      <td>0.842347</td>\n",
       "    </tr>\n",
       "    <tr>\n",
       "      <th>max</th>\n",
       "      <td>1.000000</td>\n",
       "      <td>1.000000</td>\n",
       "      <td>1.00000</td>\n",
       "      <td>1.000000</td>\n",
       "      <td>1.00000</td>\n",
       "      <td>1.000000</td>\n",
       "      <td>1.000000</td>\n",
       "      <td>1.000000</td>\n",
       "      <td>1.000000</td>\n",
       "    </tr>\n",
       "  </tbody>\n",
       "</table>\n",
       "</div>"
      ],
      "text/plain": [
       "       BEGIN_DATE_TIME  INJURIES_DIRECT  INJURIES_INDIRECT  DEATHS_DIRECT  \\\n",
       "count      5000.000000      5000.000000         5000.00000    5000.000000   \n",
       "mean          0.881685         0.000507            0.00060       0.002000   \n",
       "std           0.264929         0.015171            0.02449       0.034587   \n",
       "min           0.000000         0.000000            0.00000       0.000000   \n",
       "25%           0.952636         0.000000            0.00000       0.000000   \n",
       "50%           0.962374         0.000000            0.00000       0.000000   \n",
       "75%           0.972174         0.000000            0.00000       0.000000   \n",
       "max           1.000000         1.000000            1.00000       1.000000   \n",
       "\n",
       "       DEATHS_INDIRECT  DAMAGE_PROPERTY  DAMAGE_CROPS     LATITUDE  \\\n",
       "count       5000.00000      5000.000000   5000.000000  5000.000000   \n",
       "mean           0.00060         0.001774      0.004720     0.684637   \n",
       "std            0.02449         0.016238      0.049077     0.068007   \n",
       "min            0.00000         0.000000      0.000000     0.000000   \n",
       "25%            0.00000         0.000000      0.000000     0.644532   \n",
       "50%            0.00000         0.000000      0.000000     0.690820   \n",
       "75%            0.00000         0.000182      0.000000     0.732213   \n",
       "max            1.00000         1.000000      1.000000     1.000000   \n",
       "\n",
       "         LONGITUDE  \n",
       "count  5000.000000  \n",
       "mean      0.757887  \n",
       "std       0.118060  \n",
       "min       0.000000  \n",
       "25%       0.698002  \n",
       "50%       0.763585  \n",
       "75%       0.842347  \n",
       "max       1.000000  "
      ]
     },
     "execution_count": 50,
     "metadata": {},
     "output_type": "execute_result"
    }
   ],
   "source": [
    "storm_df_small.describe()"
   ]
  },
  {
   "cell_type": "markdown",
   "metadata": {
    "id": "ChPx-EPcPyYS"
   },
   "source": [
    "We see that `EVENT_TYPE` has been removed, and `BEGIN_DATE_TIME` is now a number and all variables have been scaled between 0 and 1.\n",
    "\n",
    "Time to search for some principal components! We are going to try to reduce everything to a 2D plot, so we want to find 2 *principal components*.\n",
    "\n",
    "First will use the scikit-learn `decomposition.PCA()` function (more info [here](https://scikit-learn.org/stable/modules/generated/sklearn.decomposition.PCA.html)). This function creates a PCA model object based on the number of components you desire. \n",
    "\n",
    "```\n",
    "pca = decomposition.PCA(n_components=2)\n",
    "```\n"
   ]
  },
  {
   "cell_type": "code",
   "execution_count": 51,
   "metadata": {
    "id": "zamFThnW2r8-"
   },
   "outputs": [],
   "source": [
    "pca = decomposition.PCA(n_components=2)"
   ]
  },
  {
   "cell_type": "markdown",
   "metadata": {
    "id": "Nh7s-xiRsxKV"
   },
   "source": [
    "Now, with the `pca.fit` function ([info](https://scikit-learn.org/stable/modules/generated/sklearn.decomposition.PCA.html#sklearn.decomposition.PCA.fit)), we will fit our PCA model to our data.\n"
   ]
  },
  {
   "cell_type": "markdown",
   "metadata": {
    "id": "-1rlRQI5WcdA"
   },
   "source": [
    "```\n",
    "pca.fit(storm_df_small)\n",
    "```"
   ]
  },
  {
   "cell_type": "code",
   "execution_count": 52,
   "metadata": {
    "id": "WEpHriDesq9w"
   },
   "outputs": [
    {
     "data": {
      "text/plain": [
       "PCA(n_components=2)"
      ]
     },
     "execution_count": 52,
     "metadata": {},
     "output_type": "execute_result"
    }
   ],
   "source": [
    "pca.fit(storm_df_small)"
   ]
  },
  {
   "cell_type": "markdown",
   "metadata": {
    "id": "ibNCHCMtszIT"
   },
   "source": [
    "After fitting to our data, we can used the `pca.transform` function ([info](https://scikit-learn.org/stable/modules/generated/sklearn.decomposition.PCA.html#sklearn.decomposition.PCA.transform)) to extract the principalComponents from our data. Here we are transforming the data in the 9 columns into 2 principal component columns\n",
    "\n",
    "```\n",
    "principalComponents = pca.transform(storm_df_small)\n",
    "```"
   ]
  },
  {
   "cell_type": "code",
   "execution_count": 53,
   "metadata": {
    "id": "GJ-GDhS7srfv"
   },
   "outputs": [],
   "source": [
    "principalComponents = pca.transform(storm_df_small)"
   ]
  },
  {
   "cell_type": "code",
   "execution_count": 54,
   "metadata": {
    "id": "ySticUGxs7EM"
   },
   "outputs": [
    {
     "name": "stdout",
     "output_type": "stream",
     "text": [
      "[[-0.08007645 -0.06930521]\n",
      " [-0.09584772  0.05022558]\n",
      " [-0.10625774 -0.11598207]\n",
      " ...\n",
      " [-0.07763665  0.0980019 ]\n",
      " [-0.07969038 -0.01357385]\n",
      " [-0.05484915 -0.2232929 ]]\n"
     ]
    }
   ],
   "source": [
    "print(principalComponents)"
   ]
  },
  {
   "cell_type": "markdown",
   "metadata": {
    "id": "vovOKYtNs98h"
   },
   "source": [
    "OK let's save these new components into a dataframe and add our `EVENT_TYPE` values we had dropped.\n",
    "\n",
    "```\n",
    "principal_df = pd.DataFrame(data = principalComponents, columns = ['PCA 1', 'PCA 2'])\n",
    "\n",
    "principal_df['EVENT_TYPE'] = y.values\n",
    "```"
   ]
  },
  {
   "cell_type": "code",
   "execution_count": 55,
   "metadata": {
    "id": "hqZo_fD6stjN"
   },
   "outputs": [],
   "source": [
    "principal_df = pd.DataFrame(data = principalComponents, columns = ['PCA 1', 'PCA 2'])\n",
    "\n",
    "principal_df['EVENT_TYPE'] = y.values"
   ]
  },
  {
   "cell_type": "code",
   "execution_count": 56,
   "metadata": {
    "id": "f1osQvjr_Bzy"
   },
   "outputs": [
    {
     "data": {
      "text/html": [
       "<div>\n",
       "<style scoped>\n",
       "    .dataframe tbody tr th:only-of-type {\n",
       "        vertical-align: middle;\n",
       "    }\n",
       "\n",
       "    .dataframe tbody tr th {\n",
       "        vertical-align: top;\n",
       "    }\n",
       "\n",
       "    .dataframe thead th {\n",
       "        text-align: right;\n",
       "    }\n",
       "</style>\n",
       "<table border=\"1\" class=\"dataframe\">\n",
       "  <thead>\n",
       "    <tr style=\"text-align: right;\">\n",
       "      <th></th>\n",
       "      <th>PCA 1</th>\n",
       "      <th>PCA 2</th>\n",
       "      <th>EVENT_TYPE</th>\n",
       "    </tr>\n",
       "  </thead>\n",
       "  <tbody>\n",
       "    <tr>\n",
       "      <th>0</th>\n",
       "      <td>-0.080076</td>\n",
       "      <td>-0.069305</td>\n",
       "      <td>Thunderstorm Wind</td>\n",
       "    </tr>\n",
       "    <tr>\n",
       "      <th>1</th>\n",
       "      <td>-0.095848</td>\n",
       "      <td>0.050226</td>\n",
       "      <td>Flood</td>\n",
       "    </tr>\n",
       "    <tr>\n",
       "      <th>2</th>\n",
       "      <td>-0.106258</td>\n",
       "      <td>-0.115982</td>\n",
       "      <td>Flood</td>\n",
       "    </tr>\n",
       "    <tr>\n",
       "      <th>3</th>\n",
       "      <td>-0.077351</td>\n",
       "      <td>0.094007</td>\n",
       "      <td>Heavy Rain</td>\n",
       "    </tr>\n",
       "    <tr>\n",
       "      <th>4</th>\n",
       "      <td>-0.082034</td>\n",
       "      <td>-0.011296</td>\n",
       "      <td>Hail</td>\n",
       "    </tr>\n",
       "    <tr>\n",
       "      <th>...</th>\n",
       "      <td>...</td>\n",
       "      <td>...</td>\n",
       "      <td>...</td>\n",
       "    </tr>\n",
       "    <tr>\n",
       "      <th>4995</th>\n",
       "      <td>-0.094142</td>\n",
       "      <td>-0.106105</td>\n",
       "      <td>Thunderstorm Wind</td>\n",
       "    </tr>\n",
       "    <tr>\n",
       "      <th>4996</th>\n",
       "      <td>-0.087979</td>\n",
       "      <td>-0.050298</td>\n",
       "      <td>Hail</td>\n",
       "    </tr>\n",
       "    <tr>\n",
       "      <th>4997</th>\n",
       "      <td>-0.077637</td>\n",
       "      <td>0.098002</td>\n",
       "      <td>Thunderstorm Wind</td>\n",
       "    </tr>\n",
       "    <tr>\n",
       "      <th>4998</th>\n",
       "      <td>-0.079690</td>\n",
       "      <td>-0.013574</td>\n",
       "      <td>Thunderstorm Wind</td>\n",
       "    </tr>\n",
       "    <tr>\n",
       "      <th>4999</th>\n",
       "      <td>-0.054849</td>\n",
       "      <td>-0.223293</td>\n",
       "      <td>Flood</td>\n",
       "    </tr>\n",
       "  </tbody>\n",
       "</table>\n",
       "<p>5000 rows × 3 columns</p>\n",
       "</div>"
      ],
      "text/plain": [
       "         PCA 1     PCA 2         EVENT_TYPE\n",
       "0    -0.080076 -0.069305  Thunderstorm Wind\n",
       "1    -0.095848  0.050226              Flood\n",
       "2    -0.106258 -0.115982              Flood\n",
       "3    -0.077351  0.094007         Heavy Rain\n",
       "4    -0.082034 -0.011296               Hail\n",
       "...        ...       ...                ...\n",
       "4995 -0.094142 -0.106105  Thunderstorm Wind\n",
       "4996 -0.087979 -0.050298               Hail\n",
       "4997 -0.077637  0.098002  Thunderstorm Wind\n",
       "4998 -0.079690 -0.013574  Thunderstorm Wind\n",
       "4999 -0.054849 -0.223293              Flood\n",
       "\n",
       "[5000 rows x 3 columns]"
      ]
     },
     "execution_count": 56,
     "metadata": {},
     "output_type": "execute_result"
    }
   ],
   "source": [
    "principal_df"
   ]
  },
  {
   "cell_type": "markdown",
   "metadata": {
    "id": "fWQckUAh0m2i"
   },
   "source": [
    "Ok let's see how this looks on a graph\n",
    "\n",
    "```\n",
    "# Create a list of colors of the same length as the number of targets\n",
    "targets = principal_df.EVENT_TYPE.unique()\n",
    "N = len(targets)\n",
    "colors = [cm.gist_ncar(i) for i in np.linspace(0, 1, N)]\n",
    "\n",
    "# Create our figure\n",
    "fig, ax = plt.subplots(1,1, figsize=(6,6))\n",
    "ax.set_facecolor('midnightblue')\n",
    "for i, color in enumerate(colors):\n",
    "    # Select entries which match each storm type\n",
    "    indicesToKeep = principal_df['EVENT_TYPE'] == targets[i]\n",
    "    # Make a scatter plot of a different color for each storm type\n",
    "    ax.scatter(principal_df.loc[indicesToKeep, 'PCA 1']\n",
    "               , principal_df.loc[indicesToKeep, 'PCA 2']\n",
    "               , color = color, alpha = 1, s = 15)\n",
    "    \n",
    "ax.legend(targets, loc=\"center right\", bbox_to_anchor=(2.3,0.5), fontsize=18)\n",
    "ax.set_xlabel('PCA 1')\n",
    "ax.set_ylabel('PCA 2')\n",
    "ax.grid()\n",
    "fig.show()\n",
    "```"
   ]
  },
  {
   "cell_type": "code",
   "execution_count": 57,
   "metadata": {
    "id": "XAP4qLDX0UbF"
   },
   "outputs": [
    {
     "name": "stderr",
     "output_type": "stream",
     "text": [
      "/opt/anaconda3/envs/plotting/lib/python3.6/site-packages/ipykernel_launcher.py:21: UserWarning: Matplotlib is currently using module://ipykernel.pylab.backend_inline, which is a non-GUI backend, so cannot show the figure.\n"
     ]
    },
    {
     "data": {
      "image/png": "[encoded data removed]",
      "text/plain": [
       "<Figure size 432x432 with 1 Axes>"
      ]
     },
     "metadata": {
      "needs_background": "light"
     },
     "output_type": "display_data"
    }
   ],
   "source": [
    "# Create a list of colors of the same length as the number of targets\n",
    "targets = principal_df.EVENT_TYPE.unique()\n",
    "N = len(targets)\n",
    "colors = [cm.gist_ncar(i) for i in np.linspace(0, 1, N)]\n",
    "\n",
    "# Create our figure\n",
    "fig, ax = plt.subplots(1,1, figsize=(6,6))\n",
    "ax.set_facecolor('midnightblue')\n",
    "for i, color in enumerate(colors):\n",
    "    # Select entries which match each storm type\n",
    "    indicesToKeep = principal_df['EVENT_TYPE'] == targets[i]\n",
    "    # Make a scatter plot of a different color for each storm type\n",
    "    ax.scatter(principal_df.loc[indicesToKeep, 'PCA 1']\n",
    "               , principal_df.loc[indicesToKeep, 'PCA 2']\n",
    "               , color = color, alpha = 1, s = 15)\n",
    "    \n",
    "ax.legend(targets, loc=\"center right\", bbox_to_anchor=(2.3,0.5), fontsize=18)\n",
    "ax.set_xlabel('PCA 1')\n",
    "ax.set_ylabel('PCA 2')\n",
    "ax.grid()\n",
    "fig.show()"
   ]
  },
  {
   "cell_type": "markdown",
   "metadata": {
    "id": "LgYen-6-vtjx"
   },
   "source": [
    "Interesting, we see two distinct areas in our data when using the PCAs! To know how much each PCA represents the data we can use the command:\n",
    "\n",
    "`pca.explain_variance_ratio_` \n",
    "\n",
    "\n",
    "```\n",
    "# Percentage of variance explained for each components\n",
    "print(\n",
    "    \"explained variance ratio (first two components): %s\"\n",
    "    % str(pca.explained_variance_ratio_)\n",
    ")\n",
    "\n",
    "```"
   ]
  },
  {
   "cell_type": "code",
   "execution_count": 58,
   "metadata": {
    "id": "QtM8-AIT5sug"
   },
   "outputs": [
    {
     "name": "stdout",
     "output_type": "stream",
     "text": [
      "explained variance ratio (first two components): [0.747648   0.14850784]\n"
     ]
    }
   ],
   "source": [
    "# Percentage of variance explained for each components\n",
    "print(\n",
    "    \"explained variance ratio (first two components): %s\"\n",
    "    % str(pca.explained_variance_ratio_)\n",
    ")\n"
   ]
  },
  {
   "cell_type": "markdown",
   "metadata": {
    "id": "mIBN1hp3999Z"
   },
   "source": [
    "So perhaps with these two components we can describe all the storm types and we don't need the 5 initial columns. We could have tried with 3 PCA's to see whether we would gain much by adding a third principal component."
   ]
  },
  {
   "cell_type": "markdown",
   "metadata": {
    "id": "ctGv3JBPTx1q"
   },
   "source": [
    "It is interesting that the first principal component seperates the data so well into two clusters. What does this principal component correspond to?\n",
    "\n",
    "```\n",
    "print(\"First PCA\", pca.components_[0], \"\\n\")  # access first component using pca.components_[0]\n",
    "print(\"Absolute value\", np.abs(pca.components_[0]), \"\\n\")  # take its absolute value using numpy.abs()\n",
    "print(\"Position of maximum value\", np.argmax(np.abs(pca.components_[0])), \"\\n\")  # find the maximum values\n",
    "print('The original variable that contributes most heavily to PC #1: ',\n",
    "      storm_df.columns[np.argmax(np.abs(pca.components_[0]))]) \n",
    "```"
   ]
  },
  {
   "cell_type": "code",
   "execution_count": 59,
   "metadata": {
    "id": "boTrMghyUKma"
   },
   "outputs": [
    {
     "name": "stdout",
     "output_type": "stream",
     "text": [
      "First PCA [-9.98985078e-01  6.67736984e-04 -7.24074974e-04  2.09844135e-04\n",
      " -5.44091560e-04  1.41361825e-03  3.17535292e-02  1.13599880e-02\n",
      " -2.98021773e-02] \n",
      "\n",
      "Absolute value [9.98985078e-01 6.67736984e-04 7.24074974e-04 2.09844135e-04\n",
      " 5.44091560e-04 1.41361825e-03 3.17535292e-02 1.13599880e-02\n",
      " 2.98021773e-02] \n",
      "\n",
      "Position of maximum value 0 \n",
      "\n",
      "The original variable that contributes most heavily to PC #1:  BEGIN_DATE_TIME\n"
     ]
    }
   ],
   "source": [
    "print(\"First PCA\", pca.components_[0], \"\\n\")  # access first component using pca.components_[0]\n",
    "print(\"Absolute value\", np.abs(pca.components_[0]), \"\\n\")  # take its absolute value using numpy.abs()\n",
    "print(\"Position of maximum value\", np.argmax(np.abs(pca.components_[0])), \"\\n\")  # find the maximum values\n",
    "print('The original variable that contributes most heavily to PC #1: ',\n",
    "      storm_df.columns[np.argmax(np.abs(pca.components_[0]))]) "
   ]
  },
  {
   "cell_type": "markdown",
   "metadata": {
    "id": "Rhw1YXxTUzHt"
   },
   "source": [
    "The first principal component is largely determined by the date time! These two clusters we observe are likely the two years where we have data!"
   ]
  },
  {
   "cell_type": "markdown",
   "metadata": {
    "id": "9vavdktFQBwZ"
   },
   "source": [
    "### 5.2.7 Correlations between variables\n",
    "\n",
    "After using PCA, we noticed that it is possible that variables contain similar information, for instance direct injuries and direct death might be correlated and therefore we don't need information from both. Now we will look at how to measure whether variables are correlated using Pearson correlation. There are 3 cases:\n",
    "\n",
    "- *positive correlation* if the pearson correlation coefficient value is > 0. This means that both variables change in the same direction. If one increases or decreases, so does the other.\n",
    "- *negative correlation* if the pearson correlation coefficient value is < 0. This means that e.g. if one variable decreases, the other increases and vicecersa.\n",
    "- *no correlation* if the pearson correlation coefficient is = 0. This means that if one variable changes, the other does not."
   ]
  },
  {
   "cell_type": "markdown",
   "metadata": {
    "id": "rcSQgSPQkNHC"
   },
   "source": [
    "##### 5.2.7.1 Pearson correlation\n",
    "\n",
    "We can get the [pearson's correlation](https://en.wikipedia.org/wiki/Pearson_correlation_coefficient) between all the input features using the `dataframe.corr()` method as implemented [here](https://pandas.pydata.org/docs/reference/api/pandas.DataFrame.corr.html) in pandas.\n",
    "\n",
    "\n",
    "![](https://upload.wikimedia.org/wikipedia/commons/thumb/d/d4/Correlation_examples2.svg/400px-Correlation_examples2.svg.png)\n",
    "\n",
    "Fig: pearson's correlation value and corresponding scatter plot of feature-x and feature-y\n",
    "\n",
    "```\n",
    "storm_df.corr()\n",
    "```"
   ]
  },
  {
   "cell_type": "code",
   "execution_count": 60,
   "metadata": {
    "id": "fO8Y2ZXmkjak"
   },
   "outputs": [
    {
     "data": {
      "text/html": [
       "<div>\n",
       "<style scoped>\n",
       "    .dataframe tbody tr th:only-of-type {\n",
       "        vertical-align: middle;\n",
       "    }\n",
       "\n",
       "    .dataframe tbody tr th {\n",
       "        vertical-align: top;\n",
       "    }\n",
       "\n",
       "    .dataframe thead th {\n",
       "        text-align: right;\n",
       "    }\n",
       "</style>\n",
       "<table border=\"1\" class=\"dataframe\">\n",
       "  <thead>\n",
       "    <tr style=\"text-align: right;\">\n",
       "      <th></th>\n",
       "      <th>INJURIES_DIRECT</th>\n",
       "      <th>INJURIES_INDIRECT</th>\n",
       "      <th>DEATHS_DIRECT</th>\n",
       "      <th>DEATHS_INDIRECT</th>\n",
       "      <th>DAMAGE_PROPERTY</th>\n",
       "      <th>DAMAGE_CROPS</th>\n",
       "      <th>LATITUDE</th>\n",
       "      <th>LONGITUDE</th>\n",
       "    </tr>\n",
       "  </thead>\n",
       "  <tbody>\n",
       "    <tr>\n",
       "      <th>INJURIES_DIRECT</th>\n",
       "      <td>1.000000</td>\n",
       "      <td>0.016956</td>\n",
       "      <td>0.667189</td>\n",
       "      <td>-0.000398</td>\n",
       "      <td>0.061529</td>\n",
       "      <td>0.025317</td>\n",
       "      <td>-0.003260</td>\n",
       "      <td>-0.013346</td>\n",
       "    </tr>\n",
       "    <tr>\n",
       "      <th>INJURIES_INDIRECT</th>\n",
       "      <td>0.016956</td>\n",
       "      <td>1.000000</td>\n",
       "      <td>0.004070</td>\n",
       "      <td>0.250727</td>\n",
       "      <td>0.028641</td>\n",
       "      <td>-0.001713</td>\n",
       "      <td>-0.011465</td>\n",
       "      <td>-0.023154</td>\n",
       "    </tr>\n",
       "    <tr>\n",
       "      <th>DEATHS_DIRECT</th>\n",
       "      <td>0.667189</td>\n",
       "      <td>0.004070</td>\n",
       "      <td>1.000000</td>\n",
       "      <td>-0.000609</td>\n",
       "      <td>0.044149</td>\n",
       "      <td>0.010124</td>\n",
       "      <td>-0.012325</td>\n",
       "      <td>-0.006789</td>\n",
       "    </tr>\n",
       "    <tr>\n",
       "      <th>DEATHS_INDIRECT</th>\n",
       "      <td>-0.000398</td>\n",
       "      <td>0.250727</td>\n",
       "      <td>-0.000609</td>\n",
       "      <td>1.000000</td>\n",
       "      <td>0.013993</td>\n",
       "      <td>-0.001587</td>\n",
       "      <td>0.000420</td>\n",
       "      <td>-0.008887</td>\n",
       "    </tr>\n",
       "    <tr>\n",
       "      <th>DAMAGE_PROPERTY</th>\n",
       "      <td>0.061529</td>\n",
       "      <td>0.028641</td>\n",
       "      <td>0.044149</td>\n",
       "      <td>0.013993</td>\n",
       "      <td>1.000000</td>\n",
       "      <td>0.096155</td>\n",
       "      <td>0.009188</td>\n",
       "      <td>-0.002590</td>\n",
       "    </tr>\n",
       "    <tr>\n",
       "      <th>DAMAGE_CROPS</th>\n",
       "      <td>0.025317</td>\n",
       "      <td>-0.001713</td>\n",
       "      <td>0.010124</td>\n",
       "      <td>-0.001587</td>\n",
       "      <td>0.096155</td>\n",
       "      <td>1.000000</td>\n",
       "      <td>0.027054</td>\n",
       "      <td>-0.026331</td>\n",
       "    </tr>\n",
       "    <tr>\n",
       "      <th>LATITUDE</th>\n",
       "      <td>-0.003260</td>\n",
       "      <td>-0.011465</td>\n",
       "      <td>-0.012325</td>\n",
       "      <td>0.000420</td>\n",
       "      <td>0.009188</td>\n",
       "      <td>0.027054</td>\n",
       "      <td>1.000000</td>\n",
       "      <td>0.081668</td>\n",
       "    </tr>\n",
       "    <tr>\n",
       "      <th>LONGITUDE</th>\n",
       "      <td>-0.013346</td>\n",
       "      <td>-0.023154</td>\n",
       "      <td>-0.006789</td>\n",
       "      <td>-0.008887</td>\n",
       "      <td>-0.002590</td>\n",
       "      <td>-0.026331</td>\n",
       "      <td>0.081668</td>\n",
       "      <td>1.000000</td>\n",
       "    </tr>\n",
       "  </tbody>\n",
       "</table>\n",
       "</div>"
      ],
      "text/plain": [
       "                   INJURIES_DIRECT  INJURIES_INDIRECT  DEATHS_DIRECT  \\\n",
       "INJURIES_DIRECT           1.000000           0.016956       0.667189   \n",
       "INJURIES_INDIRECT         0.016956           1.000000       0.004070   \n",
       "DEATHS_DIRECT             0.667189           0.004070       1.000000   \n",
       "DEATHS_INDIRECT          -0.000398           0.250727      -0.000609   \n",
       "DAMAGE_PROPERTY           0.061529           0.028641       0.044149   \n",
       "DAMAGE_CROPS              0.025317          -0.001713       0.010124   \n",
       "LATITUDE                 -0.003260          -0.011465      -0.012325   \n",
       "LONGITUDE                -0.013346          -0.023154      -0.006789   \n",
       "\n",
       "                   DEATHS_INDIRECT  DAMAGE_PROPERTY  DAMAGE_CROPS  LATITUDE  \\\n",
       "INJURIES_DIRECT          -0.000398         0.061529      0.025317 -0.003260   \n",
       "INJURIES_INDIRECT         0.250727         0.028641     -0.001713 -0.011465   \n",
       "DEATHS_DIRECT            -0.000609         0.044149      0.010124 -0.012325   \n",
       "DEATHS_INDIRECT           1.000000         0.013993     -0.001587  0.000420   \n",
       "DAMAGE_PROPERTY           0.013993         1.000000      0.096155  0.009188   \n",
       "DAMAGE_CROPS             -0.001587         0.096155      1.000000  0.027054   \n",
       "LATITUDE                  0.000420         0.009188      0.027054  1.000000   \n",
       "LONGITUDE                -0.008887        -0.002590     -0.026331  0.081668   \n",
       "\n",
       "                   LONGITUDE  \n",
       "INJURIES_DIRECT    -0.013346  \n",
       "INJURIES_INDIRECT  -0.023154  \n",
       "DEATHS_DIRECT      -0.006789  \n",
       "DEATHS_INDIRECT    -0.008887  \n",
       "DAMAGE_PROPERTY    -0.002590  \n",
       "DAMAGE_CROPS       -0.026331  \n",
       "LATITUDE            0.081668  \n",
       "LONGITUDE           1.000000  "
      ]
     },
     "execution_count": 60,
     "metadata": {},
     "output_type": "execute_result"
    }
   ],
   "source": [
    "storm_df.corr()"
   ]
  },
  {
   "cell_type": "markdown",
   "metadata": {
    "id": "Bz8C0GjNq6jr"
   },
   "source": [
    "So we have this raw table of pearsons correlations between each of our columns, how do we and how should we turn this into a plot?\n",
    "\n",
    "Here I am introducing a plotting library called `seaborn` that is built on matplotlib. It has a number of tools to create plots of data interactions that would take a lot of work to create with matplotlib directly. A link to the seaborn documentation is at the end of the tutorial. Looking into the things seaborn can do may be worthwhile.\n",
    "\n",
    "```\n",
    "fig, ax = plt.subplots(1, 1, figsize = (12,10))\n",
    "# here we are creating a diverging colormap, to highlight which relationships\n",
    "# have a negative correlation and which have a positive one \n",
    "cmap = sns.diverging_palette(230, 20, as_cmap=True)\n",
    "sns.heatmap(storm_df.corr(), vmin=-1.0, vmax=1.0, ax=ax, cmap=cmap)\n",
    "```"
   ]
  },
  {
   "cell_type": "code",
   "execution_count": 61,
   "metadata": {
    "id": "MOq2pQqdQBwc"
   },
   "outputs": [
    {
     "data": {
      "text/plain": [
       "<AxesSubplot:>"
      ]
     },
     "execution_count": 61,
     "metadata": {},
     "output_type": "execute_result"
    },
    {
     "data": {
      "image/png": "[encoded data removed]",
      "text/plain": [
       "<Figure size 864x720 with 2 Axes>"
      ]
     },
     "metadata": {
      "needs_background": "light"
     },
     "output_type": "display_data"
    }
   ],
   "source": [
    "fig, ax = plt.subplots(1, 1, figsize = (12,10))\n",
    "# here we are creating a diverging colormap, to highlight which relationships\n",
    "# have a negative correlation and which have a positive one \n",
    "cmap = sns.diverging_palette(230, 20, as_cmap=True)\n",
    "sns.heatmap(storm_df.corr(), vmin=-1.0, vmax=1.0, ax=ax, cmap=cmap)"
   ]
  },
  {
   "cell_type": "markdown",
   "metadata": {
    "id": "HZVJ9jkgnnGz"
   },
   "source": [
    "What do we notice?\n",
    "\n",
    "There isn't much correlation in our dataset. Deaths and injuries have a significant correlation as expected, and there is a very small correlation between deaths and property damage."
   ]
  },
  {
   "cell_type": "markdown",
   "metadata": {
    "id": "d8f6zxhUy77h"
   },
   "source": [
    "## 5.3 Clustering data"
   ]
  },
  {
   "cell_type": "markdown",
   "metadata": {
    "id": "K_mgxsvVzA5Z"
   },
   "source": [
    "Sometimes we know that data can be divided into specific groups, for instance, you each belong to either the freshman, junior, sophomore or senior year (target, Y). If we were to consider data on students, for instance, age or courses completed (input features, X), we could train an algorithm to predict a student's class. \n",
    "\n",
    "This process is known as classification, it is a *supervised machine learning* approach. \n",
    "- We know the *input features*, X, age and courses completed and the *output target* classes, Y, the year (freshman, junior, sophomore or senior). \n",
    "- The algorithm which predicts Y will see some of the X and Y values as it is *trained*\n",
    "\n",
    "However, there are cases when we might believe that there are groups of similar things, but can't make a list of specific groups or \"classes\". For example, I might be hiking near Mount Rainier and start noticing some rocks look similar. However, I don't know much about geology and I would not be able to define classes. Here, **clustering** algorithms enable us to find this type of unkown group. Clustering belongs to the *unsupervised machine learning* area. In unsupervised learning\n",
    "\n",
    "- We have data, X but no known output target Y\n",
    "- The algorithm sees all our data and attempts to cluster it (e.g. based on similarity), i.e. it discovers unknown clusters."
   ]
  },
  {
   "cell_type": "markdown",
   "metadata": {
    "id": "oFWGJCWA4kU0"
   },
   "source": [
    "### 5.3.1 Clustering with the k-means algorithm"
   ]
  },
  {
   "cell_type": "markdown",
   "metadata": {
    "id": "OEA1OEoA5hwH"
   },
   "source": [
    "While PCA searches for a low dimensional representation of the dataset, Clustering methods search for homogeneous subgroups among the observations. You can think of homogeneous subgroups as groups of data point where things are very similar. That could be the size of the rocks are all 1 inch in subgroup 1 and 2 inches in subgroup 2 - the clustering algorithm will make that choice. \n",
    "\n",
    "The **k-means algorithm** is a clustering algorithm. Here one defines a desired *number of clusters* _K_ (Watch out: not the type of cluster but only how many we think there are!) and aim to assign each observation to one of the clusters. \n",
    "\n",
    "![](https://i.stack.imgur.com/cIDB3.png)\n",
    "\n",
    "The idea is that we will find points which define the center of each cluster. These are known as *centroids*. Then new data will be assigned to that cluster based on the distance from each *centroid*.\n",
    "\n",
    "* Each observation must be placed in at least one of the clusters\n",
    "* No clusters may overlap, each observation can only be placed in a single cluster \n",
    "* The goal is to minimize the variance of observations within each of the clusters (i.e. all data entries in a cluster must be similar to each other!)\n",
    "\n",
    "To learn more about k-means see [k-means](https://scikit-learn.org/stable/modules/clustering.html#k-means) on scikit-learn."
   ]
  },
  {
   "cell_type": "markdown",
   "metadata": {
    "id": "Gc60p76jQBwZ"
   },
   "source": [
    "### 5.3.2 k-means with scikit-learn \n",
    "Now we will apply k-means to our dataset. The function we will use is defined in the scikit-learn module - `KMeans()`. Let's see if we have clusters of storm types as a function of longitude and latitude.\n",
    "\n",
    "The idea is that we choose to cluster all our scaled data, X, in it's reduced PCA representation. Recall that we had excluded the `'EVENT_TYPE'`.\n",
    "\n",
    "```\n",
    "X_df = principal_df.drop('EVENT_TYPE', axis=1)\n",
    "```"
   ]
  },
  {
   "cell_type": "code",
   "execution_count": 62,
   "metadata": {
    "id": "REybckr-C8Wx"
   },
   "outputs": [],
   "source": [
    "X_df = principal_df.drop('EVENT_TYPE', axis=1)"
   ]
  },
  {
   "cell_type": "code",
   "execution_count": 63,
   "metadata": {
    "id": "c2BPx1jnDLzB"
   },
   "outputs": [
    {
     "data": {
      "text/html": [
       "<div>\n",
       "<style scoped>\n",
       "    .dataframe tbody tr th:only-of-type {\n",
       "        vertical-align: middle;\n",
       "    }\n",
       "\n",
       "    .dataframe tbody tr th {\n",
       "        vertical-align: top;\n",
       "    }\n",
       "\n",
       "    .dataframe thead th {\n",
       "        text-align: right;\n",
       "    }\n",
       "</style>\n",
       "<table border=\"1\" class=\"dataframe\">\n",
       "  <thead>\n",
       "    <tr style=\"text-align: right;\">\n",
       "      <th></th>\n",
       "      <th>PCA 1</th>\n",
       "      <th>PCA 2</th>\n",
       "    </tr>\n",
       "  </thead>\n",
       "  <tbody>\n",
       "    <tr>\n",
       "      <th>0</th>\n",
       "      <td>-0.080076</td>\n",
       "      <td>-0.069305</td>\n",
       "    </tr>\n",
       "    <tr>\n",
       "      <th>1</th>\n",
       "      <td>-0.095848</td>\n",
       "      <td>0.050226</td>\n",
       "    </tr>\n",
       "    <tr>\n",
       "      <th>2</th>\n",
       "      <td>-0.106258</td>\n",
       "      <td>-0.115982</td>\n",
       "    </tr>\n",
       "    <tr>\n",
       "      <th>3</th>\n",
       "      <td>-0.077351</td>\n",
       "      <td>0.094007</td>\n",
       "    </tr>\n",
       "    <tr>\n",
       "      <th>4</th>\n",
       "      <td>-0.082034</td>\n",
       "      <td>-0.011296</td>\n",
       "    </tr>\n",
       "    <tr>\n",
       "      <th>...</th>\n",
       "      <td>...</td>\n",
       "      <td>...</td>\n",
       "    </tr>\n",
       "    <tr>\n",
       "      <th>4995</th>\n",
       "      <td>-0.094142</td>\n",
       "      <td>-0.106105</td>\n",
       "    </tr>\n",
       "    <tr>\n",
       "      <th>4996</th>\n",
       "      <td>-0.087979</td>\n",
       "      <td>-0.050298</td>\n",
       "    </tr>\n",
       "    <tr>\n",
       "      <th>4997</th>\n",
       "      <td>-0.077637</td>\n",
       "      <td>0.098002</td>\n",
       "    </tr>\n",
       "    <tr>\n",
       "      <th>4998</th>\n",
       "      <td>-0.079690</td>\n",
       "      <td>-0.013574</td>\n",
       "    </tr>\n",
       "    <tr>\n",
       "      <th>4999</th>\n",
       "      <td>-0.054849</td>\n",
       "      <td>-0.223293</td>\n",
       "    </tr>\n",
       "  </tbody>\n",
       "</table>\n",
       "<p>5000 rows × 2 columns</p>\n",
       "</div>"
      ],
      "text/plain": [
       "         PCA 1     PCA 2\n",
       "0    -0.080076 -0.069305\n",
       "1    -0.095848  0.050226\n",
       "2    -0.106258 -0.115982\n",
       "3    -0.077351  0.094007\n",
       "4    -0.082034 -0.011296\n",
       "...        ...       ...\n",
       "4995 -0.094142 -0.106105\n",
       "4996 -0.087979 -0.050298\n",
       "4997 -0.077637  0.098002\n",
       "4998 -0.079690 -0.013574\n",
       "4999 -0.054849 -0.223293\n",
       "\n",
       "[5000 rows x 2 columns]"
      ]
     },
     "execution_count": 63,
     "metadata": {},
     "output_type": "execute_result"
    }
   ],
   "source": [
    "X_df"
   ]
  },
  {
   "cell_type": "markdown",
   "metadata": {
    "id": "VYikz0NOYWFD"
   },
   "source": [
    "Now we call the `KMeans()` function (more info [here](https://scikit-learn.org/stable/modules/generated/sklearn.cluster.KMeans.html)) to create a `KMeans()` object which I save in the variable `kmeans_2`. Here we have to specify the number of clusters we think might be there (this is unknown!). I choose 2.\n",
    "\n",
    "```\n",
    "kmeans_2 = KMeans(n_clusters= 2)\n",
    "```"
   ]
  },
  {
   "cell_type": "code",
   "execution_count": 64,
   "metadata": {
    "id": "tkZxSZQKzADi"
   },
   "outputs": [],
   "source": [
    "kmeans_2 = KMeans(n_clusters= 2)"
   ]
  },
  {
   "cell_type": "markdown",
   "metadata": {
    "id": "IAsE44dOdQ5F"
   },
   "source": [
    "##### *Question*: Could `n_clusters=1` ?"
   ]
  },
  {
   "cell_type": "markdown",
   "metadata": {
    "id": "qo7tEKfaZGxv"
   },
   "source": [
    "Now we pass all our `X_df` data to our `kmeans_2` object and ask for it to find 2 clusters by going through our data using the `fit_predict()` function (more info [here](https://scikit-learn.org/stable/modules/generated/sklearn.cluster.KMeans.html#sklearn.cluster.KMeans.fit_predict)). This function will return `labels` i.e. labels are the numbers assigned to each entry in `X_df` which define whether it is in the first (label=0) or second cluster (label=1).\n",
    "\n",
    "```\n",
    "labels = kmeans_2.fit_predict(X_df)\n",
    "\n",
    "print(labels[0:10]) # Print first 10 labels - these correspond to the first 10 entries of our dataset\n",
    "```"
   ]
  },
  {
   "cell_type": "code",
   "execution_count": 65,
   "metadata": {
    "id": "Z8N1jwvXZFdC"
   },
   "outputs": [
    {
     "name": "stdout",
     "output_type": "stream",
     "text": [
      "[1 1 1 1 1 1 1 1 1 0]\n"
     ]
    }
   ],
   "source": [
    "labels = kmeans_2.fit_predict(X_df)\n",
    "\n",
    "print(labels[0:10]) # Print first 10 labels - these correspond to the first 10 entries of our dataset"
   ]
  },
  {
   "cell_type": "markdown",
   "metadata": {
    "id": "utJzgOuzaUL0"
   },
   "source": [
    "Now we can find the positions of these points which are for the first and second discovered cluster as following\n",
    "\n",
    "```\n",
    "cluster_1 = principal_df[labels == 0] # Search for positions in labels where the value is 0 - those positions correspond to entries in cluster 1\n",
    "cluster_2 = principal_df[labels == 1] # Search for positions in labels where the value is 1 - those positions correspond to entries in cluster 2\n",
    "```"
   ]
  },
  {
   "cell_type": "code",
   "execution_count": 66,
   "metadata": {
    "id": "HnjUyXsrZurC"
   },
   "outputs": [],
   "source": [
    "cluster_1 = principal_df[labels == 0] # Search for positions in labels where the value is 0 - those positions correspond to entries in cluster 1\n",
    "cluster_2 = principal_df[labels == 1] # Search for positions in labels where the value is 1 - those positions correspond to entries in cluster 2"
   ]
  },
  {
   "cell_type": "markdown",
   "metadata": {
    "id": "iq_5fii3a5YA"
   },
   "source": [
    "Why did that work?"
   ]
  },
  {
   "cell_type": "code",
   "execution_count": 67,
   "metadata": {
    "id": "CJuDL5qEa2q8"
   },
   "outputs": [
    {
     "data": {
      "text/plain": [
       "array([False, False, False, ..., False, False, False])"
      ]
     },
     "execution_count": 67,
     "metadata": {},
     "output_type": "execute_result"
    }
   ],
   "source": [
    "labels == 0"
   ]
  },
  {
   "cell_type": "markdown",
   "metadata": {
    "id": "CIY-o6zOa751"
   },
   "source": [
    "Let's plots our clusters and the position of the centroids for each cluster. Those positions are in the `kmeans_2` objects `cluster_centers_` variable which we can access as\n",
    "\n",
    "```\n",
    "kmeans_2.cluster_centers_\n",
    "```"
   ]
  },
  {
   "cell_type": "code",
   "execution_count": 68,
   "metadata": {
    "id": "rfM2hhN0bRI_"
   },
   "outputs": [
    {
     "data": {
      "text/plain": [
       "array([[ 8.48164405e-01, -5.66266432e-03],\n",
       "       [-8.26569350e-02,  5.51848761e-04]])"
      ]
     },
     "execution_count": 68,
     "metadata": {},
     "output_type": "execute_result"
    }
   ],
   "source": [
    "kmeans_2.cluster_centers_"
   ]
  },
  {
   "cell_type": "markdown",
   "metadata": {
    "id": "UCIBkdkmXwYh"
   },
   "source": [
    "```\n",
    "fig, ax = plt.subplots(1, figsize=(10,8))\n",
    "ax.plot(cluster_1['PCA 1'], cluster_1['PCA 2'],'ob', alpha=0.3, label='cluster 1')\n",
    "ax.plot(cluster_2['PCA 1'], cluster_2['PCA 2'],'>r', alpha=0.3, label='cluster 2')\n",
    "ax.plot(kmeans_2.cluster_centers_[0][0], kmeans_2.cluster_centers_[0][1], c='cornflowerblue', alpha=0.8, markeredgewidth=2, markeredgecolor='navy', marker=(5,1), markersize=20, label='centroid 1')\n",
    "ax.plot(kmeans_2.cluster_centers_[1][0], kmeans_2.cluster_centers_[1][1], c='orange', alpha=0.8, markeredgewidth=2, markeredgecolor='crimson', marker=(5,1), markersize=20, label='centroid 2')\n",
    "ax.set_xlabel('PCA 1')\n",
    "ax.set_ylabel('PCA 2')\n",
    "plt.xticks(rotation = 45)\n",
    "ax.legend(loc=\"upper right\", bbox_to_anchor=(1.,0.98))\n",
    "fig.show()\n",
    "```"
   ]
  },
  {
   "cell_type": "code",
   "execution_count": 69,
   "metadata": {
    "id": "jfzBnx4_FXbK"
   },
   "outputs": [
    {
     "name": "stderr",
     "output_type": "stream",
     "text": [
      "/opt/anaconda3/envs/plotting/lib/python3.6/site-packages/ipykernel_launcher.py:10: UserWarning: Matplotlib is currently using module://ipykernel.pylab.backend_inline, which is a non-GUI backend, so cannot show the figure.\n",
      "  # Remove the CWD from sys.path while we load stuff.\n"
     ]
    },
    {
     "data": {
      "image/png": "[encoded data removed]",
      "text/plain": [
       "<Figure size 720x576 with 1 Axes>"
      ]
     },
     "metadata": {
      "needs_background": "light"
     },
     "output_type": "display_data"
    }
   ],
   "source": [
    "fig, ax = plt.subplots(1, figsize=(10,8))\n",
    "ax.plot(cluster_1['PCA 1'], cluster_1['PCA 2'],'ob', alpha=0.3, label='cluster 1')\n",
    "ax.plot(cluster_2['PCA 1'], cluster_2['PCA 2'],'>r', alpha=0.3, label='cluster 2')\n",
    "ax.plot(kmeans_2.cluster_centers_[0][0], kmeans_2.cluster_centers_[0][1], c='cornflowerblue', alpha=0.8, markeredgewidth=2, markeredgecolor='navy', marker=(5,1), markersize=20, label='centroid 1')\n",
    "ax.plot(kmeans_2.cluster_centers_[1][0], kmeans_2.cluster_centers_[1][1], c='orange', alpha=0.8, markeredgewidth=2, markeredgecolor='crimson', marker=(5,1), markersize=20, label='centroid 2')\n",
    "ax.set_xlabel('PCA 1')\n",
    "ax.set_ylabel('PCA 2')\n",
    "plt.xticks(rotation = 45)\n",
    "ax.legend(loc=\"upper right\", bbox_to_anchor=(1.,0.98))\n",
    "fig.show()"
   ]
  },
  {
   "cell_type": "markdown",
   "metadata": {
    "id": "cIMW_SiG8Uqu"
   },
   "source": [
    "What if we thought there were 6 clusters?\n",
    "\n",
    "```\n",
    "kmeans_6 = KMeans(n_clusters= 6)\n",
    "labels_6 = kmeans_6.fit_predict(X_df)\n",
    "\n",
    "clusters_6 = [principal_df[labels_6 == i] for i in range(6) ]\n",
    "kmeans_6.cluster_centers_\n",
    "\n",
    "fig, ax = plt.subplots(1, figsize=(10,8))\n",
    "colors = [cm.viridis(i) for i in np.linspace(0, 0.9, 6)]\n",
    "markers = ['o','>','<','s','d','p','^','v','.','8']\n",
    "m_colors = ['plum', 'deepskyblue', 'cyan', 'darkslategrey', 'darkgreen', 'olivedrab']\n",
    "\n",
    "for i, color in enumerate(colors):\n",
    "  ax.plot(clusters_6[i]['PCA 1'], clusters_6[i]['PCA 2'], marker=markers[i], lw=0, c=color, alpha=0.3, label='cluster '+str(i))\n",
    "  ax.plot(kmeans_6.cluster_centers_[i][0], kmeans_6.cluster_centers_[i][1], lw=0, c=color, alpha=1, markeredgecolor=m_colors[i], marker=(5,1), markeredgewidth=2, markersize=20, label='centroid '+str(i))\n",
    "ax.set_xlabel('PCA 1')\n",
    "ax.set_ylabel('PCA 2')\n",
    "plt.xticks(rotation = 45)\n",
    "ax.legend(loc=\"center right\", bbox_to_anchor=(1.4,0.5))\n",
    "fig.show()\n",
    "```"
   ]
  },
  {
   "cell_type": "code",
   "execution_count": 70,
   "metadata": {
    "id": "37tYk4u58S6d"
   },
   "outputs": [
    {
     "name": "stderr",
     "output_type": "stream",
     "text": [
      "/opt/anaconda3/envs/plotting/lib/python3.6/site-packages/ipykernel_launcher.py:19: UserWarning: Matplotlib is currently using module://ipykernel.pylab.backend_inline, which is a non-GUI backend, so cannot show the figure.\n"
     ]
    },
    {
     "data": {
      "image/png": "[encoded data removed]",
      "text/plain": [
       "<Figure size 720x576 with 1 Axes>"
      ]
     },
     "metadata": {
      "needs_background": "light"
     },
     "output_type": "display_data"
    }
   ],
   "source": [
    "kmeans_6 = KMeans(n_clusters= 6)\n",
    "labels_6 = kmeans_6.fit_predict(X_df)\n",
    "\n",
    "clusters_6 = [principal_df[labels_6 == i] for i in range(6) ]\n",
    "kmeans_6.cluster_centers_\n",
    "\n",
    "fig, ax = plt.subplots(1, figsize=(10,8))\n",
    "colors = [cm.viridis(i) for i in np.linspace(0, 0.9, 6)]\n",
    "markers = ['o','>','<','s','d','p','^','v','.','8']\n",
    "m_colors = ['plum', 'deepskyblue', 'cyan', 'darkslategrey', 'darkgreen', 'olivedrab']\n",
    "\n",
    "for i, color in enumerate(colors):\n",
    "  ax.plot(clusters_6[i]['PCA 1'], clusters_6[i]['PCA 2'], marker=markers[i], lw=0, c=color, alpha=0.3, label='cluster '+str(i))\n",
    "  ax.plot(kmeans_6.cluster_centers_[i][0], kmeans_6.cluster_centers_[i][1], lw=0, c=color, alpha=1, markeredgecolor=m_colors[i], marker=(5,1), markeredgewidth=2, markersize=20, label='centroid '+str(i))\n",
    "ax.set_xlabel('PCA 1')\n",
    "ax.set_ylabel('PCA 2')\n",
    "plt.xticks(rotation = 45)\n",
    "ax.legend(loc=\"center right\", bbox_to_anchor=(1.4,0.5))\n",
    "fig.show()"
   ]
  },
  {
   "cell_type": "markdown",
   "metadata": {
    "id": "BzhuOSu993AZ"
   },
   "source": [
    "Some of these are very close, how do we figure out if the results are correct when we don't know the best number of clusters?"
   ]
  },
  {
   "cell_type": "markdown",
   "metadata": {
    "id": "HIln87FN-Bc8"
   },
   "source": [
    "### 5.3.3 Evaluating the accuracy of clustering\n",
    "\n",
    "How do we find the optimal number of clusters? We can use a metric called the **silhouette coefficient** (more info [here](https://en.wikipedia.org/wiki/Silhouette_(clustering))) it is equal to\n",
    "\n",
    "$$\\text{silhouette coeff}=\\frac{b-a}{max(a,b)}$$\n",
    "\n",
    "- $a$ is the average distance to the other data points in the same cluster\n",
    "- $b$ is the average nearest cluster distance (i.e. the average distance to the next closest cluster) \n",
    "\n",
    "With this coefficient, we can get an idea of how well our data has been assigned to the clusters\n",
    "\n",
    "- If the value is close to +1 then clusters are well separated and the points in each cluster do not overlap.\n",
    "\n",
    "- If the value is close to -1 then a value may have been assigned to the wrong cluster\n",
    "\n",
    "- If the value is zero then the point is close to a cluster boundary\n",
    "\n",
    "Let's try this for our data by using the scikit-learn `silhouette_score()` function (more info [here](https://scikit-learn.org/stable/modules/generated/sklearn.metrics.silhouette_score.html)). This function takes in input `X_df` original dataframe and the `labels_` which were obtained using K-means. Note that you can use this function for any clustering algorithm. All you need is the data and assigned labels (i.e. clusters).\n",
    "\n",
    "This function returns the value of the Silhouette score."
   ]
  },
  {
   "cell_type": "markdown",
   "metadata": {
    "id": "Ei2-Fq-nYDFd"
   },
   "source": [
    "```\n",
    "sil_score = []                                # Define an empty list\n",
    "for num_clust in range(2, 25):                # Iterate in range 2 to 25 clusters as input choice \n",
    "    print(\"Searching for\", num_clust, \"clusters with k-means.\")\n",
    "    kmeans = KMeans(n_clusters = num_clust)   # Create kmeans clustering object for num_clust\n",
    "    label = kmeans.fit_predict(X_df)          # Find the labels (0 - cluster 1, 1 - cluster 2, ...., N-1 for cluster N)\n",
    "    sil_score.append(silhouette_score(X_df, kmeans.labels_))  # Compute the silhouette score and store it in the list\n",
    "```"
   ]
  },
  {
   "cell_type": "code",
   "execution_count": 71,
   "metadata": {
    "id": "N7J6SEeFm_89"
   },
   "outputs": [
    {
     "name": "stdout",
     "output_type": "stream",
     "text": [
      "Searching for 2 clusters with k-means.\n",
      "Searching for 3 clusters with k-means.\n",
      "Searching for 4 clusters with k-means.\n",
      "Searching for 5 clusters with k-means.\n",
      "Searching for 6 clusters with k-means.\n",
      "Searching for 7 clusters with k-means.\n",
      "Searching for 8 clusters with k-means.\n",
      "Searching for 9 clusters with k-means.\n",
      "Searching for 10 clusters with k-means.\n",
      "Searching for 11 clusters with k-means.\n",
      "Searching for 12 clusters with k-means.\n",
      "Searching for 13 clusters with k-means.\n",
      "Searching for 14 clusters with k-means.\n",
      "Searching for 15 clusters with k-means.\n",
      "Searching for 16 clusters with k-means.\n",
      "Searching for 17 clusters with k-means.\n",
      "Searching for 18 clusters with k-means.\n",
      "Searching for 19 clusters with k-means.\n",
      "Searching for 20 clusters with k-means.\n",
      "Searching for 21 clusters with k-means.\n",
      "Searching for 22 clusters with k-means.\n",
      "Searching for 23 clusters with k-means.\n",
      "Searching for 24 clusters with k-means.\n"
     ]
    }
   ],
   "source": [
    "sil_score = []                                # Define an empty list\n",
    "for num_clust in range(2, 25):                # Iterate in range 2 to 25 clusters as input choice \n",
    "    print(\"Searching for\", num_clust, \"clusters with k-means.\")\n",
    "    kmeans = KMeans(n_clusters = num_clust)   # Create kmeans clustering object for num_clust\n",
    "    label = kmeans.fit_predict(X_df)          # Find the labels (0 - cluster 1, 1 - cluster 2, ...., N-1 for cluster N)\n",
    "    sil_score.append(silhouette_score(X_df, kmeans.labels_))  # Compute the silhouette score and store it in the list\n"
   ]
  },
  {
   "cell_type": "markdown",
   "metadata": {
    "id": "-mhdi-x3fLFA"
   },
   "source": [
    "Let's see what this looks like graphically\n",
    "\n",
    "```\n",
    "ks = np.linspace(2, 25, len(sil_score))\n",
    "fig, ax = plt.subplots(1, figsize=(5,4))\n",
    "ax.plot(ks, sil_score, '--o', color='darkorchid')\n",
    "ax.set_xlabel('$k$')\n",
    "ax.set_ylabel('Silhouette score')\n",
    "fig.show()\n",
    "```"
   ]
  },
  {
   "cell_type": "code",
   "execution_count": 72,
   "metadata": {
    "id": "Gr69J6NdMtT2"
   },
   "outputs": [
    {
     "name": "stderr",
     "output_type": "stream",
     "text": [
      "/opt/anaconda3/envs/plotting/lib/python3.6/site-packages/ipykernel_launcher.py:6: UserWarning: Matplotlib is currently using module://ipykernel.pylab.backend_inline, which is a non-GUI backend, so cannot show the figure.\n",
      "  \n"
     ]
    },
    {
     "data": {
      "image/png": "[encoded data removed]",
      "text/plain": [
       "<Figure size 360x288 with 1 Axes>"
      ]
     },
     "metadata": {
      "needs_background": "light"
     },
     "output_type": "display_data"
    }
   ],
   "source": [
    "ks = np.linspace(2, 25, len(sil_score))\n",
    "fig, ax = plt.subplots(1, figsize=(5,4))\n",
    "ax.plot(ks, sil_score, '--o', color='darkorchid')\n",
    "ax.set_xlabel('$k$')\n",
    "ax.set_ylabel('Silhouette score')\n",
    "fig.show()"
   ]
  },
  {
   "cell_type": "code",
   "execution_count": 73,
   "metadata": {
    "id": "iWXw5jYi-WBw"
   },
   "outputs": [
    {
     "name": "stdout",
     "output_type": "stream",
     "text": [
      "Maximum silhouette score 0.8693565184510049\n"
     ]
    }
   ],
   "source": [
    "print(\"Maximum silhouette score\", max(sil_score))"
   ]
  },
  {
   "cell_type": "markdown",
   "metadata": {
    "id": "-hGHlss_Od6y"
   },
   "source": [
    "Now we see that for this dataset it is not a good idea to keep increasing the number of clusters. That can change depending on the data you have.\n",
    "\n",
    "##### *Question*: What do you think will happen is we increase $k$ to match the number of points we have?"
   ]
  },
  {
   "cell_type": "markdown",
   "metadata": {
    "id": "boiunF3MnA3n"
   },
   "source": [
    "### 5.3.4 Other clustering algorithms\n",
    "\n",
    "There are many other clustering algorithms, for instance DBSCAN, agglomerative clustering and gaussian mixtures. Have a look on the scikit-learn page [here](https://scikit-learn.org/stable/modules/clustering.html) for more information. "
   ]
  },
  {
   "cell_type": "markdown",
   "metadata": {
    "id": "zno7Go9pQBwe"
   },
   "source": [
    "# Breakout Room\n",
    "\n",
    "\n"
   ]
  },
  {
   "cell_type": "markdown",
   "metadata": {
    "id": "wXpiBJJlYpO-"
   },
   "source": [
    "\n",
    "## Exercise 1: Removing outliers & clustering\n",
    "\n",
    "Using the definition of standard deviation remove outliers from the storm dataset and carry out clustering with k-means. \n",
    "\n",
    "\n",
    "*   Does the Silhouette metric change?\n",
    "*   Does the optimal number of clusters changes?\n",
    "\n",
    "\n",
    "Suggestions: \n",
    "\n",
    "* Keep all `BEGIN_DATA_TIME` and `LONGITUDE` and `LATITUDE` entries. \n",
    "* Make sure your data is scaled. (Note: usually you want to remove outliers prior to scaling! You can do it the other way around here for shortness of time)\n",
    "* Use PCA to reduce dimensionality to 2\n",
    "* Use KMeans to cluster between 2 and 25 clusters\n",
    "* Compare to your previous Silhouette score plot"
   ]
  },
  {
   "cell_type": "code",
   "execution_count": null,
   "metadata": {
    "id": "5-YbjJyw9WKt"
   },
   "outputs": [],
   "source": []
  },
  {
   "cell_type": "markdown",
   "metadata": {
    "id": "DyMmk1ZzzUKF"
   },
   "source": [
    "### B1.1 Compute std and mean\n",
    "\n",
    "Compute the standard deviation and average for each column using the `std()` and `mean()` functions. Note - data is already scaled."
   ]
  },
  {
   "cell_type": "code",
   "execution_count": 74,
   "metadata": {
    "id": "VcIYVTyw12Nx"
   },
   "outputs": [
    {
     "data": {
      "text/html": [
       "<div>\n",
       "<style scoped>\n",
       "    .dataframe tbody tr th:only-of-type {\n",
       "        vertical-align: middle;\n",
       "    }\n",
       "\n",
       "    .dataframe tbody tr th {\n",
       "        vertical-align: top;\n",
       "    }\n",
       "\n",
       "    .dataframe thead th {\n",
       "        text-align: right;\n",
       "    }\n",
       "</style>\n",
       "<table border=\"1\" class=\"dataframe\">\n",
       "  <thead>\n",
       "    <tr style=\"text-align: right;\">\n",
       "      <th></th>\n",
       "      <th>BEGIN_DATE_TIME</th>\n",
       "      <th>INJURIES_DIRECT</th>\n",
       "      <th>INJURIES_INDIRECT</th>\n",
       "      <th>DEATHS_DIRECT</th>\n",
       "      <th>DEATHS_INDIRECT</th>\n",
       "      <th>DAMAGE_PROPERTY</th>\n",
       "      <th>DAMAGE_CROPS</th>\n",
       "      <th>LATITUDE</th>\n",
       "      <th>LONGITUDE</th>\n",
       "    </tr>\n",
       "  </thead>\n",
       "  <tbody>\n",
       "    <tr>\n",
       "      <th>count</th>\n",
       "      <td>5000.000000</td>\n",
       "      <td>5000.000000</td>\n",
       "      <td>5000.00000</td>\n",
       "      <td>5000.000000</td>\n",
       "      <td>5000.00000</td>\n",
       "      <td>5000.000000</td>\n",
       "      <td>5000.000000</td>\n",
       "      <td>5000.000000</td>\n",
       "      <td>5000.000000</td>\n",
       "    </tr>\n",
       "    <tr>\n",
       "      <th>mean</th>\n",
       "      <td>0.881685</td>\n",
       "      <td>0.000507</td>\n",
       "      <td>0.00060</td>\n",
       "      <td>0.002000</td>\n",
       "      <td>0.00060</td>\n",
       "      <td>0.001774</td>\n",
       "      <td>0.004720</td>\n",
       "      <td>0.684637</td>\n",
       "      <td>0.757887</td>\n",
       "    </tr>\n",
       "    <tr>\n",
       "      <th>std</th>\n",
       "      <td>0.264929</td>\n",
       "      <td>0.015171</td>\n",
       "      <td>0.02449</td>\n",
       "      <td>0.034587</td>\n",
       "      <td>0.02449</td>\n",
       "      <td>0.016238</td>\n",
       "      <td>0.049077</td>\n",
       "      <td>0.068007</td>\n",
       "      <td>0.118060</td>\n",
       "    </tr>\n",
       "    <tr>\n",
       "      <th>min</th>\n",
       "      <td>0.000000</td>\n",
       "      <td>0.000000</td>\n",
       "      <td>0.00000</td>\n",
       "      <td>0.000000</td>\n",
       "      <td>0.00000</td>\n",
       "      <td>0.000000</td>\n",
       "      <td>0.000000</td>\n",
       "      <td>0.000000</td>\n",
       "      <td>0.000000</td>\n",
       "    </tr>\n",
       "    <tr>\n",
       "      <th>25%</th>\n",
       "      <td>0.952636</td>\n",
       "      <td>0.000000</td>\n",
       "      <td>0.00000</td>\n",
       "      <td>0.000000</td>\n",
       "      <td>0.00000</td>\n",
       "      <td>0.000000</td>\n",
       "      <td>0.000000</td>\n",
       "      <td>0.644532</td>\n",
       "      <td>0.698002</td>\n",
       "    </tr>\n",
       "    <tr>\n",
       "      <th>50%</th>\n",
       "      <td>0.962374</td>\n",
       "      <td>0.000000</td>\n",
       "      <td>0.00000</td>\n",
       "      <td>0.000000</td>\n",
       "      <td>0.00000</td>\n",
       "      <td>0.000000</td>\n",
       "      <td>0.000000</td>\n",
       "      <td>0.690820</td>\n",
       "      <td>0.763585</td>\n",
       "    </tr>\n",
       "    <tr>\n",
       "      <th>75%</th>\n",
       "      <td>0.972174</td>\n",
       "      <td>0.000000</td>\n",
       "      <td>0.00000</td>\n",
       "      <td>0.000000</td>\n",
       "      <td>0.00000</td>\n",
       "      <td>0.000182</td>\n",
       "      <td>0.000000</td>\n",
       "      <td>0.732213</td>\n",
       "      <td>0.842347</td>\n",
       "    </tr>\n",
       "    <tr>\n",
       "      <th>max</th>\n",
       "      <td>1.000000</td>\n",
       "      <td>1.000000</td>\n",
       "      <td>1.00000</td>\n",
       "      <td>1.000000</td>\n",
       "      <td>1.00000</td>\n",
       "      <td>1.000000</td>\n",
       "      <td>1.000000</td>\n",
       "      <td>1.000000</td>\n",
       "      <td>1.000000</td>\n",
       "    </tr>\n",
       "  </tbody>\n",
       "</table>\n",
       "</div>"
      ],
      "text/plain": [
       "       BEGIN_DATE_TIME  INJURIES_DIRECT  INJURIES_INDIRECT  DEATHS_DIRECT  \\\n",
       "count      5000.000000      5000.000000         5000.00000    5000.000000   \n",
       "mean          0.881685         0.000507            0.00060       0.002000   \n",
       "std           0.264929         0.015171            0.02449       0.034587   \n",
       "min           0.000000         0.000000            0.00000       0.000000   \n",
       "25%           0.952636         0.000000            0.00000       0.000000   \n",
       "50%           0.962374         0.000000            0.00000       0.000000   \n",
       "75%           0.972174         0.000000            0.00000       0.000000   \n",
       "max           1.000000         1.000000            1.00000       1.000000   \n",
       "\n",
       "       DEATHS_INDIRECT  DAMAGE_PROPERTY  DAMAGE_CROPS     LATITUDE  \\\n",
       "count       5000.00000      5000.000000   5000.000000  5000.000000   \n",
       "mean           0.00060         0.001774      0.004720     0.684637   \n",
       "std            0.02449         0.016238      0.049077     0.068007   \n",
       "min            0.00000         0.000000      0.000000     0.000000   \n",
       "25%            0.00000         0.000000      0.000000     0.644532   \n",
       "50%            0.00000         0.000000      0.000000     0.690820   \n",
       "75%            0.00000         0.000182      0.000000     0.732213   \n",
       "max            1.00000         1.000000      1.000000     1.000000   \n",
       "\n",
       "         LONGITUDE  \n",
       "count  5000.000000  \n",
       "mean      0.757887  \n",
       "std       0.118060  \n",
       "min       0.000000  \n",
       "25%       0.698002  \n",
       "50%       0.763585  \n",
       "75%       0.842347  \n",
       "max       1.000000  "
      ]
     },
     "execution_count": 74,
     "metadata": {},
     "output_type": "execute_result"
    }
   ],
   "source": [
    "storm_df_small.describe()"
   ]
  },
  {
   "cell_type": "code",
   "execution_count": 75,
   "metadata": {
    "id": "6BnKyL7OBkET"
   },
   "outputs": [],
   "source": [
    "y_storms = y.values"
   ]
  },
  {
   "cell_type": "code",
   "execution_count": 76,
   "metadata": {
    "id": "uxQRSopUzQQK"
   },
   "outputs": [
    {
     "data": {
      "text/plain": [
       "BEGIN_DATE_TIME      0.264929\n",
       "INJURIES_DIRECT      0.015171\n",
       "INJURIES_INDIRECT    0.024490\n",
       "DEATHS_DIRECT        0.034587\n",
       "DEATHS_INDIRECT      0.024490\n",
       "DAMAGE_PROPERTY      0.016238\n",
       "DAMAGE_CROPS         0.049077\n",
       "LATITUDE             0.068007\n",
       "LONGITUDE            0.118060\n",
       "dtype: float64"
      ]
     },
     "execution_count": 76,
     "metadata": {},
     "output_type": "execute_result"
    }
   ],
   "source": [
    "standard_devs = storm_df_small.std()\n",
    "standard_devs"
   ]
  },
  {
   "cell_type": "code",
   "execution_count": 77,
   "metadata": {
    "id": "tInS8cIIz5J4"
   },
   "outputs": [
    {
     "data": {
      "text/plain": [
       "BEGIN_DATE_TIME      0.881685\n",
       "INJURIES_DIRECT      0.000507\n",
       "INJURIES_INDIRECT    0.000600\n",
       "DEATHS_DIRECT        0.002000\n",
       "DEATHS_INDIRECT      0.000600\n",
       "DAMAGE_PROPERTY      0.001774\n",
       "DAMAGE_CROPS         0.004720\n",
       "LATITUDE             0.684637\n",
       "LONGITUDE            0.757887\n",
       "dtype: float64"
      ]
     },
     "execution_count": 77,
     "metadata": {},
     "output_type": "execute_result"
    }
   ],
   "source": [
    "averages = storm_df_small.mean()\n",
    "averages"
   ]
  },
  {
   "cell_type": "markdown",
   "metadata": {
    "id": "uYffNd16zojm"
   },
   "source": [
    "### B1.2 Remove outliers from columns based on standard dev.\n",
    "In the dataset, we decide to drop values which are beyond 3 std from the mean for all columns except the `LATITUDE`, `LONGITUDE` and `BEGIN_DATE_TIME`. \n",
    "\n",
    "\n"
   ]
  },
  {
   "cell_type": "markdown",
   "metadata": {
    "id": "mDIvNNYjbMaw"
   },
   "source": [
    "We want to remove elements from the second to the 7th column listed in that list."
   ]
  },
  {
   "cell_type": "code",
   "execution_count": 78,
   "metadata": {
    "id": "dPP1l7C10T2u"
   },
   "outputs": [
    {
     "name": "stdout",
     "output_type": "stream",
     "text": [
      "Dropping outliers from INJURIES_DIRECT\n",
      "Dropping outliers from INJURIES_INDIRECT\n",
      "Dropping outliers from DEATHS_DIRECT\n",
      "Dropping outliers from DEATHS_INDIRECT\n",
      "Dropping outliers from DAMAGE_PROPERTY\n",
      "Dropping outliers from DAMAGE_CROPS\n",
      "Total dropped: 104\n"
     ]
    }
   ],
   "source": [
    "clean_df = storm_df_small.copy()\n",
    "N_std = 3\n",
    "dropped = storm_df_small.count()[0] - clean_df.count()[0]\n",
    "total_dropped = 0\n",
    "\n",
    "for col_label in clean_df.columns.values.tolist()[1:-2]:\n",
    "    print('Dropping outliers from', col_label)\n",
    "    clean_df.drop(clean_df[abs(clean_df[col_label]-averages[col_label]) > N_std*standard_devs[col_label]].index, inplace = True)\n",
    "print('Total dropped:', storm_df_small.count()[0] - clean_df.count()[0])\n"
   ]
  },
  {
   "cell_type": "code",
   "execution_count": 79,
   "metadata": {
    "id": "cPKsPCf41zZU"
   },
   "outputs": [],
   "source": [
    "clean_df\n",
    "y_clean = []\n",
    "for ind in clean_df.index:\n",
    "  y_clean.append(y_storms[ind])\n"
   ]
  },
  {
   "cell_type": "code",
   "execution_count": 80,
   "metadata": {
    "id": "jh_UAefU_0v3"
   },
   "outputs": [
    {
     "data": {
      "text/plain": [
       "4896"
      ]
     },
     "execution_count": 80,
     "metadata": {},
     "output_type": "execute_result"
    }
   ],
   "source": [
    "len(y_clean)"
   ]
  },
  {
   "cell_type": "markdown",
   "metadata": {
    "id": "PJ5P4A3A30nz"
   },
   "source": [
    "### B1.3 Use PCA to reduce to 2 dimensions\n",
    "Let's go back to clustering this new dataset with k-means and compute the Silhouette score."
   ]
  },
  {
   "cell_type": "code",
   "execution_count": 81,
   "metadata": {
    "id": "NJTeQ7ZS9Gju"
   },
   "outputs": [
    {
     "data": {
      "text/html": [
       "<div>\n",
       "<style scoped>\n",
       "    .dataframe tbody tr th:only-of-type {\n",
       "        vertical-align: middle;\n",
       "    }\n",
       "\n",
       "    .dataframe tbody tr th {\n",
       "        vertical-align: top;\n",
       "    }\n",
       "\n",
       "    .dataframe thead th {\n",
       "        text-align: right;\n",
       "    }\n",
       "</style>\n",
       "<table border=\"1\" class=\"dataframe\">\n",
       "  <thead>\n",
       "    <tr style=\"text-align: right;\">\n",
       "      <th></th>\n",
       "      <th>PCA 1</th>\n",
       "      <th>PCA 2</th>\n",
       "      <th>EVENT_TYPE</th>\n",
       "    </tr>\n",
       "  </thead>\n",
       "  <tbody>\n",
       "    <tr>\n",
       "      <th>0</th>\n",
       "      <td>-0.080076</td>\n",
       "      <td>-0.069305</td>\n",
       "      <td>Thunderstorm Wind</td>\n",
       "    </tr>\n",
       "    <tr>\n",
       "      <th>1</th>\n",
       "      <td>-0.095848</td>\n",
       "      <td>0.050226</td>\n",
       "      <td>Flood</td>\n",
       "    </tr>\n",
       "    <tr>\n",
       "      <th>2</th>\n",
       "      <td>-0.106258</td>\n",
       "      <td>-0.115982</td>\n",
       "      <td>Flood</td>\n",
       "    </tr>\n",
       "    <tr>\n",
       "      <th>3</th>\n",
       "      <td>-0.077351</td>\n",
       "      <td>0.094007</td>\n",
       "      <td>Heavy Rain</td>\n",
       "    </tr>\n",
       "    <tr>\n",
       "      <th>4</th>\n",
       "      <td>-0.082034</td>\n",
       "      <td>-0.011296</td>\n",
       "      <td>Hail</td>\n",
       "    </tr>\n",
       "    <tr>\n",
       "      <th>...</th>\n",
       "      <td>...</td>\n",
       "      <td>...</td>\n",
       "      <td>...</td>\n",
       "    </tr>\n",
       "    <tr>\n",
       "      <th>4891</th>\n",
       "      <td>-0.094142</td>\n",
       "      <td>-0.106105</td>\n",
       "      <td>Thunderstorm Wind</td>\n",
       "    </tr>\n",
       "    <tr>\n",
       "      <th>4892</th>\n",
       "      <td>-0.087979</td>\n",
       "      <td>-0.050298</td>\n",
       "      <td>Hail</td>\n",
       "    </tr>\n",
       "    <tr>\n",
       "      <th>4893</th>\n",
       "      <td>-0.077637</td>\n",
       "      <td>0.098002</td>\n",
       "      <td>Thunderstorm Wind</td>\n",
       "    </tr>\n",
       "    <tr>\n",
       "      <th>4894</th>\n",
       "      <td>-0.079690</td>\n",
       "      <td>-0.013574</td>\n",
       "      <td>Thunderstorm Wind</td>\n",
       "    </tr>\n",
       "    <tr>\n",
       "      <th>4895</th>\n",
       "      <td>-0.054849</td>\n",
       "      <td>-0.223293</td>\n",
       "      <td>Flood</td>\n",
       "    </tr>\n",
       "  </tbody>\n",
       "</table>\n",
       "<p>4896 rows × 3 columns</p>\n",
       "</div>"
      ],
      "text/plain": [
       "         PCA 1     PCA 2         EVENT_TYPE\n",
       "0    -0.080076 -0.069305  Thunderstorm Wind\n",
       "1    -0.095848  0.050226              Flood\n",
       "2    -0.106258 -0.115982              Flood\n",
       "3    -0.077351  0.094007         Heavy Rain\n",
       "4    -0.082034 -0.011296               Hail\n",
       "...        ...       ...                ...\n",
       "4891 -0.094142 -0.106105  Thunderstorm Wind\n",
       "4892 -0.087979 -0.050298               Hail\n",
       "4893 -0.077637  0.098002  Thunderstorm Wind\n",
       "4894 -0.079690 -0.013574  Thunderstorm Wind\n",
       "4895 -0.054849 -0.223293              Flood\n",
       "\n",
       "[4896 rows x 3 columns]"
      ]
     },
     "execution_count": 81,
     "metadata": {},
     "output_type": "execute_result"
    }
   ],
   "source": [
    "# reduce dimensionality\n",
    "pca_drop = decomposition.PCA(n_components=2)\n",
    "pca_drop.fit(clean_df)\n",
    "principalComponents_drop = pca.transform(clean_df)\n",
    "\n",
    "\n",
    "# save in a dataframe\n",
    "principal_df_drop = pd.DataFrame(data = principalComponents_drop, columns = ['PCA 1', 'PCA 2'])\n",
    "principal_df_drop['EVENT_TYPE'] = y_clean\n",
    "\n",
    "principal_df_drop"
   ]
  },
  {
   "cell_type": "code",
   "execution_count": 82,
   "metadata": {
    "id": "FXPuRp3_9Ddv"
   },
   "outputs": [
    {
     "name": "stdout",
     "output_type": "stream",
     "text": [
      "explained variance ratio (first two components): [0.78158318 0.16447314]\n"
     ]
    }
   ],
   "source": [
    "# Percentage of variance explained for each components\n",
    "print(\n",
    "    \"explained variance ratio (first two components): %s\"\n",
    "    % str(pca_drop.explained_variance_ratio_)\n",
    ")\n"
   ]
  },
  {
   "cell_type": "markdown",
   "metadata": {
    "id": "gr44MWmJxhqM"
   },
   "source": [
    "### B1.4 Use KMeans to cluster between 2 and 25 clusters"
   ]
  },
  {
   "cell_type": "code",
   "execution_count": 83,
   "metadata": {
    "id": "u6utnfto36CV"
   },
   "outputs": [
    {
     "name": "stdout",
     "output_type": "stream",
     "text": [
      "Searching for 2 clusters with k-means.\n",
      "Searching for 3 clusters with k-means.\n",
      "Searching for 4 clusters with k-means.\n",
      "Searching for 5 clusters with k-means.\n",
      "Searching for 6 clusters with k-means.\n",
      "Searching for 7 clusters with k-means.\n",
      "Searching for 8 clusters with k-means.\n",
      "Searching for 9 clusters with k-means.\n",
      "Searching for 10 clusters with k-means.\n",
      "Searching for 11 clusters with k-means.\n",
      "Searching for 12 clusters with k-means.\n",
      "Searching for 13 clusters with k-means.\n",
      "Searching for 14 clusters with k-means.\n",
      "Searching for 15 clusters with k-means.\n",
      "Searching for 16 clusters with k-means.\n",
      "Searching for 17 clusters with k-means.\n",
      "Searching for 18 clusters with k-means.\n",
      "Searching for 19 clusters with k-means.\n",
      "Searching for 20 clusters with k-means.\n",
      "Searching for 21 clusters with k-means.\n",
      "Searching for 22 clusters with k-means.\n",
      "Searching for 23 clusters with k-means.\n",
      "Searching for 24 clusters with k-means.\n"
     ]
    }
   ],
   "source": [
    "X_df_drop = principal_df_drop.drop('EVENT_TYPE', axis=1)\n",
    "sil_score_drop = []                                   # Define an empty list\n",
    "for num_clust in range(2, 25):                # Iterate in range 2 to 25 clusters as input choice \n",
    "    print(\"Searching for\", num_clust, \"clusters with k-means.\")\n",
    "    kmeans = KMeans(n_clusters = num_clust)   # Create kmeans clustering object for num_clust\n",
    "    label = kmeans.fit_predict(X_df_drop)          # Find the labels (0 - cluster 1, 1 - cluster 2, ...., N-1 for cluster N)\n",
    "    sil_score_drop.append(silhouette_score(X_df_drop, kmeans.labels_))  "
   ]
  },
  {
   "cell_type": "markdown",
   "metadata": {
    "id": "bWB-4pmYxm4K"
   },
   "source": [
    "### B1.5 Compare the silhouette score to the one you had prior to dropping outliers"
   ]
  },
  {
   "cell_type": "code",
   "execution_count": 84,
   "metadata": {
    "id": "1_qy-iRA9Xwj"
   },
   "outputs": [
    {
     "name": "stderr",
     "output_type": "stream",
     "text": [
      "/opt/anaconda3/envs/plotting/lib/python3.6/site-packages/ipykernel_launcher.py:8: UserWarning: Matplotlib is currently using module://ipykernel.pylab.backend_inline, which is a non-GUI backend, so cannot show the figure.\n",
      "  \n"
     ]
    },
    {
     "data": {
      "image/png": "[encoded data removed]",
      "text/plain": [
       "<Figure size 360x288 with 1 Axes>"
      ]
     },
     "metadata": {
      "needs_background": "light"
     },
     "output_type": "display_data"
    }
   ],
   "source": [
    "ks_drop = np.linspace(2, 25, len(sil_score_drop))\n",
    "fig, ax = plt.subplots(1, figsize=(5,4))\n",
    "ax.plot(ks_drop, sil_score_drop, '--o', color='darkorchid', label='dropped data')\n",
    "ax.plot(ks, sil_score, ':x', color='blue', label = 'original data')\n",
    "ax.set_xlabel('$k$')\n",
    "ax.set_ylabel('Silhouette score')\n",
    "fig.legend(loc='upper right')\n",
    "fig.show()"
   ]
  },
  {
   "cell_type": "code",
   "execution_count": 85,
   "metadata": {
    "id": "OqixKuW-Ca3v"
   },
   "outputs": [
    {
     "name": "stdout",
     "output_type": "stream",
     "text": [
      "Index of max sil score with drop: 0 Value: 0.8690132644729807\n",
      "Index of max sil score without drop: 0 Value: 0.8693565184510049\n"
     ]
    }
   ],
   "source": [
    "print(\"Index of max sil score with drop:\", sil_score_drop.index(max(sil_score_drop)), \"Value:\",  max(sil_score_drop))\n",
    "print(\"Index of max sil score without drop:\", sil_score.index(max(sil_score)),\"Value:\",  max(sil_score))"
   ]
  },
  {
   "cell_type": "markdown",
   "metadata": {
    "id": "dalYeW3bela7"
   },
   "source": [
    "We see that the silhouette score does not change significantly and the optimal number of clusters remain the same. This most likely means that the outliers were not biasing our algorithm. Try it while also including longitude and latitude outliers."
   ]
  },
  {
   "cell_type": "markdown",
   "metadata": {
    "id": "jifTubojzPax"
   },
   "source": [
    "## Exercise 2: Clustering with DBSCAN\n",
    "\n",
    "Have a look at the scikit-learn function to cluster using the [DBSCAN method](https://en.wikipedia.org/wiki/DBSCAN#Algorithm) which is implemented in [scikit-learn](https://scikit-learn.org/stable/modules/generated/sklearn.cluster.DBSCAN.html). You can find an example problem [here](https://scikit-learn.org/stable/auto_examples/cluster/plot_dbscan.html#sphx-glr-auto-examples-cluster-plot-dbscan-py)\n",
    "\n",
    "Here you will not need to set a fixed number of clusters. Use all the data, include the onehotencoded `EVENT_TYPE` in your x-values. \n",
    "* Add the `EVENT_TYPE` to x-values by using onehotencoding\n",
    "* Compute the number of clusters, NC, with DBSCAN\n",
    "* Plot these in 3D\n",
    "* Compare to results you would get is you used k-means with k=NC; does the silhouette score differ?\n",
    "* According to you what is the advantage respect to k-means clustering?\n",
    "* What do the clusters mean?"
   ]
  },
  {
   "cell_type": "markdown",
   "metadata": {
    "id": "fYPVB-YQrAwp"
   },
   "source": [
    "#### B2.1 Add the `EVENT_TYPE` values in the onehotencoded representation"
   ]
  },
  {
   "cell_type": "code",
   "execution_count": 86,
   "metadata": {
    "id": "VY1cfwQ_iflH"
   },
   "outputs": [
    {
     "data": {
      "text/html": [
       "<div>\n",
       "<style scoped>\n",
       "    .dataframe tbody tr th:only-of-type {\n",
       "        vertical-align: middle;\n",
       "    }\n",
       "\n",
       "    .dataframe tbody tr th {\n",
       "        vertical-align: top;\n",
       "    }\n",
       "\n",
       "    .dataframe thead th {\n",
       "        text-align: right;\n",
       "    }\n",
       "</style>\n",
       "<table border=\"1\" class=\"dataframe\">\n",
       "  <thead>\n",
       "    <tr style=\"text-align: right;\">\n",
       "      <th></th>\n",
       "      <th>BEGIN_DATE_TIME</th>\n",
       "      <th>INJURIES_DIRECT</th>\n",
       "      <th>INJURIES_INDIRECT</th>\n",
       "      <th>DEATHS_DIRECT</th>\n",
       "      <th>DEATHS_INDIRECT</th>\n",
       "      <th>DAMAGE_PROPERTY</th>\n",
       "      <th>DAMAGE_CROPS</th>\n",
       "      <th>LATITUDE</th>\n",
       "      <th>LONGITUDE</th>\n",
       "      <th>x0_Debris Flow</th>\n",
       "      <th>...</th>\n",
       "      <th>x0_Funnel Cloud</th>\n",
       "      <th>x0_Hail</th>\n",
       "      <th>x0_Heavy Rain</th>\n",
       "      <th>x0_Lightning</th>\n",
       "      <th>x0_Marine Hail</th>\n",
       "      <th>x0_Marine High Wind</th>\n",
       "      <th>x0_Marine Thunderstorm Wind</th>\n",
       "      <th>x0_Thunderstorm Wind</th>\n",
       "      <th>x0_Tornado</th>\n",
       "      <th>x0_Waterspout</th>\n",
       "    </tr>\n",
       "  </thead>\n",
       "  <tbody>\n",
       "    <tr>\n",
       "      <th>count</th>\n",
       "      <td>5000.000000</td>\n",
       "      <td>5000.000000</td>\n",
       "      <td>5000.00000</td>\n",
       "      <td>5000.000000</td>\n",
       "      <td>5000.00000</td>\n",
       "      <td>5000.000000</td>\n",
       "      <td>5000.000000</td>\n",
       "      <td>5000.000000</td>\n",
       "      <td>5000.000000</td>\n",
       "      <td>5000.000000</td>\n",
       "      <td>...</td>\n",
       "      <td>5000.000000</td>\n",
       "      <td>5000.000000</td>\n",
       "      <td>5000.000000</td>\n",
       "      <td>5000.000000</td>\n",
       "      <td>5000.000000</td>\n",
       "      <td>5000.000000</td>\n",
       "      <td>5000.000000</td>\n",
       "      <td>5000.000000</td>\n",
       "      <td>5000.000000</td>\n",
       "      <td>5000.000000</td>\n",
       "    </tr>\n",
       "    <tr>\n",
       "      <th>mean</th>\n",
       "      <td>0.881685</td>\n",
       "      <td>0.000507</td>\n",
       "      <td>0.00060</td>\n",
       "      <td>0.002000</td>\n",
       "      <td>0.00060</td>\n",
       "      <td>0.001774</td>\n",
       "      <td>0.004720</td>\n",
       "      <td>0.684637</td>\n",
       "      <td>0.757887</td>\n",
       "      <td>0.002800</td>\n",
       "      <td>...</td>\n",
       "      <td>0.011000</td>\n",
       "      <td>0.210600</td>\n",
       "      <td>0.048600</td>\n",
       "      <td>0.009800</td>\n",
       "      <td>0.000400</td>\n",
       "      <td>0.000200</td>\n",
       "      <td>0.042200</td>\n",
       "      <td>0.354400</td>\n",
       "      <td>0.034000</td>\n",
       "      <td>0.006000</td>\n",
       "    </tr>\n",
       "    <tr>\n",
       "      <th>std</th>\n",
       "      <td>0.264929</td>\n",
       "      <td>0.015171</td>\n",
       "      <td>0.02449</td>\n",
       "      <td>0.034587</td>\n",
       "      <td>0.02449</td>\n",
       "      <td>0.016238</td>\n",
       "      <td>0.049077</td>\n",
       "      <td>0.068007</td>\n",
       "      <td>0.118060</td>\n",
       "      <td>0.052846</td>\n",
       "      <td>...</td>\n",
       "      <td>0.104313</td>\n",
       "      <td>0.407776</td>\n",
       "      <td>0.215052</td>\n",
       "      <td>0.098519</td>\n",
       "      <td>0.019998</td>\n",
       "      <td>0.014142</td>\n",
       "      <td>0.201065</td>\n",
       "      <td>0.478379</td>\n",
       "      <td>0.181247</td>\n",
       "      <td>0.077235</td>\n",
       "    </tr>\n",
       "    <tr>\n",
       "      <th>min</th>\n",
       "      <td>0.000000</td>\n",
       "      <td>0.000000</td>\n",
       "      <td>0.00000</td>\n",
       "      <td>0.000000</td>\n",
       "      <td>0.00000</td>\n",
       "      <td>0.000000</td>\n",
       "      <td>0.000000</td>\n",
       "      <td>0.000000</td>\n",
       "      <td>0.000000</td>\n",
       "      <td>0.000000</td>\n",
       "      <td>...</td>\n",
       "      <td>0.000000</td>\n",
       "      <td>0.000000</td>\n",
       "      <td>0.000000</td>\n",
       "      <td>0.000000</td>\n",
       "      <td>0.000000</td>\n",
       "      <td>0.000000</td>\n",
       "      <td>0.000000</td>\n",
       "      <td>0.000000</td>\n",
       "      <td>0.000000</td>\n",
       "      <td>0.000000</td>\n",
       "    </tr>\n",
       "    <tr>\n",
       "      <th>25%</th>\n",
       "      <td>0.952636</td>\n",
       "      <td>0.000000</td>\n",
       "      <td>0.00000</td>\n",
       "      <td>0.000000</td>\n",
       "      <td>0.00000</td>\n",
       "      <td>0.000000</td>\n",
       "      <td>0.000000</td>\n",
       "      <td>0.644532</td>\n",
       "      <td>0.698002</td>\n",
       "      <td>0.000000</td>\n",
       "      <td>...</td>\n",
       "      <td>0.000000</td>\n",
       "      <td>0.000000</td>\n",
       "      <td>0.000000</td>\n",
       "      <td>0.000000</td>\n",
       "      <td>0.000000</td>\n",
       "      <td>0.000000</td>\n",
       "      <td>0.000000</td>\n",
       "      <td>0.000000</td>\n",
       "      <td>0.000000</td>\n",
       "      <td>0.000000</td>\n",
       "    </tr>\n",
       "    <tr>\n",
       "      <th>50%</th>\n",
       "      <td>0.962374</td>\n",
       "      <td>0.000000</td>\n",
       "      <td>0.00000</td>\n",
       "      <td>0.000000</td>\n",
       "      <td>0.00000</td>\n",
       "      <td>0.000000</td>\n",
       "      <td>0.000000</td>\n",
       "      <td>0.690820</td>\n",
       "      <td>0.763585</td>\n",
       "      <td>0.000000</td>\n",
       "      <td>...</td>\n",
       "      <td>0.000000</td>\n",
       "      <td>0.000000</td>\n",
       "      <td>0.000000</td>\n",
       "      <td>0.000000</td>\n",
       "      <td>0.000000</td>\n",
       "      <td>0.000000</td>\n",
       "      <td>0.000000</td>\n",
       "      <td>0.000000</td>\n",
       "      <td>0.000000</td>\n",
       "      <td>0.000000</td>\n",
       "    </tr>\n",
       "    <tr>\n",
       "      <th>75%</th>\n",
       "      <td>0.972174</td>\n",
       "      <td>0.000000</td>\n",
       "      <td>0.00000</td>\n",
       "      <td>0.000000</td>\n",
       "      <td>0.00000</td>\n",
       "      <td>0.000182</td>\n",
       "      <td>0.000000</td>\n",
       "      <td>0.732213</td>\n",
       "      <td>0.842347</td>\n",
       "      <td>0.000000</td>\n",
       "      <td>...</td>\n",
       "      <td>0.000000</td>\n",
       "      <td>0.000000</td>\n",
       "      <td>0.000000</td>\n",
       "      <td>0.000000</td>\n",
       "      <td>0.000000</td>\n",
       "      <td>0.000000</td>\n",
       "      <td>0.000000</td>\n",
       "      <td>1.000000</td>\n",
       "      <td>0.000000</td>\n",
       "      <td>0.000000</td>\n",
       "    </tr>\n",
       "    <tr>\n",
       "      <th>max</th>\n",
       "      <td>1.000000</td>\n",
       "      <td>1.000000</td>\n",
       "      <td>1.00000</td>\n",
       "      <td>1.000000</td>\n",
       "      <td>1.00000</td>\n",
       "      <td>1.000000</td>\n",
       "      <td>1.000000</td>\n",
       "      <td>1.000000</td>\n",
       "      <td>1.000000</td>\n",
       "      <td>1.000000</td>\n",
       "      <td>...</td>\n",
       "      <td>1.000000</td>\n",
       "      <td>1.000000</td>\n",
       "      <td>1.000000</td>\n",
       "      <td>1.000000</td>\n",
       "      <td>1.000000</td>\n",
       "      <td>1.000000</td>\n",
       "      <td>1.000000</td>\n",
       "      <td>1.000000</td>\n",
       "      <td>1.000000</td>\n",
       "      <td>1.000000</td>\n",
       "    </tr>\n",
       "  </tbody>\n",
       "</table>\n",
       "<p>8 rows × 23 columns</p>\n",
       "</div>"
      ],
      "text/plain": [
       "       BEGIN_DATE_TIME  INJURIES_DIRECT  INJURIES_INDIRECT  DEATHS_DIRECT  \\\n",
       "count      5000.000000      5000.000000         5000.00000    5000.000000   \n",
       "mean          0.881685         0.000507            0.00060       0.002000   \n",
       "std           0.264929         0.015171            0.02449       0.034587   \n",
       "min           0.000000         0.000000            0.00000       0.000000   \n",
       "25%           0.952636         0.000000            0.00000       0.000000   \n",
       "50%           0.962374         0.000000            0.00000       0.000000   \n",
       "75%           0.972174         0.000000            0.00000       0.000000   \n",
       "max           1.000000         1.000000            1.00000       1.000000   \n",
       "\n",
       "       DEATHS_INDIRECT  DAMAGE_PROPERTY  DAMAGE_CROPS     LATITUDE  \\\n",
       "count       5000.00000      5000.000000   5000.000000  5000.000000   \n",
       "mean           0.00060         0.001774      0.004720     0.684637   \n",
       "std            0.02449         0.016238      0.049077     0.068007   \n",
       "min            0.00000         0.000000      0.000000     0.000000   \n",
       "25%            0.00000         0.000000      0.000000     0.644532   \n",
       "50%            0.00000         0.000000      0.000000     0.690820   \n",
       "75%            0.00000         0.000182      0.000000     0.732213   \n",
       "max            1.00000         1.000000      1.000000     1.000000   \n",
       "\n",
       "         LONGITUDE  x0_Debris Flow  ...  x0_Funnel Cloud      x0_Hail  \\\n",
       "count  5000.000000     5000.000000  ...      5000.000000  5000.000000   \n",
       "mean      0.757887        0.002800  ...         0.011000     0.210600   \n",
       "std       0.118060        0.052846  ...         0.104313     0.407776   \n",
       "min       0.000000        0.000000  ...         0.000000     0.000000   \n",
       "25%       0.698002        0.000000  ...         0.000000     0.000000   \n",
       "50%       0.763585        0.000000  ...         0.000000     0.000000   \n",
       "75%       0.842347        0.000000  ...         0.000000     0.000000   \n",
       "max       1.000000        1.000000  ...         1.000000     1.000000   \n",
       "\n",
       "       x0_Heavy Rain  x0_Lightning  x0_Marine Hail  x0_Marine High Wind  \\\n",
       "count    5000.000000   5000.000000     5000.000000          5000.000000   \n",
       "mean        0.048600      0.009800        0.000400             0.000200   \n",
       "std         0.215052      0.098519        0.019998             0.014142   \n",
       "min         0.000000      0.000000        0.000000             0.000000   \n",
       "25%         0.000000      0.000000        0.000000             0.000000   \n",
       "50%         0.000000      0.000000        0.000000             0.000000   \n",
       "75%         0.000000      0.000000        0.000000             0.000000   \n",
       "max         1.000000      1.000000        1.000000             1.000000   \n",
       "\n",
       "       x0_Marine Thunderstorm Wind  x0_Thunderstorm Wind   x0_Tornado  \\\n",
       "count                  5000.000000           5000.000000  5000.000000   \n",
       "mean                      0.042200              0.354400     0.034000   \n",
       "std                       0.201065              0.478379     0.181247   \n",
       "min                       0.000000              0.000000     0.000000   \n",
       "25%                       0.000000              0.000000     0.000000   \n",
       "50%                       0.000000              0.000000     0.000000   \n",
       "75%                       0.000000              1.000000     0.000000   \n",
       "max                       1.000000              1.000000     1.000000   \n",
       "\n",
       "       x0_Waterspout  \n",
       "count    5000.000000  \n",
       "mean        0.006000  \n",
       "std         0.077235  \n",
       "min         0.000000  \n",
       "25%         0.000000  \n",
       "50%         0.000000  \n",
       "75%         0.000000  \n",
       "max         1.000000  \n",
       "\n",
       "[8 rows x 23 columns]"
      ]
     },
     "execution_count": 86,
     "metadata": {},
     "output_type": "execute_result"
    }
   ],
   "source": [
    "storm_encoder = OneHotEncoder()        # Add the event_type to X using OneHotEncoding\n",
    "storm_df_all = storm_df_small.copy() \n",
    "storm_df_all[storm_encoder.get_feature_names()] = storm_encoder.fit_transform(y_storms.reshape(-1,1)).toarray()\n",
    "\n",
    "storm_df_all.describe()"
   ]
  },
  {
   "cell_type": "markdown",
   "metadata": {
    "id": "YtlZ-4VxrMJY"
   },
   "source": [
    "#### B2.2 Use PCA to reduce dimensionality from 24 to 3"
   ]
  },
  {
   "cell_type": "code",
   "execution_count": 87,
   "metadata": {
    "id": "8vRdW6WLm5IX"
   },
   "outputs": [
    {
     "name": "stdout",
     "output_type": "stream",
     "text": [
      "[8.81685056e-01 5.07142857e-04 6.00000000e-04 2.00000000e-03\n",
      " 6.00000000e-04 1.77365091e-03 4.72014545e-03 6.84636726e-01\n",
      " 7.57886820e-01 2.80000000e-03 4.00000000e-04 1.34200000e-01\n",
      " 1.45400000e-01 1.10000000e-02 2.10600000e-01 4.86000000e-02\n",
      " 9.80000000e-03 4.00000000e-04 2.00000000e-04 4.22000000e-02\n",
      " 3.54400000e-01 3.40000000e-02 6.00000000e-03]\n"
     ]
    }
   ],
   "source": [
    "# reduce dimensionality to 3 PCA components\n",
    "pca_all = decomposition.PCA(n_components=3)\n",
    "pca_all.fit(storm_df_all)\n",
    "\n",
    "print(pca_all.mean_)\n",
    "principalComponents_all = pca_all.transform(storm_df_all)\n",
    "\n",
    "# save in a dataframe\n",
    "principal_df_all = pd.DataFrame(data = principalComponents_all, columns = ['PCA 1', 'PCA 2', 'PCA 3'])\n"
   ]
  },
  {
   "cell_type": "code",
   "execution_count": 88,
   "metadata": {
    "id": "0q9P0-orjacl"
   },
   "outputs": [
    {
     "data": {
      "text/html": [
       "<div>\n",
       "<style scoped>\n",
       "    .dataframe tbody tr th:only-of-type {\n",
       "        vertical-align: middle;\n",
       "    }\n",
       "\n",
       "    .dataframe tbody tr th {\n",
       "        vertical-align: top;\n",
       "    }\n",
       "\n",
       "    .dataframe thead th {\n",
       "        text-align: right;\n",
       "    }\n",
       "</style>\n",
       "<table border=\"1\" class=\"dataframe\">\n",
       "  <thead>\n",
       "    <tr style=\"text-align: right;\">\n",
       "      <th></th>\n",
       "      <th>PCA 1</th>\n",
       "      <th>PCA 2</th>\n",
       "      <th>PCA 3</th>\n",
       "    </tr>\n",
       "  </thead>\n",
       "  <tbody>\n",
       "    <tr>\n",
       "      <th>count</th>\n",
       "      <td>5.000000e+03</td>\n",
       "      <td>5.000000e+03</td>\n",
       "      <td>5.000000e+03</td>\n",
       "    </tr>\n",
       "    <tr>\n",
       "      <th>mean</th>\n",
       "      <td>2.344791e-17</td>\n",
       "      <td>1.225686e-17</td>\n",
       "      <td>1.278977e-17</td>\n",
       "    </tr>\n",
       "    <tr>\n",
       "      <th>std</th>\n",
       "      <td>5.365701e-01</td>\n",
       "      <td>4.286249e-01</td>\n",
       "      <td>3.733594e-01</td>\n",
       "    </tr>\n",
       "    <tr>\n",
       "      <th>min</th>\n",
       "      <td>-6.649598e-01</td>\n",
       "      <td>-6.520443e-01</td>\n",
       "      <td>-6.349918e-01</td>\n",
       "    </tr>\n",
       "    <tr>\n",
       "      <th>25%</th>\n",
       "      <td>-3.215402e-01</td>\n",
       "      <td>-4.664080e-01</td>\n",
       "      <td>-5.815655e-02</td>\n",
       "    </tr>\n",
       "    <tr>\n",
       "      <th>50%</th>\n",
       "      <td>-2.113540e-01</td>\n",
       "      <td>1.072977e-01</td>\n",
       "      <td>-1.909943e-02</td>\n",
       "    </tr>\n",
       "    <tr>\n",
       "      <th>75%</th>\n",
       "      <td>6.994584e-01</td>\n",
       "      <td>1.219412e-01</td>\n",
       "      <td>3.709776e-02</td>\n",
       "    </tr>\n",
       "    <tr>\n",
       "      <th>max</th>\n",
       "      <td>7.091509e-01</td>\n",
       "      <td>7.880707e-01</td>\n",
       "      <td>8.058936e-01</td>\n",
       "    </tr>\n",
       "  </tbody>\n",
       "</table>\n",
       "</div>"
      ],
      "text/plain": [
       "              PCA 1         PCA 2         PCA 3\n",
       "count  5.000000e+03  5.000000e+03  5.000000e+03\n",
       "mean   2.344791e-17  1.225686e-17  1.278977e-17\n",
       "std    5.365701e-01  4.286249e-01  3.733594e-01\n",
       "min   -6.649598e-01 -6.520443e-01 -6.349918e-01\n",
       "25%   -3.215402e-01 -4.664080e-01 -5.815655e-02\n",
       "50%   -2.113540e-01  1.072977e-01 -1.909943e-02\n",
       "75%    6.994584e-01  1.219412e-01  3.709776e-02\n",
       "max    7.091509e-01  7.880707e-01  8.058936e-01"
      ]
     },
     "execution_count": 88,
     "metadata": {},
     "output_type": "execute_result"
    }
   ],
   "source": [
    "principal_df_all.describe()"
   ]
  },
  {
   "cell_type": "markdown",
   "metadata": {
    "id": "kEG4o7CUrTaT"
   },
   "source": [
    "#### B2.3 Use DBSCAN to search for clusters"
   ]
  },
  {
   "cell_type": "markdown",
   "metadata": {
    "id": "LdVBhJyngrO0"
   },
   "source": [
    "Let's check we have loaded the scikit-learn `DBSCAN` function (section 5.0). We did so we can use it now ..  "
   ]
  },
  {
   "cell_type": "code",
   "execution_count": 89,
   "metadata": {
    "id": "WHAtOWSqft1S"
   },
   "outputs": [],
   "source": [
    "dbscan = DBSCAN(eps=0.3, min_samples=100)\n",
    "labels_db = dbscan.fit_predict(principal_df_all)"
   ]
  },
  {
   "cell_type": "code",
   "execution_count": 90,
   "metadata": {
    "id": "_B3bSkQLhJcO"
   },
   "outputs": [
    {
     "data": {
      "text/plain": [
       "array([0, 1, 1, ..., 0, 0, 1])"
      ]
     },
     "execution_count": 90,
     "metadata": {},
     "output_type": "execute_result"
    }
   ],
   "source": [
    "dbscan.labels_"
   ]
  },
  {
   "cell_type": "code",
   "execution_count": 91,
   "metadata": {
    "id": "UZnkQD_Ej87M"
   },
   "outputs": [],
   "source": [
    "# Number of clusters in labels, ignoring noise if present.\n",
    "n_clusters_ = len(set(labels_db)) - (1 if -1 in labels_db else 0)\n",
    "n_noise_ = list(labels_db).count(-1)"
   ]
  },
  {
   "cell_type": "code",
   "execution_count": 92,
   "metadata": {
    "id": "Kzl9tBaShXR8"
   },
   "outputs": [
    {
     "name": "stdout",
     "output_type": "stream",
     "text": [
      "Estimated number of clusters: 5\n",
      "Estimated number of noise points: 0\n",
      "Silhouette Coefficient:  0.9559574361974477\n"
     ]
    }
   ],
   "source": [
    "print(\"Estimated number of clusters:\", n_clusters_)\n",
    "print(\"Estimated number of noise points:\", n_noise_)\n",
    "print(\"Silhouette Coefficient: \", silhouette_score(principal_df_all, labels_db))"
   ]
  },
  {
   "cell_type": "markdown",
   "metadata": {
    "id": "A86fVRKwrifs"
   },
   "source": [
    "### B2.4 Make a 3D plot of the DBSCAN clusters"
   ]
  },
  {
   "cell_type": "code",
   "execution_count": 93,
   "metadata": {
    "id": "xejcEj86lFCs"
   },
   "outputs": [
    {
     "name": "stderr",
     "output_type": "stream",
     "text": [
      "/opt/anaconda3/envs/plotting/lib/python3.6/site-packages/ipykernel_launcher.py:18: UserWarning: Matplotlib is currently using module://ipykernel.pylab.backend_inline, which is a non-GUI backend, so cannot show the figure.\n"
     ]
    },
    {
     "data": {
      "image/png": "[encoded data removed]",
      "text/plain": [
       "<Figure size 1080x720 with 1 Axes>"
      ]
     },
     "metadata": {
      "needs_background": "light"
     },
     "output_type": "display_data"
    }
   ],
   "source": [
    "NC = n_clusters_\n",
    "fig = plt.figure(figsize=(15,10))\n",
    "ax = fig.add_subplot(projection='3d')\n",
    "fig.tight_layout()\n",
    "colors = [cm.Set1(i) for i in np.linspace(0, 0.9, NC)]\n",
    "clusters_db = [principal_df_all[labels_db == i] for i in range(NC) ]\n",
    "\n",
    "for i, color in enumerate(colors):\n",
    "  ax.plot(clusters_db[i]['PCA 1'], clusters_db[i]['PCA 2'], clusters_db[i]['PCA 3'], \n",
    "          marker=markers[i], lw=0, c=color, alpha=0.8, label='cluster '+str(i))\n",
    " \n",
    "ax.set_xlabel('\\nPCA 1', linespacing=5)\n",
    "ax.set_ylabel('\\nPCA 2', linespacing=5)\n",
    "ax.set_zlabel('\\nPCA 3', linespacing=5)\n",
    "\n",
    "ax.legend(ncol=NC)\n",
    "\n",
    "fig.show()"
   ]
  },
  {
   "cell_type": "markdown",
   "metadata": {
    "id": "pjlh-8c5rqnj"
   },
   "source": [
    "### B2.5 Compare to k-means"
   ]
  },
  {
   "cell_type": "code",
   "execution_count": 94,
   "metadata": {
    "id": "_5uxQDWsoWTE"
   },
   "outputs": [
    {
     "name": "stdout",
     "output_type": "stream",
     "text": [
      "Selected number of clusters: 5\n",
      "Silhouette Coefficient:  0.9559574361974477\n"
     ]
    }
   ],
   "source": [
    "kmeans = KMeans(n_clusters = n_clusters_)\n",
    "labels_km = kmeans.fit_predict(principal_df_all)\n",
    "\n",
    "print(\"Selected number of clusters:\", n_clusters_)\n",
    "print(\"Silhouette Coefficient: \", silhouette_score(principal_df_all, labels_km))"
   ]
  },
  {
   "cell_type": "markdown",
   "metadata": {
    "id": "a2xrWWGi92fU"
   },
   "source": [
    "Here we get the exact same Silhouette Coefficient! However, to find this number we would need to iterate over a range of possible clusters."
   ]
  },
  {
   "cell_type": "code",
   "execution_count": 95,
   "metadata": {
    "id": "lZ4ixBAosmoa"
   },
   "outputs": [],
   "source": [
    "sil_score_km = []\n",
    "for i in range(2,25):\n",
    "  kmeans = KMeans(n_clusters = i)\n",
    "  labels_km = kmeans.fit_predict(principal_df_all)\n",
    "  sil_score_km.append(silhouette_score(principal_df_all, labels_km))\n",
    "\n"
   ]
  },
  {
   "cell_type": "code",
   "execution_count": 96,
   "metadata": {
    "id": "MUK_Ipris8Xi"
   },
   "outputs": [
    {
     "name": "stderr",
     "output_type": "stream",
     "text": [
      "/opt/anaconda3/envs/plotting/lib/python3.6/site-packages/ipykernel_launcher.py:8: UserWarning: Matplotlib is currently using module://ipykernel.pylab.backend_inline, which is a non-GUI backend, so cannot show the figure.\n",
      "  \n"
     ]
    },
    {
     "data": {
      "image/png": "[encoded data removed]",
      "text/plain": [
       "<Figure size 360x288 with 1 Axes>"
      ]
     },
     "metadata": {
      "needs_background": "light"
     },
     "output_type": "display_data"
    }
   ],
   "source": [
    "ks = np.linspace(2, 25, len(sil_score_km))\n",
    "fig, ax = plt.subplots(1, figsize=(5,4))\n",
    "ax.plot(ks, sil_score_km, '--o', color='darkorchid')\n",
    "\n",
    "ax.set_xlabel('$k$')\n",
    "ax.set_ylabel('Silhouette score')\n",
    "\n",
    "fig.show()"
   ]
  },
  {
   "cell_type": "markdown",
   "metadata": {
    "id": "5LK4jEfbwnCb"
   },
   "source": [
    "### What do the clusters contain / mean?"
   ]
  },
  {
   "cell_type": "markdown",
   "metadata": {
    "id": "LPGTI4IhtbI4"
   },
   "source": [
    "What you would do next is look at the values of the original columns for each cluster to understand what is being clustered.\n"
   ]
  },
  {
   "cell_type": "code",
   "execution_count": 97,
   "metadata": {
    "id": "7XeYolENtkmt"
   },
   "outputs": [],
   "source": [
    "original_db_clusters = [storm_df_all[labels_db == i] for i in range(NC) ]\n",
    "\n",
    "mean_db_df = pd.DataFrame({ 'COLUMN': original_db_clusters[0].mean().index, 'Cluster 1': original_db_clusters[0].mean().values, \n",
    "                           'Cluster 2': original_db_clusters[1].mean().values, \n",
    "                           'Cluster 3': original_db_clusters[2].mean().values,\n",
    "                           'Cluster 4': original_db_clusters[3].mean().values, \n",
    "                           'Cluster 5': original_db_clusters[4].mean().values})"
   ]
  },
  {
   "cell_type": "code",
   "execution_count": 98,
   "metadata": {
    "id": "zai7gNl7vEfb"
   },
   "outputs": [
    {
     "data": {
      "text/html": [
       "<div>\n",
       "<style scoped>\n",
       "    .dataframe tbody tr th:only-of-type {\n",
       "        vertical-align: middle;\n",
       "    }\n",
       "\n",
       "    .dataframe tbody tr th {\n",
       "        vertical-align: top;\n",
       "    }\n",
       "\n",
       "    .dataframe thead th {\n",
       "        text-align: right;\n",
       "    }\n",
       "</style>\n",
       "<table border=\"1\" class=\"dataframe\">\n",
       "  <thead>\n",
       "    <tr style=\"text-align: right;\">\n",
       "      <th></th>\n",
       "      <th>COLUMN</th>\n",
       "      <th>Cluster 1</th>\n",
       "      <th>Cluster 2</th>\n",
       "      <th>Cluster 3</th>\n",
       "      <th>Cluster 4</th>\n",
       "      <th>Cluster 5</th>\n",
       "    </tr>\n",
       "  </thead>\n",
       "  <tbody>\n",
       "    <tr>\n",
       "      <th>0</th>\n",
       "      <td>BEGIN_DATE_TIME</td>\n",
       "      <td>0.885292</td>\n",
       "      <td>0.944278</td>\n",
       "      <td>0.927934</td>\n",
       "      <td>0.774631</td>\n",
       "      <td>0.918787</td>\n",
       "    </tr>\n",
       "    <tr>\n",
       "      <th>1</th>\n",
       "      <td>INJURIES_DIRECT</td>\n",
       "      <td>0.000383</td>\n",
       "      <td>0.000000</td>\n",
       "      <td>0.002344</td>\n",
       "      <td>0.000000</td>\n",
       "      <td>0.000053</td>\n",
       "    </tr>\n",
       "    <tr>\n",
       "      <th>2</th>\n",
       "      <td>INJURIES_INDIRECT</td>\n",
       "      <td>0.000564</td>\n",
       "      <td>0.000000</td>\n",
       "      <td>0.001287</td>\n",
       "      <td>0.000000</td>\n",
       "      <td>0.001490</td>\n",
       "    </tr>\n",
       "    <tr>\n",
       "      <th>3</th>\n",
       "      <td>DEATHS_DIRECT</td>\n",
       "      <td>0.000564</td>\n",
       "      <td>0.004814</td>\n",
       "      <td>0.002574</td>\n",
       "      <td>0.000000</td>\n",
       "      <td>0.005216</td>\n",
       "    </tr>\n",
       "    <tr>\n",
       "      <th>4</th>\n",
       "      <td>DEATHS_INDIRECT</td>\n",
       "      <td>0.000000</td>\n",
       "      <td>0.001376</td>\n",
       "      <td>0.002574</td>\n",
       "      <td>0.000000</td>\n",
       "      <td>0.000000</td>\n",
       "    </tr>\n",
       "    <tr>\n",
       "      <th>5</th>\n",
       "      <td>DAMAGE_PROPERTY</td>\n",
       "      <td>0.001993</td>\n",
       "      <td>0.001445</td>\n",
       "      <td>0.002613</td>\n",
       "      <td>0.000564</td>\n",
       "      <td>0.002478</td>\n",
       "    </tr>\n",
       "    <tr>\n",
       "      <th>6</th>\n",
       "      <td>DAMAGE_CROPS</td>\n",
       "      <td>0.001420</td>\n",
       "      <td>0.008684</td>\n",
       "      <td>0.004668</td>\n",
       "      <td>0.008109</td>\n",
       "      <td>0.003883</td>\n",
       "    </tr>\n",
       "    <tr>\n",
       "      <th>7</th>\n",
       "      <td>LATITUDE</td>\n",
       "      <td>0.686972</td>\n",
       "      <td>0.706346</td>\n",
       "      <td>0.650423</td>\n",
       "      <td>0.697693</td>\n",
       "      <td>0.674078</td>\n",
       "    </tr>\n",
       "    <tr>\n",
       "      <th>8</th>\n",
       "      <td>LONGITUDE</td>\n",
       "      <td>0.774668</td>\n",
       "      <td>0.797594</td>\n",
       "      <td>0.740179</td>\n",
       "      <td>0.709033</td>\n",
       "      <td>0.767721</td>\n",
       "    </tr>\n",
       "    <tr>\n",
       "      <th>9</th>\n",
       "      <td>x0_Debris Flow</td>\n",
       "      <td>0.000000</td>\n",
       "      <td>0.000000</td>\n",
       "      <td>0.018018</td>\n",
       "      <td>0.000000</td>\n",
       "      <td>0.000000</td>\n",
       "    </tr>\n",
       "    <tr>\n",
       "      <th>10</th>\n",
       "      <td>x0_Dust Devil</td>\n",
       "      <td>0.000000</td>\n",
       "      <td>0.000000</td>\n",
       "      <td>0.002574</td>\n",
       "      <td>0.000000</td>\n",
       "      <td>0.000000</td>\n",
       "    </tr>\n",
       "    <tr>\n",
       "      <th>11</th>\n",
       "      <td>x0_Flash Flood</td>\n",
       "      <td>0.000000</td>\n",
       "      <td>0.000000</td>\n",
       "      <td>0.000000</td>\n",
       "      <td>0.000000</td>\n",
       "      <td>1.000000</td>\n",
       "    </tr>\n",
       "    <tr>\n",
       "      <th>12</th>\n",
       "      <td>x0_Flood</td>\n",
       "      <td>0.000000</td>\n",
       "      <td>1.000000</td>\n",
       "      <td>0.000000</td>\n",
       "      <td>0.000000</td>\n",
       "      <td>0.000000</td>\n",
       "    </tr>\n",
       "    <tr>\n",
       "      <th>13</th>\n",
       "      <td>x0_Funnel Cloud</td>\n",
       "      <td>0.000000</td>\n",
       "      <td>0.000000</td>\n",
       "      <td>0.070785</td>\n",
       "      <td>0.000000</td>\n",
       "      <td>0.000000</td>\n",
       "    </tr>\n",
       "    <tr>\n",
       "      <th>14</th>\n",
       "      <td>x0_Hail</td>\n",
       "      <td>0.000000</td>\n",
       "      <td>0.000000</td>\n",
       "      <td>0.000000</td>\n",
       "      <td>1.000000</td>\n",
       "      <td>0.000000</td>\n",
       "    </tr>\n",
       "    <tr>\n",
       "      <th>15</th>\n",
       "      <td>x0_Heavy Rain</td>\n",
       "      <td>0.000000</td>\n",
       "      <td>0.000000</td>\n",
       "      <td>0.312741</td>\n",
       "      <td>0.000000</td>\n",
       "      <td>0.000000</td>\n",
       "    </tr>\n",
       "    <tr>\n",
       "      <th>16</th>\n",
       "      <td>x0_Lightning</td>\n",
       "      <td>0.000000</td>\n",
       "      <td>0.000000</td>\n",
       "      <td>0.063063</td>\n",
       "      <td>0.000000</td>\n",
       "      <td>0.000000</td>\n",
       "    </tr>\n",
       "    <tr>\n",
       "      <th>17</th>\n",
       "      <td>x0_Marine Hail</td>\n",
       "      <td>0.000000</td>\n",
       "      <td>0.000000</td>\n",
       "      <td>0.002574</td>\n",
       "      <td>0.000000</td>\n",
       "      <td>0.000000</td>\n",
       "    </tr>\n",
       "    <tr>\n",
       "      <th>18</th>\n",
       "      <td>x0_Marine High Wind</td>\n",
       "      <td>0.000000</td>\n",
       "      <td>0.000000</td>\n",
       "      <td>0.001287</td>\n",
       "      <td>0.000000</td>\n",
       "      <td>0.000000</td>\n",
       "    </tr>\n",
       "    <tr>\n",
       "      <th>19</th>\n",
       "      <td>x0_Marine Thunderstorm Wind</td>\n",
       "      <td>0.000000</td>\n",
       "      <td>0.000000</td>\n",
       "      <td>0.271557</td>\n",
       "      <td>0.000000</td>\n",
       "      <td>0.000000</td>\n",
       "    </tr>\n",
       "    <tr>\n",
       "      <th>20</th>\n",
       "      <td>x0_Thunderstorm Wind</td>\n",
       "      <td>1.000000</td>\n",
       "      <td>0.000000</td>\n",
       "      <td>0.000000</td>\n",
       "      <td>0.000000</td>\n",
       "      <td>0.000000</td>\n",
       "    </tr>\n",
       "    <tr>\n",
       "      <th>21</th>\n",
       "      <td>x0_Tornado</td>\n",
       "      <td>0.000000</td>\n",
       "      <td>0.000000</td>\n",
       "      <td>0.218790</td>\n",
       "      <td>0.000000</td>\n",
       "      <td>0.000000</td>\n",
       "    </tr>\n",
       "    <tr>\n",
       "      <th>22</th>\n",
       "      <td>x0_Waterspout</td>\n",
       "      <td>0.000000</td>\n",
       "      <td>0.000000</td>\n",
       "      <td>0.038610</td>\n",
       "      <td>0.000000</td>\n",
       "      <td>0.000000</td>\n",
       "    </tr>\n",
       "  </tbody>\n",
       "</table>\n",
       "</div>"
      ],
      "text/plain": [
       "                         COLUMN  Cluster 1  Cluster 2  Cluster 3  Cluster 4  \\\n",
       "0               BEGIN_DATE_TIME   0.885292   0.944278   0.927934   0.774631   \n",
       "1               INJURIES_DIRECT   0.000383   0.000000   0.002344   0.000000   \n",
       "2             INJURIES_INDIRECT   0.000564   0.000000   0.001287   0.000000   \n",
       "3                 DEATHS_DIRECT   0.000564   0.004814   0.002574   0.000000   \n",
       "4               DEATHS_INDIRECT   0.000000   0.001376   0.002574   0.000000   \n",
       "5               DAMAGE_PROPERTY   0.001993   0.001445   0.002613   0.000564   \n",
       "6                  DAMAGE_CROPS   0.001420   0.008684   0.004668   0.008109   \n",
       "7                      LATITUDE   0.686972   0.706346   0.650423   0.697693   \n",
       "8                     LONGITUDE   0.774668   0.797594   0.740179   0.709033   \n",
       "9                x0_Debris Flow   0.000000   0.000000   0.018018   0.000000   \n",
       "10                x0_Dust Devil   0.000000   0.000000   0.002574   0.000000   \n",
       "11               x0_Flash Flood   0.000000   0.000000   0.000000   0.000000   \n",
       "12                     x0_Flood   0.000000   1.000000   0.000000   0.000000   \n",
       "13              x0_Funnel Cloud   0.000000   0.000000   0.070785   0.000000   \n",
       "14                      x0_Hail   0.000000   0.000000   0.000000   1.000000   \n",
       "15                x0_Heavy Rain   0.000000   0.000000   0.312741   0.000000   \n",
       "16                 x0_Lightning   0.000000   0.000000   0.063063   0.000000   \n",
       "17               x0_Marine Hail   0.000000   0.000000   0.002574   0.000000   \n",
       "18          x0_Marine High Wind   0.000000   0.000000   0.001287   0.000000   \n",
       "19  x0_Marine Thunderstorm Wind   0.000000   0.000000   0.271557   0.000000   \n",
       "20         x0_Thunderstorm Wind   1.000000   0.000000   0.000000   0.000000   \n",
       "21                   x0_Tornado   0.000000   0.000000   0.218790   0.000000   \n",
       "22                x0_Waterspout   0.000000   0.000000   0.038610   0.000000   \n",
       "\n",
       "    Cluster 5  \n",
       "0    0.918787  \n",
       "1    0.000053  \n",
       "2    0.001490  \n",
       "3    0.005216  \n",
       "4    0.000000  \n",
       "5    0.002478  \n",
       "6    0.003883  \n",
       "7    0.674078  \n",
       "8    0.767721  \n",
       "9    0.000000  \n",
       "10   0.000000  \n",
       "11   1.000000  \n",
       "12   0.000000  \n",
       "13   0.000000  \n",
       "14   0.000000  \n",
       "15   0.000000  \n",
       "16   0.000000  \n",
       "17   0.000000  \n",
       "18   0.000000  \n",
       "19   0.000000  \n",
       "20   0.000000  \n",
       "21   0.000000  \n",
       "22   0.000000  "
      ]
     },
     "execution_count": 98,
     "metadata": {},
     "output_type": "execute_result"
    }
   ],
   "source": [
    "mean_db_df"
   ]
  },
  {
   "cell_type": "markdown",
   "metadata": {
    "id": "jZ-tySfWwA8v"
   },
   "source": [
    "We see that BEGIN_DATE_TIME, LONGITUDE and LATITUDE have similar means, on the other hand it looks like clustering is happening based on other values, e.g. Cluster 2 has Thunderstorm Wind storms and no other type of storm. On the other hand Cluster 1 has a larger set of storms, Tornados, Waterspout, Marine Wind and Hail storms as well as Heavy Rain an Lightning etc.."
   ]
  },
  {
   "cell_type": "markdown",
   "metadata": {
    "id": "rfEP3u6mQBwe"
   },
   "source": [
    "<hr style=\"border:1px solid grey\"> </hr>"
   ]
  },
  {
   "cell_type": "markdown",
   "metadata": {
    "id": "2CJ1j1KcQBwe"
   },
   "source": [
    "# References"
   ]
  },
  {
   "cell_type": "markdown",
   "metadata": {
    "id": "fsL1XFX384Jj"
   },
   "source": []
  },
  {
   "cell_type": "markdown",
   "metadata": {
    "id": "cuQ-DIbZQBwe"
   },
   "source": [
    "* **NOAA dataset**: here is the [source](https://www.ncei.noaa.gov/pub/data/swdi/stormevents/csvfiles/) of the dataset taken from the [National Oceanic and Atmospheric Administration](https://www.noaa.gov/). Only two years of data were selected for the purpose of this tutorial.  \n",
    "\n",
    "* **Scaling** there are different ways to scale data - see https://scikit-learn.org/stable/auto_examples/preprocessing/plot_all_scaling.html#sphx-glr-auto-examples-preprocessing-plot-all-scaling-py\n",
    "\n",
    "* **Outliers** see https://towardsdatascience.com/outlier-detection-methods-in-machine-learning-1c8b7cca6cb8\n",
    "\n",
    "* **Principal component analysis** for more information see  https://en.wikipedia.org/wiki/Principal_component_analysis\n",
    "\n",
    "* **Pearson correlation**\n",
    "To find out more see https://en.wikipedia.org/wiki/Pearson_correlation_coefficient\n",
    "\n",
    "* **Clustering**\n",
    "To find out more see https://en.wikipedia.org/wiki/Cluster_analysis\n",
    "\n",
    "* **scikit-learn**\n",
    " * Scikit-learn: https://scikit-learn.org/stable/\n",
    " * Clustering in scikit-learn: https://scikit-learn.org/stable/modules/clustering.html\n",
    " * Evaluating the error in clustering: https://scikit-learn.org/stable/modules/clustering.html#clustering-performance-evaluation\n",
    "  * The NOAA dataset: TO BE ADDED\n",
    "\n",
    "\n"
   ]
  }
 ],
 "metadata": {
  "colab": {
   "collapsed_sections": [
    "DUgwY8Q6Fwa7"
   ],
   "name": "ANSWER_KEY_C_HACK_Tutorial_5_Data_Analysis_and_Clustering.ipynb",
   "provenance": []
  },
  "kernelspec": {
   "display_name": "Python 3",
   "language": "python",
   "name": "python3"
  },
  "language_info": {
   "codemirror_mode": {
    "name": "ipython",
    "version": 3
   },
   "file_extension": ".py",
   "mimetype": "text/x-python",
   "name": "python",
   "nbconvert_exporter": "python",
   "pygments_lexer": "ipython3",
   "version": "3.6.10"
  }
 },
 "nbformat": 4,
 "nbformat_minor": 4
}
