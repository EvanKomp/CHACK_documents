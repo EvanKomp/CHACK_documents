{
 "cells": [
  {
   "cell_type": "markdown",
   "metadata": {
    "id": "ZhMpsTQGPQIm"
   },
   "source": [
    "# **C-HACK Tutorial 5: Data analysis and Clustering**"
   ]
  },
  {
   "cell_type": "markdown",
   "metadata": {
    "id": "M-4Y8PRWQBwW"
   },
   "source": [
    "**Instructor**: redacted <br>\n",
    "**Contact**: redacted"
   ]
  },
  {
   "cell_type": "markdown",
   "metadata": {
    "id": "5jFqEBrlgoa1"
   },
   "source": [
    "**Acknowlegments:** redacted would like to acknowledge the entire C-HACK hackmaster team for review and comments on the tutorial. In particular, this tutorial was reviewed by:\n",
    "\n",
    "* redacted\n",
    "* redacted\n",
    "\n"
   ]
  },
  {
   "cell_type": "markdown",
   "metadata": {
    "id": "LXXn9xy52KPj"
   },
   "source": [
    "In this tutorial we will look at ways to analyze data and search for unknown groups or \"clusters\" in data with **clustering** methods."
   ]
  },
  {
   "cell_type": "markdown",
   "metadata": {
    "id": "F2fOL1IBhB-o"
   },
   "source": [
    "\n",
    "\n",
    "---\n",
    "\n",
    "\n",
    "\n",
    "\n",
    "\n"
   ]
  },
  {
   "cell_type": "markdown",
   "metadata": {
    "id": "jc0SbuFeQBwW"
   },
   "source": [
    "## 5.0 Loading python packages\n",
    "\n",
    "Lets load the packages (aka libraries) which we will need. The  [scikit-learn](https://scikit-learn.org/stable/) library contains many functions related to machine learning.\n"
   ]
  },
  {
   "cell_type": "code",
   "execution_count": 13,
   "metadata": {
    "executionInfo": {
     "elapsed": 168,
     "status": "ok",
     "timestamp": 1641606446519,
     "user": {
      "displayName": "Stephanie Valleau",
      "photoUrl": "https://lh3.googleusercontent.com/a/default-user=s64",
      "userId": "10409275703594313556"
     },
     "user_tz": 480
    },
    "id": "XA8E1GTQQBwW"
   },
   "outputs": [],
   "source": [
    "# Pandas library for the pandas dataframes\n",
    "import pandas as pd    \n",
    "\n",
    "# Import scipy for some fitting functions\n",
    "import scipy\n",
    "\n",
    "# Import Scikit-Learn library for the input feature and clustering models\n",
    "import sklearn         \n",
    "from sklearn.metrics import silhouette_score\n",
    "from sklearn.preprocessing import OneHotEncoder, MinMaxScaler\n",
    "from sklearn import linear_model, datasets, decomposition\n",
    "from sklearn.cluster import KMeans, DBSCAN\n",
    "\n",
    "# Import datetime to convert time to a number\n",
    "from datetime import datetime\n",
    "\n",
    "# Import numpy \n",
    "import numpy as np\n",
    "\n",
    "# Import plotting libraries\n",
    "import seaborn as sns\n",
    "import matplotlib \n",
    "from matplotlib import pyplot as plt\n",
    "from matplotlib.pyplot import cm\n",
    "\n",
    "# Set larger fontsize for all plots\n",
    "matplotlib.rcParams.update({'font.size': 20})\n"
   ]
  },
  {
   "cell_type": "markdown",
   "metadata": {
    "id": "RqDKSAAEQ9qv"
   },
   "source": [
    "## 5.1 Loading the NOAA dataset"
   ]
  },
  {
   "cell_type": "markdown",
   "metadata": {
    "id": "rDyhsVetrbhX"
   },
   "source": [
    "Today we will work using the NOAA dataset. We need to load the file for it. Lets start by loading our google drive folder."
   ]
  },
  {
   "cell_type": "markdown",
   "metadata": {
    "id": "f-Y1TU5froPq"
   },
   "source": [
    "When you execute the cell below you will be asked to give authorization to colab to access your drive. "
   ]
  },
  {
   "cell_type": "code",
   "execution_count": 2,
   "metadata": {
    "colab": {
     "base_uri": "https://localhost:8080/"
    },
    "executionInfo": {
     "elapsed": 15080,
     "status": "ok",
     "timestamp": 1641605836447,
     "user": {
      "displayName": "Stephanie Valleau",
      "photoUrl": "https://lh3.googleusercontent.com/a/default-user=s64",
      "userId": "10409275703594313556"
     },
     "user_tz": 480
    },
    "id": "sdr7-pi9rYrV",
    "outputId": "b4d700e3-623e-4cc9-a49f-29098117d156"
   },
   "outputs": [
    {
     "name": "stdout",
     "output_type": "stream",
     "text": [
      "Mounted at /content/drive\n"
     ]
    }
   ],
   "source": [
    "# Sync your google drive folder\n",
    "from google.colab import drive\n",
    "drive.mount(\"/content/drive\")"
   ]
  },
  {
   "cell_type": "markdown",
   "metadata": {
    "id": "wS-VSJYQr_7a"
   },
   "source": [
    "Now we can follow the instructions shown in *Evan Komp's* [video](https://youtu.be/OYwD4kBuZNw) to locate our file (here called - `cleaned_data.csv`) in google drive from google colab and save its path in a variable. "
   ]
  },
  {
   "cell_type": "code",
   "execution_count": 3,
   "metadata": {
    "executionInfo": {
     "elapsed": 3,
     "status": "ok",
     "timestamp": 1641605837264,
     "user": {
      "displayName": "Stephanie Valleau",
      "photoUrl": "https://lh3.googleusercontent.com/a/default-user=s64",
      "userId": "10409275703594313556"
     },
     "user_tz": 480
    },
    "id": "WkGCOHHlsEoo"
   },
   "outputs": [],
   "source": [
    "your_path_to_NOAA_file=\"/content/drive/MyDrive/C-HACK/C-HACK 2022/ORGANIZATION/TUTORIALS/TUTORIALS/NOAA_storm_data/cleaned_data.csv\""
   ]
  },
  {
   "cell_type": "markdown",
   "metadata": {
    "id": "z0r6rBAhQBwX"
   },
   "source": [
    "The dataset is in csv format, lets load it by using the  `pd.read_csv()` function in the `pandas` module\n",
    "\n",
    "\n",
    "\n",
    "```\n",
    "# Load the dataset using the read_csv() pandas function - we have to indicate that\n",
    "# the index of each row is in the first column\n",
    "storm_df=pd.read_csv(\"clean_data.csv\",index_col=0)\n",
    "```\n",
    "\n"
   ]
  },
  {
   "cell_type": "code",
   "execution_count": 5,
   "metadata": {
    "executionInfo": {
     "elapsed": 150,
     "status": "ok",
     "timestamp": 1641605876474,
     "user": {
      "displayName": "Stephanie Valleau",
      "photoUrl": "https://lh3.googleusercontent.com/a/default-user=s64",
      "userId": "10409275703594313556"
     },
     "user_tz": 480
    },
    "id": "llseELesQBwY"
   },
   "outputs": [],
   "source": [
    "# Load the dataset using the read_csv() pandas function - we have to indicate that\n",
    "# the index of each row is in the first column\n",
    "storm_df=pd.read_csv(your_path_to_NOAA_file, index_col=0)"
   ]
  },
  {
   "cell_type": "code",
   "execution_count": 6,
   "metadata": {
    "colab": {
     "base_uri": "https://localhost:8080/",
     "height": 592
    },
    "executionInfo": {
     "elapsed": 163,
     "status": "ok",
     "timestamp": 1641605877911,
     "user": {
      "displayName": "Stephanie Valleau",
      "photoUrl": "https://lh3.googleusercontent.com/a/default-user=s64",
      "userId": "10409275703594313556"
     },
     "user_tz": 480
    },
    "id": "uRTnabOUQFu-",
    "outputId": "07df2416-2c84-492b-9a21-fd6b28f3f466"
   },
   "outputs": [
    {
     "data": {
      "text/html": [
       "\n",
       "  <div id=\"df-8cec8aee-45e0-4770-9a28-49396fad4bff\">\n",
       "    <div class=\"colab-df-container\">\n",
       "      <div>\n",
       "<style scoped>\n",
       "    .dataframe tbody tr th:only-of-type {\n",
       "        vertical-align: middle;\n",
       "    }\n",
       "\n",
       "    .dataframe tbody tr th {\n",
       "        vertical-align: top;\n",
       "    }\n",
       "\n",
       "    .dataframe thead th {\n",
       "        text-align: right;\n",
       "    }\n",
       "</style>\n",
       "<table border=\"1\" class=\"dataframe\">\n",
       "  <thead>\n",
       "    <tr style=\"text-align: right;\">\n",
       "      <th></th>\n",
       "      <th>BEGIN_DATE_TIME</th>\n",
       "      <th>EVENT_TYPE</th>\n",
       "      <th>INJURIES_DIRECT</th>\n",
       "      <th>INJURIES_INDIRECT</th>\n",
       "      <th>DEATHS_DIRECT</th>\n",
       "      <th>DEATHS_INDIRECT</th>\n",
       "      <th>DAMAGE_PROPERTY</th>\n",
       "      <th>DAMAGE_CROPS</th>\n",
       "      <th>LATITUDE</th>\n",
       "      <th>LONGITUDE</th>\n",
       "    </tr>\n",
       "  </thead>\n",
       "  <tbody>\n",
       "    <tr>\n",
       "      <th>0</th>\n",
       "      <td>13-JAN-05 18:52:00</td>\n",
       "      <td>Tornado</td>\n",
       "      <td>0</td>\n",
       "      <td>0</td>\n",
       "      <td>0</td>\n",
       "      <td>0</td>\n",
       "      <td>0.0</td>\n",
       "      <td>0.0</td>\n",
       "      <td>33.7800</td>\n",
       "      <td>-82.2000</td>\n",
       "    </tr>\n",
       "    <tr>\n",
       "      <th>1</th>\n",
       "      <td>12-JAN-05 20:56:00</td>\n",
       "      <td>Tornado</td>\n",
       "      <td>0</td>\n",
       "      <td>0</td>\n",
       "      <td>0</td>\n",
       "      <td>0</td>\n",
       "      <td>50000.0</td>\n",
       "      <td>0.0</td>\n",
       "      <td>36.5800</td>\n",
       "      <td>-92.2800</td>\n",
       "    </tr>\n",
       "    <tr>\n",
       "      <th>2</th>\n",
       "      <td>12-JAN-05 21:30:00</td>\n",
       "      <td>Tornado</td>\n",
       "      <td>0</td>\n",
       "      <td>0</td>\n",
       "      <td>0</td>\n",
       "      <td>0</td>\n",
       "      <td>300000.0</td>\n",
       "      <td>0.0</td>\n",
       "      <td>36.8700</td>\n",
       "      <td>-91.9000</td>\n",
       "    </tr>\n",
       "    <tr>\n",
       "      <th>3</th>\n",
       "      <td>12-JAN-05 21:50:00</td>\n",
       "      <td>Tornado</td>\n",
       "      <td>0</td>\n",
       "      <td>0</td>\n",
       "      <td>0</td>\n",
       "      <td>0</td>\n",
       "      <td>100000.0</td>\n",
       "      <td>0.0</td>\n",
       "      <td>37.0200</td>\n",
       "      <td>-91.6800</td>\n",
       "    </tr>\n",
       "    <tr>\n",
       "      <th>4</th>\n",
       "      <td>04-JAN-05 22:35:00</td>\n",
       "      <td>Thunderstorm Wind</td>\n",
       "      <td>0</td>\n",
       "      <td>0</td>\n",
       "      <td>0</td>\n",
       "      <td>0</td>\n",
       "      <td>10000.0</td>\n",
       "      <td>0.0</td>\n",
       "      <td>32.3700</td>\n",
       "      <td>-102.9000</td>\n",
       "    </tr>\n",
       "    <tr>\n",
       "      <th>...</th>\n",
       "      <td>...</td>\n",
       "      <td>...</td>\n",
       "      <td>...</td>\n",
       "      <td>...</td>\n",
       "      <td>...</td>\n",
       "      <td>...</td>\n",
       "      <td>...</td>\n",
       "      <td>...</td>\n",
       "      <td>...</td>\n",
       "      <td>...</td>\n",
       "    </tr>\n",
       "    <tr>\n",
       "      <th>33628</th>\n",
       "      <td>10-OCT-18 17:45:00</td>\n",
       "      <td>Waterspout</td>\n",
       "      <td>0</td>\n",
       "      <td>0</td>\n",
       "      <td>0</td>\n",
       "      <td>0</td>\n",
       "      <td>0.0</td>\n",
       "      <td>0.0</td>\n",
       "      <td>27.6300</td>\n",
       "      <td>-82.6500</td>\n",
       "    </tr>\n",
       "    <tr>\n",
       "      <th>33629</th>\n",
       "      <td>10-OCT-18 17:30:00</td>\n",
       "      <td>Waterspout</td>\n",
       "      <td>0</td>\n",
       "      <td>0</td>\n",
       "      <td>0</td>\n",
       "      <td>0</td>\n",
       "      <td>0.0</td>\n",
       "      <td>0.0</td>\n",
       "      <td>27.3100</td>\n",
       "      <td>-82.5900</td>\n",
       "    </tr>\n",
       "    <tr>\n",
       "      <th>33630</th>\n",
       "      <td>15-SEP-18 14:16:00</td>\n",
       "      <td>Flash Flood</td>\n",
       "      <td>0</td>\n",
       "      <td>0</td>\n",
       "      <td>0</td>\n",
       "      <td>0</td>\n",
       "      <td>10000.0</td>\n",
       "      <td>0.0</td>\n",
       "      <td>34.7665</td>\n",
       "      <td>-79.1530</td>\n",
       "    </tr>\n",
       "    <tr>\n",
       "      <th>33631</th>\n",
       "      <td>15-SEP-18 14:42:00</td>\n",
       "      <td>Flash Flood</td>\n",
       "      <td>0</td>\n",
       "      <td>0</td>\n",
       "      <td>0</td>\n",
       "      <td>0</td>\n",
       "      <td>10000.0</td>\n",
       "      <td>0.0</td>\n",
       "      <td>34.6909</td>\n",
       "      <td>-78.8998</td>\n",
       "    </tr>\n",
       "    <tr>\n",
       "      <th>33632</th>\n",
       "      <td>15-SEP-18 13:40:00</td>\n",
       "      <td>Flash Flood</td>\n",
       "      <td>0</td>\n",
       "      <td>0</td>\n",
       "      <td>0</td>\n",
       "      <td>0</td>\n",
       "      <td>20000.0</td>\n",
       "      <td>0.0</td>\n",
       "      <td>34.3713</td>\n",
       "      <td>-78.3316</td>\n",
       "    </tr>\n",
       "  </tbody>\n",
       "</table>\n",
       "<p>33633 rows × 10 columns</p>\n",
       "</div>\n",
       "      <button class=\"colab-df-convert\" onclick=\"convertToInteractive('df-8cec8aee-45e0-4770-9a28-49396fad4bff')\"\n",
       "              title=\"Convert this dataframe to an interactive table.\"\n",
       "              style=\"display:none;\">\n",
       "        \n",
       "  <svg xmlns=\"http://www.w3.org/2000/svg\" height=\"24px\"viewBox=\"0 0 24 24\"\n",
       "       width=\"24px\">\n",
       "    <path d=\"M0 0h24v24H0V0z\" fill=\"none\"/>\n",
       "    <path d=\"M18.56 5.44l.94 2.06.94-2.06 2.06-.94-2.06-.94-.94-2.06-.94 2.06-2.06.94zm-11 1L8.5 8.5l.94-2.06 2.06-.94-2.06-.94L8.5 2.5l-.94 2.06-2.06.94zm10 10l.94 2.06.94-2.06 2.06-.94-2.06-.94-.94-2.06-.94 2.06-2.06.94z\"/><path d=\"M17.41 7.96l-1.37-1.37c-.4-.4-.92-.59-1.43-.59-.52 0-1.04.2-1.43.59L10.3 9.45l-7.72 7.72c-.78.78-.78 2.05 0 2.83L4 21.41c.39.39.9.59 1.41.59.51 0 1.02-.2 1.41-.59l7.78-7.78 2.81-2.81c.8-.78.8-2.07 0-2.86zM5.41 20L4 18.59l7.72-7.72 1.47 1.35L5.41 20z\"/>\n",
       "  </svg>\n",
       "      </button>\n",
       "      \n",
       "  <style>\n",
       "    .colab-df-container {\n",
       "      display:flex;\n",
       "      flex-wrap:wrap;\n",
       "      gap: 12px;\n",
       "    }\n",
       "\n",
       "    .colab-df-convert {\n",
       "      background-color: #E8F0FE;\n",
       "      border: none;\n",
       "      border-radius: 50%;\n",
       "      cursor: pointer;\n",
       "      display: none;\n",
       "      fill: #1967D2;\n",
       "      height: 32px;\n",
       "      padding: 0 0 0 0;\n",
       "      width: 32px;\n",
       "    }\n",
       "\n",
       "    .colab-df-convert:hover {\n",
       "      background-color: #E2EBFA;\n",
       "      box-shadow: 0px 1px 2px rgba(60, 64, 67, 0.3), 0px 1px 3px 1px rgba(60, 64, 67, 0.15);\n",
       "      fill: #174EA6;\n",
       "    }\n",
       "\n",
       "    [theme=dark] .colab-df-convert {\n",
       "      background-color: #3B4455;\n",
       "      fill: #D2E3FC;\n",
       "    }\n",
       "\n",
       "    [theme=dark] .colab-df-convert:hover {\n",
       "      background-color: #434B5C;\n",
       "      box-shadow: 0px 1px 3px 1px rgba(0, 0, 0, 0.15);\n",
       "      filter: drop-shadow(0px 1px 2px rgba(0, 0, 0, 0.3));\n",
       "      fill: #FFFFFF;\n",
       "    }\n",
       "  </style>\n",
       "\n",
       "      <script>\n",
       "        const buttonEl =\n",
       "          document.querySelector('#df-8cec8aee-45e0-4770-9a28-49396fad4bff button.colab-df-convert');\n",
       "        buttonEl.style.display =\n",
       "          google.colab.kernel.accessAllowed ? 'block' : 'none';\n",
       "\n",
       "        async function convertToInteractive(key) {\n",
       "          const element = document.querySelector('#df-8cec8aee-45e0-4770-9a28-49396fad4bff');\n",
       "          const dataTable =\n",
       "            await google.colab.kernel.invokeFunction('convertToInteractive',\n",
       "                                                     [key], {});\n",
       "          if (!dataTable) return;\n",
       "\n",
       "          const docLinkHtml = 'Like what you see? Visit the ' +\n",
       "            '<a target=\"_blank\" href=https://colab.research.google.com/notebooks/data_table.ipynb>data table notebook</a>'\n",
       "            + ' to learn more about interactive tables.';\n",
       "          element.innerHTML = '';\n",
       "          dataTable['output_type'] = 'display_data';\n",
       "          await google.colab.output.renderOutput(dataTable, element);\n",
       "          const docLink = document.createElement('div');\n",
       "          docLink.innerHTML = docLinkHtml;\n",
       "          element.appendChild(docLink);\n",
       "        }\n",
       "      </script>\n",
       "    </div>\n",
       "  </div>\n",
       "  "
      ],
      "text/plain": [
       "          BEGIN_DATE_TIME         EVENT_TYPE  ...  LATITUDE  LONGITUDE\n",
       "0      13-JAN-05 18:52:00            Tornado  ...   33.7800   -82.2000\n",
       "1      12-JAN-05 20:56:00            Tornado  ...   36.5800   -92.2800\n",
       "2      12-JAN-05 21:30:00            Tornado  ...   36.8700   -91.9000\n",
       "3      12-JAN-05 21:50:00            Tornado  ...   37.0200   -91.6800\n",
       "4      04-JAN-05 22:35:00  Thunderstorm Wind  ...   32.3700  -102.9000\n",
       "...                   ...                ...  ...       ...        ...\n",
       "33628  10-OCT-18 17:45:00         Waterspout  ...   27.6300   -82.6500\n",
       "33629  10-OCT-18 17:30:00         Waterspout  ...   27.3100   -82.5900\n",
       "33630  15-SEP-18 14:16:00        Flash Flood  ...   34.7665   -79.1530\n",
       "33631  15-SEP-18 14:42:00        Flash Flood  ...   34.6909   -78.8998\n",
       "33632  15-SEP-18 13:40:00        Flash Flood  ...   34.3713   -78.3316\n",
       "\n",
       "[33633 rows x 10 columns]"
      ]
     },
     "execution_count": 6,
     "metadata": {},
     "output_type": "execute_result"
    }
   ],
   "source": [
    "storm_df"
   ]
  },
  {
   "cell_type": "markdown",
   "metadata": {
    "id": "cm6isl1eQBwX"
   },
   "source": [
    "## 5.2 Data analysis"
   ]
  },
  {
   "cell_type": "markdown",
   "metadata": {
    "id": "crBj3b4FHemQ"
   },
   "source": [
    "Data analysis is a broad term which covers methods to inspect data and understand its properties. Here we will cover the concepts of distribution, mean, standard deviation and variance.\n"
   ]
  },
  {
   "cell_type": "markdown",
   "metadata": {
    "id": "q_p2pn4aV1b8"
   },
   "source": [
    "### 5.2.1 Cleaning the data\n",
    "\n",
    "It is good practice to check the numbers in your data. For examples sometimes you might see 'NaN' entries, this means \"this is not a number\". We want to remove these. If there are any in our dataset the `df.dropna()` function will enable use to remove them (more info [here](https://pandas.pydata.org/docs/reference/api/pandas.DataFrame.dropna.html)).\n",
    "\n",
    "```\n",
    "storm_df.dropna(inplace=True) # This function acts on the dataframe called storm_df\n",
    "```\n"
   ]
  },
  {
   "cell_type": "code",
   "execution_count": 7,
   "metadata": {
    "executionInfo": {
     "elapsed": 144,
     "status": "ok",
     "timestamp": 1641606044900,
     "user": {
      "displayName": "Stephanie Valleau",
      "photoUrl": "https://lh3.googleusercontent.com/a/default-user=s64",
      "userId": "10409275703594313556"
     },
     "user_tz": 480
    },
    "id": "OxVzdZPiP2rf"
   },
   "outputs": [],
   "source": [
    "storm_df.dropna(inplace=True) # This function acts on the dataframe called storm_df"
   ]
  },
  {
   "cell_type": "markdown",
   "metadata": {
    "id": "4vnGyZZvPtt8"
   },
   "source": [
    "`dropna` acts directly on the `storm_df` dataframe thanks to the `inplace=True` option. It removes the `NaN` entries as we call it. Let's check that is true ..."
   ]
  },
  {
   "cell_type": "code",
   "execution_count": 8,
   "metadata": {
    "colab": {
     "base_uri": "https://localhost:8080/",
     "height": 592
    },
    "executionInfo": {
     "elapsed": 158,
     "status": "ok",
     "timestamp": 1641606049223,
     "user": {
      "displayName": "Stephanie Valleau",
      "photoUrl": "https://lh3.googleusercontent.com/a/default-user=s64",
      "userId": "10409275703594313556"
     },
     "user_tz": 480
    },
    "id": "mSFkUijZQOlH",
    "outputId": "97315b4d-4d83-4db6-9397-646f34392234"
   },
   "outputs": [
    {
     "data": {
      "text/html": [
       "\n",
       "  <div id=\"df-be6b297b-46bf-4710-8fef-42c9f9d9473e\">\n",
       "    <div class=\"colab-df-container\">\n",
       "      <div>\n",
       "<style scoped>\n",
       "    .dataframe tbody tr th:only-of-type {\n",
       "        vertical-align: middle;\n",
       "    }\n",
       "\n",
       "    .dataframe tbody tr th {\n",
       "        vertical-align: top;\n",
       "    }\n",
       "\n",
       "    .dataframe thead th {\n",
       "        text-align: right;\n",
       "    }\n",
       "</style>\n",
       "<table border=\"1\" class=\"dataframe\">\n",
       "  <thead>\n",
       "    <tr style=\"text-align: right;\">\n",
       "      <th></th>\n",
       "      <th>BEGIN_DATE_TIME</th>\n",
       "      <th>EVENT_TYPE</th>\n",
       "      <th>INJURIES_DIRECT</th>\n",
       "      <th>INJURIES_INDIRECT</th>\n",
       "      <th>DEATHS_DIRECT</th>\n",
       "      <th>DEATHS_INDIRECT</th>\n",
       "      <th>DAMAGE_PROPERTY</th>\n",
       "      <th>DAMAGE_CROPS</th>\n",
       "      <th>LATITUDE</th>\n",
       "      <th>LONGITUDE</th>\n",
       "    </tr>\n",
       "  </thead>\n",
       "  <tbody>\n",
       "    <tr>\n",
       "      <th>0</th>\n",
       "      <td>13-JAN-05 18:52:00</td>\n",
       "      <td>Tornado</td>\n",
       "      <td>0</td>\n",
       "      <td>0</td>\n",
       "      <td>0</td>\n",
       "      <td>0</td>\n",
       "      <td>0.0</td>\n",
       "      <td>0.0</td>\n",
       "      <td>33.7800</td>\n",
       "      <td>-82.2000</td>\n",
       "    </tr>\n",
       "    <tr>\n",
       "      <th>1</th>\n",
       "      <td>12-JAN-05 20:56:00</td>\n",
       "      <td>Tornado</td>\n",
       "      <td>0</td>\n",
       "      <td>0</td>\n",
       "      <td>0</td>\n",
       "      <td>0</td>\n",
       "      <td>50000.0</td>\n",
       "      <td>0.0</td>\n",
       "      <td>36.5800</td>\n",
       "      <td>-92.2800</td>\n",
       "    </tr>\n",
       "    <tr>\n",
       "      <th>2</th>\n",
       "      <td>12-JAN-05 21:30:00</td>\n",
       "      <td>Tornado</td>\n",
       "      <td>0</td>\n",
       "      <td>0</td>\n",
       "      <td>0</td>\n",
       "      <td>0</td>\n",
       "      <td>300000.0</td>\n",
       "      <td>0.0</td>\n",
       "      <td>36.8700</td>\n",
       "      <td>-91.9000</td>\n",
       "    </tr>\n",
       "    <tr>\n",
       "      <th>3</th>\n",
       "      <td>12-JAN-05 21:50:00</td>\n",
       "      <td>Tornado</td>\n",
       "      <td>0</td>\n",
       "      <td>0</td>\n",
       "      <td>0</td>\n",
       "      <td>0</td>\n",
       "      <td>100000.0</td>\n",
       "      <td>0.0</td>\n",
       "      <td>37.0200</td>\n",
       "      <td>-91.6800</td>\n",
       "    </tr>\n",
       "    <tr>\n",
       "      <th>4</th>\n",
       "      <td>04-JAN-05 22:35:00</td>\n",
       "      <td>Thunderstorm Wind</td>\n",
       "      <td>0</td>\n",
       "      <td>0</td>\n",
       "      <td>0</td>\n",
       "      <td>0</td>\n",
       "      <td>10000.0</td>\n",
       "      <td>0.0</td>\n",
       "      <td>32.3700</td>\n",
       "      <td>-102.9000</td>\n",
       "    </tr>\n",
       "    <tr>\n",
       "      <th>...</th>\n",
       "      <td>...</td>\n",
       "      <td>...</td>\n",
       "      <td>...</td>\n",
       "      <td>...</td>\n",
       "      <td>...</td>\n",
       "      <td>...</td>\n",
       "      <td>...</td>\n",
       "      <td>...</td>\n",
       "      <td>...</td>\n",
       "      <td>...</td>\n",
       "    </tr>\n",
       "    <tr>\n",
       "      <th>33628</th>\n",
       "      <td>10-OCT-18 17:45:00</td>\n",
       "      <td>Waterspout</td>\n",
       "      <td>0</td>\n",
       "      <td>0</td>\n",
       "      <td>0</td>\n",
       "      <td>0</td>\n",
       "      <td>0.0</td>\n",
       "      <td>0.0</td>\n",
       "      <td>27.6300</td>\n",
       "      <td>-82.6500</td>\n",
       "    </tr>\n",
       "    <tr>\n",
       "      <th>33629</th>\n",
       "      <td>10-OCT-18 17:30:00</td>\n",
       "      <td>Waterspout</td>\n",
       "      <td>0</td>\n",
       "      <td>0</td>\n",
       "      <td>0</td>\n",
       "      <td>0</td>\n",
       "      <td>0.0</td>\n",
       "      <td>0.0</td>\n",
       "      <td>27.3100</td>\n",
       "      <td>-82.5900</td>\n",
       "    </tr>\n",
       "    <tr>\n",
       "      <th>33630</th>\n",
       "      <td>15-SEP-18 14:16:00</td>\n",
       "      <td>Flash Flood</td>\n",
       "      <td>0</td>\n",
       "      <td>0</td>\n",
       "      <td>0</td>\n",
       "      <td>0</td>\n",
       "      <td>10000.0</td>\n",
       "      <td>0.0</td>\n",
       "      <td>34.7665</td>\n",
       "      <td>-79.1530</td>\n",
       "    </tr>\n",
       "    <tr>\n",
       "      <th>33631</th>\n",
       "      <td>15-SEP-18 14:42:00</td>\n",
       "      <td>Flash Flood</td>\n",
       "      <td>0</td>\n",
       "      <td>0</td>\n",
       "      <td>0</td>\n",
       "      <td>0</td>\n",
       "      <td>10000.0</td>\n",
       "      <td>0.0</td>\n",
       "      <td>34.6909</td>\n",
       "      <td>-78.8998</td>\n",
       "    </tr>\n",
       "    <tr>\n",
       "      <th>33632</th>\n",
       "      <td>15-SEP-18 13:40:00</td>\n",
       "      <td>Flash Flood</td>\n",
       "      <td>0</td>\n",
       "      <td>0</td>\n",
       "      <td>0</td>\n",
       "      <td>0</td>\n",
       "      <td>20000.0</td>\n",
       "      <td>0.0</td>\n",
       "      <td>34.3713</td>\n",
       "      <td>-78.3316</td>\n",
       "    </tr>\n",
       "  </tbody>\n",
       "</table>\n",
       "<p>33633 rows × 10 columns</p>\n",
       "</div>\n",
       "      <button class=\"colab-df-convert\" onclick=\"convertToInteractive('df-be6b297b-46bf-4710-8fef-42c9f9d9473e')\"\n",
       "              title=\"Convert this dataframe to an interactive table.\"\n",
       "              style=\"display:none;\">\n",
       "        \n",
       "  <svg xmlns=\"http://www.w3.org/2000/svg\" height=\"24px\"viewBox=\"0 0 24 24\"\n",
       "       width=\"24px\">\n",
       "    <path d=\"M0 0h24v24H0V0z\" fill=\"none\"/>\n",
       "    <path d=\"M18.56 5.44l.94 2.06.94-2.06 2.06-.94-2.06-.94-.94-2.06-.94 2.06-2.06.94zm-11 1L8.5 8.5l.94-2.06 2.06-.94-2.06-.94L8.5 2.5l-.94 2.06-2.06.94zm10 10l.94 2.06.94-2.06 2.06-.94-2.06-.94-.94-2.06-.94 2.06-2.06.94z\"/><path d=\"M17.41 7.96l-1.37-1.37c-.4-.4-.92-.59-1.43-.59-.52 0-1.04.2-1.43.59L10.3 9.45l-7.72 7.72c-.78.78-.78 2.05 0 2.83L4 21.41c.39.39.9.59 1.41.59.51 0 1.02-.2 1.41-.59l7.78-7.78 2.81-2.81c.8-.78.8-2.07 0-2.86zM5.41 20L4 18.59l7.72-7.72 1.47 1.35L5.41 20z\"/>\n",
       "  </svg>\n",
       "      </button>\n",
       "      \n",
       "  <style>\n",
       "    .colab-df-container {\n",
       "      display:flex;\n",
       "      flex-wrap:wrap;\n",
       "      gap: 12px;\n",
       "    }\n",
       "\n",
       "    .colab-df-convert {\n",
       "      background-color: #E8F0FE;\n",
       "      border: none;\n",
       "      border-radius: 50%;\n",
       "      cursor: pointer;\n",
       "      display: none;\n",
       "      fill: #1967D2;\n",
       "      height: 32px;\n",
       "      padding: 0 0 0 0;\n",
       "      width: 32px;\n",
       "    }\n",
       "\n",
       "    .colab-df-convert:hover {\n",
       "      background-color: #E2EBFA;\n",
       "      box-shadow: 0px 1px 2px rgba(60, 64, 67, 0.3), 0px 1px 3px 1px rgba(60, 64, 67, 0.15);\n",
       "      fill: #174EA6;\n",
       "    }\n",
       "\n",
       "    [theme=dark] .colab-df-convert {\n",
       "      background-color: #3B4455;\n",
       "      fill: #D2E3FC;\n",
       "    }\n",
       "\n",
       "    [theme=dark] .colab-df-convert:hover {\n",
       "      background-color: #434B5C;\n",
       "      box-shadow: 0px 1px 3px 1px rgba(0, 0, 0, 0.15);\n",
       "      filter: drop-shadow(0px 1px 2px rgba(0, 0, 0, 0.3));\n",
       "      fill: #FFFFFF;\n",
       "    }\n",
       "  </style>\n",
       "\n",
       "      <script>\n",
       "        const buttonEl =\n",
       "          document.querySelector('#df-be6b297b-46bf-4710-8fef-42c9f9d9473e button.colab-df-convert');\n",
       "        buttonEl.style.display =\n",
       "          google.colab.kernel.accessAllowed ? 'block' : 'none';\n",
       "\n",
       "        async function convertToInteractive(key) {\n",
       "          const element = document.querySelector('#df-be6b297b-46bf-4710-8fef-42c9f9d9473e');\n",
       "          const dataTable =\n",
       "            await google.colab.kernel.invokeFunction('convertToInteractive',\n",
       "                                                     [key], {});\n",
       "          if (!dataTable) return;\n",
       "\n",
       "          const docLinkHtml = 'Like what you see? Visit the ' +\n",
       "            '<a target=\"_blank\" href=https://colab.research.google.com/notebooks/data_table.ipynb>data table notebook</a>'\n",
       "            + ' to learn more about interactive tables.';\n",
       "          element.innerHTML = '';\n",
       "          dataTable['output_type'] = 'display_data';\n",
       "          await google.colab.output.renderOutput(dataTable, element);\n",
       "          const docLink = document.createElement('div');\n",
       "          docLink.innerHTML = docLinkHtml;\n",
       "          element.appendChild(docLink);\n",
       "        }\n",
       "      </script>\n",
       "    </div>\n",
       "  </div>\n",
       "  "
      ],
      "text/plain": [
       "          BEGIN_DATE_TIME         EVENT_TYPE  ...  LATITUDE  LONGITUDE\n",
       "0      13-JAN-05 18:52:00            Tornado  ...   33.7800   -82.2000\n",
       "1      12-JAN-05 20:56:00            Tornado  ...   36.5800   -92.2800\n",
       "2      12-JAN-05 21:30:00            Tornado  ...   36.8700   -91.9000\n",
       "3      12-JAN-05 21:50:00            Tornado  ...   37.0200   -91.6800\n",
       "4      04-JAN-05 22:35:00  Thunderstorm Wind  ...   32.3700  -102.9000\n",
       "...                   ...                ...  ...       ...        ...\n",
       "33628  10-OCT-18 17:45:00         Waterspout  ...   27.6300   -82.6500\n",
       "33629  10-OCT-18 17:30:00         Waterspout  ...   27.3100   -82.5900\n",
       "33630  15-SEP-18 14:16:00        Flash Flood  ...   34.7665   -79.1530\n",
       "33631  15-SEP-18 14:42:00        Flash Flood  ...   34.6909   -78.8998\n",
       "33632  15-SEP-18 13:40:00        Flash Flood  ...   34.3713   -78.3316\n",
       "\n",
       "[33633 rows x 10 columns]"
      ]
     },
     "execution_count": 8,
     "metadata": {},
     "output_type": "execute_result"
    }
   ],
   "source": [
    "storm_df"
   ]
  },
  {
   "cell_type": "markdown",
   "metadata": {
    "id": "2eJAHZvgP4Gh"
   },
   "source": [
    "It looks like there were no `NaN` entries. All our entries are still there. "
   ]
  },
  {
   "cell_type": "markdown",
   "metadata": {
    "id": "ruycJkwUPaes"
   },
   "source": [
    "```\n",
    "my_random = {'day':['Monday','Tuesday','Friday', 'Monday'], \\\n",
    "            'caffeine':[100, 90, 70, 88], 'donuts':[25, None, None , 9]}\n",
    "my_random_df = pd.DataFrame(my_random)  # Create dataframe from dictionary \n",
    "\n",
    "my_random_df\n",
    "```"
   ]
  },
  {
   "cell_type": "code",
   "execution_count": 9,
   "metadata": {
    "colab": {
     "base_uri": "https://localhost:8080/",
     "height": 175
    },
    "executionInfo": {
     "elapsed": 184,
     "status": "ok",
     "timestamp": 1641606131320,
     "user": {
      "displayName": "Stephanie Valleau",
      "photoUrl": "https://lh3.googleusercontent.com/a/default-user=s64",
      "userId": "10409275703594313556"
     },
     "user_tz": 480
    },
    "id": "oIaFH3WYS6s4",
    "outputId": "6bb32109-9807-4c62-cfb4-b001dae8033f"
   },
   "outputs": [
    {
     "data": {
      "text/html": [
       "\n",
       "  <div id=\"df-a6ddc9a7-21a4-4761-a18b-445b08896fae\">\n",
       "    <div class=\"colab-df-container\">\n",
       "      <div>\n",
       "<style scoped>\n",
       "    .dataframe tbody tr th:only-of-type {\n",
       "        vertical-align: middle;\n",
       "    }\n",
       "\n",
       "    .dataframe tbody tr th {\n",
       "        vertical-align: top;\n",
       "    }\n",
       "\n",
       "    .dataframe thead th {\n",
       "        text-align: right;\n",
       "    }\n",
       "</style>\n",
       "<table border=\"1\" class=\"dataframe\">\n",
       "  <thead>\n",
       "    <tr style=\"text-align: right;\">\n",
       "      <th></th>\n",
       "      <th>day</th>\n",
       "      <th>caffeine</th>\n",
       "      <th>donuts</th>\n",
       "    </tr>\n",
       "  </thead>\n",
       "  <tbody>\n",
       "    <tr>\n",
       "      <th>0</th>\n",
       "      <td>Monday</td>\n",
       "      <td>100</td>\n",
       "      <td>25.0</td>\n",
       "    </tr>\n",
       "    <tr>\n",
       "      <th>1</th>\n",
       "      <td>Tuesday</td>\n",
       "      <td>90</td>\n",
       "      <td>NaN</td>\n",
       "    </tr>\n",
       "    <tr>\n",
       "      <th>2</th>\n",
       "      <td>Friday</td>\n",
       "      <td>70</td>\n",
       "      <td>NaN</td>\n",
       "    </tr>\n",
       "    <tr>\n",
       "      <th>3</th>\n",
       "      <td>Monday</td>\n",
       "      <td>88</td>\n",
       "      <td>9.0</td>\n",
       "    </tr>\n",
       "  </tbody>\n",
       "</table>\n",
       "</div>\n",
       "      <button class=\"colab-df-convert\" onclick=\"convertToInteractive('df-a6ddc9a7-21a4-4761-a18b-445b08896fae')\"\n",
       "              title=\"Convert this dataframe to an interactive table.\"\n",
       "              style=\"display:none;\">\n",
       "        \n",
       "  <svg xmlns=\"http://www.w3.org/2000/svg\" height=\"24px\"viewBox=\"0 0 24 24\"\n",
       "       width=\"24px\">\n",
       "    <path d=\"M0 0h24v24H0V0z\" fill=\"none\"/>\n",
       "    <path d=\"M18.56 5.44l.94 2.06.94-2.06 2.06-.94-2.06-.94-.94-2.06-.94 2.06-2.06.94zm-11 1L8.5 8.5l.94-2.06 2.06-.94-2.06-.94L8.5 2.5l-.94 2.06-2.06.94zm10 10l.94 2.06.94-2.06 2.06-.94-2.06-.94-.94-2.06-.94 2.06-2.06.94z\"/><path d=\"M17.41 7.96l-1.37-1.37c-.4-.4-.92-.59-1.43-.59-.52 0-1.04.2-1.43.59L10.3 9.45l-7.72 7.72c-.78.78-.78 2.05 0 2.83L4 21.41c.39.39.9.59 1.41.59.51 0 1.02-.2 1.41-.59l7.78-7.78 2.81-2.81c.8-.78.8-2.07 0-2.86zM5.41 20L4 18.59l7.72-7.72 1.47 1.35L5.41 20z\"/>\n",
       "  </svg>\n",
       "      </button>\n",
       "      \n",
       "  <style>\n",
       "    .colab-df-container {\n",
       "      display:flex;\n",
       "      flex-wrap:wrap;\n",
       "      gap: 12px;\n",
       "    }\n",
       "\n",
       "    .colab-df-convert {\n",
       "      background-color: #E8F0FE;\n",
       "      border: none;\n",
       "      border-radius: 50%;\n",
       "      cursor: pointer;\n",
       "      display: none;\n",
       "      fill: #1967D2;\n",
       "      height: 32px;\n",
       "      padding: 0 0 0 0;\n",
       "      width: 32px;\n",
       "    }\n",
       "\n",
       "    .colab-df-convert:hover {\n",
       "      background-color: #E2EBFA;\n",
       "      box-shadow: 0px 1px 2px rgba(60, 64, 67, 0.3), 0px 1px 3px 1px rgba(60, 64, 67, 0.15);\n",
       "      fill: #174EA6;\n",
       "    }\n",
       "\n",
       "    [theme=dark] .colab-df-convert {\n",
       "      background-color: #3B4455;\n",
       "      fill: #D2E3FC;\n",
       "    }\n",
       "\n",
       "    [theme=dark] .colab-df-convert:hover {\n",
       "      background-color: #434B5C;\n",
       "      box-shadow: 0px 1px 3px 1px rgba(0, 0, 0, 0.15);\n",
       "      filter: drop-shadow(0px 1px 2px rgba(0, 0, 0, 0.3));\n",
       "      fill: #FFFFFF;\n",
       "    }\n",
       "  </style>\n",
       "\n",
       "      <script>\n",
       "        const buttonEl =\n",
       "          document.querySelector('#df-a6ddc9a7-21a4-4761-a18b-445b08896fae button.colab-df-convert');\n",
       "        buttonEl.style.display =\n",
       "          google.colab.kernel.accessAllowed ? 'block' : 'none';\n",
       "\n",
       "        async function convertToInteractive(key) {\n",
       "          const element = document.querySelector('#df-a6ddc9a7-21a4-4761-a18b-445b08896fae');\n",
       "          const dataTable =\n",
       "            await google.colab.kernel.invokeFunction('convertToInteractive',\n",
       "                                                     [key], {});\n",
       "          if (!dataTable) return;\n",
       "\n",
       "          const docLinkHtml = 'Like what you see? Visit the ' +\n",
       "            '<a target=\"_blank\" href=https://colab.research.google.com/notebooks/data_table.ipynb>data table notebook</a>'\n",
       "            + ' to learn more about interactive tables.';\n",
       "          element.innerHTML = '';\n",
       "          dataTable['output_type'] = 'display_data';\n",
       "          await google.colab.output.renderOutput(dataTable, element);\n",
       "          const docLink = document.createElement('div');\n",
       "          docLink.innerHTML = docLinkHtml;\n",
       "          element.appendChild(docLink);\n",
       "        }\n",
       "      </script>\n",
       "    </div>\n",
       "  </div>\n",
       "  "
      ],
      "text/plain": [
       "       day  caffeine  donuts\n",
       "0   Monday       100    25.0\n",
       "1  Tuesday        90     NaN\n",
       "2   Friday        70     NaN\n",
       "3   Monday        88     9.0"
      ]
     },
     "execution_count": 9,
     "metadata": {},
     "output_type": "execute_result"
    }
   ],
   "source": [
    "my_random = {'day':['Monday','Tuesday','Friday', 'Monday'], \\\n",
    "            'caffeine':[100, 90, 70, 88], 'donuts':[25, None, None , 9]}\n",
    "my_random_df = pd.DataFrame(my_random)  # Create dataframe from dictionary \n",
    "\n",
    "my_random_df"
   ]
  },
  {
   "cell_type": "code",
   "execution_count": 10,
   "metadata": {
    "executionInfo": {
     "elapsed": 152,
     "status": "ok",
     "timestamp": 1641606195446,
     "user": {
      "displayName": "Stephanie Valleau",
      "photoUrl": "https://lh3.googleusercontent.com/a/default-user=s64",
      "userId": "10409275703594313556"
     },
     "user_tz": 480
    },
    "id": "pUwkKU98TtpE"
   },
   "outputs": [],
   "source": [
    "my_random_df.dropna(inplace=True)"
   ]
  },
  {
   "cell_type": "code",
   "execution_count": 11,
   "metadata": {
    "colab": {
     "base_uri": "https://localhost:8080/",
     "height": 112
    },
    "executionInfo": {
     "elapsed": 187,
     "status": "ok",
     "timestamp": 1641606198060,
     "user": {
      "displayName": "Stephanie Valleau",
      "photoUrl": "https://lh3.googleusercontent.com/a/default-user=s64",
      "userId": "10409275703594313556"
     },
     "user_tz": 480
    },
    "id": "q0BHuap3T2N5",
    "outputId": "8d84f703-2b57-4143-abcc-d557bad7e384"
   },
   "outputs": [
    {
     "data": {
      "text/html": [
       "\n",
       "  <div id=\"df-742e9b9d-4503-4c8b-80c4-05537deaac82\">\n",
       "    <div class=\"colab-df-container\">\n",
       "      <div>\n",
       "<style scoped>\n",
       "    .dataframe tbody tr th:only-of-type {\n",
       "        vertical-align: middle;\n",
       "    }\n",
       "\n",
       "    .dataframe tbody tr th {\n",
       "        vertical-align: top;\n",
       "    }\n",
       "\n",
       "    .dataframe thead th {\n",
       "        text-align: right;\n",
       "    }\n",
       "</style>\n",
       "<table border=\"1\" class=\"dataframe\">\n",
       "  <thead>\n",
       "    <tr style=\"text-align: right;\">\n",
       "      <th></th>\n",
       "      <th>day</th>\n",
       "      <th>caffeine</th>\n",
       "      <th>donuts</th>\n",
       "    </tr>\n",
       "  </thead>\n",
       "  <tbody>\n",
       "    <tr>\n",
       "      <th>0</th>\n",
       "      <td>Monday</td>\n",
       "      <td>100</td>\n",
       "      <td>25.0</td>\n",
       "    </tr>\n",
       "    <tr>\n",
       "      <th>3</th>\n",
       "      <td>Monday</td>\n",
       "      <td>88</td>\n",
       "      <td>9.0</td>\n",
       "    </tr>\n",
       "  </tbody>\n",
       "</table>\n",
       "</div>\n",
       "      <button class=\"colab-df-convert\" onclick=\"convertToInteractive('df-742e9b9d-4503-4c8b-80c4-05537deaac82')\"\n",
       "              title=\"Convert this dataframe to an interactive table.\"\n",
       "              style=\"display:none;\">\n",
       "        \n",
       "  <svg xmlns=\"http://www.w3.org/2000/svg\" height=\"24px\"viewBox=\"0 0 24 24\"\n",
       "       width=\"24px\">\n",
       "    <path d=\"M0 0h24v24H0V0z\" fill=\"none\"/>\n",
       "    <path d=\"M18.56 5.44l.94 2.06.94-2.06 2.06-.94-2.06-.94-.94-2.06-.94 2.06-2.06.94zm-11 1L8.5 8.5l.94-2.06 2.06-.94-2.06-.94L8.5 2.5l-.94 2.06-2.06.94zm10 10l.94 2.06.94-2.06 2.06-.94-2.06-.94-.94-2.06-.94 2.06-2.06.94z\"/><path d=\"M17.41 7.96l-1.37-1.37c-.4-.4-.92-.59-1.43-.59-.52 0-1.04.2-1.43.59L10.3 9.45l-7.72 7.72c-.78.78-.78 2.05 0 2.83L4 21.41c.39.39.9.59 1.41.59.51 0 1.02-.2 1.41-.59l7.78-7.78 2.81-2.81c.8-.78.8-2.07 0-2.86zM5.41 20L4 18.59l7.72-7.72 1.47 1.35L5.41 20z\"/>\n",
       "  </svg>\n",
       "      </button>\n",
       "      \n",
       "  <style>\n",
       "    .colab-df-container {\n",
       "      display:flex;\n",
       "      flex-wrap:wrap;\n",
       "      gap: 12px;\n",
       "    }\n",
       "\n",
       "    .colab-df-convert {\n",
       "      background-color: #E8F0FE;\n",
       "      border: none;\n",
       "      border-radius: 50%;\n",
       "      cursor: pointer;\n",
       "      display: none;\n",
       "      fill: #1967D2;\n",
       "      height: 32px;\n",
       "      padding: 0 0 0 0;\n",
       "      width: 32px;\n",
       "    }\n",
       "\n",
       "    .colab-df-convert:hover {\n",
       "      background-color: #E2EBFA;\n",
       "      box-shadow: 0px 1px 2px rgba(60, 64, 67, 0.3), 0px 1px 3px 1px rgba(60, 64, 67, 0.15);\n",
       "      fill: #174EA6;\n",
       "    }\n",
       "\n",
       "    [theme=dark] .colab-df-convert {\n",
       "      background-color: #3B4455;\n",
       "      fill: #D2E3FC;\n",
       "    }\n",
       "\n",
       "    [theme=dark] .colab-df-convert:hover {\n",
       "      background-color: #434B5C;\n",
       "      box-shadow: 0px 1px 3px 1px rgba(0, 0, 0, 0.15);\n",
       "      filter: drop-shadow(0px 1px 2px rgba(0, 0, 0, 0.3));\n",
       "      fill: #FFFFFF;\n",
       "    }\n",
       "  </style>\n",
       "\n",
       "      <script>\n",
       "        const buttonEl =\n",
       "          document.querySelector('#df-742e9b9d-4503-4c8b-80c4-05537deaac82 button.colab-df-convert');\n",
       "        buttonEl.style.display =\n",
       "          google.colab.kernel.accessAllowed ? 'block' : 'none';\n",
       "\n",
       "        async function convertToInteractive(key) {\n",
       "          const element = document.querySelector('#df-742e9b9d-4503-4c8b-80c4-05537deaac82');\n",
       "          const dataTable =\n",
       "            await google.colab.kernel.invokeFunction('convertToInteractive',\n",
       "                                                     [key], {});\n",
       "          if (!dataTable) return;\n",
       "\n",
       "          const docLinkHtml = 'Like what you see? Visit the ' +\n",
       "            '<a target=\"_blank\" href=https://colab.research.google.com/notebooks/data_table.ipynb>data table notebook</a>'\n",
       "            + ' to learn more about interactive tables.';\n",
       "          element.innerHTML = '';\n",
       "          dataTable['output_type'] = 'display_data';\n",
       "          await google.colab.output.renderOutput(dataTable, element);\n",
       "          const docLink = document.createElement('div');\n",
       "          docLink.innerHTML = docLinkHtml;\n",
       "          element.appendChild(docLink);\n",
       "        }\n",
       "      </script>\n",
       "    </div>\n",
       "  </div>\n",
       "  "
      ],
      "text/plain": [
       "      day  caffeine  donuts\n",
       "0  Monday       100    25.0\n",
       "3  Monday        88     9.0"
      ]
     },
     "execution_count": 11,
     "metadata": {},
     "output_type": "execute_result"
    }
   ],
   "source": [
    "my_random_df"
   ]
  },
  {
   "cell_type": "markdown",
   "metadata": {
    "id": "Gw2XYv-tUBni"
   },
   "source": [
    "Another thing to check for is **missing data**. For example, say we have the first four column values for one entry but the longitude and the latitude are missing, is it still worthwhile to keep that point? Or would it lead to our algorithms interpreting the missing information as something to learn from. If that is the case, those entries should be removed."
   ]
  },
  {
   "cell_type": "markdown",
   "metadata": {
    "id": "PpEYw33qgO1l"
   },
   "source": [
    "\n",
    "Also, sometimes there are **outliers**, i.e. points which are really far from the rest and don't really represent the dataset. You can read more about outliers [here](https://towardsdatascience.com/ways-to-detect-and-remove-the-outliers-404d16608dba). We'll get back to this idea when we have gone through the concept of distributions."
   ]
  },
  {
   "cell_type": "markdown",
   "metadata": {
    "id": "821Y6ygKkSgm"
   },
   "source": [
    "### 5.2.2 Probability distribution\n",
    "\n",
    "When we have a large set of data, such as the NOAA data we might wonder, how likely is it that a specific storm occurs? I.e. what is the *probability* that that event takes place?\n",
    "\n",
    "We can find that probability from a so called **Probability distribution**. This type of distribution describe the likelihood of any event occuring. It can be discrete or continuous.\n",
    "\n",
    "Let's see an example with our dataset. \n",
    "\n",
    "We can visualize the probability of storms at each longitude by making a histogram with the `hist()` function from `matplotlib`. It will give us a count of the number of storms per longitude. We can then divide (also known as *normalize*) by the total number of storms to get the probability."
   ]
  },
  {
   "cell_type": "markdown",
   "metadata": {
    "id": "rj9qjYW0QNEq"
   },
   "source": [
    "```\n",
    "fig, ax = plt.subplots(1,1, figsize=(5,5))\n",
    "ax.hist(storm_df['LONGITUDE'],bins=100, color=\"mediumvioletred\", edgecolor=\"white\") # SV: SWITCH TO FIG, AX\n",
    "ax.set_xlim([-150,0])\n",
    "ax.set_xlabel(\"Longitude\")\n",
    "ax.set_ylabel(\"Count\")\n",
    "fig.show()\n",
    "```"
   ]
  },
  {
   "cell_type": "code",
   "execution_count": 14,
   "metadata": {
    "colab": {
     "base_uri": "https://localhost:8080/",
     "height": 352
    },
    "executionInfo": {
     "elapsed": 1502,
     "status": "ok",
     "timestamp": 1641606460287,
     "user": {
      "displayName": "Stephanie Valleau",
      "photoUrl": "https://lh3.googleusercontent.com/a/default-user=s64",
      "userId": "10409275703594313556"
     },
     "user_tz": 480
    },
    "id": "kPmnuvUupuBZ",
    "outputId": "ad604c91-9e59-4f82-f895-c6321e8560ff"
   },
   "outputs": [
    {
     "data": {
      "image/png": "[encoded data removed]",
      "text/plain": [
       "<Figure size 360x360 with 1 Axes>"
      ]
     },
     "metadata": {
      "needs_background": "light"
     },
     "output_type": "display_data"
    }
   ],
   "source": [
    "fig, ax = plt.subplots(1,1, figsize=(5,5))\n",
    "ax.hist(storm_df['LONGITUDE'], bins=100, color=\"mediumvioletred\", edgecolor=\"white\") \n",
    "ax.set_xlim([-150,0])\n",
    "ax.set_xlabel(\"Longitude\")\n",
    "ax.set_ylabel(\"Count\")\n",
    "fig.show()"
   ]
  },
  {
   "cell_type": "markdown",
   "metadata": {
    "id": "5gOu9_TDrhfn"
   },
   "source": [
    "Let's see what the probability distribution looks like. Here is we use the option \n",
    "\n",
    "```\n",
    "density=True\n",
    "```\n",
    "\n",
    "in `hist()`. This corresponds to dividing by the total number of entries. \n",
    "\n",
    "```\n",
    "Num_storms = storm_df.shape[0]\n",
    "\n",
    "fig, ax = plt.subplots(1,1, figsize=(5,5))\n",
    "_, bins, _ = ax.hist(storm_df['LONGITUDE'],bins=100, density=True, color=\"cornflowerblue\", edgecolor=\"white\") # SV: SWITCH TO FIG, AX\n",
    "ax.set_xlim([-150,0])\n",
    "ax.set_xlabel(\"Longitude\")\n",
    "ax.set_ylabel(\"Probability\")\n",
    "```\n"
   ]
  },
  {
   "cell_type": "code",
   "execution_count": 15,
   "metadata": {
    "colab": {
     "base_uri": "https://localhost:8080/",
     "height": 369
    },
    "executionInfo": {
     "elapsed": 627,
     "status": "ok",
     "timestamp": 1641606596348,
     "user": {
      "displayName": "Stephanie Valleau",
      "photoUrl": "https://lh3.googleusercontent.com/a/default-user=s64",
      "userId": "10409275703594313556"
     },
     "user_tz": 480
    },
    "id": "8GeFzGpMU08n",
    "outputId": "1fe8f369-a163-4df6-f403-7c3e018db3ca"
   },
   "outputs": [
    {
     "data": {
      "text/plain": [
       "Text(0, 0.5, 'Probability')"
      ]
     },
     "execution_count": 15,
     "metadata": {},
     "output_type": "execute_result"
    },
    {
     "data": {
      "image/png": "[encoded data removed]",
      "text/plain": [
       "<Figure size 360x360 with 1 Axes>"
      ]
     },
     "metadata": {
      "needs_background": "light"
     },
     "output_type": "display_data"
    }
   ],
   "source": [
    "Num_storms = storm_df.shape[0]\n",
    "\n",
    "fig, ax = plt.subplots(1,1, figsize=(5,5))\n",
    "_, bins, _ = ax.hist(storm_df['LONGITUDE'], bins=100, density=True, color=\"cornflowerblue\", edgecolor=\"white\") # SV: SWITCH TO FIG, AX\n",
    "ax.set_xlim([-150,0])\n",
    "ax.set_xlabel(\"Longitude\")\n",
    "ax.set_ylabel(\"Probability\")"
   ]
  },
  {
   "cell_type": "markdown",
   "metadata": {
    "id": "H0CLieFCU5CL"
   },
   "source": [
    "We can also fit a curve to this histogram by using the `scipy.stats.norm.fit()` [function](https://docs.scipy.org/doc/scipy-0.13.0/reference/generated/scipy.stats.norm.html).  This function takes an array of values in input and returns the parameters of the so called \"normal\" distribution function which best fit the input values. We will see more about the normal distribution in a few cells. The values which are returned are the mean (mu) and standard deviation (sigma) ... again terms we will return to soon. \n",
    "\n",
    "If we want to plot our fitting normal distribution function we can use another function `norm.pdf()`. This function returns the `Y` axis values of the normal distribution based on its mean and standard deviation at each point in `X`:\n",
    "\n",
    "`Y = scipy.stats.norm.pdf(X, mu, sigma)`\n",
    "\n"
   ]
  },
  {
   "cell_type": "markdown",
   "metadata": {
    "id": "aY-gcUttQXen"
   },
   "source": [
    "```\n",
    "fig, ax = plt.subplots(1,1, figsize=(5,5))\n",
    "_, bins, _ = ax.hist(storm_df['LONGITUDE'],bins=100, density=True, color=\"cornflowerblue\", edgecolor=\"white\") # SV: SWITCH TO FIG, AX\n",
    "ax.set_xlim([-150,0])\n",
    "ax.set_xlabel(\"Longitude\")\n",
    "ax.set_ylabel(\"Probability\")\n",
    "\n",
    "print(bins)\n",
    "\n",
    "mu, sigma = scipy.stats.norm.fit(storm_df['LONGITUDE']) # Get the values of mu and sigma by fitting our data to a normal distribution\n",
    "best_fit_line = scipy.stats.norm.pdf(bins, mu, sigma)   # Get the y-values of the normal distribution for each x-value in our histogram - i.e the bins\n",
    "ax.plot(bins, best_fit_line, lw=3, color='navy')\n",
    "\n",
    "fig.show()\n",
    "```"
   ]
  },
  {
   "cell_type": "code",
   "execution_count": 16,
   "metadata": {
    "colab": {
     "base_uri": "https://localhost:8080/",
     "height": 647
    },
    "executionInfo": {
     "elapsed": 684,
     "status": "ok",
     "timestamp": 1641606802402,
     "user": {
      "displayName": "Stephanie Valleau",
      "photoUrl": "https://lh3.googleusercontent.com/a/default-user=s64",
      "userId": "10409275703594313556"
     },
     "user_tz": 480
    },
    "id": "ollmkPyJqNyp",
    "outputId": "f4d74ed6-db2f-45a5-ab45-625d9857c552"
   },
   "outputs": [
    {
     "name": "stdout",
     "output_type": "stream",
     "text": [
      "[-170.8164   -167.660236 -164.504072 -161.347908 -158.191744 -155.03558\n",
      " -151.879416 -148.723252 -145.567088 -142.410924 -139.25476  -136.098596\n",
      " -132.942432 -129.786268 -126.630104 -123.47394  -120.317776 -117.161612\n",
      " -114.005448 -110.849284 -107.69312  -104.536956 -101.380792  -98.224628\n",
      "  -95.068464  -91.9123    -88.756136  -85.599972  -82.443808  -79.287644\n",
      "  -76.13148   -72.975316  -69.819152  -66.662988  -63.506824  -60.35066\n",
      "  -57.194496  -54.038332  -50.882168  -47.726004  -44.56984   -41.413676\n",
      "  -38.257512  -35.101348  -31.945184  -28.78902   -25.632856  -22.476692\n",
      "  -19.320528  -16.164364  -13.0082     -9.852036   -6.695872   -3.539708\n",
      "   -0.383544    2.77262     5.928784    9.084948   12.241112   15.397276\n",
      "   18.55344    21.709604   24.865768   28.021932   31.178096   34.33426\n",
      "   37.490424   40.646588   43.802752   46.958916   50.11508    53.271244\n",
      "   56.427408   59.583572   62.739736   65.8959     69.052064   72.208228\n",
      "   75.364392   78.520556   81.67672    84.832884   87.989048   91.145212\n",
      "   94.301376   97.45754   100.613704  103.769868  106.926032  110.082196\n",
      "  113.23836   116.394524  119.550688  122.706852  125.863016  129.01918\n",
      "  132.175344  135.331508  138.487672  141.643836  144.8     ]\n"
     ]
    },
    {
     "data": {
      "image/png": "[encoded data removed]",
      "text/plain": [
       "<Figure size 360x360 with 1 Axes>"
      ]
     },
     "metadata": {
      "needs_background": "light"
     },
     "output_type": "display_data"
    }
   ],
   "source": [
    "fig, ax = plt.subplots(1,1, figsize=(5,5))\n",
    "_, bins, _ = ax.hist(storm_df['LONGITUDE'], bins=100, density=True, color=\"cornflowerblue\", edgecolor=\"white\") # SV: SWITCH TO FIG, AX\n",
    "ax.set_xlim([-150,0])\n",
    "ax.set_xlabel(\"Longitude\")\n",
    "ax.set_ylabel(\"Probability\")\n",
    "\n",
    "print(bins)\n",
    "\n",
    "mu, sigma = scipy.stats.norm.fit(storm_df['LONGITUDE']) # Get the values of mu and sigma by fitting our data to a normal distribution\n",
    "best_fit_line = scipy.stats.norm.pdf(bins, mu, sigma)   # Get the y-values of the normal distribution for each x-value in our histogram - i.e the bins\n",
    "ax.plot(bins, best_fit_line, lw=3, color='navy')\n",
    "\n",
    "fig.show()"
   ]
  },
  {
   "cell_type": "markdown",
   "metadata": {
    "id": "qanjt0_Drzw1"
   },
   "source": [
    "\n",
    "A few things worth noting:\n",
    "\n",
    "\n",
    "*   The area under the probability distribution curve will always be 1. Each longitude point will have a probability. When I sum all these probabilities I will get 100% i.e. 1. A point must have a longitude, no matter how likely or unlikely it is.\n",
    "*   It looks like some values are more likely than others - for example it seems like very few storms occur at longitude 0 when compare to longitude -100. \n",
    "*   The distribution is not **homogeneous** some values are more likely than others. An example of a **homogeneous** distribution is the so called *uniform* distribution ... it looks like this:\n",
    "\n"
   ]
  },
  {
   "cell_type": "markdown",
   "metadata": {
    "id": "atNM_Aji2DXj"
   },
   "source": [
    "#### 5.2.2.1 Uniform distribution"
   ]
  },
  {
   "cell_type": "markdown",
   "metadata": {
    "id": "4U5m6f8MQfeG"
   },
   "source": [
    "```\n",
    "fig, ax = plt.subplots(figsize=(5,5))\n",
    "ax.hist(np.random.uniform(-5,5,10000000), density=1, color='bisque', edgecolor='orange')\n",
    "ax.set_xlabel('x Value')\n",
    "ax.set_ylabel('p(x) Probability')\n",
    "ax.set_title('Uniform distribution')\n",
    "fig.show()\n",
    "```"
   ]
  },
  {
   "cell_type": "code",
   "execution_count": 17,
   "metadata": {
    "colab": {
     "base_uri": "https://localhost:8080/",
     "height": 377
    },
    "executionInfo": {
     "elapsed": 1025,
     "status": "ok",
     "timestamp": 1641606859287,
     "user": {
      "displayName": "Stephanie Valleau",
      "photoUrl": "https://lh3.googleusercontent.com/a/default-user=s64",
      "userId": "10409275703594313556"
     },
     "user_tz": 480
    },
    "id": "imbIiIDaqmgX",
    "outputId": "bcec1412-14a9-4e9c-f978-abe51d6f9e98"
   },
   "outputs": [
    {
     "data": {
      "image/png": "[encoded data removed]",
      "text/plain": [
       "<Figure size 360x360 with 1 Axes>"
      ]
     },
     "metadata": {
      "needs_background": "light"
     },
     "output_type": "display_data"
    }
   ],
   "source": [
    "fig, ax = plt.subplots(figsize=(5,5))\n",
    "ax.hist(np.random.uniform(-5,5,10000000), bins=50, density=1, color='bisque', edgecolor='orange')\n",
    "ax.set_xlabel('x Value')\n",
    "ax.set_ylabel('p(x) Probability')\n",
    "ax.set_title('Uniform distribution')\n",
    "fig.show()"
   ]
  },
  {
   "cell_type": "markdown",
   "metadata": {
    "id": "S_jdEhENW6UZ"
   },
   "source": [
    "Here we used the numpy `random.uniform()` function. It takes in input the min and max of the X range and the number of X values we want to extract from a uniform distribution. It then returns the position of each of these points based on how likely they are. They are all equally likely! In the limit of infinite points our histogram becomes flat."
   ]
  },
  {
   "cell_type": "markdown",
   "metadata": {
    "id": "YHo718Pv2Ipn"
   },
   "source": [
    "#### 5.2.2.2 Normal distribution"
   ]
  },
  {
   "cell_type": "markdown",
   "metadata": {
    "id": "SfxW6Bvpt7px"
   },
   "source": [
    "We previously introduced a well known type of distribution the *Normal* or *Gaussian* distribution also known as the Bell curve. We used this curve to fit the data in the blue histogram a few cells above. \n",
    "\n"
   ]
  },
  {
   "cell_type": "code",
   "execution_count": 18,
   "metadata": {
    "colab": {
     "base_uri": "https://localhost:8080/",
     "height": 377
    },
    "executionInfo": {
     "elapsed": 1213,
     "status": "ok",
     "timestamp": 1641606947168,
     "user": {
      "displayName": "Stephanie Valleau",
      "photoUrl": "https://lh3.googleusercontent.com/a/default-user=s64",
      "userId": "10409275703594313556"
     },
     "user_tz": 480
    },
    "id": "n7KiRT-i2rj7",
    "outputId": "cd5b5727-410b-4fe6-f7ce-6e2d51e33e74"
   },
   "outputs": [
    {
     "data": {
      "image/png": "[encoded data removed]",
      "text/plain": [
       "<Figure size 360x360 with 1 Axes>"
      ]
     },
     "metadata": {
      "needs_background": "light"
     },
     "output_type": "display_data"
    }
   ],
   "source": [
    "fig, ax = plt.subplots(figsize=(5,5))\n",
    "ax.hist(np.random.normal(-5,5,10000000), bins=50, density=1, color='lemonchiffon', edgecolor='orange')\n",
    "ax.set_xlabel('x Value')\n",
    "ax.set_ylabel('p(x) Probability')\n",
    "ax.set_title('Normal distribution')\n",
    "fig.show()"
   ]
  },
  {
   "cell_type": "markdown",
   "metadata": {
    "id": "aHJt5uFh2z6P"
   },
   "source": [
    "5.2.2.3 The NOAA distrubtions"
   ]
  },
  {
   "cell_type": "markdown",
   "metadata": {
    "id": "718gvejYQ84I"
   },
   "source": [
    "```\n",
    "storm_df.hist(figsize=(20,20), bins=50)\n",
    "plt.show()\n",
    "```"
   ]
  },
  {
   "cell_type": "code",
   "execution_count": 20,
   "metadata": {
    "colab": {
     "base_uri": "https://localhost:8080/",
     "height": 1000
    },
    "executionInfo": {
     "elapsed": 2513,
     "status": "ok",
     "timestamp": 1641607079357,
     "user": {
      "displayName": "Stephanie Valleau",
      "photoUrl": "https://lh3.googleusercontent.com/a/default-user=s64",
      "userId": "10409275703594313556"
     },
     "user_tz": 480
    },
    "id": "lgSjjx2qkZqp",
    "outputId": "92250605-87bf-43d2-d55b-9d3dc2c25db7"
   },
   "outputs": [
    {
     "data": {
      "image/png": "[encoded data removed]",
      "text/plain": [
       "<Figure size 1440x1440 with 9 Axes>"
      ]
     },
     "metadata": {
      "needs_background": "light"
     },
     "output_type": "display_data"
    }
   ],
   "source": [
    "# Let's plot a histogram of all variables each in a separate plot\n",
    "storm_df.hist(figsize=(20,20), bins=50)\n",
    "plt.show()"
   ]
  },
  {
   "cell_type": "markdown",
   "metadata": {
    "id": "eAcHDd1vQBwY"
   },
   "source": [
    "### 5.2.3 Mean and standard deviation\n",
    "We just introduced the concept of distributions. Here we will look at how to quantify the most likely value of the distribution as well as how spreadout the distribution is. Let's recall what is in our dataset \n"
   ]
  },
  {
   "cell_type": "code",
   "execution_count": null,
   "metadata": {
    "id": "gVIbouXA60Cy"
   },
   "outputs": [],
   "source": [
    "storm_df.columns"
   ]
  },
  {
   "cell_type": "markdown",
   "metadata": {
    "id": "Fd581tNav4IA"
   },
   "source": [
    "On average what is the longitude location, X, of the storms?"
   ]
  },
  {
   "cell_type": "markdown",
   "metadata": {
    "id": "5ZlqE37qqrMC"
   },
   "source": [
    "\n",
    "\n",
    "We can compute the average longitude by summing over the values of longitude from each storm $X=\\left\\{X_0, X_1, ..., X_N\\right\\}$ and normalizing by the total number of events $N$:\n",
    "\n",
    "$$\\mu_{X} = \\left(X_0 + X_1 + X_2 + ... + X_N \\right)/N =\\sum_{i=0}^{N}\\frac{X_i}{N}$$\n",
    "\n",
    "This quantity is also known as the **mean**. We can use the `pandas` dataframe [`mean`](https://pandas.pydata.org/docs/reference/api/pandas.DataFrame.mean.html) function to obtain it:\n",
    "\n",
    "```\n",
    "mean_longitude = storm_df['LONGITUDE'].mean()  # mean() acts on the dataframe column `storm_df['LONGITUDE']` and return the float value of the mean longitude\n",
    "\n",
    "mean_longitude\n",
    "```"
   ]
  },
  {
   "cell_type": "code",
   "execution_count": 21,
   "metadata": {
    "colab": {
     "base_uri": "https://localhost:8080/"
    },
    "executionInfo": {
     "elapsed": 179,
     "status": "ok",
     "timestamp": 1641607316451,
     "user": {
      "displayName": "Stephanie Valleau",
      "photoUrl": "https://lh3.googleusercontent.com/a/default-user=s64",
      "userId": "10409275703594313556"
     },
     "user_tz": 480
    },
    "id": "l6ivXmVdr1g0",
    "outputId": "cc18539c-ffdb-4857-9cbd-725cf6a4d22d"
   },
   "outputs": [
    {
     "data": {
      "text/plain": [
       "-90.9736698224961"
      ]
     },
     "execution_count": 21,
     "metadata": {},
     "output_type": "execute_result"
    }
   ],
   "source": [
    "mean_longitude = storm_df['LONGITUDE'].mean()  # mean() acts on the dataframe column `storm_df['LONGITUDE']` and return the float value of the mean longitude\n",
    "\n",
    "mean_longitude"
   ]
  },
  {
   "cell_type": "markdown",
   "metadata": {
    "id": "KgObKVDLfv2S"
   },
   "source": [
    "Let's plot the mean as a line at the position of the mean\n",
    "\n",
    "```\n",
    "fig, ax = plt.subplots(1,1, figsize=(5,5))\n",
    "ax.hist(storm_df['LONGITUDE'],bins=100, density=True, color=\"cornflowerblue\", edgecolor=\"white\") # SV: SWITCH TO FIG, AX\n",
    "ax.plot([mean_longitude,mean_longitude],[0,0.05],'k',lw=3, label=\"mean\") # two identical x values and two different y values to plot a line for the mean\n",
    "ax.set_xlim([-150,0])\n",
    "ax.set_ylim([0,0.045])\n",
    "ax.set_xlabel(\"Longitude\")\n",
    "ax.set_ylabel(\"Probability\")\n",
    "ax.legend()\n",
    "```"
   ]
  },
  {
   "cell_type": "code",
   "execution_count": 24,
   "metadata": {
    "colab": {
     "base_uri": "https://localhost:8080/",
     "height": 352
    },
    "executionInfo": {
     "elapsed": 404,
     "status": "ok",
     "timestamp": 1641607449620,
     "user": {
      "displayName": "Stephanie Valleau",
      "photoUrl": "https://lh3.googleusercontent.com/a/default-user=s64",
      "userId": "10409275703594313556"
     },
     "user_tz": 480
    },
    "id": "EWDaBCmCwlXc",
    "outputId": "10946b15-aa78-41ca-f2e9-fed524bd7392"
   },
   "outputs": [
    {
     "data": {
      "image/png": "[encoded data removed]",
      "text/plain": [
       "<Figure size 360x360 with 1 Axes>"
      ]
     },
     "metadata": {
      "needs_background": "light"
     },
     "output_type": "display_data"
    }
   ],
   "source": [
    "fig, ax = plt.subplots(1,1, figsize=(5,5))\n",
    "ax.hist(storm_df['LONGITUDE'],bins=50, density=True, color=\"cornflowerblue\", edgecolor=\"white\") # SV: SWITCH TO FIG, AX\n",
    "ax.plot([mean_longitude,mean_longitude],[0,0.05],'k',lw=3, label=\"mean\") # two identical x values and two different y values to plot a line for the mean\n",
    "ax.set_xlim([-150,0])\n",
    "ax.set_ylim([0,0.045])\n",
    "ax.set_xlabel(\"Longitude\")\n",
    "ax.set_ylabel(\"Probability\")\n",
    "ax.legend()\n",
    "fig.show()"
   ]
  },
  {
   "cell_type": "markdown",
   "metadata": {
    "id": "cxA0gPY5sYMs"
   },
   "source": [
    "##### Now what is std - the **standard deviation** ?\n",
    "\n",
    "The standard deviation quantifies the average distance of points $X=\\left\\{X_0, X_1, ..., X_N\\right\\}$ from the mean $\\mu_X$:\n",
    "\n",
    "$$\\sigma_{X}=\\sqrt{\\frac{\\sum_{i=0}^{N}(X_i-\\mu_X)^2}{N-1}}$$\n",
    "\n",
    "The square of the standard deviation is known as the **variance**.\n",
    "\n",
    "One question we might have is: are all points close to -90.9736698224961?\n",
    "\n"
   ]
  },
  {
   "cell_type": "markdown",
   "metadata": {
    "id": "2lf_loItt-72"
   },
   "source": [
    "From our intial histogram we might expect the standard deviation to be around the order of maybe ~15. We can think of it as some measure of the width of the histogram (distribution) ... let's compute it using the pandas dataframe [`std()`](https://pandas.pydata.org/docs/reference/api/pandas.DataFrame.std.html) function\n",
    "\n",
    "```\n",
    "std_longitude = storm_df['LONGITUDE'].std() # std() acts on the 'LONGITUDE' colum of storm_df and returns the standard deviation\n",
    "std_longitude\n",
    "```"
   ]
  },
  {
   "cell_type": "code",
   "execution_count": 25,
   "metadata": {
    "colab": {
     "base_uri": "https://localhost:8080/"
    },
    "executionInfo": {
     "elapsed": 145,
     "status": "ok",
     "timestamp": 1641607545317,
     "user": {
      "displayName": "Stephanie Valleau",
      "photoUrl": "https://lh3.googleusercontent.com/a/default-user=s64",
      "userId": "10409275703594313556"
     },
     "user_tz": 480
    },
    "id": "qfGVErI1ogxv",
    "outputId": "c75dba44-ccd8-4c7a-e3a2-cbc2c4c37659"
   },
   "outputs": [
    {
     "data": {
      "text/plain": [
       "12.140571185332993"
      ]
     },
     "execution_count": 25,
     "metadata": {},
     "output_type": "execute_result"
    }
   ],
   "source": [
    "std_longitude = storm_df['LONGITUDE'].std() # std() acts on the 'LONGITUDE' colum of storm_df and returns the standard deviation\n",
    "std_longitude"
   ]
  },
  {
   "cell_type": "markdown",
   "metadata": {
    "id": "q5mUkLS0gw35"
   },
   "source": [
    "Let's plot the standard deviation using an *arrow* plot ([more info on arrow plots here](https://matplotlib.org/stable/api/_as_gen/matplotlib.pyplot.arrow.html))\n",
    "\n",
    "```\n",
    "fig, ax = plt.subplots(1,1, figsize=(5,5))\n",
    "ax.hist(storm_df['LONGITUDE'],bins=100, density=True, color=\"cornflowerblue\", edgecolor=\"white\") # SV: SWITCH TO FIG, AX\n",
    "ax.plot([mean_longitude,mean_longitude],[0,0.05],'k',lw=3, label=\"mean\")\n",
    "ax.arrow(mean_longitude, 0.02, std_longitude, 0, color=\"tomato\")\n",
    "ax.arrow(mean_longitude, 0.02, -std_longitude, 0, color=\"tomato\")\n",
    "ax.set_xlim([-150,0])\n",
    "ax.set_ylim([0,0.045])\n",
    "ax.set_xlabel(\"Longitude\")\n",
    "ax.set_ylabel(\"Probability\")\n",
    "ax.legend()\n",
    "fig.show()\n",
    "```"
   ]
  },
  {
   "cell_type": "code",
   "execution_count": 26,
   "metadata": {
    "colab": {
     "base_uri": "https://localhost:8080/",
     "height": 352
    },
    "executionInfo": {
     "elapsed": 673,
     "status": "ok",
     "timestamp": 1641607591369,
     "user": {
      "displayName": "Stephanie Valleau",
      "photoUrl": "https://lh3.googleusercontent.com/a/default-user=s64",
      "userId": "10409275703594313556"
     },
     "user_tz": 480
    },
    "id": "bEAbY27JxXwZ",
    "outputId": "7f5c5191-ea05-400c-caf7-bb07ae6856fd"
   },
   "outputs": [
    {
     "data": {
      "image/png": "[encoded data removed]",
      "text/plain": [
       "<Figure size 360x360 with 1 Axes>"
      ]
     },
     "metadata": {
      "needs_background": "light"
     },
     "output_type": "display_data"
    }
   ],
   "source": [
    "fig, ax = plt.subplots(1,1, figsize=(5,5))\n",
    "ax.hist(storm_df['LONGITUDE'],bins=100, density=True, color=\"cornflowerblue\", edgecolor=\"white\") # SV: SWITCH TO FIG, AX\n",
    "ax.plot([mean_longitude,mean_longitude],[0,0.05],'k',lw=3, label=\"mean\")\n",
    "ax.arrow(mean_longitude, 0.02, std_longitude, 0, color=\"tomato\")\n",
    "ax.arrow(mean_longitude, 0.02, -std_longitude, 0, color=\"tomato\")\n",
    "ax.set_xlim([-150,0])\n",
    "ax.set_ylim([0,0.045])\n",
    "ax.set_xlabel(\"Longitude\")\n",
    "ax.set_ylabel(\"Probability\")\n",
    "ax.legend()\n",
    "fig.show()"
   ]
  },
  {
   "cell_type": "markdown",
   "metadata": {
    "id": "6KmZsIXSsQXn"
   },
   "source": [
    "We could compute the mean and standard deviation for all columns! Luckily pandas does that for us with the describe function:\n",
    "\n",
    "```\n",
    "storm_df.describe()\n",
    "```\n",
    "\n"
   ]
  },
  {
   "cell_type": "code",
   "execution_count": 27,
   "metadata": {
    "colab": {
     "base_uri": "https://localhost:8080/",
     "height": 300
    },
    "executionInfo": {
     "elapsed": 194,
     "status": "ok",
     "timestamp": 1641607715920,
     "user": {
      "displayName": "Stephanie Valleau",
      "photoUrl": "https://lh3.googleusercontent.com/a/default-user=s64",
      "userId": "10409275703594313556"
     },
     "user_tz": 480
    },
    "id": "edp72GncsPti",
    "outputId": "509c1fdc-5620-47cf-9a07-73bd8fd8c3bf"
   },
   "outputs": [
    {
     "data": {
      "text/html": [
       "\n",
       "  <div id=\"df-f0ddf0ff-1cd3-42b6-bcf5-1e8f9f9d49c2\">\n",
       "    <div class=\"colab-df-container\">\n",
       "      <div>\n",
       "<style scoped>\n",
       "    .dataframe tbody tr th:only-of-type {\n",
       "        vertical-align: middle;\n",
       "    }\n",
       "\n",
       "    .dataframe tbody tr th {\n",
       "        vertical-align: top;\n",
       "    }\n",
       "\n",
       "    .dataframe thead th {\n",
       "        text-align: right;\n",
       "    }\n",
       "</style>\n",
       "<table border=\"1\" class=\"dataframe\">\n",
       "  <thead>\n",
       "    <tr style=\"text-align: right;\">\n",
       "      <th></th>\n",
       "      <th>INJURIES_DIRECT</th>\n",
       "      <th>INJURIES_INDIRECT</th>\n",
       "      <th>DEATHS_DIRECT</th>\n",
       "      <th>DEATHS_INDIRECT</th>\n",
       "      <th>DAMAGE_PROPERTY</th>\n",
       "      <th>DAMAGE_CROPS</th>\n",
       "      <th>LATITUDE</th>\n",
       "      <th>LONGITUDE</th>\n",
       "    </tr>\n",
       "  </thead>\n",
       "  <tbody>\n",
       "    <tr>\n",
       "      <th>count</th>\n",
       "      <td>33633.000000</td>\n",
       "      <td>33633.000000</td>\n",
       "      <td>33633.000000</td>\n",
       "      <td>33633.000000</td>\n",
       "      <td>3.363300e+04</td>\n",
       "      <td>33633.000000</td>\n",
       "      <td>33633.000000</td>\n",
       "      <td>33633.000000</td>\n",
       "    </tr>\n",
       "    <tr>\n",
       "      <th>mean</th>\n",
       "      <td>0.020843</td>\n",
       "      <td>0.000833</td>\n",
       "      <td>0.005292</td>\n",
       "      <td>0.000654</td>\n",
       "      <td>9.669847e+03</td>\n",
       "      <td>2022.798145</td>\n",
       "      <td>37.805027</td>\n",
       "      <td>-90.973670</td>\n",
       "    </tr>\n",
       "    <tr>\n",
       "      <th>std</th>\n",
       "      <td>0.994340</td>\n",
       "      <td>0.037769</td>\n",
       "      <td>0.164768</td>\n",
       "      <td>0.034481</td>\n",
       "      <td>6.330757e+04</td>\n",
       "      <td>24187.988405</td>\n",
       "      <td>5.172795</td>\n",
       "      <td>12.140571</td>\n",
       "    </tr>\n",
       "    <tr>\n",
       "      <th>min</th>\n",
       "      <td>0.000000</td>\n",
       "      <td>0.000000</td>\n",
       "      <td>0.000000</td>\n",
       "      <td>0.000000</td>\n",
       "      <td>0.000000e+00</td>\n",
       "      <td>0.000000</td>\n",
       "      <td>-14.345900</td>\n",
       "      <td>-170.816400</td>\n",
       "    </tr>\n",
       "    <tr>\n",
       "      <th>25%</th>\n",
       "      <td>0.000000</td>\n",
       "      <td>0.000000</td>\n",
       "      <td>0.000000</td>\n",
       "      <td>0.000000</td>\n",
       "      <td>0.000000e+00</td>\n",
       "      <td>0.000000</td>\n",
       "      <td>34.651700</td>\n",
       "      <td>-97.410000</td>\n",
       "    </tr>\n",
       "    <tr>\n",
       "      <th>50%</th>\n",
       "      <td>0.000000</td>\n",
       "      <td>0.000000</td>\n",
       "      <td>0.000000</td>\n",
       "      <td>0.000000</td>\n",
       "      <td>0.000000e+00</td>\n",
       "      <td>0.000000</td>\n",
       "      <td>38.260000</td>\n",
       "      <td>-90.328400</td>\n",
       "    </tr>\n",
       "    <tr>\n",
       "      <th>75%</th>\n",
       "      <td>0.000000</td>\n",
       "      <td>0.000000</td>\n",
       "      <td>0.000000</td>\n",
       "      <td>0.000000</td>\n",
       "      <td>1.000000e+03</td>\n",
       "      <td>0.000000</td>\n",
       "      <td>41.460200</td>\n",
       "      <td>-82.060000</td>\n",
       "    </tr>\n",
       "    <tr>\n",
       "      <th>max</th>\n",
       "      <td>168.000000</td>\n",
       "      <td>3.000000</td>\n",
       "      <td>21.000000</td>\n",
       "      <td>4.000000</td>\n",
       "      <td>5.500000e+06</td>\n",
       "      <td>800000.000000</td>\n",
       "      <td>62.563400</td>\n",
       "      <td>144.800000</td>\n",
       "    </tr>\n",
       "  </tbody>\n",
       "</table>\n",
       "</div>\n",
       "      <button class=\"colab-df-convert\" onclick=\"convertToInteractive('df-f0ddf0ff-1cd3-42b6-bcf5-1e8f9f9d49c2')\"\n",
       "              title=\"Convert this dataframe to an interactive table.\"\n",
       "              style=\"display:none;\">\n",
       "        \n",
       "  <svg xmlns=\"http://www.w3.org/2000/svg\" height=\"24px\"viewBox=\"0 0 24 24\"\n",
       "       width=\"24px\">\n",
       "    <path d=\"M0 0h24v24H0V0z\" fill=\"none\"/>\n",
       "    <path d=\"M18.56 5.44l.94 2.06.94-2.06 2.06-.94-2.06-.94-.94-2.06-.94 2.06-2.06.94zm-11 1L8.5 8.5l.94-2.06 2.06-.94-2.06-.94L8.5 2.5l-.94 2.06-2.06.94zm10 10l.94 2.06.94-2.06 2.06-.94-2.06-.94-.94-2.06-.94 2.06-2.06.94z\"/><path d=\"M17.41 7.96l-1.37-1.37c-.4-.4-.92-.59-1.43-.59-.52 0-1.04.2-1.43.59L10.3 9.45l-7.72 7.72c-.78.78-.78 2.05 0 2.83L4 21.41c.39.39.9.59 1.41.59.51 0 1.02-.2 1.41-.59l7.78-7.78 2.81-2.81c.8-.78.8-2.07 0-2.86zM5.41 20L4 18.59l7.72-7.72 1.47 1.35L5.41 20z\"/>\n",
       "  </svg>\n",
       "      </button>\n",
       "      \n",
       "  <style>\n",
       "    .colab-df-container {\n",
       "      display:flex;\n",
       "      flex-wrap:wrap;\n",
       "      gap: 12px;\n",
       "    }\n",
       "\n",
       "    .colab-df-convert {\n",
       "      background-color: #E8F0FE;\n",
       "      border: none;\n",
       "      border-radius: 50%;\n",
       "      cursor: pointer;\n",
       "      display: none;\n",
       "      fill: #1967D2;\n",
       "      height: 32px;\n",
       "      padding: 0 0 0 0;\n",
       "      width: 32px;\n",
       "    }\n",
       "\n",
       "    .colab-df-convert:hover {\n",
       "      background-color: #E2EBFA;\n",
       "      box-shadow: 0px 1px 2px rgba(60, 64, 67, 0.3), 0px 1px 3px 1px rgba(60, 64, 67, 0.15);\n",
       "      fill: #174EA6;\n",
       "    }\n",
       "\n",
       "    [theme=dark] .colab-df-convert {\n",
       "      background-color: #3B4455;\n",
       "      fill: #D2E3FC;\n",
       "    }\n",
       "\n",
       "    [theme=dark] .colab-df-convert:hover {\n",
       "      background-color: #434B5C;\n",
       "      box-shadow: 0px 1px 3px 1px rgba(0, 0, 0, 0.15);\n",
       "      filter: drop-shadow(0px 1px 2px rgba(0, 0, 0, 0.3));\n",
       "      fill: #FFFFFF;\n",
       "    }\n",
       "  </style>\n",
       "\n",
       "      <script>\n",
       "        const buttonEl =\n",
       "          document.querySelector('#df-f0ddf0ff-1cd3-42b6-bcf5-1e8f9f9d49c2 button.colab-df-convert');\n",
       "        buttonEl.style.display =\n",
       "          google.colab.kernel.accessAllowed ? 'block' : 'none';\n",
       "\n",
       "        async function convertToInteractive(key) {\n",
       "          const element = document.querySelector('#df-f0ddf0ff-1cd3-42b6-bcf5-1e8f9f9d49c2');\n",
       "          const dataTable =\n",
       "            await google.colab.kernel.invokeFunction('convertToInteractive',\n",
       "                                                     [key], {});\n",
       "          if (!dataTable) return;\n",
       "\n",
       "          const docLinkHtml = 'Like what you see? Visit the ' +\n",
       "            '<a target=\"_blank\" href=https://colab.research.google.com/notebooks/data_table.ipynb>data table notebook</a>'\n",
       "            + ' to learn more about interactive tables.';\n",
       "          element.innerHTML = '';\n",
       "          dataTable['output_type'] = 'display_data';\n",
       "          await google.colab.output.renderOutput(dataTable, element);\n",
       "          const docLink = document.createElement('div');\n",
       "          docLink.innerHTML = docLinkHtml;\n",
       "          element.appendChild(docLink);\n",
       "        }\n",
       "      </script>\n",
       "    </div>\n",
       "  </div>\n",
       "  "
      ],
      "text/plain": [
       "       INJURIES_DIRECT  INJURIES_INDIRECT  ...      LATITUDE     LONGITUDE\n",
       "count     33633.000000       33633.000000  ...  33633.000000  33633.000000\n",
       "mean          0.020843           0.000833  ...     37.805027    -90.973670\n",
       "std           0.994340           0.037769  ...      5.172795     12.140571\n",
       "min           0.000000           0.000000  ...    -14.345900   -170.816400\n",
       "25%           0.000000           0.000000  ...     34.651700    -97.410000\n",
       "50%           0.000000           0.000000  ...     38.260000    -90.328400\n",
       "75%           0.000000           0.000000  ...     41.460200    -82.060000\n",
       "max         168.000000           3.000000  ...     62.563400    144.800000\n",
       "\n",
       "[8 rows x 8 columns]"
      ]
     },
     "execution_count": 27,
     "metadata": {},
     "output_type": "execute_result"
    }
   ],
   "source": [
    "storm_df.describe()"
   ]
  },
  {
   "cell_type": "markdown",
   "metadata": {
    "id": "a2ByCL9UujIL"
   },
   "source": [
    "Here we see that every column has a different mean and standard deviation! This is important because it gives us information on the data we have. "
   ]
  },
  {
   "cell_type": "markdown",
   "metadata": {
    "id": "YOt8kjELU6uB"
   },
   "source": [
    "Now we can go back to the idea of **outliers**. Generally speaking if a point is more than +3 or -3 standard deviations from the mean it is very unlikely and can be considered as an outlier. There are better ways to identify outliers but it is definetly something you want to keep in mind.  "
   ]
  },
  {
   "cell_type": "markdown",
   "metadata": {
    "id": "o2mg4z4Qy-at"
   },
   "source": [
    "### 5.2.4 Scaling the data"
   ]
  },
  {
   "cell_type": "markdown",
   "metadata": {
    "id": "8bmx7R1AQ6oV"
   },
   "source": [
    "Lastly it is often good to consider **scaling** or **normalizing** the data which will be passed to functions for machine learning. You don't need this in all cases, but say you have one column that is the amount of coffee your drink in units of molecules, so the numbers are on the order of millions. Then you also have a column that gives you the total hours you work each day. Here the numbers are on the order of 10. You don't want the algorithm to give more importance to the number of molecules with respect to the number of hours. Here are two solutions:\n",
    "* You can **scale** the data from whatever the current min and max values are down to the range of [0, 1] or [-1, 1]. This means changing the x-range of values over which the data is defined. \n",
    "\n",
    "* You can **normalize** the data. Here the x-range of values would not change, but the y values would be normalized by the area under the curve which best fits the data.\n",
    "\n",
    "For more information see [here](https://towardsdatascience.com/understand-data-normalization-in-machine-learning-8ff3062101f0). \n",
    "\n",
    "Let's do this for our dataset. Note that we can only do this for numerical values. We will soon see how to manage string or categorical entries."
   ]
  },
  {
   "cell_type": "code",
   "execution_count": null,
   "metadata": {
    "id": "oQTwY8Wqxfse"
   },
   "outputs": [],
   "source": [
    "storm_df.describe()"
   ]
  },
  {
   "cell_type": "markdown",
   "metadata": {
    "id": "UFNOwzBrPt1Z"
   },
   "source": [
    "```\n",
    "# Select the X_data as all columns except the `'EVENT_TYPE'` from storm_df\n",
    "X_data = storm_df[['INJURIES_DIRECT', 'INJURIES_INDIRECT', \\\n",
    "                   'DEATHS_DIRECT', 'DEATHS_INDIRECT', 'DAMAGE_PROPERTY', 'DAMAGE_CROPS', \\\n",
    "                   'LATITUDE','LONGITUDE']] \n",
    "```"
   ]
  },
  {
   "cell_type": "code",
   "execution_count": 29,
   "metadata": {
    "colab": {
     "base_uri": "https://localhost:8080/"
    },
    "executionInfo": {
     "elapsed": 153,
     "status": "ok",
     "timestamp": 1641608044801,
     "user": {
      "displayName": "Stephanie Valleau",
      "photoUrl": "https://lh3.googleusercontent.com/a/default-user=s64",
      "userId": "10409275703594313556"
     },
     "user_tz": 480
    },
    "id": "pTcDiO78QP0Z",
    "outputId": "25ae448b-d596-4da4-82cc-c833479aab3e"
   },
   "outputs": [
    {
     "data": {
      "text/plain": [
       "pandas.core.frame.DataFrame"
      ]
     },
     "execution_count": 29,
     "metadata": {},
     "output_type": "execute_result"
    }
   ],
   "source": [
    "# Select the X_data as all columns except the `'EVENT_TYPE'` from storm_df\n",
    "X_data = storm_df[['INJURIES_DIRECT', 'INJURIES_INDIRECT', \n",
    "                   'DEATHS_DIRECT', 'DEATHS_INDIRECT', 'DAMAGE_PROPERTY', 'DAMAGE_CROPS', \n",
    "                   'LATITUDE','LONGITUDE']] \n",
    "\n",
    "type(X_data)"
   ]
  },
  {
   "cell_type": "markdown",
   "metadata": {
    "id": "ncI_uEUXRrVM"
   },
   "source": [
    "We can scale the columns in `X_data` by using the `MinMaxScaler()` function implemented in scikit-learn ([more info here](https://scikit-learn.org/stable/modules/generated/sklearn.preprocessing.MinMaxScaler.html)) and it's method the `fit_transform()` function which takes a tuple in input and returns the updated dataframe ([info on fit_transform](https://scikit-learn.org/stable/modules/generated/sklearn.preprocessing.MinMaxScaler.html#sklearn.preprocessing.MinMaxScaler.fit_transform)). Here after applying `fit_transform()` to our data we expect it to return our data in its scaled form. Let's check. \n",
    "\n",
    "```\n",
    "min_max_scaler = MinMaxScaler()                 # Create a MinMaxScaler() object\n",
    "X_scaled = min_max_scaler.fit_transform(X_data) # Use the fit_transform() function of the MinMaxScaler() on the X_data\n",
    "```\n"
   ]
  },
  {
   "cell_type": "code",
   "execution_count": 32,
   "metadata": {
    "colab": {
     "base_uri": "https://localhost:8080/"
    },
    "executionInfo": {
     "elapsed": 158,
     "status": "ok",
     "timestamp": 1641608200844,
     "user": {
      "displayName": "Stephanie Valleau",
      "photoUrl": "https://lh3.googleusercontent.com/a/default-user=s64",
      "userId": "10409275703594313556"
     },
     "user_tz": 480
    },
    "id": "UmLsCdGyRqnt",
    "outputId": "7ab6f3d9-9769-40b9-bb33-008c21af74e6"
   },
   "outputs": [
    {
     "data": {
      "text/plain": [
       "numpy.ndarray"
      ]
     },
     "execution_count": 32,
     "metadata": {},
     "output_type": "execute_result"
    }
   ],
   "source": [
    "min_max_scaler = MinMaxScaler()                # Create a MinMaxScaler() object\n",
    "X_scaled = min_max_scaler.fit_transform(X_data) # Use the fit_transform() function of the MinMaxScaler() on the X_data\n",
    "type(X_scaled)\n"
   ]
  },
  {
   "cell_type": "markdown",
   "metadata": {
    "id": "3O34nqRSTHdh"
   },
   "source": [
    "Let's store it back in a dataframe"
   ]
  },
  {
   "cell_type": "markdown",
   "metadata": {
    "id": "Ebsf9apWQFnA"
   },
   "source": [
    "```\n",
    "scaled_storm_df = pd.DataFrame(X_scaled, columns= ['INJURIES_DIRECT', 'INJURIES_INDIRECT',\n",
    "       'DEATHS_DIRECT', 'DEATHS_INDIRECT', 'DAMAGE_PROPERTY', 'DAMAGE_CROPS',\n",
    "       'LATITUDE', 'LONGITUDE'])\n",
    "scaled_storm_df['BEGIN_DATE_TIME'] = storm_df['BEGIN_DATE_TIME'].values\n",
    "scaled_storm_df['EVENT_TYPE' ] = storm_df['EVENT_TYPE'].values\n",
    "```"
   ]
  },
  {
   "cell_type": "code",
   "execution_count": 33,
   "metadata": {
    "executionInfo": {
     "elapsed": 149,
     "status": "ok",
     "timestamp": 1641608306390,
     "user": {
      "displayName": "Stephanie Valleau",
      "photoUrl": "https://lh3.googleusercontent.com/a/default-user=s64",
      "userId": "10409275703594313556"
     },
     "user_tz": 480
    },
    "id": "dqdKI2E5TEIE"
   },
   "outputs": [],
   "source": [
    "# Copy scaled values\n",
    "scaled_storm_df = pd.DataFrame(X_scaled, columns= ['INJURIES_DIRECT', 'INJURIES_INDIRECT',\n",
    "       'DEATHS_DIRECT', 'DEATHS_INDIRECT', 'DAMAGE_PROPERTY', 'DAMAGE_CROPS',\n",
    "       'LATITUDE', 'LONGITUDE'])\n",
    "\n",
    "# Add categorical values\n",
    "scaled_storm_df['BEGIN_DATE_TIME'] = storm_df['BEGIN_DATE_TIME'].values\n",
    "scaled_storm_df['EVENT_TYPE' ] = storm_df['EVENT_TYPE'].values\n"
   ]
  },
  {
   "cell_type": "code",
   "execution_count": 36,
   "metadata": {
    "colab": {
     "base_uri": "https://localhost:8080/",
     "height": 300
    },
    "executionInfo": {
     "elapsed": 159,
     "status": "ok",
     "timestamp": 1641608343715,
     "user": {
      "displayName": "Stephanie Valleau",
      "photoUrl": "https://lh3.googleusercontent.com/a/default-user=s64",
      "userId": "10409275703594313556"
     },
     "user_tz": 480
    },
    "id": "0jUEMiw84S6Q",
    "outputId": "f1f17b86-cdb0-4c4f-eafb-51e427c59d72"
   },
   "outputs": [
    {
     "data": {
      "text/html": [
       "\n",
       "  <div id=\"df-2f259d3b-b370-4840-bf41-e3b1a56fe02f\">\n",
       "    <div class=\"colab-df-container\">\n",
       "      <div>\n",
       "<style scoped>\n",
       "    .dataframe tbody tr th:only-of-type {\n",
       "        vertical-align: middle;\n",
       "    }\n",
       "\n",
       "    .dataframe tbody tr th {\n",
       "        vertical-align: top;\n",
       "    }\n",
       "\n",
       "    .dataframe thead th {\n",
       "        text-align: right;\n",
       "    }\n",
       "</style>\n",
       "<table border=\"1\" class=\"dataframe\">\n",
       "  <thead>\n",
       "    <tr style=\"text-align: right;\">\n",
       "      <th></th>\n",
       "      <th>INJURIES_DIRECT</th>\n",
       "      <th>INJURIES_INDIRECT</th>\n",
       "      <th>DEATHS_DIRECT</th>\n",
       "      <th>DEATHS_INDIRECT</th>\n",
       "      <th>DAMAGE_PROPERTY</th>\n",
       "      <th>DAMAGE_CROPS</th>\n",
       "      <th>LATITUDE</th>\n",
       "      <th>LONGITUDE</th>\n",
       "    </tr>\n",
       "  </thead>\n",
       "  <tbody>\n",
       "    <tr>\n",
       "      <th>count</th>\n",
       "      <td>33633.000000</td>\n",
       "      <td>33633.000000</td>\n",
       "      <td>33633.000000</td>\n",
       "      <td>33633.000000</td>\n",
       "      <td>33633.000000</td>\n",
       "      <td>33633.000000</td>\n",
       "      <td>33633.000000</td>\n",
       "      <td>33633.000000</td>\n",
       "    </tr>\n",
       "    <tr>\n",
       "      <th>mean</th>\n",
       "      <td>0.000124</td>\n",
       "      <td>0.000278</td>\n",
       "      <td>0.000252</td>\n",
       "      <td>0.000164</td>\n",
       "      <td>0.001758</td>\n",
       "      <td>0.002528</td>\n",
       "      <td>0.678084</td>\n",
       "      <td>0.252974</td>\n",
       "    </tr>\n",
       "    <tr>\n",
       "      <th>std</th>\n",
       "      <td>0.005919</td>\n",
       "      <td>0.012590</td>\n",
       "      <td>0.007846</td>\n",
       "      <td>0.008620</td>\n",
       "      <td>0.011510</td>\n",
       "      <td>0.030235</td>\n",
       "      <td>0.067258</td>\n",
       "      <td>0.038466</td>\n",
       "    </tr>\n",
       "    <tr>\n",
       "      <th>min</th>\n",
       "      <td>0.000000</td>\n",
       "      <td>0.000000</td>\n",
       "      <td>0.000000</td>\n",
       "      <td>0.000000</td>\n",
       "      <td>0.000000</td>\n",
       "      <td>0.000000</td>\n",
       "      <td>0.000000</td>\n",
       "      <td>0.000000</td>\n",
       "    </tr>\n",
       "    <tr>\n",
       "      <th>25%</th>\n",
       "      <td>0.000000</td>\n",
       "      <td>0.000000</td>\n",
       "      <td>0.000000</td>\n",
       "      <td>0.000000</td>\n",
       "      <td>0.000000</td>\n",
       "      <td>0.000000</td>\n",
       "      <td>0.637083</td>\n",
       "      <td>0.232581</td>\n",
       "    </tr>\n",
       "    <tr>\n",
       "      <th>50%</th>\n",
       "      <td>0.000000</td>\n",
       "      <td>0.000000</td>\n",
       "      <td>0.000000</td>\n",
       "      <td>0.000000</td>\n",
       "      <td>0.000000</td>\n",
       "      <td>0.000000</td>\n",
       "      <td>0.683999</td>\n",
       "      <td>0.255018</td>\n",
       "    </tr>\n",
       "    <tr>\n",
       "      <th>75%</th>\n",
       "      <td>0.000000</td>\n",
       "      <td>0.000000</td>\n",
       "      <td>0.000000</td>\n",
       "      <td>0.000000</td>\n",
       "      <td>0.000182</td>\n",
       "      <td>0.000000</td>\n",
       "      <td>0.725609</td>\n",
       "      <td>0.281216</td>\n",
       "    </tr>\n",
       "    <tr>\n",
       "      <th>max</th>\n",
       "      <td>1.000000</td>\n",
       "      <td>1.000000</td>\n",
       "      <td>1.000000</td>\n",
       "      <td>1.000000</td>\n",
       "      <td>1.000000</td>\n",
       "      <td>1.000000</td>\n",
       "      <td>1.000000</td>\n",
       "      <td>1.000000</td>\n",
       "    </tr>\n",
       "  </tbody>\n",
       "</table>\n",
       "</div>\n",
       "      <button class=\"colab-df-convert\" onclick=\"convertToInteractive('df-2f259d3b-b370-4840-bf41-e3b1a56fe02f')\"\n",
       "              title=\"Convert this dataframe to an interactive table.\"\n",
       "              style=\"display:none;\">\n",
       "        \n",
       "  <svg xmlns=\"http://www.w3.org/2000/svg\" height=\"24px\"viewBox=\"0 0 24 24\"\n",
       "       width=\"24px\">\n",
       "    <path d=\"M0 0h24v24H0V0z\" fill=\"none\"/>\n",
       "    <path d=\"M18.56 5.44l.94 2.06.94-2.06 2.06-.94-2.06-.94-.94-2.06-.94 2.06-2.06.94zm-11 1L8.5 8.5l.94-2.06 2.06-.94-2.06-.94L8.5 2.5l-.94 2.06-2.06.94zm10 10l.94 2.06.94-2.06 2.06-.94-2.06-.94-.94-2.06-.94 2.06-2.06.94z\"/><path d=\"M17.41 7.96l-1.37-1.37c-.4-.4-.92-.59-1.43-.59-.52 0-1.04.2-1.43.59L10.3 9.45l-7.72 7.72c-.78.78-.78 2.05 0 2.83L4 21.41c.39.39.9.59 1.41.59.51 0 1.02-.2 1.41-.59l7.78-7.78 2.81-2.81c.8-.78.8-2.07 0-2.86zM5.41 20L4 18.59l7.72-7.72 1.47 1.35L5.41 20z\"/>\n",
       "  </svg>\n",
       "      </button>\n",
       "      \n",
       "  <style>\n",
       "    .colab-df-container {\n",
       "      display:flex;\n",
       "      flex-wrap:wrap;\n",
       "      gap: 12px;\n",
       "    }\n",
       "\n",
       "    .colab-df-convert {\n",
       "      background-color: #E8F0FE;\n",
       "      border: none;\n",
       "      border-radius: 50%;\n",
       "      cursor: pointer;\n",
       "      display: none;\n",
       "      fill: #1967D2;\n",
       "      height: 32px;\n",
       "      padding: 0 0 0 0;\n",
       "      width: 32px;\n",
       "    }\n",
       "\n",
       "    .colab-df-convert:hover {\n",
       "      background-color: #E2EBFA;\n",
       "      box-shadow: 0px 1px 2px rgba(60, 64, 67, 0.3), 0px 1px 3px 1px rgba(60, 64, 67, 0.15);\n",
       "      fill: #174EA6;\n",
       "    }\n",
       "\n",
       "    [theme=dark] .colab-df-convert {\n",
       "      background-color: #3B4455;\n",
       "      fill: #D2E3FC;\n",
       "    }\n",
       "\n",
       "    [theme=dark] .colab-df-convert:hover {\n",
       "      background-color: #434B5C;\n",
       "      box-shadow: 0px 1px 3px 1px rgba(0, 0, 0, 0.15);\n",
       "      filter: drop-shadow(0px 1px 2px rgba(0, 0, 0, 0.3));\n",
       "      fill: #FFFFFF;\n",
       "    }\n",
       "  </style>\n",
       "\n",
       "      <script>\n",
       "        const buttonEl =\n",
       "          document.querySelector('#df-2f259d3b-b370-4840-bf41-e3b1a56fe02f button.colab-df-convert');\n",
       "        buttonEl.style.display =\n",
       "          google.colab.kernel.accessAllowed ? 'block' : 'none';\n",
       "\n",
       "        async function convertToInteractive(key) {\n",
       "          const element = document.querySelector('#df-2f259d3b-b370-4840-bf41-e3b1a56fe02f');\n",
       "          const dataTable =\n",
       "            await google.colab.kernel.invokeFunction('convertToInteractive',\n",
       "                                                     [key], {});\n",
       "          if (!dataTable) return;\n",
       "\n",
       "          const docLinkHtml = 'Like what you see? Visit the ' +\n",
       "            '<a target=\"_blank\" href=https://colab.research.google.com/notebooks/data_table.ipynb>data table notebook</a>'\n",
       "            + ' to learn more about interactive tables.';\n",
       "          element.innerHTML = '';\n",
       "          dataTable['output_type'] = 'display_data';\n",
       "          await google.colab.output.renderOutput(dataTable, element);\n",
       "          const docLink = document.createElement('div');\n",
       "          docLink.innerHTML = docLinkHtml;\n",
       "          element.appendChild(docLink);\n",
       "        }\n",
       "      </script>\n",
       "    </div>\n",
       "  </div>\n",
       "  "
      ],
      "text/plain": [
       "       INJURIES_DIRECT  INJURIES_INDIRECT  ...      LATITUDE     LONGITUDE\n",
       "count     33633.000000       33633.000000  ...  33633.000000  33633.000000\n",
       "mean          0.000124           0.000278  ...      0.678084      0.252974\n",
       "std           0.005919           0.012590  ...      0.067258      0.038466\n",
       "min           0.000000           0.000000  ...      0.000000      0.000000\n",
       "25%           0.000000           0.000000  ...      0.637083      0.232581\n",
       "50%           0.000000           0.000000  ...      0.683999      0.255018\n",
       "75%           0.000000           0.000000  ...      0.725609      0.281216\n",
       "max           1.000000           1.000000  ...      1.000000      1.000000\n",
       "\n",
       "[8 rows x 8 columns]"
      ]
     },
     "execution_count": 36,
     "metadata": {},
     "output_type": "execute_result"
    }
   ],
   "source": [
    "scaled_storm_df.describe()\n"
   ]
  },
  {
   "cell_type": "code",
   "execution_count": 38,
   "metadata": {
    "colab": {
     "base_uri": "https://localhost:8080/",
     "height": 1000
    },
    "executionInfo": {
     "elapsed": 2086,
     "status": "ok",
     "timestamp": 1641608402069,
     "user": {
      "displayName": "Stephanie Valleau",
      "photoUrl": "https://lh3.googleusercontent.com/a/default-user=s64",
      "userId": "10409275703594313556"
     },
     "user_tz": 480
    },
    "id": "EYRFWbE1e8bg",
    "outputId": "2c16b25d-4fc1-47e7-d878-c32ac5bb2c8e"
   },
   "outputs": [
    {
     "data": {
      "image/png": "[encoded data removed]",
      "text/plain": [
       "<Figure size 1440x1440 with 9 Axes>"
      ]
     },
     "metadata": {
      "needs_background": "light"
     },
     "output_type": "display_data"
    }
   ],
   "source": [
    "# Let's plot a histogram of all variables each in a separate plot\n",
    "scaled_storm_df.hist(figsize=(20,20), bins=50)\n",
    "plt.show()"
   ]
  },
  {
   "cell_type": "markdown",
   "metadata": {
    "id": "IZPc2U0zVIgN"
   },
   "source": [
    "### 5.2.5 One hot encoding: from categories \"strings\" to numbers\n",
    "\n",
    "As humans it is easy to understand both text and numbers. However for computers, we need to transform our categories (for example the storm type) to numbers so that it can understand how to process that information.\n",
    "\n",
    "In machine learning, one way to do this is with One Hot Encoding. \n"
   ]
  },
  {
   "cell_type": "markdown",
   "metadata": {
    "id": "mFchKkxLXDcE"
   },
   "source": [
    "Let's see how One Hot Encoding works on a test dataframe\n",
    "\n",
    "```\n",
    "my_cakes = {'type':['red_velvet','tiramisu','key_lime_pie', 'brownies'], \\\n",
    "            'sweetness':[100, 90.5, 70.4, 25.0], 'slices per day':[25, 33, 11, 9]}\n",
    "cakes_df = pd.DataFrame(my_cakes)  # Create dataframe from dictionary \n",
    "```"
   ]
  },
  {
   "cell_type": "code",
   "execution_count": 39,
   "metadata": {
    "executionInfo": {
     "elapsed": 153,
     "status": "ok",
     "timestamp": 1641608515487,
     "user": {
      "displayName": "Stephanie Valleau",
      "photoUrl": "https://lh3.googleusercontent.com/a/default-user=s64",
      "userId": "10409275703594313556"
     },
     "user_tz": 480
    },
    "id": "GpexvPSUb3WA"
   },
   "outputs": [],
   "source": [
    "my_cakes = {'type':['red_velvet','tiramisu','key_lime_pie', 'brownies'], \\\n",
    "            'sweetness':[100, 90.5, 70.4, 25.0], 'slices per day':[25, 33, 11, 9]}\n",
    "cakes_df = pd.DataFrame(my_cakes)  # Create dataframe from dictionary "
   ]
  },
  {
   "cell_type": "code",
   "execution_count": 40,
   "metadata": {
    "colab": {
     "base_uri": "https://localhost:8080/",
     "height": 175
    },
    "executionInfo": {
     "elapsed": 173,
     "status": "ok",
     "timestamp": 1641608518756,
     "user": {
      "displayName": "Stephanie Valleau",
      "photoUrl": "https://lh3.googleusercontent.com/a/default-user=s64",
      "userId": "10409275703594313556"
     },
     "user_tz": 480
    },
    "id": "lSYVmaPGc49f",
    "outputId": "d784113f-8545-4863-ccc0-bdeb547b2f1e"
   },
   "outputs": [
    {
     "data": {
      "text/html": [
       "\n",
       "  <div id=\"df-2b1737a4-2d34-4250-ac11-c4d65f70797a\">\n",
       "    <div class=\"colab-df-container\">\n",
       "      <div>\n",
       "<style scoped>\n",
       "    .dataframe tbody tr th:only-of-type {\n",
       "        vertical-align: middle;\n",
       "    }\n",
       "\n",
       "    .dataframe tbody tr th {\n",
       "        vertical-align: top;\n",
       "    }\n",
       "\n",
       "    .dataframe thead th {\n",
       "        text-align: right;\n",
       "    }\n",
       "</style>\n",
       "<table border=\"1\" class=\"dataframe\">\n",
       "  <thead>\n",
       "    <tr style=\"text-align: right;\">\n",
       "      <th></th>\n",
       "      <th>type</th>\n",
       "      <th>sweetness</th>\n",
       "      <th>slices per day</th>\n",
       "    </tr>\n",
       "  </thead>\n",
       "  <tbody>\n",
       "    <tr>\n",
       "      <th>0</th>\n",
       "      <td>red_velvet</td>\n",
       "      <td>100.0</td>\n",
       "      <td>25</td>\n",
       "    </tr>\n",
       "    <tr>\n",
       "      <th>1</th>\n",
       "      <td>tiramisu</td>\n",
       "      <td>90.5</td>\n",
       "      <td>33</td>\n",
       "    </tr>\n",
       "    <tr>\n",
       "      <th>2</th>\n",
       "      <td>key_lime_pie</td>\n",
       "      <td>70.4</td>\n",
       "      <td>11</td>\n",
       "    </tr>\n",
       "    <tr>\n",
       "      <th>3</th>\n",
       "      <td>brownies</td>\n",
       "      <td>25.0</td>\n",
       "      <td>9</td>\n",
       "    </tr>\n",
       "  </tbody>\n",
       "</table>\n",
       "</div>\n",
       "      <button class=\"colab-df-convert\" onclick=\"convertToInteractive('df-2b1737a4-2d34-4250-ac11-c4d65f70797a')\"\n",
       "              title=\"Convert this dataframe to an interactive table.\"\n",
       "              style=\"display:none;\">\n",
       "        \n",
       "  <svg xmlns=\"http://www.w3.org/2000/svg\" height=\"24px\"viewBox=\"0 0 24 24\"\n",
       "       width=\"24px\">\n",
       "    <path d=\"M0 0h24v24H0V0z\" fill=\"none\"/>\n",
       "    <path d=\"M18.56 5.44l.94 2.06.94-2.06 2.06-.94-2.06-.94-.94-2.06-.94 2.06-2.06.94zm-11 1L8.5 8.5l.94-2.06 2.06-.94-2.06-.94L8.5 2.5l-.94 2.06-2.06.94zm10 10l.94 2.06.94-2.06 2.06-.94-2.06-.94-.94-2.06-.94 2.06-2.06.94z\"/><path d=\"M17.41 7.96l-1.37-1.37c-.4-.4-.92-.59-1.43-.59-.52 0-1.04.2-1.43.59L10.3 9.45l-7.72 7.72c-.78.78-.78 2.05 0 2.83L4 21.41c.39.39.9.59 1.41.59.51 0 1.02-.2 1.41-.59l7.78-7.78 2.81-2.81c.8-.78.8-2.07 0-2.86zM5.41 20L4 18.59l7.72-7.72 1.47 1.35L5.41 20z\"/>\n",
       "  </svg>\n",
       "      </button>\n",
       "      \n",
       "  <style>\n",
       "    .colab-df-container {\n",
       "      display:flex;\n",
       "      flex-wrap:wrap;\n",
       "      gap: 12px;\n",
       "    }\n",
       "\n",
       "    .colab-df-convert {\n",
       "      background-color: #E8F0FE;\n",
       "      border: none;\n",
       "      border-radius: 50%;\n",
       "      cursor: pointer;\n",
       "      display: none;\n",
       "      fill: #1967D2;\n",
       "      height: 32px;\n",
       "      padding: 0 0 0 0;\n",
       "      width: 32px;\n",
       "    }\n",
       "\n",
       "    .colab-df-convert:hover {\n",
       "      background-color: #E2EBFA;\n",
       "      box-shadow: 0px 1px 2px rgba(60, 64, 67, 0.3), 0px 1px 3px 1px rgba(60, 64, 67, 0.15);\n",
       "      fill: #174EA6;\n",
       "    }\n",
       "\n",
       "    [theme=dark] .colab-df-convert {\n",
       "      background-color: #3B4455;\n",
       "      fill: #D2E3FC;\n",
       "    }\n",
       "\n",
       "    [theme=dark] .colab-df-convert:hover {\n",
       "      background-color: #434B5C;\n",
       "      box-shadow: 0px 1px 3px 1px rgba(0, 0, 0, 0.15);\n",
       "      filter: drop-shadow(0px 1px 2px rgba(0, 0, 0, 0.3));\n",
       "      fill: #FFFFFF;\n",
       "    }\n",
       "  </style>\n",
       "\n",
       "      <script>\n",
       "        const buttonEl =\n",
       "          document.querySelector('#df-2b1737a4-2d34-4250-ac11-c4d65f70797a button.colab-df-convert');\n",
       "        buttonEl.style.display =\n",
       "          google.colab.kernel.accessAllowed ? 'block' : 'none';\n",
       "\n",
       "        async function convertToInteractive(key) {\n",
       "          const element = document.querySelector('#df-2b1737a4-2d34-4250-ac11-c4d65f70797a');\n",
       "          const dataTable =\n",
       "            await google.colab.kernel.invokeFunction('convertToInteractive',\n",
       "                                                     [key], {});\n",
       "          if (!dataTable) return;\n",
       "\n",
       "          const docLinkHtml = 'Like what you see? Visit the ' +\n",
       "            '<a target=\"_blank\" href=https://colab.research.google.com/notebooks/data_table.ipynb>data table notebook</a>'\n",
       "            + ' to learn more about interactive tables.';\n",
       "          element.innerHTML = '';\n",
       "          dataTable['output_type'] = 'display_data';\n",
       "          await google.colab.output.renderOutput(dataTable, element);\n",
       "          const docLink = document.createElement('div');\n",
       "          docLink.innerHTML = docLinkHtml;\n",
       "          element.appendChild(docLink);\n",
       "        }\n",
       "      </script>\n",
       "    </div>\n",
       "  </div>\n",
       "  "
      ],
      "text/plain": [
       "           type  sweetness  slices per day\n",
       "0    red_velvet      100.0              25\n",
       "1      tiramisu       90.5              33\n",
       "2  key_lime_pie       70.4              11\n",
       "3      brownies       25.0               9"
      ]
     },
     "execution_count": 40,
     "metadata": {},
     "output_type": "execute_result"
    }
   ],
   "source": [
    "cakes_df"
   ]
  },
  {
   "cell_type": "markdown",
   "metadata": {
    "id": "RlKGXC3CjUsx"
   },
   "source": [
    "We can use the scikit-learn `OneHotEncoder()` function (more info [here](https://scikit-learn.org/stable/modules/generated/sklearn.preprocessing.OneHotEncoder.html)). \n",
    "\n",
    "First we create a `OneHotEncoder()` object\n",
    "\n",
    "```\n",
    "cake_encoder = OneHotEncoder()\n",
    "```\n"
   ]
  },
  {
   "cell_type": "code",
   "execution_count": 41,
   "metadata": {
    "executionInfo": {
     "elapsed": 188,
     "status": "ok",
     "timestamp": 1641608648819,
     "user": {
      "displayName": "Stephanie Valleau",
      "photoUrl": "https://lh3.googleusercontent.com/a/default-user=s64",
      "userId": "10409275703594313556"
     },
     "user_tz": 480
    },
    "id": "MNt7wHIkXRZM"
   },
   "outputs": [],
   "source": [
    "cake_encoder = OneHotEncoder()"
   ]
  },
  {
   "cell_type": "markdown",
   "metadata": {
    "id": "-HQvL7UOjwXp"
   },
   "source": [
    "Next we reshape the X values which we want to transform using one hot encoding. Here out only categorical values are in the `type` column. We select those and reshape the array (otherwise the one hot encoding functions will complain). \n",
    "\n",
    "```\n",
    "X = cakes_df['type'].values.reshape(-1,1)\n",
    "```"
   ]
  },
  {
   "cell_type": "code",
   "execution_count": 47,
   "metadata": {
    "colab": {
     "base_uri": "https://localhost:8080/"
    },
    "executionInfo": {
     "elapsed": 153,
     "status": "ok",
     "timestamp": 1641608784767,
     "user": {
      "displayName": "Stephanie Valleau",
      "photoUrl": "https://lh3.googleusercontent.com/a/default-user=s64",
      "userId": "10409275703594313556"
     },
     "user_tz": 480
    },
    "id": "LllDTdJ_bzLG",
    "outputId": "ffdc78d4-dd9a-40c3-be7e-b6b10d0d94d4"
   },
   "outputs": [
    {
     "data": {
      "text/plain": [
       "(4, 1)"
      ]
     },
     "execution_count": 47,
     "metadata": {},
     "output_type": "execute_result"
    }
   ],
   "source": [
    "cakes_df['type'].values.shape\n",
    "\n",
    "X = cakes_df['type'].values.reshape(-1,1)\n",
    "X.shape"
   ]
  },
  {
   "cell_type": "markdown",
   "metadata": {
    "id": "9OLhxaprkGca"
   },
   "source": [
    "Now we call the  `cake_encoder.fit_transform()` function which transforms our `X` categorical values to one hot encoded values based on the fact that there are 4 unique values: `red_velvet`, `tiramisu`, `key_lime_pie` and `brownies`. Our one hot encoded values will be of size 4 rows x 4 columns.\n",
    "\n",
    "```\n",
    "cake_encoder.fit_transform(X)\n",
    "```"
   ]
  },
  {
   "cell_type": "code",
   "execution_count": 48,
   "metadata": {
    "colab": {
     "base_uri": "https://localhost:8080/"
    },
    "executionInfo": {
     "elapsed": 3,
     "status": "ok",
     "timestamp": 1641608786622,
     "user": {
      "displayName": "Stephanie Valleau",
      "photoUrl": "https://lh3.googleusercontent.com/a/default-user=s64",
      "userId": "10409275703594313556"
     },
     "user_tz": 480
    },
    "id": "Dkwe0CwTkdcX",
    "outputId": "f5d1cd01-8dc6-4441-98ca-7ca76077b55d"
   },
   "outputs": [
    {
     "data": {
      "text/plain": [
       "<4x4 sparse matrix of type '<class 'numpy.float64'>'\n",
       "\twith 4 stored elements in Compressed Sparse Row format>"
      ]
     },
     "execution_count": 48,
     "metadata": {},
     "output_type": "execute_result"
    }
   ],
   "source": [
    "cake_encoder.fit_transform(X)"
   ]
  },
  {
   "cell_type": "markdown",
   "metadata": {
    "id": "pt-3PXC9kih1"
   },
   "source": [
    "This output has to be transformed back to an array and stored in out dataframe while using our new one hot encoded labels which can be obtained using the command\n",
    "\n",
    "```\n",
    "cake_encoder.get_feature_names_out()\n",
    "```"
   ]
  },
  {
   "cell_type": "code",
   "execution_count": 49,
   "metadata": {
    "colab": {
     "base_uri": "https://localhost:8080/"
    },
    "executionInfo": {
     "elapsed": 185,
     "status": "ok",
     "timestamp": 1641608880270,
     "user": {
      "displayName": "Stephanie Valleau",
      "photoUrl": "https://lh3.googleusercontent.com/a/default-user=s64",
      "userId": "10409275703594313556"
     },
     "user_tz": 480
    },
    "id": "RC1-l811lTZu",
    "outputId": "5f9e5877-27cc-4931-9b6a-8deaf6540660"
   },
   "outputs": [
    {
     "data": {
      "text/plain": [
       "array(['x0_brownies', 'x0_key_lime_pie', 'x0_red_velvet', 'x0_tiramisu'],\n",
       "      dtype=object)"
      ]
     },
     "execution_count": 49,
     "metadata": {},
     "output_type": "execute_result"
    }
   ],
   "source": [
    "cake_encoder.get_feature_names_out()"
   ]
  },
  {
   "cell_type": "markdown",
   "metadata": {
    "id": "0akvBlIsVZ6s"
   },
   "source": [
    "```\n",
    "# set new columns with cake type and binary one hot encoding\n",
    "cakes_df[cake_encoder.get_feature_names_out()] = cake_encoder.fit_transform(X).toarray()\n",
    "cakes_df.drop('type', axis=1, inplace=True)\n",
    "```"
   ]
  },
  {
   "cell_type": "code",
   "execution_count": 50,
   "metadata": {
    "executionInfo": {
     "elapsed": 174,
     "status": "ok",
     "timestamp": 1641608989041,
     "user": {
      "displayName": "Stephanie Valleau",
      "photoUrl": "https://lh3.googleusercontent.com/a/default-user=s64",
      "userId": "10409275703594313556"
     },
     "user_tz": 480
    },
    "id": "TUYFgTn7kEy4"
   },
   "outputs": [],
   "source": [
    "# set new columns with cake type and binary one hot encoding\n",
    "cakes_df[cake_encoder.get_feature_names_out()] = cake_encoder.fit_transform(X).toarray()\n",
    "cakes_df.drop('type', axis=1, inplace=True)"
   ]
  },
  {
   "cell_type": "code",
   "execution_count": 51,
   "metadata": {
    "colab": {
     "base_uri": "https://localhost:8080/",
     "height": 175
    },
    "executionInfo": {
     "elapsed": 163,
     "status": "ok",
     "timestamp": 1641609000295,
     "user": {
      "displayName": "Stephanie Valleau",
      "photoUrl": "https://lh3.googleusercontent.com/a/default-user=s64",
      "userId": "10409275703594313556"
     },
     "user_tz": 480
    },
    "id": "r-9zV-8-1b7i",
    "outputId": "45dffefa-8bee-4541-e1d6-cac1c7f76dff"
   },
   "outputs": [
    {
     "data": {
      "text/html": [
       "\n",
       "  <div id=\"df-a02362a3-f547-455c-98d4-38111b2ea796\">\n",
       "    <div class=\"colab-df-container\">\n",
       "      <div>\n",
       "<style scoped>\n",
       "    .dataframe tbody tr th:only-of-type {\n",
       "        vertical-align: middle;\n",
       "    }\n",
       "\n",
       "    .dataframe tbody tr th {\n",
       "        vertical-align: top;\n",
       "    }\n",
       "\n",
       "    .dataframe thead th {\n",
       "        text-align: right;\n",
       "    }\n",
       "</style>\n",
       "<table border=\"1\" class=\"dataframe\">\n",
       "  <thead>\n",
       "    <tr style=\"text-align: right;\">\n",
       "      <th></th>\n",
       "      <th>sweetness</th>\n",
       "      <th>slices per day</th>\n",
       "      <th>x0_brownies</th>\n",
       "      <th>x0_key_lime_pie</th>\n",
       "      <th>x0_red_velvet</th>\n",
       "      <th>x0_tiramisu</th>\n",
       "    </tr>\n",
       "  </thead>\n",
       "  <tbody>\n",
       "    <tr>\n",
       "      <th>0</th>\n",
       "      <td>100.0</td>\n",
       "      <td>25</td>\n",
       "      <td>0.0</td>\n",
       "      <td>0.0</td>\n",
       "      <td>1.0</td>\n",
       "      <td>0.0</td>\n",
       "    </tr>\n",
       "    <tr>\n",
       "      <th>1</th>\n",
       "      <td>90.5</td>\n",
       "      <td>33</td>\n",
       "      <td>0.0</td>\n",
       "      <td>0.0</td>\n",
       "      <td>0.0</td>\n",
       "      <td>1.0</td>\n",
       "    </tr>\n",
       "    <tr>\n",
       "      <th>2</th>\n",
       "      <td>70.4</td>\n",
       "      <td>11</td>\n",
       "      <td>0.0</td>\n",
       "      <td>1.0</td>\n",
       "      <td>0.0</td>\n",
       "      <td>0.0</td>\n",
       "    </tr>\n",
       "    <tr>\n",
       "      <th>3</th>\n",
       "      <td>25.0</td>\n",
       "      <td>9</td>\n",
       "      <td>1.0</td>\n",
       "      <td>0.0</td>\n",
       "      <td>0.0</td>\n",
       "      <td>0.0</td>\n",
       "    </tr>\n",
       "  </tbody>\n",
       "</table>\n",
       "</div>\n",
       "      <button class=\"colab-df-convert\" onclick=\"convertToInteractive('df-a02362a3-f547-455c-98d4-38111b2ea796')\"\n",
       "              title=\"Convert this dataframe to an interactive table.\"\n",
       "              style=\"display:none;\">\n",
       "        \n",
       "  <svg xmlns=\"http://www.w3.org/2000/svg\" height=\"24px\"viewBox=\"0 0 24 24\"\n",
       "       width=\"24px\">\n",
       "    <path d=\"M0 0h24v24H0V0z\" fill=\"none\"/>\n",
       "    <path d=\"M18.56 5.44l.94 2.06.94-2.06 2.06-.94-2.06-.94-.94-2.06-.94 2.06-2.06.94zm-11 1L8.5 8.5l.94-2.06 2.06-.94-2.06-.94L8.5 2.5l-.94 2.06-2.06.94zm10 10l.94 2.06.94-2.06 2.06-.94-2.06-.94-.94-2.06-.94 2.06-2.06.94z\"/><path d=\"M17.41 7.96l-1.37-1.37c-.4-.4-.92-.59-1.43-.59-.52 0-1.04.2-1.43.59L10.3 9.45l-7.72 7.72c-.78.78-.78 2.05 0 2.83L4 21.41c.39.39.9.59 1.41.59.51 0 1.02-.2 1.41-.59l7.78-7.78 2.81-2.81c.8-.78.8-2.07 0-2.86zM5.41 20L4 18.59l7.72-7.72 1.47 1.35L5.41 20z\"/>\n",
       "  </svg>\n",
       "      </button>\n",
       "      \n",
       "  <style>\n",
       "    .colab-df-container {\n",
       "      display:flex;\n",
       "      flex-wrap:wrap;\n",
       "      gap: 12px;\n",
       "    }\n",
       "\n",
       "    .colab-df-convert {\n",
       "      background-color: #E8F0FE;\n",
       "      border: none;\n",
       "      border-radius: 50%;\n",
       "      cursor: pointer;\n",
       "      display: none;\n",
       "      fill: #1967D2;\n",
       "      height: 32px;\n",
       "      padding: 0 0 0 0;\n",
       "      width: 32px;\n",
       "    }\n",
       "\n",
       "    .colab-df-convert:hover {\n",
       "      background-color: #E2EBFA;\n",
       "      box-shadow: 0px 1px 2px rgba(60, 64, 67, 0.3), 0px 1px 3px 1px rgba(60, 64, 67, 0.15);\n",
       "      fill: #174EA6;\n",
       "    }\n",
       "\n",
       "    [theme=dark] .colab-df-convert {\n",
       "      background-color: #3B4455;\n",
       "      fill: #D2E3FC;\n",
       "    }\n",
       "\n",
       "    [theme=dark] .colab-df-convert:hover {\n",
       "      background-color: #434B5C;\n",
       "      box-shadow: 0px 1px 3px 1px rgba(0, 0, 0, 0.15);\n",
       "      filter: drop-shadow(0px 1px 2px rgba(0, 0, 0, 0.3));\n",
       "      fill: #FFFFFF;\n",
       "    }\n",
       "  </style>\n",
       "\n",
       "      <script>\n",
       "        const buttonEl =\n",
       "          document.querySelector('#df-a02362a3-f547-455c-98d4-38111b2ea796 button.colab-df-convert');\n",
       "        buttonEl.style.display =\n",
       "          google.colab.kernel.accessAllowed ? 'block' : 'none';\n",
       "\n",
       "        async function convertToInteractive(key) {\n",
       "          const element = document.querySelector('#df-a02362a3-f547-455c-98d4-38111b2ea796');\n",
       "          const dataTable =\n",
       "            await google.colab.kernel.invokeFunction('convertToInteractive',\n",
       "                                                     [key], {});\n",
       "          if (!dataTable) return;\n",
       "\n",
       "          const docLinkHtml = 'Like what you see? Visit the ' +\n",
       "            '<a target=\"_blank\" href=https://colab.research.google.com/notebooks/data_table.ipynb>data table notebook</a>'\n",
       "            + ' to learn more about interactive tables.';\n",
       "          element.innerHTML = '';\n",
       "          dataTable['output_type'] = 'display_data';\n",
       "          await google.colab.output.renderOutput(dataTable, element);\n",
       "          const docLink = document.createElement('div');\n",
       "          docLink.innerHTML = docLinkHtml;\n",
       "          element.appendChild(docLink);\n",
       "        }\n",
       "      </script>\n",
       "    </div>\n",
       "  </div>\n",
       "  "
      ],
      "text/plain": [
       "   sweetness  slices per day  ...  x0_red_velvet  x0_tiramisu\n",
       "0      100.0              25  ...            1.0          0.0\n",
       "1       90.5              33  ...            0.0          1.0\n",
       "2       70.4              11  ...            0.0          0.0\n",
       "3       25.0               9  ...            0.0          0.0\n",
       "\n",
       "[4 rows x 6 columns]"
      ]
     },
     "execution_count": 51,
     "metadata": {},
     "output_type": "execute_result"
    }
   ],
   "source": [
    "cakes_df"
   ]
  },
  {
   "cell_type": "markdown",
   "metadata": {
    "id": "bwDCW5SFlhkn"
   },
   "source": [
    "If we need to recall the original unique categories, we can get them using the command\n",
    "\n",
    "```\n",
    "cake_encoder.categories_\n",
    "```"
   ]
  },
  {
   "cell_type": "code",
   "execution_count": 52,
   "metadata": {
    "colab": {
     "base_uri": "https://localhost:8080/"
    },
    "executionInfo": {
     "elapsed": 173,
     "status": "ok",
     "timestamp": 1641609065056,
     "user": {
      "displayName": "Stephanie Valleau",
      "photoUrl": "https://lh3.googleusercontent.com/a/default-user=s64",
      "userId": "10409275703594313556"
     },
     "user_tz": 480
    },
    "id": "Ww8JhfGRX5QK",
    "outputId": "e5933e57-130f-4a03-c343-909e574e80cd"
   },
   "outputs": [
    {
     "data": {
      "text/plain": [
       "[array(['brownies', 'key_lime_pie', 'red_velvet', 'tiramisu'], dtype=object)]"
      ]
     },
     "execution_count": 52,
     "metadata": {},
     "output_type": "execute_result"
    }
   ],
   "source": [
    "cake_encoder.categories_"
   ]
  },
  {
   "cell_type": "markdown",
   "metadata": {
    "id": "GYMS1rhQK6DV"
   },
   "source": [
    "### 5.2.6 Dimensionality reduction - Principle component analysis (PCA)\n",
    "\n",
    "Now that's a lot of fancy words combined. What are we talking about? Let's think of our data, do we really need all 9 columns to define a storm? Do we need the longitude, the latitude, the number of direct and indirect injuries and so on to describe it? Or ... is it possible that these values are correlated, i.e. contain similar information. If that is the case, perhaps there are some \"hidden variables\" i.e. a smaller subset of *principle components* that represent what is in those columns.\n",
    "\n",
    "For example, let's say I had a table with X columns that contained: cheesecake, apple pie, red velvet cake, iceberg lettuce and romaine lettuce as foods that I eat and was trying to figure out how these foods connect to the amount of energy I have. I might not need to know about all 5 columns and might be able to define two principal components: cake and lettuce, which actually somehow contain the information of the 5 columns. All of the desserts provide me with a high amount of calories and low fiber. On the other hand, lettuce is low calorie and high fiber, so we may be able to define two uncorrelated variables that capture all 5 of the original variables.\n",
    "\n",
    "Advantages of this smaller \"lower dimensional\" description include:\n",
    "\n",
    "- reducing the computational power and time needed when looking at clustering data; avoiding the so called \"curse of dimensionality\"\n",
    "- avoiding using redundant information. If it is enough for us to know that red velvet is a dessert why specify that it is red velvet cake?\n",
    "- visualizing our data (its hard to understand a plot as a function of 5 variables - 5 dimensions)\n",
    "\n",
    "One method that reduces dimensionality is called Principal Component Analysis (PCA). We will not go into the math of it, have a look at the wikipedia reference at the bottom of the notebook if you are curious. We will only look at how to use it on our dataset."
   ]
  },
  {
   "cell_type": "code",
   "execution_count": 53,
   "metadata": {
    "colab": {
     "base_uri": "https://localhost:8080/"
    },
    "executionInfo": {
     "elapsed": 173,
     "status": "ok",
     "timestamp": 1641609644590,
     "user": {
      "displayName": "Stephanie Valleau",
      "photoUrl": "https://lh3.googleusercontent.com/a/default-user=s64",
      "userId": "10409275703594313556"
     },
     "user_tz": 480
    },
    "id": "GfnfZdqkRH3i",
    "outputId": "e129519e-89cb-47a1-f834-235fb3c3e2fa"
   },
   "outputs": [
    {
     "data": {
      "text/plain": [
       "Index(['BEGIN_DATE_TIME', 'EVENT_TYPE', 'INJURIES_DIRECT', 'INJURIES_INDIRECT',\n",
       "       'DEATHS_DIRECT', 'DEATHS_INDIRECT', 'DAMAGE_PROPERTY', 'DAMAGE_CROPS',\n",
       "       'LATITUDE', 'LONGITUDE'],\n",
       "      dtype='object')"
      ]
     },
     "execution_count": 53,
     "metadata": {},
     "output_type": "execute_result"
    }
   ],
   "source": [
    "storm_df.columns"
   ]
  },
  {
   "cell_type": "code",
   "execution_count": 54,
   "metadata": {
    "colab": {
     "base_uri": "https://localhost:8080/"
    },
    "executionInfo": {
     "elapsed": 167,
     "status": "ok",
     "timestamp": 1641609651179,
     "user": {
      "displayName": "Stephanie Valleau",
      "photoUrl": "https://lh3.googleusercontent.com/a/default-user=s64",
      "userId": "10409275703594313556"
     },
     "user_tz": 480
    },
    "id": "jtilL_yRmsL_",
    "outputId": "e0d5e8ff-7360-4bfc-ecef-2c0438b733b1"
   },
   "outputs": [
    {
     "data": {
      "text/plain": [
       "(33633, 10)"
      ]
     },
     "execution_count": 54,
     "metadata": {},
     "output_type": "execute_result"
    }
   ],
   "source": [
    "storm_df.shape"
   ]
  },
  {
   "cell_type": "markdown",
   "metadata": {
    "id": "TXfSN_I3PiEk"
   },
   "source": [
    "Let's say we want to visualize all our storm dataset as a function of 2 or maybe 3 variables instead of 10, i.e. with a 2D or 3D plot."
   ]
  },
  {
   "cell_type": "markdown",
   "metadata": {
    "id": "eoeRUHcaRcqQ"
   },
   "source": [
    "We need to convert our 'BEGIN_DATE_TIME' to a number. Here it is hard to think of time as a category, and it makes much more sense to think of it as a continuous number. As you saw yesterday, Pandas has a function [`pd.to_datetime`](https://pandas.pydata.org/docs/reference/api/pandas.to_datetime.html) that will convert the string dates to numbers. Here I will save the month. Let's also drop the 'EVENT_TYPE' from the dataset, we will use it to see how we can represent our data using our principal components.\n",
    "\n",
    "To make things faster we will start by selecting a subset of points from our total dataset using the [`sample()`](https://pandas.pydata.org/docs/reference/api/pandas.DataFrame.sample.html) function which randomly samples a number of rows from the dataframe and returns them in a dataframe format. Here we sample 5000. \n",
    "\n",
    "```\n",
    "# sample a smaller set of data\n",
    "storm_df_small = storm_df.sample(5000)\n",
    "```"
   ]
  },
  {
   "cell_type": "code",
   "execution_count": 55,
   "metadata": {
    "executionInfo": {
     "elapsed": 148,
     "status": "ok",
     "timestamp": 1641609735671,
     "user": {
      "displayName": "Stephanie Valleau",
      "photoUrl": "https://lh3.googleusercontent.com/a/default-user=s64",
      "userId": "10409275703594313556"
     },
     "user_tz": 480
    },
    "id": "R4J-nx9enUxn"
   },
   "outputs": [],
   "source": [
    "# sample a smaller set of data\n",
    "storm_df_small = storm_df.sample(5000)"
   ]
  },
  {
   "cell_type": "code",
   "execution_count": 56,
   "metadata": {
    "colab": {
     "base_uri": "https://localhost:8080/",
     "height": 300
    },
    "executionInfo": {
     "elapsed": 211,
     "status": "ok",
     "timestamp": 1641609744707,
     "user": {
      "displayName": "Stephanie Valleau",
      "photoUrl": "https://lh3.googleusercontent.com/a/default-user=s64",
      "userId": "10409275703594313556"
     },
     "user_tz": 480
    },
    "id": "AcSqR_tmkLcB",
    "outputId": "873515c6-ca67-4b86-e327-0337e2143011"
   },
   "outputs": [
    {
     "data": {
      "text/html": [
       "\n",
       "  <div id=\"df-6dc640b1-b17d-4d52-9e44-262942645990\">\n",
       "    <div class=\"colab-df-container\">\n",
       "      <div>\n",
       "<style scoped>\n",
       "    .dataframe tbody tr th:only-of-type {\n",
       "        vertical-align: middle;\n",
       "    }\n",
       "\n",
       "    .dataframe tbody tr th {\n",
       "        vertical-align: top;\n",
       "    }\n",
       "\n",
       "    .dataframe thead th {\n",
       "        text-align: right;\n",
       "    }\n",
       "</style>\n",
       "<table border=\"1\" class=\"dataframe\">\n",
       "  <thead>\n",
       "    <tr style=\"text-align: right;\">\n",
       "      <th></th>\n",
       "      <th>INJURIES_DIRECT</th>\n",
       "      <th>INJURIES_INDIRECT</th>\n",
       "      <th>DEATHS_DIRECT</th>\n",
       "      <th>DEATHS_INDIRECT</th>\n",
       "      <th>DAMAGE_PROPERTY</th>\n",
       "      <th>DAMAGE_CROPS</th>\n",
       "      <th>LATITUDE</th>\n",
       "      <th>LONGITUDE</th>\n",
       "    </tr>\n",
       "  </thead>\n",
       "  <tbody>\n",
       "    <tr>\n",
       "      <th>count</th>\n",
       "      <td>5000.00000</td>\n",
       "      <td>5000.000000</td>\n",
       "      <td>5000.000000</td>\n",
       "      <td>5000.000000</td>\n",
       "      <td>5000.000000</td>\n",
       "      <td>5000.000000</td>\n",
       "      <td>5000.000000</td>\n",
       "      <td>5000.000000</td>\n",
       "    </tr>\n",
       "    <tr>\n",
       "      <th>mean</th>\n",
       "      <td>0.01640</td>\n",
       "      <td>0.000600</td>\n",
       "      <td>0.004400</td>\n",
       "      <td>0.000800</td>\n",
       "      <td>9610.042000</td>\n",
       "      <td>1718.210000</td>\n",
       "      <td>37.869586</td>\n",
       "      <td>-90.969532</td>\n",
       "    </tr>\n",
       "    <tr>\n",
       "      <th>std</th>\n",
       "      <td>0.47684</td>\n",
       "      <td>0.042426</td>\n",
       "      <td>0.069149</td>\n",
       "      <td>0.034635</td>\n",
       "      <td>51572.685135</td>\n",
       "      <td>21013.387242</td>\n",
       "      <td>5.176021</td>\n",
       "      <td>12.345125</td>\n",
       "    </tr>\n",
       "    <tr>\n",
       "      <th>min</th>\n",
       "      <td>0.00000</td>\n",
       "      <td>0.000000</td>\n",
       "      <td>0.000000</td>\n",
       "      <td>0.000000</td>\n",
       "      <td>0.000000</td>\n",
       "      <td>0.000000</td>\n",
       "      <td>-14.199000</td>\n",
       "      <td>-170.550800</td>\n",
       "    </tr>\n",
       "    <tr>\n",
       "      <th>25%</th>\n",
       "      <td>0.00000</td>\n",
       "      <td>0.000000</td>\n",
       "      <td>0.000000</td>\n",
       "      <td>0.000000</td>\n",
       "      <td>0.000000</td>\n",
       "      <td>0.000000</td>\n",
       "      <td>34.773750</td>\n",
       "      <td>-97.390000</td>\n",
       "    </tr>\n",
       "    <tr>\n",
       "      <th>50%</th>\n",
       "      <td>0.00000</td>\n",
       "      <td>0.000000</td>\n",
       "      <td>0.000000</td>\n",
       "      <td>0.000000</td>\n",
       "      <td>0.000000</td>\n",
       "      <td>0.000000</td>\n",
       "      <td>38.316750</td>\n",
       "      <td>-90.080000</td>\n",
       "    </tr>\n",
       "    <tr>\n",
       "      <th>75%</th>\n",
       "      <td>0.00000</td>\n",
       "      <td>0.000000</td>\n",
       "      <td>0.000000</td>\n",
       "      <td>0.000000</td>\n",
       "      <td>1000.000000</td>\n",
       "      <td>0.000000</td>\n",
       "      <td>41.490000</td>\n",
       "      <td>-81.871350</td>\n",
       "    </tr>\n",
       "    <tr>\n",
       "      <th>max</th>\n",
       "      <td>31.00000</td>\n",
       "      <td>3.000000</td>\n",
       "      <td>2.000000</td>\n",
       "      <td>2.000000</td>\n",
       "      <td>854000.000000</td>\n",
       "      <td>500000.000000</td>\n",
       "      <td>61.875500</td>\n",
       "      <td>-64.786000</td>\n",
       "    </tr>\n",
       "  </tbody>\n",
       "</table>\n",
       "</div>\n",
       "      <button class=\"colab-df-convert\" onclick=\"convertToInteractive('df-6dc640b1-b17d-4d52-9e44-262942645990')\"\n",
       "              title=\"Convert this dataframe to an interactive table.\"\n",
       "              style=\"display:none;\">\n",
       "        \n",
       "  <svg xmlns=\"http://www.w3.org/2000/svg\" height=\"24px\"viewBox=\"0 0 24 24\"\n",
       "       width=\"24px\">\n",
       "    <path d=\"M0 0h24v24H0V0z\" fill=\"none\"/>\n",
       "    <path d=\"M18.56 5.44l.94 2.06.94-2.06 2.06-.94-2.06-.94-.94-2.06-.94 2.06-2.06.94zm-11 1L8.5 8.5l.94-2.06 2.06-.94-2.06-.94L8.5 2.5l-.94 2.06-2.06.94zm10 10l.94 2.06.94-2.06 2.06-.94-2.06-.94-.94-2.06-.94 2.06-2.06.94z\"/><path d=\"M17.41 7.96l-1.37-1.37c-.4-.4-.92-.59-1.43-.59-.52 0-1.04.2-1.43.59L10.3 9.45l-7.72 7.72c-.78.78-.78 2.05 0 2.83L4 21.41c.39.39.9.59 1.41.59.51 0 1.02-.2 1.41-.59l7.78-7.78 2.81-2.81c.8-.78.8-2.07 0-2.86zM5.41 20L4 18.59l7.72-7.72 1.47 1.35L5.41 20z\"/>\n",
       "  </svg>\n",
       "      </button>\n",
       "      \n",
       "  <style>\n",
       "    .colab-df-container {\n",
       "      display:flex;\n",
       "      flex-wrap:wrap;\n",
       "      gap: 12px;\n",
       "    }\n",
       "\n",
       "    .colab-df-convert {\n",
       "      background-color: #E8F0FE;\n",
       "      border: none;\n",
       "      border-radius: 50%;\n",
       "      cursor: pointer;\n",
       "      display: none;\n",
       "      fill: #1967D2;\n",
       "      height: 32px;\n",
       "      padding: 0 0 0 0;\n",
       "      width: 32px;\n",
       "    }\n",
       "\n",
       "    .colab-df-convert:hover {\n",
       "      background-color: #E2EBFA;\n",
       "      box-shadow: 0px 1px 2px rgba(60, 64, 67, 0.3), 0px 1px 3px 1px rgba(60, 64, 67, 0.15);\n",
       "      fill: #174EA6;\n",
       "    }\n",
       "\n",
       "    [theme=dark] .colab-df-convert {\n",
       "      background-color: #3B4455;\n",
       "      fill: #D2E3FC;\n",
       "    }\n",
       "\n",
       "    [theme=dark] .colab-df-convert:hover {\n",
       "      background-color: #434B5C;\n",
       "      box-shadow: 0px 1px 3px 1px rgba(0, 0, 0, 0.15);\n",
       "      filter: drop-shadow(0px 1px 2px rgba(0, 0, 0, 0.3));\n",
       "      fill: #FFFFFF;\n",
       "    }\n",
       "  </style>\n",
       "\n",
       "      <script>\n",
       "        const buttonEl =\n",
       "          document.querySelector('#df-6dc640b1-b17d-4d52-9e44-262942645990 button.colab-df-convert');\n",
       "        buttonEl.style.display =\n",
       "          google.colab.kernel.accessAllowed ? 'block' : 'none';\n",
       "\n",
       "        async function convertToInteractive(key) {\n",
       "          const element = document.querySelector('#df-6dc640b1-b17d-4d52-9e44-262942645990');\n",
       "          const dataTable =\n",
       "            await google.colab.kernel.invokeFunction('convertToInteractive',\n",
       "                                                     [key], {});\n",
       "          if (!dataTable) return;\n",
       "\n",
       "          const docLinkHtml = 'Like what you see? Visit the ' +\n",
       "            '<a target=\"_blank\" href=https://colab.research.google.com/notebooks/data_table.ipynb>data table notebook</a>'\n",
       "            + ' to learn more about interactive tables.';\n",
       "          element.innerHTML = '';\n",
       "          dataTable['output_type'] = 'display_data';\n",
       "          await google.colab.output.renderOutput(dataTable, element);\n",
       "          const docLink = document.createElement('div');\n",
       "          docLink.innerHTML = docLinkHtml;\n",
       "          element.appendChild(docLink);\n",
       "        }\n",
       "      </script>\n",
       "    </div>\n",
       "  </div>\n",
       "  "
      ],
      "text/plain": [
       "       INJURIES_DIRECT  INJURIES_INDIRECT  ...     LATITUDE    LONGITUDE\n",
       "count       5000.00000        5000.000000  ...  5000.000000  5000.000000\n",
       "mean           0.01640           0.000600  ...    37.869586   -90.969532\n",
       "std            0.47684           0.042426  ...     5.176021    12.345125\n",
       "min            0.00000           0.000000  ...   -14.199000  -170.550800\n",
       "25%            0.00000           0.000000  ...    34.773750   -97.390000\n",
       "50%            0.00000           0.000000  ...    38.316750   -90.080000\n",
       "75%            0.00000           0.000000  ...    41.490000   -81.871350\n",
       "max           31.00000           3.000000  ...    61.875500   -64.786000\n",
       "\n",
       "[8 rows x 8 columns]"
      ]
     },
     "execution_count": 56,
     "metadata": {},
     "output_type": "execute_result"
    }
   ],
   "source": [
    "storm_df_small.describe()"
   ]
  },
  {
   "cell_type": "markdown",
   "metadata": {
    "id": "KdatqY5DnufB"
   },
   "source": [
    "Now we will remove the 'EVENT_TYPE' column from the dataframe using the `drop()` function (more info on `drop()` [here](https://pandas.pydata.org/docs/reference/api/pandas.DataFrame.drop.html)) \n",
    "\n",
    "```\n",
    "# remove the EVENT_TYPE column from the dataframe\n",
    "y = storm_df_small['EVENT_TYPE']\n",
    "storm_df_small.drop('EVENT_TYPE', axis=1, inplace=True) # inplace=True guarantees the column is actually removed\n",
    "\n",
    "```"
   ]
  },
  {
   "cell_type": "code",
   "execution_count": 57,
   "metadata": {
    "executionInfo": {
     "elapsed": 157,
     "status": "ok",
     "timestamp": 1641609811133,
     "user": {
      "displayName": "Stephanie Valleau",
      "photoUrl": "https://lh3.googleusercontent.com/a/default-user=s64",
      "userId": "10409275703594313556"
     },
     "user_tz": 480
    },
    "id": "vkjLFoIrNMpH"
   },
   "outputs": [],
   "source": [
    "# remove the EVENT_TYPE column from the dataframe\n",
    "y = storm_df_small['EVENT_TYPE']\n",
    "storm_df_small.drop('EVENT_TYPE', axis=1, inplace=True) # inplace=True guarantees the column is actually removed\n"
   ]
  },
  {
   "cell_type": "markdown",
   "metadata": {
    "id": "IS22gCxCoGaw"
   },
   "source": [
    "Now we will transform the dates to numbers with the `to_datetime()` function and save the years in a variable called `year`\n",
    "\n",
    "```\n",
    "# convert the date strings to numbers\n",
    "datetimes = pd.to_datetime(storm_df_small['BEGIN_DATE_TIME'])\n",
    "```"
   ]
  },
  {
   "cell_type": "code",
   "execution_count": 59,
   "metadata": {
    "colab": {
     "base_uri": "https://localhost:8080/"
    },
    "executionInfo": {
     "elapsed": 717,
     "status": "ok",
     "timestamp": 1641609832857,
     "user": {
      "displayName": "Stephanie Valleau",
      "photoUrl": "https://lh3.googleusercontent.com/a/default-user=s64",
      "userId": "10409275703594313556"
     },
     "user_tz": 480
    },
    "id": "ibejcTUEoFWu",
    "outputId": "830c2f50-4722-433c-fe01-25bb3059401d"
   },
   "outputs": [
    {
     "data": {
      "text/plain": [
       "4427    2018-02-24 11:00:00\n",
       "9371    2018-06-14 16:55:00\n",
       "29539   2018-12-15 14:00:00\n",
       "8340    2018-04-02 23:36:00\n",
       "14797   2018-05-29 01:00:00\n",
       "                ...        \n",
       "11184   2018-06-12 17:45:00\n",
       "10163   2018-06-10 19:09:00\n",
       "2635    2005-08-28 17:12:00\n",
       "5513    2018-03-27 08:00:00\n",
       "14314   2018-05-14 18:23:00\n",
       "Name: BEGIN_DATE_TIME, Length: 5000, dtype: datetime64[ns]"
      ]
     },
     "execution_count": 59,
     "metadata": {},
     "output_type": "execute_result"
    }
   ],
   "source": [
    "# convert the date strings to numbers\n",
    "datetimes = pd.to_datetime(storm_df_small['BEGIN_DATE_TIME'])\n",
    "\n",
    "datetimes"
   ]
  },
  {
   "cell_type": "markdown",
   "metadata": {
    "id": "9Ncco-9EWLHt"
   },
   "source": [
    "```\n",
    "# store the new date values in storm_df_small\n",
    "new_times = []                    #  Create an empty list\n",
    "for d in datetimes:\n",
    "  new_times.append(d.timestamp()) # Get the timestamp() and append it to our list\n",
    "  \n",
    "storm_df_small['BEGIN_DATE_TIME'] = new_times  # Replace the values in our pandas dataframe with these numbers\n",
    "\n",
    "# save the years in a separate list \n",
    "years = []\n",
    "for d in datetimes:\n",
    "  years.append(d.year)\n",
    "```"
   ]
  },
  {
   "cell_type": "code",
   "execution_count": 62,
   "metadata": {
    "executionInfo": {
     "elapsed": 187,
     "status": "ok",
     "timestamp": 1641609943656,
     "user": {
      "displayName": "Stephanie Valleau",
      "photoUrl": "https://lh3.googleusercontent.com/a/default-user=s64",
      "userId": "10409275703594313556"
     },
     "user_tz": 480
    },
    "id": "TMvKu3fYo_eH"
   },
   "outputs": [],
   "source": [
    "# store the new date values in storm_df_small\n",
    "new_times = []                    #  Create an empty list\n",
    "for d in datetimes:\n",
    "  new_times.append(d.timestamp()) # Get the timestamp() and append it to our list\n",
    "  \n",
    "storm_df_small['BEGIN_DATE_TIME'] = new_times  # Replace the values in our pandas dataframe with these numbers\n",
    "\n",
    "# save the years in a separate list \n",
    "years = []\n",
    "for d in datetimes:\n",
    "  years.append(d.year)\n"
   ]
  },
  {
   "cell_type": "markdown",
   "metadata": {
    "id": "KkvjtgAToR15"
   },
   "source": [
    "In our dataframe we only have numbers now! Let's check"
   ]
  },
  {
   "cell_type": "code",
   "execution_count": 63,
   "metadata": {
    "colab": {
     "base_uri": "https://localhost:8080/",
     "height": 424
    },
    "executionInfo": {
     "elapsed": 163,
     "status": "ok",
     "timestamp": 1641609960180,
     "user": {
      "displayName": "Stephanie Valleau",
      "photoUrl": "https://lh3.googleusercontent.com/a/default-user=s64",
      "userId": "10409275703594313556"
     },
     "user_tz": 480
    },
    "id": "AOzhy-6gq_r-",
    "outputId": "6fe61e4c-068a-472c-d4df-e82806449323"
   },
   "outputs": [
    {
     "data": {
      "text/html": [
       "\n",
       "  <div id=\"df-0a9638d1-82c2-46ca-8b59-17649223e1cf\">\n",
       "    <div class=\"colab-df-container\">\n",
       "      <div>\n",
       "<style scoped>\n",
       "    .dataframe tbody tr th:only-of-type {\n",
       "        vertical-align: middle;\n",
       "    }\n",
       "\n",
       "    .dataframe tbody tr th {\n",
       "        vertical-align: top;\n",
       "    }\n",
       "\n",
       "    .dataframe thead th {\n",
       "        text-align: right;\n",
       "    }\n",
       "</style>\n",
       "<table border=\"1\" class=\"dataframe\">\n",
       "  <thead>\n",
       "    <tr style=\"text-align: right;\">\n",
       "      <th></th>\n",
       "      <th>BEGIN_DATE_TIME</th>\n",
       "      <th>INJURIES_DIRECT</th>\n",
       "      <th>INJURIES_INDIRECT</th>\n",
       "      <th>DEATHS_DIRECT</th>\n",
       "      <th>DEATHS_INDIRECT</th>\n",
       "      <th>DAMAGE_PROPERTY</th>\n",
       "      <th>DAMAGE_CROPS</th>\n",
       "      <th>LATITUDE</th>\n",
       "      <th>LONGITUDE</th>\n",
       "    </tr>\n",
       "  </thead>\n",
       "  <tbody>\n",
       "    <tr>\n",
       "      <th>4427</th>\n",
       "      <td>1.519470e+09</td>\n",
       "      <td>0</td>\n",
       "      <td>0</td>\n",
       "      <td>0</td>\n",
       "      <td>0</td>\n",
       "      <td>0.0</td>\n",
       "      <td>0.0</td>\n",
       "      <td>38.4000</td>\n",
       "      <td>-87.7300</td>\n",
       "    </tr>\n",
       "    <tr>\n",
       "      <th>9371</th>\n",
       "      <td>1.528995e+09</td>\n",
       "      <td>0</td>\n",
       "      <td>0</td>\n",
       "      <td>0</td>\n",
       "      <td>0</td>\n",
       "      <td>0.0</td>\n",
       "      <td>0.0</td>\n",
       "      <td>36.2200</td>\n",
       "      <td>-91.7400</td>\n",
       "    </tr>\n",
       "    <tr>\n",
       "      <th>29539</th>\n",
       "      <td>1.544882e+09</td>\n",
       "      <td>0</td>\n",
       "      <td>0</td>\n",
       "      <td>0</td>\n",
       "      <td>0</td>\n",
       "      <td>0.0</td>\n",
       "      <td>0.0</td>\n",
       "      <td>36.5900</td>\n",
       "      <td>-79.3900</td>\n",
       "    </tr>\n",
       "    <tr>\n",
       "      <th>8340</th>\n",
       "      <td>1.522712e+09</td>\n",
       "      <td>0</td>\n",
       "      <td>0</td>\n",
       "      <td>0</td>\n",
       "      <td>0</td>\n",
       "      <td>0.0</td>\n",
       "      <td>0.0</td>\n",
       "      <td>38.6663</td>\n",
       "      <td>-90.3177</td>\n",
       "    </tr>\n",
       "    <tr>\n",
       "      <th>14797</th>\n",
       "      <td>1.527556e+09</td>\n",
       "      <td>0</td>\n",
       "      <td>0</td>\n",
       "      <td>0</td>\n",
       "      <td>0</td>\n",
       "      <td>0.0</td>\n",
       "      <td>0.0</td>\n",
       "      <td>36.1500</td>\n",
       "      <td>-99.3000</td>\n",
       "    </tr>\n",
       "    <tr>\n",
       "      <th>...</th>\n",
       "      <td>...</td>\n",
       "      <td>...</td>\n",
       "      <td>...</td>\n",
       "      <td>...</td>\n",
       "      <td>...</td>\n",
       "      <td>...</td>\n",
       "      <td>...</td>\n",
       "      <td>...</td>\n",
       "      <td>...</td>\n",
       "    </tr>\n",
       "    <tr>\n",
       "      <th>11184</th>\n",
       "      <td>1.528826e+09</td>\n",
       "      <td>0</td>\n",
       "      <td>0</td>\n",
       "      <td>0</td>\n",
       "      <td>0</td>\n",
       "      <td>0.0</td>\n",
       "      <td>0.0</td>\n",
       "      <td>37.7500</td>\n",
       "      <td>-85.7400</td>\n",
       "    </tr>\n",
       "    <tr>\n",
       "      <th>10163</th>\n",
       "      <td>1.528658e+09</td>\n",
       "      <td>0</td>\n",
       "      <td>0</td>\n",
       "      <td>0</td>\n",
       "      <td>0</td>\n",
       "      <td>0.0</td>\n",
       "      <td>0.0</td>\n",
       "      <td>40.4249</td>\n",
       "      <td>-79.8154</td>\n",
       "    </tr>\n",
       "    <tr>\n",
       "      <th>2635</th>\n",
       "      <td>1.125249e+09</td>\n",
       "      <td>0</td>\n",
       "      <td>0</td>\n",
       "      <td>0</td>\n",
       "      <td>0</td>\n",
       "      <td>0.0</td>\n",
       "      <td>0.0</td>\n",
       "      <td>40.7000</td>\n",
       "      <td>-99.7700</td>\n",
       "    </tr>\n",
       "    <tr>\n",
       "      <th>5513</th>\n",
       "      <td>1.522138e+09</td>\n",
       "      <td>0</td>\n",
       "      <td>0</td>\n",
       "      <td>1</td>\n",
       "      <td>0</td>\n",
       "      <td>0.0</td>\n",
       "      <td>0.0</td>\n",
       "      <td>34.2156</td>\n",
       "      <td>-96.4665</td>\n",
       "    </tr>\n",
       "    <tr>\n",
       "      <th>14314</th>\n",
       "      <td>1.526322e+09</td>\n",
       "      <td>0</td>\n",
       "      <td>0</td>\n",
       "      <td>0</td>\n",
       "      <td>0</td>\n",
       "      <td>0.0</td>\n",
       "      <td>0.0</td>\n",
       "      <td>41.4700</td>\n",
       "      <td>-87.0500</td>\n",
       "    </tr>\n",
       "  </tbody>\n",
       "</table>\n",
       "<p>5000 rows × 9 columns</p>\n",
       "</div>\n",
       "      <button class=\"colab-df-convert\" onclick=\"convertToInteractive('df-0a9638d1-82c2-46ca-8b59-17649223e1cf')\"\n",
       "              title=\"Convert this dataframe to an interactive table.\"\n",
       "              style=\"display:none;\">\n",
       "        \n",
       "  <svg xmlns=\"http://www.w3.org/2000/svg\" height=\"24px\"viewBox=\"0 0 24 24\"\n",
       "       width=\"24px\">\n",
       "    <path d=\"M0 0h24v24H0V0z\" fill=\"none\"/>\n",
       "    <path d=\"M18.56 5.44l.94 2.06.94-2.06 2.06-.94-2.06-.94-.94-2.06-.94 2.06-2.06.94zm-11 1L8.5 8.5l.94-2.06 2.06-.94-2.06-.94L8.5 2.5l-.94 2.06-2.06.94zm10 10l.94 2.06.94-2.06 2.06-.94-2.06-.94-.94-2.06-.94 2.06-2.06.94z\"/><path d=\"M17.41 7.96l-1.37-1.37c-.4-.4-.92-.59-1.43-.59-.52 0-1.04.2-1.43.59L10.3 9.45l-7.72 7.72c-.78.78-.78 2.05 0 2.83L4 21.41c.39.39.9.59 1.41.59.51 0 1.02-.2 1.41-.59l7.78-7.78 2.81-2.81c.8-.78.8-2.07 0-2.86zM5.41 20L4 18.59l7.72-7.72 1.47 1.35L5.41 20z\"/>\n",
       "  </svg>\n",
       "      </button>\n",
       "      \n",
       "  <style>\n",
       "    .colab-df-container {\n",
       "      display:flex;\n",
       "      flex-wrap:wrap;\n",
       "      gap: 12px;\n",
       "    }\n",
       "\n",
       "    .colab-df-convert {\n",
       "      background-color: #E8F0FE;\n",
       "      border: none;\n",
       "      border-radius: 50%;\n",
       "      cursor: pointer;\n",
       "      display: none;\n",
       "      fill: #1967D2;\n",
       "      height: 32px;\n",
       "      padding: 0 0 0 0;\n",
       "      width: 32px;\n",
       "    }\n",
       "\n",
       "    .colab-df-convert:hover {\n",
       "      background-color: #E2EBFA;\n",
       "      box-shadow: 0px 1px 2px rgba(60, 64, 67, 0.3), 0px 1px 3px 1px rgba(60, 64, 67, 0.15);\n",
       "      fill: #174EA6;\n",
       "    }\n",
       "\n",
       "    [theme=dark] .colab-df-convert {\n",
       "      background-color: #3B4455;\n",
       "      fill: #D2E3FC;\n",
       "    }\n",
       "\n",
       "    [theme=dark] .colab-df-convert:hover {\n",
       "      background-color: #434B5C;\n",
       "      box-shadow: 0px 1px 3px 1px rgba(0, 0, 0, 0.15);\n",
       "      filter: drop-shadow(0px 1px 2px rgba(0, 0, 0, 0.3));\n",
       "      fill: #FFFFFF;\n",
       "    }\n",
       "  </style>\n",
       "\n",
       "      <script>\n",
       "        const buttonEl =\n",
       "          document.querySelector('#df-0a9638d1-82c2-46ca-8b59-17649223e1cf button.colab-df-convert');\n",
       "        buttonEl.style.display =\n",
       "          google.colab.kernel.accessAllowed ? 'block' : 'none';\n",
       "\n",
       "        async function convertToInteractive(key) {\n",
       "          const element = document.querySelector('#df-0a9638d1-82c2-46ca-8b59-17649223e1cf');\n",
       "          const dataTable =\n",
       "            await google.colab.kernel.invokeFunction('convertToInteractive',\n",
       "                                                     [key], {});\n",
       "          if (!dataTable) return;\n",
       "\n",
       "          const docLinkHtml = 'Like what you see? Visit the ' +\n",
       "            '<a target=\"_blank\" href=https://colab.research.google.com/notebooks/data_table.ipynb>data table notebook</a>'\n",
       "            + ' to learn more about interactive tables.';\n",
       "          element.innerHTML = '';\n",
       "          dataTable['output_type'] = 'display_data';\n",
       "          await google.colab.output.renderOutput(dataTable, element);\n",
       "          const docLink = document.createElement('div');\n",
       "          docLink.innerHTML = docLinkHtml;\n",
       "          element.appendChild(docLink);\n",
       "        }\n",
       "      </script>\n",
       "    </div>\n",
       "  </div>\n",
       "  "
      ],
      "text/plain": [
       "       BEGIN_DATE_TIME  INJURIES_DIRECT  ...  LATITUDE  LONGITUDE\n",
       "4427      1.519470e+09                0  ...   38.4000   -87.7300\n",
       "9371      1.528995e+09                0  ...   36.2200   -91.7400\n",
       "29539     1.544882e+09                0  ...   36.5900   -79.3900\n",
       "8340      1.522712e+09                0  ...   38.6663   -90.3177\n",
       "14797     1.527556e+09                0  ...   36.1500   -99.3000\n",
       "...                ...              ...  ...       ...        ...\n",
       "11184     1.528826e+09                0  ...   37.7500   -85.7400\n",
       "10163     1.528658e+09                0  ...   40.4249   -79.8154\n",
       "2635      1.125249e+09                0  ...   40.7000   -99.7700\n",
       "5513      1.522138e+09                0  ...   34.2156   -96.4665\n",
       "14314     1.526322e+09                0  ...   41.4700   -87.0500\n",
       "\n",
       "[5000 rows x 9 columns]"
      ]
     },
     "execution_count": 63,
     "metadata": {},
     "output_type": "execute_result"
    }
   ],
   "source": [
    "storm_df_small"
   ]
  },
  {
   "cell_type": "markdown",
   "metadata": {
    "id": "38hMgB6erCr9"
   },
   "source": [
    "Now we can scale the data just like we did before with the `MinMaxScaler()` function\n",
    "\n",
    "```\n",
    "# scale the data\n",
    "min_max_scaler = MinMaxScaler()\n",
    "X_scaled = min_max_scaler.fit_transform(storm_df_small.values)\n",
    "storm_df_small = pd.DataFrame(data=X_scaled, columns=storm_df_small.columns)\n",
    "```"
   ]
  },
  {
   "cell_type": "code",
   "execution_count": 64,
   "metadata": {
    "executionInfo": {
     "elapsed": 182,
     "status": "ok",
     "timestamp": 1641610003960,
     "user": {
      "displayName": "Stephanie Valleau",
      "photoUrl": "https://lh3.googleusercontent.com/a/default-user=s64",
      "userId": "10409275703594313556"
     },
     "user_tz": 480
    },
    "id": "Ibm-pWStoRQt"
   },
   "outputs": [],
   "source": [
    "# scale the data\n",
    "min_max_scaler = MinMaxScaler()\n",
    "X_scaled = min_max_scaler.fit_transform(storm_df_small.values)\n",
    "storm_df_small = pd.DataFrame(data=X_scaled, columns=storm_df_small.columns)"
   ]
  },
  {
   "cell_type": "code",
   "execution_count": 65,
   "metadata": {
    "colab": {
     "base_uri": "https://localhost:8080/",
     "height": 300
    },
    "executionInfo": {
     "elapsed": 199,
     "status": "ok",
     "timestamp": 1641610013461,
     "user": {
      "displayName": "Stephanie Valleau",
      "photoUrl": "https://lh3.googleusercontent.com/a/default-user=s64",
      "userId": "10409275703594313556"
     },
     "user_tz": 480
    },
    "id": "J5uuxxWprNEx",
    "outputId": "ac47be8f-5c6f-45a6-8fba-df980352d793"
   },
   "outputs": [
    {
     "data": {
      "text/html": [
       "\n",
       "  <div id=\"df-ac81da8c-b9da-4975-bd0a-03020119edf3\">\n",
       "    <div class=\"colab-df-container\">\n",
       "      <div>\n",
       "<style scoped>\n",
       "    .dataframe tbody tr th:only-of-type {\n",
       "        vertical-align: middle;\n",
       "    }\n",
       "\n",
       "    .dataframe tbody tr th {\n",
       "        vertical-align: top;\n",
       "    }\n",
       "\n",
       "    .dataframe thead th {\n",
       "        text-align: right;\n",
       "    }\n",
       "</style>\n",
       "<table border=\"1\" class=\"dataframe\">\n",
       "  <thead>\n",
       "    <tr style=\"text-align: right;\">\n",
       "      <th></th>\n",
       "      <th>BEGIN_DATE_TIME</th>\n",
       "      <th>INJURIES_DIRECT</th>\n",
       "      <th>INJURIES_INDIRECT</th>\n",
       "      <th>DEATHS_DIRECT</th>\n",
       "      <th>DEATHS_INDIRECT</th>\n",
       "      <th>DAMAGE_PROPERTY</th>\n",
       "      <th>DAMAGE_CROPS</th>\n",
       "      <th>LATITUDE</th>\n",
       "      <th>LONGITUDE</th>\n",
       "    </tr>\n",
       "  </thead>\n",
       "  <tbody>\n",
       "    <tr>\n",
       "      <th>count</th>\n",
       "      <td>5000.000000</td>\n",
       "      <td>5000.000000</td>\n",
       "      <td>5000.000000</td>\n",
       "      <td>5000.000000</td>\n",
       "      <td>5000.000000</td>\n",
       "      <td>5000.000000</td>\n",
       "      <td>5000.000000</td>\n",
       "      <td>5000.000000</td>\n",
       "      <td>5000.000000</td>\n",
       "    </tr>\n",
       "    <tr>\n",
       "      <th>mean</th>\n",
       "      <td>0.877324</td>\n",
       "      <td>0.000529</td>\n",
       "      <td>0.000200</td>\n",
       "      <td>0.002200</td>\n",
       "      <td>0.000400</td>\n",
       "      <td>0.011253</td>\n",
       "      <td>0.003436</td>\n",
       "      <td>0.684442</td>\n",
       "      <td>0.752436</td>\n",
       "    </tr>\n",
       "    <tr>\n",
       "      <th>std</th>\n",
       "      <td>0.272079</td>\n",
       "      <td>0.015382</td>\n",
       "      <td>0.014142</td>\n",
       "      <td>0.034575</td>\n",
       "      <td>0.017318</td>\n",
       "      <td>0.060390</td>\n",
       "      <td>0.042027</td>\n",
       "      <td>0.068039</td>\n",
       "      <td>0.116722</td>\n",
       "    </tr>\n",
       "    <tr>\n",
       "      <th>min</th>\n",
       "      <td>0.000000</td>\n",
       "      <td>0.000000</td>\n",
       "      <td>0.000000</td>\n",
       "      <td>0.000000</td>\n",
       "      <td>0.000000</td>\n",
       "      <td>0.000000</td>\n",
       "      <td>0.000000</td>\n",
       "      <td>0.000000</td>\n",
       "      <td>0.000000</td>\n",
       "    </tr>\n",
       "    <tr>\n",
       "      <th>25%</th>\n",
       "      <td>0.951974</td>\n",
       "      <td>0.000000</td>\n",
       "      <td>0.000000</td>\n",
       "      <td>0.000000</td>\n",
       "      <td>0.000000</td>\n",
       "      <td>0.000000</td>\n",
       "      <td>0.000000</td>\n",
       "      <td>0.643747</td>\n",
       "      <td>0.691731</td>\n",
       "    </tr>\n",
       "    <tr>\n",
       "      <th>50%</th>\n",
       "      <td>0.961682</td>\n",
       "      <td>0.000000</td>\n",
       "      <td>0.000000</td>\n",
       "      <td>0.000000</td>\n",
       "      <td>0.000000</td>\n",
       "      <td>0.000000</td>\n",
       "      <td>0.000000</td>\n",
       "      <td>0.690320</td>\n",
       "      <td>0.760847</td>\n",
       "    </tr>\n",
       "    <tr>\n",
       "      <th>75%</th>\n",
       "      <td>0.971929</td>\n",
       "      <td>0.000000</td>\n",
       "      <td>0.000000</td>\n",
       "      <td>0.000000</td>\n",
       "      <td>0.000000</td>\n",
       "      <td>0.001171</td>\n",
       "      <td>0.000000</td>\n",
       "      <td>0.732032</td>\n",
       "      <td>0.838459</td>\n",
       "    </tr>\n",
       "    <tr>\n",
       "      <th>max</th>\n",
       "      <td>1.000000</td>\n",
       "      <td>1.000000</td>\n",
       "      <td>1.000000</td>\n",
       "      <td>1.000000</td>\n",
       "      <td>1.000000</td>\n",
       "      <td>1.000000</td>\n",
       "      <td>1.000000</td>\n",
       "      <td>1.000000</td>\n",
       "      <td>1.000000</td>\n",
       "    </tr>\n",
       "  </tbody>\n",
       "</table>\n",
       "</div>\n",
       "      <button class=\"colab-df-convert\" onclick=\"convertToInteractive('df-ac81da8c-b9da-4975-bd0a-03020119edf3')\"\n",
       "              title=\"Convert this dataframe to an interactive table.\"\n",
       "              style=\"display:none;\">\n",
       "        \n",
       "  <svg xmlns=\"http://www.w3.org/2000/svg\" height=\"24px\"viewBox=\"0 0 24 24\"\n",
       "       width=\"24px\">\n",
       "    <path d=\"M0 0h24v24H0V0z\" fill=\"none\"/>\n",
       "    <path d=\"M18.56 5.44l.94 2.06.94-2.06 2.06-.94-2.06-.94-.94-2.06-.94 2.06-2.06.94zm-11 1L8.5 8.5l.94-2.06 2.06-.94-2.06-.94L8.5 2.5l-.94 2.06-2.06.94zm10 10l.94 2.06.94-2.06 2.06-.94-2.06-.94-.94-2.06-.94 2.06-2.06.94z\"/><path d=\"M17.41 7.96l-1.37-1.37c-.4-.4-.92-.59-1.43-.59-.52 0-1.04.2-1.43.59L10.3 9.45l-7.72 7.72c-.78.78-.78 2.05 0 2.83L4 21.41c.39.39.9.59 1.41.59.51 0 1.02-.2 1.41-.59l7.78-7.78 2.81-2.81c.8-.78.8-2.07 0-2.86zM5.41 20L4 18.59l7.72-7.72 1.47 1.35L5.41 20z\"/>\n",
       "  </svg>\n",
       "      </button>\n",
       "      \n",
       "  <style>\n",
       "    .colab-df-container {\n",
       "      display:flex;\n",
       "      flex-wrap:wrap;\n",
       "      gap: 12px;\n",
       "    }\n",
       "\n",
       "    .colab-df-convert {\n",
       "      background-color: #E8F0FE;\n",
       "      border: none;\n",
       "      border-radius: 50%;\n",
       "      cursor: pointer;\n",
       "      display: none;\n",
       "      fill: #1967D2;\n",
       "      height: 32px;\n",
       "      padding: 0 0 0 0;\n",
       "      width: 32px;\n",
       "    }\n",
       "\n",
       "    .colab-df-convert:hover {\n",
       "      background-color: #E2EBFA;\n",
       "      box-shadow: 0px 1px 2px rgba(60, 64, 67, 0.3), 0px 1px 3px 1px rgba(60, 64, 67, 0.15);\n",
       "      fill: #174EA6;\n",
       "    }\n",
       "\n",
       "    [theme=dark] .colab-df-convert {\n",
       "      background-color: #3B4455;\n",
       "      fill: #D2E3FC;\n",
       "    }\n",
       "\n",
       "    [theme=dark] .colab-df-convert:hover {\n",
       "      background-color: #434B5C;\n",
       "      box-shadow: 0px 1px 3px 1px rgba(0, 0, 0, 0.15);\n",
       "      filter: drop-shadow(0px 1px 2px rgba(0, 0, 0, 0.3));\n",
       "      fill: #FFFFFF;\n",
       "    }\n",
       "  </style>\n",
       "\n",
       "      <script>\n",
       "        const buttonEl =\n",
       "          document.querySelector('#df-ac81da8c-b9da-4975-bd0a-03020119edf3 button.colab-df-convert');\n",
       "        buttonEl.style.display =\n",
       "          google.colab.kernel.accessAllowed ? 'block' : 'none';\n",
       "\n",
       "        async function convertToInteractive(key) {\n",
       "          const element = document.querySelector('#df-ac81da8c-b9da-4975-bd0a-03020119edf3');\n",
       "          const dataTable =\n",
       "            await google.colab.kernel.invokeFunction('convertToInteractive',\n",
       "                                                     [key], {});\n",
       "          if (!dataTable) return;\n",
       "\n",
       "          const docLinkHtml = 'Like what you see? Visit the ' +\n",
       "            '<a target=\"_blank\" href=https://colab.research.google.com/notebooks/data_table.ipynb>data table notebook</a>'\n",
       "            + ' to learn more about interactive tables.';\n",
       "          element.innerHTML = '';\n",
       "          dataTable['output_type'] = 'display_data';\n",
       "          await google.colab.output.renderOutput(dataTable, element);\n",
       "          const docLink = document.createElement('div');\n",
       "          docLink.innerHTML = docLinkHtml;\n",
       "          element.appendChild(docLink);\n",
       "        }\n",
       "      </script>\n",
       "    </div>\n",
       "  </div>\n",
       "  "
      ],
      "text/plain": [
       "       BEGIN_DATE_TIME  INJURIES_DIRECT  ...     LATITUDE    LONGITUDE\n",
       "count      5000.000000      5000.000000  ...  5000.000000  5000.000000\n",
       "mean          0.877324         0.000529  ...     0.684442     0.752436\n",
       "std           0.272079         0.015382  ...     0.068039     0.116722\n",
       "min           0.000000         0.000000  ...     0.000000     0.000000\n",
       "25%           0.951974         0.000000  ...     0.643747     0.691731\n",
       "50%           0.961682         0.000000  ...     0.690320     0.760847\n",
       "75%           0.971929         0.000000  ...     0.732032     0.838459\n",
       "max           1.000000         1.000000  ...     1.000000     1.000000\n",
       "\n",
       "[8 rows x 9 columns]"
      ]
     },
     "execution_count": 65,
     "metadata": {},
     "output_type": "execute_result"
    }
   ],
   "source": [
    "storm_df_small.describe()"
   ]
  },
  {
   "cell_type": "markdown",
   "metadata": {
    "id": "ChPx-EPcPyYS"
   },
   "source": [
    "We see that `EVENT_TYPE` has been removed, and `BEGIN_DATE_TIME` is now a number and all variables have been scaled between 0 and 1.\n",
    "\n",
    "Time to search for some principal components! We are going to try to reduce everything to a 2D plot, so we want to find 2 *principal components*.\n",
    "\n",
    "First will use the scikit-learn `decomposition.PCA()` function (more info [here](https://scikit-learn.org/stable/modules/generated/sklearn.decomposition.PCA.html)). This function creates a PCA model object based on the number of components you desire. \n",
    "\n",
    "```\n",
    "pca = decomposition.PCA(n_components=2)\n",
    "```\n"
   ]
  },
  {
   "cell_type": "code",
   "execution_count": 66,
   "metadata": {
    "executionInfo": {
     "elapsed": 227,
     "status": "ok",
     "timestamp": 1641610072583,
     "user": {
      "displayName": "Stephanie Valleau",
      "photoUrl": "https://lh3.googleusercontent.com/a/default-user=s64",
      "userId": "10409275703594313556"
     },
     "user_tz": 480
    },
    "id": "zamFThnW2r8-"
   },
   "outputs": [],
   "source": [
    "pca = decomposition.PCA(n_components=2)"
   ]
  },
  {
   "cell_type": "markdown",
   "metadata": {
    "id": "Nh7s-xiRsxKV"
   },
   "source": [
    "Now, with the `pca.fit` function ([info](https://scikit-learn.org/stable/modules/generated/sklearn.decomposition.PCA.html#sklearn.decomposition.PCA.fit)), we will fit our PCA model to our data.\n"
   ]
  },
  {
   "cell_type": "markdown",
   "metadata": {
    "id": "-1rlRQI5WcdA"
   },
   "source": [
    "```\n",
    "pca.fit(storm_df_small)\n",
    "```"
   ]
  },
  {
   "cell_type": "code",
   "execution_count": 67,
   "metadata": {
    "colab": {
     "base_uri": "https://localhost:8080/"
    },
    "executionInfo": {
     "elapsed": 180,
     "status": "ok",
     "timestamp": 1641610096506,
     "user": {
      "displayName": "Stephanie Valleau",
      "photoUrl": "https://lh3.googleusercontent.com/a/default-user=s64",
      "userId": "10409275703594313556"
     },
     "user_tz": 480
    },
    "id": "WEpHriDesq9w",
    "outputId": "aa2f1bba-b50b-40e6-bb42-1dfab549c549"
   },
   "outputs": [
    {
     "data": {
      "text/plain": [
       "PCA(n_components=2)"
      ]
     },
     "execution_count": 67,
     "metadata": {},
     "output_type": "execute_result"
    }
   ],
   "source": [
    "pca.fit(storm_df_small)"
   ]
  },
  {
   "cell_type": "markdown",
   "metadata": {
    "id": "ibNCHCMtszIT"
   },
   "source": [
    "After fitting to our data, we can used the `pca.transform` function ([info](https://scikit-learn.org/stable/modules/generated/sklearn.decomposition.PCA.html#sklearn.decomposition.PCA.transform)) to extract the principalComponents from our data. Here we are transforming the data in the 9 columns into 2 principal component columns\n",
    "\n",
    "```\n",
    "principalComponents = pca.transform(storm_df_small)\n",
    "```"
   ]
  },
  {
   "cell_type": "code",
   "execution_count": 68,
   "metadata": {
    "executionInfo": {
     "elapsed": 185,
     "status": "ok",
     "timestamp": 1641610136049,
     "user": {
      "displayName": "Stephanie Valleau",
      "photoUrl": "https://lh3.googleusercontent.com/a/default-user=s64",
      "userId": "10409275703594313556"
     },
     "user_tz": 480
    },
    "id": "GJ-GDhS7srfv"
   },
   "outputs": [],
   "source": [
    "principalComponents = pca.transform(storm_df_small)"
   ]
  },
  {
   "cell_type": "code",
   "execution_count": 69,
   "metadata": {
    "colab": {
     "base_uri": "https://localhost:8080/"
    },
    "executionInfo": {
     "elapsed": 157,
     "status": "ok",
     "timestamp": 1641610137298,
     "user": {
      "displayName": "Stephanie Valleau",
      "photoUrl": "https://lh3.googleusercontent.com/a/default-user=s64",
      "userId": "10409275703594313556"
     },
     "user_tz": 480
    },
    "id": "ySticUGxs7EM",
    "outputId": "dc7ff735-7c7c-461a-b0ea-295b08e5e7e5"
   },
   "outputs": [
    {
     "name": "stdout",
     "output_type": "stream",
     "text": [
      "[[-0.06264422 -0.0288534 ]\n",
      " [-0.08325595  0.01218334]\n",
      " [-0.12402967 -0.10309749]\n",
      " ...\n",
      " [ 0.84259705  0.04761369]\n",
      " [-0.06627503  0.0556091 ]\n",
      " [-0.07808297 -0.03813022]]\n"
     ]
    }
   ],
   "source": [
    "print(principalComponents)"
   ]
  },
  {
   "cell_type": "markdown",
   "metadata": {
    "id": "vovOKYtNs98h"
   },
   "source": [
    "OK let's save these new components into a dataframe and add our `EVENT_TYPE` values we had dropped.\n",
    "\n",
    "```\n",
    "principal_df = pd.DataFrame(data = principalComponents, columns = ['PCA 1', 'PCA 2'])\n",
    "\n",
    "principal_df['EVENT_TYPE'] = y.values\n",
    "```"
   ]
  },
  {
   "cell_type": "code",
   "execution_count": 70,
   "metadata": {
    "executionInfo": {
     "elapsed": 171,
     "status": "ok",
     "timestamp": 1641610215466,
     "user": {
      "displayName": "Stephanie Valleau",
      "photoUrl": "https://lh3.googleusercontent.com/a/default-user=s64",
      "userId": "10409275703594313556"
     },
     "user_tz": 480
    },
    "id": "hqZo_fD6stjN"
   },
   "outputs": [],
   "source": [
    "principal_df = pd.DataFrame(data = principalComponents, columns = ['PCA 1', 'PCA 2'])\n",
    "\n",
    "principal_df['EVENT_TYPE'] = y.values"
   ]
  },
  {
   "cell_type": "code",
   "execution_count": 71,
   "metadata": {
    "colab": {
     "base_uri": "https://localhost:8080/",
     "height": 424
    },
    "executionInfo": {
     "elapsed": 237,
     "status": "ok",
     "timestamp": 1641610217065,
     "user": {
      "displayName": "Stephanie Valleau",
      "photoUrl": "https://lh3.googleusercontent.com/a/default-user=s64",
      "userId": "10409275703594313556"
     },
     "user_tz": 480
    },
    "id": "f1osQvjr_Bzy",
    "outputId": "51ee06e8-8f15-4ef9-c707-c232794b33a1"
   },
   "outputs": [
    {
     "data": {
      "text/html": [
       "\n",
       "  <div id=\"df-a80bfc4e-24ed-4beb-80ed-42a2ac1ed544\">\n",
       "    <div class=\"colab-df-container\">\n",
       "      <div>\n",
       "<style scoped>\n",
       "    .dataframe tbody tr th:only-of-type {\n",
       "        vertical-align: middle;\n",
       "    }\n",
       "\n",
       "    .dataframe tbody tr th {\n",
       "        vertical-align: top;\n",
       "    }\n",
       "\n",
       "    .dataframe thead th {\n",
       "        text-align: right;\n",
       "    }\n",
       "</style>\n",
       "<table border=\"1\" class=\"dataframe\">\n",
       "  <thead>\n",
       "    <tr style=\"text-align: right;\">\n",
       "      <th></th>\n",
       "      <th>PCA 1</th>\n",
       "      <th>PCA 2</th>\n",
       "      <th>EVENT_TYPE</th>\n",
       "    </tr>\n",
       "  </thead>\n",
       "  <tbody>\n",
       "    <tr>\n",
       "      <th>0</th>\n",
       "      <td>-0.062644</td>\n",
       "      <td>-0.028853</td>\n",
       "      <td>Flood</td>\n",
       "    </tr>\n",
       "    <tr>\n",
       "      <th>1</th>\n",
       "      <td>-0.083256</td>\n",
       "      <td>0.012183</td>\n",
       "      <td>Hail</td>\n",
       "    </tr>\n",
       "    <tr>\n",
       "      <th>2</th>\n",
       "      <td>-0.124030</td>\n",
       "      <td>-0.103097</td>\n",
       "      <td>Flood</td>\n",
       "    </tr>\n",
       "    <tr>\n",
       "      <th>3</th>\n",
       "      <td>-0.069058</td>\n",
       "      <td>-0.004516</td>\n",
       "      <td>Hail</td>\n",
       "    </tr>\n",
       "    <tr>\n",
       "      <th>4</th>\n",
       "      <td>-0.077198</td>\n",
       "      <td>0.083295</td>\n",
       "      <td>Hail</td>\n",
       "    </tr>\n",
       "    <tr>\n",
       "      <th>...</th>\n",
       "      <td>...</td>\n",
       "      <td>...</td>\n",
       "      <td>...</td>\n",
       "    </tr>\n",
       "    <tr>\n",
       "      <th>4995</th>\n",
       "      <td>-0.084843</td>\n",
       "      <td>-0.046036</td>\n",
       "      <td>Thunderstorm Wind</td>\n",
       "    </tr>\n",
       "    <tr>\n",
       "      <th>4996</th>\n",
       "      <td>-0.086235</td>\n",
       "      <td>-0.104840</td>\n",
       "      <td>Flash Flood</td>\n",
       "    </tr>\n",
       "    <tr>\n",
       "      <th>4997</th>\n",
       "      <td>0.842597</td>\n",
       "      <td>0.047614</td>\n",
       "      <td>Hail</td>\n",
       "    </tr>\n",
       "    <tr>\n",
       "      <th>4998</th>\n",
       "      <td>-0.066275</td>\n",
       "      <td>0.055609</td>\n",
       "      <td>Flash Flood</td>\n",
       "    </tr>\n",
       "    <tr>\n",
       "      <th>4999</th>\n",
       "      <td>-0.078083</td>\n",
       "      <td>-0.038130</td>\n",
       "      <td>Hail</td>\n",
       "    </tr>\n",
       "  </tbody>\n",
       "</table>\n",
       "<p>5000 rows × 3 columns</p>\n",
       "</div>\n",
       "      <button class=\"colab-df-convert\" onclick=\"convertToInteractive('df-a80bfc4e-24ed-4beb-80ed-42a2ac1ed544')\"\n",
       "              title=\"Convert this dataframe to an interactive table.\"\n",
       "              style=\"display:none;\">\n",
       "        \n",
       "  <svg xmlns=\"http://www.w3.org/2000/svg\" height=\"24px\"viewBox=\"0 0 24 24\"\n",
       "       width=\"24px\">\n",
       "    <path d=\"M0 0h24v24H0V0z\" fill=\"none\"/>\n",
       "    <path d=\"M18.56 5.44l.94 2.06.94-2.06 2.06-.94-2.06-.94-.94-2.06-.94 2.06-2.06.94zm-11 1L8.5 8.5l.94-2.06 2.06-.94-2.06-.94L8.5 2.5l-.94 2.06-2.06.94zm10 10l.94 2.06.94-2.06 2.06-.94-2.06-.94-.94-2.06-.94 2.06-2.06.94z\"/><path d=\"M17.41 7.96l-1.37-1.37c-.4-.4-.92-.59-1.43-.59-.52 0-1.04.2-1.43.59L10.3 9.45l-7.72 7.72c-.78.78-.78 2.05 0 2.83L4 21.41c.39.39.9.59 1.41.59.51 0 1.02-.2 1.41-.59l7.78-7.78 2.81-2.81c.8-.78.8-2.07 0-2.86zM5.41 20L4 18.59l7.72-7.72 1.47 1.35L5.41 20z\"/>\n",
       "  </svg>\n",
       "      </button>\n",
       "      \n",
       "  <style>\n",
       "    .colab-df-container {\n",
       "      display:flex;\n",
       "      flex-wrap:wrap;\n",
       "      gap: 12px;\n",
       "    }\n",
       "\n",
       "    .colab-df-convert {\n",
       "      background-color: #E8F0FE;\n",
       "      border: none;\n",
       "      border-radius: 50%;\n",
       "      cursor: pointer;\n",
       "      display: none;\n",
       "      fill: #1967D2;\n",
       "      height: 32px;\n",
       "      padding: 0 0 0 0;\n",
       "      width: 32px;\n",
       "    }\n",
       "\n",
       "    .colab-df-convert:hover {\n",
       "      background-color: #E2EBFA;\n",
       "      box-shadow: 0px 1px 2px rgba(60, 64, 67, 0.3), 0px 1px 3px 1px rgba(60, 64, 67, 0.15);\n",
       "      fill: #174EA6;\n",
       "    }\n",
       "\n",
       "    [theme=dark] .colab-df-convert {\n",
       "      background-color: #3B4455;\n",
       "      fill: #D2E3FC;\n",
       "    }\n",
       "\n",
       "    [theme=dark] .colab-df-convert:hover {\n",
       "      background-color: #434B5C;\n",
       "      box-shadow: 0px 1px 3px 1px rgba(0, 0, 0, 0.15);\n",
       "      filter: drop-shadow(0px 1px 2px rgba(0, 0, 0, 0.3));\n",
       "      fill: #FFFFFF;\n",
       "    }\n",
       "  </style>\n",
       "\n",
       "      <script>\n",
       "        const buttonEl =\n",
       "          document.querySelector('#df-a80bfc4e-24ed-4beb-80ed-42a2ac1ed544 button.colab-df-convert');\n",
       "        buttonEl.style.display =\n",
       "          google.colab.kernel.accessAllowed ? 'block' : 'none';\n",
       "\n",
       "        async function convertToInteractive(key) {\n",
       "          const element = document.querySelector('#df-a80bfc4e-24ed-4beb-80ed-42a2ac1ed544');\n",
       "          const dataTable =\n",
       "            await google.colab.kernel.invokeFunction('convertToInteractive',\n",
       "                                                     [key], {});\n",
       "          if (!dataTable) return;\n",
       "\n",
       "          const docLinkHtml = 'Like what you see? Visit the ' +\n",
       "            '<a target=\"_blank\" href=https://colab.research.google.com/notebooks/data_table.ipynb>data table notebook</a>'\n",
       "            + ' to learn more about interactive tables.';\n",
       "          element.innerHTML = '';\n",
       "          dataTable['output_type'] = 'display_data';\n",
       "          await google.colab.output.renderOutput(dataTable, element);\n",
       "          const docLink = document.createElement('div');\n",
       "          docLink.innerHTML = docLinkHtml;\n",
       "          element.appendChild(docLink);\n",
       "        }\n",
       "      </script>\n",
       "    </div>\n",
       "  </div>\n",
       "  "
      ],
      "text/plain": [
       "         PCA 1     PCA 2         EVENT_TYPE\n",
       "0    -0.062644 -0.028853              Flood\n",
       "1    -0.083256  0.012183               Hail\n",
       "2    -0.124030 -0.103097              Flood\n",
       "3    -0.069058 -0.004516               Hail\n",
       "4    -0.077198  0.083295               Hail\n",
       "...        ...       ...                ...\n",
       "4995 -0.084843 -0.046036  Thunderstorm Wind\n",
       "4996 -0.086235 -0.104840        Flash Flood\n",
       "4997  0.842597  0.047614               Hail\n",
       "4998 -0.066275  0.055609        Flash Flood\n",
       "4999 -0.078083 -0.038130               Hail\n",
       "\n",
       "[5000 rows x 3 columns]"
      ]
     },
     "execution_count": 71,
     "metadata": {},
     "output_type": "execute_result"
    }
   ],
   "source": [
    "principal_df"
   ]
  },
  {
   "cell_type": "markdown",
   "metadata": {
    "id": "fWQckUAh0m2i"
   },
   "source": [
    "Ok let's see how this looks on a graph\n",
    "\n",
    "```\n",
    "# Create a list of colors of the same length as the number of targets\n",
    "targets = principal_df.EVENT_TYPE.unique()\n",
    "N = len(targets)\n",
    "colors = [cm.gist_ncar(i) for i in np.linspace(0, 1, N)]\n",
    "\n",
    "# Create our figure\n",
    "fig, ax = plt.subplots(1,1, figsize=(6,6))\n",
    "ax.set_facecolor('midnightblue')\n",
    "for i, color in enumerate(colors):\n",
    "    # Select entries which match each storm type\n",
    "    indicesToKeep = principal_df['EVENT_TYPE'] == targets[i]\n",
    "    # Make a scatter plot of a different color for each storm type\n",
    "    ax.scatter(principal_df.loc[indicesToKeep, 'PCA 1']\n",
    "               , principal_df.loc[indicesToKeep, 'PCA 2']\n",
    "               , color = color, alpha = 1, s = 15)\n",
    "    \n",
    "ax.legend(targets, loc=\"center right\", bbox_to_anchor=(2.3,0.5), fontsize=18)\n",
    "ax.set_xlabel('PCA 1')\n",
    "ax.set_ylabel('PCA 2')\n",
    "ax.grid()\n",
    "fig.show()\n",
    "```"
   ]
  },
  {
   "cell_type": "code",
   "execution_count": 72,
   "metadata": {
    "colab": {
     "base_uri": "https://localhost:8080/",
     "height": 448
    },
    "executionInfo": {
     "elapsed": 737,
     "status": "ok",
     "timestamp": 1641610453058,
     "user": {
      "displayName": "Stephanie Valleau",
      "photoUrl": "https://lh3.googleusercontent.com/a/default-user=s64",
      "userId": "10409275703594313556"
     },
     "user_tz": 480
    },
    "id": "XAP4qLDX0UbF",
    "outputId": "7d289f22-4549-483a-ff13-61b454aac522"
   },
   "outputs": [
    {
     "data": {
      "image/png": "[encoded data removed]",
      "text/plain": [
       "<Figure size 432x432 with 1 Axes>"
      ]
     },
     "metadata": {
      "needs_background": "light"
     },
     "output_type": "display_data"
    }
   ],
   "source": [
    "# Create a list of colors of the same length as the number of targets\n",
    "targets = principal_df.EVENT_TYPE.unique()\n",
    "N = len(targets)\n",
    "colors = [cm.gist_ncar(i) for i in np.linspace(0, 1, N)]\n",
    "\n",
    "# Create our figure\n",
    "fig, ax = plt.subplots(1,1, figsize=(6,6))\n",
    "ax.set_facecolor('midnightblue')\n",
    "for i, color in enumerate(colors):\n",
    "    # Select entries which match each storm type\n",
    "    indicesToKeep = principal_df['EVENT_TYPE'] == targets[i]\n",
    "    # Make a scatter plot of a different color for each storm type\n",
    "    ax.scatter(principal_df.loc[indicesToKeep, 'PCA 1']\n",
    "               , principal_df.loc[indicesToKeep, 'PCA 2']\n",
    "               , color = color, alpha = 1, s = 15)\n",
    "    \n",
    "ax.legend(targets, loc=\"center right\", bbox_to_anchor=(2.3,0.5), fontsize=18)\n",
    "ax.set_xlabel('PCA 1')\n",
    "ax.set_ylabel('PCA 2')\n",
    "ax.grid()\n",
    "fig.show()"
   ]
  },
  {
   "cell_type": "markdown",
   "metadata": {
    "id": "LgYen-6-vtjx"
   },
   "source": [
    "Interesting, we see two distinct areas in our data when using the PCAs! To know how much each PCA represents the data we can use the command:\n",
    "\n",
    "`pca.explain_variance_ratio_` \n",
    "\n",
    "\n",
    "```\n",
    "# Percentage of variance explained for each components\n",
    "print(\n",
    "    \"explained variance ratio (first two components): %s\"\n",
    "    % str(pca.explained_variance_ratio_)\n",
    ")\n",
    "\n",
    "```"
   ]
  },
  {
   "cell_type": "code",
   "execution_count": 73,
   "metadata": {
    "colab": {
     "base_uri": "https://localhost:8080/"
    },
    "executionInfo": {
     "elapsed": 214,
     "status": "ok",
     "timestamp": 1641610549504,
     "user": {
      "displayName": "Stephanie Valleau",
      "photoUrl": "https://lh3.googleusercontent.com/a/default-user=s64",
      "userId": "10409275703594313556"
     },
     "user_tz": 480
    },
    "id": "QtM8-AIT5sug",
    "outputId": "a8f51d4b-e438-41bc-dcfe-2f0a9d572193"
   },
   "outputs": [
    {
     "name": "stdout",
     "output_type": "stream",
     "text": [
      "explained variance ratio (first two components): [0.74455745 0.13651704]\n"
     ]
    }
   ],
   "source": [
    "# Percentage of variance explained for each components\n",
    "print(\n",
    "    \"explained variance ratio (first two components): %s\"\n",
    "    % str(pca.explained_variance_ratio_)\n",
    ")\n"
   ]
  },
  {
   "cell_type": "markdown",
   "metadata": {
    "id": "mIBN1hp3999Z"
   },
   "source": [
    "So perhaps with these two components we can describe all the storm types and we don't need the 5 initial columns. We could have tried with 3 PCA's to see whether we would gain much by adding a third principal component."
   ]
  },
  {
   "cell_type": "markdown",
   "metadata": {
    "id": "ctGv3JBPTx1q"
   },
   "source": [
    "It is interesting that the first principal component seperates the data so well into two clusters. What does this principal component correspond to?\n",
    "\n",
    "```\n",
    "print(\"First PCA\", pca.components_[0], \"\\n\")  # access first component using pca.components_[0]\n",
    "print(\"Absolute value\", np.abs(pca.components_[0]), \"\\n\")  # take its absolute value using numpy.abs()\n",
    "print(\"Position of maximum value\", np.argmax(np.abs(pca.components_[0])), \"\\n\")  # find the maximum values\n",
    "print('The original variable that contributes most heavily to PC #1: ',\n",
    "      storm_df.columns[np.argmax(np.abs(pca.components_[0]))]) \n",
    "```"
   ]
  },
  {
   "cell_type": "code",
   "execution_count": 77,
   "metadata": {
    "colab": {
     "base_uri": "https://localhost:8080/"
    },
    "executionInfo": {
     "elapsed": 166,
     "status": "ok",
     "timestamp": 1641610678819,
     "user": {
      "displayName": "Stephanie Valleau",
      "photoUrl": "https://lh3.googleusercontent.com/a/default-user=s64",
      "userId": "10409275703594313556"
     },
     "user_tz": 480
    },
    "id": "boTrMghyUKma",
    "outputId": "3980bc6d-3cb5-4b4f-b25c-d4a0791f6aff"
   },
   "outputs": [
    {
     "name": "stdout",
     "output_type": "stream",
     "text": [
      "First PCA [-9.98838153e-01  2.76957888e-03 -1.23497870e-04 -2.37675188e-04\n",
      " -3.53404714e-04  1.48580469e-02  2.12149651e-02  1.14685329e-02\n",
      " -3.88859006e-02] \n",
      "\n",
      "Absolute value [9.98838153e-01 2.76957888e-03 1.23497870e-04 2.37675188e-04\n",
      " 3.53404714e-04 1.48580469e-02 2.12149651e-02 1.14685329e-02\n",
      " 3.88859006e-02] \n",
      "\n",
      "Position of maximum value 0 \n",
      "\n",
      "The original variable that contributes most heavily to PC #1:  BEGIN_DATE_TIME\n"
     ]
    }
   ],
   "source": [
    "print(\"First PCA\", pca.components_[0], \"\\n\")  # access first component using pca.components_[0]\n",
    "print(\"Absolute value\", np.abs(pca.components_[0]), \"\\n\")  # take its absolute value using numpy.abs()\n",
    "print(\"Position of maximum value\", np.argmax(np.abs(pca.components_[0])), \"\\n\")  # find the maximum values\n",
    "print('The original variable that contributes most heavily to PC #1: ',\n",
    "      storm_df.columns[np.argmax(np.abs(pca.components_[0]))]) "
   ]
  },
  {
   "cell_type": "markdown",
   "metadata": {
    "id": "Rhw1YXxTUzHt"
   },
   "source": [
    "The first principal component is largely determined by the date time! These two clusters we observe are likely the two years where we have data!"
   ]
  },
  {
   "cell_type": "markdown",
   "metadata": {
    "id": "9vavdktFQBwZ"
   },
   "source": [
    "### 5.2.7 Correlations between variables\n",
    "\n",
    "After using PCA, we noticed that it is possible that variables contain similar information, for instance direct injuries and direct death might be correlated and therefore we don't need information from both. Now we will look at how to measure whether variables are correlated using Pearson correlation. There are 3 cases:\n",
    "\n",
    "- *positive correlation* if the pearson correlation coefficient value is > 0. This means that both variables change in the same direction. If one increases or decreases, so does the other.\n",
    "- *negative correlation* if the pearson correlation coefficient value is < 0. This means that e.g. if one variable decreases, the other increases and vicecersa.\n",
    "- *no correlation* if the pearson correlation coefficient is = 0. This means that if one variable changes, the other does not."
   ]
  },
  {
   "cell_type": "markdown",
   "metadata": {
    "id": "rcSQgSPQkNHC"
   },
   "source": [
    "##### 5.2.7.1 Pearson correlation\n",
    "\n",
    "We can get the [pearson's correlation](https://en.wikipedia.org/wiki/Pearson_correlation_coefficient) between all the input features using the `dataframe.corr()` method as implemented [here](https://pandas.pydata.org/docs/reference/api/pandas.DataFrame.corr.html) in pandas.\n",
    "\n",
    "\n",
    "![](https://upload.wikimedia.org/wikipedia/commons/thumb/d/d4/Correlation_examples2.svg/400px-Correlation_examples2.svg.png)\n",
    "\n",
    "Fig: pearson's correlation value and corresponding scatter plot of feature-x and feature-y\n",
    "\n",
    "```\n",
    "storm_df.corr()\n",
    "```"
   ]
  },
  {
   "cell_type": "code",
   "execution_count": 78,
   "metadata": {
    "colab": {
     "base_uri": "https://localhost:8080/",
     "height": 300
    },
    "executionInfo": {
     "elapsed": 172,
     "status": "ok",
     "timestamp": 1641610961395,
     "user": {
      "displayName": "Stephanie Valleau",
      "photoUrl": "https://lh3.googleusercontent.com/a/default-user=s64",
      "userId": "10409275703594313556"
     },
     "user_tz": 480
    },
    "id": "fO8Y2ZXmkjak",
    "outputId": "dd8ee8c7-a86e-4764-ccbe-4de886b7d4c9"
   },
   "outputs": [
    {
     "data": {
      "text/html": [
       "\n",
       "  <div id=\"df-e6bf3bfd-0d26-4771-bede-7a5acaee0561\">\n",
       "    <div class=\"colab-df-container\">\n",
       "      <div>\n",
       "<style scoped>\n",
       "    .dataframe tbody tr th:only-of-type {\n",
       "        vertical-align: middle;\n",
       "    }\n",
       "\n",
       "    .dataframe tbody tr th {\n",
       "        vertical-align: top;\n",
       "    }\n",
       "\n",
       "    .dataframe thead th {\n",
       "        text-align: right;\n",
       "    }\n",
       "</style>\n",
       "<table border=\"1\" class=\"dataframe\">\n",
       "  <thead>\n",
       "    <tr style=\"text-align: right;\">\n",
       "      <th></th>\n",
       "      <th>INJURIES_DIRECT</th>\n",
       "      <th>INJURIES_INDIRECT</th>\n",
       "      <th>DEATHS_DIRECT</th>\n",
       "      <th>DEATHS_INDIRECT</th>\n",
       "      <th>DAMAGE_PROPERTY</th>\n",
       "      <th>DAMAGE_CROPS</th>\n",
       "      <th>LATITUDE</th>\n",
       "      <th>LONGITUDE</th>\n",
       "    </tr>\n",
       "  </thead>\n",
       "  <tbody>\n",
       "    <tr>\n",
       "      <th>INJURIES_DIRECT</th>\n",
       "      <td>1.000000</td>\n",
       "      <td>0.016956</td>\n",
       "      <td>0.667189</td>\n",
       "      <td>-0.000398</td>\n",
       "      <td>0.061529</td>\n",
       "      <td>0.025317</td>\n",
       "      <td>-0.003260</td>\n",
       "      <td>-0.013346</td>\n",
       "    </tr>\n",
       "    <tr>\n",
       "      <th>INJURIES_INDIRECT</th>\n",
       "      <td>0.016956</td>\n",
       "      <td>1.000000</td>\n",
       "      <td>0.004070</td>\n",
       "      <td>0.250727</td>\n",
       "      <td>0.028641</td>\n",
       "      <td>-0.001713</td>\n",
       "      <td>-0.011465</td>\n",
       "      <td>-0.023154</td>\n",
       "    </tr>\n",
       "    <tr>\n",
       "      <th>DEATHS_DIRECT</th>\n",
       "      <td>0.667189</td>\n",
       "      <td>0.004070</td>\n",
       "      <td>1.000000</td>\n",
       "      <td>-0.000609</td>\n",
       "      <td>0.044149</td>\n",
       "      <td>0.010124</td>\n",
       "      <td>-0.012325</td>\n",
       "      <td>-0.006789</td>\n",
       "    </tr>\n",
       "    <tr>\n",
       "      <th>DEATHS_INDIRECT</th>\n",
       "      <td>-0.000398</td>\n",
       "      <td>0.250727</td>\n",
       "      <td>-0.000609</td>\n",
       "      <td>1.000000</td>\n",
       "      <td>0.013993</td>\n",
       "      <td>-0.001587</td>\n",
       "      <td>0.000420</td>\n",
       "      <td>-0.008887</td>\n",
       "    </tr>\n",
       "    <tr>\n",
       "      <th>DAMAGE_PROPERTY</th>\n",
       "      <td>0.061529</td>\n",
       "      <td>0.028641</td>\n",
       "      <td>0.044149</td>\n",
       "      <td>0.013993</td>\n",
       "      <td>1.000000</td>\n",
       "      <td>0.096155</td>\n",
       "      <td>0.009188</td>\n",
       "      <td>-0.002590</td>\n",
       "    </tr>\n",
       "    <tr>\n",
       "      <th>DAMAGE_CROPS</th>\n",
       "      <td>0.025317</td>\n",
       "      <td>-0.001713</td>\n",
       "      <td>0.010124</td>\n",
       "      <td>-0.001587</td>\n",
       "      <td>0.096155</td>\n",
       "      <td>1.000000</td>\n",
       "      <td>0.027054</td>\n",
       "      <td>-0.026331</td>\n",
       "    </tr>\n",
       "    <tr>\n",
       "      <th>LATITUDE</th>\n",
       "      <td>-0.003260</td>\n",
       "      <td>-0.011465</td>\n",
       "      <td>-0.012325</td>\n",
       "      <td>0.000420</td>\n",
       "      <td>0.009188</td>\n",
       "      <td>0.027054</td>\n",
       "      <td>1.000000</td>\n",
       "      <td>0.081668</td>\n",
       "    </tr>\n",
       "    <tr>\n",
       "      <th>LONGITUDE</th>\n",
       "      <td>-0.013346</td>\n",
       "      <td>-0.023154</td>\n",
       "      <td>-0.006789</td>\n",
       "      <td>-0.008887</td>\n",
       "      <td>-0.002590</td>\n",
       "      <td>-0.026331</td>\n",
       "      <td>0.081668</td>\n",
       "      <td>1.000000</td>\n",
       "    </tr>\n",
       "  </tbody>\n",
       "</table>\n",
       "</div>\n",
       "      <button class=\"colab-df-convert\" onclick=\"convertToInteractive('df-e6bf3bfd-0d26-4771-bede-7a5acaee0561')\"\n",
       "              title=\"Convert this dataframe to an interactive table.\"\n",
       "              style=\"display:none;\">\n",
       "        \n",
       "  <svg xmlns=\"http://www.w3.org/2000/svg\" height=\"24px\"viewBox=\"0 0 24 24\"\n",
       "       width=\"24px\">\n",
       "    <path d=\"M0 0h24v24H0V0z\" fill=\"none\"/>\n",
       "    <path d=\"M18.56 5.44l.94 2.06.94-2.06 2.06-.94-2.06-.94-.94-2.06-.94 2.06-2.06.94zm-11 1L8.5 8.5l.94-2.06 2.06-.94-2.06-.94L8.5 2.5l-.94 2.06-2.06.94zm10 10l.94 2.06.94-2.06 2.06-.94-2.06-.94-.94-2.06-.94 2.06-2.06.94z\"/><path d=\"M17.41 7.96l-1.37-1.37c-.4-.4-.92-.59-1.43-.59-.52 0-1.04.2-1.43.59L10.3 9.45l-7.72 7.72c-.78.78-.78 2.05 0 2.83L4 21.41c.39.39.9.59 1.41.59.51 0 1.02-.2 1.41-.59l7.78-7.78 2.81-2.81c.8-.78.8-2.07 0-2.86zM5.41 20L4 18.59l7.72-7.72 1.47 1.35L5.41 20z\"/>\n",
       "  </svg>\n",
       "      </button>\n",
       "      \n",
       "  <style>\n",
       "    .colab-df-container {\n",
       "      display:flex;\n",
       "      flex-wrap:wrap;\n",
       "      gap: 12px;\n",
       "    }\n",
       "\n",
       "    .colab-df-convert {\n",
       "      background-color: #E8F0FE;\n",
       "      border: none;\n",
       "      border-radius: 50%;\n",
       "      cursor: pointer;\n",
       "      display: none;\n",
       "      fill: #1967D2;\n",
       "      height: 32px;\n",
       "      padding: 0 0 0 0;\n",
       "      width: 32px;\n",
       "    }\n",
       "\n",
       "    .colab-df-convert:hover {\n",
       "      background-color: #E2EBFA;\n",
       "      box-shadow: 0px 1px 2px rgba(60, 64, 67, 0.3), 0px 1px 3px 1px rgba(60, 64, 67, 0.15);\n",
       "      fill: #174EA6;\n",
       "    }\n",
       "\n",
       "    [theme=dark] .colab-df-convert {\n",
       "      background-color: #3B4455;\n",
       "      fill: #D2E3FC;\n",
       "    }\n",
       "\n",
       "    [theme=dark] .colab-df-convert:hover {\n",
       "      background-color: #434B5C;\n",
       "      box-shadow: 0px 1px 3px 1px rgba(0, 0, 0, 0.15);\n",
       "      filter: drop-shadow(0px 1px 2px rgba(0, 0, 0, 0.3));\n",
       "      fill: #FFFFFF;\n",
       "    }\n",
       "  </style>\n",
       "\n",
       "      <script>\n",
       "        const buttonEl =\n",
       "          document.querySelector('#df-e6bf3bfd-0d26-4771-bede-7a5acaee0561 button.colab-df-convert');\n",
       "        buttonEl.style.display =\n",
       "          google.colab.kernel.accessAllowed ? 'block' : 'none';\n",
       "\n",
       "        async function convertToInteractive(key) {\n",
       "          const element = document.querySelector('#df-e6bf3bfd-0d26-4771-bede-7a5acaee0561');\n",
       "          const dataTable =\n",
       "            await google.colab.kernel.invokeFunction('convertToInteractive',\n",
       "                                                     [key], {});\n",
       "          if (!dataTable) return;\n",
       "\n",
       "          const docLinkHtml = 'Like what you see? Visit the ' +\n",
       "            '<a target=\"_blank\" href=https://colab.research.google.com/notebooks/data_table.ipynb>data table notebook</a>'\n",
       "            + ' to learn more about interactive tables.';\n",
       "          element.innerHTML = '';\n",
       "          dataTable['output_type'] = 'display_data';\n",
       "          await google.colab.output.renderOutput(dataTable, element);\n",
       "          const docLink = document.createElement('div');\n",
       "          docLink.innerHTML = docLinkHtml;\n",
       "          element.appendChild(docLink);\n",
       "        }\n",
       "      </script>\n",
       "    </div>\n",
       "  </div>\n",
       "  "
      ],
      "text/plain": [
       "                   INJURIES_DIRECT  INJURIES_INDIRECT  ...  LATITUDE  LONGITUDE\n",
       "INJURIES_DIRECT           1.000000           0.016956  ... -0.003260  -0.013346\n",
       "INJURIES_INDIRECT         0.016956           1.000000  ... -0.011465  -0.023154\n",
       "DEATHS_DIRECT             0.667189           0.004070  ... -0.012325  -0.006789\n",
       "DEATHS_INDIRECT          -0.000398           0.250727  ...  0.000420  -0.008887\n",
       "DAMAGE_PROPERTY           0.061529           0.028641  ...  0.009188  -0.002590\n",
       "DAMAGE_CROPS              0.025317          -0.001713  ...  0.027054  -0.026331\n",
       "LATITUDE                 -0.003260          -0.011465  ...  1.000000   0.081668\n",
       "LONGITUDE                -0.013346          -0.023154  ...  0.081668   1.000000\n",
       "\n",
       "[8 rows x 8 columns]"
      ]
     },
     "execution_count": 78,
     "metadata": {},
     "output_type": "execute_result"
    }
   ],
   "source": [
    "storm_df.corr()"
   ]
  },
  {
   "cell_type": "markdown",
   "metadata": {
    "id": "Bz8C0GjNq6jr"
   },
   "source": [
    "So we have this raw table of pearsons correlations between each of our columns, how do we and how should we turn this into a plot?\n",
    "\n",
    "Here I am introducing a plotting library called `seaborn` that is built on matplotlib. It has a number of tools to create plots of data interactions that would take a lot of work to create with matplotlib directly. A link to the seaborn documentation is at the end of the tutorial. Looking into the things seaborn can do may be worthwhile.\n",
    "\n",
    "```\n",
    "fig, ax = plt.subplots(1, 1, figsize = (12,10))\n",
    "# here we are creating a diverging colormap, to highlight which relationships\n",
    "# have a negative correlation and which have a positive one \n",
    "cmap = sns.diverging_palette(230, 20, as_cmap=True)\n",
    "sns.heatmap(storm_df.corr(), vmin=-1.0, vmax=1.0, ax=ax, cmap=cmap)\n",
    "```"
   ]
  },
  {
   "cell_type": "code",
   "execution_count": 79,
   "metadata": {
    "colab": {
     "base_uri": "https://localhost:8080/",
     "height": 807
    },
    "executionInfo": {
     "elapsed": 704,
     "status": "ok",
     "timestamp": 1641611100792,
     "user": {
      "displayName": "Stephanie Valleau",
      "photoUrl": "https://lh3.googleusercontent.com/a/default-user=s64",
      "userId": "10409275703594313556"
     },
     "user_tz": 480
    },
    "id": "MOq2pQqdQBwc",
    "outputId": "3c09f640-9795-48d1-ac2e-4295fbbb8860"
   },
   "outputs": [
    {
     "data": {
      "text/plain": [
       "<matplotlib.axes._subplots.AxesSubplot at 0x7efdc1cf4ad0>"
      ]
     },
     "execution_count": 79,
     "metadata": {},
     "output_type": "execute_result"
    },
    {
     "data": {
      "image/png": "[encoded data removed]",
      "text/plain": [
       "<Figure size 864x720 with 2 Axes>"
      ]
     },
     "metadata": {
      "needs_background": "light"
     },
     "output_type": "display_data"
    }
   ],
   "source": [
    "fig, ax = plt.subplots(1, 1, figsize = (12,10))\n",
    "# here we are creating a diverging colormap, to highlight which relationships\n",
    "# have a negative correlation and which have a positive one \n",
    "cmap = sns.diverging_palette(230, 20, as_cmap=True)\n",
    "sns.heatmap(storm_df.corr(), vmin=-1.0, vmax=1.0, ax=ax, cmap=cmap)"
   ]
  },
  {
   "cell_type": "markdown",
   "metadata": {
    "id": "HZVJ9jkgnnGz"
   },
   "source": [
    "What do we notice?\n",
    "\n",
    "There isn't much correlation in our dataset. Deaths and injuries have a significant correlation as expected, and there is a very small correlation between deaths and property damage."
   ]
  },
  {
   "cell_type": "markdown",
   "metadata": {
    "id": "d8f6zxhUy77h"
   },
   "source": [
    "## 5.3 Clustering data"
   ]
  },
  {
   "cell_type": "markdown",
   "metadata": {
    "id": "K_mgxsvVzA5Z"
   },
   "source": [
    "Sometimes we know that data can be divided into specific groups, for instance, you each belong to either the freshman, junior, sophomore or senior year (target, Y). If we were to consider data on students, for instance, age or courses completed (input features, X), we could train an algorithm to predict a student's class. \n",
    "\n",
    "This process is known as classification, it is a *supervised machine learning* approach. \n",
    "- We know the *input features*, X, age and courses completed and the *output target* classes, Y, the year (freshman, junior, sophomore or senior). \n",
    "- The algorithm which predicts Y will see some of the X and Y values as it is *trained*\n",
    "\n",
    "However, there are cases when we might believe that there are groups of similar things, but can't make a list of specific groups or \"classes\". For example, I might be hiking near Mount Rainier and start noticing some rocks look similar. However, I don't know much about geology and I would not be able to define classes. Here, **clustering** algorithms enable us to find this type of unkown group. Clustering belongs to the *unsupervised machine learning* area. In unsupervised learning\n",
    "\n",
    "- We have data, X but no known output target Y\n",
    "- The algorithm sees all our data and attempts to cluster it (e.g. based on similarity), i.e. it discovers unknown clusters."
   ]
  },
  {
   "cell_type": "markdown",
   "metadata": {
    "id": "oFWGJCWA4kU0"
   },
   "source": [
    "### 5.3.1 Clustering with the k-means algorithm"
   ]
  },
  {
   "cell_type": "markdown",
   "metadata": {
    "id": "OEA1OEoA5hwH"
   },
   "source": [
    "While PCA searches for a low dimensional representation of the dataset, Clustering methods search for homogeneous subgroups among the observations. You can think of homogeneous subgroups as groups of data point where things are very similar. That could be the size of the rocks are all 1 inch in subgroup 1 and 2 inches in subgroup 2 - the clustering algorithm will make that choice. \n",
    "\n",
    "The **k-means algorithm** is a clustering algorithm. Here one defines a desired *number of clusters* _K_ (Watch out: not the type of cluster but only how many we think there are!) and aim to assign each observation to one of the clusters. \n",
    "\n",
    "![](https://i.stack.imgur.com/cIDB3.png)\n",
    "\n",
    "The idea is that we will find points which define the center of each cluster. These are known as *centroids*. Then new data will be assigned to that cluster based on the distance from each *centroid*.\n",
    "\n",
    "* Each observation must be placed in at least one of the clusters\n",
    "* No clusters may overlap, each observation can only be placed in a single cluster \n",
    "* The goal is to minimize the variance of observations within each of the clusters (i.e. all data entries in a cluster must be similar to each other!)\n",
    "\n",
    "To learn more about k-means see [k-means](https://scikit-learn.org/stable/modules/clustering.html#k-means) on scikit-learn."
   ]
  },
  {
   "cell_type": "markdown",
   "metadata": {
    "id": "Gc60p76jQBwZ"
   },
   "source": [
    "### 5.3.2 k-means with scikit-learn \n",
    "Now we will apply k-means to our dataset. The function we will use is defined in the scikit-learn module - `KMeans()`. Let's see if we have clusters of storm types as a function of longitude and latitude.\n",
    "\n",
    "The idea is that we choose to cluster all our scaled data, X, in it's reduced PCA representation. Recall that we had excluded the `'EVENT_TYPE'`.\n",
    "\n",
    "```\n",
    "X_df = principal_df.drop('EVENT_TYPE', axis=1)\n",
    "```"
   ]
  },
  {
   "cell_type": "code",
   "execution_count": 80,
   "metadata": {
    "executionInfo": {
     "elapsed": 163,
     "status": "ok",
     "timestamp": 1641611528030,
     "user": {
      "displayName": "Stephanie Valleau",
      "photoUrl": "https://lh3.googleusercontent.com/a/default-user=s64",
      "userId": "10409275703594313556"
     },
     "user_tz": 480
    },
    "id": "REybckr-C8Wx"
   },
   "outputs": [],
   "source": [
    "X_df = principal_df.drop('EVENT_TYPE', axis=1)"
   ]
  },
  {
   "cell_type": "code",
   "execution_count": 81,
   "metadata": {
    "colab": {
     "base_uri": "https://localhost:8080/",
     "height": 424
    },
    "executionInfo": {
     "elapsed": 236,
     "status": "ok",
     "timestamp": 1641611530286,
     "user": {
      "displayName": "Stephanie Valleau",
      "photoUrl": "https://lh3.googleusercontent.com/a/default-user=s64",
      "userId": "10409275703594313556"
     },
     "user_tz": 480
    },
    "id": "c2BPx1jnDLzB",
    "outputId": "8e72cdac-d876-4acf-d172-a74d0966c800"
   },
   "outputs": [
    {
     "data": {
      "text/html": [
       "\n",
       "  <div id=\"df-24d395e8-02c9-4cba-8dcd-ea25683f8fad\">\n",
       "    <div class=\"colab-df-container\">\n",
       "      <div>\n",
       "<style scoped>\n",
       "    .dataframe tbody tr th:only-of-type {\n",
       "        vertical-align: middle;\n",
       "    }\n",
       "\n",
       "    .dataframe tbody tr th {\n",
       "        vertical-align: top;\n",
       "    }\n",
       "\n",
       "    .dataframe thead th {\n",
       "        text-align: right;\n",
       "    }\n",
       "</style>\n",
       "<table border=\"1\" class=\"dataframe\">\n",
       "  <thead>\n",
       "    <tr style=\"text-align: right;\">\n",
       "      <th></th>\n",
       "      <th>PCA 1</th>\n",
       "      <th>PCA 2</th>\n",
       "    </tr>\n",
       "  </thead>\n",
       "  <tbody>\n",
       "    <tr>\n",
       "      <th>0</th>\n",
       "      <td>-0.062644</td>\n",
       "      <td>-0.028853</td>\n",
       "    </tr>\n",
       "    <tr>\n",
       "      <th>1</th>\n",
       "      <td>-0.083256</td>\n",
       "      <td>0.012183</td>\n",
       "    </tr>\n",
       "    <tr>\n",
       "      <th>2</th>\n",
       "      <td>-0.124030</td>\n",
       "      <td>-0.103097</td>\n",
       "    </tr>\n",
       "    <tr>\n",
       "      <th>3</th>\n",
       "      <td>-0.069058</td>\n",
       "      <td>-0.004516</td>\n",
       "    </tr>\n",
       "    <tr>\n",
       "      <th>4</th>\n",
       "      <td>-0.077198</td>\n",
       "      <td>0.083295</td>\n",
       "    </tr>\n",
       "    <tr>\n",
       "      <th>...</th>\n",
       "      <td>...</td>\n",
       "      <td>...</td>\n",
       "    </tr>\n",
       "    <tr>\n",
       "      <th>4995</th>\n",
       "      <td>-0.084843</td>\n",
       "      <td>-0.046036</td>\n",
       "    </tr>\n",
       "    <tr>\n",
       "      <th>4996</th>\n",
       "      <td>-0.086235</td>\n",
       "      <td>-0.104840</td>\n",
       "    </tr>\n",
       "    <tr>\n",
       "      <th>4997</th>\n",
       "      <td>0.842597</td>\n",
       "      <td>0.047614</td>\n",
       "    </tr>\n",
       "    <tr>\n",
       "      <th>4998</th>\n",
       "      <td>-0.066275</td>\n",
       "      <td>0.055609</td>\n",
       "    </tr>\n",
       "    <tr>\n",
       "      <th>4999</th>\n",
       "      <td>-0.078083</td>\n",
       "      <td>-0.038130</td>\n",
       "    </tr>\n",
       "  </tbody>\n",
       "</table>\n",
       "<p>5000 rows × 2 columns</p>\n",
       "</div>\n",
       "      <button class=\"colab-df-convert\" onclick=\"convertToInteractive('df-24d395e8-02c9-4cba-8dcd-ea25683f8fad')\"\n",
       "              title=\"Convert this dataframe to an interactive table.\"\n",
       "              style=\"display:none;\">\n",
       "        \n",
       "  <svg xmlns=\"http://www.w3.org/2000/svg\" height=\"24px\"viewBox=\"0 0 24 24\"\n",
       "       width=\"24px\">\n",
       "    <path d=\"M0 0h24v24H0V0z\" fill=\"none\"/>\n",
       "    <path d=\"M18.56 5.44l.94 2.06.94-2.06 2.06-.94-2.06-.94-.94-2.06-.94 2.06-2.06.94zm-11 1L8.5 8.5l.94-2.06 2.06-.94-2.06-.94L8.5 2.5l-.94 2.06-2.06.94zm10 10l.94 2.06.94-2.06 2.06-.94-2.06-.94-.94-2.06-.94 2.06-2.06.94z\"/><path d=\"M17.41 7.96l-1.37-1.37c-.4-.4-.92-.59-1.43-.59-.52 0-1.04.2-1.43.59L10.3 9.45l-7.72 7.72c-.78.78-.78 2.05 0 2.83L4 21.41c.39.39.9.59 1.41.59.51 0 1.02-.2 1.41-.59l7.78-7.78 2.81-2.81c.8-.78.8-2.07 0-2.86zM5.41 20L4 18.59l7.72-7.72 1.47 1.35L5.41 20z\"/>\n",
       "  </svg>\n",
       "      </button>\n",
       "      \n",
       "  <style>\n",
       "    .colab-df-container {\n",
       "      display:flex;\n",
       "      flex-wrap:wrap;\n",
       "      gap: 12px;\n",
       "    }\n",
       "\n",
       "    .colab-df-convert {\n",
       "      background-color: #E8F0FE;\n",
       "      border: none;\n",
       "      border-radius: 50%;\n",
       "      cursor: pointer;\n",
       "      display: none;\n",
       "      fill: #1967D2;\n",
       "      height: 32px;\n",
       "      padding: 0 0 0 0;\n",
       "      width: 32px;\n",
       "    }\n",
       "\n",
       "    .colab-df-convert:hover {\n",
       "      background-color: #E2EBFA;\n",
       "      box-shadow: 0px 1px 2px rgba(60, 64, 67, 0.3), 0px 1px 3px 1px rgba(60, 64, 67, 0.15);\n",
       "      fill: #174EA6;\n",
       "    }\n",
       "\n",
       "    [theme=dark] .colab-df-convert {\n",
       "      background-color: #3B4455;\n",
       "      fill: #D2E3FC;\n",
       "    }\n",
       "\n",
       "    [theme=dark] .colab-df-convert:hover {\n",
       "      background-color: #434B5C;\n",
       "      box-shadow: 0px 1px 3px 1px rgba(0, 0, 0, 0.15);\n",
       "      filter: drop-shadow(0px 1px 2px rgba(0, 0, 0, 0.3));\n",
       "      fill: #FFFFFF;\n",
       "    }\n",
       "  </style>\n",
       "\n",
       "      <script>\n",
       "        const buttonEl =\n",
       "          document.querySelector('#df-24d395e8-02c9-4cba-8dcd-ea25683f8fad button.colab-df-convert');\n",
       "        buttonEl.style.display =\n",
       "          google.colab.kernel.accessAllowed ? 'block' : 'none';\n",
       "\n",
       "        async function convertToInteractive(key) {\n",
       "          const element = document.querySelector('#df-24d395e8-02c9-4cba-8dcd-ea25683f8fad');\n",
       "          const dataTable =\n",
       "            await google.colab.kernel.invokeFunction('convertToInteractive',\n",
       "                                                     [key], {});\n",
       "          if (!dataTable) return;\n",
       "\n",
       "          const docLinkHtml = 'Like what you see? Visit the ' +\n",
       "            '<a target=\"_blank\" href=https://colab.research.google.com/notebooks/data_table.ipynb>data table notebook</a>'\n",
       "            + ' to learn more about interactive tables.';\n",
       "          element.innerHTML = '';\n",
       "          dataTable['output_type'] = 'display_data';\n",
       "          await google.colab.output.renderOutput(dataTable, element);\n",
       "          const docLink = document.createElement('div');\n",
       "          docLink.innerHTML = docLinkHtml;\n",
       "          element.appendChild(docLink);\n",
       "        }\n",
       "      </script>\n",
       "    </div>\n",
       "  </div>\n",
       "  "
      ],
      "text/plain": [
       "         PCA 1     PCA 2\n",
       "0    -0.062644 -0.028853\n",
       "1    -0.083256  0.012183\n",
       "2    -0.124030 -0.103097\n",
       "3    -0.069058 -0.004516\n",
       "4    -0.077198  0.083295\n",
       "...        ...       ...\n",
       "4995 -0.084843 -0.046036\n",
       "4996 -0.086235 -0.104840\n",
       "4997  0.842597  0.047614\n",
       "4998 -0.066275  0.055609\n",
       "4999 -0.078083 -0.038130\n",
       "\n",
       "[5000 rows x 2 columns]"
      ]
     },
     "execution_count": 81,
     "metadata": {},
     "output_type": "execute_result"
    }
   ],
   "source": [
    "X_df"
   ]
  },
  {
   "cell_type": "markdown",
   "metadata": {
    "id": "VYikz0NOYWFD"
   },
   "source": [
    "Now we call the `KMeans()` function (more info [here](https://scikit-learn.org/stable/modules/generated/sklearn.cluster.KMeans.html)) to create a `KMeans()` object which I save in the variable `kmeans_2`. Here we have to specify the number of clusters we think might be there (this is unknown!). I choose 2.\n",
    "\n",
    "```\n",
    "kmeans_2 = KMeans(n_clusters= 2)\n",
    "```"
   ]
  },
  {
   "cell_type": "code",
   "execution_count": 83,
   "metadata": {
    "executionInfo": {
     "elapsed": 162,
     "status": "ok",
     "timestamp": 1641611617568,
     "user": {
      "displayName": "Stephanie Valleau",
      "photoUrl": "https://lh3.googleusercontent.com/a/default-user=s64",
      "userId": "10409275703594313556"
     },
     "user_tz": 480
    },
    "id": "tkZxSZQKzADi"
   },
   "outputs": [],
   "source": [
    "kmeans_2 = KMeans(n_clusters = 2)"
   ]
  },
  {
   "cell_type": "markdown",
   "metadata": {
    "id": "IAsE44dOdQ5F"
   },
   "source": [
    "##### *Question*: Could `n_clusters=1` ?"
   ]
  },
  {
   "cell_type": "markdown",
   "metadata": {
    "id": "qo7tEKfaZGxv"
   },
   "source": [
    "Now we pass all our `X_df` data to our `kmeans_2` object and ask for it to find 2 clusters by going through our data using the `fit_predict()` function (more info [here](https://scikit-learn.org/stable/modules/generated/sklearn.cluster.KMeans.html#sklearn.cluster.KMeans.fit_predict)). This function will return `labels` i.e. labels are the numbers assigned to each entry in `X_df` which define whether it is in the first (label=0) or second cluster (label=1).\n",
    "\n",
    "```\n",
    "labels = kmeans_2.fit_predict(X_df)\n",
    "\n",
    "print(labels[0:10]) # Print first 10 labels - these correspond to the first 10 entries of our dataset\n",
    "```"
   ]
  },
  {
   "cell_type": "code",
   "execution_count": 85,
   "metadata": {
    "colab": {
     "base_uri": "https://localhost:8080/"
    },
    "executionInfo": {
     "elapsed": 163,
     "status": "ok",
     "timestamp": 1641611670024,
     "user": {
      "displayName": "Stephanie Valleau",
      "photoUrl": "https://lh3.googleusercontent.com/a/default-user=s64",
      "userId": "10409275703594313556"
     },
     "user_tz": 480
    },
    "id": "Z8N1jwvXZFdC",
    "outputId": "c0a9748b-1a3f-48f7-bcf7-a827ecff3f3c"
   },
   "outputs": [
    {
     "name": "stdout",
     "output_type": "stream",
     "text": [
      "[0 0 0 ... 1 0 0]\n"
     ]
    }
   ],
   "source": [
    "labels = kmeans_2.fit_predict(X_df)\n",
    "\n",
    "print(labels[0:]) # Print first 10 labels - these correspond to the first 10 entries of our dataset"
   ]
  },
  {
   "cell_type": "markdown",
   "metadata": {
    "id": "utJzgOuzaUL0"
   },
   "source": [
    "Now we can find the positions of these points which are for the first and second discovered cluster as following\n",
    "\n",
    "```\n",
    "cluster_1 = principal_df[labels == 0] # Search for positions in labels where the value is 0 - those positions correspond to entries in cluster 1\n",
    "cluster_2 = principal_df[labels == 1] # Search for positions in labels where the value is 1 - those positions correspond to entries in cluster 2\n",
    "```"
   ]
  },
  {
   "cell_type": "code",
   "execution_count": 87,
   "metadata": {
    "executionInfo": {
     "elapsed": 157,
     "status": "ok",
     "timestamp": 1641611856091,
     "user": {
      "displayName": "Stephanie Valleau",
      "photoUrl": "https://lh3.googleusercontent.com/a/default-user=s64",
      "userId": "10409275703594313556"
     },
     "user_tz": 480
    },
    "id": "HnjUyXsrZurC"
   },
   "outputs": [],
   "source": [
    "cluster_1 = principal_df[labels == 0] # Search for positions in labels where the value is 0 - those positions correspond to entries in cluster 1\n",
    "cluster_2 = principal_df[labels == 1] # Search for positions in labels where the value is 1 - those positions correspond to entries in cluster 2"
   ]
  },
  {
   "cell_type": "code",
   "execution_count": 94,
   "metadata": {
    "executionInfo": {
     "elapsed": 289,
     "status": "ok",
     "timestamp": 1641614288746,
     "user": {
      "displayName": "Stephanie Valleau",
      "photoUrl": "https://lh3.googleusercontent.com/a/default-user=s64",
      "userId": "10409275703594313556"
     },
     "user_tz": 480
    },
    "id": "-JZ0efac1Y_d"
   },
   "outputs": [],
   "source": [
    "cluster_1_orig = storm_df_small[labels == 0]\n",
    "cluster_2_orig = storm_df_small[labels == 1]"
   ]
  },
  {
   "cell_type": "code",
   "execution_count": 95,
   "metadata": {
    "colab": {
     "base_uri": "https://localhost:8080/",
     "height": 300
    },
    "executionInfo": {
     "elapsed": 178,
     "status": "ok",
     "timestamp": 1641614309472,
     "user": {
      "displayName": "Stephanie Valleau",
      "photoUrl": "https://lh3.googleusercontent.com/a/default-user=s64",
      "userId": "10409275703594313556"
     },
     "user_tz": 480
    },
    "id": "saKliUBp1lOs",
    "outputId": "4b8287f1-fbed-40eb-b401-0d6a5485abfb"
   },
   "outputs": [
    {
     "data": {
      "text/html": [
       "\n",
       "  <div id=\"df-0d9e0eca-2702-4692-8860-243b14359da2\">\n",
       "    <div class=\"colab-df-container\">\n",
       "      <div>\n",
       "<style scoped>\n",
       "    .dataframe tbody tr th:only-of-type {\n",
       "        vertical-align: middle;\n",
       "    }\n",
       "\n",
       "    .dataframe tbody tr th {\n",
       "        vertical-align: top;\n",
       "    }\n",
       "\n",
       "    .dataframe thead th {\n",
       "        text-align: right;\n",
       "    }\n",
       "</style>\n",
       "<table border=\"1\" class=\"dataframe\">\n",
       "  <thead>\n",
       "    <tr style=\"text-align: right;\">\n",
       "      <th></th>\n",
       "      <th>BEGIN_DATE_TIME</th>\n",
       "      <th>INJURIES_DIRECT</th>\n",
       "      <th>INJURIES_INDIRECT</th>\n",
       "      <th>DEATHS_DIRECT</th>\n",
       "      <th>DEATHS_INDIRECT</th>\n",
       "      <th>DAMAGE_PROPERTY</th>\n",
       "      <th>DAMAGE_CROPS</th>\n",
       "      <th>LATITUDE</th>\n",
       "      <th>LONGITUDE</th>\n",
       "    </tr>\n",
       "  </thead>\n",
       "  <tbody>\n",
       "    <tr>\n",
       "      <th>count</th>\n",
       "      <td>4539.000000</td>\n",
       "      <td>4539.000000</td>\n",
       "      <td>4539.000000</td>\n",
       "      <td>4539.000000</td>\n",
       "      <td>4539.000000</td>\n",
       "      <td>4539.000000</td>\n",
       "      <td>4539.000000</td>\n",
       "      <td>4539.000000</td>\n",
       "      <td>4539.000000</td>\n",
       "    </tr>\n",
       "    <tr>\n",
       "      <th>mean</th>\n",
       "      <td>0.963914</td>\n",
       "      <td>0.000284</td>\n",
       "      <td>0.000220</td>\n",
       "      <td>0.002203</td>\n",
       "      <td>0.000441</td>\n",
       "      <td>0.010061</td>\n",
       "      <td>0.001625</td>\n",
       "      <td>0.683485</td>\n",
       "      <td>0.755103</td>\n",
       "    </tr>\n",
       "    <tr>\n",
       "      <th>std</th>\n",
       "      <td>0.013998</td>\n",
       "      <td>0.005536</td>\n",
       "      <td>0.014843</td>\n",
       "      <td>0.034744</td>\n",
       "      <td>0.018175</td>\n",
       "      <td>0.056845</td>\n",
       "      <td>0.024984</td>\n",
       "      <td>0.068530</td>\n",
       "      <td>0.118664</td>\n",
       "    </tr>\n",
       "    <tr>\n",
       "      <th>min</th>\n",
       "      <td>0.929380</td>\n",
       "      <td>0.000000</td>\n",
       "      <td>0.000000</td>\n",
       "      <td>0.000000</td>\n",
       "      <td>0.000000</td>\n",
       "      <td>0.000000</td>\n",
       "      <td>0.000000</td>\n",
       "      <td>0.000000</td>\n",
       "      <td>0.000000</td>\n",
       "    </tr>\n",
       "    <tr>\n",
       "      <th>25%</th>\n",
       "      <td>0.954948</td>\n",
       "      <td>0.000000</td>\n",
       "      <td>0.000000</td>\n",
       "      <td>0.000000</td>\n",
       "      <td>0.000000</td>\n",
       "      <td>0.000000</td>\n",
       "      <td>0.000000</td>\n",
       "      <td>0.644487</td>\n",
       "      <td>0.699070</td>\n",
       "    </tr>\n",
       "    <tr>\n",
       "      <th>50%</th>\n",
       "      <td>0.962961</td>\n",
       "      <td>0.000000</td>\n",
       "      <td>0.000000</td>\n",
       "      <td>0.000000</td>\n",
       "      <td>0.000000</td>\n",
       "      <td>0.000000</td>\n",
       "      <td>0.000000</td>\n",
       "      <td>0.688128</td>\n",
       "      <td>0.763563</td>\n",
       "    </tr>\n",
       "    <tr>\n",
       "      <th>75%</th>\n",
       "      <td>0.972932</td>\n",
       "      <td>0.000000</td>\n",
       "      <td>0.000000</td>\n",
       "      <td>0.000000</td>\n",
       "      <td>0.000000</td>\n",
       "      <td>0.001171</td>\n",
       "      <td>0.000000</td>\n",
       "      <td>0.731750</td>\n",
       "      <td>0.842821</td>\n",
       "    </tr>\n",
       "    <tr>\n",
       "      <th>max</th>\n",
       "      <td>1.000000</td>\n",
       "      <td>0.290323</td>\n",
       "      <td>1.000000</td>\n",
       "      <td>1.000000</td>\n",
       "      <td>1.000000</td>\n",
       "      <td>1.000000</td>\n",
       "      <td>1.000000</td>\n",
       "      <td>1.000000</td>\n",
       "      <td>1.000000</td>\n",
       "    </tr>\n",
       "  </tbody>\n",
       "</table>\n",
       "</div>\n",
       "      <button class=\"colab-df-convert\" onclick=\"convertToInteractive('df-0d9e0eca-2702-4692-8860-243b14359da2')\"\n",
       "              title=\"Convert this dataframe to an interactive table.\"\n",
       "              style=\"display:none;\">\n",
       "        \n",
       "  <svg xmlns=\"http://www.w3.org/2000/svg\" height=\"24px\"viewBox=\"0 0 24 24\"\n",
       "       width=\"24px\">\n",
       "    <path d=\"M0 0h24v24H0V0z\" fill=\"none\"/>\n",
       "    <path d=\"M18.56 5.44l.94 2.06.94-2.06 2.06-.94-2.06-.94-.94-2.06-.94 2.06-2.06.94zm-11 1L8.5 8.5l.94-2.06 2.06-.94-2.06-.94L8.5 2.5l-.94 2.06-2.06.94zm10 10l.94 2.06.94-2.06 2.06-.94-2.06-.94-.94-2.06-.94 2.06-2.06.94z\"/><path d=\"M17.41 7.96l-1.37-1.37c-.4-.4-.92-.59-1.43-.59-.52 0-1.04.2-1.43.59L10.3 9.45l-7.72 7.72c-.78.78-.78 2.05 0 2.83L4 21.41c.39.39.9.59 1.41.59.51 0 1.02-.2 1.41-.59l7.78-7.78 2.81-2.81c.8-.78.8-2.07 0-2.86zM5.41 20L4 18.59l7.72-7.72 1.47 1.35L5.41 20z\"/>\n",
       "  </svg>\n",
       "      </button>\n",
       "      \n",
       "  <style>\n",
       "    .colab-df-container {\n",
       "      display:flex;\n",
       "      flex-wrap:wrap;\n",
       "      gap: 12px;\n",
       "    }\n",
       "\n",
       "    .colab-df-convert {\n",
       "      background-color: #E8F0FE;\n",
       "      border: none;\n",
       "      border-radius: 50%;\n",
       "      cursor: pointer;\n",
       "      display: none;\n",
       "      fill: #1967D2;\n",
       "      height: 32px;\n",
       "      padding: 0 0 0 0;\n",
       "      width: 32px;\n",
       "    }\n",
       "\n",
       "    .colab-df-convert:hover {\n",
       "      background-color: #E2EBFA;\n",
       "      box-shadow: 0px 1px 2px rgba(60, 64, 67, 0.3), 0px 1px 3px 1px rgba(60, 64, 67, 0.15);\n",
       "      fill: #174EA6;\n",
       "    }\n",
       "\n",
       "    [theme=dark] .colab-df-convert {\n",
       "      background-color: #3B4455;\n",
       "      fill: #D2E3FC;\n",
       "    }\n",
       "\n",
       "    [theme=dark] .colab-df-convert:hover {\n",
       "      background-color: #434B5C;\n",
       "      box-shadow: 0px 1px 3px 1px rgba(0, 0, 0, 0.15);\n",
       "      filter: drop-shadow(0px 1px 2px rgba(0, 0, 0, 0.3));\n",
       "      fill: #FFFFFF;\n",
       "    }\n",
       "  </style>\n",
       "\n",
       "      <script>\n",
       "        const buttonEl =\n",
       "          document.querySelector('#df-0d9e0eca-2702-4692-8860-243b14359da2 button.colab-df-convert');\n",
       "        buttonEl.style.display =\n",
       "          google.colab.kernel.accessAllowed ? 'block' : 'none';\n",
       "\n",
       "        async function convertToInteractive(key) {\n",
       "          const element = document.querySelector('#df-0d9e0eca-2702-4692-8860-243b14359da2');\n",
       "          const dataTable =\n",
       "            await google.colab.kernel.invokeFunction('convertToInteractive',\n",
       "                                                     [key], {});\n",
       "          if (!dataTable) return;\n",
       "\n",
       "          const docLinkHtml = 'Like what you see? Visit the ' +\n",
       "            '<a target=\"_blank\" href=https://colab.research.google.com/notebooks/data_table.ipynb>data table notebook</a>'\n",
       "            + ' to learn more about interactive tables.';\n",
       "          element.innerHTML = '';\n",
       "          dataTable['output_type'] = 'display_data';\n",
       "          await google.colab.output.renderOutput(dataTable, element);\n",
       "          const docLink = document.createElement('div');\n",
       "          docLink.innerHTML = docLinkHtml;\n",
       "          element.appendChild(docLink);\n",
       "        }\n",
       "      </script>\n",
       "    </div>\n",
       "  </div>\n",
       "  "
      ],
      "text/plain": [
       "       BEGIN_DATE_TIME  INJURIES_DIRECT  ...     LATITUDE    LONGITUDE\n",
       "count      4539.000000      4539.000000  ...  4539.000000  4539.000000\n",
       "mean          0.963914         0.000284  ...     0.683485     0.755103\n",
       "std           0.013998         0.005536  ...     0.068530     0.118664\n",
       "min           0.929380         0.000000  ...     0.000000     0.000000\n",
       "25%           0.954948         0.000000  ...     0.644487     0.699070\n",
       "50%           0.962961         0.000000  ...     0.688128     0.763563\n",
       "75%           0.972932         0.000000  ...     0.731750     0.842821\n",
       "max           1.000000         0.290323  ...     1.000000     1.000000\n",
       "\n",
       "[8 rows x 9 columns]"
      ]
     },
     "execution_count": 95,
     "metadata": {},
     "output_type": "execute_result"
    }
   ],
   "source": [
    "cluster_1_orig.describe()"
   ]
  },
  {
   "cell_type": "code",
   "execution_count": 96,
   "metadata": {
    "colab": {
     "base_uri": "https://localhost:8080/",
     "height": 300
    },
    "executionInfo": {
     "elapsed": 146,
     "status": "ok",
     "timestamp": 1641614331694,
     "user": {
      "displayName": "Stephanie Valleau",
      "photoUrl": "https://lh3.googleusercontent.com/a/default-user=s64",
      "userId": "10409275703594313556"
     },
     "user_tz": 480
    },
    "id": "aOUEXzTG1qlb",
    "outputId": "fdac7334-383d-41ad-d269-11167cfb6c7b"
   },
   "outputs": [
    {
     "data": {
      "text/html": [
       "\n",
       "  <div id=\"df-d4c47c89-4ecb-436b-8a42-cd6e2af56107\">\n",
       "    <div class=\"colab-df-container\">\n",
       "      <div>\n",
       "<style scoped>\n",
       "    .dataframe tbody tr th:only-of-type {\n",
       "        vertical-align: middle;\n",
       "    }\n",
       "\n",
       "    .dataframe tbody tr th {\n",
       "        vertical-align: top;\n",
       "    }\n",
       "\n",
       "    .dataframe thead th {\n",
       "        text-align: right;\n",
       "    }\n",
       "</style>\n",
       "<table border=\"1\" class=\"dataframe\">\n",
       "  <thead>\n",
       "    <tr style=\"text-align: right;\">\n",
       "      <th></th>\n",
       "      <th>BEGIN_DATE_TIME</th>\n",
       "      <th>INJURIES_DIRECT</th>\n",
       "      <th>INJURIES_INDIRECT</th>\n",
       "      <th>DEATHS_DIRECT</th>\n",
       "      <th>DEATHS_INDIRECT</th>\n",
       "      <th>DAMAGE_PROPERTY</th>\n",
       "      <th>DAMAGE_CROPS</th>\n",
       "      <th>LATITUDE</th>\n",
       "      <th>LONGITUDE</th>\n",
       "    </tr>\n",
       "  </thead>\n",
       "  <tbody>\n",
       "    <tr>\n",
       "      <th>count</th>\n",
       "      <td>461.000000</td>\n",
       "      <td>461.000000</td>\n",
       "      <td>461.0</td>\n",
       "      <td>461.000000</td>\n",
       "      <td>461.0</td>\n",
       "      <td>461.000000</td>\n",
       "      <td>461.000000</td>\n",
       "      <td>461.000000</td>\n",
       "      <td>461.000000</td>\n",
       "    </tr>\n",
       "    <tr>\n",
       "      <th>mean</th>\n",
       "      <td>0.024765</td>\n",
       "      <td>0.002939</td>\n",
       "      <td>0.0</td>\n",
       "      <td>0.002169</td>\n",
       "      <td>0.0</td>\n",
       "      <td>0.022990</td>\n",
       "      <td>0.021274</td>\n",
       "      <td>0.693868</td>\n",
       "      <td>0.726179</td>\n",
       "    </tr>\n",
       "    <tr>\n",
       "      <th>std</th>\n",
       "      <td>0.011374</td>\n",
       "      <td>0.047566</td>\n",
       "      <td>0.0</td>\n",
       "      <td>0.032897</td>\n",
       "      <td>0.0</td>\n",
       "      <td>0.087191</td>\n",
       "      <td>0.112629</td>\n",
       "      <td>0.062284</td>\n",
       "      <td>0.091558</td>\n",
       "    </tr>\n",
       "    <tr>\n",
       "      <th>min</th>\n",
       "      <td>0.000000</td>\n",
       "      <td>0.000000</td>\n",
       "      <td>0.0</td>\n",
       "      <td>0.000000</td>\n",
       "      <td>0.0</td>\n",
       "      <td>0.000000</td>\n",
       "      <td>0.000000</td>\n",
       "      <td>0.546556</td>\n",
       "      <td>0.450725</td>\n",
       "    </tr>\n",
       "    <tr>\n",
       "      <th>25%</th>\n",
       "      <td>0.016008</td>\n",
       "      <td>0.000000</td>\n",
       "      <td>0.0</td>\n",
       "      <td>0.000000</td>\n",
       "      <td>0.0</td>\n",
       "      <td>0.000000</td>\n",
       "      <td>0.000000</td>\n",
       "      <td>0.632262</td>\n",
       "      <td>0.648144</td>\n",
       "    </tr>\n",
       "    <tr>\n",
       "      <th>50%</th>\n",
       "      <td>0.023402</td>\n",
       "      <td>0.000000</td>\n",
       "      <td>0.0</td>\n",
       "      <td>0.000000</td>\n",
       "      <td>0.0</td>\n",
       "      <td>0.000000</td>\n",
       "      <td>0.000000</td>\n",
       "      <td>0.710212</td>\n",
       "      <td>0.714517</td>\n",
       "    </tr>\n",
       "    <tr>\n",
       "      <th>75%</th>\n",
       "      <td>0.031108</td>\n",
       "      <td>0.000000</td>\n",
       "      <td>0.0</td>\n",
       "      <td>0.000000</td>\n",
       "      <td>0.0</td>\n",
       "      <td>0.003513</td>\n",
       "      <td>0.000000</td>\n",
       "      <td>0.745572</td>\n",
       "      <td>0.801030</td>\n",
       "    </tr>\n",
       "    <tr>\n",
       "      <th>max</th>\n",
       "      <td>0.061786</td>\n",
       "      <td>1.000000</td>\n",
       "      <td>0.0</td>\n",
       "      <td>0.500000</td>\n",
       "      <td>0.0</td>\n",
       "      <td>0.936768</td>\n",
       "      <td>1.000000</td>\n",
       "      <td>0.792894</td>\n",
       "      <td>0.957793</td>\n",
       "    </tr>\n",
       "  </tbody>\n",
       "</table>\n",
       "</div>\n",
       "      <button class=\"colab-df-convert\" onclick=\"convertToInteractive('df-d4c47c89-4ecb-436b-8a42-cd6e2af56107')\"\n",
       "              title=\"Convert this dataframe to an interactive table.\"\n",
       "              style=\"display:none;\">\n",
       "        \n",
       "  <svg xmlns=\"http://www.w3.org/2000/svg\" height=\"24px\"viewBox=\"0 0 24 24\"\n",
       "       width=\"24px\">\n",
       "    <path d=\"M0 0h24v24H0V0z\" fill=\"none\"/>\n",
       "    <path d=\"M18.56 5.44l.94 2.06.94-2.06 2.06-.94-2.06-.94-.94-2.06-.94 2.06-2.06.94zm-11 1L8.5 8.5l.94-2.06 2.06-.94-2.06-.94L8.5 2.5l-.94 2.06-2.06.94zm10 10l.94 2.06.94-2.06 2.06-.94-2.06-.94-.94-2.06-.94 2.06-2.06.94z\"/><path d=\"M17.41 7.96l-1.37-1.37c-.4-.4-.92-.59-1.43-.59-.52 0-1.04.2-1.43.59L10.3 9.45l-7.72 7.72c-.78.78-.78 2.05 0 2.83L4 21.41c.39.39.9.59 1.41.59.51 0 1.02-.2 1.41-.59l7.78-7.78 2.81-2.81c.8-.78.8-2.07 0-2.86zM5.41 20L4 18.59l7.72-7.72 1.47 1.35L5.41 20z\"/>\n",
       "  </svg>\n",
       "      </button>\n",
       "      \n",
       "  <style>\n",
       "    .colab-df-container {\n",
       "      display:flex;\n",
       "      flex-wrap:wrap;\n",
       "      gap: 12px;\n",
       "    }\n",
       "\n",
       "    .colab-df-convert {\n",
       "      background-color: #E8F0FE;\n",
       "      border: none;\n",
       "      border-radius: 50%;\n",
       "      cursor: pointer;\n",
       "      display: none;\n",
       "      fill: #1967D2;\n",
       "      height: 32px;\n",
       "      padding: 0 0 0 0;\n",
       "      width: 32px;\n",
       "    }\n",
       "\n",
       "    .colab-df-convert:hover {\n",
       "      background-color: #E2EBFA;\n",
       "      box-shadow: 0px 1px 2px rgba(60, 64, 67, 0.3), 0px 1px 3px 1px rgba(60, 64, 67, 0.15);\n",
       "      fill: #174EA6;\n",
       "    }\n",
       "\n",
       "    [theme=dark] .colab-df-convert {\n",
       "      background-color: #3B4455;\n",
       "      fill: #D2E3FC;\n",
       "    }\n",
       "\n",
       "    [theme=dark] .colab-df-convert:hover {\n",
       "      background-color: #434B5C;\n",
       "      box-shadow: 0px 1px 3px 1px rgba(0, 0, 0, 0.15);\n",
       "      filter: drop-shadow(0px 1px 2px rgba(0, 0, 0, 0.3));\n",
       "      fill: #FFFFFF;\n",
       "    }\n",
       "  </style>\n",
       "\n",
       "      <script>\n",
       "        const buttonEl =\n",
       "          document.querySelector('#df-d4c47c89-4ecb-436b-8a42-cd6e2af56107 button.colab-df-convert');\n",
       "        buttonEl.style.display =\n",
       "          google.colab.kernel.accessAllowed ? 'block' : 'none';\n",
       "\n",
       "        async function convertToInteractive(key) {\n",
       "          const element = document.querySelector('#df-d4c47c89-4ecb-436b-8a42-cd6e2af56107');\n",
       "          const dataTable =\n",
       "            await google.colab.kernel.invokeFunction('convertToInteractive',\n",
       "                                                     [key], {});\n",
       "          if (!dataTable) return;\n",
       "\n",
       "          const docLinkHtml = 'Like what you see? Visit the ' +\n",
       "            '<a target=\"_blank\" href=https://colab.research.google.com/notebooks/data_table.ipynb>data table notebook</a>'\n",
       "            + ' to learn more about interactive tables.';\n",
       "          element.innerHTML = '';\n",
       "          dataTable['output_type'] = 'display_data';\n",
       "          await google.colab.output.renderOutput(dataTable, element);\n",
       "          const docLink = document.createElement('div');\n",
       "          docLink.innerHTML = docLinkHtml;\n",
       "          element.appendChild(docLink);\n",
       "        }\n",
       "      </script>\n",
       "    </div>\n",
       "  </div>\n",
       "  "
      ],
      "text/plain": [
       "       BEGIN_DATE_TIME  INJURIES_DIRECT  ...    LATITUDE   LONGITUDE\n",
       "count       461.000000       461.000000  ...  461.000000  461.000000\n",
       "mean          0.024765         0.002939  ...    0.693868    0.726179\n",
       "std           0.011374         0.047566  ...    0.062284    0.091558\n",
       "min           0.000000         0.000000  ...    0.546556    0.450725\n",
       "25%           0.016008         0.000000  ...    0.632262    0.648144\n",
       "50%           0.023402         0.000000  ...    0.710212    0.714517\n",
       "75%           0.031108         0.000000  ...    0.745572    0.801030\n",
       "max           0.061786         1.000000  ...    0.792894    0.957793\n",
       "\n",
       "[8 rows x 9 columns]"
      ]
     },
     "execution_count": 96,
     "metadata": {},
     "output_type": "execute_result"
    }
   ],
   "source": [
    "cluster_2_orig.describe()\n"
   ]
  },
  {
   "cell_type": "markdown",
   "metadata": {
    "id": "iq_5fii3a5YA"
   },
   "source": [
    "Why did that work?"
   ]
  },
  {
   "cell_type": "code",
   "execution_count": 86,
   "metadata": {
    "colab": {
     "base_uri": "https://localhost:8080/"
    },
    "executionInfo": {
     "elapsed": 171,
     "status": "ok",
     "timestamp": 1641611724339,
     "user": {
      "displayName": "Stephanie Valleau",
      "photoUrl": "https://lh3.googleusercontent.com/a/default-user=s64",
      "userId": "10409275703594313556"
     },
     "user_tz": 480
    },
    "id": "CJuDL5qEa2q8",
    "outputId": "a5ffdad9-854d-433b-8084-3009a5893c5f"
   },
   "outputs": [
    {
     "data": {
      "text/plain": [
       "array([ True,  True,  True, ..., False,  True,  True])"
      ]
     },
     "execution_count": 86,
     "metadata": {},
     "output_type": "execute_result"
    }
   ],
   "source": [
    "labels == 0"
   ]
  },
  {
   "cell_type": "markdown",
   "metadata": {
    "id": "CIY-o6zOa751"
   },
   "source": [
    "Let's plots our clusters and the position of the centroids for each cluster. Those positions are in the `kmeans_2` objects `cluster_centers_` variable which we can access as\n",
    "\n",
    "```\n",
    "kmeans_2.cluster_centers_\n",
    "```"
   ]
  },
  {
   "cell_type": "code",
   "execution_count": 88,
   "metadata": {
    "colab": {
     "base_uri": "https://localhost:8080/"
    },
    "executionInfo": {
     "elapsed": 163,
     "status": "ok",
     "timestamp": 1641611874707,
     "user": {
      "displayName": "Stephanie Valleau",
      "photoUrl": "https://lh3.googleusercontent.com/a/default-user=s64",
      "userId": "10409275703594313556"
     },
     "user_tz": 480
    },
    "id": "rfM2hhN0bRI_",
    "outputId": "d2605577-1e3b-42ef-f9da-c44a220ae41e"
   },
   "outputs": [
    {
     "data": {
      "text/plain": [
       "array([[-8.66604011e-02,  6.98904934e-04],\n",
       "       [ 8.53257182e-01, -6.88140888e-03]])"
      ]
     },
     "execution_count": 88,
     "metadata": {},
     "output_type": "execute_result"
    }
   ],
   "source": [
    "kmeans_2.cluster_centers_"
   ]
  },
  {
   "cell_type": "markdown",
   "metadata": {
    "id": "UCIBkdkmXwYh"
   },
   "source": [
    "```\n",
    "fig, ax = plt.subplots(1, figsize=(10,8))\n",
    "ax.plot(cluster_1['PCA 1'], cluster_1['PCA 2'],'ob', alpha=0.3, label='cluster 1')\n",
    "ax.plot(cluster_2['PCA 1'], cluster_2['PCA 2'],'>r', alpha=0.3, label='cluster 2')\n",
    "ax.plot(kmeans_2.cluster_centers_[0][0], kmeans_2.cluster_centers_[0][1], c='cornflowerblue', alpha=0.8, markeredgewidth=2, markeredgecolor='navy', marker=(5,1), markersize=20, label='centroid 1')\n",
    "ax.plot(kmeans_2.cluster_centers_[1][0], kmeans_2.cluster_centers_[1][1], c='orange', alpha=0.8, markeredgewidth=2, markeredgecolor='crimson', marker=(5,1), markersize=20, label='centroid 2')\n",
    "ax.set_xlabel('PCA 1')\n",
    "ax.set_ylabel('PCA 2')\n",
    "plt.xticks(rotation = 45)\n",
    "ax.legend(loc=\"upper right\", bbox_to_anchor=(1.,0.98))\n",
    "fig.show()\n",
    "```"
   ]
  },
  {
   "cell_type": "code",
   "execution_count": 89,
   "metadata": {
    "colab": {
     "base_uri": "https://localhost:8080/",
     "height": 532
    },
    "executionInfo": {
     "elapsed": 446,
     "status": "ok",
     "timestamp": 1641611899842,
     "user": {
      "displayName": "Stephanie Valleau",
      "photoUrl": "https://lh3.googleusercontent.com/a/default-user=s64",
      "userId": "10409275703594313556"
     },
     "user_tz": 480
    },
    "id": "jfzBnx4_FXbK",
    "outputId": "6deab105-1a8a-4b54-ff08-6426fe3d43e7"
   },
   "outputs": [
    {
     "data": {
      "image/png": "[encoded data removed]",
      "text/plain": [
       "<Figure size 720x576 with 1 Axes>"
      ]
     },
     "metadata": {
      "needs_background": "light"
     },
     "output_type": "display_data"
    }
   ],
   "source": [
    "fig, ax = plt.subplots(1, figsize=(10,8))\n",
    "ax.plot(cluster_1['PCA 1'], cluster_1['PCA 2'],'ob', alpha=0.3, label='cluster 1')\n",
    "ax.plot(cluster_2['PCA 1'], cluster_2['PCA 2'],'>r', alpha=0.3, label='cluster 2')\n",
    "ax.plot(kmeans_2.cluster_centers_[0][0], kmeans_2.cluster_centers_[0][1], c='cornflowerblue', alpha=0.8, markeredgewidth=2, markeredgecolor='navy', marker=(5,1), markersize=20, label='centroid 1')\n",
    "ax.plot(kmeans_2.cluster_centers_[1][0], kmeans_2.cluster_centers_[1][1], c='orange', alpha=0.8, markeredgewidth=2, markeredgecolor='crimson', marker=(5,1), markersize=20, label='centroid 2')\n",
    "ax.set_xlabel('PCA 1')\n",
    "ax.set_ylabel('PCA 2')\n",
    "plt.xticks(rotation = 45)\n",
    "ax.legend(loc=\"upper right\", bbox_to_anchor=(1.,0.98))\n",
    "fig.show()"
   ]
  },
  {
   "cell_type": "code",
   "execution_count": null,
   "metadata": {
    "id": "bz9xQDCV1Wh8"
   },
   "outputs": [],
   "source": []
  },
  {
   "cell_type": "markdown",
   "metadata": {
    "id": "cIMW_SiG8Uqu"
   },
   "source": [
    "What if we thought there were 6 clusters?\n",
    "\n",
    "```\n",
    "kmeans_6 = KMeans(n_clusters= 6)\n",
    "labels_6 = kmeans_6.fit_predict(X_df)\n",
    "\n",
    "clusters_6 = [principal_df[labels_6 == i] for i in range(6) ]\n",
    "kmeans_6.cluster_centers_\n",
    "\n",
    "fig, ax = plt.subplots(1, figsize=(10,8))\n",
    "colors = [cm.viridis(i) for i in np.linspace(0, 0.9, 6)]\n",
    "markers = ['o','>','<','s','d','p','^','v','.','8']\n",
    "m_colors = ['plum', 'deepskyblue', 'cyan', 'darkslategrey', 'darkgreen', 'olivedrab']\n",
    "\n",
    "for i, color in enumerate(colors):\n",
    "  ax.plot(clusters_6[i]['PCA 1'], clusters_6[i]['PCA 2'], marker=markers[i], lw=0, c=color, alpha=0.3, label='cluster '+str(i))\n",
    "  ax.plot(kmeans_6.cluster_centers_[i][0], kmeans_6.cluster_centers_[i][1], lw=0, c=color, alpha=1, markeredgecolor=m_colors[i], marker=(5,1), markeredgewidth=2, markersize=20, label='centroid '+str(i))\n",
    "ax.set_xlabel('PCA 1')\n",
    "ax.set_ylabel('PCA 2')\n",
    "plt.xticks(rotation = 45)\n",
    "ax.legend(loc=\"center right\", bbox_to_anchor=(1.4,0.5))\n",
    "fig.show()\n",
    "```"
   ]
  },
  {
   "cell_type": "code",
   "execution_count": 90,
   "metadata": {
    "colab": {
     "base_uri": "https://localhost:8080/",
     "height": 532
    },
    "executionInfo": {
     "elapsed": 892,
     "status": "ok",
     "timestamp": 1641612002688,
     "user": {
      "displayName": "Stephanie Valleau",
      "photoUrl": "https://lh3.googleusercontent.com/a/default-user=s64",
      "userId": "10409275703594313556"
     },
     "user_tz": 480
    },
    "id": "37tYk4u58S6d",
    "outputId": "b6e42be5-ef7a-49b5-b26e-c10a372a5cec"
   },
   "outputs": [
    {
     "data": {
      "image/png": "[encoded data removed]",
      "text/plain": [
       "<Figure size 720x576 with 1 Axes>"
      ]
     },
     "metadata": {
      "needs_background": "light"
     },
     "output_type": "display_data"
    }
   ],
   "source": [
    "kmeans_6 = KMeans(n_clusters = 6)\n",
    "labels_6 = kmeans_6.fit_predict(X_df)\n",
    "\n",
    "clusters_6 = [principal_df[labels_6 == i] for i in range(6) ]\n",
    "kmeans_6.cluster_centers_\n",
    "\n",
    "fig, ax = plt.subplots(1, figsize=(10,8))\n",
    "colors = [cm.viridis(i) for i in np.linspace(0, 0.9, 6)]\n",
    "markers = ['o','>','<','s','d','p','^','v','.','8']\n",
    "m_colors = ['plum', 'deepskyblue', 'cyan', 'darkslategrey', 'darkgreen', 'olivedrab']\n",
    "\n",
    "for i, color in enumerate(colors):\n",
    "  ax.plot(clusters_6[i]['PCA 1'], clusters_6[i]['PCA 2'], marker=markers[i], lw=0, c=color, alpha=0.3, label='cluster '+str(i))\n",
    "  ax.plot(kmeans_6.cluster_centers_[i][0], kmeans_6.cluster_centers_[i][1], lw=0, c=color, alpha=1, markeredgecolor=m_colors[i], marker=(5,1), markeredgewidth=2, markersize=20, label='centroid '+str(i))\n",
    "ax.set_xlabel('PCA 1')\n",
    "ax.set_ylabel('PCA 2')\n",
    "plt.xticks(rotation = 45)\n",
    "ax.legend(loc=\"center right\", bbox_to_anchor=(1.4,0.5))\n",
    "fig.show()"
   ]
  },
  {
   "cell_type": "markdown",
   "metadata": {
    "id": "BzhuOSu993AZ"
   },
   "source": [
    "Some of these are very close, how do we figure out if the results are correct when we don't know the best number of clusters?"
   ]
  },
  {
   "cell_type": "markdown",
   "metadata": {
    "id": "HIln87FN-Bc8"
   },
   "source": [
    "### 5.3.3 Evaluating the accuracy of clustering\n",
    "\n",
    "How do we find the optimal number of clusters? We can use a metric called the **silhouette coefficient** (more info [here](https://en.wikipedia.org/wiki/Silhouette_(clustering))) it is equal to\n",
    "\n",
    "$$\\text{silhouette coeff}=\\frac{b-a}{max(a,b)}$$\n",
    "\n",
    "- $a$ is the average distance to the other data points in the same cluster\n",
    "- $b$ is the average nearest cluster distance (i.e. the average distance to the next closest cluster) \n",
    "\n",
    "With this coefficient, we can get an idea of how well our data has been assigned to the clusters\n",
    "\n",
    "- If the value is close to +1 then clusters are well separated and the points in each cluster do not overlap.\n",
    "\n",
    "- If the value is close to -1 then a value may have been assigned to the wrong cluster\n",
    "\n",
    "- If the value is zero then the point is close to a cluster boundary\n",
    "\n",
    "Let's try this for our data by using the scikit-learn `silhouette_score()` function (more info [here](https://scikit-learn.org/stable/modules/generated/sklearn.metrics.silhouette_score.html)). This function takes in input `X_df` original dataframe and the `labels_` which were obtained using K-means. Note that you can use this function for any clustering algorithm. All you need is the data and assigned labels (i.e. clusters).\n",
    "\n",
    "This function returns the value of the Silhouette score."
   ]
  },
  {
   "cell_type": "markdown",
   "metadata": {
    "id": "Ei2-Fq-nYDFd"
   },
   "source": [
    "```\n",
    "sil_score = []                                # Define an empty list\n",
    "for num_clust in range(2, 25):                # Iterate in range 2 to 25 clusters as input choice \n",
    "    print(\"Searching for\", num_clust, \"clusters with k-means.\")\n",
    "    kmeans = KMeans(n_clusters = num_clust)   # Create kmeans clustering object for num_clust\n",
    "    label = kmeans.fit_predict(X_df)          # Find the labels (0 - cluster 1, 1 - cluster 2, ...., N-1 for cluster N)\n",
    "    sil_score.append(silhouette_score(X_df, kmeans.labels_))  # Compute the silhouette score and store it in the list\n",
    "```"
   ]
  },
  {
   "cell_type": "code",
   "execution_count": 91,
   "metadata": {
    "colab": {
     "base_uri": "https://localhost:8080/"
    },
    "executionInfo": {
     "elapsed": 29749,
     "status": "ok",
     "timestamp": 1641612235574,
     "user": {
      "displayName": "Stephanie Valleau",
      "photoUrl": "https://lh3.googleusercontent.com/a/default-user=s64",
      "userId": "10409275703594313556"
     },
     "user_tz": 480
    },
    "id": "N7J6SEeFm_89",
    "outputId": "50dc797a-c914-46a1-c603-74b48ea9f7c3"
   },
   "outputs": [
    {
     "name": "stdout",
     "output_type": "stream",
     "text": [
      "Searching for 2 clusters with k-means.\n",
      "Searching for 3 clusters with k-means.\n",
      "Searching for 4 clusters with k-means.\n",
      "Searching for 5 clusters with k-means.\n",
      "Searching for 6 clusters with k-means.\n",
      "Searching for 7 clusters with k-means.\n",
      "Searching for 8 clusters with k-means.\n",
      "Searching for 9 clusters with k-means.\n",
      "Searching for 10 clusters with k-means.\n",
      "Searching for 11 clusters with k-means.\n",
      "Searching for 12 clusters with k-means.\n",
      "Searching for 13 clusters with k-means.\n",
      "Searching for 14 clusters with k-means.\n",
      "Searching for 15 clusters with k-means.\n",
      "Searching for 16 clusters with k-means.\n",
      "Searching for 17 clusters with k-means.\n",
      "Searching for 18 clusters with k-means.\n",
      "Searching for 19 clusters with k-means.\n",
      "Searching for 20 clusters with k-means.\n",
      "Searching for 21 clusters with k-means.\n",
      "Searching for 22 clusters with k-means.\n",
      "Searching for 23 clusters with k-means.\n",
      "Searching for 24 clusters with k-means.\n"
     ]
    }
   ],
   "source": [
    "sil_score = []                                # Define an empty list\n",
    "for num_clust in range(2, 25):                # Iterate in range 2 to 25 clusters as input choice \n",
    "    print(\"Searching for\", num_clust, \"clusters with k-means.\")\n",
    "    kmeans = KMeans(n_clusters = num_clust)   # Create kmeans clustering object for num_clust\n",
    "    label = kmeans.fit_predict(X_df)          # Find the labels (0 - cluster 1, 1 - cluster 2, ...., N-1 for cluster N)\n",
    "    sil_score.append(silhouette_score(X_df, kmeans.labels_))  # Compute the silhouette score and store it in the list\n"
   ]
  },
  {
   "cell_type": "markdown",
   "metadata": {
    "id": "-mhdi-x3fLFA"
   },
   "source": [
    "Let's see what this looks like graphically\n",
    "\n",
    "```\n",
    "ks = np.linspace(2, 25, len(sil_score))\n",
    "fig, ax = plt.subplots(1, figsize=(5,4))\n",
    "ax.plot(ks, sil_score, '--o', color='darkorchid')\n",
    "ax.set_xlabel('$k$')\n",
    "ax.set_ylabel('Silhouette score')\n",
    "fig.show()\n",
    "```"
   ]
  },
  {
   "cell_type": "code",
   "execution_count": 92,
   "metadata": {
    "colab": {
     "base_uri": "https://localhost:8080/",
     "height": 297
    },
    "executionInfo": {
     "elapsed": 451,
     "status": "ok",
     "timestamp": 1641612267914,
     "user": {
      "displayName": "Stephanie Valleau",
      "photoUrl": "https://lh3.googleusercontent.com/a/default-user=s64",
      "userId": "10409275703594313556"
     },
     "user_tz": 480
    },
    "id": "Gr69J6NdMtT2",
    "outputId": "27bda28c-ba56-408a-c622-80fe928fd424"
   },
   "outputs": [
    {
     "data": {
      "image/png": "[encoded data removed]",
      "text/plain": [
       "<Figure size 360x288 with 1 Axes>"
      ]
     },
     "metadata": {
      "needs_background": "light"
     },
     "output_type": "display_data"
    }
   ],
   "source": [
    "ks = np.linspace(2, 25, len(sil_score))\n",
    "fig, ax = plt.subplots(1, figsize=(5,4))\n",
    "ax.plot(ks, sil_score, '--o', color='darkorchid')\n",
    "ax.set_xlabel('$k$')\n",
    "ax.set_ylabel('Silhouette score')\n",
    "fig.show()"
   ]
  },
  {
   "cell_type": "code",
   "execution_count": 93,
   "metadata": {
    "colab": {
     "base_uri": "https://localhost:8080/"
    },
    "executionInfo": {
     "elapsed": 148,
     "status": "ok",
     "timestamp": 1641612343087,
     "user": {
      "displayName": "Stephanie Valleau",
      "photoUrl": "https://lh3.googleusercontent.com/a/default-user=s64",
      "userId": "10409275703594313556"
     },
     "user_tz": 480
    },
    "id": "iWXw5jYi-WBw",
    "outputId": "817ff6ba-110a-4899-fc62-00eaac0cda73"
   },
   "outputs": [
    {
     "name": "stdout",
     "output_type": "stream",
     "text": [
      "Maximum silhouette score 0.8708063873716579\n"
     ]
    }
   ],
   "source": [
    "print(\"Maximum silhouette score\", max(sil_score))"
   ]
  },
  {
   "cell_type": "markdown",
   "metadata": {
    "id": "-hGHlss_Od6y"
   },
   "source": [
    "Now we see that for this dataset it is not a good idea to keep increasing the number of clusters. That can change depending on the data you have.\n",
    "\n",
    "##### *Question*: What do you think will happen is we increase $k$ to match the number of points we have?"
   ]
  },
  {
   "cell_type": "markdown",
   "metadata": {
    "id": "boiunF3MnA3n"
   },
   "source": [
    "### 5.3.4 Other clustering algorithms\n",
    "\n",
    "There are many other clustering algorithms, for instance DBSCAN, agglomerative clustering and gaussian mixtures. Have a look on the scikit-learn page [here](https://scikit-learn.org/stable/modules/clustering.html) for more information. "
   ]
  },
  {
   "cell_type": "markdown",
   "metadata": {
    "id": "zno7Go9pQBwe"
   },
   "source": [
    "# Breakout Room\n",
    "\n",
    "\n"
   ]
  },
  {
   "cell_type": "markdown",
   "metadata": {
    "id": "D69HCdV3z1hk"
   },
   "source": [
    "## Exercise 1: Removing outliers & clustering\n",
    "\n",
    "Using the definition of standard deviation remove outliers from the storm dataset and carry out clustering with k-means. \n",
    "\n",
    "\n",
    "*   Does the Silhouette metric change?\n",
    "*   Does the optimal number of clusters changes?\n",
    "\n",
    "\n",
    "Suggestions: \n",
    "\n",
    "* Keep all `BEGIN_DATA_TIME` and `LONGITUDE` and `LATITUDE` entries. \n",
    "* Make sure your data is scaled. (Note: usually you want to remove outliers prior to scaling! You can do it the other way around here for shortness of time)\n",
    "* Use PCA to reduce dimensionality to 2\n",
    "* Use KMeans to cluster between 2 and 25 clusters\n",
    "* Compare to your previous Silhouette score plot"
   ]
  },
  {
   "cell_type": "markdown",
   "metadata": {
    "id": "5iu5FQMNz6en"
   },
   "source": [
    "## Exercise 2: Clustering with DBSCAN\n",
    "\n",
    "Have a look at the scikit-learn function to cluster using the [DBSCAN method](https://en.wikipedia.org/wiki/DBSCAN#Algorithm) which is implemented in [scikit-learn](https://scikit-learn.org/stable/modules/generated/sklearn.cluster.DBSCAN.html). You can find an example problem [here](https://scikit-learn.org/stable/auto_examples/cluster/plot_dbscan.html#sphx-glr-auto-examples-cluster-plot-dbscan-py)\n",
    "\n",
    "Here you will not need to set a fixed number of clusters. Use all the data, include the onehotencoded `EVENT_TYPE` in your x-values. \n",
    "* Add the `EVENT_TYPE` to x-values by using onehotencoding\n",
    "* Compute the number of clusters, NC, with DBSCAN\n",
    "* Plot these in 3D\n",
    "* Compare to results you would get is you used k-means with k=NC; does the silhouette score differ?\n",
    "* According to you what is the advantage respect to k-means clustering?\n",
    "* What do the clusters mean?"
   ]
  },
  {
   "cell_type": "markdown",
   "metadata": {
    "id": "rfEP3u6mQBwe"
   },
   "source": [
    "<hr style=\"border:1px solid grey\"> </hr>"
   ]
  },
  {
   "cell_type": "markdown",
   "metadata": {
    "id": "2CJ1j1KcQBwe"
   },
   "source": [
    "# References"
   ]
  },
  {
   "cell_type": "markdown",
   "metadata": {
    "id": "cuQ-DIbZQBwe"
   },
   "source": [
    "* **NOAA dataset**: here is the [source](https://www.ncei.noaa.gov/pub/data/swdi/stormevents/csvfiles/) of the dataset taken from the [National Oceanic and Atmospheric Administration](https://www.noaa.gov/). Only two years of data were selected for the purpose of this tutorial.  \n",
    "\n",
    "* **Scaling** there are different ways to scale data - see https://scikit-learn.org/stable/auto_examples/preprocessing/plot_all_scaling.html#sphx-glr-auto-examples-preprocessing-plot-all-scaling-py\n",
    "\n",
    "* **Outliers** see https://towardsdatascience.com/outlier-detection-methods-in-machine-learning-1c8b7cca6cb8\n",
    "\n",
    "* **Principal component analysis** for more information see  https://en.wikipedia.org/wiki/Principal_component_analysis\n",
    "\n",
    "* **Pearson correlation**\n",
    "To find out more see https://en.wikipedia.org/wiki/Pearson_correlation_coefficient\n",
    "\n",
    "* **Clustering**\n",
    "To find out more see https://en.wikipedia.org/wiki/Cluster_analysis\n",
    "\n",
    "* **scikit-learn**\n",
    " * Scikit-learn: https://scikit-learn.org/stable/\n",
    " * Clustering in scikit-learn: https://scikit-learn.org/stable/modules/clustering.html\n",
    " * Evaluating the error in clustering: https://scikit-learn.org/stable/modules/clustering.html#clustering-performance-evaluation\n",
    "  * The NOAA dataset: TO BE ADDED\n",
    "\n",
    "\n"
   ]
  }
 ],
 "metadata": {
  "colab": {
   "collapsed_sections": [
    "DUgwY8Q6Fwa7"
   ],
   "name": "C-HACK_Tutorial_5_Data_Analysis_and_Clustering.ipynb",
   "provenance": []
  },
  "kernelspec": {
   "display_name": "Python 3",
   "language": "python",
   "name": "python3"
  },
  "language_info": {
   "codemirror_mode": {
    "name": "ipython",
    "version": 3
   },
   "file_extension": ".py",
   "mimetype": "text/x-python",
   "name": "python",
   "nbconvert_exporter": "python",
   "pygments_lexer": "ipython3",
   "version": "3.6.10"
  }
 },
 "nbformat": 4,
 "nbformat_minor": 4
}
